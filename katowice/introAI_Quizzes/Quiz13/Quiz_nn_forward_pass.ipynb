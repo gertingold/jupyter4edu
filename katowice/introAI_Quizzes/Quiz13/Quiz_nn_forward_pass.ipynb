{
 "cells": [
  {
   "cell_type": "markdown",
   "metadata": {
    "lang": "pl"
   },
   "source": [
    "# Warstwowa sieć neuronowa\n",
    "\n",
    "Rozważmy 3 warstwową sieć typu \"fully connected\".\n",
    "Niech liczba neuronów w warstwach wynosi \n",
    "\n",
    " - 3 na wejściu\n",
    " - 4 na pierwszej warstwie\n",
    " - 2 na drugiej warstwie\n",
    " - 3 na ostatnie warstwie (czyli wyjście jest 3 liczbami)\n",
    " \n",
    " \n",
    "\n",
    "$$\n",
    "\\sigma(x) = \\frac{1}{1+e^{-x}}\n",
    "$$\n",
    "\n",
    " - pierwsza warstwa: $y_1 = \\sigma( X\\cdot W^1 + b^1)$\n",
    " - druga warstwa: $y_2 = \\sigma( y_1\\cdot W^2 + b^2)$\n",
    " - trzecia warstwa: $y_3 = \\sigma( y_2\\cdot W^3 + b^3)$\n",
    " \n",
    " \n",
    "Zaimplementuj powyższe obliczenia używając zapisu macierzowego w numpy:\n",
    "\n",
    "`np.dot(x,W)+b` - odpowiada macierzowemu mnożeniu:  $x\\cdot W+b$, gdzie\n",
    "\n",
    " - $x$ jest wejściem - macierzą  wymiarze (shape) $n_{examples}\\times n_{inputs} $ \n",
    " - $W$ jest macierzą wag, każda kolumny odpowiadają neuronom: $n_{inputs} \\times n_{neurons}$\n",
    " - $b$ to bias, wektor o rozmiarze $n_{neurons}$ (po jednym dla każdego neuronu).\n",
    " \n",
    " \n"
   ]
  },
  {
   "cell_type": "markdown",
   "metadata": {
    "lang": "en"
   },
   "source": [
    "# Layered neural network\n",
    "\n",
    "Consider a 3-layer \"fully connected\" type network.\n",
    "Let the number of neurons in the layers be\n",
    "\n",
    " - 3 at the input\n",
    " - 4 on the first layer\n",
    " - 2 on the second layer\n",
    " - 3 on the last layer (i.e. the output is 3 numbers)\n",
    " \n",
    " \n",
    "\n",
    "$$\n",
    "\\sigma(x) = \\frac{1}{1+e^{-x}}\n",
    "$$\n",
    "\n",
    " - first layer: $y_1 = \\sigma( X\\cdot W^1 + b^1)$\n",
    " - second layer: $y_2 = \\sigma( y_1\\cdot W^2 + b^2)$\n",
    " - third layer: $y_3 = \\sigma( y_2\\cdot W^3 + b^3)$\n",
    " \n",
    " \n",
    "Implement the above calculations using the matrix notation in numpy:\n",
    "\n",
    "`e.g..dot (x, W) + b` - corresponds to matrix multiplication: $x\\cdot W+b$, where\n",
    "\n",
    " - $x$ is the input - shape matrix $n_{examples}\\times n_{inputs} $\n",
    " - $W$ is a weight matrix, each column corresponds to neurons: $n_{inputs} \\times n_{neurons}$\n",
    " - $b$ is bias, $n_{neurons}$ size vector (one for each neuron)."
   ]
  },
  {
   "cell_type": "code",
   "execution_count": null,
   "metadata": {
    "nbgrader": {
     "grade": false,
     "grade_id": "cell-e43a060a43e6cb39",
     "locked": true,
     "schema_version": 3,
     "solution": false
    }
   },
   "outputs": [],
   "source": [
    "import numpy as np "
   ]
  },
  {
   "cell_type": "markdown",
   "metadata": {
    "lang": "pl"
   },
   "source": [
    "### Zaimplementuj funkcję  aktywacji\n",
    "$$\n",
    "\\sigma(x) = \\frac{1}{1+e^{-x}}\n",
    "$$"
   ]
  },
  {
   "cell_type": "markdown",
   "metadata": {
    "lang": "en"
   },
   "source": [
    "### Implement the activation function\n",
    "$$\n",
    "\\sigma(x) = \\frac{1}{1+e^{-x}}\n",
    "$$"
   ]
  },
  {
   "cell_type": "code",
   "execution_count": null,
   "metadata": {
    "nbgrader": {
     "grade": false,
     "grade_id": "cell-94e1bd122cf3dccc",
     "locked": false,
     "schema_version": 3,
     "solution": true
    }
   },
   "outputs": [],
   "source": [
    "s = None\n",
    "### BEGIN SOLUTION\n",
    "s = lambda x:1/(1+np.exp(-x))\n",
    "### END SOLUTION"
   ]
  },
  {
   "cell_type": "code",
   "execution_count": null,
   "metadata": {
    "nbgrader": {
     "grade": true,
     "grade_id": "cell-0e836b6facb680cc",
     "locked": true,
     "points": 1,
     "schema_version": 3,
     "solution": false
    }
   },
   "outputs": [],
   "source": [
    "np.testing.assert_allclose(s(1.23),\n",
    "                           0.773818574,rtol=1e-4)"
   ]
  },
  {
   "cell_type": "code",
   "execution_count": null,
   "metadata": {
    "nbgrader": {
     "grade": true,
     "grade_id": "cell-b616ad0931f8ca71",
     "locked": true,
     "points": 1,
     "schema_version": 3,
     "solution": false
    }
   },
   "outputs": [],
   "source": [
    "np.testing.assert_allclose(s(np.array([1,2,3])),\n",
    "                           [0.73105858, 0.88079708, 0.95257413],rtol=1e-4)"
   ]
  },
  {
   "cell_type": "markdown",
   "metadata": {
    "lang": "pl"
   },
   "source": [
    "### Zainicjalizuj wagi\n",
    "\n",
    "Przypisz wagom z i-tej warstwy takie same wartości równe $0.1\\cdot i$   a bias-owi $0.2\\cdot i$."
   ]
  },
  {
   "cell_type": "markdown",
   "metadata": {
    "lang": "en"
   },
   "source": [
    "### Initialize the weights\n",
    "\n",
    "Assign balances from the i-th layer the same values ​​equal to $0.1\\cdot i$ and bias to $0.2\\cdot i$."
   ]
  },
  {
   "cell_type": "code",
   "execution_count": null,
   "metadata": {
    "nbgrader": {
     "grade": false,
     "grade_id": "cell-846e36eb9d573cb2",
     "locked": false,
     "schema_version": 3,
     "solution": true
    }
   },
   "outputs": [],
   "source": [
    "W1,b1 = None,None\n",
    "W2,b2 = None,None\n",
    "W3,b3 = None,None\n",
    "\n",
    "### BEGIN SOLUTION\n",
    "W1,b1 = 0.1*1*np.ones((3,4)),0.2*1*np.ones(4)\n",
    "W2,b2 = 0.1*2*np.ones((4,2)),0.2*2*np.ones(2)\n",
    "W3,b3 = 0.1*3*np.ones((2,3)),0.2*3*np.ones(3)\n",
    "### END SOLUTION"
   ]
  },
  {
   "cell_type": "code",
   "execution_count": null,
   "metadata": {
    "nbgrader": {
     "grade": true,
     "grade_id": "cell-6a4368616b5b59ee",
     "locked": true,
     "points": 1,
     "schema_version": 3,
     "solution": false
    }
   },
   "outputs": [],
   "source": [
    "assert W1.shape == (3,4)\n",
    "assert W2.shape == (4,2)\n",
    "assert W3.shape == (2,3)\n",
    "assert b1.shape[-1] == 4\n",
    "assert b2.shape[-1] == 2\n",
    "assert b3.shape[-1] == 3"
   ]
  },
  {
   "cell_type": "markdown",
   "metadata": {
    "lang": "pl",
    "nbgrader": {
     "grade": false,
     "grade_id": "cell-c44c64819f797763",
     "locked": true,
     "schema_version": 3,
     "solution": false
    }
   },
   "source": [
    "Na wejsciu mamy zestaw dwóch przykładów.\n",
    "Implementacja powinna przetworzyć poprawnie następujące dane:\n",
    "    "
   ]
  },
  {
   "cell_type": "markdown",
   "metadata": {
    "lang": "en",
    "nbgrader": {
     "grade": false,
     "grade_id": "cell-ecabb9ec9ce43675",
     "locked": true,
     "schema_version": 3,
     "solution": false,
     "task": false
    }
   },
   "source": [
    "At the input we have a set of two examples.\n",
    "The implementation should process the following data correctly:"
   ]
  },
  {
   "cell_type": "code",
   "execution_count": null,
   "metadata": {
    "nbgrader": {
     "grade": false,
     "grade_id": "cell-1b386bdbeff790d8",
     "locked": true,
     "schema_version": 3,
     "solution": false
    }
   },
   "outputs": [],
   "source": [
    "X = np.array([ [1,2,3],[1,0,0]])"
   ]
  },
  {
   "cell_type": "markdown",
   "metadata": {
    "lang": "pl",
    "nbgrader": {
     "grade": false,
     "grade_id": "cell-ed2140a811d9eeb2",
     "locked": true,
     "schema_version": 3,
     "solution": false,
     "task": false
    }
   },
   "source": [
    "### Zaimplementuj sieć\n"
   ]
  },
  {
   "cell_type": "markdown",
   "metadata": {
    "lang": "en",
    "nbgrader": {
     "grade": false,
     "grade_id": "cell-6c1537b233b53c99",
     "locked": true,
     "schema_version": 3,
     "solution": false,
     "task": false
    }
   },
   "source": [
    "### Implement the network"
   ]
  },
  {
   "cell_type": "code",
   "execution_count": null,
   "metadata": {
    "nbgrader": {
     "grade": false,
     "grade_id": "cell-7eaeccfa6742b05b",
     "locked": false,
     "schema_version": 3,
     "solution": true
    }
   },
   "outputs": [],
   "source": [
    "\n",
    "y1 = None # Wyjscie z pierwszej warstwy\n",
    "y2 = None\n",
    "y3 = None\n",
    "\n",
    "\n",
    "### BEGIN SOLUTION\n",
    "\n",
    "z1 = X.dot(W1) + b1\n",
    "y1 = s(z1)\n",
    "\n",
    "z2 = y1.dot(W2) + b2\n",
    "y2 = s(z2)\n",
    "\n",
    "z3 = y2.dot(W3) + b3\n",
    "y3 = s(z3)\n",
    "\n",
    "### END SOLUTION\n"
   ]
  },
  {
   "cell_type": "code",
   "execution_count": null,
   "metadata": {
    "nbgrader": {
     "grade": true,
     "grade_id": "cell-39474c51afdda396",
     "locked": true,
     "points": 1,
     "schema_version": 3,
     "solution": false
    }
   },
   "outputs": [],
   "source": [
    "np.testing.assert_allclose(y3,[[0.73747926, 0.73747926, 0.73747926],\n",
    "       [0.73527256, 0.73527256, 0.73527256]],rtol=1e-4)\n",
    "\n",
    "y2.shape == (2,2)\n",
    "y1.shape == (2,4)"
   ]
  }
 ],
 "metadata": {
  "celltoolbar": "Create Assignment",
  "kernelspec": {
   "display_name": "Python 3",
   "language": "python",
   "name": "python3"
  },
  "language_info": {
   "codemirror_mode": {
    "name": "ipython",
    "version": 3
   },
   "file_extension": ".py",
   "mimetype": "text/x-python",
   "name": "python",
   "nbconvert_exporter": "python",
   "pygments_lexer": "ipython3",
   "version": "3.7.3"
  },
  "nbTranslate": {
   "displayLangs": [
    "pl",
    "en"
   ],
   "hotkey": "alt-t",
   "langInMainMenu": true,
   "sourceLang": "pl",
   "targetLang": "en",
   "useGoogleTranslate": true
  }
 },
 "nbformat": 4,
 "nbformat_minor": 2
}
