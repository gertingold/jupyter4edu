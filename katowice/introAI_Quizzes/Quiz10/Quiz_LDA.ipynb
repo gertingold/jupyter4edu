{
 "cells": [
  {
   "cell_type": "markdown",
   "metadata": {
    "lang": "pl",
    "nbgrader": {
     "grade": false,
     "grade_id": "cell-90538625f2b6086f",
     "locked": true,
     "schema_version": 3,
     "solution": false
    }
   },
   "source": [
    "## Liniowa analiza dyskryminacyjna Fishera\n",
    "\n",
    "\n",
    "Idea - maksymalizacja stosunku wariancji:\n",
    "\n",
    "\n",
    "$$ \\frac{\\sigma_b^2}{\\sigma_w^2}$$\n",
    "\n",
    "\n",
    "Niech $S_b$ będzie macierzą kowariancji (lub scatter matrix) pomiędzy klasami\n",
    "\n",
    "$$S_b= \\sum_c N_c \\left(\\mu_c-\\mu\\right) \\left(\\mu_c-\\mu\\right)^T$$\n",
    "\n",
    "gdzie $\\mu_c$ oznacza średni wektor cech w obrębie jednej klasy $c$ o liczebności $N_c$.\n",
    "\n",
    "\n",
    "Niech $S_{wc}$ będzie macierzą kowariancji (lub scatter matrix) wewnątrz  klasy:\n",
    "\n",
    "$$S_{wc}= \\frac{1}{N_c-1}\\sum_{i\\in c} \\left(x_i-\\mu_c\\right) \\left(x_i-\\mu_c\\right)^T$$\n",
    "\n",
    "gdzie $\\mu_i$ oznacza średni wektor cech w obrębie jednej klasy o liczebności $N_c$.\n",
    "\n",
    "Interesuje nas suma takich macierzy:\n",
    "\n",
    "$$S_w= \\sum_c S_{wc}  = \\sum_c\\frac{1}{N_c-1}\\sum_{i\\in c} \\left(x_i-\\mu_c\\right) \\left(x_i-\\mu_c\\right)^T$$\n",
    "\n",
    "\n",
    "Analiza dyskryminacyjna Fishera poszukuje takich wektorów $\\mathbf{w}$, które maksymalizują:\n",
    "\n",
    "$$ J = \\frac{\\mathbf{w}^T S_b\\mathbf{w}}{\\mathbf{w}^T S_w\\mathbf{w}}.$$\n",
    "\n",
    "Ponieważ $J$ jest niezmiennicze względem skalowania $\\mathbf{w}\\to\\alpha\\mathbf{w}$, to możemy ograniczyć się do takich $\\mathbf{w}$, że $\\mathbf{w}^T S_w\\mathbf{w}=1$. Wtedy mamy zagadnienie minimalizacyjne:\n",
    "\n",
    "$$  \\mathrm{min}_\\mathbf{w}  -\\mathbf{w}^T S_b\\mathbf{w} \\\\\n",
    "  \\mathbf{w}^T S_w\\mathbf{w} = 1 $$\n",
    "\n",
    "Stosując mnożniki Lagrange'a mamy:\n",
    "\n",
    "$$L = -\\frac{1}{2} \\mathbf{w}^T S_b\\mathbf{w} + \\frac{1}{2} \\lambda \\left(\\mathbf{w}^T S_w\\mathbf{w} - 1\\right)  $$\n",
    "\n",
    "$$\n",
    "\\frac{\\partial L}{\\partial \\mathbf{w}} = -S_b\\mathbf{w} + \\lambda  S_w\\mathbf{w} = 0\n",
    "$$\n",
    "\n",
    "czyli:\n",
    "\n",
    "$$\n",
    " S_b\\mathbf{w} = \\lambda  S_w\\mathbf{w} \n",
    "$$\n",
    "\n",
    "Powyższe wyrażenie jest tzw. uogólnionym zagadnieniem własnym. Jeśli istnieje macierz odwrotna $S_w^{-1}$ to można je sprowadzić do:\n",
    "\n",
    "\n",
    "$$\n",
    " S_w^{-1} S_b\\mathbf{w} = \\lambda  \\mathbf{w} \n",
    "$$\n",
    "\n",
    "\n"
   ]
  },
  {
   "cell_type": "markdown",
   "metadata": {
    "lang": "en"
   },
   "source": [
    "## Fisher's Linear Discriminant Analysis\n",
    "\n",
    "\n",
    "Idea - maximizing the ratio of variance:\n",
    "\n",
    "\n",
    "$$ \\frac{\\sigma_b^2}{\\sigma_w^2}$$\n",
    "\n",
    "\n",
    "Let $S_b$ be the covariance matrix (or scatter matrix) between classes\n",
    "\n",
    "$$S_b= \\sum_c N_c \\left(\\mu_c-\\mu\\right) \\left(\\mu_c-\\mu\\right)^T$$\n",
    "\n",
    "where $\\mu_c$ is the average vector of traits within one $c$ class with the number $N_c$.\n",
    "\n",
    "\n",
    "Let $S_{wc}$ be a covariance matrix (or scatter matrix) within the class:\n",
    "\n",
    "$$S_{wc}= \\frac{1}{N_c-1}\\sum_{i\\in c} \\left(x_i-\\mu_c\\right) \\left(x_i-\\mu_c\\right)^T$$\n",
    "\n",
    "where $\\mu_i$ is the average vector of traits within one class of $N_c$.\n",
    "\n",
    "We are interested in the sum of such matrices:\n",
    "\n",
    "$$S_w= \\sum_c S_{wc}  = \\sum_c\\frac{1}{N_c-1}\\sum_{i\\in c} \\left(x_i-\\mu_c\\right) \\left(x_i-\\mu_c\\right)^T$$\n",
    "\n",
    "\n",
    "Fisher's discriminant analysis looks for such $\\mathbf{w}$ vectors that maximize:\n",
    "\n",
    "$$ J = \\frac{\\mathbf{w}^T S_b\\mathbf{w}}{\\mathbf{w}^T S_w\\mathbf{w}}.$$\n",
    "\n",
    "Since $J$ is invariant with respect to $\\mathbf{w}\\to\\alpha\\mathbf{w}$ scaling, we can limit ourselves to such $\\mathbf{w}$ that $\\mathbf{w}^T S_w\\mathbf{w}=1$. Then we have the minimizing issue:\n",
    "\n",
    "$$  \\mathrm{min}_\\mathbf{w}  -\\mathbf{w}^T S_b\\mathbf{w} \\\\\n",
    "  \\mathbf{w}^T S_w\\mathbf{w} = 1 $$\n",
    "\n",
    "Using Lagrange multipliers we have:\n",
    "\n",
    "$$L = -\\frac{1}{2} \\mathbf{w}^T S_b\\mathbf{w} + \\frac{1}{2} \\lambda \\left(\\mathbf{w}^T S_w\\mathbf{w} - 1\\right)  $$\n",
    "\n",
    "$$\n",
    "\\frac{\\partial L}{\\partial \\mathbf{w}} = -S_b\\mathbf{w} + \\lambda  S_w\\mathbf{w} = 0\n",
    "$$\n",
    "\n",
    "or:\n",
    "\n",
    "$$\n",
    " S_b\\mathbf{w} = \\lambda  S_w\\mathbf{w} \n",
    "$$\n",
    "\n",
    "The above expression is called generalized own issue. If the inverse of $S_w^{-1}$ exists, it can be reduced to:\n",
    "\n",
    "\n",
    "$$\n",
    " S_w^{-1} S_b\\mathbf{w} = \\lambda  \\mathbf{w} \n",
    "$$"
   ]
  },
  {
   "cell_type": "code",
   "execution_count": null,
   "metadata": {
    "nbgrader": {
     "grade": false,
     "grade_id": "cell-ad24f11dad00af1b",
     "locked": true,
     "schema_version": 3,
     "solution": false
    }
   },
   "outputs": [],
   "source": [
    "%matplotlib inline \n",
    "import matplotlib.pyplot as plt\n",
    "import numpy as np "
   ]
  },
  {
   "cell_type": "code",
   "execution_count": null,
   "metadata": {
    "nbgrader": {
     "grade": false,
     "grade_id": "cell-cbbfc801be37c1f3",
     "locked": true,
     "schema_version": 3,
     "solution": false
    }
   },
   "outputs": [],
   "source": [
    "from sklearn.datasets import load_wine\n",
    "data = load_wine()\n",
    "X = data.data\n",
    "y = data.target"
   ]
  },
  {
   "cell_type": "markdown",
   "metadata": {
    "lang": "pl",
    "nbgrader": {
     "grade": false,
     "grade_id": "cell-981b254f7b2a32b1",
     "locked": true,
     "schema_version": 3,
     "solution": false
    }
   },
   "source": [
    "### Wyznacz liczbę klas "
   ]
  },
  {
   "cell_type": "markdown",
   "metadata": {
    "lang": "en"
   },
   "source": [
    "### Determine the number of classes"
   ]
  },
  {
   "cell_type": "code",
   "execution_count": null,
   "metadata": {
    "nbgrader": {
     "grade": false,
     "grade_id": "cell-c5176a6d5ee29e84",
     "locked": false,
     "schema_version": 3,
     "solution": true
    }
   },
   "outputs": [],
   "source": [
    "classes = [2,3,4,5,6] # niepoprawne \n",
    "\n",
    "### BEGIN SOLUTION\n",
    "classes = np.unique(y)\n",
    "### END SOLUTION\n"
   ]
  },
  {
   "cell_type": "code",
   "execution_count": null,
   "metadata": {
    "nbgrader": {
     "grade": true,
     "grade_id": "cell-f5e8349da78dfd8e",
     "locked": true,
     "points": 1,
     "schema_version": 3,
     "solution": false
    }
   },
   "outputs": [],
   "source": [
    "assert len(classes) == 3"
   ]
  },
  {
   "cell_type": "markdown",
   "metadata": {
    "lang": "pl",
    "nbgrader": {
     "grade": false,
     "grade_id": "cell-5f394d96c05137c4",
     "locked": true,
     "schema_version": 3,
     "solution": false
    }
   },
   "source": [
    "### Oblicz macierze kowariancji wewnątrzklasowe\n",
    "\n",
    "Oblicz dla przykładów z każdej klasy macierz kowariancji (np. użyj `np.cov`) a nastęmnie ich sumę $S_w$.\n",
    "\n",
    "$$S_w= \\sum_c\\underbrace{\\frac{1}{N_c-1}\\sum_{i\\in c} \\left(x_i-\\mu_c\\right) \\left(x_i-\\mu_c\\right)^T}_{\\mathrm{np.cov}}$$\n",
    "\n"
   ]
  },
  {
   "cell_type": "markdown",
   "metadata": {
    "lang": "en"
   },
   "source": [
    "### Calculate in-class covariance matrices\n",
    "\n",
    "Calculate the covariance matrix for the examples from each class (e.g. use `e.g. cov`) and then their sum $S_w$.\n",
    "\n",
    "$$S_w= \\sum_c\\underbrace{\\frac{1}{N_c-1}\\sum_{i\\in c} \\left(x_i-\\mu_c\\right) \\left(x_i-\\mu_c\\right)^T}_{\\mathrm{np.cov}}$$"
   ]
  },
  {
   "cell_type": "code",
   "execution_count": null,
   "metadata": {
    "nbgrader": {
     "grade": false,
     "grade_id": "cell-d71e44530780c7c0",
     "locked": false,
     "schema_version": 3,
     "solution": true
    }
   },
   "outputs": [],
   "source": [
    "Sw = None\n",
    "### BEGIN SOLUTION\n",
    "Sw = sum([ np.cov(X[y==c_].T) for c_ in classes] )\n",
    "### END SOLUTION"
   ]
  },
  {
   "cell_type": "code",
   "execution_count": null,
   "metadata": {},
   "outputs": [],
   "source": []
  },
  {
   "cell_type": "code",
   "execution_count": null,
   "metadata": {
    "nbgrader": {
     "grade": true,
     "grade_id": "cell-edb8c8f270a8f1d4",
     "locked": true,
     "points": 2,
     "schema_version": 3,
     "solution": false
    }
   },
   "outputs": [],
   "source": [
    "assert Sw.shape == (13,13)\n",
    "np.testing.assert_allclose(Sw[1,2],0.055372, rtol=1e-3)"
   ]
  },
  {
   "cell_type": "markdown",
   "metadata": {
    "lang": "pl"
   },
   "source": [
    "### Oblicz macierz kowariancji pomiędzy klasami\n",
    "\n",
    "\n",
    "Niech $S_b$ będzie macierzą kowariancji (lub  scatter matrix) pomiędzy klasami\n",
    "\n",
    "$$S_b= \\sum_c N_c \\left(\\mu_c-\\mu\\right) \\left(\\mu_c-\\mu\\right)^T$$\n",
    "\n",
    "gdzie $\\mu_c$ oznacza średni wektor cech w obrębie jednej klasy $c$ o liczebności $N_c$.\n",
    "\n"
   ]
  },
  {
   "cell_type": "markdown",
   "metadata": {
    "lang": "en"
   },
   "source": [
    "### Calculate the covariance matrix between classes\n",
    "\n",
    "\n",
    "Let $S_b$ be the covariance matrix (or scatter matrix) between classes\n",
    "\n",
    "$$S_b= \\sum_c N_c \\left(\\mu_c-\\mu\\right) \\left(\\mu_c-\\mu\\right)^T$$\n",
    "\n",
    "where $\\mu_c$ is the average feature vector within one $c$ class with $N_c$ abundance."
   ]
  },
  {
   "cell_type": "code",
   "execution_count": null,
   "metadata": {},
   "outputs": [],
   "source": [
    "#mu_c = [np.mean(X[y==c_], axis=0) for c_ in classes] "
   ]
  },
  {
   "cell_type": "code",
   "execution_count": null,
   "metadata": {
    "nbgrader": {
     "grade": false,
     "grade_id": "cell-09377df7f59f6c37",
     "locked": true,
     "schema_version": 3,
     "solution": false
    }
   },
   "outputs": [],
   "source": [
    "mu = np.mean(X, axis=0)\n",
    "mu"
   ]
  },
  {
   "cell_type": "code",
   "execution_count": null,
   "metadata": {
    "nbgrader": {
     "grade": false,
     "grade_id": "cell-27da16f7383144b7",
     "locked": false,
     "schema_version": 3,
     "solution": true
    }
   },
   "outputs": [],
   "source": [
    "mu = np.mean(X, axis=0)\n",
    "Sc = None \n",
    "### BEGIN SOLUTION\n",
    "Sc = sum( \n",
    "    np.sum(y==c_) * np.outer(np.mean(X[y==c_],axis=0)-mu,\n",
    "                             np.mean(X[y==c_],axis=0)-mu) \n",
    "    for c_ in classes)\n",
    " ### END SOLUTION                                     \n",
    "                                                                      \n",
    "                                      "
   ]
  },
  {
   "cell_type": "code",
   "execution_count": null,
   "metadata": {
    "nbgrader": {
     "grade": true,
     "grade_id": "cell-10ace83f37caa115",
     "locked": true,
     "points": 3,
     "schema_version": 3,
     "solution": false
    }
   },
   "outputs": [],
   "source": [
    "np.testing.assert_allclose(Sc[3,1],117.92843036,rtol=1e-3)\n",
    "assert Sc.shape == (13,13)\n"
   ]
  },
  {
   "cell_type": "code",
   "execution_count": null,
   "metadata": {},
   "outputs": [],
   "source": []
  },
  {
   "cell_type": "markdown",
   "metadata": {
    "lang": "pl"
   },
   "source": [
    "### Wartości własne\n",
    "\n",
    "Oblicz wartości własne macierzy:  \n",
    "\n",
    "$$\n",
    " S_w^{-1} S_b\n",
    "$$\n",
    "\n",
    "i odpowiadające im wektory własne.\n",
    "\n",
    "1. Zastosuj ` np.linalg.eig`, oraz `np.linalg.inv`.\n",
    "2. Otrzymane wartości mogą zawierać część urojoną, użyj np. `np.real_if_close` by wyzerować części urojone.\n"
   ]
  },
  {
   "cell_type": "markdown",
   "metadata": {
    "lang": "en"
   },
   "source": [
    "### Eigenvalues\n",
    "\n",
    "Calculate the eigenvalues ​​of the matrix:\n",
    "\n",
    "$$\n",
    " S_w^{-1} S_b\n",
    "$$\n",
    "\n",
    "and corresponding eigenvectors.\n",
    "\n",
    "1. Use `e.g. linalg.eig` and` e.g. linalg.inv`.\n",
    "2. The resulting values ​​may contain an imaginary part, use e.g. `realreal _if_ close` to reset the imaginary parts."
   ]
  },
  {
   "cell_type": "code",
   "execution_count": null,
   "metadata": {
    "nbgrader": {
     "grade": false,
     "grade_id": "cell-c7d7eaa0120ea9a7",
     "locked": false,
     "schema_version": 3,
     "solution": true
    }
   },
   "outputs": [],
   "source": [
    "lam, v = None, None\n",
    "### BEGIN SOLUTION\n",
    "\n",
    "lam, v = np.linalg.eig(np.linalg.inv(Sw).dot(Sc))\n",
    "                           \n",
    "lam = np.real_if_close(lam)\n",
    "\n",
    "### END SOLUTION                                     \n",
    "\n",
    "lam"
   ]
  },
  {
   "cell_type": "code",
   "execution_count": null,
   "metadata": {
    "nbgrader": {
     "grade": true,
     "grade_id": "cell-a0f42bff13ff8692",
     "locked": true,
     "points": 1,
     "schema_version": 3,
     "solution": false
    }
   },
   "outputs": [],
   "source": [
    "assert lam.shape ==(13,)\n",
    "np.testing.assert_allclose(np.max(lam), 546, rtol=1e-2 )"
   ]
  },
  {
   "cell_type": "markdown",
   "metadata": {
    "lang": "pl",
    "nbgrader": {
     "grade": false,
     "grade_id": "cell-36b90a4abd6c6ae8",
     "locked": true,
     "schema_version": 3,
     "solution": false
    }
   },
   "source": [
    "### Operator rzutowania na podprzestrzeń\n",
    "\n",
    "\n",
    "Posortuj wektory własne według malejących wartości własnych. \n",
    "\n",
    "Zbuduj operator $W$ będący macierzą $(2,13)$ składający się z dwóch wektorów własnych odpowiadających największym wartościom własnym."
   ]
  },
  {
   "cell_type": "markdown",
   "metadata": {
    "lang": "en"
   },
   "source": [
    "### Subspace projection operator\n",
    "\n",
    "\n",
    "Sort eigenvectors by decreasing eigenvalues.\n",
    "\n",
    "Build the $W$ operator, which is the $(2,13)$ matrix, consisting of two eigenvectors corresponding to the largest eigenvalues."
   ]
  },
  {
   "cell_type": "code",
   "execution_count": null,
   "metadata": {
    "nbgrader": {
     "grade": false,
     "grade_id": "cell-c379aca4f1f193d1",
     "locked": false,
     "schema_version": 3,
     "solution": true
    }
   },
   "outputs": [],
   "source": [
    "idx = [1,2] # niepoprawne \n",
    "### BEGIN SOLUTION\n",
    "\n",
    "idx = np.argsort(lam)[-2:][::-1]\n",
    "\n",
    "### END SOLUTION                                     \n"
   ]
  },
  {
   "cell_type": "code",
   "execution_count": null,
   "metadata": {
    "nbgrader": {
     "grade": true,
     "grade_id": "cell-d64bf65963bbb26d",
     "locked": true,
     "points": 1,
     "schema_version": 3,
     "solution": false
    }
   },
   "outputs": [],
   "source": [
    "np.testing.assert_allclose(lam[idx],[546.41649425, 243.23261924],rtol=1e-2)"
   ]
  },
  {
   "cell_type": "code",
   "execution_count": null,
   "metadata": {},
   "outputs": [],
   "source": []
  },
  {
   "cell_type": "code",
   "execution_count": null,
   "metadata": {
    "nbgrader": {
     "grade": false,
     "grade_id": "cell-f907779ccefba7c5",
     "locked": false,
     "schema_version": 3,
     "solution": true
    }
   },
   "outputs": [],
   "source": [
    "W = None \n",
    "\n",
    "### BEGIN SOLUTION\n",
    "W = np.real_if_close(v[:,idx]).astype(np.float)\n",
    "W = W.T\n",
    "### END SOLUTION                                     \n",
    "\n"
   ]
  },
  {
   "cell_type": "code",
   "execution_count": null,
   "metadata": {
    "nbgrader": {
     "grade": true,
     "grade_id": "cell-27c1df6193b957e6",
     "locked": true,
     "points": 2,
     "schema_version": 3,
     "solution": false
    }
   },
   "outputs": [],
   "source": [
    "np.testing.assert_allclose(np.abs(W[:,:3]),[[0.13138292,  0.05322257, 0.12283844],[0.24550374, 0.07699549, 0.67155662]], rtol=1e-2)\n",
    "\n",
    "assert W.shape == (2,13)"
   ]
  },
  {
   "cell_type": "markdown",
   "metadata": {
    "lang": "pl"
   },
   "source": [
    "### Wizualizacja wyniku\n",
    "\n",
    "Operacja rzutowania może być w numpy zapisana jako `X.dot(W.T)`, więc w zredukowanej przestrzeni mamy:"
   ]
  },
  {
   "cell_type": "markdown",
   "metadata": {
    "lang": "en"
   },
   "source": [
    "### Result visualization\n",
    "\n",
    "The cast operation can be written as `X.dot (W.T)` in numpy, so in a reduced space we have:"
   ]
  },
  {
   "cell_type": "code",
   "execution_count": null,
   "metadata": {},
   "outputs": [],
   "source": [
    "plt.scatter( X.dot(W.T)[:,0],X.dot(W.T)[:,1],c=y)"
   ]
  },
  {
   "cell_type": "markdown",
   "metadata": {
    "lang": "pl"
   },
   "source": [
    "### Porównaj wynik z `sklearn`"
   ]
  },
  {
   "cell_type": "markdown",
   "metadata": {
    "lang": "en"
   },
   "source": [
    "### Compare the result with `sklearn`"
   ]
  },
  {
   "cell_type": "code",
   "execution_count": null,
   "metadata": {},
   "outputs": [],
   "source": [
    "from sklearn.discriminant_analysis import LinearDiscriminantAnalysis\n",
    "\n",
    "lda = LinearDiscriminantAnalysis(n_components=2, solver='eigen')\n",
    "X_r2 = lda.fit(X, y).transform(X)\n",
    "plt.scatter( X_r2[:,0],X_r2[:,1],c=y)"
   ]
  },
  {
   "cell_type": "code",
   "execution_count": null,
   "metadata": {},
   "outputs": [],
   "source": []
  },
  {
   "cell_type": "code",
   "execution_count": null,
   "metadata": {},
   "outputs": [],
   "source": []
  },
  {
   "cell_type": "code",
   "execution_count": null,
   "metadata": {},
   "outputs": [],
   "source": []
  },
  {
   "cell_type": "code",
   "execution_count": null,
   "metadata": {},
   "outputs": [],
   "source": []
  }
 ],
 "metadata": {
  "celltoolbar": "Create Assignment",
  "kernelspec": {
   "display_name": "Python 3",
   "language": "python",
   "name": "python3"
  },
  "language_info": {
   "codemirror_mode": {
    "name": "ipython",
    "version": 3
   },
   "file_extension": ".py",
   "mimetype": "text/x-python",
   "name": "python",
   "nbconvert_exporter": "python",
   "pygments_lexer": "ipython3",
   "version": "3.7.3"
  },
  "nbTranslate": {
   "displayLangs": [
    "en",
    "pl"
   ],
   "hotkey": "alt-t",
   "langInMainMenu": true,
   "sourceLang": "pl",
   "targetLang": "en",
   "useGoogleTranslate": true
  },
  "toc": {
   "base_numbering": 1,
   "nav_menu": {},
   "number_sections": true,
   "sideBar": true,
   "skip_h1_title": false,
   "title_cell": "Table of Contents",
   "title_sidebar": "Contents",
   "toc_cell": false,
   "toc_position": {},
   "toc_section_display": true,
   "toc_window_display": false
  }
 },
 "nbformat": 4,
 "nbformat_minor": 2
}
