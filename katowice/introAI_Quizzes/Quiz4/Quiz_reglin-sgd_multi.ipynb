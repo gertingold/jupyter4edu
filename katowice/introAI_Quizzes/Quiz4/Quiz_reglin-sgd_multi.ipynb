{
 "cells": [
  {
   "cell_type": "markdown",
   "metadata": {
    "lang": "pl",
    "nbgrader": {
     "grade": false,
     "grade_id": "cell-c6807741c0de771a",
     "locked": true,
     "schema_version": 3,
     "solution": false
    }
   },
   "source": [
    "# Regresja liniowa wielu zmiennych\n",
    "\n"
   ]
  },
  {
   "cell_type": "markdown",
   "metadata": {
    "lang": "en"
   },
   "source": [
    "# Linear regression of many variables"
   ]
  },
  {
   "cell_type": "code",
   "execution_count": null,
   "metadata": {
    "nbgrader": {
     "grade": false,
     "grade_id": "cell-0ea66fab73cc3d33",
     "locked": true,
     "schema_version": 3,
     "solution": false
    }
   },
   "outputs": [],
   "source": [
    "%matplotlib notebook \n",
    "import numpy as np \n",
    "from time import sleep\n",
    "import matplotlib.pyplot as plt\n",
    "\n",
    "\n",
    "x = np.array([-2.29399323, -1.43363036, -0.52468804])\n",
    "y = np.array([-7.77733551, -2.70740336, -2.41251556,])\n",
    "m = x.shape[0]\n"
   ]
  },
  {
   "cell_type": "markdown",
   "metadata": {
    "lang": "pl",
    "nbgrader": {
     "grade": false,
     "grade_id": "cell-90ba3def1b18d569",
     "locked": true,
     "schema_version": 3,
     "solution": false
    }
   },
   "source": [
    "Tworzymy  z potęg $x$ sztuczne cechy $x^2,x^3,...$. \n",
    "\n",
    "Chcemy rozwiązać problem regresji liniowej wielu zmiennych - czyli dopasowania funkcji liniowej wielu zmiennych do danych.\n",
    "\n",
    "$$y_i = \\sum_j w_j x_{ij} + b$$\n",
    "\n",
    "\n",
    " - $N$ to wymiar przestrzeni cech\n",
    " - $m$ - liczba przykładów"
   ]
  },
  {
   "cell_type": "markdown",
   "metadata": {
    "lang": "en"
   },
   "source": [
    "We create $x^2,x^3,...$ artificial features from the powers of $x$.\n",
    "\n",
    "We want to solve the problem of linear regression of many variables - that is, matching the linear function of many variables to data.\n",
    "\n",
    "$$y_i = \\sum_j w_j x_{ij} + b$$\n",
    "\n",
    "\n",
    " - $N$ is the dimension of the feature space\n",
    " - $m$ - number of examples"
   ]
  },
  {
   "cell_type": "code",
   "execution_count": null,
   "metadata": {},
   "outputs": [],
   "source": [
    "N = 2\n",
    "X = np.stack([x**i for i in range(1,N+1)]).T\n",
    "X_orig = X.copy()\n",
    "y_orig = y.copy()\n",
    "X.shape"
   ]
  },
  {
   "cell_type": "code",
   "execution_count": null,
   "metadata": {
    "nbgrader": {
     "grade": false,
     "grade_id": "cell-c17f3b391351b636",
     "locked": true,
     "schema_version": 3,
     "solution": false
    }
   },
   "outputs": [],
   "source": [
    "w, b = np.ones(N), 0.1\n",
    "w"
   ]
  },
  {
   "cell_type": "markdown",
   "metadata": {
    "lang": "pl"
   },
   "source": [
    "## Funkcja straty\n",
    "\n",
    "Funkcją straty będzie suma kwadratów odchyleń przewidywania modelu od rzeczywistej wartości:\n",
    "\n",
    "$$ L = \\frac{1}{2m} \\sum_{i=0}^{m-1} ( \\sum_{j=0}^{N-1} w_j x_{ij} +b - y_i)^2$$\n",
    "\n",
    "### Exercise 1:  zaimplementuj powyższą funkcję straty"
   ]
  },
  {
   "cell_type": "code",
   "execution_count": null,
   "metadata": {
    "nbgrader": {
     "grade": false,
     "grade_id": "cell-9d769269946a18db",
     "locked": false,
     "schema_version": 3,
     "solution": true
    }
   },
   "outputs": [],
   "source": [
    "L = None\n",
    "### BEGIN SOLUTION\n",
    "L = lambda w,b: 0.5/m*np.sum( (np.dot(X,w)+b-y)**2 )\n",
    "### END SOLUTION\n"
   ]
  },
  {
   "cell_type": "code",
   "execution_count": null,
   "metadata": {
    "nbgrader": {
     "grade": true,
     "grade_id": "cell-793e6605ffd2e7e1",
     "locked": true,
     "points": 1,
     "schema_version": 3,
     "solution": false
    }
   },
   "outputs": [],
   "source": [
    "np.testing.assert_approx_equal(L(np.array([1,2]),3),76.863,significant=3)"
   ]
  },
  {
   "cell_type": "markdown",
   "metadata": {
    "lang": "pl",
    "nbgrader": {
     "grade": false,
     "grade_id": "cell-f8bd98ef0ec8b7a4",
     "locked": true,
     "schema_version": 3,
     "solution": false
    }
   },
   "source": [
    "### Zadanie 2\n",
    "\n",
    "Zaimplementuj gradienty\n",
    "\n",
    "$$\\frac{\\partial L}{\\partial w_j} = \\frac{\\partial  \\frac{1}{2m} \\sum_{i=0}^{m-1} (w\\cdot x_i+b - y_i)^2}{\\partial w_j}  = \n",
    "\\frac{1}{m} \\sum_{i=0}^{m-1} (w \\cdot x_i+b - y_i)  x_{ij}\n",
    "$$\n",
    "\n",
    "$$\\frac{\\partial L}{\\partial b} = \\frac{\\partial  \\frac{1}{2} \\sum_{i=0}^{m-1} (w\\cdot x_i+b - y_i)^2}{\\partial b}  = \n",
    "\\frac{1}{m} \\sum_{i=0}^{m-1} (w\\cdot x_i+b - y_i)  \n",
    "$$\n",
    "\n",
    "- $w\\cdot x_i $ oznacza iloczyn skalarny wag i cech dla $i$-tego przykładu\n",
    "\n"
   ]
  },
  {
   "cell_type": "markdown",
   "metadata": {
    "lang": "en"
   },
   "source": [
    "### Exercise 2\n",
    "\n",
    "Implement gradients\n",
    "\n",
    "$$\\frac{\\partial L}{\\partial w_j} = \\frac{\\partial  \\frac{1}{2m} \\sum_{i=0}^{m-1} (w\\cdot x_i+b - y_i)^2}{\\partial w_j}  = \n",
    "\\frac{1}{m} \\sum_{i=0}^{m-1} (w \\cdot x_i+b - y_i)  x_{ij}\n",
    "$$\n",
    "\n",
    "$$\\frac{\\partial L}{\\partial b} = \\frac{\\partial  \\frac{1}{2} \\sum_{i=0}^{m-1} (w\\cdot x_i+b - y_i)^2}{\\partial b}  = \n",
    "\\frac{1}{m} \\sum_{i=0}^{m-1} (w\\cdot x_i+b - y_i)  \n",
    "$$\n",
    "\n",
    "- $w\\cdot x_i $ means the scalar product of weights and features for $i$-th example"
   ]
  },
  {
   "cell_type": "code",
   "execution_count": null,
   "metadata": {
    "nbgrader": {
     "grade": false,
     "grade_id": "cell-efaae9a2256d0f4c",
     "locked": false,
     "schema_version": 3,
     "solution": true
    }
   },
   "outputs": [],
   "source": [
    "w, b = np.ones(N), 0.1\n",
    "\n",
    "### BEGIN SOLUTION\n",
    "dw = 1/m*((np.dot(X,w)+b-y).dot(X)) #+ 0.0*w\n",
    "db = 1/m*np.sum(np.dot(X,w)+b-y)\n",
    "### END SOLUTION\n",
    "dw,db"
   ]
  },
  {
   "cell_type": "code",
   "execution_count": null,
   "metadata": {
    "nbgrader": {
     "grade": true,
     "grade_id": "cell-32a631f720536d30",
     "locked": true,
     "points": 2,
     "schema_version": 3,
     "solution": false
    }
   },
   "outputs": [],
   "source": [
    "np.testing.assert_approx_equal(db,5.5126470959062,significant=4)\n",
    "np.testing.assert_allclose(dw,np.array([-10.32784093,21.58183278]))"
   ]
  },
  {
   "cell_type": "code",
   "execution_count": null,
   "metadata": {},
   "outputs": [],
   "source": [
    "alpha = 0.1\n",
    "w, b = np.ones(N), 0.1\n",
    "\n",
    "plt.plot(X[:,0],y,'b.')\n",
    "xlin = np.linspace(-3,0,55)\n",
    "Xlin = np.stack([xlin**i for i in range(1,N+1)]).T\n",
    "l = plt.plot(xlin,np.dot(Xlin,w)+b,'r-')[0]\n",
    "ax = plt.gca()\n",
    "fig = plt.gcf()\n",
    "ax.set_ylim(-15,3)"
   ]
  },
  {
   "cell_type": "code",
   "execution_count": null,
   "metadata": {
    "nbgrader": {
     "grade": false,
     "grade_id": "cell-6ec1ed32b1a7bf1d",
     "locked": false,
     "schema_version": 3,
     "solution": true
    }
   },
   "outputs": [],
   "source": [
    "n = m # m all, n subset\n",
    "alpha = .02\n",
    "w, b = np.ones(N), 0.1\n",
    "for i in range(20000):    \n",
    "    ith = np.random.choice(m,n,replace=False)\n",
    "\n",
    "    X = X_orig[ith,:]\n",
    "    y = y_orig[ith]\n",
    "    dw,db = None,None\n",
    "### BEGIN SOLUTION\n",
    "    dw = 1/n*(np.dot(X,w)+b-y).dot(X) + 0.0*w\n",
    "    db = 1/n*np.sum(np.dot(X,w)+b-y)\n",
    "### END SOLUTION\n",
    "\n",
    "    w = w - alpha*dw\n",
    "    b = b - alpha*db\n",
    "    \n",
    "    if i%100==0:\n",
    "        l.set_data(xlin,np.dot(Xlin,w)+b)\n",
    "        fig.canvas.draw()\n",
    "        print(np.sum(w**2),b,L(w,b),end='\\r')\n",
    "    #sleep(0.1)"
   ]
  },
  {
   "cell_type": "markdown",
   "metadata": {
    "lang": "pl"
   },
   "source": [
    "### Rozwiązanie dokładne"
   ]
  },
  {
   "cell_type": "markdown",
   "metadata": {
    "lang": "en"
   },
   "source": [
    "### The exact solution"
   ]
  },
  {
   "cell_type": "code",
   "execution_count": null,
   "metadata": {},
   "outputs": [],
   "source": [
    "X = X_orig[:,:]\n",
    "y = y_orig[:]\n",
    "\n",
    "A = np.stack([x**i for i in range(N+1)]).T\n",
    "A.shape,y.shape"
   ]
  },
  {
   "cell_type": "code",
   "execution_count": null,
   "metadata": {},
   "outputs": [],
   "source": [
    "sol = np.linalg.solve(A.T.dot(A),A.T.dot(y))"
   ]
  },
  {
   "cell_type": "code",
   "execution_count": null,
   "metadata": {},
   "outputs": [],
   "source": [
    "A.shape,N"
   ]
  },
  {
   "cell_type": "code",
   "execution_count": null,
   "metadata": {},
   "outputs": [],
   "source": [
    "sol,b,w"
   ]
  },
  {
   "cell_type": "code",
   "execution_count": null,
   "metadata": {},
   "outputs": [],
   "source": [
    "#plt.figure()\n",
    "plt.plot(xlin,np.stack([xlin**i for i in range(N+1)]).T.dot(sol))\n",
    "#plt.plot(x,y,'o')"
   ]
  },
  {
   "cell_type": "code",
   "execution_count": null,
   "metadata": {},
   "outputs": [],
   "source": [
    "A.T.dot(A).shape,(A.T).dot(y).shape,"
   ]
  },
  {
   "cell_type": "code",
   "execution_count": null,
   "metadata": {},
   "outputs": [],
   "source": [
    "np.dot(Xlin,w).shape,Xlin.shape,w.shape"
   ]
  }
 ],
 "metadata": {
  "celltoolbar": "Create Assignment",
  "kernelspec": {
   "display_name": "Python 3",
   "language": "python",
   "name": "python3"
  },
  "language_info": {
   "codemirror_mode": {
    "name": "ipython",
    "version": 3
   },
   "file_extension": ".py",
   "mimetype": "text/x-python",
   "name": "python",
   "nbconvert_exporter": "python",
   "pygments_lexer": "ipython3",
   "version": "3.7.3"
  },
  "nbTranslate": {
   "displayLangs": [
    "en",
    "pl"
   ],
   "hotkey": "alt-t",
   "langInMainMenu": true,
   "sourceLang": "pl",
   "targetLang": "en",
   "useGoogleTranslate": true
  }
 },
 "nbformat": 4,
 "nbformat_minor": 2
}
