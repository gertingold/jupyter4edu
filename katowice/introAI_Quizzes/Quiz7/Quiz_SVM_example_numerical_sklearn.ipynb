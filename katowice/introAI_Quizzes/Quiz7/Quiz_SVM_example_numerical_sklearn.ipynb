{
 "cells": [
  {
   "cell_type": "markdown",
   "metadata": {
    "lang": "pl",
    "nbgrader": {
     "grade": false,
     "grade_id": "cell-19096060a94d5885",
     "locked": true,
     "schema_version": 3,
     "solution": false
    }
   },
   "source": [
    "# SVM in sklearn\n",
    "\n",
    "Rozważmy ten sam przykład, tym razem rozwiązemy numerycznie problem optymalizacyjny."
   ]
  },
  {
   "cell_type": "markdown",
   "metadata": {
    "lang": "en",
    "nbgrader": {
     "grade": false,
     "grade_id": "cell-d47a9b717285fed0",
     "locked": true,
     "schema_version": 3,
     "solution": false,
     "task": false
    }
   },
   "source": [
    "# SVM in sklearn\n",
    "\n",
    "Let's consider the same example, this time we will solve the optimization problem numerically."
   ]
  },
  {
   "cell_type": "code",
   "execution_count": null,
   "metadata": {
    "nbgrader": {
     "grade": false,
     "grade_id": "cell-f842d4aef8576864",
     "locked": true,
     "schema_version": 3,
     "solution": false
    }
   },
   "outputs": [],
   "source": [
    "import numpy as np\n",
    "import matplotlib.pyplot as plt\n",
    "from sklearn.svm import SVC\n",
    "\n",
    "X = np.array([[1,2],[-1,2],[-1,-2],[3,1]])\n",
    "y = np.array([-1,-1,1,1])"
   ]
  },
  {
   "cell_type": "code",
   "execution_count": null,
   "metadata": {},
   "outputs": [],
   "source": [
    "X,y"
   ]
  },
  {
   "cell_type": "code",
   "execution_count": null,
   "metadata": {
    "nbgrader": {
     "grade": false,
     "grade_id": "cell-ff125f1e531cb49d",
     "locked": true,
     "schema_version": 3,
     "solution": false
    }
   },
   "outputs": [],
   "source": [
    "svm = SVC(kernel=\"linear\", C=1)\n",
    "svm.fit(X,y)"
   ]
  },
  {
   "cell_type": "code",
   "execution_count": null,
   "metadata": {},
   "outputs": [],
   "source": [
    "plt.scatter(X[y==-1,0],X[y==-1,1],c='b')\n",
    "plt.scatter(X[y==1,0],X[y==1,1],c='r')\n",
    "plt.show()"
   ]
  },
  {
   "cell_type": "code",
   "execution_count": null,
   "metadata": {},
   "outputs": [],
   "source": [
    "x_min, x_max = -3.3,3.3\n",
    "xx, yy = np.meshgrid(*(2*(np.linspace(x_min, x_max, 90), )))\n",
    "xy = np.stack([xx.ravel(),yy.ravel()]).T"
   ]
  },
  {
   "cell_type": "code",
   "execution_count": null,
   "metadata": {},
   "outputs": [],
   "source": [
    "z = svm.predict(xy).reshape(90,90)\n",
    "plt.imshow(z,extent=[x_min, x_max,x_min, x_max],origin='lower')\n",
    "plt.scatter(X[y==-1,0], X[y==-1,1],c='b')\n",
    "plt.scatter(X[y==1,0], X[y==1,1],c='r')"
   ]
  },
  {
   "cell_type": "code",
   "execution_count": null,
   "metadata": {},
   "outputs": [],
   "source": [
    "z = svm.decision_function(xy).reshape(90,90)\n",
    "z[z>1] = 1\n",
    "z[z<-1] = -1\n",
    "z[(z>-1)&(z<1)] = 0\n",
    "plt.imshow(z,extent=[x_min, x_max,x_min, x_max],origin='lower')\n",
    "plt.scatter(X[y==-1,0], X[y==-1,1],c='b')\n",
    "plt.scatter(X[y==1,0], X[y==1,1],c='r')"
   ]
  },
  {
   "cell_type": "code",
   "execution_count": null,
   "metadata": {
    "nbgrader": {
     "grade": false,
     "grade_id": "cell-9f2e250ee9091a6c",
     "locked": false,
     "schema_version": 3,
     "solution": true
    }
   },
   "outputs": [],
   "source": [
    "w = None\n",
    "### BEGIN SOLUTION\n",
    "w = svm.coef_[0]\n",
    "t = svm.intercept_[0]\n",
    "### END SOLUTION\n"
   ]
  },
  {
   "cell_type": "code",
   "execution_count": null,
   "metadata": {
    "nbgrader": {
     "grade": true,
     "grade_id": "cell-5a37c4f56365f8d1",
     "locked": true,
     "points": 2,
     "schema_version": 3,
     "solution": false
    }
   },
   "outputs": [],
   "source": [
    "np.testing.assert_allclose(w,(3/5, -4/5),atol=1e-4)\n",
    "np.testing.assert_allclose(t,0.0,atol=1e-4)\n"
   ]
  },
  {
   "cell_type": "markdown",
   "metadata": {
    "lang": "pl"
   },
   "source": [
    "## Zależność dopasowania od $C$"
   ]
  },
  {
   "cell_type": "markdown",
   "metadata": {
    "lang": "en"
   },
   "source": [
    "## Dependence of matching on $C$"
   ]
  },
  {
   "cell_type": "code",
   "execution_count": null,
   "metadata": {},
   "outputs": [],
   "source": [
    "from ipywidgets import FloatSlider,interact\n",
    "from IPython.display import clear_output"
   ]
  },
  {
   "cell_type": "code",
   "execution_count": null,
   "metadata": {},
   "outputs": [],
   "source": [
    "@interact(C_ = FloatSlider(min=0.01,max=1,step=0.01,value=1))\n",
    "def __(C_):\n",
    "    svm = SVC(kernel=\"linear\", C=C_)\n",
    "    svm.fit(X,y)\n",
    "    \n",
    "    z = svm.decision_function(xy).reshape(90,90)\n",
    "    z[z>1] = 1\n",
    "    z[z<-1] = -1\n",
    "    z[(z>-1)&(z<1)] = 0\n",
    "    \n",
    "    plt.imshow(z,extent=[x_min, x_max,x_min, x_max],origin='lower')\n",
    "    plt.scatter(X[y==-1,0], X[y==-1,1],c='b',s=120)\n",
    "    plt.scatter(X[y==1,0], X[y==1,1],c='r',s=120)\n",
    "    plt.scatter(*(svm.support_vectors_.T),c='k')\n",
    "    clear_output(wait=True)\n",
    "    print(svm.dual_coef_)\n",
    "    plt.show()"
   ]
  }
 ],
 "metadata": {
  "celltoolbar": "Create Assignment",
  "kernelspec": {
   "display_name": "Python 3",
   "language": "python",
   "name": "python3"
  },
  "language_info": {
   "codemirror_mode": {
    "name": "ipython",
    "version": 3
   },
   "file_extension": ".py",
   "mimetype": "text/x-python",
   "name": "python",
   "nbconvert_exporter": "python",
   "pygments_lexer": "ipython3",
   "version": "3.7.3"
  },
  "nbTranslate": {
   "displayLangs": [
    "pl",
    "en"
   ],
   "hotkey": "alt-t",
   "langInMainMenu": true,
   "sourceLang": "pl",
   "targetLang": "en",
   "useGoogleTranslate": true
  }
 },
 "nbformat": 4,
 "nbformat_minor": 2
}
