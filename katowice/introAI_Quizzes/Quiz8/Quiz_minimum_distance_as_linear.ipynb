{
 "cells": [
  {
   "cell_type": "markdown",
   "metadata": {
    "lang": "pl",
    "nbgrader": {
     "grade": false,
     "grade_id": "cell-460bf5fed768602a",
     "locked": true,
     "schema_version": 3,
     "solution": false
    }
   },
   "source": [
    "## Klasyfikator minimalno-odległościowy jako klasyfikator liniowy\n",
    "\n"
   ]
  },
  {
   "cell_type": "markdown",
   "metadata": {
    "lang": "en"
   },
   "source": [
    "## Minimal distance classifier as a linear classifier"
   ]
  },
  {
   "cell_type": "code",
   "execution_count": null,
   "metadata": {},
   "outputs": [],
   "source": [
    "%matplotlib inline\n",
    "import numpy as np \n",
    "import matplotlib.pyplot as plt\n"
   ]
  },
  {
   "cell_type": "code",
   "execution_count": null,
   "metadata": {
    "nbgrader": {
     "grade": false,
     "grade_id": "cell-510f060a73c6ee86",
     "locked": true,
     "schema_version": 3,
     "solution": false
    }
   },
   "outputs": [],
   "source": [
    "from sklearn.datasets import make_blobs\n",
    "\n",
    "blobs_data = None\n",
    "blobs_target = None\n",
    "\n",
    "train, train_labels = make_blobs(n_samples = 500, n_features=2, centers=2, random_state=1234)\n",
    "\n",
    "a = 10\n",
    "xx, yy = np.meshgrid(np.linspace(-a,a,60), np.linspace(-a,a,60))"
   ]
  },
  {
   "cell_type": "markdown",
   "metadata": {
    "lang": "pl",
    "nbgrader": {
     "grade": false,
     "grade_id": "cell-a293973ab920eb71",
     "locked": true,
     "schema_version": 3,
     "solution": false
    }
   },
   "source": [
    "### Zadanie 1.\n",
    "\n",
    "Oblicz środki klas."
   ]
  },
  {
   "cell_type": "markdown",
   "metadata": {
    "lang": "en"
   },
   "source": [
    "### Task 1.\n",
    "\n",
    "Calculate class measures."
   ]
  },
  {
   "cell_type": "code",
   "execution_count": null,
   "metadata": {
    "nbgrader": {
     "grade": false,
     "grade_id": "cell-200e13b0a0330856",
     "locked": false,
     "schema_version": 3,
     "solution": true
    }
   },
   "outputs": [],
   "source": [
    "class_means = np.array([[-3,  2],[-.19,  3]])\n",
    "### BEGIN SOLUTION\n",
    "class_means = np.vstack([ np.mean( train[np.ravel(train_labels==i)], axis=0) for i in np.unique(train_labels) ])\n",
    "###END SOLUTION"
   ]
  },
  {
   "cell_type": "code",
   "execution_count": null,
   "metadata": {
    "nbgrader": {
     "grade": true,
     "grade_id": "cell-74bb022ed2153e76",
     "locked": true,
     "points": 1,
     "schema_version": 3,
     "solution": false
    }
   },
   "outputs": [],
   "source": [
    "np.testing.assert_allclose(class_means,[[-6.11,  2.40],[-1.19,  5.67]],rtol=1e-2)\n",
    "assert class_means.shape == (2, 2)"
   ]
  },
  {
   "cell_type": "markdown",
   "metadata": {
    "lang": "pl"
   },
   "source": [
    "Zweryfikujmy wizualnie wynik:"
   ]
  },
  {
   "cell_type": "markdown",
   "metadata": {
    "lang": "en"
   },
   "source": [
    "Let's visually verify the result:"
   ]
  },
  {
   "cell_type": "code",
   "execution_count": null,
   "metadata": {},
   "outputs": [],
   "source": [
    "plt.scatter(train[:,0], train[:,1],c= np.ravel(train_labels))\n",
    "plt.plot(class_means[0,0], class_means[0,1], 'bo',markersize=10)\n",
    "plt.plot(class_means[1,0], class_means[1,1], 'ro',markersize=10)\n"
   ]
  },
  {
   "cell_type": "markdown",
   "metadata": {
    "lang": "pl",
    "nbgrader": {
     "grade": false,
     "grade_id": "cell-13b496ae6fbd4e03",
     "locked": true,
     "schema_version": 3,
     "solution": false
    }
   },
   "source": [
    "Obszary decyzyjne dla klasyfikatora minimalno odległościowego, zaimplementowane z definicji:"
   ]
  },
  {
   "cell_type": "markdown",
   "metadata": {
    "lang": "en"
   },
   "source": [
    "Decision areas for the minimum distance classifier, implemented by definition:"
   ]
  },
  {
   "cell_type": "code",
   "execution_count": null,
   "metadata": {
    "nbgrader": {
     "grade": false,
     "grade_id": "cell-3012c034ed5b31b4",
     "locked": true,
     "schema_version": 3,
     "solution": false
    }
   },
   "outputs": [],
   "source": [
    "xm,ym = class_means[:,0],  class_means[:,1]\n",
    "d = np.argmin((xx[...,np.newaxis]-xm[np.newaxis,np.newaxis,:])**2+\\\n",
    "          (yy[...,np.newaxis]-ym[np.newaxis,np.newaxis,:])**2,axis=-1)"
   ]
  },
  {
   "cell_type": "markdown",
   "metadata": {
    "lang": "pl",
    "nbgrader": {
     "grade": false,
     "grade_id": "cell-3d9d6ae218cc485b",
     "locked": true,
     "schema_version": 3,
     "solution": false
    }
   },
   "source": [
    "Wykres tych obszarów:"
   ]
  },
  {
   "cell_type": "markdown",
   "metadata": {
    "lang": "en"
   },
   "source": [
    "Graph of these areas:"
   ]
  },
  {
   "cell_type": "code",
   "execution_count": null,
   "metadata": {},
   "outputs": [],
   "source": [
    "plt.imshow(d,origin='lower',extent=[-a,a,-a,a])\n",
    "plt.colorbar()\n",
    "plt.scatter(train[:,0], train[:,1],marker='.',c= -np.ravel(train_labels))\n",
    "plt.plot(class_means[0,0], class_means[0,1], 'bo',markersize=10)\n",
    "plt.plot(class_means[1,0], class_means[1,1], 'ro',markersize=10)\n",
    "\n"
   ]
  },
  {
   "cell_type": "markdown",
   "metadata": {
    "lang": "pl",
    "nbgrader": {
     "grade": false,
     "grade_id": "cell-34871406739b4c2f",
     "locked": true,
     "schema_version": 3,
     "solution": false
    }
   },
   "source": [
    "### Klasyfikator minimalno odległościowy jako klasyfikator liniowy\n",
    "\n",
    "$$ \\mathbf{w}\\cdot\\mathbf{x} = t$$\n",
    "\n",
    "Wektor $\\mathbf{w}$ jest równoległy do wektora $\\mathbf{cm_1} - \\mathbf{cm_0}$, gdzie $\\mathbf{cm_1}$ i $\\mathbf{cm_0}$ to środki geometryczne poszczególnych klas. \n",
    "\n",
    "Możemy przyjąć $\\mathbf{w}=\\mathbf{cm_1} - \\mathbf{cm_0}$. Pozostaje ustalić wartość stałej $t$ (bias). Jendym z wyborów będzie takie $t$ by funkcja dyscryminacyjna znikała na środku odcinka  $(\\mathbf{cm_0}, \\mathbf{cm_1})$.\n",
    "Warunek ten przyjmuje taką postać:\n",
    "\n",
    "$$ \\mathbf{w}\\cdot\\mathbf{x_{m}} - t = 0,$$\n",
    "\n",
    "gdzie $\\mathbf{x_{m}}$ to środek odcinka $(\\mathbf{cm_0}, \\mathbf{cm_1})$. \n",
    "\n",
    "\n",
    "\n",
    "\n",
    "\n",
    "\n"
   ]
  },
  {
   "cell_type": "markdown",
   "metadata": {
    "lang": "en"
   },
   "source": [
    "### Minimal distance classifier as a linear classifier\n",
    "\n",
    "$$ \\mathbf{w}\\cdot\\mathbf{x} = t$$\n",
    "\n",
    "The $\\mathbf{w}$ vector is parallel to the $\\mathbf{cm_1} - \\mathbf{cm_0}$ vector, where $\\mathbf{cm_1}$ and $\\mathbf{cm_0}$ are the geometric centers of the individual classes.\n",
    "\n",
    "We can accept $\\mathbf{w}=\\mathbf{cm_1} - \\mathbf{cm_0}$. It remains to set the value of the $t$ constant (bias). One of the choices will be $t$ so that the discrimination function disappears in the middle of the $(\\mathbf{cm_0}, \\mathbf{cm_1})$ episode.\n",
    "This condition takes the following form:\n",
    "\n",
    "$$ \\mathbf{w}\\cdot\\mathbf{x_{m}} - t = 0,$$\n",
    "\n",
    "where $\\mathbf{x_{m}}$ is the middle of the $(\\mathbf{cm_0}, \\mathbf{cm_1})$ episode."
   ]
  },
  {
   "cell_type": "markdown",
   "metadata": {
    "lang": "pl",
    "nbgrader": {
     "grade": false,
     "grade_id": "cell-cfcdf79223bd2c57",
     "locked": true,
     "schema_version": 3,
     "solution": false
    }
   },
   "source": [
    "### Zadanie 2\n",
    "\n",
    "Oblicz wagi $\\mathbf{w}$ i bias $t$ dla przykładowych danych i zweryfikuj wizualnie obszary decyzyjne\n",
    "\n",
    "Obszary te  dane są wzorem:\n",
    "\n",
    "$$ \\mathbf{w}\\cdot\\mathbf{x} - t > 0$$ \n",
    "\n",
    "( `True` to klasa 1 a `False` to klasa 0 )\n"
   ]
  },
  {
   "cell_type": "markdown",
   "metadata": {
    "lang": "en"
   },
   "source": [
    "### Exercise 2\n",
    "\n",
    "Calculate $\\mathbf{w}$ and bias $t$ weights for sample data and visually verify decision areas\n",
    "\n",
    "These data areas are a formula:\n",
    "\n",
    "$$ \\mathbf{w}\\cdot\\mathbf{x} - t > 0$$\n",
    "\n",
    "(`True` is class 1 and` False` is class 0)"
   ]
  },
  {
   "cell_type": "code",
   "execution_count": null,
   "metadata": {
    "nbgrader": {
     "grade": false,
     "grade_id": "cell-d963e34b1cfe4e5d",
     "locked": false,
     "schema_version": 3,
     "solution": true
    }
   },
   "outputs": [],
   "source": [
    "t = 0\n",
    "w = np.array([0,1])\n",
    "d_lin = np.zeros_like(xx)\n",
    "### BEGIN SOLUTION\n",
    "\n",
    "w = class_means[1]-class_means[0]\n",
    "t = w.dot(0.5*(class_means[0]+class_means[1]))\n",
    "\n",
    "d_lin = (np.tensordot(w,np.stack([xx,yy]),axes=[0,0])-t)>0\n",
    "\n",
    "### END SOLUTION"
   ]
  },
  {
   "cell_type": "code",
   "execution_count": null,
   "metadata": {
    "nbgrader": {
     "grade": true,
     "grade_id": "cell-02881f5f81982987",
     "locked": true,
     "points": 2,
     "schema_version": 3,
     "solution": false
    }
   },
   "outputs": [],
   "source": [
    "np.testing.assert_allclose(w,[4.92, 3.261],rtol=1e-2)\n"
   ]
  },
  {
   "cell_type": "code",
   "execution_count": null,
   "metadata": {
    "nbgrader": {
     "grade": true,
     "grade_id": "cell-51fd83ba9e13b636",
     "locked": true,
     "points": 2,
     "schema_version": 3,
     "solution": false
    }
   },
   "outputs": [],
   "source": [
    "np.testing.assert_allclose(t,-4.80,rtol=1e-2)\n"
   ]
  },
  {
   "cell_type": "code",
   "execution_count": null,
   "metadata": {
    "nbgrader": {
     "grade": true,
     "grade_id": "cell-43cb19ed995f4bd2",
     "locked": true,
     "points": 1,
     "schema_version": 3,
     "solution": false
    }
   },
   "outputs": [],
   "source": [
    "assert d_lin[2,3] ==  False\n",
    "assert d_lin[44,43] ==  True"
   ]
  },
  {
   "cell_type": "markdown",
   "metadata": {
    "lang": "pl",
    "nbgrader": {
     "grade": false,
     "grade_id": "cell-2781a0ada25ff22b",
     "locked": true,
     "schema_version": 3,
     "solution": false
    }
   },
   "source": [
    "Wykonaj wykres obszarów decyzyjnych:"
   ]
  },
  {
   "cell_type": "markdown",
   "metadata": {
    "lang": "en",
    "nbgrader": {
     "grade": false,
     "grade_id": "cell-901ca82fa0607649",
     "locked": true,
     "schema_version": 3,
     "solution": false,
     "task": false
    }
   },
   "source": [
    "Make a chart of decision areas:"
   ]
  },
  {
   "cell_type": "code",
   "execution_count": null,
   "metadata": {},
   "outputs": [],
   "source": [
    "plt.imshow(d_lin.astype(np.float), origin='lower',extent=[-a,a,-a,a])\n",
    "plt.colorbar()\n",
    "plt.scatter(train[:,0], train[:,1],marker='.',c= -np.ravel(train_labels))\n",
    "plt.plot(class_means[0,0], class_means[0,1], 'bo',markersize=10)\n",
    "plt.plot(class_means[1,0], class_means[1,1], 'ro',markersize=10)\n"
   ]
  }
 ],
 "metadata": {
  "celltoolbar": "Create Assignment",
  "kernelspec": {
   "display_name": "Python 3",
   "language": "python",
   "name": "python3"
  },
  "language_info": {
   "codemirror_mode": {
    "name": "ipython",
    "version": 3
   },
   "file_extension": ".py",
   "mimetype": "text/x-python",
   "name": "python",
   "nbconvert_exporter": "python",
   "pygments_lexer": "ipython3",
   "version": "3.7.3"
  },
  "nbTranslate": {
   "displayLangs": [
    "en",
    "pl"
   ],
   "hotkey": "alt-t",
   "langInMainMenu": true,
   "sourceLang": "pl",
   "targetLang": "en",
   "useGoogleTranslate": true
  }
 },
 "nbformat": 4,
 "nbformat_minor": 2
}
