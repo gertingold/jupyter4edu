{
 "cells": [
  {
   "cell_type": "markdown",
   "metadata": {
    "lang": "pl",
    "nbgrader": {
     "grade": false,
     "grade_id": "cell-c891fff8a11e7256",
     "locked": true,
     "schema_version": 3,
     "solution": false
    }
   },
   "source": [
    "# Gini index\n",
    "\n",
    "Indeksem Giniego zbioru $X_{train}=\\{(x_i,y_i), i=1,...,N, y_i \\in\\{1,...,K\\}\\}$\n",
    "gdzie $x_i$ jest wektorem cech a $y_i$ klasą nazywamy wartość:\n",
    "\n",
    "$$ Gini(X_{train})=1−\\sum_{i=1}^K \\left(\\frac{N_i}{N}\\right)^2$$\n",
    "gdzie $N_i$ jest ilością elementów zbioru uczącego z klasy $i$.\n",
    "\n",
    "\n",
    "Indeksem Giniego zbioru $X_{train}$ ze względu na test $t$ nazywamy średnią ważoną indeksów Giniego dla podzbiorów zbioru uczącego spełniających test $t$ w każdym z możliwych wyników tego testu $r$:\n",
    "\n",
    "$$ Gini(X_{train},t)=\\sum_r \\frac{N(t,r)}{N}Gini(X^{t,r}_{train}),$$\n",
    "\n",
    "gdzie $X^{t,r}_{train}$  jest podzbiorem zbioru uczącego złożonym z elementów które dla testu $t$ dają wartość $r$, natomiast $N(t,r)$ jest liczebnością tego podzbioru.\n",
    "\n",
    "\n",
    "import numpy as np "
   ]
  },
  {
   "cell_type": "markdown",
   "metadata": {
    "lang": "en"
   },
   "source": [
    "# Gini index\n",
    "\n",
    "Gini index of the $X_{train}=\\{(x_i,y_i), i=1,...,N, y_i \\in\\{1,...,K\\}\\}$ set\n",
    "where $x_i$ is a feature vector and $y_i$ is a class called value:\n",
    "\n",
    "$$ Gini(X_{train})=1−\\sum_{i=1}^K \\left(\\frac{N_i}{N}\\right)^2$$\n",
    "where $N_i$ is the number of elements of the learning set from the $i$ class.\n",
    "\n",
    "\n",
    "Gini index of the $X_{train}$ set due to the $t$ test is the weighted average of the Gini indexes for subsets of the training set that meet the $t$ test in each of the possible results of this $r$ test:\n",
    "\n",
    "$$ Gini(X_{train},t)=\\sum_r \\frac{N(t,r)}{N}Gini(X^{t,r}_{train}),$$\n",
    "\n",
    "where $X^{t,r}_{train}$ is a subset of the training set consisting of elements that for the $t$ test give the value $r$, while $N(t,r)$ is the number of this subset.\n",
    "\n",
    "\n",
    "import numpy as e.g."
   ]
  },
  {
   "cell_type": "markdown",
   "metadata": {
    "lang": "pl",
    "nbgrader": {
     "grade": false,
     "grade_id": "cell-288d08a3f93c941d",
     "locked": true,
     "schema_version": 3,
     "solution": false
    }
   },
   "source": [
    "### Zadanie 1\n",
    "\n",
    "Zaimplementuj funkcję  zwaracjącą indeks Giniego dla zbioru zawierającego wiele klas. Niech liczebości będą kolejno wartościami na liscie, np:\n",
    "\n",
    "    Ni =  [1, 3, 10]\n",
    "    \n",
    "oznacza ze mamy:\n",
    " - jednego reprezentanta klasy pierwszej, \n",
    " - trzech klasy drugiej \n",
    " - dziesięciu klasy trzeciej."
   ]
  },
  {
   "cell_type": "markdown",
   "metadata": {
    "lang": "en"
   },
   "source": [
    "### Exercise 1\n",
    "\n",
    "Implement the Gini index short function for a set containing multiple classes. Let the numbers be successively the values ​​on the list, e.g.\n",
    "\n",
    "    Ni = [1, 3, 10]\n",
    "    \n",
    "means that we have:\n",
    " - one representative of the first class,\n",
    " - three second grade\n",
    " - ten third grade."
   ]
  },
  {
   "cell_type": "code",
   "execution_count": null,
   "metadata": {},
   "outputs": [],
   "source": [
    "import numpy as np "
   ]
  },
  {
   "cell_type": "code",
   "execution_count": null,
   "metadata": {
    "nbgrader": {
     "grade": false,
     "grade_id": "cell-a914bbc498d4c05d",
     "locked": false,
     "schema_version": 3,
     "solution": true
    }
   },
   "outputs": [],
   "source": [
    "Gini = None \n",
    "\n",
    "### BEGIN SOLUTION\n",
    "\n",
    "Gini =  lambda Ni:1-sum(ni**2/sum(Ni)**2 for ni in Ni)\n",
    "\n",
    "### END SOLUTION\n"
   ]
  },
  {
   "cell_type": "code",
   "execution_count": null,
   "metadata": {
    "nbgrader": {
     "grade": true,
     "grade_id": "cell-62c7e949d31e2058",
     "locked": true,
     "points": 2,
     "schema_version": 3,
     "solution": false
    }
   },
   "outputs": [],
   "source": [
    "Ni = [0,90]\n",
    "assert Gini(Ni) == 0 \n",
    "\n",
    "\n",
    "Ni = [2,2]\n",
    "np.testing.assert_allclose(Gini(Ni) , 0.5, rtol=1e-6)\n",
    "\n",
    "\n",
    "Ni = 100*[2]\n",
    "np.testing.assert_allclose(Gini(Ni) , 0.99, rtol=1e-6)"
   ]
  },
  {
   "cell_type": "markdown",
   "metadata": {
    "lang": "pl",
    "nbgrader": {
     "grade": false,
     "grade_id": "cell-2807e35d754d72cf",
     "locked": true,
     "schema_version": 3,
     "solution": false
    }
   },
   "source": [
    "### Zadanie 2.\n",
    "\n",
    "Oblicz współczynnik Giniego zbioru który zawiera 12 reprezentatnów klasy A i 22 klasy B. W tescie zbiór ten jest podzielony na zbiory `Ni1` i `Ni2`. Oblicz indeks Giniego względem tego testu w następujących przypadkach:\n",
    "\n"
   ]
  },
  {
   "cell_type": "markdown",
   "metadata": {
    "lang": "en"
   },
   "source": [
    "### Exercise 2.\n",
    "\n",
    "Calculate the Gini coefficient of the set, which contains 12 representatives of Class A and 22 Class B. In the test, this set is divided into sets `Ni1` and` Ni2`. Calculate the Gini index relative to this test in the following cases:"
   ]
  },
  {
   "cell_type": "code",
   "execution_count": null,
   "metadata": {
    "nbgrader": {
     "grade": false,
     "grade_id": "cell-f9be313ff987a5d0",
     "locked": false,
     "schema_version": 3,
     "solution": true
    }
   },
   "outputs": [],
   "source": [
    "Ni = [12,22]\n",
    "Gini(Ni)"
   ]
  },
  {
   "cell_type": "code",
   "execution_count": null,
   "metadata": {
    "nbgrader": {
     "grade": true,
     "grade_id": "cell-e1de9545be4a3ae2",
     "locked": true,
     "points": 1,
     "schema_version": 3,
     "solution": false
    }
   },
   "outputs": [],
   "source": [
    "np.testing.assert_allclose( Gini(Ni) ,0.45674740484429066, rtol=1e-6)"
   ]
  },
  {
   "cell_type": "code",
   "execution_count": null,
   "metadata": {
    "nbgrader": {
     "grade": false,
     "grade_id": "cell-348e9e507cb186d7",
     "locked": false,
     "schema_version": 3,
     "solution": true
    }
   },
   "outputs": [],
   "source": [
    "Ni1, Ni2 = [11,2], [1,20]\n",
    "assert sum(Ni) == sum(Ni1)+sum(Ni2)\n",
    "\n",
    "Gt = None\n",
    "### BEGIN SOLUTION\n",
    "Gt = sum(Ni1)/sum(Ni)*Gini(Ni1) + sum(Ni2)/sum(Ni)*Gini(Ni2)\n",
    "### END SOLUTION\n",
    "\n",
    "print(Gt)\n",
    "\n"
   ]
  },
  {
   "cell_type": "code",
   "execution_count": null,
   "metadata": {
    "nbgrader": {
     "grade": true,
     "grade_id": "cell-4a63a87bfdf8d3a2",
     "locked": true,
     "points": 1,
     "schema_version": 3,
     "solution": false
    }
   },
   "outputs": [],
   "source": [
    "np.testing.assert_allclose( Gt ,0.1555, rtol=1e-3)"
   ]
  },
  {
   "cell_type": "code",
   "execution_count": null,
   "metadata": {
    "nbgrader": {
     "grade": false,
     "grade_id": "cell-444ec9ae74954ff8",
     "locked": false,
     "schema_version": 3,
     "solution": true
    }
   },
   "outputs": [],
   "source": [
    "Ni1,Ni2 = [6,11], [6,11]\n",
    "\n",
    "assert sum(Ni) == sum(Ni1)+sum(Ni2)\n",
    "\n",
    "Gt = None\n",
    "### BEGIN SOLUTION\n",
    "Gt = sum(Ni1)/sum(Ni)*Gini(Ni1) + sum(Ni2)/sum(Ni)*Gini(Ni2)\n",
    "### END SOLUTION\n",
    "\n",
    "print(Gt)\n",
    "\n"
   ]
  },
  {
   "cell_type": "code",
   "execution_count": null,
   "metadata": {
    "nbgrader": {
     "grade": true,
     "grade_id": "cell-3edb43dc9a9ea037",
     "locked": true,
     "points": 1,
     "schema_version": 3,
     "solution": false
    }
   },
   "outputs": [],
   "source": [
    "np.testing.assert_allclose( Gt ,0.45674740, rtol=1e-3)"
   ]
  },
  {
   "cell_type": "code",
   "execution_count": null,
   "metadata": {
    "nbgrader": {
     "grade": false,
     "grade_id": "cell-ba370522c770968c",
     "locked": false,
     "schema_version": 3,
     "solution": true
    }
   },
   "outputs": [],
   "source": [
    "Ni1,Ni2 = [10,10], [7,7]\n",
    "assert sum(Ni) == sum(Ni1)+sum(Ni2)\n",
    "Gt = None\n",
    "### BEGIN SOLUTION\n",
    "Gt = sum(Ni1)/sum(Ni)*Gini(Ni1) + sum(Ni2)/sum(Ni)*Gini(Ni2)\n",
    "### END SOLUTION\n",
    "\n",
    "print(Gt)"
   ]
  },
  {
   "cell_type": "code",
   "execution_count": null,
   "metadata": {
    "nbgrader": {
     "grade": true,
     "grade_id": "cell-4cf283f1c7a023a4",
     "locked": true,
     "points": 1,
     "schema_version": 3,
     "solution": false
    }
   },
   "outputs": [],
   "source": [
    "np.testing.assert_allclose( Gt ,0.5, rtol=1e-3)"
   ]
  },
  {
   "cell_type": "code",
   "execution_count": null,
   "metadata": {},
   "outputs": [],
   "source": []
  }
 ],
 "metadata": {
  "celltoolbar": "Create Assignment",
  "kernelspec": {
   "display_name": "Python 3",
   "language": "python",
   "name": "python3"
  },
  "language_info": {
   "codemirror_mode": {
    "name": "ipython",
    "version": 3
   },
   "file_extension": ".py",
   "mimetype": "text/x-python",
   "name": "python",
   "nbconvert_exporter": "python",
   "pygments_lexer": "ipython3",
   "version": "3.7.3"
  },
  "nbTranslate": {
   "displayLangs": [
    "en",
    "pl"
   ],
   "hotkey": "alt-t",
   "langInMainMenu": true,
   "sourceLang": "pl",
   "targetLang": "en",
   "useGoogleTranslate": true
  }
 },
 "nbformat": 4,
 "nbformat_minor": 2
}
