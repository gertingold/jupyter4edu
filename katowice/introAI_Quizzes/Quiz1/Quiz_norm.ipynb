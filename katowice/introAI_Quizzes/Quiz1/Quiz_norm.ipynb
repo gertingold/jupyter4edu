{
 "cells": [
  {
   "cell_type": "markdown",
   "metadata": {
    "lang": "pl",
    "nbgrader": {
     "grade": false,
     "grade_id": "cell-c6807741c0de771a",
     "locked": true,
     "schema_version": 3,
     "solution": false
    }
   },
   "source": [
    "## Oblicz normę  wektora\n",
    "\n",
    "Dla zadanego wektora należy obliczyć:\n",
    " - normę $L^1$ \n",
    " - normę $L^2$\n",
    " \n",
    "Oznaczenia $L^{1,2}$ są określone następującym wzorem:\n",
    "\n",
    "\n",
    "$$ L^p = \\left\\| \\mathbf{x} \\right\\| _p := \\bigg( \\sum_{i=1}^n \\left| x_i \\right| ^p \\bigg) ^{1/p}$$\n",
    "\n",
    " "
   ]
  },
  {
   "cell_type": "markdown",
   "metadata": {
    "lang": "en"
   },
   "source": [
    "## Calculate the vector norm\n",
    "\n",
    "Calculate for a given vector:\n",
    " - $L^1$-norm\n",
    " - $L^2$-norm\n",
    " \n",
    "The $L^{1,2}$ symbols are given by the following formula:\n",
    "\n",
    "\n",
    "$$ L^p = \\left\\| \\mathbf{x} \\right\\| _p := \\bigg( \\sum_{i=1}^n \\left| x_i \\right| ^p \\bigg) ^{1/p}$$"
   ]
  },
  {
   "cell_type": "code",
   "execution_count": null,
   "metadata": {
    "nbgrader": {
     "grade": false,
     "grade_id": "cell-ac6d0b5a01ac4856",
     "locked": true,
     "schema_version": 3,
     "solution": false
    }
   },
   "outputs": [],
   "source": [
    "import numpy as np \n",
    "x = np.random.randn(4)\n",
    "print(x)"
   ]
  },
  {
   "cell_type": "code",
   "execution_count": null,
   "metadata": {
    "nbgrader": {
     "grade": false,
     "grade_id": "cell-b46de071a57c605d",
     "locked": false,
     "schema_version": 3,
     "solution": true
    }
   },
   "outputs": [],
   "source": [
    "L2 = None\n",
    "### BEGIN SOLUTION\n",
    "L2 = np.sqrt(x.dot(x))\n",
    "### END SOLUTION"
   ]
  },
  {
   "cell_type": "code",
   "execution_count": null,
   "metadata": {
    "nbgrader": {
     "grade": false,
     "grade_id": "cell-ff558036b82d01cb",
     "locked": false,
     "schema_version": 3,
     "solution": true
    }
   },
   "outputs": [],
   "source": [
    "L1 = None\n",
    "### BEGIN SOLUTION\n",
    "L1 = np.sum(np.abs(x))\n",
    "### END SOLUTION"
   ]
  },
  {
   "cell_type": "code",
   "execution_count": null,
   "metadata": {
    "nbgrader": {
     "grade": true,
     "grade_id": "cell-5db5dc4edbd5d598",
     "locked": true,
     "points": 1,
     "schema_version": 3,
     "solution": false
    }
   },
   "outputs": [],
   "source": [
    "assert L2 == np.linalg.norm(x,ord=2)\n",
    "assert L1 == np.linalg.norm(x,ord=1)"
   ]
  },
  {
   "cell_type": "markdown",
   "metadata": {
    "lang": "pl"
   },
   "source": [
    "## Własności normy $L^1$ vs. $L^2$\n",
    "\n",
    "Sprawdźmy na przykładzie wektorów $x_1 = [1,1,1,1,1]$ i $x_2=[0,0,0,0,5]$ ile wynoszą ich normy.\n",
    "Można zauważyć, że norma $L^1$ nie zmienia się gdy zmienimy wektor $x_2 \\to x_1$ a norma $L^2$ maleje. Ma to konsekwencje dla zagadnienia regularyzacji. Dodanie do zagadnienia  minimalizacyjnego członu proporcjonalnego do normy $L^1$ będzie preferowało rozwiązania \"rzadkie\" norma $L^2$ będzie miała tendencje do wyrównywania parametrów."
   ]
  },
  {
   "cell_type": "markdown",
   "metadata": {
    "lang": "en"
   },
   "source": [
    "## Properties of $L^1$ vs. $L^2$\n",
    "\n",
    "Let's check the $x_1 = [1,1,1,1,1]$ and $x_2=[0,0,0,0,5]$ vectors for their norms.\n",
    "It can be seen that the $L^1$ norm does not change when we change the $x_2 \\to x_1$ vector but the $L^2$ norm decreases. This has consequences for the regularization issue. Adding a minimizing element proportional to the $L^1$ norm to the issue will prefer \"rare\" solutions. The $L^2$ norm will tend to equalize parameters."
   ]
  },
  {
   "cell_type": "code",
   "execution_count": null,
   "metadata": {},
   "outputs": [],
   "source": [
    "for x in [ [1,1,1,1,1],[0,0,0,0,5] ]:\n",
    "    x = np.array(x)\n",
    "    print(x,np.linalg.norm(x,ord=2), np.linalg.norm(x,ord=1) )"
   ]
  },
  {
   "cell_type": "markdown",
   "metadata": {
    "lang": "pl"
   },
   "source": [
    "## Wykresy norm\n",
    "\n",
    "Zobaczmy jak wyglądają wykresy normy wektora dwuwymiarowego w zależności od liczby $p$:"
   ]
  },
  {
   "cell_type": "markdown",
   "metadata": {
    "lang": "en"
   },
   "source": [
    "## Plots\n",
    "\n",
    "Let's see how the two-dimensional vector standard plots look depending on the number $p$:"
   ]
  },
  {
   "cell_type": "code",
   "execution_count": null,
   "metadata": {},
   "outputs": [],
   "source": [
    "import matplotlib.pyplot as plt\n",
    "\n",
    "x,y = np.meshgrid( *(2*(np.linspace(-1,1,100),) ) )\n",
    "\n",
    "fig, axes = plt.subplots(nrows=1, ncols=4, figsize=(12,3),sharey=True, sharex=True)\n",
    "for i, ax in enumerate(axes.flat, start=1):\n",
    "    ax.set(aspect=1)\n",
    "    if i==4:\n",
    "        i=100\n",
    "    ax.set_title(r'$L^{%d}$'%i)\n",
    "    ax.contourf(x,y,np.linalg.norm(np.stack([x,y]),axis=0,ord=i))\n"
   ]
  },
  {
   "cell_type": "code",
   "execution_count": null,
   "metadata": {},
   "outputs": [],
   "source": [
    "import matplotlib.pyplot as plt\n",
    "from ipywidgets import interact, IntSlider\n",
    "from IPython.display import clear_output\n",
    "\n",
    "x,y = np.meshgrid( *(2*(np.linspace(-1,1,100),) ) )\n",
    "p_lst = [1,2,3,4,10,100]\n",
    "@interact(i=IntSlider(max=len(p_lst)-1))\n",
    "def _drawnorm(i):\n",
    "    p = p_lst[i]\n",
    "    fig, ax = plt.subplots(nrows=1, ncols=1, figsize=(3,3))\n",
    "    ax.set(aspect=1)\n",
    "    ax.set_title(r'$L^{%d}$'%p)\n",
    "    ax.contourf(x,y,np.linalg.norm(np.stack([x,y]),axis=0,ord=p))\n",
    "    clear_output(wait=True)\n",
    "    "
   ]
  },
  {
   "cell_type": "code",
   "execution_count": null,
   "metadata": {},
   "outputs": [],
   "source": []
  }
 ],
 "metadata": {
  "kernelspec": {
   "display_name": "Python 3",
   "language": "python",
   "name": "python3"
  },
  "language_info": {
   "codemirror_mode": {
    "name": "ipython",
    "version": 3
   },
   "file_extension": ".py",
   "mimetype": "text/x-python",
   "name": "python",
   "nbconvert_exporter": "python",
   "pygments_lexer": "ipython3",
   "version": "3.7.3"
  },
  "nbTranslate": {
   "displayLangs": [
    "pl",
    "en"
   ],
   "hotkey": "alt-t",
   "langInMainMenu": true,
   "sourceLang": "pl",
   "targetLang": "en",
   "useGoogleTranslate": true
  }
 },
 "nbformat": 4,
 "nbformat_minor": 2
}
