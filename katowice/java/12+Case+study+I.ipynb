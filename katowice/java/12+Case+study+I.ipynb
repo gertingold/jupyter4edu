{
 "cells": [
  {
   "cell_type": "markdown",
   "metadata": {},
   "source": [
    "# Case study I - Arkanoid"
   ]
  },
  {
   "cell_type": "markdown",
   "metadata": {},
   "source": [
    "## Java compilation unit"
   ]
  },
  {
   "cell_type": "markdown",
   "metadata": {},
   "source": [
    "A Java program is normally a collection of definitions of classes (and interfaces). At least one of the classes (main class) must be declared ```public``` and must contain a definition of method named ```main```. This method must be declared ```public```, ```static``` and ```void```. The definition of the ```main``` method must declare exactly one parameter of type ```String[]``` which represents the array of the parameters passed to the program from the command line, at the time of its execution."
   ]
  },
  {
   "cell_type": "code",
   "execution_count": null,
   "metadata": {
    "collapsed": true
   },
   "outputs": [],
   "source": [
    "class A\n",
    "{\n",
    "\n",
    "}"
   ]
  },
  {
   "cell_type": "code",
   "execution_count": null,
   "metadata": {
    "collapsed": true
   },
   "outputs": [],
   "source": [
    "class B\n",
    "{\n",
    "\n",
    "}"
   ]
  },
  {
   "cell_type": "code",
   "execution_count": null,
   "metadata": {
    "collapsed": true
   },
   "outputs": [],
   "source": [
    "public class C\n",
    "{\n",
    "    public static void main(String[] args)\n",
    "    {\n",
    "    \n",
    "    }\n",
    "}"
   ]
  },
  {
   "cell_type": "markdown",
   "metadata": {},
   "source": [
    "The classes must be stored in one or more files (compilation unit), but any public class must be stored in a file named after this class, with extension ```.java```. In the above case, the public class ```C``` must be stored in a file ```C.java``` (note the case sensitivity). Other (not public) classes may be stored together with one of the public classes (or in separate files).\n",
    "\n",
    "In order to compile the program, you should invoke java compiler (```javac```) and pass to it the appropriate name of file.\n",
    "\n",
    "```$ javac C.java```\n",
    "\n",
    "The compiler then produces the so called \"bytecodes\" - executables for the Java interpreter (virtual machine). The bytecodes of each class are stored in separate files, named after the class name, but with extension ```.class```.\n",
    "\n",
    "In order to run the program, you should invoke the interpreter (```java```) and pass to it the name of the main class (not the name of file), which initiates the execution of the program.\n",
    "\n",
    "```$ java C```\n",
    "\n",
    "Java programs are usually distributer as \"jar files\". These are compressed archives containing bytecode (```.class```)files, data files and a manifest file. The manifest describes the Java archive (jar file) and is stored in a file named ```MANIFEST.MF```, located under the META-INF directory in the jar archive. It contains a list of key and value pairs, called headers or attributes, grouped into sections. These headers supply metadata that provide information on the jar archive, such as the versions of packages or what application class to execute (Main-Class header). Jar archives can be created using ```jar``` tool.\n",
    "\n",
    "```$ jar cf file.jar classes/```\n",
    "\n",
    "Documentation of the classes that make the project can be created using ```javadoc``` tool. Popular Integrated Development Environments (IDEs), such as Netbeans, Eclipse or IntelliJ, allow to simplify and automate use of the Java compiler, interpreter, jar tool and other tools delivered with the Java platform."
   ]
  },
  {
   "cell_type": "markdown",
   "metadata": {},
   "source": [
    "## Case foundation"
   ]
  },
  {
   "cell_type": "markdown",
   "metadata": {},
   "source": [
    "The case involves creating a simple implementation of popular Arkanoid game, by developing further the starting version you can find below. This approach allows us to apply many concepts of object oriented programming in Java language - classes and objects, inheritance and polymorphism, multithreading, use of the Java API (Java2D and Swing) and use of the data structures (Arrays)."
   ]
  },
  {
   "cell_type": "markdown",
   "metadata": {},
   "source": [
    "![tmp](http://dendzik.pl/lib/exe/fetch.php?cache=&media=java:java_09_01_arka.gif)"
   ]
  },
  {
   "cell_type": "markdown",
   "metadata": {},
   "source": [
    "The starting version implements the motion of the ball (separate animation thread) and the motion of the paddle driven by the mouse pointer. Exercises are aimed at implementing the detection of collisions between the ball and the paddle in order to use the paddle to bounce the ball and, subsequently, at adding the bricks which can be destroyed by the ball."
   ]
  },
  {
   "cell_type": "markdown",
   "metadata": {},
   "source": [
    "## Exercise 1"
   ]
  },
  {
   "cell_type": "markdown",
   "metadata": {
    "collapsed": true
   },
   "source": [
    "Create the appropriate compilation unit (file) containg the classes below (you may, or you may not define a package). Then compile it with the Java compiler and run with the Java interpeter. Analyze the code and assign its actions and functionalities to its structure. If it is possible, discuss this with your peer.\n",
    "\n",
    "```java\n",
    "import javax.swing.*;\n",
    "import java.awt.event.*;\n",
    "import java.awt.*;\n",
    "import java.awt.geom.*;\n",
    "\n",
    "\n",
    "class Ball extends Ellipse2D.Float \n",
    "//-------------------------------//\n",
    "{\n",
    "   Field p;\n",
    "   int dx,dy;\n",
    " \n",
    "   Ball(Field p,int x,int y,int dx,int dy) \n",
    "   {                                          \n",
    "      this.x=x;                               \n",
    "      this.y=y;                               \n",
    "      this.width=10;                          \n",
    "      this.height=10;                         \n",
    " \n",
    "      this.p=p;                               \n",
    "      this.dx=dx;                             \n",
    "      this.dy=dy;                             \n",
    "   }                                          \n",
    " \n",
    "   void nextStep()                                        \n",
    "   {                                                     \n",
    "      x+=dx;                                             \n",
    "      y+=dy;                                             \n",
    " \n",
    "      if(getMinX()<0 || getMaxX()>p.getWidth())  dx=-dx; \n",
    "      if(getMinY()<0 || getMaxY()>p.getHeight()) dy=-dy; \n",
    " \n",
    "      p.repaint();                                       \n",
    "   }                                                     \n",
    "}\n",
    "\n",
    "\n",
    "class Engine extends Thread \n",
    "//----------------------------//\n",
    "{\n",
    "   Ball a;\n",
    " \n",
    "   Engine(Ball a) \n",
    "   {                    \n",
    "      this.a=a;         \n",
    "      start();          \n",
    "   }                    \n",
    " \n",
    "   public void run()                   \n",
    "   {                                  \n",
    "      try                             \n",
    "      {                               \n",
    "         while(true)                  \n",
    "         {                            \n",
    "            a.nextStep();             \n",
    "            sleep(15);                \n",
    "         }                            \n",
    "      }                               \n",
    "      catch(InterruptedException e){} \n",
    "   }                                  \n",
    "}\n",
    "\n",
    "\n",
    "class Paddle extends Rectangle2D.Float \n",
    "//---------------------------------//\n",
    "{\n",
    "   Paddle(int x)       \n",
    "   {                  \n",
    "      this.x=x;       \n",
    "      this.y=170;     \n",
    "      this.width=60;  \n",
    "      this.height=10; \n",
    "   }                  \n",
    " \n",
    "   void setX(int x) \n",
    "   {                \n",
    "      this.x=x;     \n",
    "   }                \n",
    "}\n",
    "\n",
    "\n",
    "class Field extends JPanel implements MouseMotionListener\n",
    "//-------------------------------------------------------//\n",
    "{\n",
    "   Paddle b;\n",
    "   Ball a;\n",
    "   Engine s;\n",
    " \n",
    "   Field()                         \n",
    "   {                                 \n",
    "      super();                       \n",
    "      addMouseMotionListener(this);  \n",
    " \n",
    "      b=new Paddle(100);              \n",
    "      a=new Ball(this,100,100,1,1); \n",
    "      s=new Engine(a);          \n",
    "   }                                 \n",
    " \n",
    "   public void paintComponent(Graphics g) \n",
    "   {                                      \n",
    "      super.paintComponent(g);            \n",
    "      Graphics2D g2d=(Graphics2D)g;       \n",
    " \n",
    "      g2d.fill(a);                        \n",
    "      g2d.fill(b);                        \n",
    "   }                                      \n",
    " \n",
    "   public void mouseMoved(MouseEvent e) \n",
    "   {                                    \n",
    "      b.setX(e.getX()-50);              \n",
    "      repaint();                        \n",
    "   }                                    \n",
    " \n",
    "   public void mouseDragged(MouseEvent e) \n",
    "   {                                      \n",
    " \n",
    "   }                                      \n",
    "}\n",
    "\n",
    "\n",
    "public class Program \n",
    "//----------------//\n",
    "{\n",
    "   public static void main(String[] args)                       \n",
    "   {                                                           \n",
    "      javax.swing.SwingUtilities.invokeLater(new Runnable()    \n",
    "      {                                                        \n",
    "         public void run()                                     \n",
    "         {                                                     \n",
    "            Field p;                                         \n",
    "            p=new Field();                                   \n",
    " \n",
    "            JFrame jf=new JFrame();                            \n",
    "            jf.add(p);                                         \n",
    " \n",
    "            jf.setTitle(\"Test grafiki\");                       \n",
    "            jf.setSize(400,370);                               \n",
    "            jf.setDefaultCloseOperation(JFrame.EXIT_ON_CLOSE); \n",
    "            jf.setVisible(true);                               \n",
    "         }                                                     \n",
    "      });                                                      \n",
    "   }                                                           \n",
    "}\n",
    "```"
   ]
  },
  {
   "cell_type": "markdown",
   "metadata": {},
   "source": [
    "## Exercise 2"
   ]
  },
  {
   "cell_type": "markdown",
   "metadata": {},
   "source": [
    "Implement the detection of collisions between the ball and the paddle in order to use the paddle to bounce the ball. Note that the ball is an object of ```java.awt.geom.Ellipse2D.Float``` and the paddle is an object of ```java.awt.geom.Rectangle2D.Float``` (inheritance). This means, that you can use the methods of the Java API classes. In this case, you can use the method ```boolean intersects(Ellipse2D.Float()``` of the abstract class ```RectangularShape```, which is a base class for ```java.awt.geom.Ellipse2D.Float``` and consequently for the class ```Ball```."
   ]
  },
  {
   "cell_type": "code",
   "execution_count": 18,
   "metadata": {
    "collapsed": false
   },
   "outputs": [],
   "source": [
    "import java.awt.geom.Rectangle2D.Float;\n",
    "import java.awt.geom.Ellipse2D.Float;\n",
    "\n",
    "Rectangle2D.Float belka = new Rectangle2D.Float(0,0,100,20);\n",
    "Ellipse2D.Float kulka = new Ellipse2D.Float(15,15,60,60);"
   ]
  },
  {
   "cell_type": "code",
   "execution_count": 19,
   "metadata": {
    "collapsed": false
   },
   "outputs": [
    {
     "name": "stdout",
     "output_type": "stream",
     "text": [
      "true\n"
     ]
    }
   ],
   "source": [
    "System.out.println(kulka.intersects(belka));"
   ]
  },
  {
   "cell_type": "markdown",
   "metadata": {},
   "source": [
    "After detecting a collision between the ball and the paddle, you can implement the change of the vertical velocity ```dy``` into ```-dy```."
   ]
  },
  {
   "cell_type": "code",
   "execution_count": 17,
   "metadata": {
    "collapsed": false
   },
   "outputs": [
    {
     "name": "stdout",
     "output_type": "stream",
     "text": [
      "1.0\n",
      "-1.0\n"
     ]
    }
   ],
   "source": [
    "double dx=1, dy=1;\n",
    "\n",
    "System.out.println(dy);\n",
    "if(kulka.intersects(belka))\n",
    "{\n",
    "    dy = - dy;\n",
    "}\n",
    "System.out.println(dy);"
   ]
  },
  {
   "cell_type": "markdown",
   "metadata": {
    "collapsed": true
   },
   "source": [
    "## Exercise 3"
   ]
  },
  {
   "cell_type": "markdown",
   "metadata": {},
   "source": [
    "Add the bricks to the Arkanoid, so that the ball destroy a brick it hits. As a data structure containing the bricks you may use array of objects or the Java API ```ArrayList``` class, defined in the package ```java.util```."
   ]
  }
 ],
 "metadata": {
  "kernelspec": {
   "display_name": "Java",
   "language": "java",
   "name": "java"
  },
  "language_info": {
   "codemirror_mode": "java",
   "file_extension": ".java",
   "mimetype": "text/x-java-source",
   "name": "Java",
   "pygments_lexer": "java",
   "version": "9.0.4+11"
  }
 },
 "nbformat": 4,
 "nbformat_minor": 1
}
