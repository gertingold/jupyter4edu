{
 "cells": [
  {
   "cell_type": "markdown",
   "metadata": {},
   "source": [
    "# Abstract classes and interfaces"
   ]
  },
  {
   "cell_type": "markdown",
   "metadata": {},
   "source": [
    "## Abstract classes"
   ]
  },
  {
   "cell_type": "markdown",
   "metadata": {},
   "source": [
    "Making use of the concept of polymorphism requres that the base class must contain definitions of methods which are intended to be overriden in subclasses. This means that you must write correct syntactically definition of the methods in base classes which will never be invoked. Then, you must not forget to write definitions of every such method in every subclass. Declaring methods of a base class which are intended to be overriden as abstract, you do not have to write their definitions. Instead, you need to write only its header, followed by semicolon. If a class has one or more abstract methods, it must be declared as abstract. The benefit of declaring abstract classes and methods is that now the compiler will check whether or not every abstract method is overriden in every (not abstract) subclass of given abstract base class."
   ]
  },
  {
   "cell_type": "code",
   "execution_count": 17,
   "metadata": {
    "collapsed": false
   },
   "outputs": [],
   "source": [
    "class Point\n",
    "{\n",
    "    double x;\n",
    "    double y;\n",
    "    \n",
    "    Point()\n",
    "    {\n",
    "        this.x = this.y = 0.0;\n",
    "    }\n",
    "    \n",
    "    void translate(double dx, double dy)\n",
    "    {\n",
    "        x+=dx;\n",
    "        y+=dy;\n",
    "    }\n",
    "    \n",
    "    public String toString()\n",
    "    {\n",
    "        return \"Point[x=\"+x+\", y=\"+y+\"]\";\n",
    "    }\n",
    "}"
   ]
  },
  {
   "cell_type": "code",
   "execution_count": 18,
   "metadata": {
    "collapsed": true
   },
   "outputs": [],
   "source": [
    "abstract class Figure\n",
    "{\n",
    "    Point centre;\n",
    "    abstract double area();\n",
    "    abstract double perimeter();\n",
    "\n",
    "    Figure()\n",
    "    {\n",
    "        this.centre = new Point();\n",
    "    }\n",
    "    \n",
    "    void translate(double dx, double dy)\n",
    "    {\n",
    "        centre.translate(dx,dy);\n",
    "    }\n",
    "\n",
    "    public String toString()\n",
    "    {\n",
    "        return \"Figure[x=\"+centre.x+\", y=\"+centre.y+\"]\";\n",
    "    }\n",
    "}"
   ]
  },
  {
   "cell_type": "code",
   "execution_count": 19,
   "metadata": {
    "collapsed": true
   },
   "outputs": [],
   "source": [
    "class Circle extends Figure\n",
    "{\n",
    "    double radius;\n",
    " \n",
    "    Circle(double radius)    \n",
    "    { \n",
    "        super();\n",
    "        this.radius=radius; \n",
    "    }                        \n",
    " \n",
    "    double area()                   \n",
    "    {                               \n",
    "        return Math.PI*radius*radius; \n",
    "    }                               \n",
    "\n",
    "    double perimeter()            \n",
    "    {                         \n",
    "        return 2*Math.PI*radius; \n",
    "    }                         \n",
    "\n",
    "    public String toString()\n",
    "    {\n",
    "        return \"Circle[x=\"+centre.x+\", y=\"+centre.y+\", radius=\"+radius+\"]\";\n",
    "    }\n",
    "}"
   ]
  },
  {
   "cell_type": "code",
   "execution_count": 20,
   "metadata": {
    "collapsed": true
   },
   "outputs": [],
   "source": [
    "class Rectangle extends Figure\n",
    "{\n",
    "   double width;\n",
    "   double height;\n",
    " \n",
    "   Rectangle(double width,double height) \n",
    "   {   \n",
    "      super();\n",
    "      this.width=width;                   \n",
    "      this.height=height;               \n",
    "   }                                          \n",
    " \n",
    "   double area()                \n",
    "   {                            \n",
    "      return width*height; \n",
    "   }                            \n",
    " \n",
    "   double perimeter()                   \n",
    "   {                                \n",
    "      return 2*width+2*height; \n",
    "   }                                \n",
    " \n",
    "   public String toString()\n",
    "    {\n",
    "        return \"Rectangle[x=\"+centre.x+\", y=\"+centre.y+\", width=\"+width+\", height=\"+height+\"]\";\n",
    "    }\n",
    "}      "
   ]
  },
  {
   "cell_type": "markdown",
   "metadata": {},
   "source": [
    "Now you can make use of the polymorphism, which means that you are also able to declare all your rectangles and circles as objects of the type ```Figure```, and operate them by invoking the abstract methods of the abstract class ```Figure```."
   ]
  },
  {
   "cell_type": "code",
   "execution_count": 21,
   "metadata": {
    "collapsed": false
   },
   "outputs": [
    {
     "name": "stdout",
     "output_type": "stream",
     "text": [
      "Circle[x=0.0, y=0.0, radius=2.0]\n",
      "244.3362637120549\n"
     ]
    }
   ],
   "source": [
    "Figure obj = new Circle(2);                                     \n",
    "System.out.println( obj );\n",
    "\n",
    "\n",
    "Figure[] a={new Rectangle(3,5),new Circle(8),new Circle(3)}; \n",
    "\n",
    "double s = 0;                                             \n",
    "\n",
    "for(int i=0;i<a.length;i++)                                \n",
    "{                                                          \n",
    "     s += a[i].area();                                              \n",
    "}                                                          \n",
    "\n",
    "System.out.println( s );"
   ]
  },
  {
   "cell_type": "markdown",
   "metadata": {},
   "source": [
    "Failing to override one of abstract methods in any subclass is detected automatically at results with error at the compile time. This is illustrated below. __Error message produced by the following cell is left inentionally__."
   ]
  },
  {
   "cell_type": "code",
   "execution_count": 22,
   "metadata": {
    "collapsed": false
   },
   "outputs": [
    {
     "ename": "CompilationException",
     "evalue": "",
     "output_type": "error",
     "traceback": [
      "\u001b[1m\u001b[30m|   \u001b[1m\u001b[30m\u001b[0m\u001b[1m\u001b[30m\u001b[41mclass Rectangle extends Figure\u001b[0m",
      "\u001b[1m\u001b[30m|   \u001b[1m\u001b[30m\u001b[41m{\u001b[0m",
      "\u001b[1m\u001b[30m|   \u001b[1m\u001b[30m\u001b[41m   double width;\u001b[0m",
      "\u001b[1m\u001b[30m|   \u001b[1m\u001b[30m\u001b[41m   double height;\u001b[0m",
      "\u001b[1m\u001b[30m|   \u001b[1m\u001b[30m\u001b[41m \u001b[0m",
      "\u001b[1m\u001b[30m|   \u001b[1m\u001b[30m\u001b[41m   Rectangle(double width,double height) \u001b[0m",
      "\u001b[1m\u001b[30m|   \u001b[1m\u001b[30m\u001b[41m   {   \u001b[0m",
      "\u001b[1m\u001b[30m|   \u001b[1m\u001b[30m\u001b[41m      super();\u001b[0m",
      "\u001b[1m\u001b[30m|   \u001b[1m\u001b[30m\u001b[41m      this.width=width;                   \u001b[0m",
      "\u001b[1m\u001b[30m|   \u001b[1m\u001b[30m\u001b[41m      this.height=height;               \u001b[0m",
      "\u001b[1m\u001b[30m|   \u001b[1m\u001b[30m\u001b[41m   }                                          \u001b[0m",
      "\u001b[1m\u001b[30m|   \u001b[1m\u001b[30m\u001b[41m \u001b[0m",
      "\u001b[1m\u001b[30m|   \u001b[1m\u001b[30m\u001b[41m   //double area()                \u001b[0m",
      "\u001b[1m\u001b[30m|   \u001b[1m\u001b[30m\u001b[41m   //{                            \u001b[0m",
      "\u001b[1m\u001b[30m|   \u001b[1m\u001b[30m\u001b[41m   //   return width*height; \u001b[0m",
      "\u001b[1m\u001b[30m|   \u001b[1m\u001b[30m\u001b[41m   //}                            \u001b[0m",
      "\u001b[1m\u001b[30m|   \u001b[1m\u001b[30m\u001b[41m \u001b[0m",
      "\u001b[1m\u001b[30m|   \u001b[1m\u001b[30m\u001b[41m   double perimeter()                   \u001b[0m",
      "\u001b[1m\u001b[30m|   \u001b[1m\u001b[30m\u001b[41m   {                                \u001b[0m",
      "\u001b[1m\u001b[30m|   \u001b[1m\u001b[30m\u001b[41m      return 2*width+2*height; \u001b[0m",
      "\u001b[1m\u001b[30m|   \u001b[1m\u001b[30m\u001b[41m   }                                \u001b[0m",
      "\u001b[1m\u001b[30m|   \u001b[1m\u001b[30m\u001b[41m \u001b[0m",
      "\u001b[1m\u001b[30m|   \u001b[1m\u001b[30m\u001b[41m   public String toString()\u001b[0m",
      "\u001b[1m\u001b[30m|   \u001b[1m\u001b[30m\u001b[41m    {\u001b[0m",
      "\u001b[1m\u001b[30m|   \u001b[1m\u001b[30m\u001b[41m        return \"Rectangle[x=\"+centre.x+\", y=\"+centre.y+\", width=\"+width+\", height=\"+height+\"]\";\u001b[0m",
      "\u001b[1m\u001b[30m|   \u001b[1m\u001b[30m\u001b[41m    }\u001b[0m",
      "\u001b[1m\u001b[30m|   \u001b[1m\u001b[30m\u001b[41m}\u001b[0m",
      "\u001b[1m\u001b[31mRectangle is not abstract and does not override abstract method area() in Figure\u001b[0m",
      ""
     ]
    }
   ],
   "source": [
    "class Rectangle extends Figure\n",
    "{\n",
    "   double width;\n",
    "   double height;\n",
    " \n",
    "   Rectangle(double width,double height) \n",
    "   {   \n",
    "      super();\n",
    "      this.width=width;                   \n",
    "      this.height=height;               \n",
    "   }                                          \n",
    " \n",
    "   //double area()                \n",
    "   //{                            \n",
    "   //   return width*height; \n",
    "   //}                            \n",
    " \n",
    "   double perimeter()                   \n",
    "   {                                \n",
    "      return 2*width+2*height; \n",
    "   }                                \n",
    " \n",
    "   public String toString()\n",
    "    {\n",
    "        return \"Rectangle[x=\"+centre.x+\", y=\"+centre.y+\", width=\"+width+\", height=\"+height+\"]\";\n",
    "    }\n",
    "}"
   ]
  },
  {
   "cell_type": "markdown",
   "metadata": {},
   "source": [
    "## Interfaces"
   ]
  },
  {
   "cell_type": "markdown",
   "metadata": {},
   "source": [
    "An interface defines a type and specifies the protocol of manipulating objects which implement it. All methods of an interface are both abstract and public by definition. Although in Java every class inherits from one single base class, it may implement more than one interfaces."
   ]
  },
  {
   "cell_type": "code",
   "execution_count": 23,
   "metadata": {
    "collapsed": true
   },
   "outputs": [],
   "source": [
    "interface Measurable\n",
    "{\n",
    "    double area();\n",
    "    double perimeter();\n",
    "}"
   ]
  },
  {
   "cell_type": "code",
   "execution_count": 24,
   "metadata": {
    "collapsed": false
   },
   "outputs": [],
   "source": [
    "class Point\n",
    "{\n",
    "    double x;\n",
    "    double y;\n",
    "    \n",
    "    Point()\n",
    "    {\n",
    "        this.x = this.y = 0.0;\n",
    "    }\n",
    "    \n",
    "    void translate(double dx, double dy)\n",
    "    {\n",
    "        x+=dx;\n",
    "        y+=dy;\n",
    "    }\n",
    "    \n",
    "    public String toString()\n",
    "    {\n",
    "        return \"Point[x=\"+x+\", y=\"+y+\"]\";\n",
    "    }\n",
    "}\n",
    "\n",
    "abstract class Figure implements Measurable\n",
    "{\n",
    "    Point centre;\n",
    "\n",
    "    Figure()\n",
    "    {\n",
    "        this.centre = new Point();\n",
    "    }\n",
    "    \n",
    "    void translate(double dx, double dy)\n",
    "    {\n",
    "        centre.translate(dx,dy);\n",
    "    }\n",
    "\n",
    "    public String toString()\n",
    "    {\n",
    "        return \"Figure[x=\"+centre.x+\", y=\"+centre.y+\"]\";\n",
    "    }\n",
    "}\n",
    "\n",
    "class Circle extends Figure\n",
    "{\n",
    "    double radius;\n",
    " \n",
    "    Circle(double radius)    \n",
    "    { \n",
    "        super();\n",
    "        this.radius=radius; \n",
    "    }                        \n",
    " \n",
    "    public double area()                   \n",
    "    {                               \n",
    "        return Math.PI*radius*radius; \n",
    "    }                               \n",
    "\n",
    "    public double perimeter()            \n",
    "    {                         \n",
    "        return 2*Math.PI*radius; \n",
    "    }                         \n",
    "\n",
    "    public String toString()\n",
    "    {\n",
    "        return \"Circle[x=\"+centre.x+\", y=\"+centre.y+\", radius=\"+radius+\"]\";\n",
    "    }\n",
    "}\n",
    "\n",
    "class Rectangle extends Figure\n",
    "{\n",
    "   double width;\n",
    "   double height;\n",
    " \n",
    "   Rectangle(double width,double height) \n",
    "   {   \n",
    "      super();\n",
    "      this.width=width;                   \n",
    "      this.height=height;               \n",
    "   }                                          \n",
    " \n",
    "   public double area()                \n",
    "   {                            \n",
    "      return width*height; \n",
    "   }                            \n",
    " \n",
    "   public double perimeter()                   \n",
    "   {                                \n",
    "      return 2*width+2*height; \n",
    "   }                                \n",
    " \n",
    "   public String toString()\n",
    "    {\n",
    "        return \"Rectangle[x=\"+centre.x+\", y=\"+centre.y+\", width=\"+width+\", height=\"+height+\"]\";\n",
    "    }\n",
    "}"
   ]
  },
  {
   "cell_type": "markdown",
   "metadata": {},
   "source": [
    "Now you can declare the objects as of a type ```Measurable``` and make use of the polymorphic behaviour. The interface assures that every object that implements this interface must define all methods of this interface."
   ]
  },
  {
   "cell_type": "code",
   "execution_count": 25,
   "metadata": {
    "collapsed": false
   },
   "outputs": [
    {
     "name": "stdout",
     "output_type": "stream",
     "text": [
      "244.3362637120549\n"
     ]
    }
   ],
   "source": [
    "Measurable[] a={new Rectangle(3,5),new Circle(8),new Circle(3)}; \n",
    "\n",
    "double s = 0;                                             \n",
    "\n",
    "for(int i=0;i<a.length;i++)                                \n",
    "{                                                          \n",
    "     s += a[i].area();                                              \n",
    "}                                                          \n",
    "\n",
    "System.out.println( s );"
   ]
  },
  {
   "cell_type": "markdown",
   "metadata": {},
   "source": [
    "Of course, also in this case, failing to override these methods is detected automatically at the compile time. The cell bellow illustrates this. __Error messages are left intentionally__."
   ]
  },
  {
   "cell_type": "code",
   "execution_count": 26,
   "metadata": {
    "collapsed": false
   },
   "outputs": [
    {
     "ename": "CompilationException",
     "evalue": "",
     "output_type": "error",
     "traceback": [
      "\u001b[1m\u001b[30m|   \u001b[1m\u001b[30m\u001b[0m\u001b[1m\u001b[30m\u001b[41mclass Rectangle extends Figure\u001b[0m",
      "\u001b[1m\u001b[30m|   \u001b[1m\u001b[30m\u001b[41m{\u001b[0m",
      "\u001b[1m\u001b[30m|   \u001b[1m\u001b[30m\u001b[41m   double width;\u001b[0m",
      "\u001b[1m\u001b[30m|   \u001b[1m\u001b[30m\u001b[41m   double height;\u001b[0m",
      "\u001b[1m\u001b[30m|   \u001b[1m\u001b[30m\u001b[41m \u001b[0m",
      "\u001b[1m\u001b[30m|   \u001b[1m\u001b[30m\u001b[41m   Rectangle(double width,double height) \u001b[0m",
      "\u001b[1m\u001b[30m|   \u001b[1m\u001b[30m\u001b[41m   {   \u001b[0m",
      "\u001b[1m\u001b[30m|   \u001b[1m\u001b[30m\u001b[41m      super();\u001b[0m",
      "\u001b[1m\u001b[30m|   \u001b[1m\u001b[30m\u001b[41m      this.width=width;                   \u001b[0m",
      "\u001b[1m\u001b[30m|   \u001b[1m\u001b[30m\u001b[41m      this.height=height;               \u001b[0m",
      "\u001b[1m\u001b[30m|   \u001b[1m\u001b[30m\u001b[41m   }                                          \u001b[0m",
      "\u001b[1m\u001b[30m|   \u001b[1m\u001b[30m\u001b[41m \u001b[0m",
      "\u001b[1m\u001b[30m|   \u001b[1m\u001b[30m\u001b[41m   //double area()                \u001b[0m",
      "\u001b[1m\u001b[30m|   \u001b[1m\u001b[30m\u001b[41m   //{                            \u001b[0m",
      "\u001b[1m\u001b[30m|   \u001b[1m\u001b[30m\u001b[41m   //   return width*height; \u001b[0m",
      "\u001b[1m\u001b[30m|   \u001b[1m\u001b[30m\u001b[41m   //}                            \u001b[0m",
      "\u001b[1m\u001b[30m|   \u001b[1m\u001b[30m\u001b[41m \u001b[0m",
      "\u001b[1m\u001b[30m|   \u001b[1m\u001b[30m\u001b[41m   double perimeter()                   \u001b[0m",
      "\u001b[1m\u001b[30m|   \u001b[1m\u001b[30m\u001b[41m   {                                \u001b[0m",
      "\u001b[1m\u001b[30m|   \u001b[1m\u001b[30m\u001b[41m      return 2*width+2*height; \u001b[0m",
      "\u001b[1m\u001b[30m|   \u001b[1m\u001b[30m\u001b[41m   }                                \u001b[0m",
      "\u001b[1m\u001b[30m|   \u001b[1m\u001b[30m\u001b[41m \u001b[0m",
      "\u001b[1m\u001b[30m|   \u001b[1m\u001b[30m\u001b[41m   public String toString()\u001b[0m",
      "\u001b[1m\u001b[30m|   \u001b[1m\u001b[30m\u001b[41m    {\u001b[0m",
      "\u001b[1m\u001b[30m|   \u001b[1m\u001b[30m\u001b[41m        return \"Rectangle[x=\"+centre.x+\", y=\"+centre.y+\", width=\"+width+\", height=\"+height+\"]\";\u001b[0m",
      "\u001b[1m\u001b[30m|   \u001b[1m\u001b[30m\u001b[41m    }\u001b[0m",
      "\u001b[1m\u001b[30m|   \u001b[1m\u001b[30m\u001b[41m}\u001b[0m",
      "\u001b[1m\u001b[31mRectangle is not abstract and does not override abstract method area() in Measurable\u001b[0m",
      "",
      "\u001b[1m\u001b[30m|   \u001b[1m\u001b[30m   \u001b[0m\u001b[1m\u001b[30m\u001b[41mdouble perimeter()                   \u001b[0m",
      "\u001b[1m\u001b[30m|   \u001b[1m\u001b[30m\u001b[41m   {                                \u001b[0m",
      "\u001b[1m\u001b[30m|   \u001b[1m\u001b[30m\u001b[41m      return 2*width+2*height; \u001b[0m",
      "\u001b[1m\u001b[30m|   \u001b[1m\u001b[30m\u001b[41m   }\u001b[0m\u001b[1m\u001b[30m                                \u001b[0m",
      "\u001b[1m\u001b[31mperimeter() in Rectangle cannot implement perimeter() in Measurable\u001b[0m",
      "\u001b[1m\u001b[31m  attempting to assign weaker access privileges; was public\u001b[0m",
      ""
     ]
    }
   ],
   "source": [
    "class Rectangle extends Figure\n",
    "{\n",
    "   double width;\n",
    "   double height;\n",
    " \n",
    "   Rectangle(double width,double height) \n",
    "   {   \n",
    "      super();\n",
    "      this.width=width;                   \n",
    "      this.height=height;               \n",
    "   }                                          \n",
    " \n",
    "   //double area()                \n",
    "   //{                            \n",
    "   //   return width*height; \n",
    "   //}                            \n",
    " \n",
    "   double perimeter()                   \n",
    "   {                                \n",
    "      return 2*width+2*height; \n",
    "   }                                \n",
    " \n",
    "   public String toString()\n",
    "    {\n",
    "        return \"Rectangle[x=\"+centre.x+\", y=\"+centre.y+\", width=\"+width+\", height=\"+height+\"]\";\n",
    "    }\n",
    "}"
   ]
  }
 ],
 "metadata": {
  "kernelspec": {
   "display_name": "Java",
   "language": "java",
   "name": "java"
  },
  "language_info": {
   "codemirror_mode": "java",
   "file_extension": ".java",
   "mimetype": "text/x-java-source",
   "name": "Java",
   "pygments_lexer": "java",
   "version": "9.0.4+11"
  }
 },
 "nbformat": 4,
 "nbformat_minor": 1
}
