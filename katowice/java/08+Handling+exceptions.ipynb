{
 "cells": [
  {
   "cell_type": "markdown",
   "metadata": {},
   "source": [
    "# Handling exceptions"
   ]
  },
  {
   "cell_type": "markdown",
   "metadata": {},
   "source": [
    "## try-catch statement"
   ]
  },
  {
   "cell_type": "markdown",
   "metadata": {},
   "source": [
    "Exception handling enables a program to deal with runtime errors and continue its execution. Unhandled exception cause the program to terminate abnormally. An exception is an object that represents an error or a condition that prevents execution from proceeding. Exception occurs when the Java interpeter (virtual machine) detects an operation that is impossible to be performed. For example, an attempt to open a file which does not exist or an attempt to access an array with index that exceeds its range. Exceptions divides into the so called \"checked\" and \"unchecked\" ones. The checked exceptions must be handled mandatorily, while handling the unchecked exceptions is not mandatory (but they still may be handled)."
   ]
  },
  {
   "cell_type": "markdown",
   "metadata": {},
   "source": [
    "Exceptions are handled using ```try catch``` statement. The operation which may, possibly, cause exception should be enclosed within the block of ```try```. If an error occurs, execution of this block is interrupted and the control is passed to the appropriate block ```catch```. If the block ```catch``` executes without occurring an error, blocks catch are ignored.\n",
    "\n",
    "Consider division of two integers. When the opperation is possible to carry out, the ```try``` block is executed and any defined ```catch``` blocks are ignored."
   ]
  },
  {
   "cell_type": "code",
   "execution_count": 60,
   "metadata": {
    "collapsed": false
   },
   "outputs": [
    {
     "name": "stdout",
     "output_type": "stream",
     "text": [
      "3\n"
     ]
    }
   ],
   "source": [
    "int i = 27;\n",
    "int j = 9;\n",
    "\n",
    "\n",
    "try\n",
    "{\n",
    "    int k = i/j;\n",
    "    System.out.println(k);\n",
    "}\n",
    "catch(ArithmeticException e1)\n",
    "{\n",
    "    System.out.println(\"Division by zero\");\n",
    "}"
   ]
  },
  {
   "cell_type": "markdown",
   "metadata": {},
   "source": [
    "If divisor is zero, the ```ArithmeticException occurrs```. This results in breaking up the execution of ```try``` block and executing the appropriate ```catch``` bloocks."
   ]
  },
  {
   "cell_type": "code",
   "execution_count": 61,
   "metadata": {
    "collapsed": false
   },
   "outputs": [
    {
     "name": "stdout",
     "output_type": "stream",
     "text": [
      "Division by zero\n"
     ]
    }
   ],
   "source": [
    "int i = 7;\n",
    "int j = 0;\n",
    "\n",
    "\n",
    "try\n",
    "{\n",
    "    int k = i/j;\n",
    "    System.out.println(k);\n",
    "}\n",
    "catch(ArithmeticException e1)\n",
    "{\n",
    "    System.out.println(\"Division by zero\");\n",
    "}"
   ]
  },
  {
   "cell_type": "markdown",
   "metadata": {},
   "source": [
    "## Handling exceptions in networking"
   ]
  },
  {
   "cell_type": "markdown",
   "metadata": {},
   "source": [
    "Exception handling is often used in order to handle exceptions of the operations related with the input/output system (either with regard to files or network operations). Consider the program which attempts to read a sample of a resource delivered by a HTTP server (for details concerning HTTP communication see \"Case study II\" section).\n",
    "\n",
    "If requested resource can be found at the provided URL, the ```try``` block is executed and all ```catch``` blocks are ignored."
   ]
  },
  {
   "cell_type": "code",
   "execution_count": 56,
   "metadata": {
    "collapsed": false
   },
   "outputs": [
    {
     "name": "stdout",
     "output_type": "stream",
     "text": [
      "<html>\n",
      "<head><title>301 Moved Permanently</title></head>\n",
      "<body bgcolor=\"white\">\n",
      "<center><h1>301 Moved Permanently</h1></center>\n",
      "<hr><center>nginx</center>\n",
      "</body>\n",
      "</html>\n"
     ]
    }
   ],
   "source": [
    "import java.util.Scanner;\n",
    "import java.net.URL;\n",
    "\n",
    "String s = \"http://onet.pl\";\n",
    "\n",
    "try \n",
    "{\n",
    "    URL u = new URL(s); \n",
    "    Scanner input = new Scanner(u.openStream());   \n",
    "    int n = 0;\n",
    "    \n",
    "    while (input.hasNext()) \n",
    "    {\n",
    "            String line = input.nextLine();        \n",
    "            System.out.println(line);\n",
    "            if(++n >= 7) break;\n",
    "    }\n",
    "}\n",
    "\n",
    "catch (java.net.MalformedURLException e) \n",
    "{\n",
    "    System.out.println(\"Invalid URL\");\n",
    "}\n",
    "\n",
    "catch (java.io.IOException e) \n",
    "{\n",
    "    System.out.println(\"File not found\");\n",
    "}"
   ]
  },
  {
   "cell_type": "markdown",
   "metadata": {},
   "source": [
    "In the opposite situation, the execution of the ```try``` block is interrupted and the contents of the appropriate ```catch``` block is executed instead."
   ]
  },
  {
   "cell_type": "code",
   "execution_count": 46,
   "metadata": {
    "collapsed": false
   },
   "outputs": [
    {
     "name": "stdout",
     "output_type": "stream",
     "text": [
      "Invalid URL\n"
     ]
    }
   ],
   "source": [
    "import java.util.Scanner;\n",
    "import java.net.URL;\n",
    "\n",
    "String s = \"gfd74ux\";\n",
    "\n",
    "try \n",
    "{\n",
    "    URL u = new URL(s); \n",
    "    Scanner input = new Scanner(u.openStream());   \n",
    "    int n = 0;\n",
    "    \n",
    "    while (input.hasNext()) \n",
    "    {\n",
    "            String line = input.nextLine();        \n",
    "            System.out.println(line);\n",
    "            if(++n >= 7) break;\n",
    "    }\n",
    "}\n",
    "\n",
    "catch (java.net.MalformedURLException e) \n",
    "{\n",
    "    System.out.println(\"Invalid URL\");\n",
    "}\n",
    "\n",
    "catch (java.io.IOException e) \n",
    "{\n",
    "    System.out.println(\"File not found\");\n",
    "}"
   ]
  },
  {
   "cell_type": "code",
   "execution_count": 55,
   "metadata": {
    "collapsed": false
   },
   "outputs": [
    {
     "name": "stdout",
     "output_type": "stream",
     "text": [
      "File not found\n"
     ]
    }
   ],
   "source": [
    "import java.util.Scanner;\n",
    "import java.net.URL;\n",
    "\n",
    "String s = \"http://gfd74ux.pl\";\n",
    "\n",
    "try \n",
    "{\n",
    "    URL u = new URL(s); \n",
    "    Scanner input = new Scanner(u.openStream()); \n",
    "    int n = 0;\n",
    "\n",
    "    while (input.hasNext()) \n",
    "    {\n",
    "            String line = input.nextLine();        \n",
    "            System.out.println(line);\n",
    "            if(++n >= 7) break;\n",
    "    }\n",
    "}\n",
    "\n",
    "catch (java.net.MalformedURLException e) \n",
    "{\n",
    "    System.out.println(\"Invalid URL\");\n",
    "}\n",
    "\n",
    "catch (java.io.IOException e) \n",
    "{\n",
    "    System.out.println(\"File not found\");\n",
    "}"
   ]
  },
  {
   "cell_type": "markdown",
   "metadata": {
    "collapsed": true
   },
   "source": [
    "## Throwing exceptions"
   ]
  },
  {
   "cell_type": "markdown",
   "metadata": {},
   "source": [
    "You can also throw exceptions explicitely, with ```throw``` keyword, and then handle them."
   ]
  },
  {
   "cell_type": "code",
   "execution_count": 97,
   "metadata": {
    "collapsed": false
   },
   "outputs": [
    {
     "name": "stdout",
     "output_type": "stream",
     "text": [
      "Infinity\n"
     ]
    }
   ],
   "source": [
    "double x = 7.0;\n",
    "double y = 0;\n",
    "\n",
    "System.out.println( x/y );"
   ]
  },
  {
   "cell_type": "code",
   "execution_count": 119,
   "metadata": {
    "collapsed": false
   },
   "outputs": [
    {
     "name": "stdout",
     "output_type": "stream",
     "text": [
      "Division by zero!\n"
     ]
    }
   ],
   "source": [
    "int i = 27;\n",
    "int j = 0;\n",
    "\n",
    "try\n",
    "{\n",
    "    if(j==0)throw new ArithmeticException();\n",
    "\n",
    "    int k = i/j;\n",
    "    System.out.println(k);\n",
    "}\n",
    "catch(ArithmeticException e1)\n",
    "{\n",
    "    System.out.println(\"Division by zero!\");\n",
    "}"
   ]
  },
  {
   "cell_type": "code",
   "execution_count": 118,
   "metadata": {
    "collapsed": false
   },
   "outputs": [
    {
     "name": "stdout",
     "output_type": "stream",
     "text": [
      "Denominator cannot be zero!\n"
     ]
    }
   ],
   "source": [
    "class Fraction\n",
    "{\n",
    "    int nominator;\n",
    "    int denominator;\n",
    "    \n",
    "    Fraction(int nominator,int denominator)\n",
    "    {\n",
    "        try\n",
    "        {\n",
    "            if(denominator==0) throw new ArithmeticException();\n",
    "            this.nominator = nominator;\n",
    "            this.denominator = denominator;\n",
    "        }\n",
    "        catch(ArithmeticException e)\n",
    "        {\n",
    "            System.out.println(\"Denominator cannot be zero!\");\n",
    "        }\n",
    "    }\n",
    "}\n",
    "\n",
    "Fraction obj = new Fraction(2,0);"
   ]
  },
  {
   "cell_type": "code",
   "execution_count": 105,
   "metadata": {
    "collapsed": false
   },
   "outputs": [
    {
     "name": "stdout",
     "output_type": "stream",
     "text": [
      "Radius cannot be less than zero!\n",
      "Circle[radius=0.0]\n"
     ]
    }
   ],
   "source": [
    "class Circle\n",
    "{\n",
    "    double radius;\n",
    "    \n",
    "    Circle(double radius)\n",
    "    {\n",
    "        try\n",
    "        {\n",
    "            if(radius<0) throw new Exception();       \n",
    "            this.radius = radius;\n",
    "        }\n",
    "        catch(Exception e)\n",
    "        {\n",
    "                System.out.println(\"Radius cannot be less than zero!\");\n",
    "        }\n",
    "    }\n",
    "    \n",
    "    public String toString()\n",
    "    {\n",
    "        return \"Circle[radius=\"+radius + \"]\";\n",
    "    }\n",
    "}\n",
    "\n",
    "Circle obj = new Circle(-16);\n",
    "System.out.println( obj );"
   ]
  },
  {
   "cell_type": "markdown",
   "metadata": {},
   "source": [
    "## Defining custom exception classes"
   ]
  },
  {
   "cell_type": "markdown",
   "metadata": {},
   "source": [
    "You can define your own exception classes, which extends Exception class."
   ]
  },
  {
   "cell_type": "code",
   "execution_count": 128,
   "metadata": {
    "collapsed": false
   },
   "outputs": [],
   "source": [
    "class InvalidRadiusException extends Exception\n",
    "{\n",
    "    double radius;\n",
    "    \n",
    "    InvalidRadiusException(double radius)\n",
    "    {\n",
    "        this.radius=radius;\n",
    "    }\n",
    "    \n",
    "    public String toString()\n",
    "    {\n",
    "        return \"Invalid radius: \" +radius;\n",
    "    }\n",
    "}"
   ]
  },
  {
   "cell_type": "markdown",
   "metadata": {},
   "source": [
    "The exception you defined may be the used to handling exceptions."
   ]
  },
  {
   "cell_type": "code",
   "execution_count": 130,
   "metadata": {
    "collapsed": false
   },
   "outputs": [
    {
     "name": "stdout",
     "output_type": "stream",
     "text": [
      "Circle[radius=7.0]\n"
     ]
    }
   ],
   "source": [
    "class Circle\n",
    "{\n",
    "    double radius;\n",
    "    \n",
    "    Circle(double radius)\n",
    "    {\n",
    "        try\n",
    "        {\n",
    "            if(radius<0) throw new InvalidRadiusException(radius);       \n",
    "            this.radius = radius;\n",
    "        }\n",
    "        catch(InvalidRadiusException e)\n",
    "        {\n",
    "                System.out.println(\"Radius cannot be less than zero!\");\n",
    "        }\n",
    "    }\n",
    "    \n",
    "    public String toString()\n",
    "    {\n",
    "        return \"Circle[radius=\" + radius + \"]\";\n",
    "    }\n",
    "}\n",
    "\n",
    "Circle obj = new Circle(7);\n",
    "System.out.println( obj );"
   ]
  },
  {
   "cell_type": "markdown",
   "metadata": {},
   "source": [
    "## Declaring exceptions"
   ]
  },
  {
   "cell_type": "markdown",
   "metadata": {},
   "source": [
    "If a method or constructor throws unhandled exception it must declare this exception in order to enable handling it by the method which invoke this method."
   ]
  },
  {
   "cell_type": "code",
   "execution_count": 137,
   "metadata": {
    "collapsed": false
   },
   "outputs": [],
   "source": [
    "class Circle\n",
    "{\n",
    "    double radius;\n",
    "    \n",
    "    Circle(double radius) throws Exception   //constructor declaring an exception\n",
    "    {\n",
    "        if(radius<0) throw new Exception();       \n",
    "        this.radius = radius;\n",
    "    }\n",
    "    \n",
    "    public String toString()\n",
    "    {\n",
    "        return \"Circle[radius=\"+radius + \"]\";\n",
    "    }\n",
    "}"
   ]
  },
  {
   "cell_type": "markdown",
   "metadata": {},
   "source": [
    "Now, the exception can be handled by the method which create this object with this constructor or invoke a the method declaring it."
   ]
  },
  {
   "cell_type": "code",
   "execution_count": 139,
   "metadata": {
    "collapsed": false
   },
   "outputs": [
    {
     "name": "stdout",
     "output_type": "stream",
     "text": [
      "Radius cannot be less than zero!\n",
      "Circle[radius=-16.0]\n"
     ]
    }
   ],
   "source": [
    "Circle obj;\n",
    "\n",
    "try\n",
    "{\n",
    "    obj = new Circle(-16);\n",
    "}\n",
    "catch(Exception e)\n",
    "{\n",
    "        System.out.println(\"Radius cannot be less than zero!\");\n",
    "}\n",
    "    \n",
    "System.out.println( obj );"
   ]
  }
 ],
 "metadata": {
  "kernelspec": {
   "display_name": "Java",
   "language": "java",
   "name": "java"
  },
  "language_info": {
   "codemirror_mode": "java",
   "file_extension": ".java",
   "mimetype": "text/x-java-source",
   "name": "Java",
   "pygments_lexer": "java",
   "version": "9.0.4+11"
  }
 },
 "nbformat": 4,
 "nbformat_minor": 1
}
