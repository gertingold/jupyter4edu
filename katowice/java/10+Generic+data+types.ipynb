{
 "cells": [
  {
   "cell_type": "markdown",
   "metadata": {},
   "source": [
    "# Generic data types"
   ]
  },
  {
   "cell_type": "markdown",
   "metadata": {
    "collapsed": true
   },
   "source": [
    "Generics let you parametrize types, which means that you can define classes and methods using generic type parameters that will subsequently be automatically replaced by the actual types by the Java compiler. As in the case of abstract classes, the benefit of using generics is to find out errors at compile time."
   ]
  },
  {
   "cell_type": "markdown",
   "metadata": {},
   "source": [
    "## Using generic classes"
   ]
  },
  {
   "cell_type": "markdown",
   "metadata": {},
   "source": [
    "Let us consider java.util.ArrayList available in the Java API, designed to provide basic functionality of the list. If you create ```ArrayList``` without specifying the type parameter, it compiles with warning stating that the compilation unit ```uses unchecked or unsafe operations```, but you can use it and store objects of different types in it (by inheritance, all objects in java are the objects of the type java.lang Object)."
   ]
  },
  {
   "cell_type": "code",
   "execution_count": 167,
   "metadata": {
    "collapsed": false
   },
   "outputs": [
    {
     "name": "stdout",
     "output_type": "stream",
     "text": [
      "[Apple, Prune, 7]\n"
     ]
    }
   ],
   "source": [
    "ArrayList a = new ArrayList(); //this produces compiler warning: unchecked or unsafe operations\n",
    "\n",
    "a.add( new String(\"Apple\") );\n",
    "a.add( new String(\"Prune\") );\n",
    "a.add( new Integer(7) );\n",
    "\n",
    "System.out.println(a);"
   ]
  },
  {
   "cell_type": "markdown",
   "metadata": {},
   "source": [
    "```ArrayList``` class is actually defined (in the Java API) as ```ArrayList<E>```, where ```E``` is a generic type parameter. This means, that you can create it specifying the type of its elements. This will produce an error at compile time if you try to put the objects of some other type to the list. If this is unwanted, this prevents from the code being compiled and, consequently, from run-time errors. __The error message which is produced by the cell below illustrates the message normally generated at the compile time and is left intentionally__."
   ]
  },
  {
   "cell_type": "code",
   "execution_count": 168,
   "metadata": {
    "collapsed": false
   },
   "outputs": [
    {
     "ename": "CompilationException",
     "evalue": "",
     "output_type": "error",
     "traceback": [
      "\u001b[1m\u001b[30m|   \u001b[1m\u001b[30m\u001b[0m\u001b[1m\u001b[30m\u001b[41ma.add\u001b[0m\u001b[1m\u001b[30m( new Integer(7) );\u001b[0m",
      "\u001b[1m\u001b[31mno suitable method found for add(java.lang.Integer)\u001b[0m",
      "\u001b[1m\u001b[31m    method java.util.Collection.add(java.lang.String) is not applicable\u001b[0m",
      "\u001b[1m\u001b[31m      (argument mismatch; java.lang.Integer cannot be converted to java.lang.String)\u001b[0m",
      "\u001b[1m\u001b[31m    method java.util.List.add(java.lang.String) is not applicable\u001b[0m",
      "\u001b[1m\u001b[31m      (argument mismatch; java.lang.Integer cannot be converted to java.lang.String)\u001b[0m",
      "\u001b[1m\u001b[31m    method java.util.AbstractCollection.add(java.lang.String) is not applicable\u001b[0m",
      "\u001b[1m\u001b[31m      (argument mismatch; java.lang.Integer cannot be converted to java.lang.String)\u001b[0m",
      "\u001b[1m\u001b[31m    method java.util.AbstractList.add(java.lang.String) is not applicable\u001b[0m",
      "\u001b[1m\u001b[31m      (argument mismatch; java.lang.Integer cannot be converted to java.lang.String)\u001b[0m",
      "\u001b[1m\u001b[31m    method java.util.ArrayList.add(java.lang.String) is not applicable\u001b[0m",
      "\u001b[1m\u001b[31m      (argument mismatch; java.lang.Integer cannot be converted to java.lang.String)\u001b[0m",
      ""
     ]
    }
   ],
   "source": [
    "ArrayList <String> a = new ArrayList <> ();\n",
    "\n",
    "a.add( new String(\"Apple\") );\n",
    "a.add( new String(\"Prune\") );\n",
    "a.add( new Integer(7) );\n",
    "\n",
    "System.out.println(a);"
   ]
  },
  {
   "cell_type": "markdown",
   "metadata": {},
   "source": [
    "The same applies also to interfaces. Consider the use of ```java.lang.Comparator``` interface of the Java API. Using it without generic parameter results with unsafe operation, detected during the runtime."
   ]
  },
  {
   "cell_type": "code",
   "execution_count": 2,
   "metadata": {
    "collapsed": false
   },
   "outputs": [
    {
     "ename": "EvalException",
     "evalue": "java.base/java.lang.String cannot be cast to java.base/java.util.Date",
     "output_type": "error",
     "traceback": [
      "\u001b[1m\u001b[31m---------------------------------------------------------------------------\u001b[0m",
      "\u001b[1m\u001b[31mjava.lang.ClassCastException: java.base/java.lang.String cannot be cast to java.base/java.util.Date\u001b[0m",
      "\u001b[1m\u001b[31m\tat java.base/java.util.Date.compareTo(Date.java:133)\u001b[0m",
      "\u001b[1m\u001b[31m\tat .(#18:1)\u001b[0m"
     ]
    }
   ],
   "source": [
    "import java.util.Date;\n",
    "\n",
    "java.lang.Comparable c = new Date();\n",
    "System.out.println(c.compareTo(\"Apple\"));"
   ]
  },
  {
   "cell_type": "markdown",
   "metadata": {},
   "source": [
    "On the other hand, the use of generic type as a parameter makes the problem detectable at the compile time."
   ]
  },
  {
   "cell_type": "code",
   "execution_count": 3,
   "metadata": {
    "collapsed": false
   },
   "outputs": [
    {
     "ename": "CompilationException",
     "evalue": "",
     "output_type": "error",
     "traceback": [
      "\u001b[1m\u001b[30m|   \u001b[1m\u001b[30mSystem.out.println(c.compareTo(\u001b[0m\u001b[1m\u001b[30m\u001b[41m\"Apple\"\u001b[0m\u001b[1m\u001b[30m));\u001b[0m",
      "\u001b[1m\u001b[31mincompatible types: java.lang.String cannot be converted to java.util.Date\u001b[0m",
      ""
     ]
    }
   ],
   "source": [
    "import java.util.Date;\n",
    "\n",
    "java.lang.Comparable <Date> c = new Date();\n",
    "System.out.println(c.compareTo(\"Apple\"));"
   ]
  },
  {
   "cell_type": "markdown",
   "metadata": {},
   "source": [
    "## Defining generic classes and interfaces"
   ]
  },
  {
   "cell_type": "markdown",
   "metadata": {},
   "source": [
    "A class or an interface can be defined with the use of generic type. Let us consider an implementation of stack parametrized with the use of generic type. By convention, this generic type is denoted with a single capital letter."
   ]
  },
  {
   "cell_type": "code",
   "execution_count": 86,
   "metadata": {
    "collapsed": false
   },
   "outputs": [],
   "source": [
    "class Stack<E> \n",
    "{\n",
    "    java.util.ArrayList <E> list = new java.util.ArrayList<>();\n",
    "    \n",
    "    E peek() \n",
    "    {\n",
    "         return list.get(getSize() - 1);\n",
    "    }\n",
    "\n",
    "    void push(E obj) \n",
    "    {\n",
    "        list.add(obj);\n",
    "    }\n",
    "    \n",
    "    E pop() \n",
    "    {\n",
    "        E obj = list.get(getSize() - 1); \n",
    "        list.remove(getSize() - 1); \n",
    "        return obj;\n",
    "    }\n",
    "    \n",
    "    int getSize() \n",
    "    {\n",
    "       return list.size();\n",
    "    }\n",
    "    \n",
    "    boolean isEmpty()\n",
    "    {\n",
    "        return list.isEmpty();\n",
    "    }\n",
    "\n",
    "    public String toString()\n",
    "    {\n",
    "        return \"stack: \" + list.toString();\n",
    "    }\n",
    "}"
   ]
  },
  {
   "cell_type": "markdown",
   "metadata": {},
   "source": [
    "At the time of instantianating this class, a concrete type must be specified. Consequently, the operations on this instance are to be performed with respect to this concrete type."
   ]
  },
  {
   "cell_type": "code",
   "execution_count": 100,
   "metadata": {
    "collapsed": false
   },
   "outputs": [
    {
     "name": "stdout",
     "output_type": "stream",
     "text": [
      "stack: []\n"
     ]
    }
   ],
   "source": [
    "Stack<String> s = new Stack<>();\n",
    "System.out.println(s);"
   ]
  },
  {
   "cell_type": "code",
   "execution_count": 101,
   "metadata": {
    "collapsed": false
   },
   "outputs": [
    {
     "name": "stdout",
     "output_type": "stream",
     "text": [
      "stack: [Apple, Pear, Prune, Cherry, Peach]\n"
     ]
    }
   ],
   "source": [
    "s.push(\"Apple\");\n",
    "s.push(\"Pear\");\n",
    "s.push(\"Prune\");\n",
    "s.push(\"Cherry\");\n",
    "s.push(\"Peach\");\n",
    "System.out.println(s);"
   ]
  },
  {
   "cell_type": "code",
   "execution_count": 102,
   "metadata": {
    "collapsed": false
   },
   "outputs": [
    {
     "name": "stdout",
     "output_type": "stream",
     "text": [
      "stack: [Apple, Pear, Prune, Cherry, Peach]\n",
      "stack: [Apple, Pear, Prune, Cherry]\n",
      "stack: [Apple, Pear, Prune]\n"
     ]
    }
   ],
   "source": [
    "System.out.println(s);\n",
    "\n",
    "s.pop();\n",
    "System.out.println(s);\n",
    "\n",
    "s.pop();\n",
    "System.out.println(s);"
   ]
  },
  {
   "cell_type": "code",
   "execution_count": 103,
   "metadata": {
    "collapsed": false
   },
   "outputs": [
    {
     "name": "stdout",
     "output_type": "stream",
     "text": [
      "Prune\n",
      "stack: [Apple, Pear, Prune]\n"
     ]
    }
   ],
   "source": [
    "String obj = s.peek();\n",
    "System.out.println(obj);\n",
    "System.out.println(s);"
   ]
  },
  {
   "cell_type": "code",
   "execution_count": 104,
   "metadata": {
    "collapsed": false
   },
   "outputs": [
    {
     "name": "stdout",
     "output_type": "stream",
     "text": [
      "false\n"
     ]
    }
   ],
   "source": [
    "System.out.println(s.isEmpty());"
   ]
  },
  {
   "cell_type": "code",
   "execution_count": 105,
   "metadata": {
    "collapsed": false
   },
   "outputs": [
    {
     "name": "stdout",
     "output_type": "stream",
     "text": [
      "3\n"
     ]
    }
   ],
   "source": [
    "System.out.println(s.getSize());"
   ]
  },
  {
   "cell_type": "markdown",
   "metadata": {},
   "source": [
    "## Generic methods"
   ]
  },
  {
   "cell_type": "markdown",
   "metadata": {},
   "source": [
    "Except classes and interfaces, generic type parametrization can be also used to define static functions."
   ]
  },
  {
   "cell_type": "code",
   "execution_count": 4,
   "metadata": {
    "collapsed": false
   },
   "outputs": [],
   "source": [
    "Integer[] i = {1,2,3,4,5,6,7};\n",
    "String[] s = {\"Apple\",\"Pear\",\"Prune\",\"Cherry\",\"Peach\"};"
   ]
  },
  {
   "cell_type": "code",
   "execution_count": 5,
   "metadata": {
    "collapsed": false
   },
   "outputs": [],
   "source": [
    "class A\n",
    "{\n",
    "    static <E> void print( E[] list )\n",
    "    {\n",
    "        for(int i=0;i<list.length;i++)\n",
    "        {\n",
    "            System.out.println(list[i]);\n",
    "        }\n",
    "    }\n",
    "}"
   ]
  },
  {
   "cell_type": "markdown",
   "metadata": {},
   "source": [
    "Now, you may invoke the generic method using in the following way."
   ]
  },
  {
   "cell_type": "code",
   "execution_count": 7,
   "metadata": {
    "collapsed": false
   },
   "outputs": [
    {
     "name": "stdout",
     "output_type": "stream",
     "text": [
      "1\n",
      "2\n",
      "3\n",
      "4\n",
      "5\n",
      "6\n",
      "7\n"
     ]
    }
   ],
   "source": [
    "A.<Integer>print(i);"
   ]
  },
  {
   "cell_type": "code",
   "execution_count": 8,
   "metadata": {
    "collapsed": false
   },
   "outputs": [
    {
     "name": "stdout",
     "output_type": "stream",
     "text": [
      "Apple\n",
      "Pear\n",
      "Prune\n",
      "Cherry\n",
      "Peach\n"
     ]
    }
   ],
   "source": [
    "A.<String>print(s);"
   ]
  }
 ],
 "metadata": {
  "kernelspec": {
   "display_name": "Java",
   "language": "java",
   "name": "java"
  },
  "language_info": {
   "codemirror_mode": "java",
   "file_extension": ".java",
   "mimetype": "text/x-java-source",
   "name": "Java",
   "pygments_lexer": "java",
   "version": "9.0.4+11"
  }
 },
 "nbformat": 4,
 "nbformat_minor": 1
}
