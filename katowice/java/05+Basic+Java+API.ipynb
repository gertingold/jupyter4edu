{
 "cells": [
  {
   "cell_type": "markdown",
   "metadata": {},
   "source": [
    "# Basic Java API"
   ]
  },
  {
   "cell_type": "markdown",
   "metadata": {},
   "source": [
    "The Java platform consists of two components - virtual machine (bytecode interpreter) and Java API (library of class and interfaces, designed for a variety of applications, which is delivered with the Java platform). Classes of Java API are grouped in packages, which names starts with ```java``` or ```javax```. For example, ```java.net``` package contain classes which are used in networking applications. Information on the Java API classes can be found in \"Java Platform API Specification\"."
   ]
  },
  {
   "cell_type": "markdown",
   "metadata": {},
   "source": [
    "## Library classes and interfaces"
   ]
  },
  {
   "cell_type": "markdown",
   "metadata": {},
   "source": [
    "In one of the previous worksheets you wrote definitions of classes representing geometrical figures on the plane. Similar functionality can also be found in Java API library, in the package named ```java.awt```. Note that the ```java.awt.Rectangle``` class have four fields of the type ```int```, these are ```x```, ```y```, ```width``` and ```height```."
   ]
  },
  {
   "cell_type": "code",
   "execution_count": 97,
   "metadata": {
    "collapsed": false
   },
   "outputs": [
    {
     "name": "stdout",
     "output_type": "stream",
     "text": [
      "java.awt.Rectangle[x=0,y=0,width=4,height=3]\n",
      "java.awt.Rectangle[x=1,y=-1,width=4,height=3]\n"
     ]
    }
   ],
   "source": [
    "java.awt.Rectangle obj=new java.awt.Rectangle(0,0,4,3); \n",
    "System.out.println(obj);              \n",
    "\n",
    "obj.translate(1,-1);                  \n",
    "System.out.println(obj);          "
   ]
  },
  {
   "cell_type": "markdown",
   "metadata": {},
   "source": [
    "Or move the rectangle to the specified location."
   ]
  },
  {
   "cell_type": "code",
   "execution_count": 98,
   "metadata": {
    "collapsed": false
   },
   "outputs": [
    {
     "name": "stdout",
     "output_type": "stream",
     "text": [
      "java.awt.Rectangle[x=0,y=0,width=4,height=3]\n",
      "java.awt.Rectangle[x=10,y=-10,width=4,height=3]\n"
     ]
    }
   ],
   "source": [
    "java.awt.Rectangle obj=new java.awt.Rectangle(0,0,4,3); \n",
    "System.out.println(obj);              \n",
    "\n",
    "obj.setLocation(10,-10);                  \n",
    "System.out.println(obj);          "
   ]
  },
  {
   "cell_type": "markdown",
   "metadata": {},
   "source": [
    "In order to use short class names (```Rectangle```) instead the full names containg the name of enclosing package, you can use one or more import statement at the top of the Java source file, below (optional) package statement."
   ]
  },
  {
   "cell_type": "code",
   "execution_count": 9,
   "metadata": {
    "collapsed": true
   },
   "outputs": [],
   "source": [
    "import java.awt.Point;\n",
    "import java.awt.Rectangle;"
   ]
  },
  {
   "cell_type": "markdown",
   "metadata": {},
   "source": [
    "Now you can use the functionality of these Java API classes and check whether a point belongs to the interior of the given rectangle."
   ]
  },
  {
   "cell_type": "code",
   "execution_count": 10,
   "metadata": {
    "collapsed": false
   },
   "outputs": [
    {
     "name": "stdout",
     "output_type": "stream",
     "text": [
      "The rectangle DOES NOT contain the point\n"
     ]
    }
   ],
   "source": [
    "Point p1 = new Point(-1,0);\n",
    "\n",
    "if(r1.contains(p1))\n",
    "{\n",
    "    System.out.println(\"The rectangle contains the point\");\n",
    "}\n",
    "else\n",
    "{\n",
    "    System.out.println(\"The rectangle DOES NOT contain the point\");\n",
    "}"
   ]
  },
  {
   "cell_type": "markdown",
   "metadata": {},
   "source": [
    "You can test whether or not two rectangles intersects one with another."
   ]
  },
  {
   "cell_type": "code",
   "execution_count": 11,
   "metadata": {
    "collapsed": false
   },
   "outputs": [
    {
     "name": "stdout",
     "output_type": "stream",
     "text": [
      "true\n"
     ]
    }
   ],
   "source": [
    "Rectangle r1 = new Rectangle(0,0,7,3);\n",
    "Rectangle r2 = new Rectangle(-2,-2,7,3);\n",
    "\n",
    "boolean b = r1.intersects(r2);\n",
    "System.out.println(b);"
   ]
  },
  {
   "cell_type": "markdown",
   "metadata": {},
   "source": [
    "Or you can find a rectangle which is intersection of two given rectangles."
   ]
  },
  {
   "cell_type": "code",
   "execution_count": 12,
   "metadata": {
    "collapsed": false
   },
   "outputs": [
    {
     "name": "stdout",
     "output_type": "stream",
     "text": [
      "java.awt.Rectangle[x=0,y=0,width=5,height=1]\n"
     ]
    }
   ],
   "source": [
    "Rectangle r1 = new Rectangle(0,0,7,3);\n",
    "Rectangle r2 = new Rectangle(-2,-2,7,3);\n",
    "\n",
    "Rectangle r3 = r1.intersection(r2);\n",
    "System.out.println(r3);"
   ]
  },
  {
   "cell_type": "markdown",
   "metadata": {},
   "source": [
    "You can also add another rectangle to the current one."
   ]
  },
  {
   "cell_type": "code",
   "execution_count": 94,
   "metadata": {
    "collapsed": false
   },
   "outputs": [
    {
     "name": "stdout",
     "output_type": "stream",
     "text": [
      "java.awt.Rectangle[x=0,y=0,width=7,height=13]\n"
     ]
    }
   ],
   "source": [
    "Rectangle r1 = new Rectangle(0,0,7,3);\n",
    "Rectangle r2 = new Rectangle(0,3,7,10);\n",
    "\n",
    "r1.add(r2);\n",
    "System.out.println( r1 );"
   ]
  },
  {
   "cell_type": "markdown",
   "metadata": {},
   "source": [
    "## Class java.lang.String"
   ]
  },
  {
   "cell_type": "markdown",
   "metadata": {},
   "source": [
    "Class __```String```__ provides basic functionality of manipulating textual data. Below you can find examples of its usage."
   ]
  },
  {
   "cell_type": "code",
   "execution_count": 14,
   "metadata": {
    "collapsed": true
   },
   "outputs": [],
   "source": [
    "String s = \"Gallia est omnis divisa in partes tres\";"
   ]
  },
  {
   "cell_type": "markdown",
   "metadata": {},
   "source": [
    "Determining the length of text."
   ]
  },
  {
   "cell_type": "code",
   "execution_count": 15,
   "metadata": {
    "collapsed": false
   },
   "outputs": [
    {
     "name": "stdout",
     "output_type": "stream",
     "text": [
      "38\n"
     ]
    }
   ],
   "source": [
    "System.out.println( s.length() );"
   ]
  },
  {
   "cell_type": "markdown",
   "metadata": {},
   "source": [
    "Determining the position of first occurence of a given substring."
   ]
  },
  {
   "cell_type": "code",
   "execution_count": 21,
   "metadata": {
    "collapsed": false
   },
   "outputs": [
    {
     "name": "stdout",
     "output_type": "stream",
     "text": [
      "11\n"
     ]
    }
   ],
   "source": [
    "System.out.println( s.indexOf(\"omnis\") );"
   ]
  },
  {
   "cell_type": "markdown",
   "metadata": {},
   "source": [
    "Determining position of the last occurence of a given substring."
   ]
  },
  {
   "cell_type": "code",
   "execution_count": 22,
   "metadata": {
    "collapsed": false
   },
   "outputs": [
    {
     "name": "stdout",
     "output_type": "stream",
     "text": [
      "11\n"
     ]
    }
   ],
   "source": [
    "System.out.println( s.lastIndexOf(\"omnis\") );"
   ]
  },
  {
   "cell_type": "markdown",
   "metadata": {},
   "source": [
    "Extracting a substring."
   ]
  },
  {
   "cell_type": "code",
   "execution_count": 19,
   "metadata": {
    "collapsed": false
   },
   "outputs": [
    {
     "name": "stdout",
     "output_type": "stream",
     "text": [
      "omnis divisa\n"
     ]
    }
   ],
   "source": [
    "System.out.println( s.substring(11,23) );"
   ]
  },
  {
   "cell_type": "markdown",
   "metadata": {},
   "source": [
    "Testing whether a string starts with a given pattern."
   ]
  },
  {
   "cell_type": "code",
   "execution_count": 23,
   "metadata": {
    "collapsed": false
   },
   "outputs": [
    {
     "name": "stdout",
     "output_type": "stream",
     "text": [
      "false\n"
     ]
    }
   ],
   "source": [
    "System.out.println( s.startsWith(\"omnis\") );"
   ]
  },
  {
   "cell_type": "markdown",
   "metadata": {},
   "source": [
    "Replace a substring with another text."
   ]
  },
  {
   "cell_type": "code",
   "execution_count": 24,
   "metadata": {
    "collapsed": false
   },
   "outputs": [
    {
     "name": "stdout",
     "output_type": "stream",
     "text": [
      "Aquitania est omnis divisa in partes tres\n"
     ]
    }
   ],
   "source": [
    "System.out.println( s.replace(\"Gallia\",\"Aquitania\") );"
   ]
  },
  {
   "cell_type": "markdown",
   "metadata": {},
   "source": [
    "Converting to upper case."
   ]
  },
  {
   "cell_type": "code",
   "execution_count": 25,
   "metadata": {
    "collapsed": false
   },
   "outputs": [
    {
     "name": "stdout",
     "output_type": "stream",
     "text": [
      "GALLIA EST OMNIS DIVISA IN PARTES TRES\n"
     ]
    }
   ],
   "source": [
    "System.out.println( s.toUpperCase() );"
   ]
  },
  {
   "cell_type": "markdown",
   "metadata": {},
   "source": [
    "Dividing a text into tokens, according to specified separator."
   ]
  },
  {
   "cell_type": "code",
   "execution_count": 27,
   "metadata": {
    "collapsed": false
   },
   "outputs": [
    {
     "name": "stdout",
     "output_type": "stream",
     "text": [
      "Gallia\n",
      "est\n",
      "omnis\n",
      "divisa\n",
      "in\n",
      "partes\n",
      "tres\n"
     ]
    }
   ],
   "source": [
    "String[] a;\n",
    "a = s.split(\" \");\n",
    "\n",
    "for(int i=0;i<a.length;i++)\n",
    "{\n",
    "    System.out.println( a[i] );\n",
    "}"
   ]
  },
  {
   "cell_type": "markdown",
   "metadata": {},
   "source": [
    "## Class java.lang.Math"
   ]
  },
  {
   "cell_type": "markdown",
   "metadata": {},
   "source": [
    "Mathematical functions and constants $\\pi$ and $e$ are defined as static components of the class __```Math```__. Below you find examples of their usage."
   ]
  },
  {
   "cell_type": "markdown",
   "metadata": {},
   "source": [
    "$\\pi$ constant"
   ]
  },
  {
   "cell_type": "code",
   "execution_count": 28,
   "metadata": {
    "collapsed": false
   },
   "outputs": [
    {
     "name": "stdout",
     "output_type": "stream",
     "text": [
      "3.141592653589793\n"
     ]
    }
   ],
   "source": [
    "System.out.println( Math.PI );"
   ]
  },
  {
   "cell_type": "markdown",
   "metadata": {},
   "source": [
    "$e$ constant"
   ]
  },
  {
   "cell_type": "code",
   "execution_count": 29,
   "metadata": {
    "collapsed": false
   },
   "outputs": [
    {
     "name": "stdout",
     "output_type": "stream",
     "text": [
      "2.718281828459045\n"
     ]
    }
   ],
   "source": [
    "System.out.println( Math.E );"
   ]
  },
  {
   "cell_type": "markdown",
   "metadata": {},
   "source": [
    "Absolute value"
   ]
  },
  {
   "cell_type": "code",
   "execution_count": 41,
   "metadata": {
    "collapsed": false
   },
   "outputs": [
    {
     "name": "stdout",
     "output_type": "stream",
     "text": [
      "1\n",
      "1.0\n"
     ]
    }
   ],
   "source": [
    "System.out.println(Math.abs(-1) );\n",
    "System.out.println(Math.abs(-1.0) );"
   ]
  },
  {
   "cell_type": "markdown",
   "metadata": {},
   "source": [
    "Square root"
   ]
  },
  {
   "cell_type": "code",
   "execution_count": 42,
   "metadata": {
    "collapsed": false
   },
   "outputs": [
    {
     "name": "stdout",
     "output_type": "stream",
     "text": [
      "2.0\n"
     ]
    }
   ],
   "source": [
    "System.out.println(Math.sqrt(4) );"
   ]
  },
  {
   "cell_type": "markdown",
   "metadata": {},
   "source": [
    "Cubic root"
   ]
  },
  {
   "cell_type": "code",
   "execution_count": 61,
   "metadata": {
    "collapsed": false
   },
   "outputs": [
    {
     "name": "stdout",
     "output_type": "stream",
     "text": [
      "3.0\n"
     ]
    }
   ],
   "source": [
    "System.out.println( Math.cbrt(27) );"
   ]
  },
  {
   "cell_type": "markdown",
   "metadata": {},
   "source": [
    "Value of power"
   ]
  },
  {
   "cell_type": "code",
   "execution_count": 44,
   "metadata": {
    "collapsed": false
   },
   "outputs": [
    {
     "name": "stdout",
     "output_type": "stream",
     "text": [
      "1024.0\n"
     ]
    }
   ],
   "source": [
    "System.out.println(Math.pow(2,10) );"
   ]
  },
  {
   "cell_type": "markdown",
   "metadata": {},
   "source": [
    "Value of cosine"
   ]
  },
  {
   "cell_type": "code",
   "execution_count": 69,
   "metadata": {
    "collapsed": false
   },
   "outputs": [
    {
     "name": "stdout",
     "output_type": "stream",
     "text": [
      "1.0\n"
     ]
    }
   ],
   "source": [
    "System.out.println( Math.cos(2*Math.PI) );"
   ]
  },
  {
   "cell_type": "markdown",
   "metadata": {},
   "source": [
    "Value of sine"
   ]
  },
  {
   "cell_type": "code",
   "execution_count": 35,
   "metadata": {
    "collapsed": false
   },
   "outputs": [
    {
     "name": "stdout",
     "output_type": "stream",
     "text": [
      "0.7071067811865475\n"
     ]
    }
   ],
   "source": [
    "System.out.println( Math.sin(0.25*Math.PI) );"
   ]
  },
  {
   "cell_type": "markdown",
   "metadata": {},
   "source": [
    "Value of arc tangent"
   ]
  },
  {
   "cell_type": "code",
   "execution_count": 33,
   "metadata": {
    "collapsed": false
   },
   "outputs": [
    {
     "name": "stdout",
     "output_type": "stream",
     "text": [
      "0.7853981633974483\n"
     ]
    }
   ],
   "source": [
    "System.out.println( Math.atan(1) );"
   ]
  },
  {
   "cell_type": "markdown",
   "metadata": {},
   "source": [
    "Value of exponent"
   ]
  },
  {
   "cell_type": "code",
   "execution_count": 60,
   "metadata": {
    "collapsed": false
   },
   "outputs": [
    {
     "name": "stdout",
     "output_type": "stream",
     "text": [
      "2.718281828459045\n"
     ]
    }
   ],
   "source": [
    "System.out.println( Math.exp(1) );"
   ]
  },
  {
   "cell_type": "markdown",
   "metadata": {},
   "source": [
    "Natural logarithm"
   ]
  },
  {
   "cell_type": "code",
   "execution_count": 47,
   "metadata": {
    "collapsed": false
   },
   "outputs": [
    {
     "name": "stdout",
     "output_type": "stream",
     "text": [
      "1.0\n"
     ]
    }
   ],
   "source": [
    "System.out.println( Math.log(Math.E) );"
   ]
  },
  {
   "cell_type": "markdown",
   "metadata": {},
   "source": [
    "Decimal logarithm"
   ]
  },
  {
   "cell_type": "code",
   "execution_count": 48,
   "metadata": {
    "collapsed": false
   },
   "outputs": [
    {
     "name": "stdout",
     "output_type": "stream",
     "text": [
      "1.0\n"
     ]
    }
   ],
   "source": [
    "System.out.println( Math.log10(10) );"
   ]
  },
  {
   "cell_type": "markdown",
   "metadata": {},
   "source": [
    "Smallest (closest to negative infinity) double value that is greater than or equal to the argument and is equal to a mathematical integer"
   ]
  },
  {
   "cell_type": "code",
   "execution_count": 56,
   "metadata": {
    "collapsed": false
   },
   "outputs": [
    {
     "name": "stdout",
     "output_type": "stream",
     "text": [
      "3.0\n"
     ]
    }
   ],
   "source": [
    "System.out.println( Math.floor(3.14) );"
   ]
  },
  {
   "cell_type": "markdown",
   "metadata": {},
   "source": [
    "Largest (closest to positive infinity) double value that is less than or equal to the argument and is equal to a mathematical integer"
   ]
  },
  {
   "cell_type": "code",
   "execution_count": 57,
   "metadata": {
    "collapsed": false
   },
   "outputs": [
    {
     "name": "stdout",
     "output_type": "stream",
     "text": [
      "4.0\n"
     ]
    }
   ],
   "source": [
    "System.out.println( Math.ceil(3.14) );"
   ]
  },
  {
   "cell_type": "markdown",
   "metadata": {},
   "source": [
    "greater of two double values"
   ]
  },
  {
   "cell_type": "code",
   "execution_count": 58,
   "metadata": {
    "collapsed": false
   },
   "outputs": [
    {
     "name": "stdout",
     "output_type": "stream",
     "text": [
      "7.6\n"
     ]
    }
   ],
   "source": [
    "System.out.println( Math.max(3.14,7.6) );"
   ]
  },
  {
   "cell_type": "markdown",
   "metadata": {},
   "source": [
    "Smaller of two double values"
   ]
  },
  {
   "cell_type": "code",
   "execution_count": 59,
   "metadata": {
    "collapsed": false
   },
   "outputs": [
    {
     "name": "stdout",
     "output_type": "stream",
     "text": [
      "3.14\n"
     ]
    }
   ],
   "source": [
    "System.out.println( Math.min(3.14,7.6) );"
   ]
  },
  {
   "cell_type": "markdown",
   "metadata": {},
   "source": [
    "Sum of two int values, throwing an exception if the result overflows an int"
   ]
  },
  {
   "cell_type": "code",
   "execution_count": 65,
   "metadata": {
    "collapsed": false
   },
   "outputs": [
    {
     "name": "stdout",
     "output_type": "stream",
     "text": [
      "2147483647\n",
      "The result overflows the int limit\n"
     ]
    }
   ],
   "source": [
    "try\n",
    "{\n",
    "    System.out.println( Math.addExact(2147483647,0) );\n",
    "}\n",
    "catch(ArithmeticException e)\n",
    "{\n",
    "    System.out.println( \"The result overflows the int limit\" );\n",
    "}\n",
    "\n",
    "\n",
    "try\n",
    "{\n",
    "    System.out.println( Math.addExact(2147483647,1) );\n",
    "}\n",
    "catch(ArithmeticException e)\n",
    "{\n",
    "    System.out.println( \"The result overflows the int limit\" );\n",
    "}"
   ]
  },
  {
   "cell_type": "markdown",
   "metadata": {},
   "source": [
    "Random double value with a positive sign, greater than or equal to 0.0 and less than 1.0"
   ]
  },
  {
   "cell_type": "code",
   "execution_count": 53,
   "metadata": {
    "collapsed": false
   },
   "outputs": [
    {
     "name": "stdout",
     "output_type": "stream",
     "text": [
      "0.8426335615704788\n"
     ]
    }
   ],
   "source": [
    "System.out.println( Math.random());"
   ]
  },
  {
   "cell_type": "markdown",
   "metadata": {},
   "source": [
    "## Class java.util. Date"
   ]
  },
  {
   "cell_type": "markdown",
   "metadata": {
    "collapsed": true
   },
   "source": [
    "The class Date represents a specific instant in time, with millisecond precision. Below you find the examples of usage."
   ]
  },
  {
   "cell_type": "markdown",
   "metadata": {},
   "source": [
    "Instantiate a Date object"
   ]
  },
  {
   "cell_type": "code",
   "execution_count": 81,
   "metadata": {
    "collapsed": false
   },
   "outputs": [],
   "source": [
    "import java.util.*;\n",
    "Date date = new Date();"
   ]
  },
  {
   "cell_type": "markdown",
   "metadata": {},
   "source": [
    "Generating text representing a date"
   ]
  },
  {
   "cell_type": "code",
   "execution_count": 82,
   "metadata": {
    "collapsed": false
   },
   "outputs": [
    {
     "name": "stdout",
     "output_type": "stream",
     "text": [
      "Mon Nov 11 21:37:46 UTC 2019\n"
     ]
    }
   ],
   "source": [
    "System.out.println( date.toString() );"
   ]
  },
  {
   "cell_type": "markdown",
   "metadata": {},
   "source": [
    "Generating text with a date in custom format"
   ]
  },
  {
   "cell_type": "code",
   "execution_count": 89,
   "metadata": {
    "collapsed": false
   },
   "outputs": [
    {
     "name": "stdout",
     "output_type": "stream",
     "text": [
      "11/11/2019 09:37:46\n"
     ]
    }
   ],
   "source": [
    "import java.text.*;\n",
    "SimpleDateFormat f = new SimpleDateFormat(\"dd/MM/yyyy hh:mm:ss\");\n",
    "System.out.println(f.format(date));"
   ]
  },
  {
   "cell_type": "markdown",
   "metadata": {},
   "source": [
    "Parsing and comparing dates"
   ]
  },
  {
   "cell_type": "code",
   "execution_count": 90,
   "metadata": {
    "collapsed": false
   },
   "outputs": [
    {
     "name": "stdout",
     "output_type": "stream",
     "text": [
      "23/06/2010\n",
      "07/07/2011\n",
      "Later\n"
     ]
    }
   ],
   "source": [
    "import java.text.*;\n",
    "SimpleDateFormat f = new SimpleDateFormat(\"dd/MM/yyyy\");\n",
    "\n",
    "try \n",
    "{\n",
    "     Date d1 = f.parse(\"23/06/2010\");\n",
    "     Date d2 = f.parse(\"07/07/2011\");\n",
    "  \n",
    "     System.out.println(dateformat3.format(d1));\n",
    "     System.out.println(dateformat3.format(d2));\n",
    " \n",
    "     if ( d1.after(d2) ) \n",
    "     {\n",
    "         System.out.println(\"Earlier\");\n",
    "     }\n",
    "     else if (d1.before(d2))\n",
    "     {\n",
    "         System.out.println(\"Later\");\n",
    "     }\n",
    "     else if (d1.equals(d2)) \n",
    "     {\n",
    "         System.out.println(\"Same day\");\n",
    "     }\n",
    "}\n",
    "catch(ParseException e)\n",
    "{\n",
    "\n",
    "}"
   ]
  }
 ],
 "metadata": {
  "kernelspec": {
   "display_name": "Java",
   "language": "java",
   "name": "java"
  },
  "language_info": {
   "codemirror_mode": "java",
   "file_extension": ".java",
   "mimetype": "text/x-java-source",
   "name": "Java",
   "pygments_lexer": "java",
   "version": "9.0.4+11"
  }
 },
 "nbformat": 4,
 "nbformat_minor": 1
}
