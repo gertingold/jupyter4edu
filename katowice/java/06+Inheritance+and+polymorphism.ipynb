{
 "cells": [
  {
   "cell_type": "markdown",
   "metadata": {},
   "source": [
    "# Inheritance and polymorphism"
   ]
  },
  {
   "cell_type": "markdown",
   "metadata": {},
   "source": [
    "## Inheritance"
   ]
  },
  {
   "cell_type": "markdown",
   "metadata": {},
   "source": [
    "Object orinted paradigm provides the possibility to define new classes from existing ones by extending them, which is called inheritance. Inheritance is a powerful feature for using previously writen codes, avoid redundancy, as well as for designing classes so as to make the system clear and easy to comprehend and, finally, keep the system easy for modifications and maintenance.\n",
    "\n",
    "Suppose you need to define classes to model circles, rectangles and, possibly, other geometrical figures. These classes have many common features, which can be implemented once, in a base class of all figures. Generally, a subclass inherits fields and methods of its base class (there are however some restrictions related with access modifiers). The important thing is that a subclass should define its own constructors. Every constructor must, in turn, starts with invocation of one out of the constructors defined in the base class. Such a constructor is accessed in the subclass under the alias ```super```."
   ]
  },
  {
   "cell_type": "code",
   "execution_count": 6,
   "metadata": {
    "collapsed": false
   },
   "outputs": [],
   "source": [
    "class Point\n",
    "{\n",
    "    double x;\n",
    "    double y;\n",
    "    \n",
    "    Point()\n",
    "    {\n",
    "        this.x = this.y = 0.0;\n",
    "    }\n",
    "    \n",
    "    void translate(double dx, double dy)\n",
    "    {\n",
    "        x+=dx;\n",
    "        y+=dy;\n",
    "    }\n",
    "    \n",
    "    public String toString()\n",
    "    {\n",
    "        return \"Point[x=\"+x+\", y=\"+y+\"]\";\n",
    "    }\n",
    "}"
   ]
  },
  {
   "cell_type": "code",
   "execution_count": 7,
   "metadata": {
    "collapsed": true
   },
   "outputs": [],
   "source": [
    "class Figure\n",
    "{\n",
    "    Point centre;\n",
    "\n",
    "    Figure()\n",
    "    {\n",
    "        this.centre = new Point();\n",
    "    }\n",
    "\n",
    "    double area()\n",
    "    {\n",
    "        return 0.0;\n",
    "    }\n",
    "\n",
    "    double perimeter()\n",
    "    {\n",
    "        return 0.0;\n",
    "    }\n",
    "    \n",
    "    void translate(double dx, double dy)\n",
    "    {\n",
    "        centre.translate(dx,dy);\n",
    "    }\n",
    "\n",
    "    public String toString()\n",
    "    {\n",
    "        return \"Figure[x=\"+centre.x+\", y=\"+centre.y+\"]\";\n",
    "    }\n",
    "}"
   ]
  },
  {
   "cell_type": "code",
   "execution_count": 8,
   "metadata": {
    "collapsed": true
   },
   "outputs": [],
   "source": [
    "class Circle extends Figure\n",
    "{\n",
    "    double radius;\n",
    " \n",
    "    Circle(double radius)    \n",
    "    { \n",
    "        super();\n",
    "        this.radius=radius; \n",
    "    }                        \n",
    " \n",
    "    double area()                   \n",
    "    {                               \n",
    "        return Math.PI*radius*radius; \n",
    "    }                               \n",
    "\n",
    "    double perimeter()            \n",
    "    {                         \n",
    "        return 2*Math.PI*radius; \n",
    "    }                         \n",
    "\n",
    "    public String toString()\n",
    "    {\n",
    "        return \"Circle[x=\"+centre.x+\", y=\"+centre.y+\", radius=\"+radius+\"]\";\n",
    "    }\n",
    "}"
   ]
  },
  {
   "cell_type": "code",
   "execution_count": 9,
   "metadata": {
    "collapsed": true
   },
   "outputs": [],
   "source": [
    "class Rectangle extends Figure\n",
    "{\n",
    "   double width;\n",
    "   double height;\n",
    " \n",
    "   Rectangle(double width,double height) \n",
    "   {   \n",
    "      super();\n",
    "      this.width=width;                   \n",
    "      this.height=height;               \n",
    "   }                                          \n",
    " \n",
    "   double area()                \n",
    "   {                            \n",
    "      return width*height; \n",
    "   }                            \n",
    " \n",
    "   double perimeter()                   \n",
    "   {                                \n",
    "      return 2*width+2*height; \n",
    "   }                                \n",
    " \n",
    "   public String toString()\n",
    "    {\n",
    "        return \"Rectangle[x=\"+centre.x+\", y=\"+centre.y+\", width=\"+width+\", height=\"+height+\"]\";\n",
    "    }\n",
    "}      "
   ]
  },
  {
   "cell_type": "markdown",
   "metadata": {},
   "source": [
    "Now you can create objects and manipulate them in the usual way."
   ]
  },
  {
   "cell_type": "code",
   "execution_count": 18,
   "metadata": {
    "collapsed": false
   },
   "outputs": [
    {
     "name": "stdout",
     "output_type": "stream",
     "text": [
      "Circle[x=0.0, y=0.0, radius=3.0]\n",
      "Circle[x=-1.0, y=0.0, radius=3.0]\n",
      "28.274333882308138\n",
      "18.84955592153876\n"
     ]
    }
   ],
   "source": [
    "Circle obj1 = new Circle(3); \n",
    "System.out.println( obj1 );\n",
    "\n",
    "obj1.translate(-1,0);\n",
    "System.out.println( obj1 );\n",
    "\n",
    "System.out.println( obj1.area() );\n",
    "System.out.println( obj1.perimeter() );"
   ]
  },
  {
   "cell_type": "code",
   "execution_count": 21,
   "metadata": {
    "collapsed": false
   },
   "outputs": [
    {
     "name": "stdout",
     "output_type": "stream",
     "text": [
      "Rectangle[x=0.0, y=0.0, width=7.0, height=3.0]\n",
      "Rectangle[x=0.0, y=7.0, width=7.0, height=3.0]\n",
      "21.0\n",
      "20.0\n"
     ]
    }
   ],
   "source": [
    "Rectangle obj2 = new Rectangle(7,3); \n",
    "System.out.println( obj2 );  \n",
    "\n",
    "obj2.translate(0,7);\n",
    "System.out.println( obj2 );\n",
    "\n",
    "System.out.println( obj2.area() );\n",
    "System.out.println( obj2.perimeter() );"
   ]
  },
  {
   "cell_type": "markdown",
   "metadata": {},
   "source": [
    "## Polymorphism"
   ]
  },
  {
   "cell_type": "markdown",
   "metadata": {},
   "source": [
    "You are also able to declare all your rectangles and circles as objects of the type ```Figure```, and operate them by invoking the methods defined in this class, however if a given method is overriden in a subclass, at the runtime the latter one will be invoked instead of the base class one. This feature is called polymorphism."
   ]
  },
  {
   "cell_type": "code",
   "execution_count": 13,
   "metadata": {
    "collapsed": false
   },
   "outputs": [
    {
     "name": "stdout",
     "output_type": "stream",
     "text": [
      "Circle[x=0.0, y=0.0, radius=2.0]\n"
     ]
    }
   ],
   "source": [
    "Figure obj = new Circle(2);                                     \n",
    "System.out.println( obj );"
   ]
  },
  {
   "cell_type": "markdown",
   "metadata": {},
   "source": [
    "This allows you to treat all your objects, either rectangles or circles, as just figures. This is very powerfull features, which simplifies many tasks."
   ]
  },
  {
   "cell_type": "code",
   "execution_count": 22,
   "metadata": {
    "collapsed": false
   },
   "outputs": [
    {
     "name": "stdout",
     "output_type": "stream",
     "text": [
      "244.3362637120549\n"
     ]
    }
   ],
   "source": [
    "Figure[] a={new Rectangle(3,5),new Circle(8),new Circle(3)}; \n",
    "\n",
    "double s = 0;                                             \n",
    "\n",
    "for(int i=0;i<a.length;i++)                                \n",
    "{                                                          \n",
    "     s += a[i].area();                                              \n",
    "}                                                          \n",
    "\n",
    "System.out.println( s );"
   ]
  }
 ],
 "metadata": {
  "kernelspec": {
   "display_name": "Java",
   "language": "java",
   "name": "java"
  },
  "language_info": {
   "codemirror_mode": "java",
   "file_extension": ".java",
   "mimetype": "text/x-java-source",
   "name": "Java",
   "pygments_lexer": "java",
   "version": "9.0.4+11"
  }
 },
 "nbformat": 4,
 "nbformat_minor": 1
}
