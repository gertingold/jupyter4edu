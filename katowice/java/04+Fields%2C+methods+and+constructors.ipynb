{
 "cells": [
  {
   "cell_type": "markdown",
   "metadata": {},
   "source": [
    "# Fields, methods and constructors"
   ]
  },
  {
   "cell_type": "markdown",
   "metadata": {
    "collapsed": true
   },
   "source": [
    "## Object variables, class (static) variables and local variables of methods"
   ]
  },
  {
   "cell_type": "markdown",
   "metadata": {},
   "source": [
    "There are three types of variables in Java - object variables, class variables and local variables of methods/constructors. Consider the classes representing geometrical figures on plane."
   ]
  },
  {
   "cell_type": "code",
   "execution_count": 43,
   "metadata": {
    "collapsed": false
   },
   "outputs": [],
   "source": [
    "class Point\n",
    "{\n",
    "    int x,y;\n",
    "    \n",
    "    Point(int x,int y)\n",
    "    {\n",
    "        this.x=x;\n",
    "        this.y=y;\n",
    "    }\n",
    "    \n",
    "    void translate(int dx,int dy)\n",
    "    {\n",
    "        x+=dx;\n",
    "        y+=dy;\n",
    "    }\n",
    "    \n",
    "    public String toString()\n",
    "    {\n",
    "        return \"Point[x=\"+x+\", y=\"+y+\"]\";\n",
    "    }\n",
    "}\n",
    "\n",
    "class Circle\n",
    "{\n",
    "    Point centre;   //member variable (field)\n",
    "    int radius;     //member variable (field)\n",
    "    \n",
    "    static double pi = 3.14;   //static variable (static field)\n",
    "    \n",
    "    \n",
    "    \n",
    "    Circle(Point centre, int radius)   //centre and radius are local variables of this constructor\n",
    "    {\n",
    "        this.centre = centre;   //\"this.centre\" refers to member variable \"centre\", opposite to local variable \"centre\"\n",
    "        this.radius = radius;\n",
    "    }\n",
    "    \n",
    "    void translate(int dx,int dy)\n",
    "    {\n",
    "            int i,j;   //local variables of the method\n",
    "            \n",
    "            i=dx;\n",
    "            j=dy;\n",
    "            centre.translate(i,j);\n",
    "    }\n",
    "    \n",
    "    static void info()   //static method\n",
    "    {\n",
    "        System.out.println(\"It is a circle\");\n",
    "    }\n",
    "}"
   ]
  },
  {
   "cell_type": "markdown",
   "metadata": {},
   "source": [
    "Member variables (fields) belong to their specific object and may store different values for different objects (different memory locations for different object). There must exist an object, in order to exist any of them."
   ]
  },
  {
   "cell_type": "code",
   "execution_count": 41,
   "metadata": {
    "collapsed": false
   },
   "outputs": [
    {
     "name": "stdout",
     "output_type": "stream",
     "text": [
      "Point[x=0, y=0]\n",
      "7\n",
      "Point[x=-1, y=0]\n",
      "12\n"
     ]
    }
   ],
   "source": [
    "Circle obj1 = new Circle( new Point(0,0),7);\n",
    "Circle obj2 = new Circle( new Point(-1,0),12);\n",
    "\n",
    "\n",
    "System.out.println( obj1.centre );\n",
    "System.out.println( obj1.radius );\n",
    "\n",
    "System.out.println( obj2.centre );\n",
    "System.out.println( obj2.radius );"
   ]
  },
  {
   "cell_type": "markdown",
   "metadata": {},
   "source": [
    "Static variables (static fields) belong to the whole class, rather than to any specific object, and they store a value shared by all object of that class (one memory location for a given class). As a consequence, such variable exist (allocated memory) even when no objects of the given class exist."
   ]
  },
  {
   "cell_type": "code",
   "execution_count": 45,
   "metadata": {
    "collapsed": false
   },
   "outputs": [
    {
     "name": "stdout",
     "output_type": "stream",
     "text": [
      "3.14\n",
      "3.14\n",
      "3.14\n"
     ]
    }
   ],
   "source": [
    "System.out.println( Circle.pi );   //even when no object has been created\n",
    "\n",
    "\n",
    "Circle obj1 = new Circle( new Point(0,0),7);\n",
    "Circle obj2 = new Circle( new Point(-1,0),12);\n",
    "\n",
    "System.out.println( obj1.pi );\n",
    "System.out.println( obj1.pi );"
   ]
  },
  {
   "cell_type": "markdown",
   "metadata": {},
   "source": [
    "Mathematical constants $\\pi$ and $e$ in Java are defined as static fields of the class ```java.lang.Math```."
   ]
  },
  {
   "cell_type": "code",
   "execution_count": 56,
   "metadata": {
    "collapsed": false
   },
   "outputs": [
    {
     "name": "stdout",
     "output_type": "stream",
     "text": [
      "3.141592653589793\n",
      "2.718281828459045\n"
     ]
    }
   ],
   "source": [
    "System.out.println( Math.PI );\n",
    "System.out.println( Math.E );"
   ]
  },
  {
   "cell_type": "markdown",
   "metadata": {},
   "source": [
    "Local variables of methods or constructor are only visible/usable within their methods/constructors."
   ]
  },
  {
   "cell_type": "markdown",
   "metadata": {},
   "source": [
    "## Member (object) functions and static (class) functions"
   ]
  },
  {
   "cell_type": "markdown",
   "metadata": {},
   "source": [
    "There are two types of functions in Java - member functions (methods) and static functions (static methods)."
   ]
  },
  {
   "cell_type": "markdown",
   "metadata": {},
   "source": [
    "A member function (method) defines actions to be done in relation to specific object and must only be invoked on this object. As a consequence, there must exist an object, in order to invoke such a function."
   ]
  },
  {
   "cell_type": "code",
   "execution_count": 49,
   "metadata": {
    "collapsed": false
   },
   "outputs": [
    {
     "name": "stdout",
     "output_type": "stream",
     "text": [
      "Point[x=-3, y=3]\n",
      "Point[x=-13, y=0]\n"
     ]
    }
   ],
   "source": [
    "Point obj1 = new Point(0,0);\n",
    "Point obj2 = new Point(-1,0);\n",
    "\n",
    "obj1.translate(-3,3);\n",
    "obj2.translate(-12,0);\n",
    "\n",
    "System.out.println( obj1 );\n",
    "System.out.println( obj2 );"
   ]
  },
  {
   "cell_type": "markdown",
   "metadata": {},
   "source": [
    "A static function (static method) defines action to be done not in relation to any specific object of the given class."
   ]
  },
  {
   "cell_type": "code",
   "execution_count": 51,
   "metadata": {
    "collapsed": false
   },
   "outputs": [
    {
     "name": "stdout",
     "output_type": "stream",
     "text": [
      "It is a circle\n",
      "It is a circle\n",
      "It is a circle\n"
     ]
    }
   ],
   "source": [
    "Circle.info();   //even when no object has been created\n",
    "\n",
    "\n",
    "Circle obj1 = new Circle( new Point(0,0),7);\n",
    "Circle obj2 = new Circle( new Point(-1,0),12);\n",
    "\n",
    "obj1.info();\n",
    "obj1.info();"
   ]
  },
  {
   "cell_type": "markdown",
   "metadata": {},
   "source": [
    "Mathematical functions in Java are defined as stitic methods of the class ```java.lang.Math```."
   ]
  },
  {
   "cell_type": "code",
   "execution_count": 54,
   "metadata": {
    "collapsed": false
   },
   "outputs": [
    {
     "name": "stdout",
     "output_type": "stream",
     "text": [
      "1.0\n",
      "2.718281828459045\n"
     ]
    }
   ],
   "source": [
    "System.out.println( Math.cos(0) );\n",
    "System.out.println( Math.exp(1) );"
   ]
  },
  {
   "cell_type": "markdown",
   "metadata": {},
   "source": [
    "## Passing parameters to methods"
   ]
  },
  {
   "cell_type": "markdown",
   "metadata": {},
   "source": [
    "Methods can have parameters being either built-it type variables or references to the objects. Both of them are passed to methods by value, meaning that the local copy of the parameter is created and the value assigned to the parameter is the stored in this local copy. A method operates on the local copy and does not modify the original parameter (either built-in type variable or a reference to an object) intact. However, in the case of a reference, you usually perform operation on the information stored in the object pointed by this reference and not on the information stored in the parameter itself (address). As a result a method does not change the value of built-in type parameter passed to it, while it may change the state of object which reference is passed to this method.\n",
    "\n",
    "Below you find illustration of this fact in the case of built-in type parameter passed to a method."
   ]
  },
  {
   "cell_type": "code",
   "execution_count": 71,
   "metadata": {
    "collapsed": false
   },
   "outputs": [
    {
     "name": "stdout",
     "output_type": "stream",
     "text": [
      "1\n",
      "0\n"
     ]
    }
   ],
   "source": [
    "class A\n",
    "{\n",
    "    int method(int i)\n",
    "    {\n",
    "        i = i + 1;\n",
    "        return i;\n",
    "    }\n",
    "}\n",
    "\n",
    "A obj = new A();\n",
    "int j=0;\n",
    "\n",
    "int k = obj.method(j);\n",
    "\n",
    "System.out.println(k);\n",
    "System.out.println(j);"
   ]
  },
  {
   "cell_type": "markdown",
   "metadata": {},
   "source": [
    "Then you may compare the same action in the case of the reference type parameter passed to a method."
   ]
  },
  {
   "cell_type": "code",
   "execution_count": 72,
   "metadata": {
    "collapsed": false
   },
   "outputs": [
    {
     "name": "stdout",
     "output_type": "stream",
     "text": [
      "1\n",
      "1\n"
     ]
    }
   ],
   "source": [
    "class A\n",
    "{\n",
    "    B method(B obj)\n",
    "    {\n",
    "        obj.i = obj.i +1;\n",
    "        return obj;\n",
    "    }\n",
    "}\n",
    "\n",
    "class B\n",
    "{\n",
    "    int i;\n",
    "    \n",
    "    B(int i)\n",
    "    {\n",
    "        this.i = i;\n",
    "    }\n",
    "}\n",
    "\n",
    "A obj = new A();\n",
    "B obj2 = new B(0);\n",
    "\n",
    "B obj3 = obj.method(obj2);\n",
    "\n",
    "System.out.println(obj3.i);\n",
    "System.out.println(obj2.i);"
   ]
  },
  {
   "cell_type": "markdown",
   "metadata": {},
   "source": [
    "Finally, note that arrays are objects (even in the case of arrays storing built-in type data) and array parameters are treated the same way as other objects."
   ]
  },
  {
   "cell_type": "code",
   "execution_count": 85,
   "metadata": {
    "collapsed": false
   },
   "outputs": [
    {
     "name": "stdout",
     "output_type": "stream",
     "text": [
      "1\n",
      "1\n"
     ]
    }
   ],
   "source": [
    "class A\n",
    "{\n",
    "    int method(int[] a)\n",
    "    {\n",
    "        a[0] = a[0] + 1;\n",
    "        return a[0];\n",
    "    }\n",
    "}\n",
    "\n",
    "A obj = new A();\n",
    "int[] a = new int[1];\n",
    "a[0] = 0;\n",
    "\n",
    "int k = obj.method(a);\n",
    "\n",
    "System.out.println(k);\n",
    "System.out.println(a[0]);"
   ]
  },
  {
   "cell_type": "markdown",
   "metadata": {},
   "source": [
    "## Final components"
   ]
  },
  {
   "cell_type": "markdown",
   "metadata": {},
   "source": [
    "A you already know, static variables are variables that are related to the whole class rather than to any specific object thus, in some way, constant from one object to another. Final variables are the variables which cannot be changed once initialized. A trial of reassignment is detected at compile time. __The compile error produced by the cells bellow are left intentionally__."
   ]
  },
  {
   "cell_type": "code",
   "execution_count": 92,
   "metadata": {
    "collapsed": false
   },
   "outputs": [
    {
     "ename": "CompilationException",
     "evalue": "",
     "output_type": "error",
     "traceback": [
      "\u001b[1m\u001b[30m|   \u001b[1m\u001b[30m        \u001b[0m\u001b[1m\u001b[30m\u001b[41mi\u001b[0m\u001b[1m\u001b[30m = i + 1;\u001b[0m",
      "\u001b[1m\u001b[31mcannot assign a value to final variable i\u001b[0m",
      ""
     ]
    }
   ],
   "source": [
    "class A\n",
    "{\n",
    "    final int i = 7;\n",
    "    \n",
    "    int method()\n",
    "    {\n",
    "        i = i + 1;\n",
    "        return i;\n",
    "    }\n",
    "}\n",
    "\n",
    "\n",
    "A obj = new A();\n",
    "System.out.println( obj.method() );"
   ]
  },
  {
   "cell_type": "code",
   "execution_count": 94,
   "metadata": {
    "collapsed": false
   },
   "outputs": [
    {
     "name": "stdout",
     "output_type": "stream",
     "text": [
      "3.14\n"
     ]
    },
    {
     "ename": "CompilationException",
     "evalue": "",
     "output_type": "error",
     "traceback": [
      "\u001b[1m\u001b[30m|   \u001b[1m\u001b[30m\u001b[0m\u001b[1m\u001b[30m\u001b[41mA.PI\u001b[0m\u001b[1m\u001b[30m += 0.1;\u001b[0m",
      "\u001b[1m\u001b[31mcannot assign a value to final variable PI\u001b[0m",
      ""
     ]
    }
   ],
   "source": [
    "class A\n",
    "{\n",
    "    static final double PI = 3.14;\n",
    "}\n",
    "\n",
    "System.out.println( A.PI );\n",
    "\n",
    "A.PI += 0.1;"
   ]
  },
  {
   "cell_type": "markdown",
   "metadata": {},
   "source": [
    "Final methods are the methods which cannot be overriden by the subclasses. These will be discussed in the section on inheritance and polymorphism."
   ]
  },
  {
   "cell_type": "markdown",
   "metadata": {},
   "source": [
    "## Access modifiers"
   ]
  },
  {
   "cell_type": "markdown",
   "metadata": {},
   "source": [
    "A private field can be accessed only by a method of its class. This type of access is denoted by the access modifier __```private```__."
   ]
  },
  {
   "cell_type": "code",
   "execution_count": 100,
   "metadata": {
    "collapsed": false
   },
   "outputs": [
    {
     "name": "stdout",
     "output_type": "stream",
     "text": [
      "A: 4\n"
     ]
    }
   ],
   "source": [
    "class A\n",
    "{\n",
    "    private int i;\n",
    "    \n",
    "    A(int i)\n",
    "    {\n",
    "        this.i = i;\n",
    "    }\n",
    "    \n",
    "    void method()\n",
    "    {\n",
    "        i++;\n",
    "    }\n",
    "    \n",
    "    public String toString()\n",
    "    {\n",
    "        return \"A: \"+i;\n",
    "    }\n",
    "}\n",
    "\n",
    "A obj = new A(3);\n",
    "obj.method();\n",
    "\n",
    "System.out.println(obj);"
   ]
  },
  {
   "cell_type": "markdown",
   "metadata": {},
   "source": [
    "And it cannot be accessed by methods of other classes (outside its class). A trial of such attempt is detected at compile time. __The compile error produced by the cells bellow are left intentionally__."
   ]
  },
  {
   "cell_type": "code",
   "execution_count": 101,
   "metadata": {
    "collapsed": false
   },
   "outputs": [
    {
     "ename": "CompilationException",
     "evalue": "",
     "output_type": "error",
     "traceback": [
      "\u001b[1m\u001b[30m|   \u001b[1m\u001b[30m\u001b[0m\u001b[1m\u001b[30m\u001b[41mobj.i\u001b[0m\u001b[1m\u001b[30m = 7;\u001b[0m",
      "\u001b[1m\u001b[31mi has private access in A\u001b[0m",
      ""
     ]
    }
   ],
   "source": [
    "class A\n",
    "{\n",
    "    private int i;\n",
    "    \n",
    "    A(int i)\n",
    "    {\n",
    "        this.i = i;\n",
    "    }\n",
    "    \n",
    "    void method()\n",
    "    {\n",
    "        i++;\n",
    "    }\n",
    "    \n",
    "    public String toString()\n",
    "    {\n",
    "        return \"A: \"+i;\n",
    "    }\n",
    "}\n",
    "\n",
    "\n",
    "A obj = new A(3);\n",
    "obj.i = 7;\n",
    "\n",
    "System.out.println(obj);"
   ]
  },
  {
   "cell_type": "markdown",
   "metadata": {},
   "source": [
    "The same applies to a private method. It may be invoked only by other method of its class."
   ]
  },
  {
   "cell_type": "code",
   "execution_count": 102,
   "metadata": {
    "collapsed": false
   },
   "outputs": [
    {
     "name": "stdout",
     "output_type": "stream",
     "text": [
      "A: 4\n"
     ]
    }
   ],
   "source": [
    "class A\n",
    "{\n",
    "    private int i;\n",
    "    \n",
    "    A(int i)\n",
    "    {\n",
    "        this.i = i;\n",
    "    }\n",
    "    \n",
    "    private void methodx()\n",
    "    {\n",
    "        i++;\n",
    "    }\n",
    "    \n",
    "    void method()\n",
    "    {\n",
    "        methodx();   \n",
    "    }\n",
    "    \n",
    "    public String toString()\n",
    "    {\n",
    "        return \"A: \"+i;\n",
    "    }\n",
    "}\n",
    "\n",
    "A obj = new A(3);\n",
    "obj.method();\n",
    "\n",
    "System.out.println(obj);"
   ]
  },
  {
   "cell_type": "markdown",
   "metadata": {},
   "source": [
    "While it cannot be invoked by a method of other class (outside its own class). Similarly as in the case of private fields, a trial of such attempt is detected at compile time. __The compile error produced by the cells bellow are left intentionally__."
   ]
  },
  {
   "cell_type": "code",
   "execution_count": 103,
   "metadata": {
    "collapsed": false
   },
   "outputs": [
    {
     "ename": "CompilationException",
     "evalue": "",
     "output_type": "error",
     "traceback": [
      "\u001b[1m\u001b[30m|   \u001b[1m\u001b[30m\u001b[0m\u001b[1m\u001b[30m\u001b[41mobj.methodx\u001b[0m\u001b[1m\u001b[30m();\u001b[0m",
      "\u001b[1m\u001b[31mmethodx() has private access in A\u001b[0m",
      ""
     ]
    }
   ],
   "source": [
    "class A\n",
    "{\n",
    "    private int i;\n",
    "    \n",
    "    A(int i)\n",
    "    {\n",
    "        this.i = i;\n",
    "    }\n",
    "    \n",
    "    private void methodx()\n",
    "    {\n",
    "        i++;\n",
    "    }\n",
    "    \n",
    "    void method()\n",
    "    {\n",
    "        methodx();   \n",
    "    }\n",
    "    \n",
    "    public String toString()\n",
    "    {\n",
    "        return \"A: \"+i;\n",
    "    }\n",
    "}\n",
    "\n",
    "A obj = new A(3);\n",
    "obj.methodx();\n",
    "\n",
    "System.out.println(obj);"
   ]
  },
  {
   "cell_type": "markdown",
   "metadata": {},
   "source": [
    "Public fields and methods are available also to the methods of other classes. This type of access is denoted by the access modifier __```public```__. Protected components are denoted by the access modifier __```protected```__ and they are available to the methods of their own class plus to the classes that extends them. These will be discussed in the section on inheritance and polymorphism. Finally, fields and methods __without explicit access modifier__ have the so called default type of access, which means that they are available to methods of other classess as long as they belong to the same package."
   ]
  },
  {
   "cell_type": "markdown",
   "metadata": {},
   "source": [
    "## Default values of fields"
   ]
  },
  {
   "cell_type": "markdown",
   "metadata": {},
   "source": [
    "In Java, member variables (fields of objects) are automatically initialized with the default values - __0, 0.0, false or null__ - depending on their types."
   ]
  },
  {
   "cell_type": "code",
   "execution_count": 106,
   "metadata": {
    "collapsed": false
   },
   "outputs": [
    {
     "name": "stdout",
     "output_type": "stream",
     "text": [
      "0\n",
      "0.0\n",
      "false\n",
      "null\n",
      "0\n"
     ]
    }
   ],
   "source": [
    "class A\n",
    "{\n",
    "\n",
    "}\n",
    "\n",
    "class B\n",
    "{\n",
    "    int i;\n",
    "    double x;\n",
    "    boolean b;\n",
    "    \n",
    "    A obj;\n",
    "    \n",
    "    static int j;\n",
    "}\n",
    "\n",
    "\n",
    "B obj = new B();\n",
    "\n",
    "System.out.println( obj.i );\n",
    "System.out.println( obj.x );\n",
    "System.out.println( obj.b );\n",
    "System.out.println( obj.obj );\n",
    "System.out.println( B.j );"
   ]
  },
  {
   "cell_type": "markdown",
   "metadata": {},
   "source": [
    "On the other hand, the local variables of method are not automatically initialized and failing to do it explicitely is detected at the compile time. __The compile error produced by the cell bellow are left intentionally__."
   ]
  },
  {
   "cell_type": "code",
   "execution_count": 109,
   "metadata": {
    "collapsed": false
   },
   "outputs": [
    {
     "ename": "CompilationException",
     "evalue": "",
     "output_type": "error",
     "traceback": [
      "\u001b[1m\u001b[30m|   \u001b[1m\u001b[30m        return \u001b[0m\u001b[1m\u001b[30m\u001b[41mi\u001b[0m\u001b[1m\u001b[30m;\u001b[0m",
      "\u001b[1m\u001b[31mvariable i might not have been initialized\u001b[0m",
      ""
     ]
    }
   ],
   "source": [
    "class A\n",
    "{\n",
    "\n",
    "}\n",
    "\n",
    "class B\n",
    "{\n",
    "    int i;\n",
    "    double x;\n",
    "    boolean b;\n",
    "    \n",
    "    A obj;\n",
    "    \n",
    "    static int j;\n",
    "    \n",
    "    int method()\n",
    "    {\n",
    "        int i;   //local variable of a method\n",
    "        return i;\n",
    "    }\n",
    "}\n",
    "\n",
    "\n",
    "B obj = new B();\n",
    "\n",
    "System.out.println( obj.method() );"
   ]
  },
  {
   "cell_type": "markdown",
   "metadata": {},
   "source": [
    "## Exercise 1"
   ]
  },
  {
   "cell_type": "markdown",
   "metadata": {},
   "source": [
    "Write definition of class named __```Fraction```__ which will define data type designed to represent fractions. Your class should have two fields __```nominator```__ and __```denominator```__, constructors (note that denominator must not be zero) and appropriate methods to perform basic arithmetical operations on fractions, according to the following template."
   ]
  },
  {
   "cell_type": "markdown",
   "metadata": {},
   "source": [
    "```java\n",
    "class Fraction\n",
    "{\n",
    "    int nominator;\n",
    "    int denominator;\n",
    "    \n",
    "    \n",
    "    \n",
    "    //YOUR CODE GOES HERE\n",
    "    \n",
    "    \n",
    "}\n",
    "\n",
    "\n",
    "Fraction obj1, obj2, obj3;\n",
    "\n",
    "obj1 = new Fraction(1,2);   //creating fractions\n",
    "obj2 = new Fraction(2,3);\n",
    "obj3 = new Fraction(3,9);\n",
    "\n",
    "\n",
    "obj3.simlify()   //simlifying a fraction\n",
    "System.out.println( obj3 );\n",
    "\n",
    "obj3 = obj1.add( obj2 );   //sum of fractions\n",
    "System.out.println( obj3 );\n",
    "\n",
    "obj3 = obj1.subtract( obj2 );   //subtraction difference\n",
    "System.out.println( obj3 );\n",
    "\n",
    "obj3 = obj1.times( obj2 );   //multiplication product\n",
    "System.out.println( obj3 );\n",
    "```"
   ]
  },
  {
   "cell_type": "markdown",
   "metadata": {},
   "source": [
    "## Exercise 2"
   ]
  },
  {
   "cell_type": "markdown",
   "metadata": {},
   "source": [
    "Write definition of classes __```Point```__, __```Rectange```__ and __```Circle```__. Your class should have appropriate fields, constructors and methods to perform operations according to the template below."
   ]
  },
  {
   "cell_type": "markdown",
   "metadata": {},
   "source": [
    "```java\n",
    "class Point\n",
    "{\n",
    "    double x,y;\n",
    "    \n",
    "    \n",
    "    //YOUR CODE GOES HERE\n",
    "               \n",
    "}\n",
    "\n",
    "class Rectangle\n",
    "{\n",
    "    Point centre;\n",
    "    double width;\n",
    "    double height;\n",
    "    \n",
    "    \n",
    "    //YOUR CODE GOES HERE\n",
    "     \n",
    "}\n",
    "\n",
    "class Circle\n",
    "{\n",
    "    Point centre;\n",
    "    double width;\n",
    "    double height;\n",
    "    \n",
    "    \n",
    "    //YOUR CODE GOES HERE\n",
    "    \n",
    "}\n",
    "\n",
    "\n",
    "Point obj1 = new Point(0,0);\n",
    "Rectangle obj2 = new Rectangle(obj1,7,3);\n",
    "Circle obj3 = new Circle(obj1,6);\n",
    "\n",
    "obj1.translate(3,7);\n",
    "obj2.translate(-1,0);\n",
    "obj3.translate(-3,-3);\n",
    "\n",
    "boolean b;\n",
    "\n",
    "b = obj2.contains(obj1);\n",
    "System.out.println( b );\n",
    "\n",
    "b = obj3.contains(obj1);\n",
    "System.out.println( b );\n",
    "\n",
    "b = obj3.contains(obj2);\n",
    "System.out.println( b );\n",
    "\n",
    "b = obj2.contains(obj3);\n",
    "System.out.println( b );\n",
    "\n",
    "b = obj3.contains(obj2);\n",
    "System.out.println( b );\n",
    "\n",
    "b = obj2.intersects(obj3);\n",
    "System.out.println( b );\n",
    "```"
   ]
  }
 ],
 "metadata": {
  "kernelspec": {
   "display_name": "Java",
   "language": "java",
   "name": "java"
  },
  "language_info": {
   "codemirror_mode": "java",
   "file_extension": ".java",
   "mimetype": "text/x-java-source",
   "name": "Java",
   "pygments_lexer": "java",
   "version": "9.0.4+11"
  }
 },
 "nbformat": 4,
 "nbformat_minor": 1
}
