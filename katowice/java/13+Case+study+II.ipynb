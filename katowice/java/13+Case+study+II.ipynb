{
 "cells": [
  {
   "cell_type": "markdown",
   "metadata": {},
   "source": [
    "# Case study II - HTTP server"
   ]
  },
  {
   "cell_type": "markdown",
   "metadata": {},
   "source": [
    "## Java compilation unit"
   ]
  },
  {
   "cell_type": "markdown",
   "metadata": {},
   "source": [
    "A Java program is normally a collection of definitions of classes (and interfaces). At least one of the classes (main class) must be declared ```public``` and must contain a definition of method named ```main```. This method must be declared ```public```, ```static``` and ```void```. The definition of the ```main``` method must declare exactly one parameter of type ```String[]``` which represents the array of the parameters passed to the program from the command line, at the time of its execution."
   ]
  },
  {
   "cell_type": "code",
   "execution_count": null,
   "metadata": {
    "collapsed": true
   },
   "outputs": [],
   "source": [
    "class A\n",
    "{\n",
    "\n",
    "}"
   ]
  },
  {
   "cell_type": "code",
   "execution_count": null,
   "metadata": {
    "collapsed": true
   },
   "outputs": [],
   "source": [
    "class B\n",
    "{\n",
    "\n",
    "}"
   ]
  },
  {
   "cell_type": "code",
   "execution_count": null,
   "metadata": {
    "collapsed": true
   },
   "outputs": [],
   "source": [
    "public class C\n",
    "{\n",
    "    public static void main(String[] args)\n",
    "    {\n",
    "    \n",
    "    }\n",
    "}"
   ]
  },
  {
   "cell_type": "markdown",
   "metadata": {},
   "source": [
    "The classes must be stored in one or more files (compilation unit), but any public class must be stored in a file named after this class, with extension ```.java```. In the above case, the public class ```C``` must be stored in a file ```C.java``` (note the case sensitivity). Other (not public) classes may be stored together with one of the public classes (or in separate files).\n",
    "\n",
    "In order to compile the program, you should invoke java compiler (```javac```) and pass to it the appropriate name of file.\n",
    "\n",
    "```$ javac C.java```\n",
    "\n",
    "The compiler then produces the so called \"bytecodes\" - executables for the Java interpreter (virtual machine). The bytecodes of each class are stored in separate files, named after the class name, but with extension ```.class```.\n",
    "\n",
    "In order to run the program, you should invoke the interpreter (```java```) and pass to it the name of the main class (not the name of file), which initiates the execution of the program.\n",
    "\n",
    "```$ java C```\n",
    "\n",
    "Java programs are usually distributer as \"jar files\". These are compressed archives containing bytecode (```.class```)files, data files and a manifest file. The manifest describes the Java archive (jar file) and is stored in a file named ```MANIFEST.MF```, located under the META-INF directory in the jar archive. It contains a list of key and value pairs, called headers or attributes, grouped into sections. These headers supply metadata that provide information on the jar archive, such as the versions of packages or what application class to execute (Main-Class header). Jar archives can be created using ```jar``` tool.\n",
    "\n",
    "```$ jar cf file.jar classes/```\n",
    "\n",
    "Documentation of the classes that make the project can be created using ```javadoc``` tool. Popular Integrated Development Environments (IDEs), such as Netbeans, Eclipse or IntelliJ, allow to simplify and automate use of the Java compiler, interpreter, jar tool and other tools delivered with the Java platform."
   ]
  },
  {
   "cell_type": "markdown",
   "metadata": {},
   "source": [
    "## Case foundation"
   ]
  },
  {
   "cell_type": "markdown",
   "metadata": {},
   "source": [
    "The case involves creating simple implementation of the HTTP server by developing further the starting version you can find below. This approach allows to apply many concepts of network programming in Java language - use of classes and objects, multithreading, use of the Java API (sockets and streams) and use of the data structures (ArrayList). You will need the web browser as a client for your HTTP server.\n",
    "\n",
    "The starting version implements the server which listens on the port 80 for the incoming connections. When the web browser successfully connects, the server creates the appropriate streams which will be used to read the HTTP request and send the HTTP response back to the web browser - a text stream to for reading HTTP request data (text) and a binary stream to send HTTP response, as it may contain text/html or binary data (such as graphics) depending of its mime type. Then, the starting version of the server processes the HTTP request and sends some fixed HTTP response back to the browser. Exercises are aimed at implementing the process of retrieving information from the HTTP request and use them to open, read and send to the broser the content of the requested web page (containg text and grahics). Further exercises are aimed to create multithreaded version of this http server and, finally, to create the HTTPS server."
   ]
  },
  {
   "cell_type": "markdown",
   "metadata": {},
   "source": [
    "## Exercise 1"
   ]
  },
  {
   "cell_type": "markdown",
   "metadata": {
    "collapsed": true
   },
   "source": [
    "Create the appropriate compilation unit (file) containg the classes below (you may, or you may not define a package). Then compile it with the Java compiler and run with the Java interpeter. Analyze the code and assign its actions and functionalities to its structure. If it is possible, discuss this with your peer.\n",
    "\n",
    "```java\n",
    "import java.io.*;\n",
    "import java.net.*;\n",
    " \n",
    "public class ServerHTTP\n",
    "{\n",
    "   public static void main(String[] args) throws IOException                \n",
    "   {                                                                       \n",
    "      ServerSocket serv=new ServerSocket(80);                              \n",
    " \n",
    "      while(true)                                                          \n",
    "      {                                                                    \n",
    "         //accepting connection                                            \n",
    "         System.out.println(\"Waiting for connection...\");               \n",
    "         Socket sock=serv.accept();                                        \n",
    " \n",
    "         //data streams                                               \n",
    "         InputStream is=sock.getInputStream();                             \n",
    "         OutputStream os=sock.getOutputStream();                           \n",
    "         BufferedReader inp=new BufferedReader(new InputStreamReader(is)); \n",
    "         DataOutputStream outp=new DataOutputStream(os);                   \n",
    " \n",
    "         //reading request                                     \n",
    "         String request=inp.readLine();                                    \n",
    " \n",
    "         //sending response                                  \n",
    "         if(request.startsWith(\"GET\"))                                     \n",
    "         {                                                                 \n",
    "            //response header                                              \n",
    "            outp.writeBytes(\"HTTP/1.0 200 OK\\r\\n\");                        \n",
    "            outp.writeBytes(\"Content-Type: text/html\\r\\n\");                \n",
    "            outp.writeBytes(\"Content-Length: \\r\\n\");                       \n",
    "            outp.writeBytes(\"\\r\\n\");                                       \n",
    " \n",
    "            //response body                                                \n",
    "            outp.writeBytes(\"<html>\\r\\n\");                                 \n",
    "            outp.writeBytes(\"<H1>Strona testowa</H1>\\r\\n\");                \n",
    "            outp.writeBytes(\"</html>\\r\\n\");                                \n",
    "         }                                                                 \n",
    "         else                                                              \n",
    "         {                                                                 \n",
    "            outp.writeBytes(\"HTTP/1.1 501 Not supported.\\r\\n\");            \n",
    "         }                                                                 \n",
    " \n",
    "         //closing streams                                             \n",
    "         inp.close();                                                      \n",
    "         outp.close();                                                     \n",
    "         sock.close();                                                     \n",
    "      }                                                                    \n",
    "   }                                                                       \n",
    "}\n",
    "```"
   ]
  },
  {
   "cell_type": "markdown",
   "metadata": {},
   "source": [
    "## Exercise 2"
   ]
  },
  {
   "cell_type": "markdown",
   "metadata": {},
   "source": [
    "Implement the retrieving data from HTTP request received by the server from the web browser. You will need the URL of the resource demanded by the web browser. You may retrieve these data from the first line of the HTTP request. Below you can find an example of it."
   ]
  },
  {
   "cell_type": "code",
   "execution_count": 3,
   "metadata": {
    "collapsed": false
   },
   "outputs": [
    {
     "name": "stdout",
     "output_type": "stream",
     "text": [
      "GET /index.html HTTP/1.1\n"
     ]
    }
   ],
   "source": [
    "String request = \"GET /index.html HTTP/1.1\";\n",
    "System.out.println(request);"
   ]
  },
  {
   "cell_type": "markdown",
   "metadata": {},
   "source": [
    "The request line (first line of a request) contains three tokens separated by spaces - \"GET\", the URL of the resource and \"HTTP/1.1\". In order to retrieve the URL, you may use the methods of the Java API String class."
   ]
  },
  {
   "cell_type": "code",
   "execution_count": 5,
   "metadata": {
    "collapsed": false
   },
   "outputs": [
    {
     "name": "stdout",
     "output_type": "stream",
     "text": [
      "GET\n",
      "/index.html\n",
      "HTTP/1.1\n"
     ]
    }
   ],
   "source": [
    "String[] tab = request.split(\" \");\n",
    "\n",
    "for(int i=0;i<3;i++)\n",
    "{\n",
    "    System.out.println(tab[i]);\n",
    "}"
   ]
  },
  {
   "cell_type": "markdown",
   "metadata": {},
   "source": [
    "Now you are able to retrieve the name of file requested by the web browser."
   ]
  },
  {
   "cell_type": "code",
   "execution_count": 10,
   "metadata": {
    "collapsed": false
   },
   "outputs": [
    {
     "name": "stdout",
     "output_type": "stream",
     "text": [
      "index.html\n"
     ]
    }
   ],
   "source": [
    "String fileName = tab[1].substring(1);\n",
    "System.out.println(fileName);"
   ]
  },
  {
   "cell_type": "markdown",
   "metadata": {},
   "source": [
    "Now, you are ready to open the file of specified name, read its contents to the byte buffer and, finally, write the contents of the buffer to the appropriate output stream related with the HTTP request being sent back to the web browser. Note, that unlike the HTTP request (which contains text data), HTTP response may contain either text (html) or binary (graphics), depending on its mime type. As a result, you need to use binary stream (DataOutputStream) for the response, while it is sufficient to use text stream (BufferedReader) for the request. Below you find an example of how to accomplished this task."
   ]
  },
  {
   "cell_type": "markdown",
   "metadata": {
    "collapsed": true
   },
   "source": [
    "```java\n",
    "FileInputStream fis = new FileInputStream(fileName);\n",
    " \n",
    "byte[] bufor;\n",
    "bufor=new byte[1024];\n",
    "int n=0;\n",
    " \n",
    "while ((n = fis.read(bufor)) != -1 )\n",
    "{\n",
    "\toutp.write(buffer, 0, n);\n",
    "}\n",
    "```"
   ]
  },
  {
   "cell_type": "markdown",
   "metadata": {},
   "source": [
    "## Exercise 3"
   ]
  },
  {
   "cell_type": "markdown",
   "metadata": {},
   "source": [
    "Using the starting version below, develop further your HTTP server to create its multithreaded version.\n",
    "\n",
    "```java\n",
    "import java.io.*;\n",
    "import java.net.*;\n",
    " \n",
    "class HandlingRequest extends Thread\n",
    "{\n",
    "   Socket sock;\n",
    " \n",
    "   HandlingRequest(Socket klientSocket)  \n",
    "   {                                   \n",
    "      this.sock=klientSocket;          \n",
    "   }                                   \n",
    " \n",
    "   public void run() \n",
    "   {                 \n",
    " \n",
    "   }                 \n",
    "}\n",
    " \n",
    "public class ServerHTTP\n",
    "{\n",
    "   public static void main(String[] args) throws IOException     \n",
    "   {                                                            \n",
    "      ServerSocket serv=new ServerSocket(80);                   \n",
    " \n",
    "      while(true)                                               \n",
    "      {                                                         \n",
    "         //accepting connection                                 \n",
    "         System.out.println(\"Oczekiwanie na polaczenie...\");    \n",
    "         Socket sock=serv.accept();                             \n",
    " \n",
    "         //creating and starting handling request thread             \n",
    "         new HandlingRequest(sock).start();                      \n",
    "      }                                                         \n",
    "   }                                                            \n",
    "}\n",
    "```"
   ]
  },
  {
   "cell_type": "markdown",
   "metadata": {},
   "source": [
    "## Exercise 4"
   ]
  },
  {
   "cell_type": "markdown",
   "metadata": {},
   "source": [
    "Using the starting version below, develop further your HTTP server to create its HTTPS version.\n",
    "\n",
    "```java\n",
    "import java.io.*;\n",
    "import java.net.*;\n",
    "import javax.net.ssl.*;\n",
    " \n",
    "public class ServerHTTPS\n",
    "{\n",
    " \n",
    "   public static void main(String[] args) throws IOException                     \n",
    "   {                                                                             \n",
    "      SSLServerSocketFactory fact;                                               \n",
    "      fact = (SSLServerSocketFactory)SSLServerSocketFactory.getDefault();        \n",
    "      ServerSocket servsock = fact.createServerSocket(8080);                     \n",
    " \n",
    "      while (true)                                                               \n",
    "      {                                                                          \n",
    "         try                                                                     \n",
    "         {                                                                       \n",
    "            Socket sock = servsock.accept();                                     \n",
    " \n",
    "            OutputStream out;                                                    \n",
    "            out=sock.getOutputStream();                                          \n",
    " \n",
    "            BufferedReader in;                                                   \n",
    "            in=new BufferedReader(new InputStreamReader(sock.getInputStream())); \n",
    " \n",
    " \n",
    " \n",
    "            in.close();                                                          \n",
    "            out.close();                                                         \n",
    "            sock.close();                                                        \n",
    "         }                                                                       \n",
    "         catch (Exception e)                                                     \n",
    "         {                                                                       \n",
    "            e.printStackTrace();                                                 \n",
    "         }                                                                       \n",
    "      }                                                                          \n",
    "   }                                                                             \n",
    "}\n",
    "```"
   ]
  }
 ],
 "metadata": {
  "kernelspec": {
   "display_name": "Java",
   "language": "java",
   "name": "java"
  },
  "language_info": {
   "codemirror_mode": "java",
   "file_extension": ".java",
   "mimetype": "text/x-java-source",
   "name": "Java",
   "pygments_lexer": "java",
   "version": "9.0.4+11"
  }
 },
 "nbformat": 4,
 "nbformat_minor": 1
}
