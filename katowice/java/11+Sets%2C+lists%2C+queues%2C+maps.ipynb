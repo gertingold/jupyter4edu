{
 "cells": [
  {
   "cell_type": "markdown",
   "metadata": {},
   "source": [
    "# Sets, lists, queues, maps"
   ]
  },
  {
   "cell_type": "markdown",
   "metadata": {},
   "source": [
    "A data structure is a collection of data organized in a specific way which also supports operations of accessing and manipulating these data. In Java, a data structure is an object that stores other objects (container), referred to as its elements. The Java Collections Framework supports two type of such container objects. Collections, for storing  just objects and maps for storing key/value pairs. Collections are further divided into sets, lists and queues and are represented by the ```java.util.Collection``` interface of the Java API defines common operations on these data structures."
   ]
  },
  {
   "cell_type": "markdown",
   "metadata": {
    "collapsed": true
   },
   "source": [
    "## Sets"
   ]
  },
  {
   "cell_type": "markdown",
   "metadata": {},
   "source": [
    "A set stores a group of unique (nonduplicate) elements and provide appropriate functionality to operate on it."
   ]
  },
  {
   "cell_type": "code",
   "execution_count": 4,
   "metadata": {
    "collapsed": true
   },
   "outputs": [],
   "source": [
    "import java.util.HashSet;"
   ]
  },
  {
   "cell_type": "code",
   "execution_count": 5,
   "metadata": {
    "collapsed": true
   },
   "outputs": [],
   "source": [
    "Collection <String> c1 = new HashSet<>();"
   ]
  },
  {
   "cell_type": "code",
   "execution_count": 6,
   "metadata": {
    "collapsed": false
   },
   "outputs": [
    {
     "name": "stdout",
     "output_type": "stream",
     "text": [
      "[Apple, Pear, Cherry, Prune]\n",
      "4\n",
      "true\n",
      "[Apple, Pear, Prune]\n",
      "3\n",
      "false\n",
      "[Apple, Pear, Prune][Prune, Peach, Nut, Melon]\n",
      "[Apple, Pear][Prune, Peach, Nut, Melon]\n",
      "[Apple, Pear, Prune, Peach, Nut, Melon][Prune, Peach, Nut, Melon]\n",
      "[Prune, Peach, Nut, Melon][Prune, Peach, Nut, Melon]\n"
     ]
    }
   ],
   "source": [
    "c1.add(\"Apple\");\n",
    "c1.add(\"Pear\");\n",
    "c1.add(\"Prune\");\n",
    "c1.add(\"Cherry\");\n",
    "\n",
    "System.out.println( c1 );\n",
    "System.out.println( c1.size() );\n",
    "System.out.println( c1.contains(\"Cherry\") );\n",
    "\n",
    "\n",
    "c1.remove(\"Cherry\");\n",
    "\n",
    "System.out.println( c1 );\n",
    "System.out.println( c1.size() );\n",
    "System.out.println( c1.contains(\"Cherry\") );\n",
    "\n",
    "\n",
    "Collection <String> c2 = new HashSet<>();\n",
    "\n",
    "c2.add(\"Peach\");\n",
    "c2.add(\"Prune\");\n",
    "c2.add(\"Nut\");\n",
    "c2.add(\"Melon\");\n",
    "\n",
    "System.out.print(c1);\n",
    "System.out.println(c2);\n",
    "\n",
    "\n",
    "c1.removeAll(c2);\n",
    "System.out.print(c1);\n",
    "System.out.println(c2);\n",
    "\n",
    "\n",
    "c1.addAll(c2);\n",
    "System.out.print(c1);\n",
    "System.out.println(c2);\n",
    "\n",
    "\n",
    "c1.retainAll(c2);\n",
    "System.out.print(c1);\n",
    "System.out.println(c2);"
   ]
  },
  {
   "cell_type": "markdown",
   "metadata": {},
   "source": [
    "## Lists"
   ]
  },
  {
   "cell_type": "markdown",
   "metadata": {},
   "source": [
    "A list stores an ordered collection of elements."
   ]
  },
  {
   "cell_type": "code",
   "execution_count": 1,
   "metadata": {
    "collapsed": true
   },
   "outputs": [],
   "source": [
    "import java.util.ArrayList;"
   ]
  },
  {
   "cell_type": "code",
   "execution_count": 2,
   "metadata": {
    "collapsed": true
   },
   "outputs": [],
   "source": [
    "Collection <String> c1 = new ArrayList<>();"
   ]
  },
  {
   "cell_type": "code",
   "execution_count": 3,
   "metadata": {
    "collapsed": false
   },
   "outputs": [
    {
     "name": "stdout",
     "output_type": "stream",
     "text": [
      "[Apple, Pear, Prune, Cherry]\n",
      "4\n",
      "true\n"
     ]
    }
   ],
   "source": [
    "c1.add(\"Apple\");\n",
    "c1.add(\"Pear\");\n",
    "c1.add(\"Prune\");\n",
    "c1.add(\"Cherry\");\n",
    "\n",
    "System.out.println( c1 );\n",
    "System.out.println( c1.size() );\n",
    "System.out.println( c1.contains(\"Cherry\") );"
   ]
  },
  {
   "cell_type": "code",
   "execution_count": 84,
   "metadata": {
    "collapsed": false
   },
   "outputs": [
    {
     "name": "stdout",
     "output_type": "stream",
     "text": [
      "[Apple, Pear, Prune]\n",
      "3\n",
      "false\n"
     ]
    }
   ],
   "source": [
    "c1.remove(\"Cherry\");\n",
    "\n",
    "System.out.println( c1 );\n",
    "System.out.println( c1.size() );\n",
    "System.out.println( c1.contains(\"Cherry\") );"
   ]
  },
  {
   "cell_type": "code",
   "execution_count": 85,
   "metadata": {
    "collapsed": false
   },
   "outputs": [
    {
     "name": "stdout",
     "output_type": "stream",
     "text": [
      "[Peach, Prune, Nut, Melon]\n"
     ]
    }
   ],
   "source": [
    "Collection <String> c2 = new ArrayList<>();\n",
    "\n",
    "c2.add(\"Peach\");\n",
    "c2.add(\"Prune\");\n",
    "c2.add(\"Nut\");\n",
    "c2.add(\"Melon\");\n",
    "\n",
    "System.out.println(c2);"
   ]
  },
  {
   "cell_type": "code",
   "execution_count": 86,
   "metadata": {
    "collapsed": false
   },
   "outputs": [
    {
     "name": "stdout",
     "output_type": "stream",
     "text": [
      "[Apple, Pear, Prune, Peach, Prune, Nut, Melon]\n"
     ]
    }
   ],
   "source": [
    "Collection <String> c3 = (ArrayList<String>)( ((ArrayList)c1).clone() );\n",
    "\n",
    "c3.addAll(c2);\n",
    "\n",
    "System.out.println(c3);"
   ]
  },
  {
   "cell_type": "code",
   "execution_count": 87,
   "metadata": {
    "collapsed": false
   },
   "outputs": [
    {
     "name": "stdout",
     "output_type": "stream",
     "text": [
      "[Prune]\n"
     ]
    }
   ],
   "source": [
    "Collection <String> c4 = (ArrayList<String>)( ((ArrayList)c1).clone() );\n",
    "\n",
    "c4.retainAll(c2);\n",
    "\n",
    "System.out.println(c4);"
   ]
  },
  {
   "cell_type": "code",
   "execution_count": 88,
   "metadata": {
    "collapsed": false
   },
   "outputs": [
    {
     "name": "stdout",
     "output_type": "stream",
     "text": [
      "[Apple, Pear]\n"
     ]
    }
   ],
   "source": [
    "Collection <String> c4 = (ArrayList<String>)( ((ArrayList)c1).clone() );\n",
    "\n",
    "c4.removeAll(c2);\n",
    "\n",
    "System.out.println(c4);"
   ]
  },
  {
   "cell_type": "markdown",
   "metadata": {},
   "source": [
    "## Queues"
   ]
  },
  {
   "cell_type": "markdown",
   "metadata": {},
   "source": [
    "A queue stores objects which are processed in first-in first-out fashion."
   ]
  },
  {
   "cell_type": "code",
   "execution_count": 9,
   "metadata": {
    "collapsed": true
   },
   "outputs": [],
   "source": [
    "import java.util.PriorityQueue;"
   ]
  },
  {
   "cell_type": "code",
   "execution_count": 10,
   "metadata": {
    "collapsed": true
   },
   "outputs": [],
   "source": [
    "Collection <String> c1 = new PriorityQueue<>();"
   ]
  },
  {
   "cell_type": "code",
   "execution_count": 11,
   "metadata": {
    "collapsed": false
   },
   "outputs": [
    {
     "name": "stdout",
     "output_type": "stream",
     "text": [
      "[Apple, Cherry, Prune, Pear]\n",
      "4\n",
      "true\n",
      "[Apple, Pear, Prune]\n",
      "3\n",
      "false\n",
      "[Apple, Pear, Prune][Melon, Nut, Peach, Prune]\n",
      "[Apple, Pear][Melon, Nut, Peach, Prune]\n",
      "[Apple, Nut, Melon, Pear, Peach, Prune][Melon, Nut, Peach, Prune]\n",
      "[Melon, Nut, Prune, Peach][Melon, Nut, Peach, Prune]\n"
     ]
    }
   ],
   "source": [
    "c1.add(\"Apple\");\n",
    "c1.add(\"Pear\");\n",
    "c1.add(\"Prune\");\n",
    "c1.add(\"Cherry\");\n",
    "\n",
    "System.out.println( c1 );\n",
    "System.out.println( c1.size() );\n",
    "System.out.println( c1.contains(\"Cherry\") );\n",
    "\n",
    "\n",
    "c1.remove(\"Cherry\");\n",
    "\n",
    "System.out.println( c1 );\n",
    "System.out.println( c1.size() );\n",
    "System.out.println( c1.contains(\"Cherry\") );\n",
    "\n",
    "\n",
    "Collection <String> c2 = new PriorityQueue<>();\n",
    "\n",
    "c2.add(\"Peach\");\n",
    "c2.add(\"Prune\");\n",
    "c2.add(\"Nut\");\n",
    "c2.add(\"Melon\");\n",
    "\n",
    "System.out.print(c1);\n",
    "System.out.println(c2);\n",
    "\n",
    "\n",
    "c1.removeAll(c2);\n",
    "System.out.print(c1);\n",
    "System.out.println(c2);\n",
    "\n",
    "\n",
    "c1.addAll(c2);\n",
    "System.out.print(c1);\n",
    "System.out.println(c2);\n",
    "\n",
    "\n",
    "c1.retainAll(c2);\n",
    "System.out.print(c1);\n",
    "System.out.println(c2);"
   ]
  },
  {
   "cell_type": "code",
   "execution_count": 12,
   "metadata": {
    "collapsed": false
   },
   "outputs": [
    {
     "name": "stdout",
     "output_type": "stream",
     "text": [
      "MELON\n",
      "NUT\n",
      "PRUNE\n",
      "PEACH\n"
     ]
    }
   ],
   "source": [
    "c1.forEach(e -> System.out.println( e.toUpperCase() ));"
   ]
  },
  {
   "cell_type": "markdown",
   "metadata": {},
   "source": [
    "## Maps"
   ]
  },
  {
   "cell_type": "markdown",
   "metadata": {},
   "source": [
    "A map stores a collection of key/value pairs and provide the appropriate functionality to operate such structure."
   ]
  },
  {
   "cell_type": "code",
   "execution_count": 13,
   "metadata": {
    "collapsed": true
   },
   "outputs": [],
   "source": [
    "import java.util.*;"
   ]
  },
  {
   "cell_type": "code",
   "execution_count": 14,
   "metadata": {
    "collapsed": true
   },
   "outputs": [],
   "source": [
    "Map <String,Integer> h = new HashMap <> ();"
   ]
  },
  {
   "cell_type": "code",
   "execution_count": 15,
   "metadata": {
    "collapsed": false
   },
   "outputs": [
    {
     "name": "stdout",
     "output_type": "stream",
     "text": [
      "{Romek=24, Andrzej=37, Przemek=46, Jola=34, Krzysiek=43}\n"
     ]
    }
   ],
   "source": [
    "h.put(\"Andrzej\",37);\n",
    "h.put(\"Romek\",24);\n",
    "h.put(\"Krzysiek\",43);\n",
    "h.put(\"Przemek\",46);\n",
    "h.put(\"Jola\",34);\n",
    "\n",
    "System.out.println(h);"
   ]
  },
  {
   "cell_type": "code",
   "execution_count": 16,
   "metadata": {
    "collapsed": false
   },
   "outputs": [
    {
     "name": "stdout",
     "output_type": "stream",
     "text": [
      "43\n"
     ]
    }
   ],
   "source": [
    "Integer age = h.get(\"Krzysiek\");\n",
    "System.out.println( age );"
   ]
  },
  {
   "cell_type": "code",
   "execution_count": 17,
   "metadata": {
    "collapsed": false
   },
   "outputs": [
    {
     "name": "stdout",
     "output_type": "stream",
     "text": [
      "Romek: 24 \n",
      "Andrzej: 37 \n",
      "Przemek: 46 \n",
      "Jola: 34 \n",
      "Krzysiek: 43 \n"
     ]
    }
   ],
   "source": [
    "h.forEach( (name, age) -> System.out.println(name + \": \" + age + \" \") );"
   ]
  },
  {
   "cell_type": "code",
   "execution_count": 18,
   "metadata": {
    "collapsed": false
   },
   "outputs": [
    {
     "name": "stdout",
     "output_type": "stream",
     "text": [
      "43\n",
      "Andrzej: 37 \n",
      "Jola: 34 \n",
      "Krzysiek: 43 \n",
      "Przemek: 46 \n",
      "Romek: 24 \n"
     ]
    }
   ],
   "source": [
    "Map <String,Integer> t = new TreeMap <> ( h );\n",
    "\n",
    "Integer age = t.get(\"Krzysiek\");\n",
    "System.out.println( age );\n",
    "\n",
    "t.forEach( (name, age) -> System.out.println(name + \": \" + age + \" \") );"
   ]
  },
  {
   "cell_type": "code",
   "execution_count": 19,
   "metadata": {
    "collapsed": false
   },
   "outputs": [
    {
     "name": "stdout",
     "output_type": "stream",
     "text": [
      "43\n",
      "Romek: 24 \n",
      "Andrzej: 37 \n",
      "Przemek: 46 \n",
      "Jola: 34 \n",
      "Krzysiek: 43 \n"
     ]
    }
   ],
   "source": [
    "Map <String,Integer> l = new LinkedHashMap <> ( h );\n",
    "\n",
    "Integer age = l.get(\"Krzysiek\");\n",
    "System.out.println( age );\n",
    "\n",
    "l.forEach( (name, age) -> System.out.println(name + \": \" + age + \" \") );"
   ]
  },
  {
   "cell_type": "markdown",
   "metadata": {},
   "source": [
    "## Iterator and forEach loop"
   ]
  },
  {
   "cell_type": "markdown",
   "metadata": {},
   "source": [
    "Collections are iterable. The ```Collection``` interface implements the ```Iterable``` interface which contains the ```Iterator iterator()``` method. This method returns an iterator object which provides sequential access to elements of different collections in uniform way. "
   ]
  },
  {
   "cell_type": "code",
   "execution_count": 120,
   "metadata": {
    "collapsed": false
   },
   "outputs": [
    {
     "name": "stdout",
     "output_type": "stream",
     "text": [
      "Prune\n",
      "Peach\n",
      "Nut\n",
      "Melon\n"
     ]
    }
   ],
   "source": [
    "Iterator <String> i = c1.iterator();\n",
    "\n",
    "while( i.hasNext() )\n",
    "{\n",
    "    System.out.println( i.next() );\n",
    "}"
   ]
  },
  {
   "cell_type": "markdown",
   "metadata": {},
   "source": [
    "The ```Iterator``` interface contains also ```forEach()``` method, which also is a comfortable way to sequentially access the elements."
   ]
  },
  {
   "cell_type": "code",
   "execution_count": 117,
   "metadata": {
    "collapsed": false
   },
   "outputs": [
    {
     "name": "stdout",
     "output_type": "stream",
     "text": [
      "APPLE\n",
      "PEAR\n",
      "NUT\n",
      "PRUNE\n",
      "PEACH\n",
      "MELON\n"
     ]
    }
   ],
   "source": [
    "c3.forEach(e -> System.out.println( e.toUpperCase() ));"
   ]
  },
  {
   "cell_type": "markdown",
   "metadata": {},
   "source": [
    "## Efficiency issues"
   ]
  },
  {
   "cell_type": "markdown",
   "metadata": {},
   "source": [
    "Different collections have different efficiencies with respect to specific operations. Below you find tests which compare efficiencies of different collections."
   ]
  },
  {
   "cell_type": "code",
   "execution_count": 162,
   "metadata": {
    "collapsed": false
   },
   "outputs": [],
   "source": [
    "import java.util.*;\n",
    "\n",
    "static final int N = 10000;\n",
    "\n",
    "List <Integer> l = new ArrayList <> ();\n",
    "for (int i = 0; i < N; i++)\n",
    "{\n",
    "    l.add(i);\n",
    "    Collections.shuffle(l); \n",
    "}"
   ]
  },
  {
   "cell_type": "code",
   "execution_count": 160,
   "metadata": {
    "collapsed": false
   },
   "outputs": [],
   "source": [
    "public static long getTestTime(Collection <Integer> c) \n",
    "{\n",
    "    long startTime = System.currentTimeMillis();\n",
    "\n",
    "    for (int i=0; i<N; i++)\n",
    "    {\n",
    "        c.contains((int)(Math.random() * 2 * N));\n",
    "    }\n",
    "    \n",
    "            return System.currentTimeMillis() - startTime;\n",
    "}\n",
    "\n",
    "public static long getRemoveTime(Collection <Integer> c) \n",
    "{\n",
    "    long startTime = System.currentTimeMillis();\n",
    "\n",
    "    for (int i=0; i<N; i++)\n",
    "    {\n",
    "        c.remove(i);\n",
    "    }\n",
    "    \n",
    "    return System.currentTimeMillis() - startTime;\n",
    "}"
   ]
  },
  {
   "cell_type": "code",
   "execution_count": 164,
   "metadata": {
    "collapsed": false
   },
   "outputs": [
    {
     "name": "stdout",
     "output_type": "stream",
     "text": [
      "107\n",
      "41\n"
     ]
    }
   ],
   "source": [
    "Collection <Integer> l1 = new ArrayList <> (l);\n",
    "System.out.println(getTestTime(l1));\n",
    "System.out.println(getRemoveTime(l1));"
   ]
  },
  {
   "cell_type": "code",
   "execution_count": 165,
   "metadata": {
    "collapsed": false
   },
   "outputs": [
    {
     "name": "stdout",
     "output_type": "stream",
     "text": [
      "193\n",
      "88\n"
     ]
    }
   ],
   "source": [
    "Collection <Integer> l1 = new LinkedList <> (l);\n",
    "System.out.println(getTestTime(l1));\n",
    "System.out.println(getRemoveTime(l1));"
   ]
  },
  {
   "cell_type": "code",
   "execution_count": 166,
   "metadata": {
    "collapsed": false
   },
   "outputs": [
    {
     "name": "stdout",
     "output_type": "stream",
     "text": [
      "2\n",
      "3\n"
     ]
    }
   ],
   "source": [
    "Collection <Integer> l1 = new HashSet <> (l);\n",
    "System.out.println(getTestTime(l1));\n",
    "System.out.println(getRemoveTime(l1));"
   ]
  },
  {
   "cell_type": "code",
   "execution_count": 167,
   "metadata": {
    "collapsed": false
   },
   "outputs": [
    {
     "name": "stdout",
     "output_type": "stream",
     "text": [
      "2\n",
      "5\n"
     ]
    }
   ],
   "source": [
    "Collection <Integer> l1 = new LinkedHashSet <> (l);\n",
    "System.out.println(getTestTime(l1));\n",
    "System.out.println(getRemoveTime(l1));"
   ]
  },
  {
   "cell_type": "code",
   "execution_count": 168,
   "metadata": {
    "collapsed": false
   },
   "outputs": [
    {
     "name": "stdout",
     "output_type": "stream",
     "text": [
      "4\n",
      "5\n"
     ]
    }
   ],
   "source": [
    "Collection <Integer> l1 = new TreeSet <> (l);\n",
    "System.out.println(getTestTime(l1));\n",
    "System.out.println(getRemoveTime(l1));"
   ]
  }
 ],
 "metadata": {
  "kernelspec": {
   "display_name": "Java",
   "language": "java",
   "name": "java"
  },
  "language_info": {
   "codemirror_mode": "java",
   "file_extension": ".java",
   "mimetype": "text/x-java-source",
   "name": "Java",
   "pygments_lexer": "java",
   "version": "9.0.4+11"
  }
 },
 "nbformat": 4,
 "nbformat_minor": 1
}
