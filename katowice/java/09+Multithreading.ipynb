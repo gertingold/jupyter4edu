{
 "cells": [
  {
   "cell_type": "markdown",
   "metadata": {},
   "source": [
    "# Multithreading"
   ]
  },
  {
   "cell_type": "markdown",
   "metadata": {},
   "source": [
    "The parallel running of multiple tasks within a program is called multithreading. Java has built-in support for this important feature, which means that you are not forced to invoke system dependent functions to implement it. A thread is defined as flow of execution, which run from begining to end of a task. In multiprocessor systems different threads may be executed on different processors. In the case of single processor system, different threads are executed using the so called time sharing - operating system assigns periods of CPU time to threads."
   ]
  },
  {
   "cell_type": "markdown",
   "metadata": {},
   "source": [
    "## Tasks and threads"
   ]
  },
  {
   "cell_type": "markdown",
   "metadata": {},
   "source": [
    "Tasks are represented by objects of classess that implement the ```java.lang.Runnable``` interface. It contains only one method - ```public void run()```. This method must be defined in task class to define the life cycle of the task."
   ]
  },
  {
   "cell_type": "code",
   "execution_count": 59,
   "metadata": {
    "collapsed": true
   },
   "outputs": [],
   "source": [
    "class A implements Runnable\n",
    "{\n",
    "    public void run()\n",
    "    {\n",
    "        for(int j=0;j<10;j++)\n",
    "        {\n",
    "            System.out.print(0);\n",
    "        }\n",
    "    }\n",
    "}"
   ]
  },
  {
   "cell_type": "markdown",
   "metadata": {},
   "source": [
    "A task class may also have their fields, constructors and methods other than ```public void run()```."
   ]
  },
  {
   "cell_type": "code",
   "execution_count": 27,
   "metadata": {
    "collapsed": true
   },
   "outputs": [],
   "source": [
    "class A implements Runnable\n",
    "{\n",
    "    private int i;\n",
    "    private int n;\n",
    "    \n",
    "    A(int i, int n)\n",
    "    {\n",
    "        this.i = i;\n",
    "        this.n = n;\n",
    "    }\n",
    "    \n",
    "    public void run()\n",
    "    {\n",
    "        for(int j=0;j<n;j++)\n",
    "        {\n",
    "            System.out.print(i);\n",
    "        }\n",
    "    }\n",
    "}"
   ]
  },
  {
   "cell_type": "code",
   "execution_count": 35,
   "metadata": {
    "collapsed": true
   },
   "outputs": [],
   "source": [
    "class B implements Runnable\n",
    "{\n",
    "    public void run()\n",
    "    {\n",
    "        for(int j=0;j<10;j++)\n",
    "        {\n",
    "            System.out.print(1);\n",
    "        }\n",
    "    }\n",
    "}"
   ]
  },
  {
   "cell_type": "markdown",
   "metadata": {},
   "source": [
    "In order to create a task, you are required to create an instance of a task class. Then, you must instantianate ```java.lang.Thread``` class of Java API and pass a task object as a parameter to its constructor."
   ]
  },
  {
   "cell_type": "code",
   "execution_count": 40,
   "metadata": {
    "collapsed": false
   },
   "outputs": [],
   "source": [
    "Thread t1 = new Thread( new A(3,7) );\n",
    "Thread t2 = new Thread( new B() );"
   ]
  },
  {
   "cell_type": "markdown",
   "metadata": {},
   "source": [
    "Once a thread are created, you need to invoke the ```start()``` method on it, in order to change their status and tell the virtual machine to allocate CPU time for that thread. Now both threads are running on their own and virtual machine continues to execute the remaining part of a program."
   ]
  },
  {
   "cell_type": "code",
   "execution_count": 41,
   "metadata": {
    "collapsed": false
   },
   "outputs": [
    {
     "name": "stdout",
     "output_type": "stream",
     "text": [
      "333333311111111117777777777"
     ]
    }
   ],
   "source": [
    "t1.start();\n",
    "t2.start();\n",
    "\n",
    "for(int i=0;i<10;i++)\n",
    "{\n",
    "    System.out.print(7);\n",
    "}"
   ]
  },
  {
   "cell_type": "code",
   "execution_count": 37,
   "metadata": {
    "collapsed": false
   },
   "outputs": [
    {
     "name": "stdout",
     "output_type": "stream",
     "text": [
      "333333311111"
     ]
    }
   ],
   "source": [
    "t1.start();\n",
    "t2.start();"
   ]
  },
  {
   "cell_type": "markdown",
   "metadata": {},
   "source": [
    "At the time of writing this text, multithreading cannot be fully illustrated with Jupyther notebooks, as the characteristic of passing textual output to notebooks is different from that in case of Jupyter console. In order to see the appropriate output, you may need to use Jupyter console or your local Java runtime environment. There are however announcements that mechanisms aimed at illustrating this in Jupyter notebooks will be available soon.\n",
    "\n",
    "In order to run this example in your local Java runtime environment, you need to set up compilation unit in the following way."
   ]
  },
  {
   "cell_type": "code",
   "execution_count": 56,
   "metadata": {
    "collapsed": true
   },
   "outputs": [],
   "source": [
    "class A implements Runnable\n",
    "{\n",
    "    public void run()\n",
    "    {\n",
    "        for(int j=0;j<10;j++)\n",
    "        {\n",
    "            System.out.print(0);\n",
    "        }\n",
    "    }\n",
    "}"
   ]
  },
  {
   "cell_type": "code",
   "execution_count": 57,
   "metadata": {
    "collapsed": true
   },
   "outputs": [],
   "source": [
    "class B implements Runnable\n",
    "{\n",
    "    public void run()\n",
    "    {\n",
    "        for(int j=0;j<10;j++)\n",
    "        {\n",
    "            System.out.print(1);\n",
    "        }\n",
    "    }\n",
    "}"
   ]
  },
  {
   "cell_type": "code",
   "execution_count": 58,
   "metadata": {
    "collapsed": true
   },
   "outputs": [],
   "source": [
    "public class C\n",
    "{\n",
    "    public static void main(String[] args)\n",
    "    {\n",
    "        t1.start();\n",
    "        t2.start();\n",
    "\n",
    "        for(int i=0;i<10;i++)\n",
    "        {\n",
    "            System.out.print(7);\n",
    "        }\n",
    "    }\n",
    "}"
   ]
  },
  {
   "cell_type": "markdown",
   "metadata": {},
   "source": [
    "A thread must be also implemented by directly defining a class which extends from the ```java.lang.Thread```."
   ]
  },
  {
   "cell_type": "code",
   "execution_count": 43,
   "metadata": {
    "collapsed": true
   },
   "outputs": [],
   "source": [
    "class A extends Thread\n",
    "{\n",
    "    public void run()\n",
    "    {\n",
    "        for(int j=0;j<10;j++)\n",
    "        {\n",
    "            System.out.print(0);\n",
    "        }\n",
    "    }\n",
    "}"
   ]
  },
  {
   "cell_type": "code",
   "execution_count": 44,
   "metadata": {
    "collapsed": true
   },
   "outputs": [],
   "source": [
    "class B extends Thread\n",
    "{\n",
    "    public void run()\n",
    "    {\n",
    "        for(int j=0;j<10;j++)\n",
    "        {\n",
    "            System.out.print(1);\n",
    "        }\n",
    "    }\n",
    "}"
   ]
  },
  {
   "cell_type": "code",
   "execution_count": 53,
   "metadata": {
    "collapsed": false
   },
   "outputs": [],
   "source": [
    "A obj1 = new A();\n",
    "B obj2 = new B();"
   ]
  },
  {
   "cell_type": "code",
   "execution_count": 54,
   "metadata": {
    "collapsed": false
   },
   "outputs": [
    {
     "name": "stdout",
     "output_type": "stream",
     "text": [
      "000000000011111111112222222222"
     ]
    }
   ],
   "source": [
    "obj1.start();\n",
    "obj2.start();\n",
    "\n",
    "for(int i=0;i<10;i++)\n",
    "{\n",
    "    System.out.print(2);\n",
    "}"
   ]
  },
  {
   "cell_type": "markdown",
   "metadata": {},
   "source": [
    "In this method, however, a task is not separated from its thread, which is considered less clear approach than defining method imlementing ```java.lang.Runnable``` interface. The same remark, concerning jupyter cells versus jupyter console or local Java environment, as in the above case of threads implementing ```java.lang.Runnable``` applies also in this case."
   ]
  },
  {
   "cell_type": "markdown",
   "metadata": {},
   "source": [
    "## Controlling threads"
   ]
  },
  {
   "cell_type": "markdown",
   "metadata": {},
   "source": [
    "The ```java.lang.Thread``` class contains also functionality to control execution of threads. For example, you can assign different priorities to different threads, which means different amount of CPU time for each of them."
   ]
  },
  {
   "cell_type": "code",
   "execution_count": 60,
   "metadata": {
    "collapsed": true
   },
   "outputs": [],
   "source": [
    "class A extends Thread\n",
    "{\n",
    "    public void run()\n",
    "    {\n",
    "        for(int i=0;i<10;i++)\n",
    "        {\n",
    "            System.out.print(0);\n",
    "        }\n",
    "    }\n",
    "}"
   ]
  },
  {
   "cell_type": "code",
   "execution_count": 61,
   "metadata": {
    "collapsed": true
   },
   "outputs": [],
   "source": [
    "class B extends Thread\n",
    "{\n",
    "    public void run()\n",
    "    {\n",
    "        for(int i=0;i<10;i++)\n",
    "        {\n",
    "            System.out.print(1);\n",
    "        }\n",
    "    }\n",
    "}"
   ]
  },
  {
   "cell_type": "code",
   "execution_count": 64,
   "metadata": {
    "collapsed": false
   },
   "outputs": [
    {
     "name": "stdout",
     "output_type": "stream",
     "text": [
      "0000000000111111"
     ]
    }
   ],
   "source": [
    "A obj1 = new A();\n",
    "B obj2 = new B();\n",
    "\n",
    "obj1.setPriority(Thread.MIN_PRIORITY);\n",
    "obj2.setPriority(Thread.MAX_PRIORITY);\n",
    "\n",
    "obj1.start();\n",
    "obj2.start();"
   ]
  },
  {
   "cell_type": "markdown",
   "metadata": {},
   "source": [
    "You also can use ```sleep()``` method to suspend execution of a thread for specified number of milisesonds."
   ]
  },
  {
   "cell_type": "code",
   "execution_count": 68,
   "metadata": {
    "collapsed": false
   },
   "outputs": [
    {
     "name": "stdout",
     "output_type": "stream",
     "text": [
      "0000000000000000000000000000000000000000000000001111111111"
     ]
    }
   ],
   "source": [
    "class A extends Thread\n",
    "{\n",
    "    public void run()\n",
    "    {\n",
    "        for(int i=0;i<100;i++)\n",
    "        {\n",
    "            try\n",
    "            {\n",
    "                System.out.print(0);\n",
    "                if(i>30) Thread.sleep(10);\n",
    "            }\n",
    "            catch(InterruptedException e)\n",
    "            {\n",
    "            \n",
    "            }\n",
    "        }\n",
    "    }\n",
    "}\n",
    "\n",
    "class B extends Thread\n",
    "{\n",
    "    public void run()\n",
    "    {\n",
    "        for(int i=0;i<100;i++)\n",
    "        {\n",
    "            System.out.print(1);\n",
    "        }\n",
    "    }\n",
    "}\n",
    "\n",
    "A obj1 = new A();\n",
    "B obj2 = new B();\n",
    "\n",
    "obj1.start();\n",
    "obj2.start();"
   ]
  },
  {
   "cell_type": "markdown",
   "metadata": {},
   "source": [
    "The ```sleep()``` method may throw ```InterruptedException```, which must be handled using ```try-catch``` statement."
   ]
  },
  {
   "cell_type": "markdown",
   "metadata": {},
   "source": [
    "The ```yield()``` method temporarily release time for other threads.In the example below, in every iteration of the loop, the task is yielded to other threads."
   ]
  },
  {
   "cell_type": "code",
   "execution_count": 71,
   "metadata": {
    "collapsed": false
   },
   "outputs": [
    {
     "name": "stdout",
     "output_type": "stream",
     "text": [
      "000000000011111"
     ]
    }
   ],
   "source": [
    "class A extends Thread\n",
    "{\n",
    "    public void run()\n",
    "    {\n",
    "        for(int i=0;i<10;i++)\n",
    "        {\n",
    "            System.out.print(0);\n",
    "            if(i>30) Thread.yield();\n",
    "        }\n",
    "    }\n",
    "}\n",
    "\n",
    "class B extends Thread\n",
    "{\n",
    "    public void run()\n",
    "    {\n",
    "        for(int i=0;i<10;i++)\n",
    "        {\n",
    "            System.out.print(1);\n",
    "        }\n",
    "    }\n",
    "}\n",
    "\n",
    "A obj1 = new A();\n",
    "B obj2 = new B();\n",
    "\n",
    "obj1.start();\n",
    "obj2.start();"
   ]
  },
  {
   "cell_type": "markdown",
   "metadata": {},
   "source": [
    "The ```join()``` method tells the thread to wait for another thread to finish."
   ]
  },
  {
   "cell_type": "code",
   "execution_count": 75,
   "metadata": {
    "collapsed": false
   },
   "outputs": [
    {
     "name": "stdout",
     "output_type": "stream",
     "text": [
      "111110010"
     ]
    }
   ],
   "source": [
    "class A extends Thread\n",
    "{\n",
    "    public void run()\n",
    "    {  \n",
    "        for(int i=0;i<10;i++)\n",
    "        {\n",
    "            System.out.print(0);\n",
    "            if(i>30) Thread.yield();\n",
    "        }\n",
    "    }\n",
    "}\n",
    "\n",
    "class B extends Thread\n",
    "{\n",
    "    public void run()\n",
    "    {\n",
    "        Thread t = new Thread( new A() );\n",
    "        t.start();\n",
    "        \n",
    "        try\n",
    "        {\n",
    "            for(int i=0;i<10;i++)\n",
    "            {\n",
    "                System.out.print(1);\n",
    "                if(i==5) t.join();\n",
    "            }\n",
    "        }\n",
    "        catch(InterruptedException e)\n",
    "        {\n",
    "        \n",
    "        }\n",
    "    }\n",
    "}\n",
    "\n",
    "B obj = new B();\n",
    "obj.start();"
   ]
  },
  {
   "cell_type": "markdown",
   "metadata": {},
   "source": [
    "Although the ```java.lang.Thread``` class contains methods ```stop()```, ```suspend()``` and ```resume()```, they are marked as \"deprecated\", because they are inherently unsafe. A thread should be finished by completing its whole life cycle defined in the ```run()``` method. You can also assign ```null``` value to a thread reference, to tell the system that it has to be stopped."
   ]
  },
  {
   "cell_type": "markdown",
   "metadata": {},
   "source": [
    "## Synchronization of threads"
   ]
  },
  {
   "cell_type": "markdown",
   "metadata": {},
   "source": [
    "In multithreaded programming, there is often a need to synchronize tasks. One example of it is when two different tasks needs access to one unsharable resource (for example a printer). In such cases, it is necessary to prevent more than one thread from entering the critical section of the program. You may to accomplish this either by using the ```synchronized``` modifier to the method or the ```synchronized``` statement, which define the block of code which needs to be defined as critical section."
   ]
  },
  {
   "cell_type": "code",
   "execution_count": 84,
   "metadata": {
    "collapsed": false
   },
   "outputs": [
    {
     "name": "stdout",
     "output_type": "stream",
     "text": [
      "00000000001111111111"
     ]
    }
   ],
   "source": [
    "class A extends Thread\n",
    "{\n",
    "    synchronized void m()\n",
    "    {\n",
    "        for(int i=0;i<10;i++)\n",
    "        {\n",
    "            System.out.print(0);\n",
    "        }\n",
    "    }\n",
    "\n",
    "    public void run()\n",
    "    {\n",
    "        m();\n",
    "    }\n",
    "}\n",
    "\n",
    "class B extends Thread\n",
    "{\n",
    "    \n",
    "\n",
    "    public void run()\n",
    "    {\n",
    "       for(int i=0;i<10;i++)\n",
    "        {\n",
    "            System.out.print(1);\n",
    "        } \n",
    "    }\n",
    "}\n",
    "\n",
    "A obj1 = new A();\n",
    "B obj2 = new B();\n",
    "\n",
    "obj1.start();\n",
    "obj2.start();"
   ]
  },
  {
   "cell_type": "markdown",
   "metadata": {},
   "source": [
    "In the example above, the first thread is guaranteed to execute the whole ```m()``` without interrupting it by the other thread."
   ]
  },
  {
   "cell_type": "markdown",
   "metadata": {},
   "source": [
    "Invoking a synchronized object method acquires a lock on that object. A ```synchronized``` statement acquires a lock on any object (not necessarily this one) to create a synchronized block."
   ]
  },
  {
   "cell_type": "code",
   "execution_count": 89,
   "metadata": {
    "collapsed": false
   },
   "outputs": [
    {
     "name": "stdout",
     "output_type": "stream",
     "text": [
      "0000000000111"
     ]
    }
   ],
   "source": [
    "class A extends Thread\n",
    "{\n",
    "    public void run()\n",
    "    {\n",
    "        Object obj = new Object();\n",
    "        \n",
    "        synchronized(obj)\n",
    "        {\n",
    "            for(int i=0;i<10;i++)\n",
    "            {\n",
    "                System.out.print(0);\n",
    "            }\n",
    "        }\n",
    "    }\n",
    "}\n",
    "\n",
    "class B extends Thread\n",
    "{\n",
    "    \n",
    "\n",
    "    public void run()\n",
    "    {\n",
    "       for(int i=0;i<10;i++)\n",
    "        {\n",
    "            System.out.print(1);\n",
    "        } \n",
    "    }\n",
    "}\n",
    "\n",
    "A obj1 = new A();\n",
    "B obj2 = new B();\n",
    "\n",
    "obj1.start();\n",
    "obj2.start();"
   ]
  }
 ],
 "metadata": {
  "kernelspec": {
   "display_name": "Java",
   "language": "java",
   "name": "java"
  },
  "language_info": {
   "codemirror_mode": "java",
   "file_extension": ".java",
   "mimetype": "text/x-java-source",
   "name": "Java",
   "pygments_lexer": "java",
   "version": "9.0.4+11"
  }
 },
 "nbformat": 4,
 "nbformat_minor": 1
}
