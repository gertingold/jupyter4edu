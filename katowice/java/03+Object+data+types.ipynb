{
 "cells": [
  {
   "cell_type": "markdown",
   "metadata": {},
   "source": [
    "# Object data types"
   ]
  },
  {
   "cell_type": "markdown",
   "metadata": {},
   "source": [
    "Built-in data types are suitable to represent an entity in the real world which can be described using a single numeric value, such as temperature or age of a person. In order to represent more complex entities, like a geometrical figure, a colour of something or a GUI component, you need to define a class. In other words - a class defines new data type. A variable of that type is called an object. Unlike built-in data types, objects may contain more than one numeric value and also the objects of earlier defined classes. These components of a class defines properties of a given object and are called member variables (or fields). Moreover, a class can define specific operations, which may be applied to its objects. These operations (behaviours) are called member functions or methods. Beside the fields and methods, a class have one or more constructors, which are needed to initialize fields of its objects."
   ]
  },
  {
   "cell_type": "markdown",
   "metadata": {},
   "source": [
    "## Defining a class"
   ]
  },
  {
   "cell_type": "markdown",
   "metadata": {},
   "source": [
    "As an example let us consider geometrical figures on a plane. You cannot represent a point as a variable of any built-in type, because any of such variables stores just a single numeric value. In order to represents a point you need a data type which consists of two numeric values - for x and y coordinates of the point. The class can also define a method which translates the point by provided values of dx and dy. The class may also have one or more constructors, which must be named after the name of class."
   ]
  },
  {
   "cell_type": "code",
   "execution_count": 45,
   "metadata": {
    "collapsed": false
   },
   "outputs": [],
   "source": [
    "class Point\n",
    "{\n",
    "    double x;\n",
    "    double y;\n",
    "    \n",
    "    Point()\n",
    "    {\n",
    "        this.x = this.y= 0;\n",
    "    }\n",
    "    \n",
    "    Point(double x, double y)\n",
    "    {\n",
    "        this.x=x;\n",
    "        this.y=y;\n",
    "    }\n",
    "    \n",
    "    void translate(double dx, double dy)\n",
    "    {\n",
    "        x+=dx;\n",
    "        y+=dy;\n",
    "    }\n",
    "    \n",
    "    public String toString()\n",
    "    {\n",
    "        return \"Point[x=\"+x+\", y=\"+y+\"]\";\n",
    "    }\n",
    "}"
   ]
  },
  {
   "cell_type": "markdown",
   "metadata": {},
   "source": [
    "## Creating an object"
   ]
  },
  {
   "cell_type": "markdown",
   "metadata": {},
   "source": [
    "In order to make use of the newly created custom data type, you need to declare one or more variables of that type. Such a variable is called a reference to an object (or a holder)."
   ]
  },
  {
   "cell_type": "code",
   "execution_count": 48,
   "metadata": {
    "collapsed": true
   },
   "outputs": [],
   "source": [
    "Point obj;"
   ]
  },
  {
   "cell_type": "markdown",
   "metadata": {},
   "source": [
    "Then you need to create an object and assign it to the reference. It must be done with the use of the operator ```new``` and one out of all available constructors. Note that the operator ```new``` allocates memory for an object. This is other memory location than the object reference is stored and it will contain values for the fields of that object."
   ]
  },
  {
   "cell_type": "code",
   "execution_count": 49,
   "metadata": {
    "collapsed": true
   },
   "outputs": [],
   "source": [
    "obj = new Point(-1,0);"
   ]
  },
  {
   "cell_type": "markdown",
   "metadata": {},
   "source": [
    "## Performing operations on an object "
   ]
  },
  {
   "cell_type": "markdown",
   "metadata": {},
   "source": [
    "Now you are able to perform (on this object) operations defined as methods of the class."
   ]
  },
  {
   "cell_type": "code",
   "execution_count": 50,
   "metadata": {
    "collapsed": true
   },
   "outputs": [],
   "source": [
    "obj.translate(-3,1);"
   ]
  },
  {
   "cell_type": "markdown",
   "metadata": {},
   "source": [
    "In order to check the state of the object after this operation (translation), you can use standard Java printing method, that uses the ```public String toString()``` of the class."
   ]
  },
  {
   "cell_type": "code",
   "execution_count": 51,
   "metadata": {
    "collapsed": false
   },
   "outputs": [
    {
     "name": "stdout",
     "output_type": "stream",
     "text": [
      "Point[x=-4.0, y=1.0]\n"
     ]
    }
   ],
   "source": [
    "System.out.println(obj);"
   ]
  },
  {
   "cell_type": "markdown",
   "metadata": {},
   "source": [
    "## Defining more complex class"
   ]
  },
  {
   "cell_type": "markdown",
   "metadata": {},
   "source": [
    "Now, you may define the class representing a rectangle. It will have two fields of type ```double```, for representing width and height of the rectangle and a field of type ```Point``` (which you defined above), for representing centre of the figure."
   ]
  },
  {
   "cell_type": "code",
   "execution_count": 56,
   "metadata": {
    "collapsed": false
   },
   "outputs": [],
   "source": [
    "class Rectangle\n",
    "{\n",
    "    Point centre;\n",
    "    double width;\n",
    "    double height;\n",
    "    \n",
    "    Rectangle()\n",
    "    {\n",
    "        this.centre = new Point(0,0);\n",
    "        this.width = this.height = 0;\n",
    "    }\n",
    "    \n",
    "    Rectangle(double width,double height)\n",
    "    {\n",
    "        this.centre = new Point(0,0);\n",
    "        this.width = width;\n",
    "        this.height = height;\n",
    "    }\n",
    "    \n",
    "    Rectangle(Point centre, double width,double height)\n",
    "    {\n",
    "        this.centre = centre;\n",
    "        this.width = width;\n",
    "        this.height = height;\n",
    "    }\n",
    "    \n",
    "    double area()\n",
    "    {\n",
    "        return width * height;\n",
    "    }\n",
    "    \n",
    "    void translate(double dx, double dy)\n",
    "    {\n",
    "        centre.translate(dx,dy);\n",
    "    }\n",
    "    \n",
    "    public String toString()\n",
    "    {\n",
    "        return \"Rectangle[x=\"+centre.x+\", y=\"+centre.y+\", width=\"+width+\", height=\"+height+\"]\";\n",
    "    }\n",
    "}"
   ]
  },
  {
   "cell_type": "markdown",
   "metadata": {},
   "source": [
    "Of course, in order to make use of the defined type ```Rectangle```, you must declare a variable of that type (a reference to an object), then you must to create the object itself, using operator ```new``` and one of the constructors defined in the class ```Rectangle``` and, finally, you can perform operations on that object."
   ]
  },
  {
   "cell_type": "code",
   "execution_count": 61,
   "metadata": {
    "collapsed": false
   },
   "outputs": [
    {
     "name": "stdout",
     "output_type": "stream",
     "text": [
      "Rectangle[x=0.0, y=0.0, width=7.0, height=3.0]\n",
      "Rectangle[x=-3.0, y=0.0, width=7.0, height=3.0]\n",
      "The area: 21.0\n"
     ]
    }
   ],
   "source": [
    "Rectangle obj;\n",
    "obj = new Rectangle(7,3);\n",
    "System.out.println(obj);\n",
    "\n",
    "obj.translate(-3,0);\n",
    "System.out.println(obj);\n",
    "\n",
    "double x = obj.area();\n",
    "System.out.println(\"The area: \"+x);"
   ]
  },
  {
   "cell_type": "markdown",
   "metadata": {
    "collapsed": true
   },
   "source": [
    "## Interactions between objects"
   ]
  },
  {
   "cell_type": "markdown",
   "metadata": {},
   "source": [
    "Let us change the definition of the class ```Rectangle``` so that it contains the method tested whether or not the specific point belongs to the interior of the rectangle."
   ]
  },
  {
   "cell_type": "code",
   "execution_count": 69,
   "metadata": {
    "collapsed": true
   },
   "outputs": [],
   "source": [
    "class Rectangle\n",
    "{\n",
    "    Point centre;\n",
    "    double width;\n",
    "    double height;\n",
    "    \n",
    "    Rectangle()\n",
    "    {\n",
    "        this.centre = new Point(0,0);\n",
    "        this.width = this.height = 0;\n",
    "    }\n",
    "    \n",
    "    Rectangle(double width, double height)\n",
    "    {\n",
    "        this.centre = new Point(0,0);\n",
    "        this.width = width;\n",
    "        this.height = height;\n",
    "    }\n",
    "    \n",
    "    Rectangle(Point centre, double width, double height)\n",
    "    {\n",
    "        this.centre = centre;\n",
    "        this.width = width;\n",
    "        this.height = height;\n",
    "    }\n",
    "    \n",
    "    Rectangle(double x, double y, double width, double height)\n",
    "    {\n",
    "        this.centre = new Point(x,y);\n",
    "        this.width = width;\n",
    "        this.height = height;\n",
    "    }\n",
    "    \n",
    "    double area()\n",
    "    {\n",
    "        return width * height;\n",
    "    }\n",
    "    \n",
    "    void translate(double dx, double dy)\n",
    "    {\n",
    "        centre.translate(dx,dy);\n",
    "    }\n",
    "    \n",
    "    boolean contains(Point obj)\n",
    "    {\n",
    "        return (obj.x > centre.x - 0.5*width) && (obj.x < centre.x + 0.5*width) \n",
    "            && (obj.y > centre.y - 0.5*height) && (obj.y < centre.y + 0.5*height);\n",
    "    }\n",
    "    \n",
    "    public String toString()\n",
    "    {\n",
    "        return \"Rectangle[x=\"+centre.x+\", y=\"+centre.y+\", width=\"+width+\", height=\"+height+\"]\";\n",
    "    }\n",
    "}"
   ]
  },
  {
   "cell_type": "markdown",
   "metadata": {},
   "source": [
    "Let us now create a number of objects representing different rectangles and points and perform operations that illustrate the interactions between objects."
   ]
  },
  {
   "cell_type": "code",
   "execution_count": 78,
   "metadata": {
    "collapsed": false
   },
   "outputs": [
    {
     "name": "stdout",
     "output_type": "stream",
     "text": [
      "Rectangle[x=0.0, y=0.0, width=7.0, height=3.0]\n",
      "Point[x=-1.0, y=8.0]\n",
      "The rectangle DOES NOT contain the given point\n",
      "\n",
      "After translating the rectangle\n",
      "Rectangle[x=1.0, y=7.0, width=7.0, height=3.0]\n",
      "Point[x=-1.0, y=8.0]\n",
      "The rectangle contain the point\n"
     ]
    }
   ],
   "source": [
    "Point p1 = new Point(-1,1);\n",
    "Point p2 = new Point(-1,8);\n",
    "Point p3 = new Point(0,-3);\n",
    "\n",
    "Rectangle r1 = new Rectangle(7,3);\n",
    "Rectangle r2 = new Rectangle(-2,-2,10,6);\n",
    "\n",
    "\n",
    "\n",
    "System.out.println(r1);\n",
    "System.out.println(p2);\n",
    "\n",
    "if(r1.contains(p2))\n",
    "{\n",
    "    System.out.println(\"The rectangle contain the given point\");\n",
    "}\n",
    "else\n",
    "{\n",
    "    System.out.println(\"The rectangle DOES NOT contain the given point\");\n",
    "}\n",
    "\n",
    "\n",
    "\n",
    "System.out.println();\n",
    "\n",
    "r1.translate(1,7);\n",
    "System.out.println(\"After translating the rectangle\");\n",
    "System.out.println(r1);\n",
    "System.out.println(p2);\n",
    "\n",
    "if(r1.contains(p2))\n",
    "{\n",
    "    System.out.println(\"The rectangle contain the point\");\n",
    "}\n",
    "else\n",
    "{\n",
    "    System.out.println(\"The rectangle DOES NOT contain given point\");\n",
    "}"
   ]
  },
  {
   "cell_type": "markdown",
   "metadata": {},
   "source": [
    "## Array objects"
   ]
  },
  {
   "cell_type": "markdown",
   "metadata": {},
   "source": [
    "An array in Java is an object. Similarly, as any other object it must be declared."
   ]
  },
  {
   "cell_type": "code",
   "execution_count": 101,
   "metadata": {
    "collapsed": true
   },
   "outputs": [],
   "source": [
    "int[] a1;"
   ]
  },
  {
   "cell_type": "markdown",
   "metadata": {},
   "source": [
    "Then, the array object must be created with the operator ```new```."
   ]
  },
  {
   "cell_type": "code",
   "execution_count": 103,
   "metadata": {
    "collapsed": true
   },
   "outputs": [],
   "source": [
    "a1 = new int[5];"
   ]
  },
  {
   "cell_type": "markdown",
   "metadata": {},
   "source": [
    "After it is created, you are able to assign the values to its fields."
   ]
  },
  {
   "cell_type": "code",
   "execution_count": 104,
   "metadata": {
    "collapsed": false
   },
   "outputs": [
    {
     "name": "stdout",
     "output_type": "stream",
     "text": [
      "7\n"
     ]
    }
   ],
   "source": [
    "a1[0] = 3;\n",
    "a1[1] = 7;\n",
    "a1[2] = 12;\n",
    "a1[3] = 23;\n",
    "a1[4] = 34;\n",
    "\n",
    "System.out.println( a1[1] );"
   ]
  },
  {
   "cell_type": "markdown",
   "metadata": {},
   "source": [
    "Besides values, an array object has a __field named ```length```__ that stores its size."
   ]
  },
  {
   "cell_type": "code",
   "execution_count": 111,
   "metadata": {
    "collapsed": false
   },
   "outputs": [
    {
     "name": "stdout",
     "output_type": "stream",
     "text": [
      "5\n",
      "\n",
      "3\n",
      "7\n",
      "12\n",
      "23\n",
      "34\n"
     ]
    }
   ],
   "source": [
    "System.out.println( a1.length );\n",
    "System.out.println();\n",
    "\n",
    "for(int i=0;i<a1.length;i++)\n",
    "{\n",
    "    System.out.println( a1[i] );\n",
    "}"
   ]
  },
  {
   "cell_type": "markdown",
   "metadata": {},
   "source": [
    "Of course, arrays may also store objects."
   ]
  },
  {
   "cell_type": "code",
   "execution_count": 108,
   "metadata": {
    "collapsed": true
   },
   "outputs": [],
   "source": [
    "Point[] a2;"
   ]
  },
  {
   "cell_type": "code",
   "execution_count": 109,
   "metadata": {
    "collapsed": true
   },
   "outputs": [],
   "source": [
    "a2 = new Point[5];"
   ]
  },
  {
   "cell_type": "markdown",
   "metadata": {},
   "source": [
    "If the array stores objects, these objects must be created and the appropriate references assigned to the fields of an array."
   ]
  },
  {
   "cell_type": "code",
   "execution_count": 110,
   "metadata": {
    "collapsed": false
   },
   "outputs": [
    {
     "name": "stdout",
     "output_type": "stream",
     "text": [
      "Point[x=1.0, y=7.0]\n"
     ]
    }
   ],
   "source": [
    "a2[0] = new Point(-1,0);\n",
    "a2[1] = new Point(-1,3);\n",
    "a2[2] = new Point(1,0);\n",
    "a2[3] = new Point(1,7);\n",
    "a2[4] = new Point(0,0);\n",
    "\n",
    "System.out.println( a2[3] );"
   ]
  },
  {
   "cell_type": "markdown",
   "metadata": {},
   "source": [
    "The values stored in an array can be then accessed in the usual way."
   ]
  },
  {
   "cell_type": "code",
   "execution_count": 113,
   "metadata": {
    "collapsed": false
   },
   "outputs": [
    {
     "name": "stdout",
     "output_type": "stream",
     "text": [
      "5\n",
      "\n",
      "Point[x=-1.0, y=0.0]\n",
      "Point[x=-1.0, y=3.0]\n",
      "Point[x=1.0, y=0.0]\n",
      "Point[x=1.0, y=7.0]\n",
      "Point[x=0.0, y=0.0]\n"
     ]
    }
   ],
   "source": [
    "System.out.println( a.length );\n",
    "System.out.println();\n",
    "\n",
    "for(int i=0;i<a2.length;i++)\n",
    "{\n",
    "    System.out.println( a2[i] );\n",
    "}"
   ]
  },
  {
   "cell_type": "markdown",
   "metadata": {},
   "source": [
    "Multidimensional arrays are handled the analogous way."
   ]
  },
  {
   "cell_type": "code",
   "execution_count": 115,
   "metadata": {
    "collapsed": true
   },
   "outputs": [],
   "source": [
    "Point[][] a3;"
   ]
  },
  {
   "cell_type": "code",
   "execution_count": 117,
   "metadata": {
    "collapsed": true
   },
   "outputs": [],
   "source": [
    "a3 = new Point[3][2];"
   ]
  },
  {
   "cell_type": "code",
   "execution_count": 119,
   "metadata": {
    "collapsed": false
   },
   "outputs": [
    {
     "name": "stdout",
     "output_type": "stream",
     "text": [
      "Point[x=6.0, y=7.0]\n"
     ]
    }
   ],
   "source": [
    "a3[0][0] = new Point(0,0);\n",
    "a3[1][0] = new Point(3,7);\n",
    "a3[2][0] = new Point(5,2);\n",
    "\n",
    "a3[0][1] = new Point(6,7);\n",
    "a3[1][1] = new Point(2,1);\n",
    "a3[2][1] = new Point(1,0);\n",
    "\n",
    "System.out.println( a3[0][1] );"
   ]
  },
  {
   "cell_type": "code",
   "execution_count": 125,
   "metadata": {
    "collapsed": false
   },
   "outputs": [
    {
     "name": "stdout",
     "output_type": "stream",
     "text": [
      "3\n",
      "2\n",
      "\n",
      "Point[x=0.0, y=0.0]\n",
      "Point[x=6.0, y=7.0]\n",
      "Point[x=3.0, y=7.0]\n",
      "Point[x=2.0, y=1.0]\n",
      "Point[x=5.0, y=2.0]\n",
      "Point[x=1.0, y=0.0]\n"
     ]
    }
   ],
   "source": [
    "System.out.println( a3.length );\n",
    "System.out.println( a3[0].length );\n",
    "System.out.println();\n",
    "\n",
    "for(int i=0;i<a3.length;i++)\n",
    "{\n",
    "    for(int j=0;j<a3[i].length;j++)\n",
    "    {\n",
    "        System.out.println( a3[i][j] );\n",
    "    }\n",
    "}"
   ]
  },
  {
   "cell_type": "markdown",
   "metadata": {},
   "source": [
    "## Memory management"
   ]
  },
  {
   "cell_type": "markdown",
   "metadata": {},
   "source": [
    "The range of (either built-in typed or references to the objects) is limited to the block in which they are declared. At the end of the block, the memory allocated for the variable is freed. In the case of buil-in types, it is the only memory location related to the variable (it stored the value assigned to it). Unlike built-in types, in the case of an object there are two distinct memory locations related to it - one is a location where the reference to the object is stored (address) and the other is a location where in the memory is stored the object itself (values assigned to the fields of that object). The reference to an object is treated as built-in typed variable - the memory allocated to it is freed with the end of the block in which it was declared. On the other hand, the memory allocated to the object itself remains not freed until it is done by the so called garbage collector. It works in a separate thread and looks for memory locations allocated to objects to which there exist no references in any thread, in order to free it."
   ]
  },
  {
   "cell_type": "code",
   "execution_count": 85,
   "metadata": {
    "collapsed": false
   },
   "outputs": [
    {
     "name": "stdout",
     "output_type": "stream",
     "text": [
      "7\tPoint[x=-1.0, y=0.0]\n",
      "3\tPoint[x=7.0, y=7.0]\n",
      "7\tPoint[x=-1.0, y=0.0]\n"
     ]
    }
   ],
   "source": [
    "int i = 7;\n",
    "Point p = new Point(-1,0);\n",
    "System.out.println(i+\"\\t\"+p);\n",
    "\n",
    "{\n",
    "    int i = 3;\n",
    "    Point p = new Point(7,7);\n",
    "    System.out.println(i+\"\\t\"+p);\n",
    "}\n",
    "\n",
    "System.out.println(i+\"\\t\"+p);"
   ]
  },
  {
   "cell_type": "markdown",
   "metadata": {},
   "source": [
    "In Java, comparing object variables with an operator refers to their references (addresses) and not to the objects themselves. In order to compare the objects (information stored in int fields of an object), you need to use an appropriate method. Every class in Java has method ```boolean equals(Object obj)``` (inherited from their base class ```java.lang.Object```) which accomplishes this task."
   ]
  },
  {
   "cell_type": "code",
   "execution_count": 87,
   "metadata": {
    "collapsed": false
   },
   "outputs": [
    {
     "name": "stdout",
     "output_type": "stream",
     "text": [
      "false\n",
      "true\n"
     ]
    }
   ],
   "source": [
    "String s1 = new String(\"XX\");\n",
    "String s2 = new String(\"XX\");\n",
    "\n",
    "boolean b1 = s1==s2;\n",
    "System.out.println(b1);\n",
    "\n",
    "boolean b2 = s1.equals(s2);\n",
    "System.out.println(b2);"
   ]
  },
  {
   "cell_type": "markdown",
   "metadata": {},
   "source": [
    "## Exercise 1"
   ]
  },
  {
   "cell_type": "markdown",
   "metadata": {},
   "source": [
    "Modify the definition of class ```Rectangle``` by adding definitions of the method that perform scaling the rectangle by the given coefficient and the method calculating the perimeter of the rectangle. Write a program that will create a rectange and perform these operations."
   ]
  },
  {
   "cell_type": "markdown",
   "metadata": {},
   "source": [
    "## Exercise 2"
   ]
  },
  {
   "cell_type": "markdown",
   "metadata": {},
   "source": [
    "Write definition of class ```Circle``` representing a circle on the plane. Your class should have the field ```centre``` of type ```Point``` and the field ```radius``` of type ```double```, which represent centre of the circle and its radius. Write at least three different constructors, methods that translate the circle and the methods calculating and returning the area and perimeter of the circle. The approximate value of $\\pi$ is stored in ```Math.PI``` constant. Write a program that will create exemplary objects and perform operations on them."
   ]
  },
  {
   "cell_type": "markdown",
   "metadata": {},
   "source": [
    "## Exercise 3"
   ]
  },
  {
   "cell_type": "markdown",
   "metadata": {},
   "source": [
    "Modify definitions of class ```Circle``` by adding the method ```boolean intersects(Circle obj)``` testing whether or not the circle intersects other circle passed as parameter to this method. Write a program that will create exemplary objects and perform operations on them."
   ]
  }
 ],
 "metadata": {
  "kernelspec": {
   "display_name": "Java",
   "language": "java",
   "name": "java"
  },
  "language_info": {
   "codemirror_mode": "java",
   "file_extension": ".java",
   "mimetype": "text/x-java-source",
   "name": "Java",
   "pygments_lexer": "java",
   "version": "9.0.4+11"
  }
 },
 "nbformat": 4,
 "nbformat_minor": 1
}
