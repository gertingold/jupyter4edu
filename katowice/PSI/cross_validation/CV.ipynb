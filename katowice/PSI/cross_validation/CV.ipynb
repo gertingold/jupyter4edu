{
 "cells": [
  {
   "cell_type": "markdown",
   "metadata": {
    "nbgrader": {
     "grade": false,
     "grade_id": "cell-0a1f0c7a9a86ca8b",
     "locked": true,
     "schema_version": 1,
     "solution": false
    }
   },
   "source": [
    "## Metoda Walidacji Krzyżowej"
   ]
  },
  {
   "cell_type": "markdown",
   "metadata": {
    "nbgrader": {
     "grade": false,
     "grade_id": "cell-2aa19cdf03419df0",
     "locked": true,
     "schema_version": 1,
     "solution": false
    }
   },
   "source": [
    "Jest to jedna z metod estymacji (oszacowania) błędu klasyfikatora. W metodzie tej wykonywany jest podział próby na `v` podzbiorów. `v-1` z nich używamy do uczenia, jeden do\n",
    "sprawdzenia. Procedurę powtarzamy `v` razy."
   ]
  },
  {
   "cell_type": "markdown",
   "metadata": {
    "nbgrader": {
     "grade": false,
     "grade_id": "cell-69e3742bc36b10ba",
     "locked": true,
     "schema_version": 1,
     "solution": false
    }
   },
   "source": [
    "Metoda ta jest szczególnie istotna, podczas poszukiwania optymalnych parametrów klasyfikatora."
   ]
  },
  {
   "cell_type": "code",
   "execution_count": null,
   "metadata": {
    "nbgrader": {
     "grade": false,
     "grade_id": "cell-058df7f39726e354",
     "locked": true,
     "schema_version": 1,
     "solution": false
    }
   },
   "outputs": [],
   "source": [
    "%matplotlib inline \n",
    "import matplotlib.pyplot as plt\n",
    "import numpy as np"
   ]
  },
  {
   "cell_type": "code",
   "execution_count": null,
   "metadata": {
    "nbgrader": {
     "grade": false,
     "grade_id": "cell-b1d500e780ae04de",
     "locked": true,
     "schema_version": 1,
     "solution": false
    }
   },
   "outputs": [],
   "source": [
    "from __future__ import print_function\n",
    "from sklearn.model_selection import train_test_split, KFold, StratifiedKFold\n",
    "from sklearn.neighbors import KNeighborsClassifier\n",
    "from sklearn import datasets\n",
    "from sklearn.svm import SVC\n",
    "from sklearn import preprocessing\n",
    "from sklearn.model_selection import cross_val_score\n",
    "from sklearn.model_selection import GridSearchCV\n",
    "from sklearn.metrics import classification_report"
   ]
  },
  {
   "cell_type": "code",
   "execution_count": null,
   "metadata": {},
   "outputs": [],
   "source": []
  },
  {
   "cell_type": "markdown",
   "metadata": {
    "nbgrader": {
     "grade": false,
     "grade_id": "cell-150fcc891f169807",
     "locked": true,
     "schema_version": 1,
     "solution": false
    }
   },
   "source": [
    "Celem zestawu jest znalezienie optymalnego klasyfikator dla danych irys. W tym celu przeszukamy przestrzeń hiperparametrów dla klasyfikatorów kNN i SVM."
   ]
  },
  {
   "cell_type": "markdown",
   "metadata": {
    "nbgrader": {
     "grade": false,
     "grade_id": "cell-8e1b6a46f588e6a3",
     "locked": true,
     "schema_version": 1,
     "solution": false
    }
   },
   "source": []
  },
  {
   "cell_type": "markdown",
   "metadata": {
    "nbgrader": {
     "grade": false,
     "grade_id": "cell-1518beddef4d5d3e",
     "locked": true,
     "schema_version": 1,
     "solution": false
    }
   },
   "source": [
    "### Część 1"
   ]
  },
  {
   "cell_type": "markdown",
   "metadata": {
    "nbgrader": {
     "grade": false,
     "grade_id": "cell-0f142b95c2a453ae",
     "locked": true,
     "schema_version": 1,
     "solution": false
    }
   },
   "source": [
    "Wczytaj dane irys, \n",
    "- podziel je na zbiór uczący i testowy w proporcji 7:3 oraz  dokonaj ich standaryzacji metodą `preprocessing.StandardScaler`. Podczas dzielenia ustaw `random_state` na 1234. W metodzie `fit`  obiektu klasy `preprocessing.StandardScaler` uwzględij tylko dane treningowe, natomiast dokonaj standaryzacji zarówno danych testowych, jak i treningowych.\n",
    "\n",
    "- stwórz zbiór składający się ze wszystkich dostępnych danych i wykonaj dla niego standaryzację. "
   ]
  },
  {
   "cell_type": "code",
   "execution_count": null,
   "metadata": {
    "nbgrader": {
     "grade": false,
     "grade_id": "cell-70547edfca581c4b",
     "locked": false,
     "schema_version": 1,
     "solution": true
    }
   },
   "outputs": [],
   "source": [
    "standard_train = None\n",
    "standard_test = None\n",
    "train_targets = None\n",
    "test_targets = None\n",
    "\n",
    "standard_all = None\n",
    "all_targets = None\n",
    "\n",
    "### BEGIN SOLUTION\n",
    "\n",
    "iris_data = datasets.load_iris()\n",
    "X = iris_data.data\n",
    "\n",
    "#Wektor poprawnej klasyfikacji obiektów\n",
    "y = iris_data.target\n",
    "y = np.array(y)\n",
    "\n",
    "\n",
    "#Dzielimy losowo zbiór na dwie części\n",
    "train, test, train_targets, test_targets = train_test_split(X, y,\n",
    "                                 test_size=0.30, random_state=1234)\n",
    "\n",
    "\n",
    "\n",
    "scaler = preprocessing.StandardScaler(with_std = True)\n",
    "scaler.fit(train)\n",
    "\n",
    "standard_train = scaler.transform(train)\n",
    "standard_test = scaler.transform(test)\n",
    "\n",
    "scaler_all = preprocessing.StandardScaler(with_std = True)\n",
    "scaler_all.fit(X)\n",
    "\n",
    "standard_all = scaler_all.transform(X)\n",
    "all_targets = y\n",
    "### END SOLUTION\n"
   ]
  },
  {
   "cell_type": "code",
   "execution_count": null,
   "metadata": {
    "nbgrader": {
     "grade": true,
     "grade_id": "cell-e0bbbc24af961c12",
     "locked": true,
     "points": 1,
     "schema_version": 1,
     "solution": false
    }
   },
   "outputs": [],
   "source": [
    "np.testing.assert_array_almost_equal(np.mean(standard_train, axis=0), [0,0,0,0])\n",
    "np.testing.assert_array_almost_equal(np.std(standard_train, axis=0), [1,1,1,1])"
   ]
  },
  {
   "cell_type": "code",
   "execution_count": null,
   "metadata": {
    "nbgrader": {
     "grade": true,
     "grade_id": "cell-ca067d190d48acc0",
     "locked": true,
     "points": 1,
     "schema_version": 1,
     "solution": false
    }
   },
   "outputs": [],
   "source": [
    "np.testing.assert_array_almost_equal(np.mean(standard_all, axis=0), [0,0,0,0])\n",
    "np.testing.assert_array_almost_equal(np.std(standard_all, axis=0), [1,1,1,1])"
   ]
  },
  {
   "cell_type": "markdown",
   "metadata": {
    "nbgrader": {
     "grade": false,
     "grade_id": "cell-f9dcd0988274a4c7",
     "locked": true,
     "schema_version": 1,
     "solution": false
    }
   },
   "source": [
    "### Część 2"
   ]
  },
  {
   "cell_type": "markdown",
   "metadata": {
    "nbgrader": {
     "grade": false,
     "grade_id": "cell-d9f8e05402d137d1",
     "locked": true,
     "schema_version": 1,
     "solution": false
    }
   },
   "source": [
    "Dokonaj klasyfikacji z wykorzystaniem klasyfika kNN dla `k = 1`. Oszacuj błąd klasyfikacji z wykorzystaniem metody walidacji krzyżowej. W tym celu wykorzystaj zbiór `standard_all`. Użyj metody `cross_val_score` z biblioteki `sklearn`. Porownaj wynik walidacji krzyżowej z oszacowaniem dokladności z wykorzystaniem danych testowych. Jakie są czasy obu operacji?"
   ]
  },
  {
   "cell_type": "code",
   "execution_count": null,
   "metadata": {
    "nbgrader": {
     "grade": true,
     "grade_id": "cell-f21095548aa238ca",
     "locked": false,
     "points": 4,
     "schema_version": 1,
     "solution": true
    }
   },
   "outputs": [],
   "source": [
    "### BEGIN SOLUTION\n",
    "\n",
    "clf = KNeighborsClassifier(1,n_jobs=4)\n",
    "clf.fit(standard_train,train_targets)\n",
    "%time print(\"Dokładność na danych testowych\",clf.score(standard_test,test_targets ))\n",
    "%time scores = cross_val_score(clf, standard_all, all_targets, cv=5)\n",
    "print(\"Dokładność CV: %0.2f (+/- %0.2f)\" % (scores.mean(), scores.std() * 2))\n",
    "print (scores)\n",
    "### END SOLUTION"
   ]
  },
  {
   "cell_type": "markdown",
   "metadata": {
    "nbgrader": {
     "grade": false,
     "grade_id": "cell-e795c649a345a451",
     "locked": true,
     "schema_version": 1,
     "solution": false
    }
   },
   "source": [
    "### Część 3"
   ]
  },
  {
   "cell_type": "markdown",
   "metadata": {
    "nbgrader": {
     "grade": false,
     "grade_id": "cell-4ea6d6f86d557045",
     "locked": true,
     "schema_version": 1,
     "solution": false
    }
   },
   "source": [
    "Samodzielnie (nie korzystając z funkcji bibliotecznej)wykonaj procedurę walidacji krzyżowej. W pierwszym kroku podziel zbiór danych na 10 części. Wykorzystaj do tego metodę `KFold`. Ustaw `random_state` na 123. \n",
    "\n",
    "Następnie metodą split stwórz 10 podziałów na dane testowe i treningowe Dla każdego podziłu (w pętli) trenuj klasyfikator na danych treningowych i oszacuj błęd na danych testowych. Otrzymane wyniki zapisz do tablicy. Po wyjściu z pętli wyznacz średni błąd."
   ]
  },
  {
   "cell_type": "code",
   "execution_count": null,
   "metadata": {
    "nbgrader": {
     "grade": false,
     "grade_id": "cell-2edf33401a78c679",
     "locked": false,
     "schema_version": 1,
     "solution": true
    }
   },
   "outputs": [],
   "source": [
    "scores = []\n",
    "\n",
    "### BEGIN SOLUTION\n",
    "\n",
    "kf = KFold(n_splits=10, random_state=123)\n",
    "\n",
    "\n",
    "print(kf)  \n",
    "\n",
    "for train_index, test_index in kf.split(standard_all):\n",
    "    #print(\"TRAIN:\", train_index, \"TEST:\", test_index)\n",
    "    X_train, X_test = standard_all[train_index], standard_all[test_index]\n",
    "    y_train, y_test = all_targets[train_index], all_targets[test_index]\n",
    "    clf = KNeighborsClassifier(1,n_jobs=4)\n",
    "    clf.fit(X_train,y_train)\n",
    "    scores.append(clf.score(X_test,y_test))\n",
    "    \n",
    "\n",
    "### END SOLUTION\n",
    "\n",
    "print (\"Poszczególne wyniki: \", scores)\n",
    "print (\"Błąd wyznaczony procedurą walidacji krzyżowej: \", np.array(scores).mean())"
   ]
  },
  {
   "cell_type": "code",
   "execution_count": null,
   "metadata": {
    "nbgrader": {
     "grade": true,
     "grade_id": "cell-2d66f8e81fd3953c",
     "locked": true,
     "points": 5,
     "schema_version": 1,
     "solution": false
    }
   },
   "outputs": [],
   "source": [
    "np.testing.assert_array_almost_equal(scores, [1.0, 1.0, 1.0, 0.9333333333333333, 0.8, 0.8666666666666667, 1.0, 0.8666666666666667, 0.8666666666666667, 1.0])\n",
    "assert np.array(scores).mean()== 0.9333333333333333"
   ]
  },
  {
   "cell_type": "markdown",
   "metadata": {
    "nbgrader": {
     "grade": false,
     "grade_id": "cell-514824811effbff8",
     "locked": true,
     "schema_version": 1,
     "solution": false
    }
   },
   "source": [
    "### Część 4\n",
    "\n",
    "Tym razem w miejsce metody `KFold` użyj `StratifiedKFold`. `random_state=678` Jaki teraz otrzymujesz błąd? Czym różnią się między sobą te dwie metody?"
   ]
  },
  {
   "cell_type": "code",
   "execution_count": null,
   "metadata": {
    "nbgrader": {
     "grade": false,
     "grade_id": "cell-d9e06a9425bfb635",
     "locked": false,
     "schema_version": 1,
     "solution": true
    }
   },
   "outputs": [],
   "source": [
    "scores = []\n",
    "\n",
    "### BEGIN SOLUTION\n",
    "\n",
    "kf = StratifiedKFold(n_splits=10, random_state=678)\n",
    "kf.get_n_splits(standard_all)\n",
    "\n",
    "print(kf)  \n",
    "\n",
    "for train_index, test_index in kf.split(standard_all, all_targets):\n",
    "    #print(\"TRAIN:\", train_index, \"TEST:\", test_index)\n",
    "    X_train, X_test = standard_all[train_index], standard_all[test_index]\n",
    "    y_train, y_test = all_targets[train_index], all_targets[test_index]\n",
    "    clf = KNeighborsClassifier(1,n_jobs=4)\n",
    "    clf.fit(X_train,y_train)\n",
    "    scores.append(clf.score(X_test,y_test))\n",
    "    \n",
    "\n",
    "### END SOLUTION\n",
    "\n",
    "print (\"Poszczególne wyniki: \", scores)\n",
    "print (\"Błąd wyznaczony procedurą walidacji krzyżowej: \", np.array(scores).mean())"
   ]
  },
  {
   "cell_type": "code",
   "execution_count": null,
   "metadata": {
    "nbgrader": {
     "grade": true,
     "grade_id": "cell-af2042eb86f2e0b1",
     "locked": true,
     "points": 3,
     "schema_version": 1,
     "solution": false
    }
   },
   "outputs": [],
   "source": [
    "np.testing.assert_array_almost_equal(scores, [1.0, 0.9333333333333333, 1.0, 0.9333333333333333, 0.8666666666666667, 1.0, 0.8, 1.0, 1.0, 1.0])\n",
    "assert np.array(scores).mean()== 0.9533333333333334"
   ]
  },
  {
   "cell_type": "markdown",
   "metadata": {
    "nbgrader": {
     "grade": false,
     "grade_id": "cell-5c7cc02a77ec7843",
     "locked": true,
     "schema_version": 1,
     "solution": false
    }
   },
   "source": [
    "### Część 5"
   ]
  },
  {
   "cell_type": "markdown",
   "metadata": {
    "nbgrader": {
     "grade": false,
     "grade_id": "cell-95b87a19c6827a6f",
     "locked": true,
     "schema_version": 1,
     "solution": false
    }
   },
   "source": [
    "Z wykorzystaniem walidacji krzyżowej znajdź optymalny parametr `k` dla $k \\in (1, 20)$. Wykorzystaj metodę przeszukującą podany zakres parametrów `GridSearchCV`."
   ]
  },
  {
   "cell_type": "code",
   "execution_count": null,
   "metadata": {},
   "outputs": [],
   "source": [
    "clf = KNeighborsClassifier(1,n_jobs=4)\n",
    "clf.get_params()"
   ]
  },
  {
   "cell_type": "code",
   "execution_count": null,
   "metadata": {
    "nbgrader": {
     "grade": true,
     "grade_id": "cell-f3b6debd56576e11",
     "locked": false,
     "points": 4,
     "schema_version": 1,
     "solution": true
    }
   },
   "outputs": [],
   "source": [
    "%%time\n",
    "### BEGIN SOLUTION\n",
    "k = np.arange(20)+1\n",
    "tuned_parameters = {'n_neighbors': k}\n",
    "\n",
    "clf = GridSearchCV(KNeighborsClassifier(n_jobs=4), tuned_parameters, cv=5)\n",
    "clf.fit(standard_train, train_targets)\n",
    "\n",
    "### END SOLUTION"
   ]
  },
  {
   "cell_type": "code",
   "execution_count": null,
   "metadata": {},
   "outputs": [],
   "source": [
    "print(\"Zestaw najlepszych parametrów:\")\n",
    "print()\n",
    "print(clf.best_params_)\n",
    "print()\n",
    "print (\"Błąd: \", clf.best_score_)\n",
    "print()\n",
    "print(\"Wyniki\")\n",
    "print()\n",
    "means = clf.cv_results_['mean_test_score']\n",
    "stds = clf.cv_results_['std_test_score']\n",
    "for mean, std, params in zip(means, stds, clf.cv_results_['params']):\n",
    "    print(\"%0.3f (+/-%0.03f) dla %r\"\n",
    "            % (mean, std * 2, params))\n",
    "print()\n",
    "clf.best_estimator_"
   ]
  },
  {
   "cell_type": "code",
   "execution_count": null,
   "metadata": {},
   "outputs": [],
   "source": [
    "clf.best_estimator_.score(standard_test, test_targets)"
   ]
  },
  {
   "cell_type": "markdown",
   "metadata": {
    "nbgrader": {
     "grade": false,
     "grade_id": "cell-5d4cf7b0b3628f9b",
     "locked": true,
     "schema_version": 1,
     "solution": false
    }
   },
   "source": [
    "### Część 6"
   ]
  },
  {
   "cell_type": "markdown",
   "metadata": {
    "nbgrader": {
     "grade": false,
     "grade_id": "cell-9b6c9f435f1e0a44",
     "locked": true,
     "schema_version": 1,
     "solution": false
    }
   },
   "source": [
    "Dokonaj klasyfikacji z wykorzystaniem klasyfika SVM dla domyślnych parametrów. Oszacuj błąd klasyfikacji z wykorzystaniem metody walidacji krzyżowej (bez wykorzystywania danych testowych). Użyj metody `cross_val_score` z biblioteki `sklearn`. Porownaj wynik walidacji krzyżowej z oszacowaniem dokladności z wykorzystaniem danych testowych. Jakie są czasy obu operacji?"
   ]
  },
  {
   "cell_type": "code",
   "execution_count": null,
   "metadata": {
    "nbgrader": {
     "grade": true,
     "grade_id": "cell-0d199982497d679e",
     "locked": false,
     "points": 4,
     "schema_version": 1,
     "solution": true
    }
   },
   "outputs": [],
   "source": [
    "### BEGIN SOLUTION\n",
    "\n",
    "clf = SVC()\n",
    "clf.fit(standard_train,train_targets)\n",
    "%time print(\"Dokładność na danych testowych\",clf.score(standard_test,test_targets ))\n",
    "%time scores = cross_val_score(clf, standard_test, test_targets, cv=10)\n",
    "print(\"Dokładność CV: %0.2f (+/- %0.2f)\" % (scores.mean(), scores.std() * 2))\n",
    "\n",
    "### END SOLUTION"
   ]
  },
  {
   "cell_type": "markdown",
   "metadata": {
    "nbgrader": {
     "grade": false,
     "grade_id": "cell-d5843373e1b178aa",
     "locked": true,
     "schema_version": 1,
     "solution": false
    }
   },
   "source": [
    "### Część 7"
   ]
  },
  {
   "cell_type": "markdown",
   "metadata": {
    "nbgrader": {
     "grade": false,
     "grade_id": "cell-4f1b611f171febb0",
     "locked": true,
     "schema_version": 1,
     "solution": false
    }
   },
   "source": [
    "Przeskanuj następujący zestaw parametrów dla metody SVM."
   ]
  },
  {
   "cell_type": "code",
   "execution_count": null,
   "metadata": {
    "nbgrader": {
     "grade": false,
     "grade_id": "cell-1d0dd51f55f5dc2a",
     "locked": true,
     "schema_version": 1,
     "solution": false
    }
   },
   "outputs": [],
   "source": [
    "tuned_parameters = [{'kernel': ['rbf'], 'gamma': [1e-2, 1e-3, 1e-4],\n",
    "                     'C': [1, 10, 100, 1000]},\n",
    "                    {'kernel': ['linear'], 'C': [1, 10, 100, 1000]}]"
   ]
  },
  {
   "cell_type": "code",
   "execution_count": null,
   "metadata": {},
   "outputs": [],
   "source": [
    "%%time\n",
    "### BEGIN SOLUTION\n",
    "tuned_parameters = [{'kernel': ['rbf'], 'gamma': [1e-2, 1e-3, 1e-4],\n",
    "                     'C': [1, 10, 100, 1000]},\n",
    "                    {'kernel': ['linear'], 'C': [1, 10, 100, 1000]}]\n",
    "clf = GridSearchCV(SVC(), tuned_parameters, cv=5)\n",
    "clf.fit(standard_train, train_targets)\n",
    "\n",
    "### END SOLUTION"
   ]
  },
  {
   "cell_type": "code",
   "execution_count": null,
   "metadata": {},
   "outputs": [],
   "source": [
    "print(\"Zestaw najlepszych parametrów:\")\n",
    "print()\n",
    "print(clf.best_params_)\n",
    "\n",
    "means = clf.cv_results_['mean_test_score']\n",
    "stds = clf.cv_results_['std_test_score']\n",
    "amax = np.argmax(means)\n",
    "print (\"Błąd: \", clf.best_score_)\n",
    "print()\n",
    "print(\"Wyniki\")\n",
    "print()\n",
    "\n",
    "for mean, std, params in zip(means, stds, clf.cv_results_['params']):\n",
    "    print(\"%0.3f (+/-%0.03f) dla %r\"\n",
    "            % (mean, std * 2, params))\n",
    "print()\n"
   ]
  }
 ],
 "metadata": {
  "celltoolbar": "Create Assignment",
  "kernelspec": {
   "display_name": "Python 3",
   "language": "python",
   "name": "python3"
  },
  "language_info": {
   "codemirror_mode": {
    "name": "ipython",
    "version": 3
   },
   "file_extension": ".py",
   "mimetype": "text/x-python",
   "name": "python",
   "nbconvert_exporter": "python",
   "pygments_lexer": "ipython3",
   "version": "3.6.7"
  }
 },
 "nbformat": 4,
 "nbformat_minor": 2
}
