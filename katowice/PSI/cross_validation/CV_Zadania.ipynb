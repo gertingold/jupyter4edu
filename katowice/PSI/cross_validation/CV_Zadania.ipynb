{
 "cells": [
  {
   "cell_type": "markdown",
   "metadata": {
    "nbgrader": {
     "grade": false,
     "grade_id": "cell-0a1f0c7a9a86ca8b",
     "locked": true,
     "schema_version": 1,
     "solution": false
    }
   },
   "source": [
    "## Metoda Walidacji Krzyżowej"
   ]
  },
  {
   "cell_type": "code",
   "execution_count": null,
   "metadata": {
    "nbgrader": {
     "grade": false,
     "grade_id": "cell-058df7f39726e354",
     "locked": true,
     "schema_version": 1,
     "solution": false
    }
   },
   "outputs": [],
   "source": [
    "%matplotlib inline \n",
    "import matplotlib.pyplot as plt\n",
    "import numpy as np"
   ]
  },
  {
   "cell_type": "code",
   "execution_count": null,
   "metadata": {
    "nbgrader": {
     "grade": false,
     "grade_id": "cell-b1d500e780ae04de",
     "locked": true,
     "schema_version": 1,
     "solution": false
    }
   },
   "outputs": [],
   "source": [
    "from __future__ import print_function\n",
    "from sklearn.model_selection import train_test_split, KFold, StratifiedKFold\n",
    "from sklearn.neighbors import KNeighborsClassifier\n",
    "from sklearn import datasets\n",
    "from sklearn.svm import SVC\n",
    "from sklearn import preprocessing\n",
    "from sklearn.model_selection import cross_val_score\n",
    "from sklearn.model_selection import GridSearchCV\n",
    "from sklearn.metrics import classification_report"
   ]
  },
  {
   "cell_type": "markdown",
   "metadata": {},
   "source": [
    "# Zadanie 1 "
   ]
  },
  {
   "cell_type": "markdown",
   "metadata": {
    "nbgrader": {
     "grade": false,
     "grade_id": "cell-e2cbdef19f907947",
     "locked": true,
     "schema_version": 1,
     "solution": false
    }
   },
   "source": [
    "Znajdź optymalny klasyfikator dla sztucznie wygnerowanych danych z wykorzystaniem `datasets.make_circles`. W tym celu przeszukaj przestrzeń hiperparametrów dla klasyfikatorów kNN i SVM.\n",
    "\n",
    "Na wykresach zwizualizuj działanie obu znalezionych klasyfikatorów."
   ]
  },
  {
   "cell_type": "code",
   "execution_count": null,
   "metadata": {
    "nbgrader": {
     "grade": false,
     "grade_id": "cell-b4dc9b00c61d9843",
     "locked": true,
     "schema_version": 1,
     "solution": false
    }
   },
   "outputs": [],
   "source": [
    "circles_data, circles_targets = datasets.make_circles(n_samples=1000, factor=.15, noise=.25, random_state=12 )\n"
   ]
  },
  {
   "cell_type": "code",
   "execution_count": null,
   "metadata": {
    "nbgrader": {
     "grade": false,
     "grade_id": "cell-232b7faae36112de",
     "locked": true,
     "schema_version": 1,
     "solution": false
    }
   },
   "outputs": [],
   "source": [
    "plt.scatter(circles_data[:,0], circles_data[:,1],c = np.ravel(circles_targets))"
   ]
  },
  {
   "cell_type": "code",
   "execution_count": null,
   "metadata": {
    "nbgrader": {
     "grade": true,
     "grade_id": "cell-302ff5450f4e2219",
     "locked": false,
     "points": 10,
     "schema_version": 1,
     "solution": true
    }
   },
   "outputs": [],
   "source": [
    "\n",
    "### BEGIN SOLUTION\n",
    "\n",
    "X = circles_data\n",
    "\n",
    "#Wektor poprawnej klasyfikacji obiektów\n",
    "y = circles_targers\n",
    "y = np.array(y)\n",
    "\n",
    "\n",
    "#Dzielimy losowo zbiór na dwie części\n",
    "train, test, train_targets, test_targets = train_test_split(X, y,\n",
    "                                 test_size=0.30, random_state=1234)\n",
    "\n",
    "\n",
    "\n",
    "scaler = preprocessing.StandardScaler(with_std = True)\n",
    "scaler.fit(train)\n",
    "\n",
    "\n",
    "standard_train = scaler.transform(train)\n",
    "standard_test = scaler.transform(test)\n",
    "\n",
    "k = np.arange(20)+1\n",
    "tuned_parameters = {'n_neighbors': k}\n",
    "\n",
    "clf = GridSearchCV(KNeighborsClassifier(n_jobs=4), tuned_parameters, cv=5)\n",
    "clf.fit(standard_train, train_targets)\n",
    "\n",
    "print(\"METODA kNN\")\n",
    "print(\"Zestaw najlepszych parametrów:\")\n",
    "print()\n",
    "print(clf.best_params_)\n",
    "print()\n",
    "print (\"Błąd: \", clf.best_score_)\n",
    "print()\n",
    "print(\"Wyniki\")\n",
    "print()\n",
    "means = clf.cv_results_['mean_test_score']\n",
    "stds = clf.cv_results_['std_test_score']\n",
    "for mean, std, params in zip(means, stds, clf.cv_results_['params']):\n",
    "    print(\"%0.3f (+/-%0.03f) dla %r\"\n",
    "            % (mean, std * 2, params))\n",
    "print()\n",
    "\n",
    "tuned_parameters = [{'kernel': ['rbf'], 'gamma': [1e-2, 1e-3, 1e-4],\n",
    "                     'C': [1, 10, 100, 1000]},\n",
    "                    {'kernel': ['linear'], 'C': [1, 10, 100, 1000]}]\n",
    "clf = GridSearchCV(SVC(), tuned_parameters, cv=5)\n",
    "clf.fit(standard_train, train_targets)\n",
    "\n",
    "print(\"METODA SVM\")\n",
    "print(\"Zestaw najlepszych parametrów:\")\n",
    "print()\n",
    "print(clf.best_params_)\n",
    "\n",
    "means = clf.cv_results_['mean_test_score']\n",
    "stds = clf.cv_results_['std_test_score']\n",
    "amax = np.argmax(means)\n",
    "print (\"Błąd: \", clf.best_score_)\n",
    "print()\n",
    "print(\"Wyniki\")\n",
    "print()\n",
    "\n",
    "for mean, std, params in zip(means, stds, clf.cv_results_['params']):\n",
    "    print(\"%0.3f (+/-%0.03f) dla %r\"\n",
    "            % (mean, std * 2, params))\n",
    "print()\n",
    "\n",
    "### END SOLUTION\n"
   ]
  },
  {
   "cell_type": "code",
   "execution_count": null,
   "metadata": {},
   "outputs": [],
   "source": [
    "h = .02\n",
    "x_min, x_max = standard_train[:, 0].min()-1 , standard_train[:, 0].max() +1\n",
    "y_min, y_max = standard_train[:, 1].min()-1, standard_train[:, 1].max() +1\n",
    "xx, yy = np.meshgrid(np.arange(x_min, x_max, h),\n",
    "                         np.arange(y_min, y_max, h))\n",
    "Z = clf.predict(np.c_[xx.ravel(), yy.ravel()])\n",
    "\n",
    "Z = Z.reshape(xx.shape)\n",
    "plt.imshow(Z,extent=[x_min,x_max,y_min,y_max],origin='lower',alpha=0.3)#,cmap='GnBu')\n",
    "plt.scatter(standard_train[:,0], standard_train[:,1],c=np.ravel(train_targets))\n"
   ]
  },
  {
   "cell_type": "markdown",
   "metadata": {},
   "source": [
    "## Zadanie 2\n",
    "\n",
    "Znajdź optymalny klasyfikator dla sztucznie wygnerowanych danych z wykorzystaniem `datasets.make_moons`. W tym celu przeszukaj przestrzeń hiperparametrów dla klasyfikatorów kNN i SVM.\n",
    "\n",
    "Na wykresach zwizualizuj działanie obu znalezionych klasyfikatorów."
   ]
  },
  {
   "cell_type": "code",
   "execution_count": null,
   "metadata": {},
   "outputs": [],
   "source": [
    "moons_data, moons_targers = datasets.make_moons(n_samples=1000, noise=.35, random_state=3)"
   ]
  },
  {
   "cell_type": "code",
   "execution_count": null,
   "metadata": {
    "nbgrader": {
     "grade": false,
     "grade_id": "cell-039ed70fa451bbdf",
     "locked": true,
     "schema_version": 1,
     "solution": false
    }
   },
   "outputs": [],
   "source": [
    "plt.scatter(moons_data[:,0], moons_data[:,1],c = np.ravel(moons_targers))"
   ]
  },
  {
   "cell_type": "code",
   "execution_count": null,
   "metadata": {
    "nbgrader": {
     "grade": true,
     "grade_id": "cell-5632df99c0c042dc",
     "locked": false,
     "points": 10,
     "schema_version": 1,
     "solution": true
    }
   },
   "outputs": [],
   "source": [
    "\n",
    "### BEGIN SOLUTION\n",
    "\n",
    "X = moons_data\n",
    "\n",
    "#Wektor poprawnej klasyfikacji obiektów\n",
    "y = moons_targers\n",
    "y = np.array(y)\n",
    "\n",
    "\n",
    "#Dzielimy losowo zbiór na dwie części\n",
    "train, test, train_targets, test_targets = train_test_split(X, y,\n",
    "                                 test_size=0.30, random_state=1234)\n",
    "\n",
    "\n",
    "\n",
    "scaler = preprocessing.StandardScaler(with_std = True)\n",
    "scaler.fit(train)\n",
    "clf = svm.SVC(C=1,kernel='rbf', gamma =0.5)\n",
    "\n",
    "standard_train = scaler.transform(train)\n",
    "standard_test = scaler.transform(test)\n",
    "\n",
    "k = np.arange(20)+1\n",
    "tuned_parameters = {'n_neighbors': k}\n",
    "\n",
    "clf1 = GridSearchCV(KNeighborsClassifier(n_jobs=4), tuned_parameters, cv=5)\n",
    "clf1.fit(standard_train, train_targets)\n",
    "\n",
    "print(\"METODA kNN\")\n",
    "print(\"Zestaw najlepszych parametrów:\")\n",
    "print()\n",
    "print(clf1.best_params_)\n",
    "print()\n",
    "print (\"Błąd: \", clf1.best_score_)\n",
    "print()\n",
    "print(\"Wyniki\")\n",
    "print()\n",
    "means = clf1.cv_results_['mean_test_score']\n",
    "stds = clf1.cv_results_['std_test_score']\n",
    "for mean, std, params in zip(means, stds, clf1.cv_results_['params']):\n",
    "    print(\"%0.3f (+/-%0.03f) dla %r\"\n",
    "            % (mean, std * 2, params))\n",
    "print()\n",
    "\n",
    "tuned_parameters = [{'kernel': ['rbf'], 'gamma': [1e-2, 1e-3, 1e-4],\n",
    "                     'C': [1, 10, 100, 1000]},\n",
    "                    {'kernel': ['linear'], 'C': [1, 10, 100, 1000]}]\n",
    "clf2 = GridSearchCV(SVC(), tuned_parameters, cv=5)\n",
    "clf2.fit(standard_train, train_targets)\n",
    "\n",
    "print(\"METODA SVM\")\n",
    "print(\"Zestaw najlepszych parametrów:\")\n",
    "print()\n",
    "print(clf2.best_params_)\n",
    "\n",
    "means = clf2.cv_results_['mean_test_score']\n",
    "stds = clf2.cv_results_['std_test_score']\n",
    "amax = np.argmax(means)\n",
    "print (\"Błąd: \", clf2.best_score_)\n",
    "print()\n",
    "print(\"Wyniki\")\n",
    "print()\n",
    "\n",
    "for mean, std, params in zip(means, stds, clf2.cv_results_['params']):\n",
    "    print(\"%0.3f (+/-%0.03f) dla %r\"\n",
    "            % (mean, std * 2, params))\n",
    "print()\n",
    "\n",
    "### END SOLUTION\n"
   ]
  },
  {
   "cell_type": "code",
   "execution_count": null,
   "metadata": {},
   "outputs": [],
   "source": [
    "h = .02\n",
    "x_min, x_max = standard_train[:, 0].min()-1 , standard_train[:, 0].max() +1\n",
    "y_min, y_max = standard_train[:, 1].min()-1, standard_train[:, 1].max() +1\n",
    "xx, yy = np.meshgrid(np.arange(x_min, x_max, h),\n",
    "                         np.arange(y_min, y_max, h))\n",
    "Z = clf1.predict(np.c_[xx.ravel(), yy.ravel()])\n",
    "\n",
    "Z = Z.reshape(xx.shape)\n",
    "plt.imshow(Z,extent=[x_min,x_max,y_min,y_max],origin='lower',alpha=0.3)#,cmap='GnBu')\n",
    "plt.scatter(standard_train[:,0], standard_train[:,1],c=np.ravel(train_targets))\n"
   ]
  },
  {
   "cell_type": "code",
   "execution_count": null,
   "metadata": {},
   "outputs": [],
   "source": [
    "h = .02\n",
    "x_min, x_max = standard_train[:, 0].min()-1 , standard_train[:, 0].max() +1\n",
    "y_min, y_max = standard_train[:, 1].min()-1, standard_train[:, 1].max() +1\n",
    "xx, yy = np.meshgrid(np.arange(x_min, x_max, h),\n",
    "                         np.arange(y_min, y_max, h))\n",
    "Z = clf2.predict(np.c_[xx.ravel(), yy.ravel()])\n",
    "\n",
    "Z = Z.reshape(xx.shape)\n",
    "plt.imshow(Z,extent=[x_min,x_max,y_min,y_max],origin='lower',alpha=0.3)#,cmap='GnBu')\n",
    "plt.scatter(standard_train[:,0], standard_train[:,1],c=np.ravel(train_targets))\n"
   ]
  },
  {
   "cell_type": "markdown",
   "metadata": {
    "nbgrader": {
     "grade": false,
     "grade_id": "cell-35e2aa096aba601c",
     "locked": true,
     "schema_version": 1,
     "solution": false
    }
   },
   "source": [
    "## Zadanie 3"
   ]
  },
  {
   "cell_type": "markdown",
   "metadata": {
    "nbgrader": {
     "grade": false,
     "grade_id": "cell-8af2ee0a605a9757",
     "locked": true,
     "schema_version": 1,
     "solution": false
    }
   },
   "source": [
    "Wykonaj powyższą analizę dla danych o złośliwości raka piersi. Pobierz je z sklearn metodą `datasets.load_breast_cancer()`. Pomiń krok z rysowaniem wykresów."
   ]
  },
  {
   "cell_type": "code",
   "execution_count": null,
   "metadata": {
    "nbgrader": {
     "grade": true,
     "grade_id": "cell-9bbfa16c3b08124c",
     "locked": false,
     "points": 10,
     "schema_version": 1,
     "solution": true
    }
   },
   "outputs": [],
   "source": [
    "\n",
    "### BEGIN SOLUTION\n",
    "\n",
    "\n",
    "X = circles_data\n",
    "\n",
    "#Wektor poprawnej klasyfikacji obiektów\n",
    "y = circles_targers\n",
    "y = np.array(y)\n",
    "\n",
    "\n",
    "#Dzielimy losowo zbiór na dwie części\n",
    "train, test, train_targets, test_targets = train_test_split(X, y,\n",
    "                                 test_size=0.30, random_state=1234)\n",
    "\n",
    "\n",
    "\n",
    "scaler = preprocessing.StandardScaler(with_std = True)\n",
    "scaler.fit(train)\n",
    "\n",
    "standard_train = scaler.transform(train)\n",
    "standard_test = scaler.transform(test)\n",
    "\n",
    "k = np.arange(20)+1\n",
    "tuned_parameters = {'n_neighbors': k}\n",
    "\n",
    "clf1 = GridSearchCV(KNeighborsClassifier(n_jobs=4), tuned_parameters, cv=5)\n",
    "clf1.fit(standard_train, train_targets)\n",
    "\n",
    "print(\"METODA kNN\")\n",
    "print(\"Zestaw najlepszych parametrów:\")\n",
    "print()\n",
    "print(clf1.best_params_)\n",
    "print()\n",
    "print (\"Błąd: \", clf1.best_score_)\n",
    "print()\n",
    "print(\"Wyniki\")\n",
    "print()\n",
    "means = clf1.cv_results_['mean_test_score']\n",
    "stds = clf1.cv_results_['std_test_score']\n",
    "for mean, std, params in zip(means, stds, clf1.cv_results_['params']):\n",
    "    print(\"%0.3f (+/-%0.03f) dla %r\"\n",
    "            % (mean, std * 2, params))\n",
    "print()\n",
    "\n",
    "tuned_parameters = [{'kernel': ['rbf'], 'gamma': [1e-2, 1e-3, 1e-4],\n",
    "                     'C': [1, 10, 100, 1000]},\n",
    "                    {'kernel': ['linear'], 'C': [1, 10, 100, 1000]}]\n",
    "clf2 = GridSearchCV(SVC(), tuned_parameters, cv=5)\n",
    "clf2.fit(standard_train, train_targets)\n",
    "\n",
    "print(\"METODA SVM\")\n",
    "print(\"Zestaw najlepszych parametrów:\")\n",
    "print()\n",
    "print(clf2.best_params_)\n",
    "\n",
    "means = clf2.cv_results_['mean_test_score']\n",
    "stds = clf2.cv_results_['std_test_score']\n",
    "amax = np.argmax(means)\n",
    "print (\"Błąd: \", clf2.best_score_)\n",
    "print()\n",
    "print(\"Wyniki\")\n",
    "print()\n",
    "\n",
    "for mean, std, params in zip(means, stds, clf2.cv_results_['params']):\n",
    "    print(\"%0.3f (+/-%0.03f) dla %r\"\n",
    "            % (mean, std * 2, params))\n",
    "print()\n",
    "\n",
    "### END SOLUTION\n"
   ]
  },
  {
   "cell_type": "code",
   "execution_count": null,
   "metadata": {},
   "outputs": [],
   "source": []
  },
  {
   "cell_type": "code",
   "execution_count": null,
   "metadata": {},
   "outputs": [],
   "source": []
  },
  {
   "cell_type": "markdown",
   "metadata": {
    "nbgrader": {
     "grade": false,
     "grade_id": "cell-dfddc0908f2fa36a",
     "locked": true,
     "schema_version": 1,
     "solution": false
    }
   },
   "source": [
    "## Zadanie domowe\n",
    "\n",
    "Przeprowadź powyższą analizę dla danych MNIST."
   ]
  },
  {
   "cell_type": "code",
   "execution_count": null,
   "metadata": {
    "nbgrader": {
     "grade": true,
     "grade_id": "cell-4563b41f0b18f251",
     "locked": false,
     "points": 5,
     "schema_version": 1,
     "solution": true
    }
   },
   "outputs": [],
   "source": [
    "### BEGIN SOLUTION\n",
    "pass\n",
    "### END SOLUTION"
   ]
  }
 ],
 "metadata": {
  "celltoolbar": "Create Assignment",
  "kernelspec": {
   "display_name": "Python 3",
   "language": "python",
   "name": "python3"
  },
  "language_info": {
   "codemirror_mode": {
    "name": "ipython",
    "version": 3
   },
   "file_extension": ".py",
   "mimetype": "text/x-python",
   "name": "python",
   "nbconvert_exporter": "python",
   "pygments_lexer": "ipython3",
   "version": "3.6.7"
  }
 },
 "nbformat": 4,
 "nbformat_minor": 2
}
