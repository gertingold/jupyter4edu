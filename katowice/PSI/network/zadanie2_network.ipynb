{
 "cells": [
  {
   "cell_type": "code",
   "execution_count": 4,
   "metadata": {
    "nbgrader": {
     "grade": false,
     "grade_id": "cell-fa34f99ebe1bfecc",
     "locked": true,
     "schema_version": 1,
     "solution": false
    }
   },
   "outputs": [],
   "source": [
    "import numpy as np\n",
    "import matplotlib.pyplot as plt\n",
    "%run zadanie1_layer.ipynb"
   ]
  },
  {
   "cell_type": "markdown",
   "metadata": {
    "lang": "pl",
    "nbgrader": {
     "grade": false,
     "grade_id": "cell-5f6be4b21b7fbef1",
     "locked": true,
     "schema_version": 1,
     "solution": false
    }
   },
   "source": [
    "# Sieć neuronowa\n",
    "\n",
    "Warstwy neuronów można składać ze sobą jedna za drugą.\n",
    "\n",
    "Konstruktor klasy $Network$ przyjmuje ilość danych wejściowych.\n",
    "\n",
    "Funkcja $addLayer$ powinna stworzyć warstwę o określonej ilości neuronów i dodać ją do listy warstw.\n",
    "\n",
    "Funkcja $forward$ wylicza wynik sieci neuronowej. Warstwa pierwsza przyjmuje dane wejściowe i przekazuje swój wynik na wejście warstwy drugiej, warstwa druga do warstwy trzeciej, itd.\n",
    "\n",
    "Funkcja $backward$ propaguje gradient od wyjścia do wejścia. Zasada jest podobna co w $forward$ tylko, że w przeciwną stronę.\n",
    "\n",
    "Funkcja $learn$ po prostu wywołuje funkcje $learn$ dla każdej warstwy."
   ]
  },
  {
   "cell_type": "markdown",
   "metadata": {
    "lang": "en"
   },
   "source": [
    "# Neuron network\n",
    "\n",
    "Layers of neurons can be stacked together one after the other.\n",
    "\n",
    "The constructor of the $Network$ class accepts the amount of input data.\n",
    "\n",
    "The $addLayer$ function should create a layer with a certain number of neurons and add it to the list of layers.\n",
    "\n",
    "The $forward$ function calculates the result of a neural network. The first layer receives input and passes its result to the input of the second layer, the second layer to the third layer, etc.\n",
    "\n",
    "The $backward$ function propagates a gradient from output to input. The principle is similar to $forward$, but in the opposite direction.\n",
    "\n",
    "The $learn$ function simply calls the $learn$ function for each layer."
   ]
  },
  {
   "cell_type": "code",
   "execution_count": 9,
   "metadata": {
    "nbgrader": {
     "grade": false,
     "grade_id": "cell-d80556b95fd65500",
     "locked": false,
     "schema_version": 1,
     "solution": true
    }
   },
   "outputs": [],
   "source": [
    "class Network:\n",
    "    def __init__(self, inputs):\n",
    "        self.layers = []\n",
    "        self.numberOfInputs = inputs\n",
    "        self.numberOfLayers = 0\n",
    "        \n",
    "    def addLayer(self, neurons):\n",
    "        ### BEGIN SOLUTION\n",
    "        if self.numberOfLayers == 0:\n",
    "            self.layers.append(Layer(neurons, self.numberOfInputs))\n",
    "        else:\n",
    "            self.layers.append(Layer(neurons, self.layers[self.numberOfLayers - 1].numberOfNeurons))\n",
    "        self.numberOfLayers += 1\n",
    "        ### END SOLUTION\n",
    "        \n",
    "    def forward(self, inputVector):\n",
    "        ### BEGIN SOLUTION\n",
    "        tmp = inputVector\n",
    "        for i in range(self.numberOfLayers):\n",
    "            tmp = self.layers[i].forward(tmp)\n",
    "        return tmp\n",
    "        ### END SOLUTION\n",
    "    \n",
    "    def backward(self, gradient):\n",
    "        ### BEGIN SOLUTION\n",
    "        tmp = gradient\n",
    "        for i in range(self.numberOfLayers):\n",
    "            tmp = self.layers[self.numberOfLayers - 1 - i].backward(tmp)\n",
    "        return tmp\n",
    "        ### END SOLUTION\n",
    "            \n",
    "    def learn(self,learningRate):\n",
    "        ### BEGIN SOLUTION\n",
    "        for i in range(self.numberOfLayers):\n",
    "            self.layers[i].learn(learningRate)\n",
    "        ### END SOLUTION\n",
    "        "
   ]
  },
  {
   "cell_type": "code",
   "execution_count": 10,
   "metadata": {
    "nbgrader": {
     "grade": true,
     "grade_id": "cell-2c19aabd492433ec",
     "locked": true,
     "points": 8,
     "schema_version": 1,
     "solution": false
    }
   },
   "outputs": [],
   "source": [
    "net = Network(2)\n",
    "net.addLayer(10)\n",
    "net.addLayer(1)\n",
    "\n",
    "net.layers[0].weights = np.reshape(np.arange(-1, 1.0, 0.1), (10, 2))\n",
    "net.layers[0].bias = np.arange(-0.5, 0.5, 0.1)\n",
    "net.layers[1].weights = np.reshape(np.arange(-0.5, 0.5, 0.1), (1, 10))\n",
    "net.layers[1].bias = np.array([0.1])\n",
    "\n",
    "inp = np.array([0.123, 0.456])\n",
    "out = net.forward(inp)\n",
    "grad = net.backward(np.array([-0.321]))\n",
    "np.testing.assert_almost_equal(out, 0.5691, decimal=3)\n",
    "np.testing.assert_almost_equal(grad, np.array([-0.0282, -0.0274]), decimal=3)\n",
    "  "
   ]
  },
  {
   "cell_type": "code",
   "execution_count": null,
   "metadata": {},
   "outputs": [],
   "source": []
  }
 ],
 "metadata": {
  "celltoolbar": "Create Assignment",
  "kernelspec": {
   "display_name": "Python 2",
   "language": "python",
   "name": "python2"
  },
  "language_info": {
   "codemirror_mode": {
    "name": "ipython",
    "version": 2
   },
   "file_extension": ".py",
   "mimetype": "text/x-python",
   "name": "python",
   "nbconvert_exporter": "python",
   "pygments_lexer": "ipython2",
   "version": "2.7.15+"
  },
  "nbTranslate": {
   "displayLangs": [
    "*"
   ],
   "hotkey": "alt-t",
   "langInMainMenu": true,
   "sourceLang": "pl",
   "targetLang": "en",
   "useGoogleTranslate": true
  }
 },
 "nbformat": 4,
 "nbformat_minor": 2
}
