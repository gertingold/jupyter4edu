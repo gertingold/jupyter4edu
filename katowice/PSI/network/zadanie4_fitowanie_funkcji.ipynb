{
 "cells": [
  {
   "cell_type": "code",
   "execution_count": 1,
   "metadata": {
    "nbgrader": {
     "grade": false,
     "grade_id": "cell-fa34f99ebe1bfecc",
     "locked": true,
     "schema_version": 1,
     "solution": false
    }
   },
   "outputs": [],
   "source": [
    "import numpy as np\n",
    "import matplotlib.pyplot as plt\n",
    "%run zadanie2_network.ipynb"
   ]
  },
  {
   "cell_type": "markdown",
   "metadata": {
    "lang": "pl",
    "nbgrader": {
     "grade": false,
     "grade_id": "cell-1a65f1f441afe0e2",
     "locked": true,
     "schema_version": 1,
     "solution": false
    }
   },
   "source": [
    "## Fitowanie funkcji\n",
    "Sieci neuronowe służą do aproksymacji funkcji. Możemy więc spróbować nauczyć sieć wyliczać wartości dowolnej funkcji, w tym przykładzie jest to sinus."
   ]
  },
  {
   "cell_type": "markdown",
   "metadata": {
    "lang": "en"
   },
   "source": [
    "## Function fitting\n",
    "Neural networks are used to approximate functions. So we can try to teach the network to calculate the values of any function, in this example it is a sine."
   ]
  },
  {
   "cell_type": "code",
   "execution_count": 2,
   "metadata": {
    "nbgrader": {
     "grade": false,
     "grade_id": "cell-4b428a28a1221ba7",
     "locked": true,
     "schema_version": 1,
     "solution": false
    }
   },
   "outputs": [],
   "source": [
    "# Generowanie danych\n",
    "def genData(n, a, b):\n",
    "    result = np.zeros((n, 2)) #x_i=result[i][0], y_i=result[i][1]\n",
    "    points = np.arange(-10, 10, 20/n)\n",
    "    points = np.sort(points)\n",
    "    for i in range(0, n):\n",
    "        result[i][0] = points[i]\n",
    "        result[i][1] = 0.5 + 0.3 * np.sin(a * points[i] + b) + 0.01 * points[i]\n",
    "    return result\n",
    "\n",
    "data_sin = genData(100, 0.5, 3)\n"
   ]
  },
  {
   "cell_type": "code",
   "execution_count": 3,
   "metadata": {
    "nbgrader": {
     "grade": false,
     "grade_id": "cell-4b87c545cc3481ac",
     "locked": false,
     "schema_version": 1,
     "solution": true
    }
   },
   "outputs": [],
   "source": [
    "def network_sinus(network, data, learning_rate, steps):\n",
    "    x = data[:,0]\n",
    "    y = data[:,1]\n",
    "    ### BEGIN SOLUTION\n",
    "    for i in range(steps):\n",
    "        k = int(np.random.uniform(len(x)))\n",
    "        inp = np.zeros(1)\n",
    "        inp[0] = data[k][0]\n",
    "        out = network.forward(inp)\n",
    "        error = np.zeros(1)\n",
    "        error[0] = data[k][1] - out\n",
    "        network.backward(error)\n",
    "        network.learn(learning_rate)\n",
    "    ### END SOLUTION"
   ]
  },
  {
   "cell_type": "code",
   "execution_count": 4,
   "metadata": {
    "nbgrader": {
     "grade": false,
     "grade_id": "cell-b2754eb692d16b77",
     "locked": false,
     "schema_version": 1,
     "solution": true
    }
   },
   "outputs": [],
   "source": [
    "net_SIN = None\n",
    "### BEGIN SOLUTION\n",
    "net_SIN = Network(1)\n",
    "net_SIN.addLayer(50)\n",
    "net_SIN.addLayer(50)\n",
    "net_SIN.addLayer(1)\n",
    "network_sinus(net_SIN, data_sin, 0.1, 100000)\n",
    "### END SOLUTION"
   ]
  },
  {
   "cell_type": "code",
   "execution_count": 5,
   "metadata": {
    "nbgrader": {
     "grade": false,
     "grade_id": "cell-95916bc060887550",
     "locked": true,
     "schema_version": 1,
     "solution": false
    }
   },
   "outputs": [
    {
     "data": {
      "text/plain": [
       "<matplotlib.legend.Legend at 0x7f0d17c6c898>"
      ]
     },
     "execution_count": 5,
     "metadata": {},
     "output_type": "execute_result"
    },
    {
     "data": {
      "image/png": "[encoded data removed]",
      "text/plain": [
       "<matplotlib.figure.Figure at 0x7f0d17cf1f28>"
      ]
     },
     "metadata": {
      "needs_background": "light"
     },
     "output_type": "display_data"
    }
   ],
   "source": [
    "tmp = np.zeros((len(data_sin)))\n",
    "for i in range(len(data_sin)):\n",
    "    inp = np.zeros(1)\n",
    "    inp[0] = data_sin[i][0]\n",
    "    tmp[i] = net_SIN.forward(inp)\n",
    "                         \n",
    "plt.plot(data_sin[:,0], data_sin[:,1], 'o', label='data')\n",
    "plt.plot(data_sin[:,0], tmp, '-', label='neuron')\n",
    "plt.legend(loc='lower right', frameon=False)"
   ]
  },
  {
   "cell_type": "code",
   "execution_count": 6,
   "metadata": {
    "nbgrader": {
     "grade": true,
     "grade_id": "cell-9af4e297a8343e22",
     "locked": true,
     "points": 4,
     "schema_version": 1,
     "solution": false
    }
   },
   "outputs": [
    {
     "name": "stdout",
     "output_type": "stream",
     "text": [
      "0.00012446981519636494\n"
     ]
    }
   ],
   "source": [
    "error = 0.0\n",
    "for i in range(data_sin.shape[0]):\n",
    "    out = net_SIN.forward(np.array([data_sin[i][0]]))\n",
    "    error += (out[0] - data_sin[i][1])**2\n",
    "error /= data_sin.shape[0]\n",
    "print(error)\n",
    "np.testing.assert_equal(error < 0.005, True)"
   ]
  },
  {
   "cell_type": "code",
   "execution_count": null,
   "metadata": {},
   "outputs": [],
   "source": []
  }
 ],
 "metadata": {
  "celltoolbar": "Create Assignment",
  "kernelspec": {
   "display_name": "Python 2",
   "language": "python",
   "name": "python2"
  },
  "language_info": {
   "codemirror_mode": {
    "name": "ipython",
    "version": 2
   },
   "file_extension": ".py",
   "mimetype": "text/x-python",
   "name": "python",
   "nbconvert_exporter": "python",
   "pygments_lexer": "ipython2",
   "version": "2.7.15+"
  },
  "nbTranslate": {
   "displayLangs": [
    "*"
   ],
   "hotkey": "alt-t",
   "langInMainMenu": true,
   "sourceLang": "pl",
   "targetLang": "en",
   "useGoogleTranslate": true
  }
 },
 "nbformat": 4,
 "nbformat_minor": 2
}
