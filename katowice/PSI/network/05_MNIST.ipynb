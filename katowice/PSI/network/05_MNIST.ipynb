{
 "cells": [
  {
   "cell_type": "markdown",
   "metadata": {
    "lang": "pl",
    "nbgrader": {
     "grade": false,
     "grade_id": "cell-4066b54bb332ef2c",
     "locked": true,
     "schema_version": 3,
     "solution": false
    }
   },
   "source": [
    "# MNIST \n",
    "\n",
    "MNIST jest dużym zbiorem ręcznie pisanych cyfr.\n",
    "\n",
    "https://en.wikipedia.org/wiki/MNIST_database"
   ]
  },
  {
   "cell_type": "markdown",
   "metadata": {
    "lang": "en"
   },
   "source": [
    "# MNIST\n",
    "\n",
    "MNIST is a large dataset of handwritten digits.\n",
    "\n",
    "https://en.wikipedia.org/wiki/MNIST_database"
   ]
  },
  {
   "cell_type": "code",
   "execution_count": null,
   "metadata": {
    "nbgrader": {
     "grade": false,
     "grade_id": "cell-fa34f99ebe1bfecc",
     "locked": true,
     "schema_version": 3,
     "solution": false
    }
   },
   "outputs": [],
   "source": [
    "import numpy as np\n",
    "import matplotlib.pyplot as plt\n",
    "%run 02_network.ipynb"
   ]
  },
  {
   "cell_type": "code",
   "execution_count": null,
   "metadata": {
    "nbgrader": {
     "grade": false,
     "grade_id": "cell-e23883d84ad7e002",
     "locked": true,
     "schema_version": 3,
     "solution": false
    }
   },
   "outputs": [],
   "source": [
    "from __future__ import print_function\n",
    "from sklearn.model_selection import train_test_split\n",
    "from sklearn.datasets import fetch_openml\n",
    "\n",
    "import os\n",
    "\n",
    "%time X, y = fetch_openml('mnist_784', version=1, return_X_y=True, cache=False)\n",
    "\n",
    "(train, test, train_labels, test_labels) = \\\n",
    "    train_test_split(X, y, test_size=1/7., random_state=42)\n"
   ]
  },
  {
   "cell_type": "code",
   "execution_count": null,
   "metadata": {},
   "outputs": [],
   "source": [
    "ith = 12\n",
    "plt.imshow(train[ith].reshape(28, 28))"
   ]
  },
  {
   "cell_type": "markdown",
   "metadata": {
    "lang": "pl",
    "nbgrader": {
     "grade": false,
     "grade_id": "cell-f0768063b4710559",
     "locked": true,
     "schema_version": 3,
     "solution": false
    }
   },
   "source": [
    "## Napisz funkcję, która uczy sieć na zbiorze MNIST przy okazji licząc ilość poprawnych klasyfikacji"
   ]
  },
  {
   "cell_type": "markdown",
   "metadata": {
    "lang": "en"
   },
   "source": [
    "## Write a function that teaches the network on the MNIST set and count the number of correct classifications"
   ]
  },
  {
   "cell_type": "code",
   "execution_count": null,
   "metadata": {
    "nbgrader": {
     "grade": false,
     "grade_id": "cell-c8068bb8e23c37a9",
     "locked": false,
     "schema_version": 3,
     "solution": true
    }
   },
   "outputs": [],
   "source": [
    "def network_mnist(network, x_train, y_train, learning_rate, steps):\n",
    "    correct_answers = 0\n",
    "    ### BEGIN SOLUTION\n",
    "    for i in range(steps):\n",
    "        k = int(np.random.uniform(x_train.shape[0]))\n",
    "        inp = x_train[k] / 255.0\n",
    "        out = network.forward(inp)\n",
    "        answer = np.zeros(10)\n",
    "        answer[int(y_train[k])] = 1.0\n",
    "        network.backward(answer - out)\n",
    "        network.learn(learning_rate)\n",
    "        \n",
    "        if np.argmax(out) == int(y_train[k]):\n",
    "            correct_answers += 1\n",
    "    ### END SOLUTION\n",
    "    return correct_answers / float(steps)"
   ]
  },
  {
   "cell_type": "code",
   "execution_count": null,
   "metadata": {},
   "outputs": [],
   "source": [
    "net_mnist = Network(784)\n",
    "net_mnist.addLayer(10)"
   ]
  },
  {
   "cell_type": "markdown",
   "metadata": {
    "lang": "pl"
   },
   "source": [
    "- spróbuj dodać więcej warstw, żeby uzyskać lepsze wyniki"
   ]
  },
  {
   "cell_type": "markdown",
   "metadata": {
    "lang": "en"
   },
   "source": [
    "- try adding more layers for better results"
   ]
  },
  {
   "cell_type": "code",
   "execution_count": null,
   "metadata": {},
   "outputs": [],
   "source": [
    "for i in range(10):\n",
    "    acc = network_mnist(net_mnist, train, train_labels, 0.1, 4000)\n",
    "    print('accuracy = ', acc)"
   ]
  },
  {
   "cell_type": "code",
   "execution_count": null,
   "metadata": {},
   "outputs": [],
   "source": [
    "ith = 1234\n",
    "out = net_mnist.forward(train[ith])\n",
    "print(np.array(100 * out, dtype=np.int32))\n",
    "print('Network prediction', np.argmax(out))\n",
    "\n",
    "plt.imshow(train[ith].reshape(28, 28))\n",
    "print('Correct digit', int(train_labels[ith]))\n"
   ]
  },
  {
   "cell_type": "code",
   "execution_count": null,
   "metadata": {},
   "outputs": [],
   "source": []
  }
 ],
 "metadata": {
  "celltoolbar": "Create Assignment",
  "kernelspec": {
   "display_name": "Python 3",
   "language": "python",
   "name": "python3"
  },
  "language_info": {
   "codemirror_mode": {
    "name": "ipython",
    "version": 3
   },
   "file_extension": ".py",
   "mimetype": "text/x-python",
   "name": "python",
   "nbconvert_exporter": "python",
   "pygments_lexer": "ipython3",
   "version": "3.7.3"
  },
  "nbTranslate": {
   "displayLangs": [
    "*"
   ],
   "hotkey": "alt-t",
   "langInMainMenu": true,
   "sourceLang": "pl",
   "targetLang": "en",
   "useGoogleTranslate": true
  }
 },
 "nbformat": 4,
 "nbformat_minor": 2
}
