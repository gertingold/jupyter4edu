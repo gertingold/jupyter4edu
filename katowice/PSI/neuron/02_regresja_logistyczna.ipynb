{
 "cells": [
  {
   "cell_type": "markdown",
   "metadata": {
    "lang": "pl",
    "nbgrader": {
     "grade": false,
     "grade_id": "cell-5eabff64155fb423",
     "locked": true,
     "schema_version": 3,
     "solution": false,
     "task": false
    }
   },
   "source": [
    "# Regresja logistyczna"
   ]
  },
  {
   "cell_type": "markdown",
   "metadata": {
    "lang": "en",
    "nbgrader": {
     "grade": false,
     "grade_id": "cell-5310899e742fbffc",
     "locked": true,
     "schema_version": 3,
     "solution": false,
     "task": false
    }
   },
   "source": [
    "# Logistic regression"
   ]
  },
  {
   "cell_type": "code",
   "execution_count": null,
   "metadata": {
    "nbgrader": {
     "grade": false,
     "grade_id": "cell-c0ccb98cada720e5",
     "locked": true,
     "schema_version": 3,
     "solution": false
    }
   },
   "outputs": [],
   "source": [
    "import numpy as np\n",
    "import matplotlib.pyplot as plt\n",
    "%run 01_neuron.ipynb"
   ]
  },
  {
   "cell_type": "code",
   "execution_count": null,
   "metadata": {
    "nbgrader": {
     "grade": false,
     "grade_id": "cell-a951b76a2696dbae",
     "locked": true,
     "schema_version": 3,
     "solution": false
    }
   },
   "outputs": [],
   "source": [
    "# Generowanie danych do regresji logistycznej\n",
    "def genData(n, a, b, useNoise):\n",
    "    result = np.zeros((n, 2)) #x_i=result[i][0], y_i=result[i][1]\n",
    "    points = np.random.uniform(-10, 10, n)\n",
    "    points = np.sort(points)\n",
    "    for i in range(0, n):\n",
    "        result[i][0] = points[i]\n",
    "        result[i][1] = a * points[i] + b\n",
    "        if useNoise == True:\n",
    "            result[i][1] += 0.1 * np.random.normal()\n",
    "        result[i][1]= 1.0 / (1.0 + np.exp(-result[i][1]))\n",
    "    return result\n",
    "\n",
    "data_reglog = genData(100, 1.5, 3, False)"
   ]
  },
  {
   "cell_type": "markdown",
   "metadata": {
    "lang": "pl",
    "nbgrader": {
     "grade": false,
     "grade_id": "cell-e34712691ae1e277",
     "locked": true,
     "schema_version": 3,
     "solution": false
    }
   },
   "source": [
    "## Regresja\n",
    "\n",
    "Możemy przetestować taki zaprogramowany neuron na przykładzie regresji logistycznej. Chcemy dopasować neuronem następującą funkcję\n",
    "\n",
    "$$ g(x)=sigm(ax+b)$$\n",
    "\n",
    "Tym razem uczenie polega na wybraniu losowo przykładu ze zbioru danych, wywołaniu dla niego funkcji $forward$.\n",
    "Później należy wyliczyć błąd poprzez porównanie wyniku z poprawną odpowiedzią (wziętą ze zbioru danych).\n",
    "Następnie ten błąd podajemy jako argument funkcji $backward$.\n",
    "Na koniec wywołujemy funkcję $learn$.\n",
    "Te kroki powtarzamy aż do nauczenia się neuronu."
   ]
  },
  {
   "cell_type": "markdown",
   "metadata": {
    "lang": "en"
   },
   "source": [
    "## Regression\n",
    "\n",
    "We can test such a programmed neuron on the example of logistic regression. We want to match the following function with a neuron\n",
    "\n",
    "$$ g(x)=sigm(ax+b)$$\n",
    "\n",
    "This time learning consists in randomly selecting an example from the data set, calling $forward$ for it.\n",
    "Then calculate the error by comparing the result with the correct answer (taken from the data set).\n",
    "Then we pass this error as an argument to the $backward$ function.\n",
    "Finally, we call the $learn$ function.\n",
    "We repeat these steps until we learn the neuron."
   ]
  },
  {
   "cell_type": "code",
   "execution_count": null,
   "metadata": {
    "nbgrader": {
     "grade": false,
     "grade_id": "cell-d05552fa42821a98",
     "locked": false,
     "schema_version": 3,
     "solution": true
    }
   },
   "outputs": [],
   "source": [
    "def Neuron_reglog(neuron, data, learning_rate, steps):\n",
    "    x = data[:,0]\n",
    "    y = data[:,1]\n",
    "    ### BEGIN SOLUTION\n",
    "    for i in range(steps):\n",
    "        k = int(np.random.uniform(len(x)))\n",
    "        out = neuron.forward(np.array((data[k][0])))\n",
    "        error = data[k][1] - out\n",
    "        neuron.backward(error)\n",
    "        neuron.learn(learning_rate)\n",
    "    ### END SOLUTION\n"
   ]
  },
  {
   "cell_type": "code",
   "execution_count": null,
   "metadata": {},
   "outputs": [],
   "source": [
    "neuron=Neuron(1)\n",
    "Neuron_reglog(neuron, data_reglog, 0.1, 100000)\n",
    "print(str(neuron.weights[0])+' '+str(neuron.bias))"
   ]
  },
  {
   "cell_type": "code",
   "execution_count": null,
   "metadata": {
    "nbgrader": {
     "grade": false,
     "grade_id": "cell-c634fac520657a5b",
     "locked": true,
     "schema_version": 3,
     "solution": false
    }
   },
   "outputs": [],
   "source": [
    "tmp=np.zeros((len(data_reglog)))\n",
    "for i in range(len(data_reglog)):\n",
    "    tmp[i]=neuron.forward(np.array((data_reglog[i][0])))\n",
    "                         \n",
    "plt.plot(data_reglog[:,0],data_reglog[:,1], 'o', label='data')\n",
    "plt.plot(data_reglog[:,0],tmp, '-', label='neuron')\n",
    "plt.legend(loc='lower right',frameon=False)"
   ]
  },
  {
   "cell_type": "code",
   "execution_count": null,
   "metadata": {
    "nbgrader": {
     "grade": true,
     "grade_id": "cell-e6154f05f3c79f9f",
     "locked": true,
     "points": 4,
     "schema_version": 3,
     "solution": false
    }
   },
   "outputs": [],
   "source": [
    "tmp_n = Neuron(1)\n",
    "Neuron_reglog(tmp_n, data_reglog, 0.1, 100000)\n",
    "np.testing.assert_equal(int(round(10 * neuron.weights[0])), 15)\n",
    "np.testing.assert_equal(int(round(10 * neuron.bias)), 30)\n"
   ]
  },
  {
   "cell_type": "code",
   "execution_count": null,
   "metadata": {},
   "outputs": [],
   "source": []
  }
 ],
 "metadata": {
  "celltoolbar": "Create Assignment",
  "kernelspec": {
   "display_name": "Python 3",
   "language": "python",
   "name": "python3"
  },
  "language_info": {
   "codemirror_mode": {
    "name": "ipython",
    "version": 3
   },
   "file_extension": ".py",
   "mimetype": "text/x-python",
   "name": "python",
   "nbconvert_exporter": "python",
   "pygments_lexer": "ipython3",
   "version": "3.7.3"
  },
  "nbTranslate": {
   "displayLangs": [
    "*"
   ],
   "hotkey": "alt-t",
   "langInMainMenu": true,
   "sourceLang": "pl",
   "targetLang": "en",
   "useGoogleTranslate": true
  }
 },
 "nbformat": 4,
 "nbformat_minor": 2
}
