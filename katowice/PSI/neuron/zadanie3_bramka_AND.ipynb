{
 "cells": [
  {
   "cell_type": "code",
   "execution_count": 7,
   "metadata": {
    "nbgrader": {
     "grade": false,
     "grade_id": "cell-c0ccb98cada720e5",
     "locked": true,
     "schema_version": 1,
     "solution": false
    }
   },
   "outputs": [],
   "source": [
    "import numpy as np\n",
    "import matplotlib.pyplot as plt\n",
    "%run zadanie1_neuron.ipynb"
   ]
  },
  {
   "cell_type": "markdown",
   "metadata": {
    "lang": "pl",
    "nbgrader": {
     "grade": false,
     "grade_id": "cell-f4efdda1e0a27ebb",
     "locked": true,
     "schema_version": 1,
     "solution": false
    }
   },
   "source": [
    "## Bramka AND\n",
    "\n",
    "W tym zadaniu należy nauczyć neuron wyliczać bramkę logiczną AND. "
   ]
  },
  {
   "cell_type": "markdown",
   "metadata": {
    "lang": "en"
   },
   "source": [
    "## AND gate\n",
    "\n",
    "In this task, teach the neuron to calculate the AND logic gate."
   ]
  },
  {
   "cell_type": "code",
   "execution_count": 2,
   "metadata": {
    "nbgrader": {
     "grade": false,
     "grade_id": "cell-3b3da420808de230",
     "locked": false,
     "schema_version": 1,
     "solution": true
    }
   },
   "outputs": [],
   "source": [
    "def Neuron_AND(neuron, learning_rate, steps):\n",
    "    ### BEGIN SOLUTION\n",
    "    for i in range(steps):\n",
    "        in0 = int(np.random.uniform(0, 2))\n",
    "        in1 = int(np.random.uniform(0, 2))\n",
    "        out = neuron.forward(np.array((in0, in1)))\n",
    "        error = (in0 * in1) - out # AND\n",
    "        #error=(in0 + in1 - in0 * in1) - out #OR\n",
    "        #error=(in0 + in1)%2 - out #XOR\n",
    "        neuron.backward(error)\n",
    "        neuron.learn(learning_rate)\n",
    "    ### END SOLUTION\n",
    "   "
   ]
  },
  {
   "cell_type": "code",
   "execution_count": 3,
   "metadata": {},
   "outputs": [
    {
     "name": "stdout",
     "output_type": "stream",
     "text": [
      "weights : [6.52344229 6.5194945 ]\n",
      "bias : -9.868621521476273\n",
      "5.177136844753596e-05\n",
      "0.034053381549809754\n",
      "0.03398851240094732\n",
      "0.9598561918791215\n"
     ]
    }
   ],
   "source": [
    "neuron_AND = Neuron(2)\n",
    "Neuron_AND(neuron_AND, 0.1, 100000)\n",
    "\n",
    "print('weights :', neuron_AND.weights)\n",
    "print('bias :', neuron_AND.bias)\n",
    "print(neuron_AND.forward(np.array((0 ,0))))\n",
    "print(neuron_AND.forward(np.array((1, 0))))\n",
    "print(neuron_AND.forward(np.array((0.5, 0.5))))\n",
    "print(neuron_AND.forward(np.array((1, 1))))"
   ]
  },
  {
   "cell_type": "markdown",
   "metadata": {
    "lang": "pl",
    "nbgrader": {
     "grade": false,
     "grade_id": "cell-16f3a466112ad5ab",
     "locked": true,
     "schema_version": 1,
     "solution": false
    }
   },
   "source": [
    "### Poniżej możemy zwizualizować obszary decyzyjne dla tak nauczonego neuronu."
   ]
  },
  {
   "cell_type": "markdown",
   "metadata": {
    "lang": "en"
   },
   "source": [
    "### Below we can visualize the decision areas for such a learned neuron."
   ]
  },
  {
   "cell_type": "code",
   "execution_count": 4,
   "metadata": {},
   "outputs": [
    {
     "data": {
      "image/png": "[encoded data removed]",
      "text/plain": [
       "<matplotlib.figure.Figure at 0x7f0c8cb301d0>"
      ]
     },
     "metadata": {
      "needs_background": "light"
     },
     "output_type": "display_data"
    }
   ],
   "source": [
    "size = 100\n",
    "tmp = np.zeros((size,size))\n",
    "for i in range(size):\n",
    "    for j in range(size):\n",
    "        tmp[i][j] = neuron_AND.forward(np.array((1-i / float(size), j / float(size))))\n",
    "plt.imshow(tmp,extent=[0, 1, 0, 1])\n",
    "plt.colorbar()\n",
    "plt.show()"
   ]
  },
  {
   "cell_type": "code",
   "execution_count": 5,
   "metadata": {
    "nbgrader": {
     "grade": true,
     "grade_id": "cell-5d6165d4ddf58a01",
     "locked": true,
     "points": 4,
     "schema_version": 1,
     "solution": false
    }
   },
   "outputs": [],
   "source": [
    "np.testing.assert_equal(neuron_AND.forward(np.array((0, 0))) < 0.05, True)\n",
    "np.testing.assert_equal(neuron_AND.forward(np.array((1, 0))) < 0.05, True)\n",
    "np.testing.assert_equal(neuron_AND.forward(np.array((0.5, 0.5))) < 0.05, True)\n",
    "np.testing.assert_equal(neuron_AND.forward(np.array((1, 1))) > 0.95, True)"
   ]
  },
  {
   "cell_type": "code",
   "execution_count": null,
   "metadata": {},
   "outputs": [],
   "source": []
  }
 ],
 "metadata": {
  "celltoolbar": "Create Assignment",
  "kernelspec": {
   "display_name": "Python 2",
   "language": "python",
   "name": "python2"
  },
  "language_info": {
   "codemirror_mode": {
    "name": "ipython",
    "version": 2
   },
   "file_extension": ".py",
   "mimetype": "text/x-python",
   "name": "python",
   "nbconvert_exporter": "python",
   "pygments_lexer": "ipython2",
   "version": "2.7.15+"
  },
  "nbTranslate": {
   "displayLangs": [
    "*"
   ],
   "hotkey": "alt-t",
   "langInMainMenu": true,
   "sourceLang": "pl",
   "targetLang": "en",
   "useGoogleTranslate": true
  }
 },
 "nbformat": 4,
 "nbformat_minor": 2
}
