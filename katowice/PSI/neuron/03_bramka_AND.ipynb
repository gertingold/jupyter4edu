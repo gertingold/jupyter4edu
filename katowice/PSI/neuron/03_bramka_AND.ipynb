{
 "cells": [
  {
   "cell_type": "markdown",
   "metadata": {
    "lang": "pl",
    "nbgrader": {
     "grade": false,
     "grade_id": "cell-f4efdda1e0a27ebb",
     "locked": true,
     "schema_version": 3,
     "solution": false
    }
   },
   "source": [
    "# Bramka AND\n",
    "\n",
    "W tym zadaniu należy nauczyć neuron wyliczać bramkę logiczną AND. "
   ]
  },
  {
   "cell_type": "markdown",
   "metadata": {
    "lang": "en"
   },
   "source": [
    "# AND gate\n",
    "\n",
    "In this task, teach the neuron to calculate the AND logic gate."
   ]
  },
  {
   "cell_type": "code",
   "execution_count": null,
   "metadata": {
    "nbgrader": {
     "grade": false,
     "grade_id": "cell-c0ccb98cada720e5",
     "locked": true,
     "schema_version": 3,
     "solution": false
    }
   },
   "outputs": [],
   "source": [
    "import numpy as np\n",
    "import matplotlib.pyplot as plt\n",
    "%run 01_neuron.ipynb"
   ]
  },
  {
   "cell_type": "code",
   "execution_count": null,
   "metadata": {
    "nbgrader": {
     "grade": false,
     "grade_id": "cell-3b3da420808de230",
     "locked": false,
     "schema_version": 3,
     "solution": true
    }
   },
   "outputs": [],
   "source": [
    "def Neuron_AND(neuron, learning_rate, steps):\n",
    "    ### BEGIN SOLUTION\n",
    "    for i in range(steps):\n",
    "        in0 = int(np.random.uniform(0, 2))\n",
    "        in1 = int(np.random.uniform(0, 2))\n",
    "        out = neuron.forward(np.array((in0, in1)))\n",
    "        error = (in0 * in1) - out # AND\n",
    "        #error=(in0 + in1 - in0 * in1) - out #OR\n",
    "        #error=(in0 + in1)%2 - out #XOR\n",
    "        neuron.backward(error)\n",
    "        neuron.learn(learning_rate)\n",
    "    ### END SOLUTION\n",
    "   "
   ]
  },
  {
   "cell_type": "code",
   "execution_count": null,
   "metadata": {},
   "outputs": [],
   "source": [
    "neuron_AND = Neuron(2)\n",
    "Neuron_AND(neuron_AND, 0.1, 100000)\n",
    "\n",
    "print('weights :', neuron_AND.weights)\n",
    "print('bias :', neuron_AND.bias)\n",
    "print(neuron_AND.forward(np.array((0 ,0))))\n",
    "print(neuron_AND.forward(np.array((1, 0))))\n",
    "print(neuron_AND.forward(np.array((0.5, 0.5))))\n",
    "print(neuron_AND.forward(np.array((1, 1))))"
   ]
  },
  {
   "cell_type": "markdown",
   "metadata": {
    "lang": "pl",
    "nbgrader": {
     "grade": false,
     "grade_id": "cell-16f3a466112ad5ab",
     "locked": true,
     "schema_version": 3,
     "solution": false
    }
   },
   "source": [
    "### Poniżej możemy zwizualizować obszary decyzyjne dla tak nauczonego neuronu."
   ]
  },
  {
   "cell_type": "markdown",
   "metadata": {
    "lang": "en"
   },
   "source": [
    "### Below we can visualize the decision areas for such a learned neuron."
   ]
  },
  {
   "cell_type": "code",
   "execution_count": null,
   "metadata": {},
   "outputs": [],
   "source": [
    "size = 100\n",
    "tmp = np.zeros((size,size))\n",
    "for i in range(size):\n",
    "    for j in range(size):\n",
    "        tmp[i][j] = neuron_AND.forward(np.array((1-i / float(size), j / float(size))))\n",
    "plt.imshow(tmp,extent=[0, 1, 0, 1])\n",
    "plt.colorbar()\n",
    "plt.show()"
   ]
  },
  {
   "cell_type": "code",
   "execution_count": null,
   "metadata": {
    "nbgrader": {
     "grade": true,
     "grade_id": "cell-5d6165d4ddf58a01",
     "locked": true,
     "points": 4,
     "schema_version": 3,
     "solution": false
    }
   },
   "outputs": [],
   "source": [
    "np.testing.assert_equal(neuron_AND.forward(np.array((0, 0))) < 0.05, True)\n",
    "np.testing.assert_equal(neuron_AND.forward(np.array((1, 0))) < 0.05, True)\n",
    "np.testing.assert_equal(neuron_AND.forward(np.array((0.5, 0.5))) < 0.05, True)\n",
    "np.testing.assert_equal(neuron_AND.forward(np.array((1, 1))) > 0.95, True)"
   ]
  },
  {
   "cell_type": "code",
   "execution_count": null,
   "metadata": {},
   "outputs": [],
   "source": []
  }
 ],
 "metadata": {
  "celltoolbar": "Create Assignment",
  "kernelspec": {
   "display_name": "Python 3",
   "language": "python",
   "name": "python3"
  },
  "language_info": {
   "codemirror_mode": {
    "name": "ipython",
    "version": 3
   },
   "file_extension": ".py",
   "mimetype": "text/x-python",
   "name": "python",
   "nbconvert_exporter": "python",
   "pygments_lexer": "ipython3",
   "version": "3.7.3"
  },
  "nbTranslate": {
   "displayLangs": [
    "*"
   ],
   "hotkey": "alt-t",
   "langInMainMenu": true,
   "sourceLang": "pl",
   "targetLang": "en",
   "useGoogleTranslate": true
  }
 },
 "nbformat": 4,
 "nbformat_minor": 2
}
