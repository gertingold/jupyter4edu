{
 "cells": [
  {
   "cell_type": "code",
   "execution_count": null,
   "metadata": {
    "colab": {},
    "colab_type": "code",
    "id": "l9TTl_qFBg42"
   },
   "outputs": [],
   "source": [
    "#!pip install --user graphviz \n",
    "#!apt-get install graphviz"
   ]
  },
  {
   "cell_type": "markdown",
   "metadata": {
    "colab_type": "text",
    "id": "xc7CY5WNJzhF"
   },
   "source": [
    "# Drzewa klasyfikacyjne (metoda rekurencyjnego podziału)\n",
    "\n",
    "Metoda ta polega na sekwencyjnym (rekurencyjnym) podziale przestrzeni danych na podprzestrzenie (hiperkostki,segmenty), aż zmienna zależnao siągnie w każdej podprzestrzeni minimalny poziom zróżnicowania."
   ]
  },
  {
   "cell_type": "markdown",
   "metadata": {
    "colab_type": "text",
    "id": "D46x7ndWE2KW"
   },
   "source": [
    "\n",
    "## Wady i zalety drzewa decyzyjnego\n",
    "**Zalety:**\n",
    "\n",
    "1. *niezparametryczność* – przy budowaniu modelu nie zakłada się postaci rozkładów zmiennych ani relacji między nimi\n",
    "2. *adaptacyjność* – automatyczny proces doboru zmiennych do modelu, możliwość uwzględnieniem zarówno zmiennych jakościowych i ilościowych,\n",
    "3. *odporność na braki danych oraz występowanie wartości\n",
    "nietypowych* \n",
    "4. *łatwa interpretowalność* -  możliwość graficznego przedstawienia modelu w postaci drzewa, możliwość zapisania reguł klasyfikujących\n",
    "\n",
    "**Główna wada:**\n",
    "\n",
    "1. *niestabilność modelu* -  oznacza, że postać modelu silnie zależy od dostępnego zbioru uczącego, budowanie drzew na różnych podzbiorach trenujących daje bardzo różniące się modele"
   ]
  },
  {
   "cell_type": "markdown",
   "metadata": {
    "colab_type": "text",
    "id": "S8dV5z4h4DdE"
   },
   "source": [
    "## Algorytm tworzenia drzewa klasyfikującego\n",
    "\n",
    "**Kroki algorytmu**\n",
    "\n",
    "Mając treningory zbiór obiektów $S$, sprawdź, czy należą one do tej samej klasy. Jeżli\n",
    "tak, to zakończ pracę.\n",
    "2. W przeciwnym przypadku rozważ wszystkie możliwe podziały zbioru S na\n",
    "podzbiory $S_1$, $S_2$, ..., $S_m$ tak, aby były one jak najbardziej jednorodne.\n",
    "3. Dokonaj oceny jakości każdego z tych podziałów zgodnie z przyjętym kryterium\n",
    "i wybierz najlepszy z nich.\n",
    "4. Podziel zbiór $S$ w wybrany sposób.\n",
    "5. Wykonaj kroki 1-4 rekurencyjnie dla każdego z podzbiorów\n",
    "\n",
    "W domyślnej wersji algorytmu każdorazowo poszukiwany jest najlepszy podział pod względem zmiennej jak i sposobu podziału przestrzeni względem niej. To domyślne działanie można jednak zmienić, o czym powiemy za chwilę. \n",
    "\n",
    "\n",
    "## Kryterium podziału \n",
    "Domyślnie kryterium podziały jest minimalizacja zróżnicowania (heterogeniczności) elementów w każdym z podziałów. W powyższym przykładzie wykorzystywany jest wskaźnik Giniego.\n",
    "\n",
    "\n",
    "W pierwszej kolejności dla każdej z $K$ klas ($k \\in K$) dla każdego z $M$ podobszarów ($m \\in M$) wyznaczana jest średnia ilość elementów danej klasy w tym obszarze:\n",
    "\n",
    "$$p_{km} = \\frac{1}{N_s}\\sum_{x_i \\in S_m}I(y_i=k)$$\n",
    "\n",
    "$N_s$ to ilość elementów w danym obszarze.\n",
    "\n",
    "Współczynnik Giniego definiujemy jako:\n",
    "$$H(m) = \\sum_k p_{km}(1-p_{km})$$\n",
    "\n",
    "Gdy w danym obszerze występują tylko reprezentanci jednej klasy $p_{km}=1$ dla tej wybranej klasy. Dla pozostałych klas współczynnik ten wynosi 0. Wówczas $H=0$ dla takiego obszaru.\n"
   ]
  },
  {
   "cell_type": "markdown",
   "metadata": {},
   "source": [
    "### Klasyfikacja z wykorzystaniem metody rekurencyjnego podziału dla danych $iris$"
   ]
  },
  {
   "cell_type": "markdown",
   "metadata": {
    "colab_type": "text",
    "id": "xqxmdWvxImFk"
   },
   "source": [
    "W pierwszym kroku importujemy przydatne biblioteki. Drzewa klasyfikacyjne zostały zaimplementowane w bibliotece $sklearn$."
   ]
  },
  {
   "cell_type": "code",
   "execution_count": null,
   "metadata": {
    "colab": {},
    "colab_type": "code",
    "id": "yMfyp-i0J1Df"
   },
   "outputs": [],
   "source": [
    "from sklearn.tree import DecisionTreeClassifier, export_graphviz\n",
    "#from sklearn import tree\n",
    "from sklearn.datasets import load_iris, load_breast_cancer\n",
    "from sklearn.model_selection import train_test_split"
   ]
  },
  {
   "cell_type": "markdown",
   "metadata": {},
   "source": [
    "Biblioteka $graphviz$ będzie przydatna do wizualizacji otrzymanych drzew."
   ]
  },
  {
   "cell_type": "code",
   "execution_count": null,
   "metadata": {
    "colab": {},
    "colab_type": "code",
    "id": "0eX8P1l3jtiP"
   },
   "outputs": [],
   "source": [
    "import graphviz \n",
    "import numpy as np\n",
    "import matplotlib.pyplot as plt\n"
   ]
  },
  {
   "cell_type": "markdown",
   "metadata": {
    "colab_type": "text",
    "id": "V4b3h5n59cUQ"
   },
   "source": [
    "#### Zestaw danych IRIS"
   ]
  },
  {
   "cell_type": "markdown",
   "metadata": {
    "colab_type": "text",
    "id": "Uby3ev8F_-pm"
   },
   "source": [
    "Informacje o kwiatech o polskiej nazwie **kosaciec**  dostępne w zestawie *Iris* zostały zebrane przez  biologa Ronalda Fishera w roku 1936. Wykorzystał on je w pracy  *The use of multiple measurements in taxonomic problems*.\n",
    "\n",
    "#### Iris Setosa\n",
    "![alt text](https://i.ebayimg.com/images/g/xEgAAOSwoBtW6BoO/s-l1600.jpg)\n",
    "#### Iris Virginica\n",
    "![alt text](https://plants.ces.ncsu.edu/media/images/Iris-virginica--Justin-Meissen--CC-BY-SA.jpg)\n",
    "#### Iris Versicolor\n",
    "![alt text](http://latour-marliac.com/323-large_default/iris-versicolor-iris-versicolore.jpg)\n",
    "\n",
    "\n",
    "Dla reprezentantów poszczególnych  gatunków mierzono długość i szerokość płatka „petal” i działki kielicha kwiatu „sepal”."
   ]
  },
  {
   "cell_type": "markdown",
   "metadata": {
    "colab_type": "text",
    "id": "hb4cSOy4JO7r"
   },
   "source": [
    "**Krok 1:** Podziel dane na dane treningowe i testowe w proporcji 0.77 do 0.33. Ustaw random_state na 1."
   ]
  },
  {
   "cell_type": "code",
   "execution_count": null,
   "metadata": {
    "colab": {},
    "colab_type": "code",
    "id": "khhEhXUvjCZN"
   },
   "outputs": [],
   "source": [
    "iris = load_iris()\n",
    "X, y = iris.data, iris.target\n",
    "X_train, X_test, y_train, y_test = train_test_split(X, y, test_size=0.33, random_state=1)\n"
   ]
  },
  {
   "cell_type": "code",
   "execution_count": null,
   "metadata": {
    "colab": {
     "base_uri": "https://localhost:8080/",
     "height": 87
    },
    "colab_type": "code",
    "id": "wU9QRJuyutZE",
    "outputId": "46be077d-a055-448a-98ab-9aeca58b8b3c"
   },
   "outputs": [],
   "source": [
    "iris.feature_names"
   ]
  },
  {
   "cell_type": "markdown",
   "metadata": {
    "colab_type": "text",
    "id": "VWet73ZiJZnL"
   },
   "source": [
    "**Krok 2:** Trening klasyfikatora  `DecisionTreeClassifier` z biblioteki `sklearn`\n",
    "\n",
    "\n"
   ]
  },
  {
   "cell_type": "code",
   "execution_count": null,
   "metadata": {
    "colab": {
     "base_uri": "https://localhost:8080/",
     "height": 52
    },
    "colab_type": "code",
    "id": "UCEVM18f9Kry",
    "outputId": "c9768574-bcfe-4ba5-a188-f41cea3f9bae"
   },
   "outputs": [],
   "source": [
    "%%time\n",
    "\n",
    "clf = DecisionTreeClassifier()\n",
    "clf = clf.fit(X_train, y_train)"
   ]
  },
  {
   "cell_type": "markdown",
   "metadata": {
    "colab_type": "text",
    "id": "FLVcMn21Jm92"
   },
   "source": [
    "**Krok 2.1:** Podgląd otrzymanego drzewa decyzyjnego"
   ]
  },
  {
   "cell_type": "markdown",
   "metadata": {},
   "source": [
    "*wersja czarno-biała* "
   ]
  },
  {
   "cell_type": "code",
   "execution_count": null,
   "metadata": {
    "colab": {},
    "colab_type": "code",
    "id": "iwhxbpqLj13n"
   },
   "outputs": [],
   "source": [
    "dot_data = export_graphviz(clf, out_file=None) \n",
    "graph = graphviz.Source(dot_data) "
   ]
  },
  {
   "cell_type": "code",
   "execution_count": null,
   "metadata": {
    "colab": {
     "base_uri": "https://localhost:8080/",
     "height": 657
    },
    "colab_type": "code",
    "id": "2uGTtCSgkBI0",
    "outputId": "31d6ed7e-e150-4000-d792-d4000a9b43f0"
   },
   "outputs": [],
   "source": [
    "graph"
   ]
  },
  {
   "cell_type": "markdown",
   "metadata": {},
   "source": [
    "*wersja kolorowa* "
   ]
  },
  {
   "cell_type": "code",
   "execution_count": null,
   "metadata": {
    "colab": {
     "base_uri": "https://localhost:8080/",
     "height": 757
    },
    "colab_type": "code",
    "id": "7AeTxVdCLmR4",
    "outputId": "46ae1afa-e825-43b6-8871-ad6de95e73bf"
   },
   "outputs": [],
   "source": [
    "dot_data = export_graphviz(clf, out_file=None, \n",
    "                         feature_names=iris.feature_names,  \n",
    "                         class_names=iris.target_names,  \n",
    "                         filled=True, rounded=True,  \n",
    "                         special_characters=True)  \n",
    "graph = graphviz.Source(dot_data)  \n",
    "graph"
   ]
  },
  {
   "cell_type": "markdown",
   "metadata": {},
   "source": [
    "Do jakiej klasy został przypożądkowany irys z zestawu testowego X_test[10]. Podaj nazwę."
   ]
  },
  {
   "cell_type": "code",
   "execution_count": null,
   "metadata": {},
   "outputs": [],
   "source": [
    "iris.target_names[clf.predict([X_test[10]])[0]]"
   ]
  },
  {
   "cell_type": "markdown",
   "metadata": {
    "colab_type": "text",
    "id": "6EyAGPZfWPkr"
   },
   "source": [
    "## Dokładność modelu\n",
    "\n",
    "Metodą $score$ wyznacz dokładność otrzymanego modelu"
   ]
  },
  {
   "cell_type": "code",
   "execution_count": null,
   "metadata": {
    "colab": {
     "base_uri": "https://localhost:8080/",
     "height": 34
    },
    "colab_type": "code",
    "id": "PerPAAfLWPE4",
    "outputId": "4f999dce-d8f8-4148-d2c7-2363d0d8459f"
   },
   "outputs": [],
   "source": [
    "clf.score(X_test, y_test)"
   ]
  },
  {
   "cell_type": "markdown",
   "metadata": {
    "colab_type": "text",
    "id": "nqdA5PT9WJon"
   },
   "source": [
    "## Podgląd otrzymanych podziałów\n",
    "\n",
    "Aby można było zwizualizować otrzymane podziały konieczna jest redukcja przestrzeni cech do dwóch wymirów. Oznacza to, że podczas klasyfikacji uwzględniamy tylko 2 zmienne objaśniające."
   ]
  },
  {
   "cell_type": "code",
   "execution_count": null,
   "metadata": {
    "colab": {
     "base_uri": "https://localhost:8080/",
     "height": 416
    },
    "colab_type": "code",
    "id": "oWVetjlilclA",
    "outputId": "9b74a8d2-17fe-450e-b7b4-a30f0653c9ca"
   },
   "outputs": [],
   "source": [
    "# Parametry\n",
    "n_classes = 3\n",
    "plot_step = 0.02\n",
    "\n",
    "\n",
    "plt.set_cmap(plt.cm.jet)\n",
    "\n",
    "\n",
    "for pairidx, pair in enumerate([[0, 1], [0, 2], [0, 3],\n",
    "                                [1, 2], [1, 3], [2, 3]]):\n",
    "  \n",
    "    # Uczymy klasyfikator tylko na 2 cechach\n",
    "    X = iris.data[:, pair]\n",
    "    y = iris.target\n",
    "\n",
    "    clf_tmp = DecisionTreeClassifier().fit(X, y)\n",
    "\n",
    "    # Wykres\n",
    "    plt.subplot(2, 3, pairidx + 1)\n",
    "\n",
    "    x_min, x_max = X[:, 0].min() - 1, X[:, 0].max() + 1\n",
    "    y_min, y_max = X[:, 1].min() - 1, X[:, 1].max() + 1\n",
    "    xx, yy = np.meshgrid(np.arange(x_min, x_max, plot_step),\n",
    "                         np.arange(y_min, y_max, plot_step))\n",
    "\n",
    "    Z = clf_tmp.predict(np.c_[xx.ravel(), yy.ravel()])\n",
    "    Z = Z.reshape(xx.shape)\n",
    "    plt.imshow(Z,extent=[x_min,x_max,y_min,y_max],origin='lower',alpha=0.6)\n",
    "    plt.scatter(X[:,0], X[:,1],c=np.ravel(y),edgecolors='black')\n",
    "\n",
    "    plt.xlabel(iris.feature_names[pair[0]])\n",
    "    plt.ylabel(iris.feature_names[pair[1]])\n",
    "    plt.axis(\"tight\")\n",
    "\n",
    "\n",
    "    plt.tight_layout(pad=0.4, w_pad=0.5, h_pad=1.0)\n",
    "    plt.grid(False)\n",
    "\n",
    "plt.show()\n"
   ]
  },
  {
   "cell_type": "markdown",
   "metadata": {
    "colab_type": "text",
    "id": "_fLDbVIUb_SY"
   },
   "source": [
    "## Inne opcje poszukiwania najlepszego podziału\n",
    "\n",
    "Kiedy mamy zbyt dużo danych lub zmiennych objaśniających czas poszukiwania optymalnego podziału rośnie. Aby w każdym kroku nie przeszukiwać wszystkich możliwych podziałów mamy dwie możliwości. Możliwe ustawienia:\n",
    "\n",
    "### `max_features`\n",
    "\n",
    "Ilość zmiennych uwzględnianych w czasie poszukiwania optymalnego podziału. Możliwe opcje:\n",
    "*  liczba całkowita - uwzględnia dokładnie tyle ziennych podczas każdego podziału\n",
    "*  liczba zmiennoprzecinkowa - tyle procent zmiennych będzie uwzględnianych\n",
    "*  “auto” -  wówczas `max_features=sqrt(n_features)`.\n",
    "*  “sqrt” - wówczas `max_features=sqrt(n_features)`\n",
    "*  “log2” - wówczas `max_features=log2(n_features)`.\n",
    "*  `None` - wówczas `max_features=n_features`.\n"
   ]
  },
  {
   "cell_type": "code",
   "execution_count": null,
   "metadata": {},
   "outputs": [],
   "source": [
    "clf_all = DecisionTreeClassifier()\n",
    "clf_all = clf_all.fit(X_train, y_train)\n",
    "\n",
    "print(clf_all.score(X_test, y_test), clf_all.score(X_train, y_train))\n",
    "\n",
    "\n",
    "clf = DecisionTreeClassifier(max_features=1, random_state=123)\n",
    "clf = clf.fit(X_train, y_train)\n",
    "\n",
    "print(clf.score(X_test, y_test), clf.score(X_train, y_train))"
   ]
  },
  {
   "cell_type": "markdown",
   "metadata": {
    "colab_type": "text",
    "id": "-LAzXmCRWfMx"
   },
   "source": [
    "### splitter='random':\n",
    "\n",
    "W tym przypadku wybór zmiennej względem której dokonywany jest podział będzie losowy."
   ]
  },
  {
   "cell_type": "code",
   "execution_count": null,
   "metadata": {
    "colab": {
     "base_uri": "https://localhost:8080/",
     "height": 51
    },
    "colab_type": "code",
    "id": "mDhFHQHoWeni",
    "outputId": "fb2900e9-b5c9-4182-c023-1708da3a786e"
   },
   "outputs": [],
   "source": [
    "%%time\n",
    "\n",
    "clf = DecisionTreeClassifier(splitter='random', random_state=123)\n",
    "clf = clf.fit(X_train, y_train)"
   ]
  },
  {
   "cell_type": "code",
   "execution_count": null,
   "metadata": {
    "colab": {
     "base_uri": "https://localhost:8080/",
     "height": 34
    },
    "colab_type": "code",
    "id": "sDhRFST-YQfF",
    "outputId": "254ba679-c7d5-46f8-e684-b7d698f4d2ab"
   },
   "outputs": [],
   "source": [
    "clf.score(X_test, y_test), clf.score(X_train, y_train)"
   ]
  },
  {
   "cell_type": "markdown",
   "metadata": {},
   "source": [
    "### Powównanie 2 podziałów dla różnej inicjalizacji generatora liczb pseudolosowych"
   ]
  },
  {
   "cell_type": "code",
   "execution_count": null,
   "metadata": {
    "colab": {
     "base_uri": "https://localhost:8080/",
     "height": 434
    },
    "colab_type": "code",
    "id": "mduLh5B4nwKe",
    "outputId": "af741af5-00e8-4f88-e0dc-b1c037b84f0f"
   },
   "outputs": [],
   "source": [
    "\n",
    "# Parametery\n",
    "n_classes = 3\n",
    "plot_step = 0.02\n",
    "\n",
    "plt.set_cmap(plt.cm.jet)\n",
    "\n",
    "\n",
    "for pairidx, pair in enumerate([[0, 1], [0, 2], [0, 3],\n",
    "                                [1, 2], [1, 3], [2, 3]]):\n",
    "    X = iris.data[:, pair]\n",
    "    y = iris.target\n",
    "\n",
    "\n",
    "    clf_tmp = DecisionTreeClassifier(splitter='random', random_state=2).fit(X, y)\n",
    "\n",
    "    plt.subplot(2, 3, pairidx + 1)\n",
    "\n",
    "    x_min, x_max = X[:, 0].min() - 1, X[:, 0].max() + 1\n",
    "    y_min, y_max = X[:, 1].min() - 1, X[:, 1].max() + 1\n",
    "    xx, yy = np.meshgrid(np.arange(x_min, x_max, plot_step),\n",
    "                         np.arange(y_min, y_max, plot_step))\n",
    "\n",
    "    Z = clf_tmp.predict(np.c_[xx.ravel(), yy.ravel()])\n",
    "    Z = Z.reshape(xx.shape)\n",
    "    plt.imshow(Z,extent=[x_min,x_max,y_min,y_max],origin='lower',alpha=0.6)\n",
    "    plt.scatter(X[:,0], X[:,1],c=np.ravel(y),edgecolors='black')\n",
    "\n",
    "    plt.xlabel(iris.feature_names[pair[0]])\n",
    "    plt.ylabel(iris.feature_names[pair[1]])\n",
    "    plt.axis(\"tight\")\n",
    "\n",
    "    plt.tight_layout(pad=0.4, w_pad=0.5, h_pad=1.0)\n",
    "    plt.grid(False)\n",
    "\n",
    "\n",
    "plt.legend()\n",
    "plt.show()\n"
   ]
  },
  {
   "cell_type": "code",
   "execution_count": null,
   "metadata": {},
   "outputs": [],
   "source": [
    "\n",
    "# Parametery\n",
    "n_classes = 3\n",
    "plot_step = 0.02\n",
    "\n",
    "plt.set_cmap(plt.cm.jet)\n",
    "\n",
    "\n",
    "for pairidx, pair in enumerate([[0, 1], [0, 2], [0, 3],\n",
    "                                [1, 2], [1, 3], [2, 3]]):\n",
    "    X = iris.data[:, pair]\n",
    "    y = iris.target\n",
    "\n",
    "\n",
    "    clf_tmp = DecisionTreeClassifier(splitter='random', random_state=100).fit(X, y)\n",
    "\n",
    "    plt.subplot(2, 3, pairidx + 1)\n",
    "\n",
    "    x_min, x_max = X[:, 0].min() - 1, X[:, 0].max() + 1\n",
    "    y_min, y_max = X[:, 1].min() - 1, X[:, 1].max() + 1\n",
    "    xx, yy = np.meshgrid(np.arange(x_min, x_max, plot_step),\n",
    "                         np.arange(y_min, y_max, plot_step))\n",
    "\n",
    "    Z = clf_tmp.predict(np.c_[xx.ravel(), yy.ravel()])\n",
    "    Z = Z.reshape(xx.shape)\n",
    "    plt.imshow(Z,extent=[x_min,x_max,y_min,y_max],origin='lower',alpha=0.6)\n",
    "    plt.scatter(X[:,0], X[:,1],c=np.ravel(y),edgecolors='black')\n",
    "\n",
    "    plt.xlabel(iris.feature_names[pair[0]])\n",
    "    plt.ylabel(iris.feature_names[pair[1]])\n",
    "    plt.axis(\"tight\")\n",
    "\n",
    "    plt.tight_layout(pad=0.4, w_pad=0.5, h_pad=1.0)\n",
    "    plt.grid(False)\n",
    "\n",
    "\n",
    "plt.legend()\n",
    "plt.show()\n"
   ]
  },
  {
   "cell_type": "markdown",
   "metadata": {
    "colab_type": "text",
    "id": "ueHn39W-ZU--"
   },
   "source": [
    "## Przeciwdziałanie przeuczeniu\n",
    "\n",
    "Wymuszanie jednorodności w otrzymanych podprzestrzeniach prowadzi na ogół do zbudowaniabardzo złożonego modelu, który jest nadmiernie dopasowany dodanych ze zbioru uczącego. POjawia się wówczas efekt przeuczenia.\n",
    "\n",
    "Następujące parametry pozwalają zmniejszyć efekt *overfittingu*. Po znaku równości zostały podane ich domyślne wartości.\n",
    "\n",
    "*   `max_depth=None`\n",
    "*   `min_samples_split=2`\n",
    "*   `min_samples_leaf=1`\n",
    "*  `min_impurity_decrease=0`\n",
    "\n"
   ]
  },
  {
   "cell_type": "code",
   "execution_count": null,
   "metadata": {
    "colab": {
     "base_uri": "https://localhost:8080/",
     "height": 51
    },
    "colab_type": "code",
    "id": "KujHLNMceskO",
    "outputId": "5941d90c-84e5-47ed-f6c8-abf2cd71b669"
   },
   "outputs": [],
   "source": [
    "%%time\n",
    "\n",
    "clf = DecisionTreeClassifier(min_samples_split=10)\n",
    "clf = clf.fit(X_train, y_train)"
   ]
  },
  {
   "cell_type": "code",
   "execution_count": null,
   "metadata": {
    "colab": {},
    "colab_type": "code",
    "id": "9gFDcJzhez9K"
   },
   "outputs": [],
   "source": [
    "dot_data = export_graphviz(clf, out_file=None) \n",
    "graph = graphviz.Source(dot_data) "
   ]
  },
  {
   "cell_type": "code",
   "execution_count": null,
   "metadata": {
    "colab": {
     "base_uri": "https://localhost:8080/",
     "height": 598
    },
    "colab_type": "code",
    "id": "FKMiEYyVe6EC",
    "outputId": "409f40a5-0402-41e5-fc3d-04e1cbd4aca6"
   },
   "outputs": [],
   "source": [
    "dot_data = export_graphviz(clf, out_file=None, \n",
    "                         feature_names=iris.feature_names,  \n",
    "                         class_names=iris.target_names,  \n",
    "                         filled=True, rounded=True,  \n",
    "                         special_characters=True)  \n",
    "graph = graphviz.Source(dot_data)  \n",
    "graph"
   ]
  },
  {
   "cell_type": "code",
   "execution_count": null,
   "metadata": {
    "colab": {
     "base_uri": "https://localhost:8080/",
     "height": 34
    },
    "colab_type": "code",
    "id": "AEZ3E2CLfnka",
    "outputId": "af4cc3b0-6f98-42de-8ae4-1e563d074992"
   },
   "outputs": [],
   "source": [
    "clf.score(X_test, y_test), clf.score(X_train, y_train)"
   ]
  },
  {
   "cell_type": "markdown",
   "metadata": {
    "colab_type": "text",
    "id": "u7lmH3w1dyLQ"
   },
   "source": [
    "## Poszukiwanie optymalnych parametrów metodą walidacji krzyżowej\n",
    "\n",
    "**Zapamiętaj:** danych testowych możesz użyć tylko raz do sprawdzenia dokładności ostatecznego modelu. \n",
    "\n",
    "Aby dopasować parametry drzewa klasyfikacyjnego można wykorzystać oddzielny zbiór walidacyjny lub **metodę walidacji krzyżowej**. W tym prykładzie użyjemy tej drugiej metody.\n",
    "\n",
    "Metoda ta pozwala określić dokładność modelu w sposób nieobciążony. \n",
    "Algorytm metody sprawdzania krzyżowego:\n",
    "\n",
    "1. Wybierz wartość parametru $b$ (zazwyczaj $b\\leq 10$) i podziel losowo zbiór uczący $U$ na $b$ równolicznych (w przybliżeniu) i rozłącznych części $U_1$, $U_2$, . . . , $U_b$.\n",
    "\n",
    "2.  Dla $h \\in {1, . . . , b}$ wykonaj kroki:\n",
    "\n",
    "  a. zbuduj model na zbiorze $U|U_h$ (wyłączając jedną część),\n",
    "\n",
    "  b.  oszacuj błąd klasyfikacji modelu na zbiorze $U_h$ (wykorzystując $U_h$ jako zbiór walidacyjny).\n",
    "\n",
    "3. Wyznacz ocenę błędu klasyfikacji modelu uśredniając wartości otrzymane w kroku 2. Otrzymany wynik jest nieobciążonym estymatorem błędu klasyfikacji\n",
    "\n",
    "Biiblioteka `sklearn` dostarcza metodę `GridSearchCV` do przeszukiwania przestrzeni hiperparametrów modelu z wykorzystaniem walidacji krzyżowej.\n"
   ]
  },
  {
   "cell_type": "code",
   "execution_count": null,
   "metadata": {
    "colab": {
     "base_uri": "https://localhost:8080/",
     "height": 51
    },
    "colab_type": "code",
    "id": "VGs0zVx4dxwj",
    "outputId": "0fb92a80-df72-4240-a757-8d4d454dce86"
   },
   "outputs": [],
   "source": [
    "from sklearn.model_selection import GridSearchCV\n",
    "\n",
    "parameter_grid = {'max_depth': np.arange(3, 7),\n",
    "                  'max_features': np.arange(1, 5)}\n",
    "\n",
    "clf_grid = GridSearchCV(DecisionTreeClassifier(), parameter_grid)\n",
    "\n",
    "clf_grid.fit(X_train, y_train)\n",
    "\n",
    "print (\"Najlepsza dokładność {}\".format(clf_grid.best_score_))\n",
    "print (\"Dobrane parametry: {}\".format(clf_grid.best_params_))\n",
    "\n",
    "\n"
   ]
  },
  {
   "cell_type": "markdown",
   "metadata": {
    "colab_type": "text",
    "id": "ZznbsWO7Y0Es"
   },
   "source": [
    "Teraz możemy przetestować otrzymany model na danych testowych"
   ]
  },
  {
   "cell_type": "code",
   "execution_count": null,
   "metadata": {
    "colab": {
     "base_uri": "https://localhost:8080/",
     "height": 34
    },
    "colab_type": "code",
    "id": "D0c7HoLqdx2M",
    "outputId": "d89020ca-e3bd-401f-ca7e-fa47ae0d7bae"
   },
   "outputs": [],
   "source": [
    "clf_grid.best_estimator_.score(X_test, y_test)"
   ]
  },
  {
   "cell_type": "markdown",
   "metadata": {
    "colab_type": "text",
    "id": "OUSPUTNNeLBB"
   },
   "source": [
    "# Istotność zmiennych objaśniających\n",
    "\n",
    "Zaletą drzewa klasyfikacyjnego jest możliwość określenia istotności poszczególnych zmiennych"
   ]
  },
  {
   "cell_type": "code",
   "execution_count": null,
   "metadata": {
    "colab": {
     "base_uri": "https://localhost:8080/",
     "height": 85
    },
    "colab_type": "code",
    "id": "u3JoUJoOZKFT",
    "outputId": "8fb961a6-1693-4cd1-e9db-e02c24eec3d8"
   },
   "outputs": [],
   "source": [
    "ids = np.argsort(clf_grid.best_estimator_.feature_importances_)\n",
    "\n",
    "for i in ids[::-1]:\n",
    "    print (iris.feature_names[i], clf_grid.best_estimator_.feature_importances_[i])"
   ]
  },
  {
   "cell_type": "markdown",
   "metadata": {
    "colab_type": "text",
    "id": "uEx_wwova6ag"
   },
   "source": [
    "Dla poprzedniego modelu"
   ]
  },
  {
   "cell_type": "code",
   "execution_count": null,
   "metadata": {
    "colab": {},
    "colab_type": "code",
    "id": "eNnGI_rwd-U6"
   },
   "outputs": [],
   "source": []
  },
  {
   "cell_type": "code",
   "execution_count": null,
   "metadata": {
    "colab": {
     "base_uri": "https://localhost:8080/",
     "height": 85
    },
    "colab_type": "code",
    "id": "VwYBSykLZwn6",
    "outputId": "7cf1285a-f1df-40ca-98b7-46d6f95a913f"
   },
   "outputs": [],
   "source": [
    "ids = np.argsort(clf.feature_importances_)\n",
    "\n",
    "\n",
    "for i in ids[::-1]:\n",
    "    print (iris.feature_names[i], clf.feature_importances_[i])"
   ]
  },
  {
   "cell_type": "markdown",
   "metadata": {
    "colab_type": "text",
    "id": "t1Jdan2EYy1a"
   },
   "source": [
    "# Zadanie\n",
    "\n",
    "Zbuduj drzewo klasyfikacyjne dla danych dotyczących złośliwości raka piersi. Znajdź optymalne parametry i sprawdź jaka jest istotność poszczególnych zmiennych objaśniających.\n",
    "\n",
    "**Krok 1:** Wczytanie danych i podział na dane treningowe  i testowe w proporcji $0.77:0.33$. Aby móc porównać wyniki z kolegami ustaw `random_state` na 1"
   ]
  },
  {
   "cell_type": "code",
   "execution_count": null,
   "metadata": {
    "colab": {},
    "colab_type": "code",
    "id": "9geKa26u6MK_"
   },
   "outputs": [],
   "source": [
    "breast = load_breast_cancer()\n",
    "\n",
    "### Your solution\n",
    "#raise NotImplementedError\n",
    "\n",
    "X, y = breast.data, breast.target\n",
    "X_train_breast, X_test_breast, y_train_breast, y_test_breast = train_test_split(X, y, test_size=0.33, random_state=1)"
   ]
  },
  {
   "cell_type": "markdown",
   "metadata": {
    "colab_type": "text",
    "id": "e27iUUW4cX9I"
   },
   "source": [
    "**Krok 2:** Medodą walidacji krzyżowej znajdź optymalne drzewo klasyfikujące:"
   ]
  },
  {
   "cell_type": "code",
   "execution_count": null,
   "metadata": {
    "colab": {
     "base_uri": "https://localhost:8080/",
     "height": 51
    },
    "colab_type": "code",
    "id": "I2He_LUZRavR",
    "outputId": "7ebe9cca-a80f-42d6-9874-88431adbc16f"
   },
   "outputs": [],
   "source": [
    "parameter_grid = {'max_depth': np.arange(3, 30),\n",
    "                  'max_features': np.arange(1, 30)}\n",
    "\n",
    "### Your solution\n",
    "#raise NotImplementedError\n",
    "\n",
    "\n",
    "clf_grid = GridSearchCV(DecisionTreeClassifier(), parameter_grid)\n",
    "\n",
    "clf_grid.fit(X_train_breast, y_train_breast)\n",
    "\n",
    "print (\"Najlepsza dokładność {}\".format(clf_grid.best_score_))\n",
    "print (\"Dobrane parametry: {}\".format(clf_grid.best_params_))\n"
   ]
  },
  {
   "cell_type": "markdown",
   "metadata": {
    "colab_type": "text",
    "id": "8landUcadIep"
   },
   "source": [
    "**Krok 3:** Podaj dokładność modelu na danych testowych:\n"
   ]
  },
  {
   "cell_type": "code",
   "execution_count": null,
   "metadata": {
    "colab": {
     "base_uri": "https://localhost:8080/",
     "height": 34
    },
    "colab_type": "code",
    "id": "bX-bWj9yo_ui",
    "outputId": "024fa03f-a43f-465d-9cb5-16dcf3d2fae6"
   },
   "outputs": [],
   "source": [
    "### Your solution\n",
    "#raise NotImplementedError\n",
    "clf_grid.best_estimator_.score(X_test_breast, y_test_breast)\n"
   ]
  },
  {
   "cell_type": "markdown",
   "metadata": {
    "colab_type": "text",
    "id": "rTmCCQsidWX4"
   },
   "source": [
    "**Krok 4:** Sprawdź istotność poszczególnych zmiennych"
   ]
  },
  {
   "cell_type": "code",
   "execution_count": null,
   "metadata": {
    "colab": {
     "base_uri": "https://localhost:8080/",
     "height": 527
    },
    "colab_type": "code",
    "id": "37EZmHHxdAZL",
    "outputId": "5d4703d5-2d9b-4de8-b0d9-ef3ce4b164ea"
   },
   "outputs": [],
   "source": [
    "### Your solution\n",
    "#raise NotImplementedError\n",
    "\n",
    "ids = np.argsort(clf_grid.best_estimator_.feature_importances_)\n",
    "\n",
    "for i in ids[::-1]:\n",
    "    print (breast.feature_names[i], clf_grid.best_estimator_.feature_importances_[i])"
   ]
  },
  {
   "cell_type": "markdown",
   "metadata": {
    "colab_type": "text",
    "id": "RqADYKR-gEhF"
   },
   "source": [
    "**Krok 5:** Podgląd otrzymanego drzewa"
   ]
  },
  {
   "cell_type": "code",
   "execution_count": null,
   "metadata": {
    "colab": {
     "base_uri": "https://localhost:8080/",
     "height": 1094
    },
    "colab_type": "code",
    "id": "bFLFeyudgEsf",
    "outputId": "e37701fa-3873-4e0f-8165-813c8f7499b0"
   },
   "outputs": [],
   "source": [
    "### Your solution\n",
    "#raise NotImplementedError\n",
    "\n",
    "dot_data = tree.export_graphviz(clf_grid.best_estimator_, out_file=None, \n",
    "                         feature_names=breast.feature_names,  \n",
    "                         class_names=breast.target_names,  \n",
    "                         filled=True, rounded=True,  \n",
    "                         special_characters=True)  \n",
    "graph = graphviz.Source(dot_data)  \n",
    "graph"
   ]
  },
  {
   "cell_type": "markdown",
   "metadata": {
    "colab_type": "text",
    "id": "ScvHV4yefNrz"
   },
   "source": [
    "**Krok 6:** Czas na zabawę! Spróbuj dopasować inne parametry i poprawić powyższy wynik."
   ]
  },
  {
   "cell_type": "code",
   "execution_count": null,
   "metadata": {
    "colab": {},
    "colab_type": "code",
    "id": "RgYXrPV8diHh"
   },
   "outputs": [],
   "source": []
  }
 ],
 "metadata": {
  "accelerator": "GPU",
  "colab": {
   "collapsed_sections": [],
   "name": "Classification_trees.ipynb",
   "provenance": [],
   "version": "0.3.2"
  },
  "kernelspec": {
   "display_name": "Python 3",
   "language": "python",
   "name": "python3"
  },
  "language_info": {
   "codemirror_mode": {
    "name": "ipython",
    "version": 3
   },
   "file_extension": ".py",
   "mimetype": "text/x-python",
   "name": "python",
   "nbconvert_exporter": "python",
   "pygments_lexer": "ipython3",
   "version": "3.6.7"
  }
 },
 "nbformat": 4,
 "nbformat_minor": 1
}
