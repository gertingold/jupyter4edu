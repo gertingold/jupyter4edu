{
 "cells": [
  {
   "cell_type": "code",
   "execution_count": null,
   "metadata": {
    "colab": {},
    "colab_type": "code",
    "id": "SFpBDCbmqKcD"
   },
   "outputs": [],
   "source": [
    "from sklearn.ensemble import RandomForestClassifier\n",
    "from sklearn.datasets import load_iris, load_breast_cancer, make_circles\n",
    "from sklearn.tree import DecisionTreeClassifier\n",
    "\n",
    "\n",
    "from sklearn.model_selection import train_test_split, GridSearchCV\n",
    "\n",
    "import matplotlib.pyplot as plt\n",
    "import numpy as np"
   ]
  },
  {
   "cell_type": "markdown",
   "metadata": {
    "colab_type": "text",
    "id": "GjrVssrBqIYX"
   },
   "source": [
    "# Metoda Random Frest\n",
    "\n",
    "1. W metodzie tej tworzymy wiele, **zróżnicowanych** drzew klasyfikacyjnych, których dokładność musi przekraczać 50%, jednak nie może być też zbyt duża, aby modele były rzeczywiście zróżnicowane.  \n",
    "2. Każdy z tych modeli budujemy jedynie na **`n` wybranych zmiennych**.\n",
    "3. Drzewa te połączone są ze sobą **równolegle**\n",
    "4. Ostateczna klasyfikacja dokonywana jest na drodze głosowania przez poszczególne modele.\n",
    "\n",
    "![alt text](https://cdn-images-1.medium.com/max/1600/1*i0o8mjFfCn-uD79-F1Cqkw.png)\n",
    "\n",
    "\n",
    "## Sztuczny zestaw danych\n",
    "\n",
    "W tym przykładzie skorzystamy z dostarczonego przez `sklearn` generatora danych do klasyfikacji `make_circles`\n"
   ]
  },
  {
   "cell_type": "code",
   "execution_count": null,
   "metadata": {
    "colab": {},
    "colab_type": "code",
    "id": "75OZmdse9w5g"
   },
   "outputs": [],
   "source": [
    "X, y = make_circles(n_samples=1000, factor=.7, noise=.1)"
   ]
  },
  {
   "cell_type": "markdown",
   "metadata": {
    "colab_type": "text",
    "id": "Xnsp_pRsAjFY"
   },
   "source": [
    "### Podgląd wygenerowanego zestawu"
   ]
  },
  {
   "cell_type": "code",
   "execution_count": null,
   "metadata": {
    "colab": {
     "base_uri": "https://localhost:8080/",
     "height": 380
    },
    "colab_type": "code",
    "id": "8bsuYgdG_4Nd",
    "outputId": "af525b22-d105-45e0-9318-63b8a5ba8d72"
   },
   "outputs": [],
   "source": [
    "plt.scatter(X[y==0, 0], X[y==0, 1], c=\"red\",\n",
    "            s=20, edgecolor='k')\n",
    "plt.scatter(X[y==1, 0], X[y==1, 1], c=\"blue\",\n",
    "            s=20, edgecolor='k')\n",
    "plt.xlabel(\"$x_1$\")\n",
    "plt.ylabel(\"$x_2$\")"
   ]
  },
  {
   "cell_type": "markdown",
   "metadata": {
    "colab_type": "text",
    "id": "JGOpO1PBBa9V"
   },
   "source": [
    "### Sprawdźmy jak poradzi sobie pojedyncze drzewo decyzyjne"
   ]
  },
  {
   "cell_type": "code",
   "execution_count": null,
   "metadata": {
    "colab": {
     "base_uri": "https://localhost:8080/",
     "height": 70
    },
    "colab_type": "code",
    "id": "CB4xpZDpBfdk",
    "outputId": "0cf77155-6913-4b1e-8d29-77f748285872"
   },
   "outputs": [],
   "source": [
    "X_train, X_test, y_train, y_test = train_test_split(X, y, test_size=0.33, random_state=1)\n",
    "\n",
    "\n",
    "parameter_grid = {'max_depth': np.arange(3, 30)}\n",
    "\n",
    "### Your solution\n",
    "#raise NotImplementedError\n",
    "\n",
    "\n",
    "clf_grid = GridSearchCV(DecisionTreeClassifier(), parameter_grid)\n",
    "\n",
    "clf_grid.fit(X_train, y_train)\n",
    "\n",
    "print (\"Najlepsza dokładność {}\".format(clf_grid.best_score_))\n",
    "print (\"Dobrane parametry: {}\".format(clf_grid.best_params_))\n",
    "\n",
    "clf_grid.best_estimator_.score(X_test, y_test)"
   ]
  },
  {
   "cell_type": "code",
   "execution_count": null,
   "metadata": {
    "colab": {
     "base_uri": "https://localhost:8080/",
     "height": 346
    },
    "colab_type": "code",
    "id": "Nk_gJIkXBfgO",
    "outputId": "54107eef-0349-4a77-fd27-c531ad712940"
   },
   "outputs": [],
   "source": [
    "# Parametry\n",
    "n_classes = 3\n",
    "plot_step = 0.02\n",
    "\n",
    "\n",
    "plt.set_cmap(plt.cm.jet)\n",
    "x_min, x_max = X_train[:, 0].min() - 1, X_train[:, 0].max() + 1\n",
    "y_min, y_max = X_train[:, 1].min() - 1, X_train[:, 1].max() + 1\n",
    "xx, yy = np.meshgrid(np.arange(x_min, x_max, plot_step),\n",
    "                         np.arange(y_min, y_max, plot_step))\n",
    "\n",
    "clf_tmp = clf_grid.best_estimator_\n",
    "\n",
    "Z = clf_tmp.predict(np.c_[xx.ravel(), yy.ravel()])\n",
    "Z = Z.reshape(xx.shape)\n",
    "plt.imshow(Z,extent=[x_min,x_max,y_min,y_max],origin='lower',alpha=0.6)\n",
    "plt.scatter(X[:,0], X[:,1],c=np.ravel(y),edgecolors='black')\n",
    "\n",
    "   \n",
    "plt.grid(False)\n",
    "\n",
    "plt.show()\n"
   ]
  },
  {
   "cell_type": "markdown",
   "metadata": {
    "colab_type": "text",
    "id": "7BQbzlR8A4KE"
   },
   "source": [
    "**Krok 1:** Podział danych na dane treningowe i testowe"
   ]
  },
  {
   "cell_type": "code",
   "execution_count": null,
   "metadata": {
    "colab": {},
    "colab_type": "code",
    "id": "Uvu-lR_AAMz3"
   },
   "outputs": [],
   "source": [
    "X_train, X_test, y_train, y_test = train_test_split(X, y, test_size=0.33, random_state=1)\n"
   ]
  },
  {
   "cell_type": "markdown",
   "metadata": {
    "colab_type": "text",
    "id": "cJcFDYt5BE3P"
   },
   "source": [
    "**Krok 2:** Trening klasyfikatora  `RandomForestClassifier` z biblioteki `sklearn`\n"
   ]
  },
  {
   "cell_type": "code",
   "execution_count": null,
   "metadata": {
    "colab": {
     "base_uri": "https://localhost:8080/",
     "height": 52
    },
    "colab_type": "code",
    "id": "sBHfnp3PBACR",
    "outputId": "2dfa50fa-f6d6-4acb-91d8-0b15fbd07075"
   },
   "outputs": [],
   "source": [
    "%%time\n",
    "\n",
    "clf = RandomForestClassifier(n_estimators=100)\n",
    "clf = clf.fit(X_train, y_train)"
   ]
  },
  {
   "cell_type": "markdown",
   "metadata": {
    "colab_type": "text",
    "id": "31ppirXjBSJe"
   },
   "source": [
    "**Krok 3:** Sprawdzenie dokładności modelu"
   ]
  },
  {
   "cell_type": "code",
   "execution_count": null,
   "metadata": {
    "colab": {
     "base_uri": "https://localhost:8080/",
     "height": 34
    },
    "colab_type": "code",
    "id": "GT7OSXvEBNXm",
    "outputId": "65a76d8e-bb96-4673-ce49-fbbee368e118"
   },
   "outputs": [],
   "source": [
    "clf.score(X_test, y_test)"
   ]
  },
  {
   "cell_type": "code",
   "execution_count": null,
   "metadata": {
    "colab": {
     "base_uri": "https://localhost:8080/",
     "height": 346
    },
    "colab_type": "code",
    "id": "Om6EidZWBXJM",
    "outputId": "85da870a-6e26-42aa-a323-ddc113f2da59"
   },
   "outputs": [],
   "source": [
    "n_classes = 2\n",
    "plot_step = 0.02\n",
    "\n",
    "\n",
    "plt.set_cmap(plt.cm.jet)\n",
    "x_min, x_max = X_train[:, 0].min() - 1, X_train[:, 0].max() + 1\n",
    "y_min, y_max = X_train[:, 1].min() - 1, X_train[:, 1].max() + 1\n",
    "xx, yy = np.meshgrid(np.arange(x_min, x_max, plot_step),\n",
    "                         np.arange(y_min, y_max, plot_step))\n",
    "\n",
    "clf_tmp = clf\n",
    "\n",
    "Z = clf_tmp.predict(np.c_[xx.ravel(), yy.ravel()])\n",
    "Z = Z.reshape(xx.shape)\n",
    "plt.imshow(Z,extent=[x_min,x_max,y_min,y_max],origin='lower',alpha=0.6)\n",
    "plt.scatter(X[:,0], X[:,1],c=np.ravel(y),edgecolors='black')\n",
    "\n",
    "   \n",
    "plt.grid(False)\n",
    "\n",
    "plt.show()\n"
   ]
  },
  {
   "cell_type": "markdown",
   "metadata": {
    "colab_type": "text",
    "id": "HNgrBQdojvU-"
   },
   "source": [
    "## Zależność dokładności od ilości drzew w modelu\n",
    "\n"
   ]
  },
  {
   "cell_type": "code",
   "execution_count": null,
   "metadata": {
    "colab": {},
    "colab_type": "code",
    "id": "0_Etv8lRj5mF"
   },
   "outputs": [],
   "source": [
    "train_score = []\n",
    "test_score = []\n",
    "for i in range(1, 50, 2):\n",
    "  clf = RandomForestClassifier(n_estimators=i)\n",
    "  clf = clf.fit(X_train, y_train)\n",
    "  train_score.append(clf.score(X_train, y_train))\n",
    "  test_score.append(clf.score(X_test, y_test))"
   ]
  },
  {
   "cell_type": "code",
   "execution_count": null,
   "metadata": {
    "colab": {
     "base_uri": "https://localhost:8080/",
     "height": 364
    },
    "colab_type": "code",
    "id": "wbWerGWmkmlJ",
    "outputId": "b88c48a8-3ba9-4ebb-ce31-6a4c6f48ed67"
   },
   "outputs": [],
   "source": [
    "plt.plot(np.arange(1,50, 2), train_score)\n",
    "plt.plot(np.arange(1,50, 2), test_score)"
   ]
  },
  {
   "cell_type": "markdown",
   "metadata": {
    "colab_type": "text",
    "id": "TxT4dyfUEwC3"
   },
   "source": [
    "## Parametry, którymi możemy manipulować\n",
    "\n",
    "Poza takimi samymi parametrami, jak w przypadku pojedynczego drzewa klasyfikacyjnego, możemy modyfikować parametr **`n_estimators`,**  który określa ile modeli bazowych będzie budowanych.\n",
    "\n",
    "## Zadanie 1:\n",
    "Metodą walidacji krzyżowej znajdź optymalne parametry klasyfikatora RandomForest."
   ]
  },
  {
   "cell_type": "code",
   "execution_count": null,
   "metadata": {
    "colab": {
     "base_uri": "https://localhost:8080/",
     "height": 68
    },
    "colab_type": "code",
    "id": "bKRCpHqfENNA",
    "outputId": "acb63184-bce6-4111-dcb7-1325c000836c"
   },
   "outputs": [],
   "source": [
    "parameter_grid = {'max_depth': np.arange(3, 20),\n",
    "                 'n_estimators':np.arange(5,50, 5)}\n",
    "\n",
    "### Your solution\n",
    "#raise NotImplementedError\n",
    "\n",
    "\n",
    "clf_grid = GridSearchCV(RandomForestClassifier(), parameter_grid)\n",
    "\n",
    "clf_grid.fit(X_train, y_train)\n",
    "\n",
    "print (\"Najlepsza dokładność na zbiorze treningowym {}\".format(clf_grid.best_score_))\n",
    "print (\"Dobrane parametry: {}\".format(clf_grid.best_params_))\n",
    "print (\"Dokładność na zbiorze testowym {}\".format(clf_grid.best_estimator_.score(X_test, y_test)))"
   ]
  },
  {
   "cell_type": "code",
   "execution_count": null,
   "metadata": {
    "colab": {},
    "colab_type": "code",
    "id": "ePW9ihPSlHX4"
   },
   "outputs": [],
   "source": [
    "train_score = []\n",
    "test_score = []\n",
    "for i in range(1, 50, 2):\n",
    "  clf = RandomForestClassifier(n_estimators=i, max_depth=10)\n",
    "  clf = clf.fit(X_train, y_train)\n",
    "  train_score.append(clf.score(X_train, y_train))\n",
    "  test_score.append(clf.score(X_test, y_test))"
   ]
  },
  {
   "cell_type": "code",
   "execution_count": null,
   "metadata": {
    "colab": {
     "base_uri": "https://localhost:8080/",
     "height": 364
    },
    "colab_type": "code",
    "id": "JRlrMYBOlHc8",
    "outputId": "5e808325-588c-43f4-837b-7aad1f0a9558"
   },
   "outputs": [],
   "source": [
    "plt.plot(np.arange(1,50, 2), train_score)\n",
    "plt.plot(np.arange(1,50, 2), test_score)"
   ]
  },
  {
   "cell_type": "markdown",
   "metadata": {
    "colab_type": "text",
    "id": "SxMD04TUF2i1"
   },
   "source": [
    "## Zadaie 2\n",
    "Przeprowaź podobną analizę dla danych `iris`"
   ]
  },
  {
   "cell_type": "code",
   "execution_count": null,
   "metadata": {
    "colab": {},
    "colab_type": "code",
    "id": "JARS6b-6F8s9"
   },
   "outputs": [],
   "source": [
    "iris = load_iris()\n",
    "X_iris, y_iris = iris.data, iris.target\n",
    "X_train_iris, X_test_iris, y_train_iris, y_test_iris = train_test_split(X_iris, y_iris, test_size=0.33, random_state=123)"
   ]
  },
  {
   "cell_type": "code",
   "execution_count": null,
   "metadata": {
    "colab": {},
    "colab_type": "code",
    "id": "55zi5XQEe8uv"
   },
   "outputs": [],
   "source": [
    "clf = RandomForestClassifier(n_estimators=100)\n",
    "clf = clf.fit(X_train_iris, y_train_iris)"
   ]
  },
  {
   "cell_type": "code",
   "execution_count": null,
   "metadata": {
    "colab": {
     "base_uri": "https://localhost:8080/",
     "height": 34
    },
    "colab_type": "code",
    "id": "Pvr-Rm5qfEOs",
    "outputId": "e3ab5238-1776-4bf8-8ff4-a2fc42f30634"
   },
   "outputs": [],
   "source": [
    "clf.score(X_test_iris, y_test_iris)"
   ]
  },
  {
   "cell_type": "code",
   "execution_count": null,
   "metadata": {
    "colab": {
     "base_uri": "https://localhost:8080/",
     "height": 70
    },
    "colab_type": "code",
    "id": "AwMczE8cfOGC",
    "outputId": "a96f8e70-c302-4b45-91cc-60f2fc5b4b2e"
   },
   "outputs": [],
   "source": [
    "parameter_grid = {'max_depth': np.arange(3, 20),\n",
    "                  'max_features': np.arange(1, 3),\n",
    "                  \n",
    "                  'n_estimators':np.arange(5,200, 1)}\n",
    "\n",
    "### Your solution\n",
    "#raise NotImplementedError\n",
    "\n",
    "\n",
    "clf_grid = GridSearchCV(RandomForestClassifier(), parameter_grid)\n",
    "\n",
    "clf_grid.fit(X_train_iris, y_train_iris)\n",
    "\n",
    "print (\"Najlepsza dokładność {}\".format(clf_grid.best_score_))\n",
    "print (\"Dobrane parametry: {}\".format(clf_grid.best_params_))\n",
    "print (\"Dokładność na zbiorze testowym {}\".format(clf_grid.best_estimator_.score(X_test_iris, y_test_iris)))"
   ]
  },
  {
   "cell_type": "code",
   "execution_count": null,
   "metadata": {
    "colab": {},
    "colab_type": "code",
    "id": "KRXnp-ZhlWkW"
   },
   "outputs": [],
   "source": [
    "train_score = []\n",
    "test_score = []\n",
    "for i in range(1, 50, 2):\n",
    "  clf = RandomForestClassifier(n_estimators=i, max_depth=9)\n",
    "  clf = clf.fit(X_train_iris, y_train_iris)\n",
    "  train_score.append(clf.score(X_train_iris, y_train_iris))\n",
    "  test_score.append(clf.score(X_test_iris, y_test_iris))"
   ]
  },
  {
   "cell_type": "code",
   "execution_count": null,
   "metadata": {
    "colab": {
     "base_uri": "https://localhost:8080/",
     "height": 364
    },
    "colab_type": "code",
    "id": "wzci7uBLlW1w",
    "outputId": "d80f2db0-e513-4b44-be0f-cb7cc0b61b3a"
   },
   "outputs": [],
   "source": [
    "plt.plot(np.arange(1,50, 2), train_score)\n",
    "plt.plot(np.arange(1,50, 2), test_score)"
   ]
  },
  {
   "cell_type": "markdown",
   "metadata": {
    "colab_type": "text",
    "id": "27ociVhBF9dg"
   },
   "source": [
    "## Zadaie 3\n",
    "Przeprowaź podobną analizę dla danych `breast_cancer`"
   ]
  },
  {
   "cell_type": "code",
   "execution_count": null,
   "metadata": {
    "colab": {},
    "colab_type": "code",
    "id": "Nqs4P7SVGDYv"
   },
   "outputs": [],
   "source": [
    "breast = load_breast_cancer()\n",
    "X_breast, y_breast = breast.data, breast.target\n",
    "X_train_breast, X_test_breast, y_train_breast, y_test_breast = train_test_split(X_breast, y_breast, test_size=0.33, random_state=1)"
   ]
  },
  {
   "cell_type": "code",
   "execution_count": null,
   "metadata": {
    "colab": {},
    "colab_type": "code",
    "id": "KLZHR_j_jOBH"
   },
   "outputs": [],
   "source": [
    "clf = RandomForestClassifier(n_estimators=100)\n",
    "clf = clf.fit(X_train_breast, y_train_breast)"
   ]
  },
  {
   "cell_type": "code",
   "execution_count": null,
   "metadata": {
    "colab": {
     "base_uri": "https://localhost:8080/",
     "height": 34
    },
    "colab_type": "code",
    "id": "4vTOpwgXjSrW",
    "outputId": "03699839-094a-447c-dd2f-dccd9099c95d"
   },
   "outputs": [],
   "source": [
    "clf.score(X_test_breast, y_test_breast)"
   ]
  },
  {
   "cell_type": "code",
   "execution_count": null,
   "metadata": {
    "colab": {
     "base_uri": "https://localhost:8080/",
     "height": 68
    },
    "colab_type": "code",
    "id": "QW8fdkSIjW-N",
    "outputId": "89b3b33a-fb3a-4255-b5c0-1842fe4dd139"
   },
   "outputs": [],
   "source": [
    "parameter_grid = {'max_depth': np.arange(3, 20),\n",
    "                  'max_features': np.arange(1, 3),\n",
    "                  \n",
    "                  'n_estimators':np.arange(5,100, 10)}\n",
    "\n",
    "### Your solution\n",
    "#raise NotImplementedError\n",
    "\n",
    "\n",
    "clf_grid = GridSearchCV(RandomForestClassifier(), parameter_grid)\n",
    "\n",
    "clf_grid.fit(X_train_breast, y_train_breast)\n",
    "\n",
    "print (\"Najlepsza dokładność {}\".format(clf_grid.best_score_))\n",
    "print (\"Dobrane parametry: {}\".format(clf_grid.best_params_))\n",
    "print (\"Dokładność na zbiorze testowym {}\".format(clf_grid.best_estimator_.score(X_test_breast, y_test_breast)))"
   ]
  },
  {
   "cell_type": "code",
   "execution_count": null,
   "metadata": {
    "colab": {},
    "colab_type": "code",
    "id": "IlhwyrdQjeIF"
   },
   "outputs": [],
   "source": [
    "train_score = []\n",
    "test_score = []\n",
    "for i in range(1, 50, 2):\n",
    "  clf = RandomForestClassifier(n_estimators=i, max_depth=5)\n",
    "  clf = clf.fit(X_train_breast, y_train_breast)\n",
    "  train_score.append(clf.score(X_train_breast, y_train_breast))\n",
    "  test_score.append(clf.score(X_test_breast,y_test_breast))"
   ]
  },
  {
   "cell_type": "code",
   "execution_count": null,
   "metadata": {
    "colab": {
     "base_uri": "https://localhost:8080/",
     "height": 364
    },
    "colab_type": "code",
    "id": "UaYqoxBomisv",
    "outputId": "d1cf6f64-ada0-4bd8-c3d8-3b5577bf15ff"
   },
   "outputs": [],
   "source": [
    "plt.plot(np.arange(1,50, 2), train_score)\n",
    "plt.plot(np.arange(1,50, 2), test_score)"
   ]
  },
  {
   "cell_type": "code",
   "execution_count": null,
   "metadata": {
    "colab": {},
    "colab_type": "code",
    "id": "ffQK3854mrH_"
   },
   "outputs": [],
   "source": []
  }
 ],
 "metadata": {
  "colab": {
   "collapsed_sections": [],
   "name": "RandomForest.ipynb",
   "provenance": [],
   "version": "0.3.2"
  },
  "kernelspec": {
   "display_name": "Python 3",
   "language": "python",
   "name": "python3"
  },
  "language_info": {
   "codemirror_mode": {
    "name": "ipython",
    "version": 3
   },
   "file_extension": ".py",
   "mimetype": "text/x-python",
   "name": "python",
   "nbconvert_exporter": "python",
   "pygments_lexer": "ipython3",
   "version": "3.6.7"
  }
 },
 "nbformat": 4,
 "nbformat_minor": 1
}
