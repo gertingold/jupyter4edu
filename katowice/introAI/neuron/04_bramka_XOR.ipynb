{
 "cells": [
  {
   "cell_type": "markdown",
   "metadata": {
    "lang": "pl",
    "nbgrader": {
     "grade": false,
     "grade_id": "cell-7060d977dd0523f3",
     "locked": true,
     "schema_version": 3,
     "solution": false
    }
   },
   "source": [
    "# Bramka XOR\n",
    "\n",
    "W tym zadaniu należy nauczyć neuron wyliczać bramkę logiczną XOR. "
   ]
  },
  {
   "cell_type": "markdown",
   "metadata": {
    "lang": "en"
   },
   "source": [
    "# XOR gate\n",
    "\n",
    "In this task, teach the neuron to calculate the XOR logic gate."
   ]
  },
  {
   "cell_type": "code",
   "execution_count": null,
   "metadata": {
    "nbgrader": {
     "grade": false,
     "grade_id": "cell-c0ccb98cada720e5",
     "locked": true,
     "schema_version": 3,
     "solution": false
    }
   },
   "outputs": [],
   "source": [
    "import numpy as np\n",
    "import matplotlib.pyplot as plt\n",
    "%run 01_neuron.ipynb"
   ]
  },
  {
   "cell_type": "code",
   "execution_count": null,
   "metadata": {
    "nbgrader": {
     "grade": false,
     "grade_id": "cell-2a18ea8e5e45e747",
     "locked": false,
     "schema_version": 3,
     "solution": true
    }
   },
   "outputs": [],
   "source": [
    "def Neuron_XOR(neuron, learning_rate, steps):\n",
    "    ### BEGIN SOLUTION\n",
    "    for i in range(steps):\n",
    "        in0 = int(np.random.uniform(0, 2))\n",
    "        in1 = int(np.random.uniform(0, 2))\n",
    "        out = neuron.forward(np.array((in0, in1)))\n",
    "        error = (in0 + in1)%2 - out #XOR\n",
    "        neuron.backward(np.array((error)))\n",
    "        neuron.learn(learning_rate)\n",
    "    ### END SOLUTION\n"
   ]
  },
  {
   "cell_type": "code",
   "execution_count": null,
   "metadata": {},
   "outputs": [],
   "source": [
    "neuron_XOR = Neuron(2)\n",
    "Neuron_XOR(neuron_XOR,0.1,100000)\n",
    "\n",
    "print('weights :', neuron_XOR.weights)\n",
    "print('bias :', neuron_XOR.bias)\n",
    "print(neuron_XOR.forward(np.array((0, 0))))\n",
    "print(neuron_XOR.forward(np.array((0, 1))))\n",
    "print(neuron_XOR.forward(np.array((1, 0))))\n",
    "print(neuron_XOR.forward(np.array((1, 1))))"
   ]
  },
  {
   "cell_type": "code",
   "execution_count": null,
   "metadata": {
    "nbgrader": {
     "grade": false,
     "grade_id": "cell-ab88fa6daba9ed2f",
     "locked": true,
     "schema_version": 3,
     "solution": false
    }
   },
   "outputs": [],
   "source": [
    "size = 100\n",
    "tmp = np.zeros((size,size))\n",
    "for i in range(size):\n",
    "    for j in range(size):\n",
    "        tmp[i][j] = neuron_XOR.forward(np.array((1-i / float(size), j / float(size))))\n",
    "plt.imshow(tmp,extent=[0,1,0,1])\n",
    "plt.colorbar()\n",
    "plt.show()"
   ]
  },
  {
   "cell_type": "markdown",
   "metadata": {
    "lang": "pl",
    "nbgrader": {
     "grade": false,
     "grade_id": "cell-914b52c7b221d629",
     "locked": true,
     "schema_version": 3,
     "solution": false
    }
   },
   "source": [
    "### Wniosek? Pojedynczy neuron nie jest w stanie nauczyć się obliczać wartości bramki XOR"
   ]
  },
  {
   "cell_type": "markdown",
   "metadata": {
    "lang": "en"
   },
   "source": [
    "### Conclusion? A single neuron cannot learn to calculate XOR gate values"
   ]
  },
  {
   "cell_type": "code",
   "execution_count": null,
   "metadata": {},
   "outputs": [],
   "source": []
  }
 ],
 "metadata": {
  "celltoolbar": "Create Assignment",
  "kernelspec": {
   "display_name": "Python 3",
   "language": "python",
   "name": "python3"
  },
  "language_info": {
   "codemirror_mode": {
    "name": "ipython",
    "version": 3
   },
   "file_extension": ".py",
   "mimetype": "text/x-python",
   "name": "python",
   "nbconvert_exporter": "python",
   "pygments_lexer": "ipython3",
   "version": "3.7.3"
  },
  "nbTranslate": {
   "displayLangs": [
    "*"
   ],
   "hotkey": "alt-t",
   "langInMainMenu": true,
   "sourceLang": "pl",
   "targetLang": "en",
   "useGoogleTranslate": true
  }
 },
 "nbformat": 4,
 "nbformat_minor": 2
}
