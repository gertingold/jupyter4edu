{
 "cells": [
  {
   "cell_type": "markdown",
   "metadata": {
    "lang": "pl",
    "nbgrader": {
     "grade": false,
     "grade_id": "cell-7278314649f478d4",
     "locked": true,
     "schema_version": 3,
     "solution": false
    }
   },
   "source": [
    "# Naiwny Bayes\n",
    "\n",
    "Notatnik ten zawiera implementacją naiwnego klasyfikatowa Bayesa wykorzystując bibliotekę `numpy`. Działanie klasyfikatora jest porównane implementacja ``GaussianNB`` w bibliotece `sklearn`."
   ]
  },
  {
   "cell_type": "markdown",
   "metadata": {
    "lang": "en",
    "nbgrader": {
     "grade": false,
     "grade_id": "cell-11987ecad4ef15cf",
     "locked": true,
     "schema_version": 3,
     "solution": false,
     "task": false
    }
   },
   "source": [
    "# Naive Bayes\n",
    "\n",
    "This notebook contains a naive Bayesian implementation using the `numpy` library. Classifier operation is compared to the implementation of `` GaussianNB '' in the library `sklearn`."
   ]
  },
  {
   "cell_type": "markdown",
   "metadata": {
    "lang": "pl",
    "nbgrader": {
     "grade": false,
     "grade_id": "cell-d274df2afba0412f",
     "locked": true,
     "schema_version": 3,
     "solution": false
    }
   },
   "source": [
    "Z twierdzenia Bayesa mamy:\n",
    "\n",
    "$$P(J=j|X=x)=\\frac{P(X=x|J=j)P(J=j)}{\\sum_{j\\in\\{1,\\ldots L\\}}P(X=x|J=j)P(J=j)}$$\n",
    "\n",
    "$$ p_j(x)=\\frac{p_jf_j(x)}{f(x)} $$\n",
    "\n",
    "Wykorzystamy te formuły w budowie klasyfikatora [Bayesa](http://books.icse.us.edu.pl/runestone/static/ai/KlasyfikacjaWOparciuPodobienstwoDoWzorca/OptymalnyKlasyfikatorStatystyczny.html)."
   ]
  },
  {
   "cell_type": "markdown",
   "metadata": {
    "lang": "en",
    "nbgrader": {
     "grade": false,
     "grade_id": "cell-23ee7cce0ba11ed8",
     "locked": true,
     "schema_version": 3,
     "solution": false,
     "task": false
    }
   },
   "source": [
    "From Bayes' theorem we have:\n",
    "\n",
    "$$P(J=j|X=x)=\\frac{P(X=x|J=j)P(J=j)}{\\sum_{j\\in\\{1,\\ldots L\\}}P(X=x|J=j)P(J=j)}$$\n",
    "\n",
    "$$ p_j(x)=\\frac{p_jf_j(x)}{f(x)} $$\n",
    "\n",
    "We will use these formulas in the construction of the [Bayesian] classifier."
   ]
  },
  {
   "cell_type": "code",
   "execution_count": null,
   "metadata": {
    "lang": "pl",
    "nbgrader": {
     "grade": false,
     "grade_id": "cell-e24ef649f8ceeaea",
     "locked": true,
     "schema_version": 3,
     "solution": false
    }
   },
   "outputs": [],
   "source": [
    "import numpy as np \n",
    "from sklearn.naive_bayes import GaussianNB\n",
    "\n",
    "from sklearn.model_selection import train_test_split\n",
    "from sklearn import datasets \n",
    "# dataset import \n",
    "iris = datasets.load_iris()\n",
    "\n",
    "gnb = GaussianNB()\n",
    "\n",
    "X = iris.data\n",
    "\n",
    "y = iris.target\n",
    "y = np.array(y)\n",
    "\n",
    "train, test, train_targets, test_targets = \\\n",
    "   train_test_split(X, y, test_size=0.31)\n",
    "\n",
    "# train \n",
    "clf = gnb.fit(train, train_targets)\n",
    "\n",
    "# Test\n",
    "Z = clf.predict(test)"
   ]
  },
  {
   "cell_type": "code",
   "execution_count": null,
   "metadata": {
    "nbgrader": {
     "grade": false,
     "grade_id": "cell-209959db55a51ec8",
     "locked": true,
     "schema_version": 3,
     "solution": false
    }
   },
   "outputs": [],
   "source": [
    "train.shape,test.shape"
   ]
  },
  {
   "cell_type": "markdown",
   "metadata": {
    "lang": "pl",
    "nbgrader": {
     "grade": false,
     "grade_id": "cell-2f7a775c0c09cef3",
     "locked": true,
     "schema_version": 3,
     "solution": false
    }
   },
   "source": [
    "### Wyznacz unikalne klasy na zbiorze trenującym."
   ]
  },
  {
   "cell_type": "markdown",
   "metadata": {
    "lang": "en"
   },
   "source": [
    "### Determine unique classes on the training set."
   ]
  },
  {
   "cell_type": "code",
   "execution_count": null,
   "metadata": {
    "nbgrader": {
     "grade": false,
     "grade_id": "cell-5dc805642a59d6d9",
     "locked": false,
     "schema_version": 3,
     "solution": true
    }
   },
   "outputs": [],
   "source": [
    "Nlabels = None\n",
    "### BEGIN SOLUTION\n",
    "Nlabels = np.unique(train_targets)\n",
    "Nlabels\n",
    "### END SOLUTION"
   ]
  },
  {
   "cell_type": "code",
   "execution_count": null,
   "metadata": {
    "nbgrader": {
     "grade": true,
     "grade_id": "cell-74b49f95665f4f84",
     "locked": true,
     "points": 1,
     "schema_version": 3,
     "solution": false
    }
   },
   "outputs": [],
   "source": [
    "np.testing.assert_array_equal(Nlabels,np.array([0, 1, 2]))"
   ]
  },
  {
   "cell_type": "markdown",
   "metadata": {
    "lang": "pl",
    "nbgrader": {
     "grade": false,
     "grade_id": "cell-a4e2f30a51821e47",
     "locked": true,
     "schema_version": 3,
     "solution": false
    }
   },
   "source": [
    "### Jaki jest procent poprawych odpowiedzi?\n",
    "\n",
    "Implementacja ``GaussianNB`` daje tę odpowiedź w następujący sposób. Spróbuj otrzymać tą liczbę korzystając wyłącznie z funkcjonalności ``numpy`` i/lub języka Python."
   ]
  },
  {
   "cell_type": "markdown",
   "metadata": {
    "lang": "en"
   },
   "source": [
    "### What is the percentage of correct answers?\n",
    "\n",
    "The implementation of ``GaussianNB`` gives this answer as follows. Try to get this number using only the ``numpy`` functionality and / or Python language."
   ]
  },
  {
   "cell_type": "code",
   "execution_count": null,
   "metadata": {
    "nbgrader": {
     "grade": false,
     "grade_id": "cell-50a2f56b2b152a3b",
     "locked": true,
     "schema_version": 3,
     "solution": false
    }
   },
   "outputs": [],
   "source": [
    "clf.score(test,test_targets)"
   ]
  },
  {
   "cell_type": "code",
   "execution_count": null,
   "metadata": {
    "nbgrader": {
     "grade": false,
     "grade_id": "cell-9e002553d865b165",
     "locked": false,
     "schema_version": 3,
     "solution": true
    }
   },
   "outputs": [],
   "source": [
    "correct = None\n",
    "### BEGIN SOLUTION\n",
    "correct = np.sum(Z==test_targets)/np.size(Z)\n",
    "### END SOLUTION"
   ]
  },
  {
   "cell_type": "code",
   "execution_count": null,
   "metadata": {
    "nbgrader": {
     "grade": true,
     "grade_id": "cell-c05e0f08e67034cc",
     "locked": true,
     "points": 1,
     "schema_version": 3,
     "solution": false
    }
   },
   "outputs": [],
   "source": [
    "assert correct==clf.score(test,test_targets)"
   ]
  },
  {
   "cell_type": "markdown",
   "metadata": {
    "lang": "pl",
    "nbgrader": {
     "grade": false,
     "grade_id": "cell-ade44a6833cad3e1",
     "locked": true,
     "schema_version": 3,
     "solution": false
    }
   },
   "source": [
    "### Które odpowiedzi są złe:"
   ]
  },
  {
   "cell_type": "markdown",
   "metadata": {
    "lang": "en"
   },
   "source": [
    "### Which answers are wrong:"
   ]
  },
  {
   "cell_type": "code",
   "execution_count": null,
   "metadata": {
    "nbgrader": {
     "grade": false,
     "grade_id": "cell-9eec1c682141be83",
     "locked": true,
     "schema_version": 3,
     "solution": false
    }
   },
   "outputs": [],
   "source": [
    "bad_idx = np.where(Z!=test_targets)\n",
    "bad_idx"
   ]
  },
  {
   "cell_type": "markdown",
   "metadata": {
    "lang": "pl",
    "nbgrader": {
     "grade": false,
     "grade_id": "cell-ccc194e47716387d",
     "locked": true,
     "schema_version": 3,
     "solution": false
    }
   },
   "source": [
    "### Parametry klasyfikatora"
   ]
  },
  {
   "cell_type": "markdown",
   "metadata": {
    "lang": "en"
   },
   "source": [
    "### Classifier parameters"
   ]
  },
  {
   "cell_type": "code",
   "execution_count": null,
   "metadata": {
    "nbgrader": {
     "grade": false,
     "grade_id": "cell-579a18cfb3e2077d",
     "locked": true,
     "schema_version": 3,
     "solution": false
    }
   },
   "outputs": [],
   "source": [
    "clf.theta_"
   ]
  },
  {
   "cell_type": "code",
   "execution_count": null,
   "metadata": {
    "nbgrader": {
     "grade": false,
     "grade_id": "cell-d0e1f4ada64f42cf",
     "locked": true,
     "schema_version": 3,
     "solution": false
    }
   },
   "outputs": [],
   "source": [
    "clf.sigma_"
   ]
  },
  {
   "cell_type": "code",
   "execution_count": null,
   "metadata": {
    "nbgrader": {
     "grade": false,
     "grade_id": "cell-a7c54726993462c0",
     "locked": true,
     "schema_version": 3,
     "solution": false
    }
   },
   "outputs": [],
   "source": [
    "ith = 2\n",
    "np.mean(train[train_targets == ith],axis=0)"
   ]
  },
  {
   "cell_type": "code",
   "execution_count": null,
   "metadata": {
    "nbgrader": {
     "grade": false,
     "grade_id": "cell-b15272a3365cbba1",
     "locked": true,
     "schema_version": 3,
     "solution": false
    }
   },
   "outputs": [],
   "source": [
    "np.var(train[train_targets == ith],axis=0)"
   ]
  },
  {
   "cell_type": "markdown",
   "metadata": {
    "lang": "pl",
    "nbgrader": {
     "grade": false,
     "grade_id": "cell-b29360c6e4751399",
     "locked": true,
     "schema_version": 3,
     "solution": false
    }
   },
   "source": [
    "## Implementacja naiwnego klasyfikatora Bayesa\n",
    "\n",
    "**1\\. Oblicz częstość występowania poszczególnych klasy $j$ w zbiorze treningowym $p_{j}$**\n",
    "\n",
    "Jest to prawdopodobieństwo *a priori*."
   ]
  },
  {
   "cell_type": "markdown",
   "metadata": {
    "lang": "en"
   },
   "source": [
    "## Implementation of the naive Bayes classifier\n",
    "\n",
    "**1 \\. Calculate the frequency of individual $j$ classes in the $p_{j}$** train set\n",
    "\n",
    "This is the probability *a priori*."
   ]
  },
  {
   "cell_type": "code",
   "execution_count": null,
   "metadata": {
    "nbgrader": {
     "grade": false,
     "grade_id": "cell-05c1a043d5112990",
     "locked": false,
     "schema_version": 3,
     "solution": true
    }
   },
   "outputs": [],
   "source": [
    "p = None\n",
    "### BEGIN SOLUTION\n",
    "p = [np.sum(train_targets==ith)/train_targets.shape[0] for ith in range(3) ]\n",
    "### END SOLUTION"
   ]
  },
  {
   "cell_type": "code",
   "execution_count": null,
   "metadata": {
    "nbgrader": {
     "grade": true,
     "grade_id": "cell-c380329820017a6d",
     "locked": true,
     "points": 2,
     "schema_version": 3,
     "solution": false
    }
   },
   "outputs": [],
   "source": [
    "np.testing.assert_allclose(p,clf.class_prior_)\n",
    "### BEGIN HIDDEN TESTS\n",
    "np.testing.assert_allclose( gnb.class_count_/np.sum(gnb.class_count_), gnb.class_prior_ )\n",
    "### END HIDDEN TESTS"
   ]
  },
  {
   "cell_type": "markdown",
   "metadata": {
    "lang": "pl",
    "nbgrader": {
     "grade": false,
     "grade_id": "cell-15c3cbe9d927bdc9",
     "locked": true,
     "schema_version": 3,
     "solution": false
    }
   },
   "source": [
    "**2\\. Oblicz wartość średnią dla każdej cechy z każdej klasy.**\n",
    "\n",
    "Niech $\\mu_{ij}$ oznacza  wartość średnią dla $j$-tej zmiennej w $i$-tej klasie, wtedy:\n",
    "   \n",
    "$$ \\mu_{ij} =  \\langle x_j \\rangle_{ \\forall x_j \\in \\;\\mathrm{label} \\;\n",
    "i } $$"
   ]
  },
  {
   "cell_type": "markdown",
   "metadata": {
    "lang": "en"
   },
   "source": [
    "**2 \\. Calculate the average value for each feature in each class.**\n",
    "\n",
    "Let $\\mu_{ij}$ be the average value for $j$ of this variable in $i$ of this class, then:\n",
    "   \n",
    "$$ \\mu_{ij} =  \\langle x_j \\rangle_{ \\forall x_j \\in \\;\\mathrm{label} \\;\n",
    "i } $$"
   ]
  },
  {
   "cell_type": "code",
   "execution_count": null,
   "metadata": {
    "nbgrader": {
     "grade": false,
     "grade_id": "cell-19b53a82e4d25284",
     "locked": false,
     "schema_version": 3,
     "solution": true
    }
   },
   "outputs": [],
   "source": [
    "mu = None\n",
    "### BEGIN SOLUTION\n",
    "mu = np.stack([np.mean(train[train_targets == ith],axis=0) for ith in [0,1,2]])\n",
    "### END SOLUTION"
   ]
  },
  {
   "cell_type": "code",
   "execution_count": null,
   "metadata": {
    "nbgrader": {
     "grade": true,
     "grade_id": "cell-cb6b4c5d617d34cd",
     "locked": true,
     "points": 2,
     "schema_version": 3,
     "solution": false
    }
   },
   "outputs": [],
   "source": [
    "np.testing.assert_allclose(mu,clf.theta_)"
   ]
  },
  {
   "cell_type": "code",
   "execution_count": null,
   "metadata": {},
   "outputs": [],
   "source": [
    "mu.shape"
   ]
  },
  {
   "cell_type": "markdown",
   "metadata": {
    "lang": "pl",
    "nbgrader": {
     "grade": false,
     "grade_id": "cell-92d9cfb4e6218dcf",
     "locked": true,
     "schema_version": 3,
     "solution": false
    }
   },
   "source": [
    "**3\\. Oblicz wariancję $j$-tej zmiennej w $i$-tej klasie.**\n",
    "\n",
    "   $$ \\sigma_{ij}^2 = \\mathrm{Var} [x_j] _ {\\;\\;{ \\forall x_j \\in \\mathrm{class}\\; i}} $$"
   ]
  },
  {
   "cell_type": "markdown",
   "metadata": {
    "lang": "en"
   },
   "source": [
    "**3 \\. Calculate the variance of $j$ of this variable in $i$ of this class.**\n",
    "\n",
    "   $$ \\sigma_{ij}^2 = \\mathrm{Var} [x_j] _ {\\;\\;{ \\forall x_j \\in \\mathrm{class}\\; i}} $$"
   ]
  },
  {
   "cell_type": "code",
   "execution_count": null,
   "metadata": {
    "nbgrader": {
     "grade": false,
     "grade_id": "cell-44ba370db5358650",
     "locked": false,
     "schema_version": 3,
     "solution": true
    }
   },
   "outputs": [],
   "source": [
    "sigma2 = None\n",
    "### BEGIN SOLUTION\n",
    "sigma2 = np.stack([np.var(train[train_targets == ith],axis=0) for ith in [0,1,2]])\n",
    "### END SOLUTION"
   ]
  },
  {
   "cell_type": "code",
   "execution_count": null,
   "metadata": {
    "nbgrader": {
     "grade": true,
     "grade_id": "cell-2d5307ed0a70d2fd",
     "locked": true,
     "points": 2,
     "schema_version": 3,
     "solution": false
    }
   },
   "outputs": [],
   "source": [
    "np.testing.assert_almost_equal(sigma2,clf.sigma_)"
   ]
  },
  {
   "cell_type": "markdown",
   "metadata": {
    "lang": "pl",
    "nbgrader": {
     "grade": false,
     "grade_id": "cell-aa5aa9b8e9609672",
     "locked": true,
     "schema_version": 3,
     "solution": false
    }
   },
   "source": [
    "**4\\. Oblicz prawdopodobieństwo *a posteriori* klasy $i$ dla danego wektora zmiennych  $\\mathbf{x}$.**\n",
    "\n",
    "Niech $k$ oznacza liczbę cech (zmiennych). W naszym przypadku mamy $k=4$.\n",
    "\n",
    "Dla $i$-tej klasy mamy:\n",
    "\n",
    "\n",
    "$$ P_i(\\mathbf{x}) \\simeq p_i f_i = p_i \\frac{1}{\\sqrt{(2\\pi)^k\\Pi_{j=1}^k\\sigma_{ij}^2} } e^{ -\\displaystyle\\sum_{j=1}^{k}\\frac{(x_j-\\mu_{ij})^2}{2\\sigma_{ij}^2} }\n",
    " $$\n",
    " \n",
    "By otrzymać prawdopodobieństwa należy unormować $P_i$ dla każdego przypadku tak by suma $\\sum_i P_i(\\mathbf{x})=1$"
   ]
  },
  {
   "cell_type": "markdown",
   "metadata": {
    "lang": "en"
   },
   "source": [
    "**4 \\. Calculate the * a posteriori * probability of the $i$ class for a given vector of $\\mathbf{x}$.** variables\n",
    "\n",
    "Let $k$ denote the number of features (variables). In our case, we have $k=4$.\n",
    "\n",
    "For $i$ this class we have:\n",
    "\n",
    "\n",
    "$$ P_i(\\mathbf{x}) \\simeq p_i f_i = p_i \\frac{1}{\\sqrt{(2\\pi)^k\\Pi_{j=1}^k\\sigma_{ij}^2} } e^{ -\\displaystyle\\sum_{j=1}^{k}\\frac{(x_j-\\mu_{ij})^2}{2\\sigma_{ij}^2} }\n",
    " $$\n",
    " \n",
    "To obtain probabilities, $P_i$ should be normalized for each case so that the sum of $\\sum_i P_i(\\mathbf{x})=1$"
   ]
  },
  {
   "cell_type": "code",
   "execution_count": null,
   "metadata": {
    "nbgrader": {
     "grade": false,
     "grade_id": "cell-d5a9a351f9292775",
     "locked": false,
     "schema_version": 3,
     "solution": true
    }
   },
   "outputs": [],
   "source": [
    "x  = test\n",
    "P = None\n",
    "k = test.shape[1] \n",
    "\n",
    "print ('number of features: k=',k)\n",
    "### BEGIN SOLUTION\n",
    "# single loop\n",
    "P = np.stack( [p[ith]*1/np.sqrt( (2*np.pi)**k * np.prod(sigma2[ith])) * \\\n",
    "               np.exp( - 1/2.0* np.sum( (x-mu[ith])*(x-mu[ith])/sigma2[ith],axis=1 ) ) \\\n",
    "               for ith in range(3)]).T\n",
    "# no loop\n",
    "P = p/np.sqrt( (2*np.pi)**k * np.prod(sigma2,axis=1)) *\\\n",
    "  np.exp(-0.5*np.sum( (x[:,np.newaxis,:]-mu[np.newaxis,:,:])**2/sigma2[np.newaxis,:,:],axis=2) )\n",
    "\n",
    "P = P/np.sum(P,axis=1)[:,np.newaxis]\n",
    "### END SOLUTION"
   ]
  },
  {
   "cell_type": "code",
   "execution_count": null,
   "metadata": {},
   "outputs": [],
   "source": [
    "sigma2.shape,x.shape,P.shape,np.unique(test_targets)"
   ]
  },
  {
   "cell_type": "code",
   "execution_count": null,
   "metadata": {
    "nbgrader": {
     "grade": true,
     "grade_id": "cell-8890f9bbc94e3376",
     "locked": true,
     "points": 4,
     "schema_version": 3,
     "solution": false
    }
   },
   "outputs": [],
   "source": [
    "np.testing.assert_almost_equal(P,clf.predict_proba(x))"
   ]
  },
  {
   "cell_type": "markdown",
   "metadata": {
    "lang": "pl",
    "nbgrader": {
     "grade": false,
     "grade_id": "cell-b351fae0fb4da98e",
     "locked": true,
     "schema_version": 3,
     "solution": false
    }
   },
   "source": [
    "**5\\. Wyznacz klasę dla której prawdopodobieństwo *a posteriori* jest największe** \n",
    "\n",
    " $i$ : $\\quad\\textrm{ gdy } P_i(x)=\\max_{1\\leq j\\leq L} P_j(x)$\n"
   ]
  },
  {
   "cell_type": "markdown",
   "metadata": {
    "lang": "en"
   },
   "source": [
    "**5 \\. Determine the class for which the * a posteriori * probability is the highest**\n",
    "\n",
    " $i$: $\\quad\\textrm{ gdy } P_i(x)=\\max_{1\\leq j\\leq L} P_j(x)$"
   ]
  },
  {
   "cell_type": "code",
   "execution_count": null,
   "metadata": {
    "nbgrader": {
     "grade": false,
     "grade_id": "cell-c19c296ed9d5d9be",
     "locked": false,
     "schema_version": 3,
     "solution": true
    }
   },
   "outputs": [],
   "source": [
    "prediction = None\n",
    "### BEGIN SOLUTION\n",
    "prediction = np.argmax(P,axis=1)\n",
    "### END SOLUTION"
   ]
  },
  {
   "cell_type": "code",
   "execution_count": null,
   "metadata": {
    "nbgrader": {
     "grade": true,
     "grade_id": "cell-8cfa7cdc5a2ae1d9",
     "locked": true,
     "points": 3,
     "schema_version": 3,
     "solution": false
    }
   },
   "outputs": [],
   "source": [
    "np.testing.assert_equal( prediction, clf.predict(test))"
   ]
  },
  {
   "cell_type": "code",
   "execution_count": null,
   "metadata": {
    "nbgrader": {
     "grade": false,
     "grade_id": "cell-972fc5023d20f3f2",
     "locked": true,
     "schema_version": 3,
     "solution": false
    }
   },
   "outputs": [],
   "source": [
    "print(clf.predict(test) )\n",
    "print(prediction)"
   ]
  },
  {
   "cell_type": "code",
   "execution_count": null,
   "metadata": {},
   "outputs": [],
   "source": [
    "clf.score(test,test_targets)"
   ]
  }
 ],
 "metadata": {
  "celltoolbar": "Create Assignment",
  "kernelspec": {
   "display_name": "Python 3",
   "language": "python",
   "name": "python3"
  },
  "language_info": {
   "codemirror_mode": {
    "name": "ipython",
    "version": 3
   },
   "file_extension": ".py",
   "mimetype": "text/x-python",
   "name": "python",
   "nbconvert_exporter": "python",
   "pygments_lexer": "ipython3",
   "version": "3.7.3"
  },
  "nbTranslate": {
   "displayLangs": [
    "pl",
    "en"
   ],
   "hotkey": "alt-t",
   "langInMainMenu": true,
   "sourceLang": "pl",
   "targetLang": "en",
   "useGoogleTranslate": true
  }
 },
 "nbformat": 4,
 "nbformat_minor": 2
}
