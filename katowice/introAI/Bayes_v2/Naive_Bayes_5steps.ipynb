{
 "cells": [
  {
   "cell_type": "markdown",
   "metadata": {},
   "source": [
    "# Podstawy Sztucznej Inteligencji 2017/2018\n",
    "\n"
   ]
  },
  {
   "cell_type": "markdown",
   "metadata": {},
   "source": [
    "Prosze uzupelnic kod tam gdzie znajduje napis `YOUR CODE HERE` lub 'YOUR ANSWER HERE'.\n",
    "\n",
    "Warto zresetowac 'kernel' i sprawdzic czy caly notatnik uruchamiany od poczatku nie daje bledow."
   ]
  },
  {
   "cell_type": "code",
   "execution_count": null,
   "metadata": {},
   "outputs": [],
   "source": []
  },
  {
   "cell_type": "markdown",
   "metadata": {},
   "source": [
    "---"
   ]
  },
  {
   "cell_type": "markdown",
   "metadata": {
    "deletable": false,
    "editable": false,
    "nbgrader": {
     "checksum": "f840c08e73a4a9566dbb0e056137e623",
     "grade": false,
     "grade_id": "cell-7278314649f478d4",
     "locked": true,
     "schema_version": 1,
     "solution": false
    }
   },
   "source": [
    "## Naiwny Bayes\n",
    "\n",
    "Notatnik ten zawiera implementacją naiwnego klasyfikatowa Bayesa w numpy z porównaniem owyników z klasą ``GaussianNB`` z biblioteki `sklearn`."
   ]
  },
  {
   "cell_type": "markdown",
   "metadata": {
    "deletable": false,
    "editable": false,
    "nbgrader": {
     "checksum": "9357d58198e2ea371520588655192e9d",
     "grade": false,
     "grade_id": "cell-d274df2afba0412f",
     "locked": true,
     "schema_version": 1,
     "solution": false
    }
   },
   "source": [
    "Z twierdzenia Bayesa mamy:\n",
    "\n",
    "$$P(J=j|X=x)=\\frac{P(X=x|J=j)P(J=j)}{\\sum_{j\\in\\{1,\\ldots L\\}}P(X=x|J=j)P(J=j)}$$\n",
    "$$ p_j(x)=\\frac{p_jf_j(x)}{f(x)} $$\n",
    "\n",
    "Wykorzystamy te formuły w budowie klasyfikatora [Bayesa](http://books.icse.us.edu.pl/runestone/static/ai/KlasyfikacjaWOparciuPodobienstwoDoWzorca/OptymalnyKlasyfikatorStatystyczny.html)."
   ]
  },
  {
   "cell_type": "code",
   "execution_count": null,
   "metadata": {
    "deletable": false,
    "editable": false,
    "nbgrader": {
     "checksum": "04a69f14a4c15865de0283eb07ecba88",
     "grade": false,
     "grade_id": "cell-e24ef649f8ceeaea",
     "locked": true,
     "schema_version": 1,
     "solution": false
    }
   },
   "outputs": [],
   "source": [
    "import numpy as np \n",
    "from sklearn.naive_bayes import GaussianNB\n",
    "from sklearn.model_selection import train_test_split\n",
    "from sklearn import datasets \n",
    "#importujemy zbiór danych\n",
    "iris = datasets.load_iris()\n",
    "\n",
    "gnb = GaussianNB()\n",
    "\n",
    "#Zbiór obiektów\n",
    "X = iris.data\n",
    "\n",
    "#Wektor poprawnej klasyfikacji obiektów\n",
    "y = iris.target\n",
    "y = np.array(y)\n",
    "\n",
    "#Dzielimy losowo zbiór na dwie części\n",
    "train, test, train_targets, test_targets = train_test_split(X, y,\n",
    "                                 test_size=0.31)\n",
    "\n",
    "#Uczymy klasyfikator\n",
    "clf = gnb.fit(train, train_targets)\n",
    "\n",
    "#Testujemy\n",
    "Z = clf.predict(test)"
   ]
  },
  {
   "cell_type": "code",
   "execution_count": null,
   "metadata": {
    "deletable": false,
    "editable": false,
    "nbgrader": {
     "checksum": "52c97d4d7605f5d9a127ec82e6ace452",
     "grade": false,
     "grade_id": "cell-209959db55a51ec8",
     "locked": true,
     "schema_version": 1,
     "solution": false
    }
   },
   "outputs": [],
   "source": [
    "train.shape,test.shape"
   ]
  },
  {
   "cell_type": "markdown",
   "metadata": {
    "deletable": false,
    "editable": false,
    "nbgrader": {
     "checksum": "9ad5b4761531e2ec932f46e75024296f",
     "grade": false,
     "grade_id": "cell-2f7a775c0c09cef3",
     "locked": true,
     "schema_version": 1,
     "solution": false
    }
   },
   "source": [
    "### Wyznacz unikalne klasy na zbiorze trenującym."
   ]
  },
  {
   "cell_type": "code",
   "execution_count": null,
   "metadata": {
    "deletable": false,
    "nbgrader": {
     "checksum": "afc82c851ccab7c38491d5225ff07559",
     "grade": false,
     "grade_id": "cell-5dc805642a59d6d9",
     "locked": false,
     "schema_version": 1,
     "solution": true
    }
   },
   "outputs": [],
   "source": [
    "Nlabels = None\n",
    "# YOUR CODE HERE\n",
    "raise NotImplementedError()"
   ]
  },
  {
   "cell_type": "code",
   "execution_count": null,
   "metadata": {
    "deletable": false,
    "editable": false,
    "nbgrader": {
     "checksum": "3b430ee0c44c98d38cd591e5cd799e38",
     "grade": true,
     "grade_id": "cell-74b49f95665f4f84",
     "locked": true,
     "points": 1,
     "schema_version": 1,
     "solution": false
    }
   },
   "outputs": [],
   "source": [
    "np.testing.assert_array_equal(Nlabels,np.array([0, 1, 2]))"
   ]
  },
  {
   "cell_type": "markdown",
   "metadata": {
    "deletable": false,
    "editable": false,
    "nbgrader": {
     "checksum": "675c75f4298650fa395d6c00fdceb115",
     "grade": false,
     "grade_id": "cell-a4e2f30a51821e47",
     "locked": true,
     "schema_version": 1,
     "solution": false
    }
   },
   "source": [
    "### Jaki jest procent poprawych odpowiedzi?\n",
    "\n",
    "Implementacja ``GaussianNB`` daje tą odpowiedz w następujący sposób:"
   ]
  },
  {
   "cell_type": "code",
   "execution_count": null,
   "metadata": {
    "deletable": false,
    "editable": false,
    "nbgrader": {
     "checksum": "466e482e9ae76aae43c4f78e4546c6d0",
     "grade": false,
     "grade_id": "cell-50a2f56b2b152a3b",
     "locked": true,
     "schema_version": 1,
     "solution": false
    }
   },
   "outputs": [],
   "source": [
    "clf.score(test,test_targets)"
   ]
  },
  {
   "cell_type": "code",
   "execution_count": null,
   "metadata": {
    "deletable": false,
    "nbgrader": {
     "checksum": "b91f50da8abb78149914705d49c7c380",
     "grade": false,
     "grade_id": "cell-9e002553d865b165",
     "locked": false,
     "schema_version": 1,
     "solution": true
    }
   },
   "outputs": [],
   "source": [
    "correct = None\n",
    "# YOUR CODE HERE\n",
    "raise NotImplementedError()"
   ]
  },
  {
   "cell_type": "code",
   "execution_count": null,
   "metadata": {
    "deletable": false,
    "editable": false,
    "nbgrader": {
     "checksum": "75672d1bab34b61712ba9a245c613e87",
     "grade": true,
     "grade_id": "cell-c05e0f08e67034cc",
     "locked": true,
     "points": 1,
     "schema_version": 1,
     "solution": false
    }
   },
   "outputs": [],
   "source": [
    "assert correct==clf.score(test,test_targets)"
   ]
  },
  {
   "cell_type": "markdown",
   "metadata": {
    "deletable": false,
    "editable": false,
    "nbgrader": {
     "checksum": "9f664d5770d8970f714eda00c6ca3277",
     "grade": false,
     "grade_id": "cell-ade44a6833cad3e1",
     "locked": true,
     "schema_version": 1,
     "solution": false
    }
   },
   "source": [
    "### Które odpowiedzi są złe:"
   ]
  },
  {
   "cell_type": "code",
   "execution_count": null,
   "metadata": {
    "deletable": false,
    "editable": false,
    "nbgrader": {
     "checksum": "964e5fe505eb5fec2b6ef7c497edfe62",
     "grade": false,
     "grade_id": "cell-9eec1c682141be83",
     "locked": true,
     "schema_version": 1,
     "solution": false
    }
   },
   "outputs": [],
   "source": [
    "bad_idx = np.where(Z!=test_targets)\n",
    "bad_idx"
   ]
  },
  {
   "cell_type": "markdown",
   "metadata": {
    "deletable": false,
    "editable": false,
    "nbgrader": {
     "checksum": "9ebb26363478be1183551910f7f668d1",
     "grade": false,
     "grade_id": "cell-ccc194e47716387d",
     "locked": true,
     "schema_version": 1,
     "solution": false
    }
   },
   "source": [
    "### Parametry klasyfikatora"
   ]
  },
  {
   "cell_type": "code",
   "execution_count": null,
   "metadata": {
    "deletable": false,
    "editable": false,
    "nbgrader": {
     "checksum": "1f6969e4b4c868ee8919b3df136e05e0",
     "grade": false,
     "grade_id": "cell-579a18cfb3e2077d",
     "locked": true,
     "schema_version": 1,
     "solution": false
    }
   },
   "outputs": [],
   "source": [
    "clf.theta_"
   ]
  },
  {
   "cell_type": "code",
   "execution_count": null,
   "metadata": {
    "deletable": false,
    "editable": false,
    "nbgrader": {
     "checksum": "baa69066109523fceed653994fba7ecf",
     "grade": false,
     "grade_id": "cell-d0e1f4ada64f42cf",
     "locked": true,
     "schema_version": 1,
     "solution": false
    }
   },
   "outputs": [],
   "source": [
    "clf.sigma_"
   ]
  },
  {
   "cell_type": "code",
   "execution_count": null,
   "metadata": {
    "deletable": false,
    "editable": false,
    "nbgrader": {
     "checksum": "2e5079ab071112e1f9edb4458e9ff512",
     "grade": false,
     "grade_id": "cell-a7c54726993462c0",
     "locked": true,
     "schema_version": 1,
     "solution": false
    }
   },
   "outputs": [],
   "source": [
    "ith = 2\n",
    "np.mean(train[train_targets == ith],axis=0)"
   ]
  },
  {
   "cell_type": "code",
   "execution_count": null,
   "metadata": {
    "deletable": false,
    "editable": false,
    "nbgrader": {
     "checksum": "ec56c8bb70df01b33a36db74b3e8367e",
     "grade": false,
     "grade_id": "cell-b15272a3365cbba1",
     "locked": true,
     "schema_version": 1,
     "solution": false
    }
   },
   "outputs": [],
   "source": [
    "np.var(train[train_targets == ith],axis=0)"
   ]
  },
  {
   "cell_type": "markdown",
   "metadata": {
    "deletable": false,
    "editable": false,
    "nbgrader": {
     "checksum": "d2434a5effe9e8701c8a9c239adccd57",
     "grade": false,
     "grade_id": "cell-b29360c6e4751399",
     "locked": true,
     "schema_version": 1,
     "solution": false
    }
   },
   "source": [
    "### Implementacja naiwnego klasyfikatora Bayesa\n",
    "\n",
    "**1\\. Oblicz częstość występowania poszczególnych klasy $j$ w zbiorze testowym $p_{j}$**\n",
    "\n",
    "Jest to prawdopodobieństwo *a priori*."
   ]
  },
  {
   "cell_type": "code",
   "execution_count": null,
   "metadata": {
    "deletable": false,
    "nbgrader": {
     "checksum": "521fadca7c5ed9d92242784f7bb451ea",
     "grade": false,
     "grade_id": "cell-05c1a043d5112990",
     "locked": false,
     "schema_version": 1,
     "solution": true
    }
   },
   "outputs": [],
   "source": [
    "p = None\n",
    "# YOUR CODE HERE\n",
    "raise NotImplementedError()"
   ]
  },
  {
   "cell_type": "code",
   "execution_count": null,
   "metadata": {
    "deletable": false,
    "editable": false,
    "nbgrader": {
     "checksum": "31c252fb2de16920223159018e021f1d",
     "grade": true,
     "grade_id": "cell-c380329820017a6d",
     "locked": true,
     "points": 2,
     "schema_version": 1,
     "solution": false
    }
   },
   "outputs": [],
   "source": [
    "np.testing.assert_allclose(p,clf.class_prior_)\n",
    "### BEGIN HIDDEN TEST\n",
    "np.testing.assert_allclose( gnb.class_count_/np.sum(gnb.class_count_), gnb.class_prior_ )\n",
    "### END HIDDEN TEST"
   ]
  },
  {
   "cell_type": "markdown",
   "metadata": {
    "deletable": false,
    "editable": false,
    "nbgrader": {
     "checksum": "c3206ccba710940bdaa7e2721f7c1b36",
     "grade": false,
     "grade_id": "cell-15c3cbe9d927bdc9",
     "locked": true,
     "schema_version": 1,
     "solution": false
    }
   },
   "source": [
    "**2\\. Oblicz wartość średnią dla każdej cechy z każdej klasy. **\n",
    "\n",
    "Niech $\\mu_{ij}$ oznacza  wartość średnią dla $j$-tej zmiennej w $i$-tej klasie, wtedy:\n",
    "   \n",
    "$$ \\mu_{ij} =  \\langle x_j \\rangle_{ \\forall x_j \\in \\;\\mathrm{label} \\;\n",
    "i } $$"
   ]
  },
  {
   "cell_type": "code",
   "execution_count": null,
   "metadata": {
    "deletable": false,
    "nbgrader": {
     "checksum": "3f4738a7027f300b00e1320e8d6169c8",
     "grade": false,
     "grade_id": "cell-19b53a82e4d25284",
     "locked": false,
     "schema_version": 1,
     "solution": true
    }
   },
   "outputs": [],
   "source": [
    "mu = None\n",
    "# YOUR CODE HERE\n",
    "raise NotImplementedError()"
   ]
  },
  {
   "cell_type": "code",
   "execution_count": null,
   "metadata": {
    "deletable": false,
    "editable": false,
    "nbgrader": {
     "checksum": "c1641053245a15ac128b487817f09cc0",
     "grade": true,
     "grade_id": "cell-cb6b4c5d617d34cd",
     "locked": true,
     "points": 2,
     "schema_version": 1,
     "solution": false
    }
   },
   "outputs": [],
   "source": [
    "np.testing.assert_allclose(mu,clf.theta_)"
   ]
  },
  {
   "cell_type": "markdown",
   "metadata": {
    "deletable": false,
    "editable": false,
    "nbgrader": {
     "checksum": "94759f631eaafff5956da2ced8e79afa",
     "grade": false,
     "grade_id": "cell-92d9cfb4e6218dcf",
     "locked": true,
     "schema_version": 1,
     "solution": false
    }
   },
   "source": [
    "**3\\. Oblicz wariancje $j$-tej zmiennej w $i$-tej klasie. **\n",
    "\n",
    "   $$ \\sigma_{ij}^2 = \\mathrm{Var} [x_j] _ {\\;\\;{ \\forall x_j \\in \\mathrm{class}\\; i}} $$"
   ]
  },
  {
   "cell_type": "code",
   "execution_count": null,
   "metadata": {
    "deletable": false,
    "nbgrader": {
     "checksum": "12c1060a60f72f57629d24fcd2639518",
     "grade": false,
     "grade_id": "cell-44ba370db5358650",
     "locked": false,
     "schema_version": 1,
     "solution": true
    }
   },
   "outputs": [],
   "source": [
    "sigma2 = None\n",
    "# YOUR CODE HERE\n",
    "raise NotImplementedError()"
   ]
  },
  {
   "cell_type": "code",
   "execution_count": null,
   "metadata": {
    "deletable": false,
    "editable": false,
    "nbgrader": {
     "checksum": "d4b4452f126df5a071b3649124ca1790",
     "grade": true,
     "grade_id": "cell-2d5307ed0a70d2fd",
     "locked": true,
     "points": 2,
     "schema_version": 1,
     "solution": false
    }
   },
   "outputs": [],
   "source": [
    "np.testing.assert_almost_equal(sigma2,clf.sigma_)"
   ]
  },
  {
   "cell_type": "markdown",
   "metadata": {
    "deletable": false,
    "editable": false,
    "nbgrader": {
     "checksum": "ac085e5952eed680a44aa5fa227fa08c",
     "grade": false,
     "grade_id": "cell-aa5aa9b8e9609672",
     "locked": true,
     "schema_version": 1,
     "solution": false
    }
   },
   "source": [
    "**4\\. Oblicz prawdopodobieństwo *a posteriori* klasy $i$ dla danego wektora zmiennych \n",
    "$\\mathbf{x}$. **\n",
    "\n",
    "Niech $k$ oznacza liczbę cech (zmiennych), to dla $i$-tej klasy mamy:\n",
    "\n",
    "\n",
    "$$ P_i(\\mathbf{x}) = p_i f_i = p_i \\frac{1}{\\sqrt{(2\\pi)^k\\Pi_{j=1}^k\\sigma_{ij}^2} } e^{ -\\displaystyle\\sum_{j=1}^{k}\\frac{(x_j-\\mu_{ij})^2}{2\\sigma_j^2} }\n",
    " $$\n",
    " \n",
    "Należy unormować $p_i$ dla każdego przypadku tak by suma $\\sum_i p_i(\\mathbf{x})=1$"
   ]
  },
  {
   "cell_type": "code",
   "execution_count": null,
   "metadata": {
    "deletable": false,
    "nbgrader": {
     "checksum": "6e2f1a7e597068c1dd781906b6ba9b90",
     "grade": false,
     "grade_id": "cell-d5a9a351f9292775",
     "locked": false,
     "schema_version": 1,
     "solution": true
    }
   },
   "outputs": [],
   "source": [
    "x  = test\n",
    "P = None\n",
    "n = test.shape[1] # number of features\n",
    "# YOUR CODE HERE\n",
    "raise NotImplementedError()"
   ]
  },
  {
   "cell_type": "code",
   "execution_count": null,
   "metadata": {
    "deletable": false,
    "editable": false,
    "nbgrader": {
     "checksum": "6a3ddd8477975546db9d6fd21bcbbb0b",
     "grade": true,
     "grade_id": "cell-8890f9bbc94e3376",
     "locked": true,
     "points": 4,
     "schema_version": 1,
     "solution": false
    }
   },
   "outputs": [],
   "source": [
    "np.testing.assert_almost_equal(P,clf.predict_proba(x))"
   ]
  },
  {
   "cell_type": "markdown",
   "metadata": {
    "deletable": false,
    "editable": false,
    "nbgrader": {
     "checksum": "faa6cc7915e990e9199962313f15188b",
     "grade": false,
     "grade_id": "cell-b351fae0fb4da98e",
     "locked": true,
     "schema_version": 1,
     "solution": false
    }
   },
   "source": [
    "**5\\. Wyznacz klasę dla której prawdopodobieństwo *a posteriori* jest największe** \n",
    "\n",
    " $i$ : $\\quad\\textrm{ gdy } P_i(x)=\\max_{1\\leq j\\leq L} P_j(x)$\n"
   ]
  },
  {
   "cell_type": "code",
   "execution_count": null,
   "metadata": {
    "deletable": false,
    "nbgrader": {
     "checksum": "29fbd7d3999ed0b4d64e5b4155943a39",
     "grade": false,
     "grade_id": "cell-c19c296ed9d5d9be",
     "locked": false,
     "schema_version": 1,
     "solution": true
    }
   },
   "outputs": [],
   "source": [
    "prediction = None\n",
    "# YOUR CODE HERE\n",
    "raise NotImplementedError()"
   ]
  },
  {
   "cell_type": "code",
   "execution_count": null,
   "metadata": {
    "deletable": false,
    "editable": false,
    "nbgrader": {
     "checksum": "9f05224b70b541b0eca47e592b3f0aa7",
     "grade": true,
     "grade_id": "cell-8cfa7cdc5a2ae1d9",
     "locked": true,
     "points": 3,
     "schema_version": 1,
     "solution": false
    }
   },
   "outputs": [],
   "source": [
    "np.testing.assert_equal( prediction, clf.predict(test))"
   ]
  },
  {
   "cell_type": "code",
   "execution_count": null,
   "metadata": {
    "deletable": false,
    "editable": false,
    "nbgrader": {
     "checksum": "1bcfe4b7889550374dd0976262645233",
     "grade": false,
     "grade_id": "cell-972fc5023d20f3f2",
     "locked": true,
     "schema_version": 1,
     "solution": false
    }
   },
   "outputs": [],
   "source": [
    "print(clf.predict(test) )\n",
    "print(prediction)"
   ]
  },
  {
   "cell_type": "code",
   "execution_count": null,
   "metadata": {},
   "outputs": [],
   "source": []
  }
 ],
 "metadata": {
  "kernelspec": {
   "display_name": "Python 3",
   "language": "python",
   "name": "python3"
  },
  "language_info": {
   "codemirror_mode": {
    "name": "ipython",
    "version": 3
   },
   "file_extension": ".py",
   "mimetype": "text/x-python",
   "name": "python",
   "nbconvert_exporter": "python",
   "pygments_lexer": "ipython3",
   "version": "3.6.5"
  }
 },
 "nbformat": 4,
 "nbformat_minor": 2
}
