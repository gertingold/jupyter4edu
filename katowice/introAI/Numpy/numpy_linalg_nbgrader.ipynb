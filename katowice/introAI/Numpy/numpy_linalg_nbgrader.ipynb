{
 "cells": [
  {
   "cell_type": "markdown",
   "metadata": {
    "lang": "pl",
    "nbgrader": {
     "grade": false,
     "grade_id": "cell-6c1f2751cafbd1c1",
     "locked": true,
     "schema_version": 3,
     "solution": false
    }
   },
   "source": [
    "## Iloczyn skalarny\n",
    "\n",
    "Mając wektory $n$-elementowe $\\mathbf{a}$ i $\\mathbf{b}$ napisać funkcję obliczającą ich iloczyn skalarny:\n",
    "\n",
    "$$s =\\mathbf{a}\\cdot \\mathbf{b} =  \\sum_{i=1}^{n} a_i b_i $$ \n",
    "\n",
    " - za pomocą iteracji po elementach\n",
    " - używając funkcjonalności `numpy`"
   ]
  },
  {
   "cell_type": "markdown",
   "metadata": {
    "lang": "en",
    "nbgrader": {
     "grade": false,
     "grade_id": "cell-83dcaac9754cea2d",
     "locked": true,
     "schema_version": 3,
     "solution": false,
     "task": false
    }
   },
   "source": [
    "## Scalar product\n",
    "\n",
    "Having $n$-element vectors $\\mathbf{a}$ and $\\mathbf{b}$ write a function that calculates their scalar product:\n",
    "\n",
    "$$s =\\mathbf{a}\\cdot \\mathbf{b} =  \\sum_{i=1}^{n} a_i b_i $$\n",
    "\n",
    " - using iteration over elements\n",
    " - using the `numpy` functionality"
   ]
  },
  {
   "cell_type": "code",
   "execution_count": null,
   "metadata": {},
   "outputs": [],
   "source": [
    "import numpy as np"
   ]
  },
  {
   "cell_type": "code",
   "execution_count": null,
   "metadata": {
    "nbgrader": {
     "grade": false,
     "grade_id": "cell-06e5e3a8f5681458",
     "locked": false,
     "schema_version": 3,
     "solution": true
    }
   },
   "outputs": [],
   "source": [
    "def s1(a,b):\n",
    "    ### BEGIN SOLUTION\n",
    "    if(len(a) != len(b)):\n",
    "        raise ValueError(\"Given vectors should have the same length!.\")\n",
    "    return sum([i*j for i,j in zip(a,b)])\n",
    "    ### END SOLUTION\n",
    "\n",
    "def s2(a,b):\n",
    "    ### BEGIN SOLUTION\n",
    "    return np.dot(a,b)\n",
    "    ### END SOLUTION"
   ]
  },
  {
   "cell_type": "code",
   "execution_count": null,
   "metadata": {
    "nbgrader": {
     "grade": true,
     "grade_id": "cell-96f566befa6dfa4f",
     "locked": true,
     "points": 4,
     "schema_version": 3,
     "solution": false
    }
   },
   "outputs": [],
   "source": [
    "assert s1([1,1,1,1],[1,1,1,1]) == 4 \n",
    "assert s2([1,1,1,1],[1,1,1,1]) == 4\n",
    "assert np.isscalar(s2([1,1,1,1],[1,1,1,1]))\n",
    "assert np.isscalar(s1([1,1,1,1],[1,1,1,1]))\n",
    "assert s2([7,7,7],[7,7,7]) == 147\n",
    "assert s1([7,7,7],[7,7,7]) == 147\n",
    "### BEGIN HIDDEN TESTS\n",
    "assert s1([1,3,7],[7,3,1]) == 23\n",
    "assert s2([1,3,7],[7,3,1]) == 23\n",
    "### END HIDDEN TESTS"
   ]
  },
  {
   "cell_type": "markdown",
   "metadata": {
    "lang": "pl",
    "nbgrader": {
     "grade": false,
     "grade_id": "cell-2b11edc1df47f26a",
     "locked": true,
     "schema_version": 3,
     "solution": false
    }
   },
   "source": [
    "## Mnożenie macierzy przez wektor:\n",
    "\n",
    "Mając wektor $n$-elementowy $\\mathbf{x}$ oraz macierz $\\mathbf{A}$ o wymiarach $m\\times n$ napisać funkcję obliczającą ich iloczyn:\n",
    "\n",
    "$$\\mathbf{y}= \\mathbf{A}\\mathbf{x}.$$\n",
    "\n",
    "Każdy element wektora $\\mathbf{y}$ jest dany przez:\n",
    "\n",
    "$$y_i = \\sum_{j=1}^{n} a_{ij} x_j $$ \n",
    "\n",
    " - za pomocą iteracji po elementach (podwójna pętla)\n",
    " - korzystając z faktu, że\n",
    " każdy element wektora $y_i$ jest iloczynem skalarnym $i$-tego rzędu macierzy $\\mathbf A$ oraz wektora $\\mathbf{x}$ (pojedyncza pętla)\n",
    " - używając funkcji:  `np.dot` lub `np.tensordot` (bez pętli)\n"
   ]
  },
  {
   "cell_type": "markdown",
   "metadata": {
    "lang": "en",
    "nbgrader": {
     "grade": false,
     "grade_id": "cell-a217a6bd64746ad5",
     "locked": true,
     "schema_version": 3,
     "solution": false,
     "task": false
    }
   },
   "source": [
    "## Multiplying a matrix by a vector:\n",
    "\n",
    "With the $n$-element vector $\\mathbf{x}$ and the $\\mathbf{A}$ matrix with $m\\times n$ dimensions write a function that calculates their product:\n",
    "\n",
    "$$\\mathbf{y}= \\mathbf{A}\\mathbf{x}.$$\n",
    "\n",
    "Each element of the $\\mathbf{y}$ vector is given by:\n",
    "\n",
    "$$y_i = \\sum_{j=1}^{n} a_{ij} x_j $$\n",
    "\n",
    " - using iteration over elements (double loop)\n",
    " - taking advantage of the fact that\n",
    " each element of the $y_i$ vector is a scalar product of the $i$-th order of the $\\mathbf A$ matrix and the $\\mathbf{x}$ vector (single loop)\n",
    " - using the function `e.g..dot` or` e.g..tensordot` (without loop)"
   ]
  },
  {
   "cell_type": "code",
   "execution_count": null,
   "metadata": {
    "nbgrader": {
     "grade": false,
     "grade_id": "cell-fb522d133295441a",
     "locked": false,
     "schema_version": 3,
     "solution": true
    }
   },
   "outputs": [],
   "source": [
    "def y1(A,x):\n",
    "    ### BEGIN SOLUTION\n",
    "    if(np.shape(A)[1] != x.shape[0]):\n",
    "        raise ValueError(\"Second dimension of matrix should be the same as dimension of vector!.\")\n",
    "    return([sum([i*j for i,j in zip(z,x)]) for z in A])\n",
    "    ### END SOLUTION \n",
    "\n",
    "def y2(A,x):\n",
    "    ### BEGIN SOLUTION\n",
    "    return(np.array([np.dot(row,x) for row in A]))\n",
    "    ### END SOLUTION\n",
    "    \n",
    "def y3(A,x):\n",
    "    ### BEGIN SOLUTION\n",
    "    return(np.dot(A,x))\n",
    "    #return(np.tensordot(A,x,[1,1,1],1)\n",
    "    ### END SOLUTION"
   ]
  },
  {
   "cell_type": "code",
   "execution_count": null,
   "metadata": {
    "nbgrader": {
     "grade": true,
     "grade_id": "cell-eff8a1c20f8fb28f",
     "locked": true,
     "points": 6,
     "schema_version": 3,
     "solution": false
    }
   },
   "outputs": [],
   "source": [
    "A = np.arange(12).reshape(3,4)\n",
    "x = np.arange(4)\n",
    "np.testing.assert_almost_equal(y1(A,x),np.array([14, 38, 62]))\n",
    "np.testing.assert_almost_equal(y2(A,x),np.array([14, 38, 62]))\n",
    "np.testing.assert_almost_equal(y3(A,x),np.array([14, 38, 62]))\n",
    "\n",
    "### BEGIN HIDDEN TESTS\n",
    "A = np.random.randint(1,9,size=(3,4))\n",
    "x = np.random.randint(1,5,size=4)\n",
    "np.testing.assert_almost_equal(np.dot(A,x),y1(A,x))\n",
    "np.testing.assert_almost_equal(np.dot(A,x),y2(A,x))\n",
    "np.testing.assert_almost_equal(np.dot(A,x),y3(A,x))\n",
    "import inspect \n",
    "assert any([s_  in inspect.getsource(y1) for s_ in ['.dot','.tensordot']]) == False\n",
    "### END HIDDEN TESTS"
   ]
  },
  {
   "cell_type": "code",
   "execution_count": null,
   "metadata": {
    "nbgrader": {
     "grade": true,
     "grade_id": "cell-982fed0f9cd60244",
     "locked": true,
     "points": 1,
     "schema_version": 3,
     "solution": false
    }
   },
   "outputs": [],
   "source": [
    "try:\n",
    "    y1(np.arange(9).reshape(3,3),np.array([1,1]))\n",
    "except ValueError:\n",
    "    pass\n",
    "else:\n",
    "    raise AssertionError(\"Second dimension of matrix should be the same as dimension of vector!.\")"
   ]
  },
  {
   "cell_type": "markdown",
   "metadata": {
    "lang": "pl",
    "nbgrader": {
     "grade": false,
     "grade_id": "cell-09f1ed20d38df5bd",
     "locked": true,
     "schema_version": 3,
     "solution": false
    }
   },
   "source": [
    "## Mnożenie macierzy\n",
    "\n",
    "Mamy dwie macierze $\\mathbf{A}_{m\\times n}$ i $\\mathbf{B}_{n\\times k}$. Napisać funkcję obliczającą ich iloczyn:\n",
    "\n",
    "$$\\mathbf{C}= \\mathbf{A}\\mathbf{B}$$.\n",
    "\n",
    "Każdy element macierzy  $\\mathbf{C}$ jest dany przez:\n",
    "\n",
    "$$c_{ij} = \\sum_{k=1}^{n} a_{ik} b_{kj} $$ \n",
    "\n",
    " - za pomocą iteracji po elementach (potrójna pętla)\n",
    " - korzystając z faktu, że każdy element macierzy $c_{ij}$ jest iloczynem skalarnym $i$-tego rzędu macierzy $\\mathbf A$ oraz  $j$-tego rzędu macierzy $\\mathbf B$ (podwójna pętla)\n",
    " - używając funkcji:  `np.dot` lub `np.tensordot` (bez pętli)\n",
    " "
   ]
  },
  {
   "cell_type": "markdown",
   "metadata": {
    "lang": "en"
   },
   "source": [
    "## Multiplication of matrices\n",
    "\n",
    "We have two matrices $\\mathbf{A}_{m\\times n}$ and $\\mathbf{B}_{n\\times k}$. Write a function that calculates their product:\n",
    "\n",
    "$$\\mathbf{C}= \\mathbf{A}\\mathbf{B}$$.\n",
    "\n",
    "Each element of the $\\mathbf{C}$ matrix is ​​given by:\n",
    "\n",
    "$$c_{ij} = \\sum_{k=1}^{n} a_{ik} b_{kj} $$\n",
    "\n",
    " - using iteration over elements (triple loop)\n",
    " - taking advantage of the fact that each element of the $c_{ij}$ matrix is ​​a scalar product of $i$-th order of $\\mathbf A$ and $j$-th order of $\\mathbf B$ (double loop)\n",
    " - using the function `e.g..dot` or` e.g..tensordot` (without loop)"
   ]
  },
  {
   "cell_type": "code",
   "execution_count": null,
   "metadata": {
    "nbgrader": {
     "grade": false,
     "grade_id": "cell-bc5bc5d32ae48f5f",
     "locked": false,
     "schema_version": 3,
     "solution": true
    }
   },
   "outputs": [],
   "source": [
    "def C1(A,B):\n",
    "    ### BEGIN SOLUTION\n",
    "    if(np.shape(A)[1] != np.shape(B)[0]):\n",
    "        raise ValueError(\"Second dimension of 1st matrix should be the same as first dimension of 2nd matrix!.\")\n",
    "    return(np.asarray([[sum([i*j for i,j in zip(z,B[:,f])]) for z in A] for f in range(np.shape(B)[1])]).T)\n",
    "    ### END SOLUTION\n",
    "    \n",
    "def C2(A,B):\n",
    "    ### BEGIN SOLUTION\n",
    "    return(np.asarray([[s1(z,B[:,f]) for z in A] for f in range(np.shape(B)[1])]).T) \n",
    "    ### END SOLUTION\n",
    "    \n",
    "def C3(A,B):\n",
    "    ### BEGIN SOLUTION\n",
    "    return(np.dot(A,B))\n",
    "    ### END SOLUTION"
   ]
  },
  {
   "cell_type": "code",
   "execution_count": null,
   "metadata": {
    "nbgrader": {
     "grade": true,
     "grade_id": "cell-fdb6f13441a02162",
     "locked": true,
     "points": 6,
     "schema_version": 3,
     "solution": false
    }
   },
   "outputs": [],
   "source": [
    "m = np.arange(9).reshape(3,3)\n",
    "assert np.prod(C1(np.eye(3),m) == m)\n",
    "assert np.prod(C1(m,m) == C3(m,m))\n",
    "assert np.prod(C2(m,m) == C3(m,m))\n",
    "\n",
    "\n",
    "A,B = np.ones((4,5)),np.arange(10).reshape(5,2)\n",
    "assert C1(A,B).shape == (4,2)\n",
    "assert C2(A,B).shape == (4,2)\n",
    "assert C3(A,B).shape == (4,2)\n",
    "\n",
    "np.testing.assert_allclose(C1(A,B), A.dot(B))\n",
    "np.testing.assert_allclose(C2(A,B), A.dot(B))\n",
    "np.testing.assert_allclose(C3(A,B), A.dot(B))\n",
    "\n",
    "\n",
    "### BEGIN HIDDEN TESTS\n",
    "\n",
    "assert np.sum(C1(np.arange(16).reshape(4,4),np.arange(16).reshape(4,4))) == 3920 \n",
    "assert np.sum(C2(np.arange(16).reshape(4,4),np.arange(16).reshape(4,4))) == 3920\n",
    "\n",
    "import inspect \n",
    "assert any([s_  in inspect.getsource(C1) for s_ in ['dot','tensordot','@']]) == False\n",
    "\n",
    "### END HIDDEN TESTS"
   ]
  },
  {
   "cell_type": "code",
   "execution_count": null,
   "metadata": {
    "nbgrader": {
     "grade": true,
     "grade_id": "cell-f8df427efe4ce6de",
     "locked": true,
     "points": 1,
     "schema_version": 3,
     "solution": false
    }
   },
   "outputs": [],
   "source": [
    "try:\n",
    "    C1(np.arange(9).reshape(3,3),np.ones((2,3)))\n",
    "except ValueError:\n",
    "    pass\n",
    "else:\n",
    "    raise AssertionError(\"Second dimension of matrix should be the same as dimension of vector!.\")"
   ]
  },
  {
   "cell_type": "markdown",
   "metadata": {
    "lang": "pl",
    "nbgrader": {
     "grade": false,
     "grade_id": "cell-f05ced306d8aac81",
     "locked": true,
     "schema_version": 3,
     "solution": false
    }
   },
   "source": [
    "## Ślad macierzy\n",
    "\n",
    "Śladem macierzy nazywamy sumę elementów na przekątnej: \n",
    "\n",
    "$$ Tr(A) = \\sum_{i=1}^{n} a_{ii}$$\n",
    "\n",
    "\n",
    "Obliczyć ślad macierzy $n\\times n$.\n",
    "\n"
   ]
  },
  {
   "cell_type": "markdown",
   "metadata": {
    "lang": "en",
    "nbgrader": {
     "grade": false,
     "grade_id": "cell-739492ad10db81e1",
     "locked": true,
     "schema_version": 3,
     "solution": false,
     "task": false
    }
   },
   "source": [
    "## Trace\n",
    "\n",
    "The trace of the matrix is ​​the sum of the elements on the diagonal:\n",
    "\n",
    "$$ Tr(A) = \\sum_{i=1}^{n} a_{ii}$$\n",
    "\n",
    "\n",
    "Calculate the trace of the $n\\times n$ matrix."
   ]
  },
  {
   "cell_type": "code",
   "execution_count": null,
   "metadata": {
    "nbgrader": {
     "grade": false,
     "grade_id": "cell-6cfbc4d0c3f5e8a4",
     "locked": false,
     "schema_version": 3,
     "solution": true
    }
   },
   "outputs": [],
   "source": [
    "def Tr(A):\n",
    "    ### BEGIN SOLUTION\n",
    "    if(np.shape(A)[0] != np.shape(A)[1]):\n",
    "        raise ValueError('The matrix should be square matrix!.')\n",
    "    return(sum([A[p,p] for p in range(np.shape(A)[1])]))\n",
    "    ### END SOLUTION"
   ]
  },
  {
   "cell_type": "code",
   "execution_count": null,
   "metadata": {
    "nbgrader": {
     "grade": true,
     "grade_id": "cell-6fcc4a8c88b8f364",
     "locked": true,
     "points": 2,
     "schema_version": 3,
     "solution": false
    }
   },
   "outputs": [],
   "source": [
    "assert Tr(np.diag([1,2,3,4])) == 10\n",
    "### BEGIN HIDDEN TESTS\n",
    "A = np.array([[1,2],[3,4]])\n",
    "assert Tr(A) == np.trace(A)\n",
    "\n",
    "import inspect \n",
    "assert any([s_  in inspect.getsource(Tr) for s_ in ['.trace']]) == False\n",
    "### END HIDDEN TESTS"
   ]
  },
  {
   "cell_type": "code",
   "execution_count": null,
   "metadata": {
    "nbgrader": {
     "grade": true,
     "grade_id": "cell-3a491937c81d5cfd",
     "locked": true,
     "points": 1,
     "schema_version": 3,
     "solution": false
    }
   },
   "outputs": [],
   "source": [
    "try:\n",
    "    Tr(np.ones((2,3)))\n",
    "except ValueError:\n",
    "    pass\n",
    "else:\n",
    "    raise AssertionError(\"The matrix should be square matrix!.\")"
   ]
  },
  {
   "cell_type": "markdown",
   "metadata": {
    "lang": "pl",
    "nbgrader": {
     "grade": false,
     "grade_id": "cell-66c1029b120699b7",
     "locked": true,
     "schema_version": 3,
     "solution": false
    }
   },
   "source": [
    "## Wyznacznik macierzy\n",
    "\n",
    "Obliczyć wyznacznik macierzy korzystając z rozwinięcia [Laplace'a](https://pl.wikipedia.org/wiki/Rozwini%C4%99cie_Laplace%E2%80%99a)\n"
   ]
  },
  {
   "cell_type": "markdown",
   "metadata": {
    "lang": "en",
    "nbgrader": {
     "grade": false,
     "grade_id": "cell-91423f9e1c4ad618",
     "locked": true,
     "schema_version": 3,
     "solution": false,
     "task": false
    }
   },
   "source": [
    "## Determinant of the matrix\n",
    "\n",
    "Calculate the determinant of the matrix using the [Laplace] expansion (https://en.wikipedia.org/wiki/Laplace_expansion)"
   ]
  },
  {
   "cell_type": "code",
   "execution_count": null,
   "metadata": {
    "nbgrader": {
     "grade": false,
     "grade_id": "cell-7456ee5b5864dafa",
     "locked": true,
     "schema_version": 3,
     "solution": false
    }
   },
   "outputs": [],
   "source": [
    "import numpy as np\n",
    "A = np.random.randint(4,size=(4,4)).astype(np.float)\n",
    "x = np.random.randint(4,size=4)"
   ]
  },
  {
   "cell_type": "code",
   "execution_count": null,
   "metadata": {
    "nbgrader": {
     "grade": false,
     "grade_id": "cell-a6b07fe35339bafe",
     "locked": false,
     "schema_version": 3,
     "solution": true
    }
   },
   "outputs": [],
   "source": [
    "def Le(A):\n",
    "    ### BEGIN SOLUTION\n",
    "    if A.shape == (1,1):\n",
    "        return A[0,0]\n",
    "    else:\n",
    "        j = 0\n",
    "        d = 0\n",
    "        for i in range(A.shape[0]):\n",
    "            M = np.concatenate( [np.concatenate( [A[:i,:j], A[:i,j+1:]], axis=1 ),\\\n",
    "                                 np.concatenate( [A[i+1:,:j], A[i+1:,j+1:]], axis=1 )],axis=0)\n",
    "            d += (-1)**(i+j)*A[i,j]*Le(M)\n",
    "        return d\n",
    "    ### END SOLUTION"
   ]
  },
  {
   "cell_type": "code",
   "execution_count": null,
   "metadata": {
    "nbgrader": {
     "grade": true,
     "grade_id": "cell-dac69a3e1b14c456",
     "locked": true,
     "points": 10,
     "schema_version": 3,
     "solution": false
    }
   },
   "outputs": [],
   "source": [
    "A = np.array([[ 1.,  3.,  0.,  0.],[ 3.,  2.,  3.,  2.],[ 1.,  2.,  2.,  2.],[ 1.,  0.,  0.,  3.]])\n",
    "np.testing.assert_allclose( Le(A), np.linalg.det(A) )\n",
    "### BEGIN HIDDEN TESTS\n",
    "A = np.eye(4,4)\n",
    "np.testing.assert_allclose( Le(A), 1 )\n",
    "\n",
    "import inspect \n",
    "assert any([s_  in inspect.getsource(Le) for s_ in ['.linalg.det']]) == False\n",
    "### END HIDDEN TESTS"
   ]
  }
 ],
 "metadata": {
  "celltoolbar": "Create Assignment",
  "kernelspec": {
   "display_name": "Python 3",
   "language": "python",
   "name": "python3"
  },
  "language_info": {
   "codemirror_mode": {
    "name": "ipython",
    "version": 3
   },
   "file_extension": ".py",
   "mimetype": "text/x-python",
   "name": "python",
   "nbconvert_exporter": "python",
   "pygments_lexer": "ipython3",
   "version": "3.7.3"
  },
  "nbTranslate": {
   "displayLangs": [
    "pl",
    "en"
   ],
   "hotkey": "alt-t",
   "langInMainMenu": true,
   "sourceLang": "pl",
   "targetLang": "en",
   "useGoogleTranslate": true
  }
 },
 "nbformat": 4,
 "nbformat_minor": 2
}
