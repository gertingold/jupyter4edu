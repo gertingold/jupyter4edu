{
 "cells": [
  {
   "cell_type": "markdown",
   "metadata": {
    "lang": "pl",
    "nbgrader": {
     "grade": false,
     "grade_id": "cell-7c1b2f1649b3fe69",
     "locked": true,
     "schema_version": 3,
     "solution": false
    }
   },
   "source": [
    "## Zaimportuj moduł  numpy  do przestrzeni nazw `np` "
   ]
  },
  {
   "cell_type": "markdown",
   "metadata": {
    "lang": "en",
    "nbgrader": {
     "grade": false,
     "grade_id": "cell-d9f650656d5348e4",
     "locked": true,
     "schema_version": 3,
     "solution": false,
     "task": false
    }
   },
   "source": [
    "## Import the numpy module into the ``np`` namespace"
   ]
  },
  {
   "cell_type": "code",
   "execution_count": null,
   "metadata": {
    "nbgrader": {
     "grade": false,
     "grade_id": "cell-39601c63625340b9",
     "locked": false,
     "schema_version": 3,
     "solution": true
    }
   },
   "outputs": [],
   "source": [
    "### BEGIN SOLUTION\n",
    "import numpy as np\n",
    "### END SOLUTION\n",
    "\n"
   ]
  },
  {
   "cell_type": "code",
   "execution_count": null,
   "metadata": {
    "nbgrader": {
     "grade": true,
     "grade_id": "cell-657377bf7f83c7dc",
     "locked": true,
     "points": 1,
     "schema_version": 3,
     "solution": false
    }
   },
   "outputs": [],
   "source": [
    "from types import ModuleType\n",
    "assert type(globals()['np']) == ModuleType"
   ]
  },
  {
   "cell_type": "markdown",
   "metadata": {
    "lang": "pl",
    "nbgrader": {
     "grade": false,
     "grade_id": "cell-e377231f368e0bf5",
     "locked": true,
     "schema_version": 3,
     "solution": false
    }
   },
   "source": [
    "## Stwórz wektor zer o rozmiarze 10"
   ]
  },
  {
   "cell_type": "markdown",
   "metadata": {
    "lang": "en",
    "nbgrader": {
     "grade": false,
     "grade_id": "cell-9990c964b6da3769",
     "locked": true,
     "schema_version": 3,
     "solution": false,
     "task": false
    }
   },
   "source": [
    "## Create a vector of zeros with size 10"
   ]
  },
  {
   "cell_type": "code",
   "execution_count": null,
   "metadata": {
    "nbgrader": {
     "grade": false,
     "grade_id": "cell-2b8268ef9339c6a4",
     "locked": false,
     "schema_version": 3,
     "solution": true
    }
   },
   "outputs": [],
   "source": [
    "### BEGIN SOLUTION\n",
    "v = np.zeros(10)\n",
    "### END SOLUTION"
   ]
  },
  {
   "cell_type": "code",
   "execution_count": null,
   "metadata": {
    "nbgrader": {
     "grade": true,
     "grade_id": "cell-b49cc2894c69dc72",
     "locked": true,
     "points": 1,
     "schema_version": 3,
     "solution": false
    }
   },
   "outputs": [],
   "source": [
    "assert v.sum() == 0\n",
    "assert v.shape == (10,)\n",
    "### BEGIN HIDDEN TESTS\n",
    "np.testing.assert_array_equal(v,np.zeros(10))\n",
    "### END HIDDEN TESTS"
   ]
  },
  {
   "cell_type": "markdown",
   "metadata": {
    "lang": "pl",
    "nbgrader": {
     "grade": false,
     "grade_id": "cell-8135e15d376df87e",
     "locked": true,
     "schema_version": 3,
     "solution": false
    }
   },
   "source": [
    "##  Napisz funkcję zwracającą ilość bajtów jaką zajmują dane w tablicy numpy"
   ]
  },
  {
   "cell_type": "markdown",
   "metadata": {
    "lang": "en",
    "nbgrader": {
     "grade": false,
     "grade_id": "cell-a879ff9e2f9ec629",
     "locked": true,
     "schema_version": 3,
     "solution": false,
     "task": false
    }
   },
   "source": [
    "## Write a function that returns the number of bytes of data in the numpy array"
   ]
  },
  {
   "cell_type": "code",
   "execution_count": null,
   "metadata": {
    "nbgrader": {
     "grade": false,
     "grade_id": "cell-db49e414bf0a8307",
     "locked": false,
     "schema_version": 3,
     "solution": true
    }
   },
   "outputs": [],
   "source": [
    "def memof(a):\n",
    "### BEGIN SOLUTION\n",
    "    return  a.nbytes\n",
    "### END SOLUTION"
   ]
  },
  {
   "cell_type": "code",
   "execution_count": null,
   "metadata": {
    "nbgrader": {
     "grade": true,
     "grade_id": "cell-32ec95290a0502af",
     "locked": true,
     "points": 1,
     "schema_version": 3,
     "solution": false
    }
   },
   "outputs": [],
   "source": [
    "assert memof(np.zeros((12,10),dtype=np.int32))==480\n",
    "### BEGIN HIDDEN TESTS\n",
    "assert memof(np.zeros((2,3,4),dtype=np.int32))==96\n",
    "### END HIDDEN TESTS"
   ]
  },
  {
   "cell_type": "markdown",
   "metadata": {
    "lang": "pl",
    "nbgrader": {
     "grade": false,
     "grade_id": "cell-5dada4be51953648",
     "locked": true,
     "schema_version": 3,
     "solution": false
    }
   },
   "source": [
    "## Napisz funkcję tworzącą wektor zer o rozmiarze `n` z jedynką na piątym miejscu"
   ]
  },
  {
   "cell_type": "markdown",
   "metadata": {
    "lang": "en",
    "nbgrader": {
     "grade": false,
     "grade_id": "cell-23910c060d40b9ef",
     "locked": true,
     "schema_version": 3,
     "solution": false,
     "task": false
    }
   },
   "source": [
    "## Write a function to create a vector of zeros with size `n` with one in fifth place"
   ]
  },
  {
   "cell_type": "code",
   "execution_count": null,
   "metadata": {
    "nbgrader": {
     "grade": false,
     "grade_id": "cell-d907a4380bbc262a",
     "locked": false,
     "schema_version": 3,
     "solution": true
    }
   },
   "outputs": [],
   "source": [
    "def make_v(n):\n",
    "### BEGIN SOLUTION\n",
    "    v = np.zeros(n)\n",
    "    v[4] = 1\n",
    "    return v\n",
    "### END SOLUTION\n"
   ]
  },
  {
   "cell_type": "code",
   "execution_count": null,
   "metadata": {
    "nbgrader": {
     "grade": true,
     "grade_id": "cell-4dd989f0e98c6fcd",
     "locked": true,
     "points": 1,
     "schema_version": 3,
     "solution": false
    }
   },
   "outputs": [],
   "source": [
    "assert make_v(14)[4] == 1\n",
    "np.testing.assert_array_equal( make_v(14)[:4] , 0)\n",
    "np.testing.assert_array_equal( make_v(14)[5:] , 0)\n"
   ]
  },
  {
   "cell_type": "markdown",
   "metadata": {
    "lang": "pl",
    "nbgrader": {
     "grade": false,
     "grade_id": "cell-c5201f78bdf47940",
     "locked": true,
     "schema_version": 3,
     "solution": false
    }
   },
   "source": [
    "## Utwórz wektor z wartościami od 10 do 49 włącznie"
   ]
  },
  {
   "cell_type": "markdown",
   "metadata": {
    "lang": "en",
    "nbgrader": {
     "grade": false,
     "grade_id": "cell-24d642cedebea0a7",
     "locked": true,
     "schema_version": 3,
     "solution": false,
     "task": false
    }
   },
   "source": [
    "## Create a vector with values ​​from 10 to 49 inclusive"
   ]
  },
  {
   "cell_type": "code",
   "execution_count": null,
   "metadata": {
    "nbgrader": {
     "grade": false,
     "grade_id": "cell-47d40a88c970b067",
     "locked": false,
     "schema_version": 3,
     "solution": true
    }
   },
   "outputs": [],
   "source": [
    "def make10_49():\n",
    "### BEGIN SOLUTION\n",
    "    v = np.arange(10,50)\n",
    "    return v\n",
    "### END SOLUTION\n"
   ]
  },
  {
   "cell_type": "code",
   "execution_count": null,
   "metadata": {
    "nbgrader": {
     "grade": true,
     "grade_id": "cell-8b23f3d048bd64fd",
     "locked": true,
     "points": 1,
     "schema_version": 3,
     "solution": false
    }
   },
   "outputs": [],
   "source": [
    "assert make10_49()[7] == 17\n",
    "### BEGIN HIDDEN TESTS\n",
    "np.testing.assert_array_equal(  make10_49(), np.arange(10,50) )\n",
    "### END HIDDEN TESTS"
   ]
  },
  {
   "cell_type": "markdown",
   "metadata": {
    "lang": "pl",
    "nbgrader": {
     "grade": false,
     "grade_id": "cell-019d14215e9b9fd5",
     "locked": true,
     "schema_version": 3,
     "solution": false
    }
   },
   "source": [
    "## Odwóć kolejność elementów wektora"
   ]
  },
  {
   "cell_type": "markdown",
   "metadata": {
    "lang": "en",
    "nbgrader": {
     "grade": false,
     "grade_id": "cell-5613501b4e43473b",
     "locked": true,
     "schema_version": 3,
     "solution": false,
     "task": false
    }
   },
   "source": [
    "## Reverse the order of the vector elements"
   ]
  },
  {
   "cell_type": "code",
   "execution_count": null,
   "metadata": {
    "nbgrader": {
     "grade": false,
     "grade_id": "cell-8daeafbeb3fabd80",
     "locked": false,
     "schema_version": 3,
     "solution": true
    }
   },
   "outputs": [],
   "source": [
    "def reverse(v):\n",
    "### BEGIN SOLUTION\n",
    "    return v[::-1]\n",
    "### END SOLUTION"
   ]
  },
  {
   "cell_type": "code",
   "execution_count": null,
   "metadata": {
    "nbgrader": {
     "grade": true,
     "grade_id": "cell-55510f70fe837a14",
     "locked": true,
     "points": 1,
     "schema_version": 3,
     "solution": false
    }
   },
   "outputs": [],
   "source": [
    "np.testing.assert_equal(reverse(np.array([1,2,3])), np.array([3,2,1]) )\n",
    "### BEGIN HIDDEN TESTS\n",
    "a = np.random.rand(123)\n",
    "np.testing.assert_equal(reverse(a), a[::-1])\n",
    "### END HIDDEN TESTS"
   ]
  },
  {
   "cell_type": "markdown",
   "metadata": {
    "lang": "pl",
    "nbgrader": {
     "grade": false,
     "grade_id": "cell-67804a3d0f85b447",
     "locked": true,
     "schema_version": 3,
     "solution": false
    }
   },
   "source": [
    "## Stwórz macierz jednostkową o rozmiarze $n \\times n$\n",
    "\n"
   ]
  },
  {
   "cell_type": "markdown",
   "metadata": {
    "lang": "en"
   },
   "source": [
    "## Create a $n \\times n$ unit matrix"
   ]
  },
  {
   "cell_type": "code",
   "execution_count": null,
   "metadata": {
    "nbgrader": {
     "grade": false,
     "grade_id": "cell-92b16c324a05c06a",
     "locked": false,
     "schema_version": 3,
     "solution": true
    }
   },
   "outputs": [],
   "source": [
    "def identity_matrix(n=3):\n",
    "### BEGIN SOLUTION\n",
    "    return np.eye(n)\n",
    "### END SOLUTION"
   ]
  },
  {
   "cell_type": "code",
   "execution_count": null,
   "metadata": {
    "nbgrader": {
     "grade": true,
     "grade_id": "cell-681b5089489167db",
     "locked": true,
     "points": 1,
     "schema_version": 3,
     "solution": false
    }
   },
   "outputs": [],
   "source": [
    "np.testing.assert_equal( identity_matrix(2), np.array([[1, 0],  [0, 1]]) )\n",
    "### BEGIN HIDDEN TESTS\n",
    "np.testing.assert_equal(identity_matrix(5), np.eye(5))\n",
    "### END HIDDEN TESTS\n"
   ]
  },
  {
   "cell_type": "markdown",
   "metadata": {
    "lang": "pl",
    "nbgrader": {
     "grade": false,
     "grade_id": "cell-2f1ad3f3c5030912",
     "locked": true,
     "schema_version": 3,
     "solution": false
    }
   },
   "source": [
    "## Utwórz macierz $n\\times n$  z  wartościami od $1$ do $n^2$\n",
    "\n",
    " - tak by każdy rząd zawierał wartości rosnące o 1\n",
    " - tak by każda kolumna zawierała wartości rosnące o 1"
   ]
  },
  {
   "cell_type": "markdown",
   "metadata": {
    "lang": "en",
    "nbgrader": {
     "grade": false,
     "grade_id": "cell-a88907caa8935094",
     "locked": true,
     "schema_version": 3,
     "solution": false,
     "task": false
    }
   },
   "source": [
    "## Create a $n\\times n$ matrix with values ​​from $1$ to $n^2$\n",
    "\n",
    " - so that each row contains values ​​increasing by 1\n",
    " - so that each column contains values ​​increasing by 1"
   ]
  },
  {
   "cell_type": "code",
   "execution_count": null,
   "metadata": {
    "nbgrader": {
     "grade": false,
     "grade_id": "cell-8bb544fb4539f54e",
     "locked": false,
     "schema_version": 3,
     "solution": true
    }
   },
   "outputs": [],
   "source": [
    "def n2_col(n=3):\n",
    "### BEGIN SOLUTION\n",
    "    return np.arange(1,n**2+1).reshape(n,n)\n",
    "### END SOLUTION\n",
    "def n2_row(n=3):\n",
    "### BEGIN SOLUTION\n",
    "    return np.arange(1,n**2+1).reshape(n,n).T\n",
    "### END SOLUTION"
   ]
  },
  {
   "cell_type": "code",
   "execution_count": null,
   "metadata": {
    "nbgrader": {
     "grade": true,
     "grade_id": "cell-3eb2839edd26cc52",
     "locked": true,
     "points": 2,
     "schema_version": 3,
     "solution": false
    }
   },
   "outputs": [],
   "source": [
    "np.testing.assert_equal( n2_col(2), np.array([[1, 2],  [3, 4]]) )\n",
    "np.testing.assert_equal( n2_row(2), np.array([[1, 3],  [2, 4]]) )\n",
    "### BEGIN HIDDEN TESTS\n",
    "np.testing.assert_equal(n2_col(12), np.arange(1,12**2+1).reshape(12,12))\n",
    "np.testing.assert_equal(n2_row(12), np.arange(1,12**2+1).reshape(12,12).T)\n",
    "### END HIDDEN TESTS\n"
   ]
  },
  {
   "cell_type": "markdown",
   "metadata": {
    "lang": "pl",
    "nbgrader": {
     "grade": false,
     "grade_id": "cell-20914a676e1756d0",
     "locked": true,
     "schema_version": 3,
     "solution": false
    }
   },
   "source": [
    "## Utwórz macierz $n\\times m$  z  losowymi wartościami \n",
    "\n",
    "- z przedziału [0,1)\n",
    "- z przedziału [a,b)"
   ]
  },
  {
   "cell_type": "markdown",
   "metadata": {
    "lang": "en",
    "nbgrader": {
     "grade": false,
     "grade_id": "cell-017edad0c1efefaa",
     "locked": true,
     "schema_version": 3,
     "solution": false,
     "task": false
    }
   },
   "source": [
    "## Create a $n\\times m$ matrix with random values\n",
    "\n",
    "- from the range [0,1)\n",
    "- from the range [a, b)"
   ]
  },
  {
   "cell_type": "code",
   "execution_count": null,
   "metadata": {
    "nbgrader": {
     "grade": false,
     "grade_id": "cell-dc9ed83288917413",
     "locked": false,
     "schema_version": 3,
     "solution": true
    }
   },
   "outputs": [],
   "source": [
    "def rand1(n=3, m=4):\n",
    "### BEGIN SOLUTION\n",
    "    return np.random.random((n,m))\n",
    "### END SOLUTION\n",
    "def rand2(n=3, m=4, a=6, b=7):\n",
    "### BEGIN SOLUTION\n",
    "    return np.random.randint(a,b,size=(n,m))\n",
    "### END SOLUTION"
   ]
  },
  {
   "cell_type": "code",
   "execution_count": null,
   "metadata": {
    "nbgrader": {
     "grade": true,
     "grade_id": "cell-4748bfd79b06da2a",
     "locked": true,
     "points": 2,
     "schema_version": 3,
     "solution": false
    }
   },
   "outputs": [],
   "source": [
    "assert np.min(rand1(10, 11)) >= 0\n",
    "assert np.max(rand1(10, 10)) < 1\n",
    "assert np.min(rand2(10, 12, 3,7)) >= 3\n",
    "assert np.max(rand2(10, 12, 3,7)) < 7\n",
    "assert np.shape(rand2(10, 12, 3,7)) == (10, 12)\n",
    "assert np.shape(rand1(10, 15)) == (10, 15)"
   ]
  },
  {
   "cell_type": "markdown",
   "metadata": {
    "lang": "pl",
    "nbgrader": {
     "grade": false,
     "grade_id": "cell-a8bd94c824c32640",
     "locked": true,
     "schema_version": 3,
     "solution": false
    }
   },
   "source": [
    "## Znajdź indeksy dla których wartości wektora są równe zero"
   ]
  },
  {
   "cell_type": "markdown",
   "metadata": {
    "lang": "en",
    "nbgrader": {
     "grade": false,
     "grade_id": "cell-25ce2ed0ebfabebd",
     "locked": true,
     "schema_version": 3,
     "solution": false,
     "task": false
    }
   },
   "source": [
    "## Find indexes for which the vector values ​​are zero"
   ]
  },
  {
   "cell_type": "code",
   "execution_count": null,
   "metadata": {
    "nbgrader": {
     "grade": false,
     "grade_id": "cell-3dec5ac38532d35e",
     "locked": false,
     "schema_version": 3,
     "solution": true
    }
   },
   "outputs": [],
   "source": [
    "def is_zero(x):\n",
    "### BEGIN SOLUTION\n",
    "    return np.where(x==0)[0]\n",
    "### END SOLUTION"
   ]
  },
  {
   "cell_type": "code",
   "execution_count": null,
   "metadata": {
    "nbgrader": {
     "grade": true,
     "grade_id": "cell-52fa129f65194a82",
     "locked": true,
     "points": 2,
     "schema_version": 3,
     "solution": false
    }
   },
   "outputs": [],
   "source": [
    "x = np.array([1,2,0,1,0,11])\n",
    "np.testing.assert_equal(is_zero(x), np.array([2,4]) ) \n",
    "### BEGIN HIDDEN TESTS\n",
    "x = np.random.randint(0,5,size=123)\n",
    "assert np.all ( x[np.where(x==0)] == 0 )\n",
    "### END HIDDEN TESTS"
   ]
  },
  {
   "cell_type": "markdown",
   "metadata": {
    "lang": "pl",
    "nbgrader": {
     "grade": false,
     "grade_id": "cell-830d830bcd707054",
     "locked": true,
     "schema_version": 3,
     "solution": false
    }
   },
   "source": [
    "## Oblicz dla zadanego wektora jego wartość najmniejszą, największą oraz średnią."
   ]
  },
  {
   "cell_type": "markdown",
   "metadata": {
    "lang": "en",
    "nbgrader": {
     "grade": false,
     "grade_id": "cell-fc504b49daf3d366",
     "locked": true,
     "schema_version": 3,
     "solution": false,
     "task": false
    }
   },
   "source": [
    "## Calculate its smallest, largest and average value for a given vector."
   ]
  },
  {
   "cell_type": "code",
   "execution_count": null,
   "metadata": {
    "nbgrader": {
     "grade": false,
     "grade_id": "cell-c15c1bf47a13ebad",
     "locked": false,
     "schema_version": 3,
     "solution": true
    }
   },
   "outputs": [],
   "source": [
    "def mystats(x):\n",
    "### BEGIN SOLUTION\n",
    "    return  np.nanmin(x),np.nanmax(x),np.nanmean(x)\n",
    "### END SOLUTION"
   ]
  },
  {
   "cell_type": "code",
   "execution_count": null,
   "metadata": {
    "nbgrader": {
     "grade": true,
     "grade_id": "cell-6789a38d4549443a",
     "locked": true,
     "points": 2,
     "schema_version": 3,
     "solution": false
    }
   },
   "outputs": [],
   "source": [
    "x = np.array([1,2,0,1,0,11])\n",
    "assert  mystats(x) == (0, 11, 2.5) \n",
    "### BEGIN HIDDEN TESTS\n",
    "x = np.random.randint(0,5,size=123)\n",
    "assert mystats(x) == (np.nanmin(x),np.nanmax(x),np.nanmean(x))\n",
    "### END HIDDEN TESTS"
   ]
  },
  {
   "cell_type": "markdown",
   "metadata": {
    "lang": "pl",
    "nbgrader": {
     "grade": false,
     "grade_id": "cell-c7e3e36d79c24526",
     "locked": true,
     "schema_version": 3,
     "solution": false
    }
   },
   "source": [
    "## Stwórz dwuwymiarową tablicę z zerami w środku i jedynkami na zewnątrz"
   ]
  },
  {
   "cell_type": "markdown",
   "metadata": {
    "lang": "en",
    "nbgrader": {
     "grade": false,
     "grade_id": "cell-bc7968c70859adc8",
     "locked": true,
     "schema_version": 3,
     "solution": false,
     "task": false
    }
   },
   "source": [
    "## Create a two-dimensional array with zeros inside and ones outside"
   ]
  },
  {
   "cell_type": "code",
   "execution_count": null,
   "metadata": {
    "nbgrader": {
     "grade": false,
     "grade_id": "cell-e2ca9f36bc360a8a",
     "locked": false,
     "schema_version": 3,
     "solution": true
    }
   },
   "outputs": [],
   "source": [
    "def zeros_padded(n=4):\n",
    "### BEGIN SOLUTION\n",
    "    return  np.pad(np.zeros((n-2,n-2)),1,'constant',constant_values=1)\n",
    "### END SOLUTION"
   ]
  },
  {
   "cell_type": "code",
   "execution_count": null,
   "metadata": {
    "nbgrader": {
     "grade": true,
     "grade_id": "cell-cd548f3f78efd6cd",
     "locked": true,
     "points": 2,
     "schema_version": 3,
     "solution": false
    }
   },
   "outputs": [],
   "source": [
    "np.testing.assert_equal(zeros_padded(4) , \n",
    "np.array([[ 1.,  1.,  1.,  1.],\n",
    "         [ 1.,  0.,  0.,  1.],\n",
    "         [ 1.,  0.,  0.,  1.],\n",
    "         [ 1.,  1.,  1.,  1.]]))\n",
    "\n",
    "### BEGIN HIDDEN TESTS\n",
    "n = 12\n",
    "np.testing.assert_equal(zeros_padded(n),np.pad(np.zeros((n-2,n-2)),1,'constant',constant_values=1))\n",
    "### END HIDDEN TESTS"
   ]
  },
  {
   "cell_type": "markdown",
   "metadata": {
    "lang": "pl",
    "nbgrader": {
     "grade": false,
     "grade_id": "cell-f59946960468abfc",
     "locked": true,
     "schema_version": 3,
     "solution": false
    }
   },
   "source": [
    "\n",
    "## Używając `np.pad` dodaj do tablicy otoczenie z wartością 3"
   ]
  },
  {
   "cell_type": "markdown",
   "metadata": {
    "lang": "en",
    "nbgrader": {
     "grade": false,
     "grade_id": "cell-c7fc4748ea0915dd",
     "locked": true,
     "schema_version": 3,
     "solution": false,
     "task": false
    }
   },
   "source": [
    "## Using `np.pad`, add the environment to the array with the value 3"
   ]
  },
  {
   "cell_type": "code",
   "execution_count": null,
   "metadata": {
    "nbgrader": {
     "grade": false,
     "grade_id": "cell-974a225dc7e83feb",
     "locked": false,
     "schema_version": 3,
     "solution": true
    }
   },
   "outputs": [],
   "source": [
    "def pad3(x):\n",
    "### BEGIN SOLUTION\n",
    "    return  np.pad(x,1,'constant',constant_values=3)\n",
    "### END SOLUTION"
   ]
  },
  {
   "cell_type": "code",
   "execution_count": null,
   "metadata": {
    "nbgrader": {
     "grade": true,
     "grade_id": "cell-bce6102cad485520",
     "locked": true,
     "points": 2,
     "schema_version": 3,
     "solution": false
    }
   },
   "outputs": [],
   "source": [
    "x = np.ones((2,3))\n",
    "x_pad3 = np.array([[ 3.,  3.,  3.,  3.,  3.],\n",
    "                   [ 3.,  1.,  1.,  1.,  3.],\n",
    "                   [ 3.,  1.,  1.,  1.,  3.],\n",
    "                   [ 3.,  3.,  3.,  3.,  3.]])            \n",
    "np.testing.assert_equal( pad3(x),x_pad3)\n",
    "### BEGIN HIDDEN TESTS\n",
    "x =  np.random.randint(0,5,size=(3,4,5))\n",
    "np.testing.assert_equal(pad3(x),np.pad(x,1,'constant',constant_values=3))\n",
    "### END HIDDEN TESTS"
   ]
  },
  {
   "cell_type": "markdown",
   "metadata": {
    "lang": "pl",
    "nbgrader": {
     "grade": false,
     "grade_id": "cell-aac561876dcc442e",
     "locked": true,
     "schema_version": 3,
     "solution": false
    }
   },
   "source": [
    "## Dla danej tablicy zastąp maksymalne wartości zerami\n"
   ]
  },
  {
   "cell_type": "markdown",
   "metadata": {
    "lang": "en",
    "nbgrader": {
     "grade": false,
     "grade_id": "cell-c3b881f9769ffa4a",
     "locked": true,
     "schema_version": 3,
     "solution": false,
     "task": false
    }
   },
   "source": [
    "## For a given array, replace maximum values ​​with zeros"
   ]
  },
  {
   "cell_type": "code",
   "execution_count": null,
   "metadata": {
    "nbgrader": {
     "grade": false,
     "grade_id": "cell-0af856baae027aa7",
     "locked": false,
     "schema_version": 3,
     "solution": true
    }
   },
   "outputs": [],
   "source": [
    "def maxto0(x):\n",
    "### BEGIN SOLUTION\n",
    "    x = x.copy()\n",
    "    max_x = np.max(x)\n",
    "    x[x == max_x] = 0 \n",
    "    return  x\n",
    "### END SOLUTION"
   ]
  },
  {
   "cell_type": "code",
   "execution_count": null,
   "metadata": {
    "nbgrader": {
     "grade": true,
     "grade_id": "cell-9bd94b25f5056812",
     "locked": true,
     "points": 2,
     "schema_version": 3,
     "solution": false
    }
   },
   "outputs": [],
   "source": [
    "x_expected = np.array([[1, 0, 1, 2],\n",
    "                       [0, 2, 1, 0],\n",
    "                       [2, 0, 2, 1]])\n",
    "\n",
    "x = np.array([[1, 3, 1, 2],\n",
    "                   [3, 2, 1, 3],\n",
    "                   [2, 0, 2, 1]])\n",
    "np.testing.assert_equal(maxto0(x),x_expected)\n",
    "### BEGIN HIDDEN TESTS\n",
    "x = np.random.randint(1,5,size=(3,4))\n",
    "y = x.copy()\n",
    "y[y==np.max(y)] = 0\n",
    "np.testing.assert_equal(maxto0(x),y)\n",
    "\n",
    "### END HIDDEN TESTS"
   ]
  },
  {
   "cell_type": "markdown",
   "metadata": {
    "lang": "pl",
    "nbgrader": {
     "grade": false,
     "grade_id": "cell-f2915e27c6193866",
     "locked": true,
     "schema_version": 3,
     "solution": false
    }
   },
   "source": [
    "## Broadcasting\n",
    "\n",
    "Niech będzie dana tablica  $k$ parametrów  zmierzonych w  $n$  pomiarach: \n",
    "\n",
    " - $ x_{ij} $: $j$-ty parametr w $i$-tym pomiarze\n",
    "\n",
    "Oblicz korzystając z ``numpy`` nie używając pętli:\n",
    "\n",
    " - średnią po pomiarach dla wszyskich zmiennych: $$\\mu_j = \\frac{1}{n} \\sum_{i=1}^n x_{ij}$$\n",
    " - odchylenie od wartości średniej dla każdej zmiennej we wszystkich pomiarach:$$\\Delta_{ij} = x_{ij}-\\mu_j$$\n",
    " - odchylenie średniokwadratowe dla każdej zmiennej: $$\\sigma_j^2 = \\frac{1}{n} \\sum_{j=1}^n (x_{ij}-\\mu_j)^2$$\n",
    " "
   ]
  },
  {
   "cell_type": "markdown",
   "metadata": {
    "lang": "en",
    "nbgrader": {
     "grade": false,
     "grade_id": "cell-b4db7dde68b7a657",
     "locked": true,
     "schema_version": 3,
     "solution": false,
     "task": false
    }
   },
   "source": [
    "## Broadcasting\n",
    "\n",
    "Let there be an array of $k$ parameters measured in $n$ measurements:\n",
    "\n",
    " - $ x_{ij} $: $j$-th parameter in $i$-th measurement\n",
    "\n",
    "Calculate using `` numpy '' without using a loop:\n",
    "\n",
    " - mean over measurements for all variables: $$\\mu_j = \\frac{1}{n} \\sum_{i=1}^n x_{ij}$$\n",
    " - deviation from the mean value for each variable in all measurements: $$\\Delta_{ij} = x_{ij}-\\mu_j$$\n",
    " - mean square deviation for each variable: $$\\sigma_j^2 = \\frac{1}{n} \\sum_{j=1}^n (x_{ij}-\\mu_j)^2$$"
   ]
  },
  {
   "cell_type": "code",
   "execution_count": null,
   "metadata": {
    "nbgrader": {
     "grade": false,
     "grade_id": "cell-3ba3e7c55658e301",
     "locked": false,
     "schema_version": 3,
     "solution": true
    }
   },
   "outputs": [],
   "source": [
    "def data_stats(x):\n",
    "### BEGIN SOLUTION\n",
    "    x_avg = np.sum(x,axis=0)/x.shape[0]\n",
    "    Delta = x - x_avg[np.newaxis,:]\n",
    "    sigma = np.sum((x - x_avg[np.newaxis,:])**2,axis=0)/x.shape[0]\n",
    "    return  x_avg,Delta,sigma\n",
    "### END SOLUTION"
   ]
  },
  {
   "cell_type": "code",
   "execution_count": null,
   "metadata": {
    "nbgrader": {
     "grade": true,
     "grade_id": "cell-6c8208eb3399b3a4",
     "locked": true,
     "points": 4,
     "schema_version": 3,
     "solution": false
    }
   },
   "outputs": [],
   "source": [
    "x = np.array([[3, 4, 2, 3],\n",
    "       [3, 4, 3, 4],\n",
    "       [4, 3, 2, 2],\n",
    "       [3, 2, 1, 2],\n",
    "       [3, 2, 3, 1]])\n",
    "x_avg,Delta,sigma = data_stats(x)\n",
    "\n",
    "\n",
    "np.testing.assert_allclose(x_avg,np.array([ 3.2,  3. ,  2.2,  2.4]))\n",
    "np.testing.assert_allclose(Delta,\\\n",
    "  np.array([[-0.2,  1. , -0.2,  0.6],\n",
    "           [-0.2,  1. ,  0.8,  1.6],\n",
    "           [ 0.8,  0. , -0.2, -0.4],\n",
    "           [-0.2, -1. , -1.2, -0.4],\n",
    "           [-0.2, -1. ,  0.8, -1.4]]) )                           \n",
    "np.testing.assert_allclose(sigma,np.array([ 0.16,  0.8 ,  0.56,  1.04]))\n",
    "\n",
    "import inspect\n",
    "blacklist = [\".mean\",\".average\",\"for\",\"while\",\"std\",'var']\n",
    "assert all([ not keyword  in inspect.getsource(data_stats) for keyword in blacklist])\n",
    "\n",
    "### BEGIN HIDDEN TESTS\n",
    "x = np.random.randn(4,6)\n",
    "x_avg,Delta,sigma = data_stats(x)\n",
    "np.testing.assert_allclose(x_avg,np.mean(x,axis=0))\n",
    "np.testing.assert_allclose(Delta,x-np.mean(x,axis=0))                           \n",
    "np.testing.assert_allclose(sigma,np.var(x,axis=0))\n",
    "### END HIDDEN TESTS"
   ]
  }
 ],
 "metadata": {
  "celltoolbar": "Create Assignment",
  "kernelspec": {
   "display_name": "Python 3",
   "language": "python",
   "name": "python3"
  },
  "language_info": {
   "codemirror_mode": {
    "name": "ipython",
    "version": 3
   },
   "file_extension": ".py",
   "mimetype": "text/x-python",
   "name": "python",
   "nbconvert_exporter": "python",
   "pygments_lexer": "ipython3",
   "version": "3.7.3"
  },
  "nbTranslate": {
   "displayLangs": [
    "pl",
    "en"
   ],
   "hotkey": "alt-t",
   "langInMainMenu": true,
   "sourceLang": "pl",
   "targetLang": "en",
   "useGoogleTranslate": true
  }
 },
 "nbformat": 4,
 "nbformat_minor": 1
}
