{
 "cells": [
  {
   "cell_type": "markdown",
   "metadata": {},
   "source": [
    "# Podstawy Sztucznej Inteligencji 2017/2018\n",
    "\n"
   ]
  },
  {
   "cell_type": "markdown",
   "metadata": {},
   "source": [
    "Prosze uzupelnic kod tam gdzie znajduje napis `YOUR CODE HERE` lub 'YOUR ANSWER HERE'.\n",
    "\n",
    "Warto zresetowac 'kernel' i sprawdzic czy caly notatnik uruchamiany od poczatku nie daje bledow."
   ]
  },
  {
   "cell_type": "code",
   "execution_count": null,
   "metadata": {},
   "outputs": [],
   "source": []
  },
  {
   "cell_type": "markdown",
   "metadata": {},
   "source": [
    "---"
   ]
  },
  {
   "cell_type": "markdown",
   "metadata": {
    "deletable": false,
    "editable": false,
    "nbgrader": {
     "checksum": "a378a0e4b4478f6e3b3f7e9f43e46113",
     "grade": false,
     "grade_id": "cell-7c1b2f1649b3fe69",
     "locked": true,
     "schema_version": 1,
     "solution": false
    }
   },
   "source": [
    "## 1. Zaimportuj moduł  numpy  do przestrzeni nazw `np` "
   ]
  },
  {
   "cell_type": "code",
   "execution_count": null,
   "metadata": {
    "deletable": false,
    "nbgrader": {
     "checksum": "f0acf39e9d260955190133301bdbee98",
     "grade": false,
     "grade_id": "cell-39601c63625340b9",
     "locked": false,
     "schema_version": 1,
     "solution": true
    }
   },
   "outputs": [],
   "source": [
    "# YOUR CODE HERE\n",
    "raise NotImplementedError()\n",
    "\n"
   ]
  },
  {
   "cell_type": "code",
   "execution_count": null,
   "metadata": {
    "deletable": false,
    "editable": false,
    "nbgrader": {
     "checksum": "1ada76d9f76bce79ea704980f638b890",
     "grade": true,
     "grade_id": "cell-657377bf7f83c7dc",
     "locked": true,
     "points": 1,
     "schema_version": 1,
     "solution": false
    }
   },
   "outputs": [],
   "source": [
    "from types import ModuleType\n",
    "assert type(globals()['np']) == ModuleType"
   ]
  },
  {
   "cell_type": "markdown",
   "metadata": {
    "deletable": false,
    "editable": false,
    "nbgrader": {
     "checksum": "d268ff14e3366bdb154d276c977639a3",
     "grade": false,
     "grade_id": "cell-e377231f368e0bf5",
     "locked": true,
     "schema_version": 1,
     "solution": false
    }
   },
   "source": [
    "## Stwórz wektor zer o rozmiarze 10"
   ]
  },
  {
   "cell_type": "code",
   "execution_count": null,
   "metadata": {
    "deletable": false,
    "nbgrader": {
     "checksum": "da42e158dfcb9068a1c66203166a1516",
     "grade": false,
     "grade_id": "cell-2b8268ef9339c6a4",
     "locked": false,
     "schema_version": 1,
     "solution": true
    }
   },
   "outputs": [],
   "source": [
    "# YOUR CODE HERE\n",
    "raise NotImplementedError()"
   ]
  },
  {
   "cell_type": "code",
   "execution_count": null,
   "metadata": {
    "deletable": false,
    "editable": false,
    "nbgrader": {
     "checksum": "7981463878a18c7b23f2687ed3f722f7",
     "grade": true,
     "grade_id": "cell-b49cc2894c69dc72",
     "locked": true,
     "points": 1,
     "schema_version": 1,
     "solution": false
    }
   },
   "outputs": [],
   "source": [
    "assert v.sum() == 0\n",
    "assert v.shape == (10,)"
   ]
  },
  {
   "cell_type": "markdown",
   "metadata": {
    "deletable": false,
    "editable": false,
    "nbgrader": {
     "checksum": "d65891e84b4e38543f300b0a8b03f471",
     "grade": false,
     "grade_id": "cell-8135e15d376df87e",
     "locked": true,
     "schema_version": 1,
     "solution": false
    }
   },
   "source": [
    "##  Napisz funkcję zwracającą ilość danych zajmuje tablica numpy"
   ]
  },
  {
   "cell_type": "code",
   "execution_count": null,
   "metadata": {
    "deletable": false,
    "nbgrader": {
     "checksum": "f578ac9eab6bc8e38a8cdf2a4f93f349",
     "grade": false,
     "grade_id": "cell-db49e414bf0a8307",
     "locked": false,
     "schema_version": 1,
     "solution": true
    }
   },
   "outputs": [],
   "source": [
    "def memof(a):\n",
    "# YOUR CODE HERE\n",
    "raise NotImplementedError()"
   ]
  },
  {
   "cell_type": "code",
   "execution_count": null,
   "metadata": {
    "deletable": false,
    "editable": false,
    "nbgrader": {
     "checksum": "cbd13ff26f7b4f2b786fd1c2e66b373f",
     "grade": true,
     "grade_id": "cell-32ec95290a0502af",
     "locked": true,
     "points": 1,
     "schema_version": 1,
     "solution": false
    }
   },
   "outputs": [],
   "source": [
    "assert memof(np.zeros((12,10),dtype=np.int32))==480"
   ]
  },
  {
   "cell_type": "markdown",
   "metadata": {
    "deletable": false,
    "editable": false,
    "nbgrader": {
     "checksum": "ed14ed7229e37a6f0b7a699f42e13fa8",
     "grade": false,
     "grade_id": "cell-5dada4be51953648",
     "locked": true,
     "schema_version": 1,
     "solution": false
    }
   },
   "source": [
    "## Napisz funkcję tworzącą wektor zer o rozmiarze `n` z jedynką na piątym miejscu"
   ]
  },
  {
   "cell_type": "code",
   "execution_count": null,
   "metadata": {
    "deletable": false,
    "nbgrader": {
     "checksum": "d073824ead675ec7ad5c3ce66c480594",
     "grade": false,
     "grade_id": "cell-d907a4380bbc262a",
     "locked": false,
     "schema_version": 1,
     "solution": true
    }
   },
   "outputs": [],
   "source": [
    "def make_v(n):\n",
    "# YOUR CODE HERE\n",
    "raise NotImplementedError()\n"
   ]
  },
  {
   "cell_type": "code",
   "execution_count": null,
   "metadata": {
    "deletable": false,
    "editable": false,
    "nbgrader": {
     "checksum": "4d0ddd38082cb113bf592ab64491e36b",
     "grade": true,
     "grade_id": "cell-4dd989f0e98c6fcd",
     "locked": true,
     "points": 1,
     "schema_version": 1,
     "solution": false
    }
   },
   "outputs": [],
   "source": [
    "assert make_v(14)[4] == 1\n",
    "np.testing.assert_array_equal( make_v(14)[:4] , 0)\n",
    "np.testing.assert_array_equal( make_v(14)[5:] , 0)\n"
   ]
  },
  {
   "cell_type": "markdown",
   "metadata": {
    "deletable": false,
    "editable": false,
    "nbgrader": {
     "checksum": "70d3dce68c595982a0c4c4e161978d97",
     "grade": false,
     "grade_id": "cell-c5201f78bdf47940",
     "locked": true,
     "schema_version": 1,
     "solution": false
    }
   },
   "source": [
    "## Utwórz wektor z wartościami od 10 do 49 włącznie"
   ]
  },
  {
   "cell_type": "code",
   "execution_count": null,
   "metadata": {
    "deletable": false,
    "nbgrader": {
     "checksum": "3934a46b301d3114d52b947a8ff45de3",
     "grade": false,
     "grade_id": "cell-47d40a88c970b067",
     "locked": false,
     "schema_version": 1,
     "solution": true
    }
   },
   "outputs": [],
   "source": [
    "def make10_49():\n",
    "# YOUR CODE HERE\n",
    "raise NotImplementedError()\n"
   ]
  },
  {
   "cell_type": "code",
   "execution_count": null,
   "metadata": {
    "deletable": false,
    "editable": false,
    "nbgrader": {
     "checksum": "a62f0feea77474b196f873bded4e6073",
     "grade": true,
     "grade_id": "cell-8b23f3d048bd64fd",
     "locked": true,
     "points": 1,
     "schema_version": 1,
     "solution": false
    }
   },
   "outputs": [],
   "source": [
    "assert make10_49()[7] == 17"
   ]
  },
  {
   "cell_type": "markdown",
   "metadata": {
    "deletable": false,
    "editable": false,
    "nbgrader": {
     "checksum": "b46d4f0faa931a7534cb94c455b974cc",
     "grade": false,
     "grade_id": "cell-019d14215e9b9fd5",
     "locked": true,
     "schema_version": 1,
     "solution": false
    }
   },
   "source": [
    "## Odwóć kolejność elementów wektora"
   ]
  },
  {
   "cell_type": "code",
   "execution_count": null,
   "metadata": {
    "deletable": false,
    "nbgrader": {
     "checksum": "698aa458f96f738538cc4a92534a7514",
     "grade": false,
     "grade_id": "cell-8daeafbeb3fabd80",
     "locked": false,
     "schema_version": 1,
     "solution": true
    }
   },
   "outputs": [],
   "source": [
    "def reverse(v):\n",
    "# YOUR CODE HERE\n",
    "raise NotImplementedError()"
   ]
  },
  {
   "cell_type": "code",
   "execution_count": null,
   "metadata": {
    "deletable": false,
    "editable": false,
    "nbgrader": {
     "checksum": "25ecbdd3f888480e327146a3a6025e15",
     "grade": true,
     "grade_id": "cell-55510f70fe837a14",
     "locked": true,
     "points": 1,
     "schema_version": 1,
     "solution": false
    }
   },
   "outputs": [],
   "source": [
    "np.testing.assert_equal(reverse(np.array([1,2,3])), np.array([3,2,1]) )"
   ]
  },
  {
   "cell_type": "markdown",
   "metadata": {
    "deletable": false,
    "editable": false,
    "nbgrader": {
     "checksum": "e2070b4d375e9fe15758d2dee671f250",
     "grade": false,
     "grade_id": "cell-67804a3d0f85b447",
     "locked": true,
     "schema_version": 1,
     "solution": false
    }
   },
   "source": [
    "## Stwórz macierz jednostkową o rozmiarze $n \\times n$\n",
    "\n"
   ]
  },
  {
   "cell_type": "code",
   "execution_count": null,
   "metadata": {
    "deletable": false,
    "nbgrader": {
     "checksum": "8835d5f9d836e9acf078f2b67fe64a65",
     "grade": false,
     "grade_id": "cell-92b16c324a05c06a",
     "locked": false,
     "schema_version": 1,
     "solution": true
    }
   },
   "outputs": [],
   "source": [
    "def identity_matrix(n=3):\n",
    "# YOUR CODE HERE\n",
    "raise NotImplementedError()"
   ]
  },
  {
   "cell_type": "code",
   "execution_count": null,
   "metadata": {
    "deletable": false,
    "editable": false,
    "nbgrader": {
     "checksum": "89d319ccc88b459d7217c43e6a3e0bbf",
     "grade": true,
     "grade_id": "cell-681b5089489167db",
     "locked": true,
     "points": 1,
     "schema_version": 1,
     "solution": false
    }
   },
   "outputs": [],
   "source": [
    "np.testing.assert_equal( identity_matrix(2), np.array([[1, 0],  [0, 1]]) )\n"
   ]
  },
  {
   "cell_type": "markdown",
   "metadata": {
    "deletable": false,
    "editable": false,
    "nbgrader": {
     "checksum": "4f4375a326ae6eeef523c23ee8fcc9f6",
     "grade": false,
     "grade_id": "cell-2f1ad3f3c5030912",
     "locked": true,
     "schema_version": 1,
     "solution": false
    }
   },
   "source": [
    "## Utwórz macierz $n\\times n$  z  wartościami od $1$ do $n^2$\n",
    "\n",
    " - tak by każdy rząd zawierał wartości rosnące o 1\n",
    " - tak by każda kolumna zawierała wartości rosnące o 1"
   ]
  },
  {
   "cell_type": "code",
   "execution_count": null,
   "metadata": {
    "deletable": false,
    "nbgrader": {
     "checksum": "931ee93064738f5de33267452d105b2d",
     "grade": false,
     "grade_id": "cell-8bb544fb4539f54e",
     "locked": false,
     "schema_version": 1,
     "solution": true
    }
   },
   "outputs": [],
   "source": [
    "def n2_col(n=3):\n",
    "# YOUR CODE HERE\n",
    "raise NotImplementedError()\n",
    "def n2_row(n=3):\n",
    "# YOUR CODE HERE\n",
    "raise NotImplementedError()"
   ]
  },
  {
   "cell_type": "code",
   "execution_count": null,
   "metadata": {
    "deletable": false,
    "editable": false,
    "nbgrader": {
     "checksum": "5bef116565d314f9f5f5403a65cfb5fd",
     "grade": true,
     "grade_id": "cell-3eb2839edd26cc52",
     "locked": true,
     "points": 2,
     "schema_version": 1,
     "solution": false
    }
   },
   "outputs": [],
   "source": [
    "np.testing.assert_equal( n2_col(2), np.array([[1, 2],  [3, 4]]) )\n",
    "np.testing.assert_equal( n2_row(2), np.array([[1, 3],  [2, 4]]) )\n"
   ]
  },
  {
   "cell_type": "markdown",
   "metadata": {
    "deletable": false,
    "editable": false,
    "nbgrader": {
     "checksum": "1b9cbe812292424cb5584da3d1a88edc",
     "grade": false,
     "grade_id": "cell-20914a676e1756d0",
     "locked": true,
     "schema_version": 1,
     "solution": false
    }
   },
   "source": [
    "## Utwórz macierz $n\\times m$  z  losowymi wartościami \n",
    "\n",
    "- z przedziału [0,1)\n",
    "- z przedziału [a,b)"
   ]
  },
  {
   "cell_type": "code",
   "execution_count": null,
   "metadata": {
    "deletable": false,
    "nbgrader": {
     "checksum": "50d0f040ba13e4207fd4a6c056d60a19",
     "grade": false,
     "grade_id": "cell-dc9ed83288917413",
     "locked": false,
     "schema_version": 1,
     "solution": true
    }
   },
   "outputs": [],
   "source": [
    "def rand1(n=3, m=4):\n",
    "# YOUR CODE HERE\n",
    "raise NotImplementedError()\n",
    "def rand2(n=3, m=4, a=6, b=7):\n",
    "# YOUR CODE HERE\n",
    "raise NotImplementedError()"
   ]
  },
  {
   "cell_type": "code",
   "execution_count": null,
   "metadata": {
    "deletable": false,
    "editable": false,
    "nbgrader": {
     "checksum": "407012efd8b3bf85712cab4a2635e7b5",
     "grade": true,
     "grade_id": "cell-4748bfd79b06da2a",
     "locked": true,
     "points": 2,
     "schema_version": 1,
     "solution": false
    }
   },
   "outputs": [],
   "source": [
    "assert np.min(rand1(10, 11)) >= 0\n",
    "assert np.max(rand1(10, 10)) < 1\n",
    "assert np.min(rand2(10, 12, 3,7)) >= 3\n",
    "assert np.max(rand2(10, 12, 3,7)) < 7\n",
    "assert np.shape(rand2(10, 12, 3,7)) == (10, 12)\n",
    "assert np.shape(rand1(10, 15)) == (10, 15)"
   ]
  },
  {
   "cell_type": "markdown",
   "metadata": {
    "deletable": false,
    "editable": false,
    "nbgrader": {
     "checksum": "df8373e3b1e7bc15c9162f3094431b07",
     "grade": false,
     "grade_id": "cell-a8bd94c824c32640",
     "locked": true,
     "schema_version": 1,
     "solution": false
    }
   },
   "source": [
    "## Znajdź wskaźniki dla których wartości wektora są równe zero"
   ]
  },
  {
   "cell_type": "code",
   "execution_count": null,
   "metadata": {
    "deletable": false,
    "nbgrader": {
     "checksum": "b7ee9911bf4e8a6c6e3e055cddccfee3",
     "grade": false,
     "grade_id": "cell-3dec5ac38532d35e",
     "locked": false,
     "schema_version": 1,
     "solution": true
    }
   },
   "outputs": [],
   "source": [
    "def is_zero(x):\n",
    "# YOUR CODE HERE\n",
    "raise NotImplementedError()"
   ]
  },
  {
   "cell_type": "code",
   "execution_count": null,
   "metadata": {
    "deletable": false,
    "editable": false,
    "nbgrader": {
     "checksum": "fda52ce52be0f6c00d6bb3842d376a74",
     "grade": true,
     "grade_id": "cell-52fa129f65194a82",
     "locked": true,
     "points": 2,
     "schema_version": 1,
     "solution": false
    }
   },
   "outputs": [],
   "source": [
    "x = np.array([1,2,0,1,0,11])\n",
    "np.testing.assert_equal(is_zero(x), np.array([2,4]) ) "
   ]
  },
  {
   "cell_type": "markdown",
   "metadata": {
    "deletable": false,
    "editable": false,
    "nbgrader": {
     "checksum": "79526d7d0b0442c35079423c83ea3459",
     "grade": false,
     "grade_id": "cell-830d830bcd707054",
     "locked": true,
     "schema_version": 1,
     "solution": false
    }
   },
   "source": [
    "## Oblicz dla zadanego wektora jego wartość najmniejszą, największą oraz średnią."
   ]
  },
  {
   "cell_type": "code",
   "execution_count": null,
   "metadata": {
    "deletable": false,
    "nbgrader": {
     "checksum": "56fdb93968d46268854d01fdb5a5cc8e",
     "grade": false,
     "grade_id": "cell-c15c1bf47a13ebad",
     "locked": false,
     "schema_version": 1,
     "solution": true
    }
   },
   "outputs": [],
   "source": [
    "def mystats(x):\n",
    "# YOUR CODE HERE\n",
    "raise NotImplementedError()"
   ]
  },
  {
   "cell_type": "code",
   "execution_count": null,
   "metadata": {
    "deletable": false,
    "editable": false,
    "nbgrader": {
     "checksum": "255fdd2f843c42a6a54dd462c142678e",
     "grade": true,
     "grade_id": "cell-6789a38d4549443a",
     "locked": true,
     "points": 2,
     "schema_version": 1,
     "solution": false
    }
   },
   "outputs": [],
   "source": [
    "x = np.array([1,2,0,1,0,11])\n",
    "assert  mystats(x) == (0, 11, 2.5) "
   ]
  },
  {
   "cell_type": "markdown",
   "metadata": {
    "deletable": false,
    "editable": false,
    "nbgrader": {
     "checksum": "543cb97064c70c2a2979c7c5df869604",
     "grade": false,
     "grade_id": "cell-c7e3e36d79c24526",
     "locked": true,
     "schema_version": 1,
     "solution": false
    }
   },
   "source": [
    "## Stwórz dwuwymiarową tablicę z zerami w środku i jedynkami na zewnątrz"
   ]
  },
  {
   "cell_type": "code",
   "execution_count": null,
   "metadata": {
    "deletable": false,
    "nbgrader": {
     "checksum": "07ad060419e56e964d62616346e73b35",
     "grade": false,
     "grade_id": "cell-e2ca9f36bc360a8a",
     "locked": false,
     "schema_version": 1,
     "solution": true
    }
   },
   "outputs": [],
   "source": [
    "def zeros_padded(n=4):\n",
    "# YOUR CODE HERE\n",
    "raise NotImplementedError()"
   ]
  },
  {
   "cell_type": "code",
   "execution_count": null,
   "metadata": {
    "deletable": false,
    "editable": false,
    "nbgrader": {
     "checksum": "bdce289bc83d9bee476b2354a61e81da",
     "grade": true,
     "grade_id": "cell-cd548f3f78efd6cd",
     "locked": true,
     "points": 2,
     "schema_version": 1,
     "solution": false
    }
   },
   "outputs": [],
   "source": [
    "np.testing.assert_equal(zeros_padded(4) , \n",
    "np.array([[ 1.,  1.,  1.,  1.],\n",
    "         [ 1.,  0.,  0.,  1.],\n",
    "         [ 1.,  0.,  0.,  1.],\n",
    "         [ 1.,  1.,  1.,  1.]]))\n"
   ]
  },
  {
   "cell_type": "markdown",
   "metadata": {
    "deletable": false,
    "editable": false,
    "nbgrader": {
     "checksum": "0cb459eae7748a90542732559377a4c9",
     "grade": false,
     "grade_id": "cell-f59946960468abfc",
     "locked": true,
     "schema_version": 1,
     "solution": false
    }
   },
   "source": [
    "\n",
    "## Używając `np.pad` dodaj do tablicy otoczenie z wartością 3"
   ]
  },
  {
   "cell_type": "code",
   "execution_count": null,
   "metadata": {
    "deletable": false,
    "nbgrader": {
     "checksum": "50e1294e7b396c1304fef797c07c0175",
     "grade": false,
     "grade_id": "cell-974a225dc7e83feb",
     "locked": false,
     "schema_version": 1,
     "solution": true
    }
   },
   "outputs": [],
   "source": [
    "def pad3(x):\n",
    "# YOUR CODE HERE\n",
    "raise NotImplementedError()"
   ]
  },
  {
   "cell_type": "code",
   "execution_count": null,
   "metadata": {
    "deletable": false,
    "editable": false,
    "nbgrader": {
     "checksum": "5d72c0898689f0a9d5ccfed5804a265d",
     "grade": true,
     "grade_id": "cell-bce6102cad485520",
     "locked": true,
     "points": 2,
     "schema_version": 1,
     "solution": false
    }
   },
   "outputs": [],
   "source": [
    "x = np.ones((2,3))\n",
    "x_pad3 = np.array([[ 3.,  3.,  3.,  3.,  3.],\n",
    "                   [ 3.,  1.,  1.,  1.,  3.],\n",
    "                   [ 3.,  1.,  1.,  1.,  3.],\n",
    "                   [ 3.,  3.,  3.,  3.,  3.]])            \n",
    "np.testing.assert_equal( pad3(x),x_pad3)"
   ]
  },
  {
   "cell_type": "markdown",
   "metadata": {
    "deletable": false,
    "editable": false,
    "nbgrader": {
     "checksum": "00ba33fdf90040f93f15c0694189fa8e",
     "grade": false,
     "grade_id": "cell-aac561876dcc442e",
     "locked": true,
     "schema_version": 1,
     "solution": false
    }
   },
   "source": [
    "## Dla danej tablicy zastąp maksymalne wartości zerami\n"
   ]
  },
  {
   "cell_type": "code",
   "execution_count": null,
   "metadata": {
    "deletable": false,
    "nbgrader": {
     "checksum": "489181249b1108fe98f11fe5d6f59666",
     "grade": false,
     "grade_id": "cell-0af856baae027aa7",
     "locked": false,
     "schema_version": 1,
     "solution": true
    }
   },
   "outputs": [],
   "source": [
    "def maxto0(x):\n",
    "# YOUR CODE HERE\n",
    "raise NotImplementedError()"
   ]
  },
  {
   "cell_type": "code",
   "execution_count": null,
   "metadata": {
    "deletable": false,
    "editable": false,
    "nbgrader": {
     "checksum": "1ed8fd067a722e4c92ef409378f4664d",
     "grade": true,
     "grade_id": "cell-9bd94b25f5056812",
     "locked": true,
     "points": 2,
     "schema_version": 1,
     "solution": false
    }
   },
   "outputs": [],
   "source": [
    "x_expected = np.array([[1, 0, 1, 2],\n",
    "                       [0, 2, 1, 0],\n",
    "                       [2, 0, 2, 1]])\n",
    "\n",
    "x = np.array([[1, 3, 1, 2],\n",
    "                   [3, 2, 1, 3],\n",
    "                   [2, 0, 2, 1]])\n",
    "np.testing.assert_equal(maxto0(x),x_expected)"
   ]
  },
  {
   "cell_type": "markdown",
   "metadata": {
    "deletable": false,
    "editable": false,
    "nbgrader": {
     "checksum": "1c697bcf6165d8baa9ff04101e50c71b",
     "grade": false,
     "grade_id": "cell-f2915e27c6193866",
     "locked": true,
     "schema_version": 1,
     "solution": false
    }
   },
   "source": [
    "## Broadcasting\n",
    "\n",
    "Niech będzie dana tablica  $k$ parametrów  zmierzonych w  $n$  pomiarach: \n",
    "\n",
    " - $ x_{ij} $: $j$-ty parametr w $i$-tym pomiarze\n",
    "\n",
    "Oblicz korzystając z ``numpy`` nie używając pętli:\n",
    "\n",
    " - średnią po pomiarach dla wszyskich zmiennych: $$\\mu_j = \\frac{1}{n} \\sum_{i=1}^n x_{ij}$$\n",
    " - odchylenie od wartości średniej dla każdej zmiennej we wszystkich pomiarach:$$\\Delta_{ij} = x_{ij}-\\mu_j$$\n",
    " - odchylenie średniokwadratowe dla każdej zmiennej: $$\\sigma_j = \\frac{1}{n} \\sum_{j=1}^n (x_{ij}-\\mu_j)^2$$\n",
    " "
   ]
  },
  {
   "cell_type": "code",
   "execution_count": null,
   "metadata": {
    "deletable": false,
    "nbgrader": {
     "checksum": "369a17345764e42857b73f1f414ac24d",
     "grade": false,
     "grade_id": "cell-3ba3e7c55658e301",
     "locked": false,
     "schema_version": 1,
     "solution": true
    }
   },
   "outputs": [],
   "source": [
    "def data_stats(x):\n",
    "# YOUR CODE HERE\n",
    "raise NotImplementedError()"
   ]
  },
  {
   "cell_type": "code",
   "execution_count": null,
   "metadata": {
    "deletable": false,
    "editable": false,
    "nbgrader": {
     "checksum": "11486c2f1182464f969b6e7fa3812baf",
     "grade": true,
     "grade_id": "cell-6c8208eb3399b3a4",
     "locked": true,
     "points": 4,
     "schema_version": 1,
     "solution": false
    }
   },
   "outputs": [],
   "source": [
    "x = np.array([[3, 4, 2, 3],\n",
    "       [3, 4, 3, 4],\n",
    "       [4, 3, 2, 2],\n",
    "       [3, 2, 1, 2],\n",
    "       [3, 2, 3, 1]])\n",
    "x_avg,Delta,sigma = data_stats(x)\n",
    "\n",
    "\n",
    "np.testing.assert_allclose(x_avg,np.array([ 3.2,  3. ,  2.2,  2.4]))\n",
    "np.testing.assert_allclose(Delta,\\\n",
    "  np.array([[-0.2,  1. , -0.2,  0.6],\n",
    "           [-0.2,  1. ,  0.8,  1.6],\n",
    "           [ 0.8,  0. , -0.2, -0.4],\n",
    "           [-0.2, -1. , -1.2, -0.4],\n",
    "           [-0.2, -1. ,  0.8, -1.4]]) )                           \n",
    "np.testing.assert_allclose(sigma,np.array([ 0.16,  0.8 ,  0.56,  1.04]))\n",
    "\n",
    "import inspect\n",
    "blacklist = [\".mean\",\".average\",\"for\",\"while\",\"std\",'var']\n",
    "assert all([ not keyword  in inspect.getsource(data_stats) for keyword in blacklist])\n"
   ]
  },
  {
   "cell_type": "code",
   "execution_count": null,
   "metadata": {},
   "outputs": [],
   "source": []
  },
  {
   "cell_type": "code",
   "execution_count": null,
   "metadata": {},
   "outputs": [],
   "source": []
  }
 ],
 "metadata": {
  "kernelspec": {
   "display_name": "Python 3",
   "language": "python",
   "name": "python3"
  },
  "language_info": {
   "codemirror_mode": {
    "name": "ipython",
    "version": 3
   },
   "file_extension": ".py",
   "mimetype": "text/x-python",
   "name": "python",
   "nbconvert_exporter": "python",
   "pygments_lexer": "ipython3",
   "version": "3.5.5"
  }
 },
 "nbformat": 4,
 "nbformat_minor": 1
}
