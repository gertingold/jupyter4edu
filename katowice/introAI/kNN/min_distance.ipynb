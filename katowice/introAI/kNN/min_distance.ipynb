{
 "cells": [
  {
   "cell_type": "markdown",
   "metadata": {
    "lang": "pl",
    "nbgrader": {
     "grade": false,
     "grade_id": "cell-460bf5fed768602a",
     "locked": true,
     "schema_version": 3,
     "solution": false
    }
   },
   "source": [
    "# Klasyfikator minimalno-odległościowy\n",
    "\n",
    "Notatnik ten zawiera implementacją klasyfikatora minimalno-odległościowego w numpy. Jest on podobny do omawianego na ćwiczeniach klasyfikatora kNN, jednak znacznie od niego prostszy."
   ]
  },
  {
   "cell_type": "markdown",
   "metadata": {
    "lang": "en",
    "nbgrader": {
     "grade": false,
     "grade_id": "cell-38e60289a945a60c",
     "locked": true,
     "schema_version": 3,
     "solution": false,
     "task": false
    }
   },
   "source": [
    "# Minimum distance classifier\n",
    "\n",
    "This notebook contains an implementation of the minimum distance classifier in numpy. It is similar to the kNN classifier discussed in the exercises, but much simpler than it."
   ]
  },
  {
   "cell_type": "markdown",
   "metadata": {
    "lang": "pl",
    "nbgrader": {
     "grade": false,
     "grade_id": "cell-061a38f5c61e7d50",
     "locked": true,
     "schema_version": 3,
     "solution": false
    }
   },
   "source": [
    "**1\\. Generacja danych.**\n",
    "\n",
    "Tym razem, zamiast wczytywać dane, wygeneruj je z wykorzystaniem funkcji [make_blobs](http://scikit-learn.org/0.16/modules/generated/sklearn.datasets.make_blobs.html#sklearn.datasets.make_blobs). \n",
    "\n",
    "Ustaw ilość próbek na `500`, a ilość grup (centrów) na `3`. Ponadto, aby twoje rysunki były analogiczne jak przedstawione poniżej, ważne jest ustawienie `random_state=2`.\n"
   ]
  },
  {
   "cell_type": "markdown",
   "metadata": {
    "lang": "en"
   },
   "source": [
    "**1 \\. Data generation.**\n",
    "\n",
    "This time, instead of loading data, generate it using the function [make_blobs](http://scikit-learn.org/0.16/modules/generated/sklearn.datasets.make_blobs.html#sklearn.datasets.make_blobs).\n",
    "\n",
    "Set the number of samples to `500` and the number of groups (centers) to` 3`. In addition, for your drawings to be analogous to those shown below, it is important to set `random_ state = 2`."
   ]
  },
  {
   "cell_type": "code",
   "execution_count": null,
   "metadata": {
    "nbgrader": {
     "grade": false,
     "grade_id": "cell-db236afd8701d8f5",
     "locked": false,
     "schema_version": 3,
     "solution": true
    }
   },
   "outputs": [],
   "source": [
    "%matplotlib inline\n",
    "import numpy as np \n",
    "from sklearn.naive_bayes import GaussianNB\n",
    "from sklearn.model_selection import train_test_split\n",
    "from sklearn import datasets \n",
    "from sklearn.neighbors import NearestCentroid\n",
    "import matplotlib.pyplot as plt\n",
    "\n",
    "#metoda generujaca dane treningowe i testowe\n",
    "from sklearn.datasets import make_blobs\n",
    "\n",
    "blobs_data = None\n",
    "blobs_target = None\n",
    "\n",
    "### BEGIN SOLUTION\n",
    "blobs_data, blobs_target = make_blobs(n_samples = 500, n_features=2, centers=3, random_state=2)\n",
    "### END SOLUTION\n"
   ]
  },
  {
   "cell_type": "code",
   "execution_count": null,
   "metadata": {
    "nbgrader": {
     "grade": true,
     "grade_id": "cell-d4aebe31ed7cb880",
     "locked": true,
     "points": 1,
     "schema_version": 3,
     "solution": false
    }
   },
   "outputs": [],
   "source": [
    "assert blobs_data.shape == (500, 2)\n",
    "assert blobs_data.shape[0] == blobs_target.shape[0]"
   ]
  },
  {
   "cell_type": "code",
   "execution_count": null,
   "metadata": {
    "nbgrader": {
     "grade": true,
     "grade_id": "cell-f2316e78e7611e1e",
     "locked": true,
     "points": 1,
     "schema_version": 3,
     "solution": false
    }
   },
   "outputs": [],
   "source": [
    "### BEGIN HIDDEN TESTS\n",
    "X, Y  = make_blobs(n_samples = 500, n_features=2, centers=3, random_state=2)\n",
    "np.testing.assert_array_equal(blobs_data,  X)\n",
    "### END HIDDEN TESTS"
   ]
  },
  {
   "cell_type": "markdown",
   "metadata": {
    "lang": "pl",
    "nbgrader": {
     "grade": false,
     "grade_id": "cell-45881dc3ae74cde8",
     "locked": true,
     "schema_version": 3,
     "solution": false
    }
   },
   "source": [
    "**Wizualizacja wygenerowanych danych**"
   ]
  },
  {
   "cell_type": "markdown",
   "metadata": {
    "lang": "en"
   },
   "source": [
    "**Visualization of generated data**"
   ]
  },
  {
   "cell_type": "code",
   "execution_count": null,
   "metadata": {},
   "outputs": [],
   "source": [
    "plt.scatter(blobs_data[:,0], blobs_data[:,1],c= np.ravel(blobs_target))"
   ]
  },
  {
   "cell_type": "markdown",
   "metadata": {
    "lang": "pl",
    "nbgrader": {
     "grade": false,
     "grade_id": "cell-9b4588927a13f28d",
     "locked": true,
     "schema_version": 3,
     "solution": false
    }
   },
   "source": [
    "**2\\. Normalizacja danych wejściowych**\n",
    "\n",
    "Przed rozpoczęciem należy zapewnić bezpośrednią porównywalność cech, czyli dokonać normalizacji. Skorzystaj ze wzoru z [Definicji 2](http://books.icse.us.edu.pl/runestone/static/ai/IstotaUczeniaNadzorowanegoINienadzorowanego/ReprezentacjaWzorcow.html#przetwarzanie-wstepne) \n",
    " \n",
    "\n",
    " "
   ]
  },
  {
   "cell_type": "markdown",
   "metadata": {
    "lang": "en"
   },
   "source": [
    "**2 \\. Normalization of input data**\n",
    "\n",
    "Prior to commencing, direct comparability of characteristics should be ensured, i.e. normalized. "
   ]
  },
  {
   "cell_type": "code",
   "execution_count": null,
   "metadata": {
    "nbgrader": {
     "grade": false,
     "grade_id": "cell-745098e887853aeb",
     "locked": false,
     "schema_version": 3,
     "solution": true
    }
   },
   "outputs": [],
   "source": [
    "def normalize(v):\n",
    "### BEGIN SOLUTION\n",
    "    return (v-np.mean(v,axis=0))/np.std(v,axis=0)\n",
    "### END SOLUTION"
   ]
  },
  {
   "cell_type": "code",
   "execution_count": null,
   "metadata": {
    "nbgrader": {
     "grade": true,
     "grade_id": "cell-9e8f81aecc25c189",
     "locked": true,
     "points": 1,
     "schema_version": 3,
     "solution": false
    }
   },
   "outputs": [],
   "source": [
    "blobs_data_normalized = normalize(blobs_data)\n",
    "\n",
    "np.testing.assert_array_almost_equal(blobs_data_normalized[100], np.array([0.39173587, 0.67031484]))"
   ]
  },
  {
   "cell_type": "markdown",
   "metadata": {
    "lang": "pl",
    "nbgrader": {
     "grade": false,
     "grade_id": "cell-4002581dab7af406",
     "locked": true,
     "schema_version": 3,
     "solution": false
    }
   },
   "source": [
    "*Wykres po normalizacji*"
   ]
  },
  {
   "cell_type": "markdown",
   "metadata": {
    "lang": "en"
   },
   "source": [
    "*Graph after normalization*"
   ]
  },
  {
   "cell_type": "code",
   "execution_count": null,
   "metadata": {},
   "outputs": [],
   "source": [
    "plt.scatter(blobs_data_normalized[:,0], blobs_data_normalized[:,1],c= np.ravel(blobs_target))"
   ]
  },
  {
   "cell_type": "markdown",
   "metadata": {
    "lang": "pl",
    "nbgrader": {
     "grade": false,
     "grade_id": "cell-b142fa05667052d0",
     "locked": true,
     "schema_version": 3,
     "solution": false
    }
   },
   "source": [
    "**3\\. Podział na dane treningowe i testowe.**\n",
    "\n",
    "W sposób losowy podziel wygenerowane dane na zriór uczący i testowy w proporcji 70% do 30%. Ustaw `random_state=123`"
   ]
  },
  {
   "cell_type": "markdown",
   "metadata": {
    "lang": "en",
    "nbgrader": {
     "grade": false,
     "grade_id": "cell-431879d235aaa5f1",
     "locked": true,
     "schema_version": 3,
     "solution": false,
     "task": false
    }
   },
   "source": [
    "**3 \\. Division into training and test data.**\n",
    "\n",
    "Randomly split the generated data into a learning and test grid in a 70% to 30% ratio. Set `random_state = 123`"
   ]
  },
  {
   "cell_type": "code",
   "execution_count": null,
   "metadata": {
    "nbgrader": {
     "grade": false,
     "grade_id": "cell-06baa48baafd612d",
     "locked": false,
     "schema_version": 3,
     "solution": true
    }
   },
   "outputs": [],
   "source": [
    "train, test, train_labels, test_labels = None, None, None, None\n",
    "\n",
    "### BEGIN SOLUTION\n",
    "train, test, train_labels, test_labels = \\\n",
    "                        train_test_split(blobs_data_normalized, blobs_target, test_size=0.3, random_state=123)\n",
    "###END SOLUTION"
   ]
  },
  {
   "cell_type": "code",
   "execution_count": null,
   "metadata": {
    "nbgrader": {
     "grade": true,
     "grade_id": "cell-45d84e2d05c1d2c5",
     "locked": true,
     "points": 1,
     "schema_version": 3,
     "solution": false
    }
   },
   "outputs": [],
   "source": [
    "assert np.shape(train)[0] == 0.7 * np.shape(blobs_data_normalized)[0]\n",
    "assert np.shape(test)[0] == np.shape(blobs_data_normalized)[0] - np.shape(train)[0]"
   ]
  },
  {
   "cell_type": "markdown",
   "metadata": {
    "lang": "pl",
    "nbgrader": {
     "grade": false,
     "grade_id": "cell-527b9874de34b297",
     "locked": true,
     "schema_version": 3,
     "solution": false
    }
   },
   "source": [
    "**4\\. Wyznacz obiekt typowy dla każdej klasy, czyli prezentowana przez jeden typowy dla niej obiekt.**\n",
    "\n",
    "W roli tego reprezentanta najczęściej występuje środek (średnia arytmetyczna) obiektów z danej klasy. "
   ]
  },
  {
   "cell_type": "markdown",
   "metadata": {
    "lang": "en",
    "nbgrader": {
     "grade": false,
     "grade_id": "cell-f0fed61ca99b9cb6",
     "locked": true,
     "schema_version": 3,
     "solution": false,
     "task": false
    }
   },
   "source": [
    "**4 \\. Designate a typical object for each class, i.e. represented by one typical object for it.**\n",
    "\n",
    "The role of this representative is most often the center (arithmetic mean) of objects from a given class."
   ]
  },
  {
   "cell_type": "code",
   "execution_count": null,
   "metadata": {
    "nbgrader": {
     "grade": false,
     "grade_id": "cell-bd7eedbdbde12c99",
     "locked": false,
     "schema_version": 3,
     "solution": true
    }
   },
   "outputs": [],
   "source": [
    "class_means = None\n",
    "### BEGIN SOLUTION\n",
    "class_means = np.vstack([ np.mean( train[np.ravel(train_labels==i)], axis=0) for i in np.unique(train_labels) ])\n",
    "###END SOLUTION"
   ]
  },
  {
   "cell_type": "code",
   "execution_count": null,
   "metadata": {
    "nbgrader": {
     "grade": true,
     "grade_id": "cell-960bc805cb3fb97f",
     "locked": true,
     "points": 1,
     "schema_version": 3,
     "solution": false
    }
   },
   "outputs": [],
   "source": [
    "assert class_means[0,1]==-1.3155046512783324"
   ]
  },
  {
   "cell_type": "code",
   "execution_count": null,
   "metadata": {
    "nbgrader": {
     "grade": true,
     "grade_id": "cell-40595cbe4a62bad9",
     "locked": true,
     "points": 1,
     "schema_version": 3,
     "solution": false
    }
   },
   "outputs": [],
   "source": [
    "### BEGIN HIDDEN TESTS\n",
    "np.testing.assert_array_almost_equal(class_means, \\\n",
    "                 np.vstack([ np.mean( train[np.ravel(train_labels==i)], axis=0) for i in np.unique(train_labels) ]))\n",
    "### END HIDDEN TESTS"
   ]
  },
  {
   "cell_type": "code",
   "execution_count": null,
   "metadata": {},
   "outputs": [],
   "source": [
    "plt.scatter(train[:,0], train[:,1],c= np.ravel(train_labels))\n",
    "plt.plot(class_means[0,0], class_means[0,1], 'ro',markersize=10)\n",
    "plt.plot(class_means[1,0], class_means[1,1], 'ro',markersize=10)\n",
    "plt.plot(class_means[2,0], class_means[2,1], 'ro',markersize=10)"
   ]
  },
  {
   "cell_type": "markdown",
   "metadata": {
    "lang": "pl",
    "nbgrader": {
     "grade": false,
     "grade_id": "cell-905fa05a306d8856",
     "locked": true,
     "schema_version": 3,
     "solution": false
    }
   },
   "source": [
    "**5\\. Odległość wektorów testowych od reprezentantów klas**\n",
    "\n",
    "Dla każdej danej testowej, reprezentowanej przez wektor cech wyznacz odległość od reprezentantów klas\n"
   ]
  },
  {
   "cell_type": "markdown",
   "metadata": {
    "lang": "en",
    "nbgrader": {
     "grade": false,
     "grade_id": "cell-13783dee9f6ee6c9",
     "locked": true,
     "schema_version": 3,
     "solution": false,
     "task": false
    }
   },
   "source": [
    "**5 \\. Distance of test vectors from class representatives**\n",
    "\n",
    "Determine the distance from class representatives for each test data represented by the feature vector"
   ]
  },
  {
   "cell_type": "code",
   "execution_count": null,
   "metadata": {
    "nbgrader": {
     "grade": false,
     "grade_id": "cell-d4221fb38c3dd2f3",
     "locked": false,
     "schema_version": 3,
     "solution": true
    }
   },
   "outputs": [],
   "source": [
    "def distances(x):\n",
    "    ### BEGIN SOLUTION\n",
    "    return np.stack([ np.sqrt(np.sum( (x - class_means[i])**2, axis=1)) for i in range(len(class_means)) ]).T\n",
    "    \n",
    "    ###END SOLUTION"
   ]
  },
  {
   "cell_type": "code",
   "execution_count": null,
   "metadata": {
    "nbgrader": {
     "grade": true,
     "grade_id": "cell-df1c3578dc96fc10",
     "locked": true,
     "points": 1,
     "schema_version": 3,
     "solution": false
    }
   },
   "outputs": [],
   "source": [
    "assert distances(test).shape == (150,3)\n",
    "assert distances(test)[1,1]==1.7886834573805668"
   ]
  },
  {
   "cell_type": "code",
   "execution_count": null,
   "metadata": {
    "nbgrader": {
     "grade": true,
     "grade_id": "cell-47caa285c8ae35e3",
     "locked": true,
     "points": 1,
     "schema_version": 3,
     "solution": false
    }
   },
   "outputs": [],
   "source": [
    "### BEGIN HIDDEN TESTS\n",
    "np.testing.assert_array_almost_equal(distances(test), \\\n",
    "                 np.stack([ np.sqrt(np.sum( (test - class_means[i])**2, axis=1)) for i in range(len(class_means)) ]).T)\n",
    "### END HIDDEN TESTS"
   ]
  },
  {
   "cell_type": "markdown",
   "metadata": {
    "lang": "pl",
    "nbgrader": {
     "grade": false,
     "grade_id": "cell-990ae2c0e069ab46",
     "locked": true,
     "schema_version": 3,
     "solution": false
    }
   },
   "source": [
    "**6\\. Funkcja klasyfikująca**\n",
    "\n",
    "Dla danych testowych wyznacza klasę, dla której obiekt ją reprezentujący jest najbliższy."
   ]
  },
  {
   "cell_type": "markdown",
   "metadata": {
    "lang": "en",
    "nbgrader": {
     "grade": false,
     "grade_id": "cell-6fa71ef1dca54777",
     "locked": true,
     "schema_version": 3,
     "solution": false,
     "task": false
    }
   },
   "source": [
    "**6 \\. Classifying function**\n",
    "\n",
    "For test data, it determines the class for which the object representing it is closest."
   ]
  },
  {
   "cell_type": "code",
   "execution_count": null,
   "metadata": {
    "nbgrader": {
     "grade": false,
     "grade_id": "cell-e28f8924418a30cc",
     "locked": false,
     "schema_version": 3,
     "solution": true
    }
   },
   "outputs": [],
   "source": [
    "def classify(x):\n",
    "    ### BEGIN SOLUTION\n",
    "    return np.argmin(distances(x), axis=1)\n",
    "    \n",
    "    ###END SOLUTION"
   ]
  },
  {
   "cell_type": "code",
   "execution_count": null,
   "metadata": {
    "nbgrader": {
     "grade": true,
     "grade_id": "cell-8cdea8aab0147769",
     "locked": true,
     "points": 1,
     "schema_version": 3,
     "solution": false
    }
   },
   "outputs": [],
   "source": [
    "assert classify(test).shape == (150,)\n",
    "assert classify(test)[100]==2"
   ]
  },
  {
   "cell_type": "code",
   "execution_count": null,
   "metadata": {
    "nbgrader": {
     "grade": true,
     "grade_id": "cell-a908554b7c117e96",
     "locked": true,
     "points": 1,
     "schema_version": 3,
     "solution": false
    }
   },
   "outputs": [],
   "source": [
    "### BEGIN HIDDEN TESTS\n",
    "np.testing.assert_array_almost_equal(classify(test), \\\n",
    "                 np.argmin(distances(test), axis=1))\n",
    "### END HIDDEN TESTS"
   ]
  },
  {
   "cell_type": "markdown",
   "metadata": {
    "lang": "pl",
    "nbgrader": {
     "grade": false,
     "grade_id": "cell-6c41eb4e92aba3fd",
     "locked": true,
     "schema_version": 3,
     "solution": false
    }
   },
   "source": [
    "**7\\. Jaki jest procent poprawych odpowiedzi?**"
   ]
  },
  {
   "cell_type": "markdown",
   "metadata": {
    "lang": "en",
    "nbgrader": {
     "grade": false,
     "grade_id": "cell-36c0b1cfc693535d",
     "locked": true,
     "schema_version": 3,
     "solution": false,
     "task": false
    }
   },
   "source": [
    "**7 \\. What is the percentage of correct answers?**"
   ]
  },
  {
   "cell_type": "code",
   "execution_count": null,
   "metadata": {
    "nbgrader": {
     "grade": false,
     "grade_id": "cell-b07385a8ff9c2ace",
     "locked": false,
     "schema_version": 3,
     "solution": true
    }
   },
   "outputs": [],
   "source": [
    "score = None\n",
    "### BEGIN SOLUTION\n",
    "score = np.sum(classify(test)==test_labels)/len(test_labels)\n",
    "    \n",
    "###END SOLUTION"
   ]
  },
  {
   "cell_type": "code",
   "execution_count": null,
   "metadata": {
    "nbgrader": {
     "grade": true,
     "grade_id": "cell-f97ef3326dc37ad2",
     "locked": true,
     "points": 1,
     "schema_version": 3,
     "solution": false
    }
   },
   "outputs": [],
   "source": [
    "np.testing.assert_almost_equal(score, 0.9666666666666667)"
   ]
  },
  {
   "cell_type": "markdown",
   "metadata": {
    "lang": "pl",
    "nbgrader": {
     "grade": false,
     "grade_id": "cell-e6743c3b90340428",
     "locked": true,
     "schema_version": 3,
     "solution": false
    }
   },
   "source": [
    "**8\\. Stwórz klasę `MinimumDistanceClassifier` analogiczną do klasy `NearestCentroid` z `sklearn`**"
   ]
  },
  {
   "cell_type": "markdown",
   "metadata": {
    "lang": "en",
    "nbgrader": {
     "grade": false,
     "grade_id": "cell-ae7ee4a702394645",
     "locked": true,
     "schema_version": 3,
     "solution": false,
     "task": false
    }
   },
   "source": [
    "**8 \\. Create a `MinimumDistanceClassifier` class analogous to the` NearestCentroid` class with `sklearn`**"
   ]
  },
  {
   "cell_type": "code",
   "execution_count": null,
   "metadata": {
    "nbgrader": {
     "grade": false,
     "grade_id": "cell-f88c73b3540e0184",
     "locked": false,
     "schema_version": 3,
     "solution": true
    }
   },
   "outputs": [],
   "source": [
    "class MinimumDistanceClassifier():\n",
    "    #wyznacza elementy reprezentatywne\n",
    "    def fit(self, train, train_labels):\n",
    "        pass\n",
    "    #wyznacza klasę dla każdej danej testowej\n",
    "    def predict(self, test):\n",
    "        pass\n",
    "    #wyznacza dokładność klasyfikatora\n",
    "    def score(self, test, test_labels):\n",
    "        pass\n",
    "    ### BEGIN SOLUTION\n",
    "    def fit(self, train, train_labels):\n",
    "        self.class_means = np.vstack([ np.mean( train[np.ravel(train_labels==i)], axis=0) \\\n",
    "                                                              for i in np.unique(train_labels) ])\n",
    "    \n",
    "    def predict(self, test):\n",
    "        dists = np.stack([ np.sqrt(np.sum( (test - self.class_means[i])**2, axis=1)) \\\n",
    "                                                                  for i in range(len(self.class_means)) ]).T\n",
    "        return np.argmin(dists, axis=1)\n",
    "    \n",
    "    def score(self, test, test_labels):\n",
    "        return np.sum(self.predict(test)==test_labels)/len(test_labels)\n",
    "    \n",
    "    ###END SOLUTION\n",
    "        "
   ]
  },
  {
   "cell_type": "code",
   "execution_count": null,
   "metadata": {
    "nbgrader": {
     "grade": true,
     "grade_id": "cell-6ffcb82206769a70",
     "locked": true,
     "points": 5,
     "schema_version": 3,
     "solution": false
    }
   },
   "outputs": [],
   "source": [
    "clf = MinimumDistanceClassifier()\n",
    "clf.fit(train, train_labels)\n",
    "clf.score(test, test_labels)\n",
    "np.testing.assert_almost_equal(score, clf.score(test, test_labels))"
   ]
  },
  {
   "cell_type": "markdown",
   "metadata": {
    "lang": "pl",
    "nbgrader": {
     "grade": false,
     "grade_id": "cell-689557e703e4bf2e",
     "locked": true,
     "schema_version": 3,
     "solution": false
    }
   },
   "source": [
    "**9\\. Porównanie z klasyfikatorem `NearestCentroid` z `sklearn`**"
   ]
  },
  {
   "cell_type": "markdown",
   "metadata": {
    "lang": "en",
    "nbgrader": {
     "grade": false,
     "grade_id": "cell-88e45242e59d1314",
     "locked": true,
     "schema_version": 3,
     "solution": false,
     "task": false
    }
   },
   "source": [
    "**9 \\. Comparison with the `NearestCentroid` classifier with` sklearn`**"
   ]
  },
  {
   "cell_type": "code",
   "execution_count": null,
   "metadata": {
    "nbgrader": {
     "grade": true,
     "grade_id": "cell-a9938b5f0cb4fca7",
     "locked": true,
     "points": 5,
     "schema_version": 3,
     "solution": false
    }
   },
   "outputs": [],
   "source": [
    "from sklearn.neighbors import NearestCentroid \n",
    "\n",
    "ncent = NearestCentroid()\n",
    "ncent.fit(train, train_labels)\n",
    "np.testing.assert_array_almost_equal(ncent.predict(test),  clf.predict(test))\n",
    "assert ncent.score(test, test_labels) == clf.score(test, test_labels)\n"
   ]
  },
  {
   "cell_type": "code",
   "execution_count": null,
   "metadata": {},
   "outputs": [],
   "source": [
    "h = .02\n",
    "x_min, x_max = train[:, 0].min() - 1, train[:, 0].max() + 1\n",
    "y_min, y_max = train[:, 1].min() - 1, train[:, 1].max() + 1\n",
    "xx, yy = np.meshgrid(np.arange(x_min, x_max, h),\n",
    "                         np.arange(y_min, y_max, h))\n",
    "Z = clf.predict(np.c_[xx.ravel(), yy.ravel()])"
   ]
  },
  {
   "cell_type": "code",
   "execution_count": null,
   "metadata": {},
   "outputs": [],
   "source": [
    "Z = Z.reshape(xx.shape)\n",
    "\n",
    "plt.pcolormesh(xx, yy, Z, alpha=0.1)\n",
    "plt.scatter(train[:,0], train[:,1],c= np.ravel(train_labels))\n",
    "plt.plot(class_means[0,0], class_means[0,1], 'ro',markersize=10)\n",
    "plt.plot(class_means[1,0], class_means[1,1], 'ro',markersize=10)\n",
    "plt.plot(class_means[2,0], class_means[2,1], 'ro',markersize=10)"
   ]
  }
 ],
 "metadata": {
  "celltoolbar": "Create Assignment",
  "kernelspec": {
   "display_name": "Python 3",
   "language": "python",
   "name": "python3"
  },
  "language_info": {
   "codemirror_mode": {
    "name": "ipython",
    "version": 3
   },
   "file_extension": ".py",
   "mimetype": "text/x-python",
   "name": "python",
   "nbconvert_exporter": "python",
   "pygments_lexer": "ipython3",
   "version": "3.7.4"
  },
  "nbTranslate": {
   "displayLangs": [
    "pl",
    "en"
   ],
   "hotkey": "alt-t",
   "langInMainMenu": true,
   "sourceLang": "pl",
   "targetLang": "en",
   "useGoogleTranslate": true
  }
 },
 "nbformat": 4,
 "nbformat_minor": 2
}
