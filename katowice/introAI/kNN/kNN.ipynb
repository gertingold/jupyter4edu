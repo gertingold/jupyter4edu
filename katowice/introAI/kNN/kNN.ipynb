{
 "cells": [
  {
   "cell_type": "markdown",
   "metadata": {},
   "source": [
    "# Podstawy Sztucznej Inteligencji 2017/2018\n",
    "\n"
   ]
  },
  {
   "cell_type": "markdown",
   "metadata": {},
   "source": [
    "Prosze uzupelnic kod tam gdzie znajduje napis `YOUR CODE HERE` lub 'YOUR ANSWER HERE'.\n",
    "\n",
    "Warto zresetowac 'kernel' i sprawdzic czy caly notatnik uruchamiany od poczatku nie daje bledow."
   ]
  },
  {
   "cell_type": "code",
   "execution_count": null,
   "metadata": {},
   "outputs": [],
   "source": []
  },
  {
   "cell_type": "markdown",
   "metadata": {},
   "source": [
    "---"
   ]
  },
  {
   "cell_type": "markdown",
   "metadata": {
    "deletable": false,
    "editable": false,
    "nbgrader": {
     "checksum": "e1f93f5ff88dcf4af9ae9c0728faf039",
     "grade": false,
     "grade_id": "cell-460bf5fed768602a",
     "locked": true,
     "schema_version": 1,
     "solution": false
    }
   },
   "source": [
    "# Klasyfikator kNN\n",
    "\n",
    "Notatnik ten zawiera implementacją klasyfikatora kNN (k najbliższych sąsiadów z ang. k nearest neighbours).  W tej metodzie klasyfikowany obiekt przydzielamy do tej klasy, do której należy większość z jego `k` sąsiadów.\n"
   ]
  },
  {
   "cell_type": "markdown",
   "metadata": {
    "deletable": false,
    "editable": false,
    "nbgrader": {
     "checksum": "1149f6612ea870c8b57b23d09707e8c7",
     "grade": false,
     "grade_id": "cell-061a38f5c61e7d50",
     "locked": true,
     "schema_version": 1,
     "solution": false
    }
   },
   "source": [
    "**1\\. Generacja danych.**\n",
    "\n",
    "Tym razem, zamiast wczytywać dane, wygeneruj je z wykorzystaniem funkcji [make_blobs](http://scikit-learn.org/0.16/modules/generated/sklearn.datasets.make_blobs.html#sklearn.datasets.make_blobs). \n",
    "\n",
    "Ustaw ilość próbek na `500`, a ilość grup (centrów) na `3`. Ponadto, aby twoje rysunki były identyczne jak przedstawione poniżej, ważne jest ustawienie `random_state=2`.\n"
   ]
  },
  {
   "cell_type": "code",
   "execution_count": null,
   "metadata": {
    "deletable": false,
    "nbgrader": {
     "checksum": "c621d29a23898ea28abf8a6d8feeaec6",
     "grade": false,
     "grade_id": "cell-db236afd8701d8f5",
     "locked": false,
     "schema_version": 1,
     "solution": true
    }
   },
   "outputs": [],
   "source": [
    "%matplotlib inline\n",
    "import numpy as np \n",
    "from sklearn.naive_bayes import GaussianNB\n",
    "from sklearn.model_selection import train_test_split\n",
    "from sklearn import datasets \n",
    "from sklearn.neighbors import NearestCentroid\n",
    "import matplotlib.pyplot as plt\n",
    "\n",
    "#metoda generujaca dane treningowe i testowe\n",
    "from sklearn.datasets import make_blobs\n",
    "\n",
    "blobs_data = None\n",
    "blobs_target = None\n",
    "\n",
    "# YOUR CODE HERE\n",
    "raise NotImplementedError()\n",
    "\n",
    "\n"
   ]
  },
  {
   "cell_type": "code",
   "execution_count": null,
   "metadata": {
    "deletable": false,
    "editable": false,
    "nbgrader": {
     "checksum": "d1467f36b5998344d35a3d09e39760af",
     "grade": true,
     "grade_id": "cell-d4aebe31ed7cb880",
     "locked": true,
     "points": 1,
     "schema_version": 1,
     "solution": false
    }
   },
   "outputs": [],
   "source": [
    "assert blobs_data.shape == (500, 2)\n",
    "assert blobs_data.shape[0] == blobs_target.shape[0]"
   ]
  },
  {
   "cell_type": "code",
   "execution_count": null,
   "metadata": {
    "deletable": false,
    "editable": false,
    "nbgrader": {
     "checksum": "dc6de39320b6a7807f9ae8343816e0ac",
     "grade": true,
     "grade_id": "cell-f2316e78e7611e1e",
     "locked": true,
     "points": 1,
     "schema_version": 1,
     "solution": false
    }
   },
   "outputs": [],
   "source": []
  },
  {
   "cell_type": "markdown",
   "metadata": {
    "deletable": false,
    "editable": false,
    "nbgrader": {
     "checksum": "fcb12f9090730888c2c948790b94ebdc",
     "grade": false,
     "grade_id": "cell-45881dc3ae74cde8",
     "locked": true,
     "schema_version": 1,
     "solution": false
    }
   },
   "source": [
    "**Wizualizacja wygenerowanych danych**"
   ]
  },
  {
   "cell_type": "code",
   "execution_count": null,
   "metadata": {
    "deletable": false,
    "editable": false,
    "nbgrader": {
     "checksum": "e47d9912ad30bde4d7b658b998f671b8",
     "grade": false,
     "grade_id": "cell-efa57bc3c4f70f53",
     "locked": true,
     "schema_version": 1,
     "solution": false
    }
   },
   "outputs": [],
   "source": [
    "plt.scatter(blobs_data[:,0], blobs_data[:,1],c= np.ravel(blobs_target))"
   ]
  },
  {
   "cell_type": "markdown",
   "metadata": {
    "deletable": false,
    "editable": false,
    "nbgrader": {
     "checksum": "fc7b3460da711206808499b98baf6dde",
     "grade": false,
     "grade_id": "cell-df4975794ea754a6",
     "locked": true,
     "schema_version": 1,
     "solution": false
    }
   },
   "source": [
    "Powyższy wykres powinien wyglądać następująco:\n",
    "\n",
    "![title](blobs.png)"
   ]
  },
  {
   "cell_type": "markdown",
   "metadata": {
    "deletable": false,
    "editable": false,
    "nbgrader": {
     "checksum": "6da86a6891140d7eb6de647fc3959aae",
     "grade": false,
     "grade_id": "cell-9b4588927a13f28d",
     "locked": true,
     "schema_version": 1,
     "solution": false
    }
   },
   "source": [
    "** 2\\. Normalizacja danych wejściowych**\n",
    "\n",
    "Przed rozpoczęciem należy zapewnić bezpośrednią porównywalność cech, czyli dokonać normalizacji. Skorzystaj ze wzoru z [Definicji 2](http://books.icse.us.edu.pl/runestone/static/ai/IstotaUczeniaNadzorowanegoINienadzorowanego/ReprezentacjaWzorcow.html#przetwarzanie-wstepne) \n",
    " \n",
    "\n",
    " "
   ]
  },
  {
   "cell_type": "code",
   "execution_count": null,
   "metadata": {
    "deletable": false,
    "nbgrader": {
     "checksum": "b8b486ac4b681a4d56ede17bc6c2ebd5",
     "grade": false,
     "grade_id": "cell-745098e887853aeb",
     "locked": false,
     "schema_version": 1,
     "solution": true
    }
   },
   "outputs": [],
   "source": [
    "def normalize(v):\n",
    "# YOUR CODE HERE\n",
    "raise NotImplementedError()"
   ]
  },
  {
   "cell_type": "code",
   "execution_count": null,
   "metadata": {
    "deletable": false,
    "editable": false,
    "nbgrader": {
     "checksum": "7ac22840624cd4763d1471ff5feb86af",
     "grade": true,
     "grade_id": "cell-9e8f81aecc25c189",
     "locked": true,
     "points": 1,
     "schema_version": 1,
     "solution": false
    }
   },
   "outputs": [],
   "source": [
    "blobs_data_normalized = normalize(blobs_data)\n",
    "\n",
    "np.testing.assert_array_almost_equal(blobs_data_normalized[100], np.array([0.39173587, 0.67031484]))"
   ]
  },
  {
   "cell_type": "markdown",
   "metadata": {
    "deletable": false,
    "editable": false,
    "nbgrader": {
     "checksum": "9df8eabebd2bf91a847ebec1fa896e92",
     "grade": false,
     "grade_id": "cell-4002581dab7af406",
     "locked": true,
     "schema_version": 1,
     "solution": false
    }
   },
   "source": [
    "**Wykres po normalizacji**"
   ]
  },
  {
   "cell_type": "code",
   "execution_count": null,
   "metadata": {
    "deletable": false,
    "editable": false,
    "nbgrader": {
     "checksum": "e14a870fd068f3e5f66de1567c9cb5be",
     "grade": false,
     "grade_id": "cell-6247a61da385ab4d",
     "locked": true,
     "schema_version": 1,
     "solution": false
    }
   },
   "outputs": [],
   "source": [
    "plt.scatter(blobs_data_normalized[:,0], blobs_data_normalized[:,1],c = np.ravel(blobs_target))"
   ]
  },
  {
   "cell_type": "markdown",
   "metadata": {
    "deletable": false,
    "editable": false,
    "nbgrader": {
     "checksum": "363095b6a7072c22bd29ecb04d3425dc",
     "grade": false,
     "grade_id": "cell-d2ae5293c2e2f722",
     "locked": true,
     "schema_version": 1,
     "solution": false
    }
   },
   "source": [
    "Powyższy wykres powinien wyglądać następująco:\n",
    "\n",
    "![title](norm_blobs.png)"
   ]
  },
  {
   "cell_type": "markdown",
   "metadata": {
    "deletable": false,
    "editable": false,
    "nbgrader": {
     "checksum": "77f3c973ce01a113cc3148cfbec4f829",
     "grade": false,
     "grade_id": "cell-b142fa05667052d0",
     "locked": true,
     "schema_version": 1,
     "solution": false
    }
   },
   "source": [
    "**3\\. Podział na dane treningowe i testowe.**\n",
    "\n",
    "W sposób losowy podziel wygenerowane dane na zbiór uczący i testowy w proporcji 70% do 30%. \n",
    "\n",
    "Wykorzystaj w tym celu narzędzie  `train_test_split` z `from sklearn.model_selection import`.\n",
    "Ustaw `random_state=123` (tylko w tym przypadku zadziałają automatyczne testy)."
   ]
  },
  {
   "cell_type": "code",
   "execution_count": null,
   "metadata": {
    "deletable": false,
    "nbgrader": {
     "checksum": "8b4a70977626845f425a275c97e5965d",
     "grade": false,
     "grade_id": "cell-06baa48baafd612d",
     "locked": false,
     "schema_version": 1,
     "solution": true
    }
   },
   "outputs": [],
   "source": [
    "train, test, train_labels, test_labels = None, None, None, None\n",
    "\n",
    "# YOUR CODE HERE\n",
    "raise NotImplementedError()"
   ]
  },
  {
   "cell_type": "code",
   "execution_count": null,
   "metadata": {
    "deletable": false,
    "editable": false,
    "nbgrader": {
     "checksum": "aeeeb66534b532a3329ab4f3aab6584b",
     "grade": true,
     "grade_id": "cell-45d84e2d05c1d2c5",
     "locked": true,
     "points": 1,
     "schema_version": 1,
     "solution": false
    }
   },
   "outputs": [],
   "source": [
    "assert np.shape(train)[0] == 0.7 * np.shape(blobs_data_normalized)[0]\n",
    "assert np.shape(test)[0] == np.shape(blobs_data_normalized)[0] - np.shape(train)[0]"
   ]
  },
  {
   "cell_type": "markdown",
   "metadata": {
    "deletable": false,
    "editable": false,
    "nbgrader": {
     "checksum": "83c292d18d05cb1c5c09aebb7f6137df",
     "grade": false,
     "grade_id": "cell-ce16dd523f2ad200",
     "locked": true,
     "schema_version": 1,
     "solution": false
    }
   },
   "source": [
    "**4\\. Odległość wektorów testowych danych treningowych**\n",
    "\n",
    "Dla każdego wektora z danych testowych wyznacz odległość od wszystkich punktów treningowych."
   ]
  },
  {
   "cell_type": "code",
   "execution_count": null,
   "metadata": {
    "deletable": false,
    "nbgrader": {
     "checksum": "dee5eeb75b998bbb78c83fffbe3a1f7b",
     "grade": false,
     "grade_id": "cell-d4221fb38c3dd2f3",
     "locked": false,
     "schema_version": 1,
     "solution": true
    }
   },
   "outputs": [],
   "source": [
    "def distances(x):\n",
    "    # YOUR CODE HERE\n",
    "    raise NotImplementedError()"
   ]
  },
  {
   "cell_type": "code",
   "execution_count": null,
   "metadata": {
    "deletable": false,
    "editable": false,
    "nbgrader": {
     "checksum": "7a6ff8c84133acaec5b187b7377fb102",
     "grade": true,
     "grade_id": "cell-df1c3578dc96fc10",
     "locked": true,
     "points": 1,
     "schema_version": 1,
     "solution": false
    }
   },
   "outputs": [],
   "source": [
    "assert distances(test[0]).shape == (350,)\n",
    "assert distances(test[0])[1]==1.3431124281080467"
   ]
  },
  {
   "cell_type": "code",
   "execution_count": null,
   "metadata": {
    "deletable": false,
    "editable": false,
    "nbgrader": {
     "checksum": "249806f62656d4439d7c50196b32038e",
     "grade": true,
     "grade_id": "cell-0ff9603a0f0048c2",
     "locked": true,
     "points": 1,
     "schema_version": 1,
     "solution": false
    }
   },
   "outputs": [],
   "source": []
  },
  {
   "cell_type": "markdown",
   "metadata": {
    "deletable": false,
    "editable": false,
    "nbgrader": {
     "checksum": "ee8052cd2317ea5c93fdb4b865364a08",
     "grade": false,
     "grade_id": "cell-703af35e479262bd",
     "locked": true,
     "schema_version": 1,
     "solution": false
    }
   },
   "source": [
    "**5\\. Znajdź `k` najbliższych sąsiadów**\n",
    "\n",
    "Dla każdego wektora z danych testowych znajdź klasy `k` najbliższych danych treningowych. Wykorzystaj sortowanie."
   ]
  },
  {
   "cell_type": "code",
   "execution_count": null,
   "metadata": {
    "deletable": false,
    "nbgrader": {
     "checksum": "c88ae30dd4fd03886e2f0ab9187441c9",
     "grade": false,
     "grade_id": "cell-f10abbb3ae59a60e",
     "locked": false,
     "schema_version": 1,
     "solution": true
    }
   },
   "outputs": [],
   "source": [
    "def k_nearest_classes(x, k=1):\n",
    "    # YOUR CODE HERE\n",
    "    raise NotImplementedError()"
   ]
  },
  {
   "cell_type": "code",
   "execution_count": null,
   "metadata": {
    "deletable": false,
    "editable": false,
    "nbgrader": {
     "checksum": "28749b616d1e0dd630f37ea84d82a2aa",
     "grade": true,
     "grade_id": "cell-bbd7f2e633447c5f",
     "locked": true,
     "points": 2,
     "schema_version": 1,
     "solution": false
    }
   },
   "outputs": [],
   "source": [
    "k = 3\n",
    "np.testing.assert_array_equal( k_nearest_classes(test[0], k), [2,2,2])"
   ]
  },
  {
   "cell_type": "markdown",
   "metadata": {
    "deletable": false,
    "editable": false,
    "nbgrader": {
     "checksum": "ecdf04d5679ec444531caaa2324d5cc9",
     "grade": false,
     "grade_id": "cell-990ae2c0e069ab46",
     "locked": true,
     "schema_version": 1,
     "solution": false
    }
   },
   "source": [
    "**6\\. Funkcja klasyfikująca**\n",
    "\n",
    "W głosowaniu wsród najbliższych sąsiadów wyznacz klasę wektora testowego."
   ]
  },
  {
   "cell_type": "code",
   "execution_count": null,
   "metadata": {
    "deletable": false,
    "nbgrader": {
     "checksum": "e402ddac9d8ee51547ba4d087ffb7b3c",
     "grade": false,
     "grade_id": "cell-8c3ddee510a3f96d",
     "locked": false,
     "schema_version": 1,
     "solution": true
    }
   },
   "outputs": [],
   "source": [
    "def classify(x, k=1):\n",
    "    # YOUR CODE HERE\n",
    "    raise NotImplementedError()"
   ]
  },
  {
   "cell_type": "code",
   "execution_count": null,
   "metadata": {
    "deletable": false,
    "editable": false,
    "nbgrader": {
     "checksum": "b2e6c464faedcdf3002147f3456317c9",
     "grade": true,
     "grade_id": "cell-be70a5fa2a61ed80",
     "locked": true,
     "points": 1,
     "schema_version": 1,
     "solution": false
    }
   },
   "outputs": [],
   "source": [
    "assert classify(test, k).shape == (150,)\n",
    "assert classify(test, k)[100]==2"
   ]
  },
  {
   "cell_type": "code",
   "execution_count": null,
   "metadata": {
    "deletable": false,
    "editable": false,
    "nbgrader": {
     "checksum": "9e0680a15eebb8a98fe8b3ce47eb12e5",
     "grade": true,
     "grade_id": "cell-8cf3bce574202bbf",
     "locked": true,
     "points": 1,
     "schema_version": 1,
     "solution": false
    }
   },
   "outputs": [],
   "source": []
  },
  {
   "cell_type": "markdown",
   "metadata": {
    "deletable": false,
    "editable": false,
    "nbgrader": {
     "checksum": "8225c29eff051ad37ad36ee603a401b5",
     "grade": false,
     "grade_id": "cell-6c41eb4e92aba3fd",
     "locked": true,
     "schema_version": 1,
     "solution": false
    }
   },
   "source": [
    "** 7\\. Jaki jest procent poprawych odpowiedzi?**"
   ]
  },
  {
   "cell_type": "code",
   "execution_count": null,
   "metadata": {
    "deletable": false,
    "nbgrader": {
     "checksum": "e6345eba1fba851c49c5245bff334547",
     "grade": false,
     "grade_id": "cell-b07385a8ff9c2ace",
     "locked": false,
     "schema_version": 1,
     "solution": true
    }
   },
   "outputs": [],
   "source": [
    "score = None\n",
    "\n",
    "# YOUR CODE HERE\n",
    "raise NotImplementedError()"
   ]
  },
  {
   "cell_type": "code",
   "execution_count": null,
   "metadata": {
    "deletable": false,
    "editable": false,
    "nbgrader": {
     "checksum": "38b26c0491cf1103124e840dea197bf5",
     "grade": true,
     "grade_id": "cell-f1d78e645d074d86",
     "locked": true,
     "points": 1,
     "schema_version": 1,
     "solution": false
    }
   },
   "outputs": [],
   "source": [
    "np.testing.assert_almost_equal(score, 0.98)"
   ]
  },
  {
   "cell_type": "markdown",
   "metadata": {
    "deletable": false,
    "editable": false,
    "nbgrader": {
     "checksum": "55c8c250fcece323b838531f4cdb118b",
     "grade": false,
     "grade_id": "cell-e6743c3b90340428",
     "locked": true,
     "schema_version": 1,
     "solution": false
    }
   },
   "source": [
    "** 8\\. Stwórz klasę `kNNClassifier` analogiczną do klasy `sklearn.neighbors.KNeighborsClassifier`**"
   ]
  },
  {
   "cell_type": "code",
   "execution_count": null,
   "metadata": {
    "deletable": false,
    "nbgrader": {
     "checksum": "7d198c96d3f33e69e580eb81d3cf8716",
     "grade": false,
     "grade_id": "cell-e7a8154895a4c095",
     "locked": false,
     "schema_version": 1,
     "solution": true
    }
   },
   "outputs": [],
   "source": [
    "class kNNClassifier():\n",
    "    def __init__(self, n_neighbors):\n",
    "        pass\n",
    "    #zapamietaj dane treningowe\n",
    "    def fit(self, train, train_labels):\n",
    "        pass\n",
    "    #metoda wyznaczjaca odległości\n",
    "    def distances(self, x):\n",
    "        pass\n",
    "    #znajdź klasy k sąsiadów\n",
    "    def kneighbors(self, x, k):\n",
    "        pass\n",
    "    #wyznacza klasę dla każdej danej testowej\n",
    "    def predict(self, test):\n",
    "        pass\n",
    "    #wyznacza dokładność klasyfikatora\n",
    "    def score(self, test, test_labels):\n",
    "        pass\n",
    "    # YOUR CODE HERE\n",
    "    raise NotImplementedError()\n",
    "        "
   ]
  },
  {
   "cell_type": "code",
   "execution_count": null,
   "metadata": {
    "deletable": false,
    "editable": false,
    "nbgrader": {
     "checksum": "7dd6cdcaf61d0ddacfaa15a32df15e47",
     "grade": true,
     "grade_id": "cell-f189a3656d3b7d70",
     "locked": true,
     "points": 10,
     "schema_version": 1,
     "solution": false
    }
   },
   "outputs": [],
   "source": [
    "clf = kNNClassifier(k)\n",
    "clf.fit(train, train_labels)\n",
    "clf.score(test, test_labels)\n",
    "np.testing.assert_almost_equal(score, clf.score(test, test_labels))"
   ]
  },
  {
   "cell_type": "markdown",
   "metadata": {
    "deletable": false,
    "editable": false,
    "nbgrader": {
     "checksum": "dd72e1c49f374d84bd330245be9b1b26",
     "grade": false,
     "grade_id": "cell-f6392af336412e06",
     "locked": true,
     "schema_version": 1,
     "solution": false
    }
   },
   "source": [
    "**9\\. Porównanie z klasyfikatorem `sklearn.neighbors.KNeighborsClassifier`**"
   ]
  },
  {
   "cell_type": "code",
   "execution_count": null,
   "metadata": {
    "deletable": false,
    "editable": false,
    "nbgrader": {
     "checksum": "ce803b1c9a838f60d5f5d61b50892a62",
     "grade": true,
     "grade_id": "cell-8266554dec2f7ea4",
     "locked": true,
     "points": 5,
     "schema_version": 1,
     "solution": false
    }
   },
   "outputs": [],
   "source": [
    "from sklearn.neighbors import KNeighborsClassifier \n",
    "\n",
    "ncent = KNeighborsClassifier(k)\n",
    "ncent.fit(train, train_labels)\n",
    "np.testing.assert_array_almost_equal(ncent.predict(test),  clf.predict(test))\n",
    "assert ncent.score(test, test_labels) == clf.score(test, test_labels)\n"
   ]
  },
  {
   "cell_type": "code",
   "execution_count": null,
   "metadata": {
    "deletable": false,
    "editable": false,
    "nbgrader": {
     "checksum": "b3ef55b148ad50dbaa98a7386d23e9dd",
     "grade": false,
     "grade_id": "cell-06d44b4639ebd829",
     "locked": true,
     "schema_version": 1,
     "solution": false
    }
   },
   "outputs": [],
   "source": [
    "h = .02\n",
    "x_min, x_max = train[:, 0].min() - 1, train[:, 0].max() + 1\n",
    "y_min, y_max = train[:, 1].min() - 1, train[:, 1].max() + 1\n",
    "xx, yy = np.meshgrid(np.arange(x_min, x_max, h),\n",
    "                         np.arange(y_min, y_max, h))\n",
    "Z = clf.predict(np.c_[xx.ravel(), yy.ravel()])"
   ]
  },
  {
   "cell_type": "code",
   "execution_count": null,
   "metadata": {
    "deletable": false,
    "editable": false,
    "nbgrader": {
     "checksum": "addcb18287b1c43a1e70a1cee6e4b751",
     "grade": false,
     "grade_id": "cell-e3cedb1740ef6764",
     "locked": true,
     "schema_version": 1,
     "solution": false
    }
   },
   "outputs": [],
   "source": [
    "Z = Z.reshape(xx.shape)\n",
    "plt.imshow(Z,extent=[x_min,x_max,y_min,y_max],origin='lower',alpha=0.3)#,cmap='GnBu')\n",
    "plt.scatter(train[:,0], train[:,1],c=np.ravel(train_labels))"
   ]
  },
  {
   "cell_type": "markdown",
   "metadata": {
    "deletable": false,
    "editable": false,
    "nbgrader": {
     "checksum": "ead820babefe31f3206a6768e204427a",
     "grade": false,
     "grade_id": "cell-a16b1b1713fa0526",
     "locked": true,
     "schema_version": 1,
     "solution": false
    }
   },
   "source": [
    "**10\\. Dane wczytane z pliku `.mat`**\n",
    "\n",
    "Wczytaj dane testowe z pliku `banana.mat`. Znormalizuj je i podziel je na dane treningowe i testowe w proporcji jak w 3. Przy dzieleniu ustaw `random_state=333`. Zwróć uwagę, że banana_labels bezpośrednio po wczytaniu to lista list. Wykorzystaj `np.ravel` aby zrobić z tego listę liczb."
   ]
  },
  {
   "cell_type": "code",
   "execution_count": null,
   "metadata": {
    "deletable": false,
    "nbgrader": {
     "checksum": "dd6b63a42f43176532930e0f7e2b8ae2",
     "grade": false,
     "grade_id": "cell-1ef68d018619349d",
     "locked": false,
     "schema_version": 1,
     "solution": true
    }
   },
   "outputs": [],
   "source": [
    "import numpy as np\n",
    "\n",
    "\n",
    "banana_data = None\n",
    "banana_target = None\n",
    "banana_data_normalized = None\n",
    "train, test, train_labels, test_labels = None, None, None, None\n",
    "\n",
    "\n",
    "from sklearn.model_selection import train_test_split\n",
    "from scipy.io import loadmat\n",
    "\n",
    "# YOUR CODE HERE\n",
    "raise NotImplementedError()\n"
   ]
  },
  {
   "cell_type": "markdown",
   "metadata": {
    "deletable": false,
    "editable": false,
    "nbgrader": {
     "checksum": "3e13ac58cd3fa00d0eee7e305f885685",
     "grade": false,
     "grade_id": "cell-ccb4237f96f9c3d0",
     "locked": true,
     "schema_version": 1,
     "solution": false
    }
   },
   "source": [
    "**Wykres danych po normalizacji**"
   ]
  },
  {
   "cell_type": "code",
   "execution_count": null,
   "metadata": {},
   "outputs": [],
   "source": [
    "plt.scatter(banana_data_normalized[:,0], banana_data_normalized[:,1],c= np.ravel(banana_target))\n"
   ]
  },
  {
   "cell_type": "markdown",
   "metadata": {
    "deletable": false,
    "editable": false,
    "nbgrader": {
     "checksum": "545ee11edf1cddd6f95454e4794e54fc",
     "grade": false,
     "grade_id": "cell-de814f386cafd1f3",
     "locked": true,
     "schema_version": 1,
     "solution": false
    }
   },
   "source": [
    "Powyższy wykres powinien wyglądać następująco:\n",
    "\n",
    "![title](banan_norm.png)"
   ]
  },
  {
   "cell_type": "markdown",
   "metadata": {
    "deletable": false,
    "editable": false,
    "nbgrader": {
     "checksum": "8c64284e3df2802b06f86282a11fd421",
     "grade": false,
     "grade_id": "cell-ed5999a0e950b483",
     "locked": true,
     "schema_version": 1,
     "solution": false
    }
   },
   "source": [
    "**Dokładność klasyfikatora kNN dla powyższych danych**"
   ]
  },
  {
   "cell_type": "code",
   "execution_count": null,
   "metadata": {
    "deletable": false,
    "editable": false,
    "nbgrader": {
     "checksum": "56dd49f84cf667f91939f0e0d6195136",
     "grade": true,
     "grade_id": "cell-13b032adba098d97",
     "locked": true,
     "points": 1,
     "schema_version": 1,
     "solution": false
    }
   },
   "outputs": [],
   "source": [
    "k=1\n",
    "clf = kNNClassifier(k)\n",
    "clf.fit(train, train_labels)\n",
    "print (clf.score(test, test_labels))"
   ]
  },
  {
   "cell_type": "code",
   "execution_count": null,
   "metadata": {
    "deletable": false,
    "editable": false,
    "nbgrader": {
     "checksum": "786db050e2a8f0e36b4711ac67d7129c",
     "grade": false,
     "grade_id": "cell-2698e536566b0eaf",
     "locked": true,
     "schema_version": 1,
     "solution": false
    }
   },
   "outputs": [],
   "source": [
    "h = .02\n",
    "x_min, x_max = train[:, 0].min() - 1, train[:, 0].max() + 1\n",
    "y_min, y_max = train[:, 1].min() - 1, train[:, 1].max() + 1\n",
    "xx, yy = np.meshgrid(np.arange(x_min, x_max, h),\n",
    "                         np.arange(y_min, y_max, h))\n",
    "Z = clf.predict(np.c_[xx.ravel(), yy.ravel()])"
   ]
  },
  {
   "cell_type": "code",
   "execution_count": null,
   "metadata": {},
   "outputs": [],
   "source": [
    "Z = Z.reshape(xx.shape)\n",
    "\n",
    "plt.imshow(Z,extent=[x_min,x_max,y_min,y_max],origin='lower',alpha=0.2)\n",
    "plt.scatter(train[:,0], train[:,1],c= np.ravel(train_labels))"
   ]
  },
  {
   "cell_type": "code",
   "execution_count": null,
   "metadata": {},
   "outputs": [],
   "source": []
  }
 ],
 "metadata": {
  "kernelspec": {
   "display_name": "Python 3",
   "language": "python",
   "name": "python3"
  },
  "language_info": {
   "codemirror_mode": {
    "name": "ipython",
    "version": 3
   },
   "file_extension": ".py",
   "mimetype": "text/x-python",
   "name": "python",
   "nbconvert_exporter": "python",
   "pygments_lexer": "ipython3",
   "version": "3.5.5"
  }
 },
 "nbformat": 4,
 "nbformat_minor": 2
}
