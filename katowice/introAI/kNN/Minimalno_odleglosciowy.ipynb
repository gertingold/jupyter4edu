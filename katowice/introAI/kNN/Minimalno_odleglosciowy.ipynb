{
 "cells": [
  {
   "cell_type": "markdown",
   "metadata": {},
   "source": [
    "# Podstawy Sztucznej Inteligencji 2017/2018\n",
    "\n"
   ]
  },
  {
   "cell_type": "markdown",
   "metadata": {},
   "source": [
    "Prosze uzupelnic kod tam gdzie znajduje napis `YOUR CODE HERE` lub 'YOUR ANSWER HERE'.\n",
    "\n",
    "Warto zresetowac 'kernel' i sprawdzic czy caly notatnik uruchamiany od poczatku nie daje bledow."
   ]
  },
  {
   "cell_type": "code",
   "execution_count": null,
   "metadata": {},
   "outputs": [],
   "source": []
  },
  {
   "cell_type": "markdown",
   "metadata": {},
   "source": [
    "---"
   ]
  },
  {
   "cell_type": "markdown",
   "metadata": {
    "deletable": false,
    "editable": false,
    "nbgrader": {
     "checksum": "80a673f5f49809da01fda4d331458741",
     "grade": false,
     "grade_id": "cell-460bf5fed768602a",
     "locked": true,
     "schema_version": 1,
     "solution": false
    }
   },
   "source": [
    "# Klasyfikator minimalno-odległościowy\n",
    "\n",
    "Notatnik ten zawiera implementacją klasyfikatora minimalno-odległościowego w numpy. Jest on podobny do omawianego na ćwiczeniach klasyfikatora kNN, jednak znacznie od niego prostszy."
   ]
  },
  {
   "cell_type": "markdown",
   "metadata": {
    "deletable": false,
    "editable": false,
    "nbgrader": {
     "checksum": "1c7010e35ee70dd14a3272e8decf1109",
     "grade": false,
     "grade_id": "cell-061a38f5c61e7d50",
     "locked": true,
     "schema_version": 1,
     "solution": false
    }
   },
   "source": [
    "**1\\. Generacja danych.**\n",
    "\n",
    "Tym razem, zamiast wczytywać dane, wygeneruj je z wykorzystaniem funkcji [make_blobs](http://scikit-learn.org/0.16/modules/generated/sklearn.datasets.make_blobs.html#sklearn.datasets.make_blobs). \n",
    "\n",
    "Ustaw ilość próbek na `500`, a ilość grup (centrów) na `3`. Ponadto, aby twoje rysunki były analogiczne jak przedstawione poniżej, ważne jest ustawienie `random_state=2`.\n"
   ]
  },
  {
   "cell_type": "code",
   "execution_count": null,
   "metadata": {
    "deletable": false,
    "nbgrader": {
     "checksum": "c621d29a23898ea28abf8a6d8feeaec6",
     "grade": false,
     "grade_id": "cell-db236afd8701d8f5",
     "locked": false,
     "schema_version": 1,
     "solution": true
    }
   },
   "outputs": [],
   "source": [
    "%matplotlib inline\n",
    "import numpy as np \n",
    "from sklearn.naive_bayes import GaussianNB\n",
    "from sklearn.model_selection import train_test_split\n",
    "from sklearn import datasets \n",
    "from sklearn.neighbors import NearestCentroid\n",
    "import matplotlib.pyplot as plt\n",
    "\n",
    "#metoda generujaca dane treningowe i testowe\n",
    "from sklearn.datasets import make_blobs\n",
    "\n",
    "blobs_data = None\n",
    "blobs_target = None\n",
    "\n",
    "# YOUR CODE HERE\n",
    "raise NotImplementedError()\n",
    "\n",
    "\n"
   ]
  },
  {
   "cell_type": "code",
   "execution_count": null,
   "metadata": {
    "deletable": false,
    "editable": false,
    "nbgrader": {
     "checksum": "d1467f36b5998344d35a3d09e39760af",
     "grade": true,
     "grade_id": "cell-d4aebe31ed7cb880",
     "locked": true,
     "points": 1,
     "schema_version": 1,
     "solution": false
    }
   },
   "outputs": [],
   "source": [
    "assert blobs_data.shape == (500, 2)\n",
    "assert blobs_data.shape[0] == blobs_target.shape[0]"
   ]
  },
  {
   "cell_type": "code",
   "execution_count": null,
   "metadata": {
    "deletable": false,
    "editable": false,
    "nbgrader": {
     "checksum": "dc6de39320b6a7807f9ae8343816e0ac",
     "grade": true,
     "grade_id": "cell-f2316e78e7611e1e",
     "locked": true,
     "points": 1,
     "schema_version": 1,
     "solution": false
    }
   },
   "outputs": [],
   "source": []
  },
  {
   "cell_type": "markdown",
   "metadata": {
    "deletable": false,
    "editable": false,
    "nbgrader": {
     "checksum": "fcb12f9090730888c2c948790b94ebdc",
     "grade": false,
     "grade_id": "cell-45881dc3ae74cde8",
     "locked": true,
     "schema_version": 1,
     "solution": false
    }
   },
   "source": [
    "**Wizualizacja wygenerowanych danych**"
   ]
  },
  {
   "cell_type": "code",
   "execution_count": null,
   "metadata": {},
   "outputs": [],
   "source": [
    "plt.scatter(blobs_data[:,0], blobs_data[:,1],c= np.ravel(blobs_target))"
   ]
  },
  {
   "cell_type": "markdown",
   "metadata": {
    "deletable": false,
    "editable": false,
    "nbgrader": {
     "checksum": "fc7b3460da711206808499b98baf6dde",
     "grade": false,
     "grade_id": "cell-df4975794ea754a6",
     "locked": true,
     "schema_version": 1,
     "solution": false
    }
   },
   "source": [
    "Powyższy wykres powinien wyglądać następująco:\n",
    "\n",
    "![title](blobs.png)"
   ]
  },
  {
   "cell_type": "markdown",
   "metadata": {
    "deletable": false,
    "editable": false,
    "nbgrader": {
     "checksum": "6da86a6891140d7eb6de647fc3959aae",
     "grade": false,
     "grade_id": "cell-9b4588927a13f28d",
     "locked": true,
     "schema_version": 1,
     "solution": false
    }
   },
   "source": [
    "** 2\\. Normalizacja danych wejściowych**\n",
    "\n",
    "Przed rozpoczęciem należy zapewnić bezpośrednią porównywalność cech, czyli dokonać normalizacji. Skorzystaj ze wzoru z [Definicji 2](http://books.icse.us.edu.pl/runestone/static/ai/IstotaUczeniaNadzorowanegoINienadzorowanego/ReprezentacjaWzorcow.html#przetwarzanie-wstepne) \n",
    " \n",
    "\n",
    " "
   ]
  },
  {
   "cell_type": "code",
   "execution_count": null,
   "metadata": {
    "deletable": false,
    "nbgrader": {
     "checksum": "b8b486ac4b681a4d56ede17bc6c2ebd5",
     "grade": false,
     "grade_id": "cell-745098e887853aeb",
     "locked": false,
     "schema_version": 1,
     "solution": true
    }
   },
   "outputs": [],
   "source": [
    "def normalize(v):\n",
    "# YOUR CODE HERE\n",
    "raise NotImplementedError()"
   ]
  },
  {
   "cell_type": "code",
   "execution_count": null,
   "metadata": {
    "deletable": false,
    "editable": false,
    "nbgrader": {
     "checksum": "7ac22840624cd4763d1471ff5feb86af",
     "grade": true,
     "grade_id": "cell-9e8f81aecc25c189",
     "locked": true,
     "points": 1,
     "schema_version": 1,
     "solution": false
    }
   },
   "outputs": [],
   "source": [
    "blobs_data_normalized = normalize(blobs_data)\n",
    "\n",
    "np.testing.assert_array_almost_equal(blobs_data_normalized[100], np.array([0.39173587, 0.67031484]))"
   ]
  },
  {
   "cell_type": "markdown",
   "metadata": {
    "deletable": false,
    "editable": false,
    "nbgrader": {
     "checksum": "9df8eabebd2bf91a847ebec1fa896e92",
     "grade": false,
     "grade_id": "cell-4002581dab7af406",
     "locked": true,
     "schema_version": 1,
     "solution": false
    }
   },
   "source": [
    "**Wykres po normalizacji**"
   ]
  },
  {
   "cell_type": "code",
   "execution_count": null,
   "metadata": {},
   "outputs": [],
   "source": [
    "plt.scatter(blobs_data_normalized[:,0], blobs_data_normalized[:,1],c= np.ravel(blobs_target))"
   ]
  },
  {
   "cell_type": "markdown",
   "metadata": {
    "deletable": false,
    "editable": false,
    "nbgrader": {
     "checksum": "363095b6a7072c22bd29ecb04d3425dc",
     "grade": false,
     "grade_id": "cell-d2ae5293c2e2f722",
     "locked": true,
     "schema_version": 1,
     "solution": false
    }
   },
   "source": [
    "Powyższy wykres powinien wyglądać następująco:\n",
    "\n",
    "![title](norm_blobs.png)"
   ]
  },
  {
   "cell_type": "markdown",
   "metadata": {
    "deletable": false,
    "editable": false,
    "nbgrader": {
     "checksum": "0a04017ef8bd0bb7bab200367983d767",
     "grade": false,
     "grade_id": "cell-b142fa05667052d0",
     "locked": true,
     "schema_version": 1,
     "solution": false
    }
   },
   "source": [
    "**3\\. Podział na dane treningowe i testowe.**\n",
    "\n",
    "W sposób losowy podziel wygenerowane dane na zriór uczący i testowy w proporcji 70% do 30%. Ustaw `random_state=123`"
   ]
  },
  {
   "cell_type": "code",
   "execution_count": null,
   "metadata": {
    "deletable": false,
    "nbgrader": {
     "checksum": "8b4a70977626845f425a275c97e5965d",
     "grade": false,
     "grade_id": "cell-06baa48baafd612d",
     "locked": false,
     "schema_version": 1,
     "solution": true
    }
   },
   "outputs": [],
   "source": [
    "train, test, train_labels, test_labels = None, None, None, None\n",
    "\n",
    "# YOUR CODE HERE\n",
    "raise NotImplementedError()"
   ]
  },
  {
   "cell_type": "code",
   "execution_count": null,
   "metadata": {
    "deletable": false,
    "editable": false,
    "nbgrader": {
     "checksum": "aeeeb66534b532a3329ab4f3aab6584b",
     "grade": true,
     "grade_id": "cell-45d84e2d05c1d2c5",
     "locked": true,
     "points": 1,
     "schema_version": 1,
     "solution": false
    }
   },
   "outputs": [],
   "source": [
    "assert np.shape(train)[0] == 0.7 * np.shape(blobs_data_normalized)[0]\n",
    "assert np.shape(test)[0] == np.shape(blobs_data_normalized)[0] - np.shape(train)[0]"
   ]
  },
  {
   "cell_type": "markdown",
   "metadata": {
    "deletable": false,
    "editable": false,
    "nbgrader": {
     "checksum": "f4907d4f430cda85442e96f13bfbdcb4",
     "grade": false,
     "grade_id": "cell-527b9874de34b297",
     "locked": true,
     "schema_version": 1,
     "solution": false
    }
   },
   "source": [
    "**4\\. Wyznacz obiekt typowy dla każdej klasy, czyli prezentowana przez jeden typowy dla niej obiekt.**\n",
    "\n",
    "W roli tego reprezentanta najczęściej występuje środek (średnia arytmetyczna) obiektów z danej klasy. "
   ]
  },
  {
   "cell_type": "code",
   "execution_count": null,
   "metadata": {
    "deletable": false,
    "nbgrader": {
     "checksum": "79a84bf33c9bcf58d99ce3748ddec4bf",
     "grade": false,
     "grade_id": "cell-bd7eedbdbde12c99",
     "locked": false,
     "schema_version": 1,
     "solution": true
    }
   },
   "outputs": [],
   "source": [
    "class_means = None\n",
    "# YOUR CODE HERE\n",
    "raise NotImplementedError()"
   ]
  },
  {
   "cell_type": "code",
   "execution_count": null,
   "metadata": {
    "deletable": false,
    "editable": false,
    "nbgrader": {
     "checksum": "afe3486a7f7d13883e20ec344ebe59e0",
     "grade": true,
     "grade_id": "cell-960bc805cb3fb97f",
     "locked": true,
     "points": 1,
     "schema_version": 1,
     "solution": false
    }
   },
   "outputs": [],
   "source": [
    "assert class_means[0,1]==-1.3155046512783324"
   ]
  },
  {
   "cell_type": "code",
   "execution_count": null,
   "metadata": {
    "deletable": false,
    "editable": false,
    "nbgrader": {
     "checksum": "6dae42174829475c3ffc22bc0dcd22d5",
     "grade": true,
     "grade_id": "cell-40595cbe4a62bad9",
     "locked": true,
     "points": 1,
     "schema_version": 1,
     "solution": false
    }
   },
   "outputs": [],
   "source": []
  },
  {
   "cell_type": "code",
   "execution_count": null,
   "metadata": {},
   "outputs": [],
   "source": [
    "plt.scatter(train[:,0], train[:,1],c= np.ravel(train_labels))\n",
    "plt.plot(class_means[0,0], class_means[0,1], 'ro',markersize=10)\n",
    "plt.plot(class_means[1,0], class_means[1,1], 'ro',markersize=10)\n",
    "plt.plot(class_means[2,0], class_means[2,1], 'ro',markersize=10)"
   ]
  },
  {
   "cell_type": "markdown",
   "metadata": {
    "deletable": false,
    "editable": false,
    "nbgrader": {
     "checksum": "8c816a8a0bc70d8ffe904efb1280fd45",
     "grade": false,
     "grade_id": "cell-c419903af950795c",
     "locked": true,
     "schema_version": 1,
     "solution": false
    }
   },
   "source": [
    "Powyższy wykres powinien wyglądać następująco:\n",
    "![title](means.png)"
   ]
  },
  {
   "cell_type": "markdown",
   "metadata": {
    "deletable": false,
    "editable": false,
    "nbgrader": {
     "checksum": "78e34de1cc84b6e1202d289964f768f0",
     "grade": false,
     "grade_id": "cell-905fa05a306d8856",
     "locked": true,
     "schema_version": 1,
     "solution": false
    }
   },
   "source": [
    "**5\\. Odległość wektorów testowych od reprezentantów klas**\n",
    "\n",
    "Dla każdej danej testowej, reprezentowanej przez wektor cech wyznacz odległość od reprezentantów klas\n"
   ]
  },
  {
   "cell_type": "code",
   "execution_count": null,
   "metadata": {
    "deletable": false,
    "nbgrader": {
     "checksum": "dee5eeb75b998bbb78c83fffbe3a1f7b",
     "grade": false,
     "grade_id": "cell-d4221fb38c3dd2f3",
     "locked": false,
     "schema_version": 1,
     "solution": true
    }
   },
   "outputs": [],
   "source": [
    "def distances(x):\n",
    "    # YOUR CODE HERE\n",
    "    raise NotImplementedError()"
   ]
  },
  {
   "cell_type": "code",
   "execution_count": null,
   "metadata": {
    "deletable": false,
    "editable": false,
    "nbgrader": {
     "checksum": "3ba6c77e046cd7672ba397aba7fdda2f",
     "grade": true,
     "grade_id": "cell-df1c3578dc96fc10",
     "locked": true,
     "points": 1,
     "schema_version": 1,
     "solution": false
    }
   },
   "outputs": [],
   "source": [
    "assert distances(test).shape == (150,3)\n",
    "assert distances(test)[1,1]==1.7886834573805668"
   ]
  },
  {
   "cell_type": "code",
   "execution_count": null,
   "metadata": {
    "deletable": false,
    "editable": false,
    "nbgrader": {
     "checksum": "91aed69c8b580ef551f6fdbb8296d3db",
     "grade": true,
     "grade_id": "cell-47caa285c8ae35e3",
     "locked": true,
     "points": 1,
     "schema_version": 1,
     "solution": false
    }
   },
   "outputs": [],
   "source": []
  },
  {
   "cell_type": "markdown",
   "metadata": {
    "deletable": false,
    "editable": false,
    "nbgrader": {
     "checksum": "98780ffe38ad62ef7704aa55c7348970",
     "grade": false,
     "grade_id": "cell-990ae2c0e069ab46",
     "locked": true,
     "schema_version": 1,
     "solution": false
    }
   },
   "source": [
    "**6\\. Funkcja klasyfikująca**\n",
    "\n",
    "Dla danych testowych wyznacza klasę, dla której obiekt ją reprezentujący jest najbliższy."
   ]
  },
  {
   "cell_type": "code",
   "execution_count": null,
   "metadata": {
    "deletable": false,
    "nbgrader": {
     "checksum": "bbb748ce97d77d541ee129e657ec7d60",
     "grade": false,
     "grade_id": "cell-e28f8924418a30cc",
     "locked": false,
     "schema_version": 1,
     "solution": true
    }
   },
   "outputs": [],
   "source": [
    "def classify(x):\n",
    "    # YOUR CODE HERE\n",
    "    raise NotImplementedError()"
   ]
  },
  {
   "cell_type": "code",
   "execution_count": null,
   "metadata": {
    "deletable": false,
    "editable": false,
    "nbgrader": {
     "checksum": "dc19ca4db327f4ccca3b4c8f5ffe22a8",
     "grade": true,
     "grade_id": "cell-8cdea8aab0147769",
     "locked": true,
     "points": 1,
     "schema_version": 1,
     "solution": false
    }
   },
   "outputs": [],
   "source": [
    "assert classify(test).shape == (150,)\n",
    "assert classify(test)[100]==2"
   ]
  },
  {
   "cell_type": "code",
   "execution_count": null,
   "metadata": {
    "deletable": false,
    "editable": false,
    "nbgrader": {
     "checksum": "f947b042f254bdedd0064badbd896616",
     "grade": true,
     "grade_id": "cell-a908554b7c117e96",
     "locked": true,
     "points": 1,
     "schema_version": 1,
     "solution": false
    }
   },
   "outputs": [],
   "source": []
  },
  {
   "cell_type": "markdown",
   "metadata": {
    "deletable": false,
    "editable": false,
    "nbgrader": {
     "checksum": "8225c29eff051ad37ad36ee603a401b5",
     "grade": false,
     "grade_id": "cell-6c41eb4e92aba3fd",
     "locked": true,
     "schema_version": 1,
     "solution": false
    }
   },
   "source": [
    "** 7\\. Jaki jest procent poprawych odpowiedzi?**"
   ]
  },
  {
   "cell_type": "code",
   "execution_count": null,
   "metadata": {
    "deletable": false,
    "nbgrader": {
     "checksum": "139e695880080a496149665187dcf960",
     "grade": false,
     "grade_id": "cell-b07385a8ff9c2ace",
     "locked": false,
     "schema_version": 1,
     "solution": true
    }
   },
   "outputs": [],
   "source": [
    "score = None\n",
    "# YOUR CODE HERE\n",
    "raise NotImplementedError()"
   ]
  },
  {
   "cell_type": "code",
   "execution_count": null,
   "metadata": {
    "deletable": false,
    "editable": false,
    "nbgrader": {
     "checksum": "fca8200c9d715c8237a98ab26e46e35f",
     "grade": true,
     "grade_id": "cell-f97ef3326dc37ad2",
     "locked": true,
     "points": 1,
     "schema_version": 1,
     "solution": false
    }
   },
   "outputs": [],
   "source": [
    "np.testing.assert_almost_equal(score, 0.9666666666666667)"
   ]
  },
  {
   "cell_type": "markdown",
   "metadata": {
    "deletable": false,
    "editable": false,
    "nbgrader": {
     "checksum": "b311cb22f4ce7a033ae000241427492d",
     "grade": false,
     "grade_id": "cell-e6743c3b90340428",
     "locked": true,
     "schema_version": 1,
     "solution": false
    }
   },
   "source": [
    "** 8\\. Stwórz klasę `MinimumDistanceClassifier` analogiczną do klasy `NearestCentroid` z `sklearn`**"
   ]
  },
  {
   "cell_type": "code",
   "execution_count": null,
   "metadata": {
    "deletable": false,
    "nbgrader": {
     "checksum": "f96ba20eb70c132a8f10f88e9a9ce290",
     "grade": false,
     "grade_id": "cell-f88c73b3540e0184",
     "locked": false,
     "schema_version": 1,
     "solution": true
    }
   },
   "outputs": [],
   "source": [
    "class MinimumDistanceClassifier():\n",
    "    #wyznacza elementy reprezentatywne\n",
    "    def fit(self, train, train_labels):\n",
    "        pass\n",
    "    #wyznacza klasę dla każdej danej testowej\n",
    "    def predict(self, test):\n",
    "        pass\n",
    "    #wyznacza dokładność klasyfikatora\n",
    "    def score(self, test, test_labels):\n",
    "        pass\n",
    "    # YOUR CODE HERE\n",
    "    raise NotImplementedError()\n",
    "        "
   ]
  },
  {
   "cell_type": "code",
   "execution_count": null,
   "metadata": {
    "deletable": false,
    "editable": false,
    "nbgrader": {
     "checksum": "f2a159016d77a3e1c301da51dc1f6d0a",
     "grade": true,
     "grade_id": "cell-6ffcb82206769a70",
     "locked": true,
     "points": 10,
     "schema_version": 1,
     "solution": false
    }
   },
   "outputs": [],
   "source": [
    "clf = MinimumDistanceClassifier()\n",
    "clf.fit(train, train_labels)\n",
    "clf.score(test, test_labels)\n",
    "np.testing.assert_almost_equal(score, clf.score(test, test_labels))"
   ]
  },
  {
   "cell_type": "markdown",
   "metadata": {
    "deletable": false,
    "editable": false,
    "nbgrader": {
     "checksum": "5b6fda5c0228f764a2b8e4f57dcfbb87",
     "grade": false,
     "grade_id": "cell-689557e703e4bf2e",
     "locked": true,
     "schema_version": 1,
     "solution": false
    }
   },
   "source": [
    "**9\\. Porównanie z klasyfikatorem `NearestCentroid` z `sklearn`**"
   ]
  },
  {
   "cell_type": "code",
   "execution_count": null,
   "metadata": {
    "deletable": false,
    "editable": false,
    "nbgrader": {
     "checksum": "ac23888242b4442bf637b66ace6a7704",
     "grade": true,
     "grade_id": "cell-a9938b5f0cb4fca7",
     "locked": true,
     "points": 5,
     "schema_version": 1,
     "solution": false
    }
   },
   "outputs": [],
   "source": [
    "from sklearn.neighbors import NearestCentroid \n",
    "\n",
    "ncent = NearestCentroid()\n",
    "ncent.fit(train, train_labels)\n",
    "np.testing.assert_array_almost_equal(ncent.predict(test),  clf.predict(test))\n",
    "assert ncent.score(test, test_labels) == clf.score(test, test_labels)\n"
   ]
  },
  {
   "cell_type": "code",
   "execution_count": null,
   "metadata": {},
   "outputs": [],
   "source": [
    "h = .02\n",
    "x_min, x_max = train[:, 0].min() - 1, train[:, 0].max() + 1\n",
    "y_min, y_max = train[:, 1].min() - 1, train[:, 1].max() + 1\n",
    "xx, yy = np.meshgrid(np.arange(x_min, x_max, h),\n",
    "                         np.arange(y_min, y_max, h))\n",
    "Z = clf.predict(np.c_[xx.ravel(), yy.ravel()])"
   ]
  },
  {
   "cell_type": "code",
   "execution_count": null,
   "metadata": {},
   "outputs": [],
   "source": [
    "Z = Z.reshape(xx.shape)\n",
    "\n",
    "plt.pcolormesh(xx, yy, Z, alpha=0.1)\n",
    "plt.scatter(train[:,0], train[:,1],c= np.ravel(train_labels))\n",
    "plt.plot(class_means[0,0], class_means[0,1], 'ro',markersize=10)\n",
    "plt.plot(class_means[1,0], class_means[1,1], 'ro',markersize=10)\n",
    "plt.plot(class_means[2,0], class_means[2,1], 'ro',markersize=10)"
   ]
  },
  {
   "cell_type": "code",
   "execution_count": null,
   "metadata": {},
   "outputs": [],
   "source": []
  }
 ],
 "metadata": {
  "kernelspec": {
   "display_name": "Python 3",
   "language": "python",
   "name": "python3"
  },
  "language_info": {
   "codemirror_mode": {
    "name": "ipython",
    "version": 3
   },
   "file_extension": ".py",
   "mimetype": "text/x-python",
   "name": "python",
   "nbconvert_exporter": "python",
   "pygments_lexer": "ipython3",
   "version": "3.5.5"
  }
 },
 "nbformat": 4,
 "nbformat_minor": 2
}
