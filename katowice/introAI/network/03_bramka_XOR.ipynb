{
 "cells": [
  {
   "cell_type": "code",
   "execution_count": null,
   "metadata": {
    "nbgrader": {
     "grade": false,
     "grade_id": "cell-fa34f99ebe1bfecc",
     "locked": true,
     "schema_version": 3,
     "solution": false
    }
   },
   "outputs": [],
   "source": [
    "import numpy as np\n",
    "import matplotlib.pyplot as plt\n",
    "%run 02_network.ipynb"
   ]
  },
  {
   "cell_type": "markdown",
   "metadata": {
    "lang": "pl",
    "nbgrader": {
     "grade": false,
     "grade_id": "cell-e2c6c1a9f8f77a69",
     "locked": true,
     "schema_version": 3,
     "solution": false
    }
   },
   "source": [
    "## Bramka XOR\n",
    "Wróćmy teraz do problemu bramki XOR z poprzedniego zestawu. Nie dało się go rozwiązać pojedynczym neuronem, ale można siecią złożoną z dwóch warstw."
   ]
  },
  {
   "cell_type": "markdown",
   "metadata": {
    "lang": "en"
   },
   "source": [
    "## XOR gate\n",
    "Let's now return to the problem of the XOR gate from the previous notebooks. It could not be solved with a single neuron, but it can be a network composed of two layers."
   ]
  },
  {
   "cell_type": "code",
   "execution_count": null,
   "metadata": {
    "nbgrader": {
     "grade": false,
     "grade_id": "cell-3715edf26cacaabd",
     "locked": false,
     "schema_version": 3,
     "solution": true
    }
   },
   "outputs": [],
   "source": [
    "def network_XOR(network, learning_rate, steps):\n",
    "    ### BEGIN SOLUTION\n",
    "    for i in range(steps):\n",
    "        in0 = int(np.random.uniform(0, 2))\n",
    "        in1 = int(np.random.uniform(0, 2))\n",
    "        out = network.forward(np.array((in0, in1)))\n",
    "        error = (in0 + in1) % 2 - out #XOR\n",
    "        network.backward(np.array((error)))\n",
    "        network.learn(learning_rate)\n",
    "    ### END SOLUTION\n"
   ]
  },
  {
   "cell_type": "code",
   "execution_count": null,
   "metadata": {
    "nbgrader": {
     "grade": false,
     "grade_id": "cell-8fc0c807a12e39e9",
     "locked": false,
     "schema_version": 3,
     "solution": true
    }
   },
   "outputs": [],
   "source": [
    "net_XOR = None\n",
    "### BEGIN SOLUTION\n",
    "net_XOR = Network(2)\n",
    "net_XOR.addLayer(4)\n",
    "net_XOR.addLayer(1)\n",
    "network_XOR(net_XOR, 0.2, 40000)\n",
    "### END SOLUTION\n",
    "\n",
    "print(net_XOR.forward(np.array((0, 0))))\n",
    "print(net_XOR.forward(np.array((0, 1))))\n",
    "print(net_XOR.forward(np.array((1, 0))))\n",
    "print(net_XOR.forward(np.array((1, 1))))\n",
    "print(net_XOR.forward(np.array((0.5, 0.5))))"
   ]
  },
  {
   "cell_type": "code",
   "execution_count": null,
   "metadata": {
    "nbgrader": {
     "grade": false,
     "grade_id": "cell-8b775e47f27cf326",
     "locked": true,
     "schema_version": 3,
     "solution": false
    }
   },
   "outputs": [],
   "source": [
    "size = 100\n",
    "tmp = np.zeros((size,size))\n",
    "for i in range(size):\n",
    "    for j in range(size):\n",
    "        tmp[i][j] = net_XOR.forward(np.array((i / float(size), j / float(size))))\n",
    "plt.imshow(tmp)\n",
    "plt.colorbar()\n",
    "plt.show()"
   ]
  },
  {
   "cell_type": "code",
   "execution_count": null,
   "metadata": {
    "nbgrader": {
     "grade": true,
     "grade_id": "cell-127f34cef346f835",
     "locked": true,
     "points": 4,
     "schema_version": 3,
     "solution": false
    }
   },
   "outputs": [],
   "source": [
    "np.testing.assert_equal(net_XOR.forward(np.array((0, 0)))[0] < 0.1, True)\n",
    "np.testing.assert_equal(net_XOR.forward(np.array((1, 0)))[0] > 0.9, True)\n",
    "np.testing.assert_equal(net_XOR.forward(np.array((0, 1)))[0] > 0.9, True)\n",
    "np.testing.assert_equal(net_XOR.forward(np.array((1, 1)))[0] < 0.1, True)\n",
    "out_mid = net_XOR.forward(np.array((0.5, 0.5)))[0]\n",
    "np.testing.assert_equal(out_mid < 0.2 or out_mid > 0.8, True)"
   ]
  },
  {
   "cell_type": "code",
   "execution_count": null,
   "metadata": {},
   "outputs": [],
   "source": []
  },
  {
   "cell_type": "code",
   "execution_count": null,
   "metadata": {},
   "outputs": [],
   "source": []
  }
 ],
 "metadata": {
  "celltoolbar": "Create Assignment",
  "kernelspec": {
   "display_name": "Python 3",
   "language": "python",
   "name": "python3"
  },
  "language_info": {
   "codemirror_mode": {
    "name": "ipython",
    "version": 3
   },
   "file_extension": ".py",
   "mimetype": "text/x-python",
   "name": "python",
   "nbconvert_exporter": "python",
   "pygments_lexer": "ipython3",
   "version": "3.7.3"
  },
  "nbTranslate": {
   "displayLangs": [
    "*"
   ],
   "hotkey": "alt-t",
   "langInMainMenu": true,
   "sourceLang": "pl",
   "targetLang": "en",
   "useGoogleTranslate": true
  }
 },
 "nbformat": 4,
 "nbformat_minor": 2
}
