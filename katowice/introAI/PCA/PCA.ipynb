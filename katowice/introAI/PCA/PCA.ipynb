{
 "cells": [
  {
   "cell_type": "markdown",
   "metadata": {},
   "source": [
    "# Podstawy Sztucznej Inteligencji 2017/2018\n",
    "\n"
   ]
  },
  {
   "cell_type": "markdown",
   "metadata": {},
   "source": [
    "Prosze uzupelnic kod tam gdzie znajduje napis `YOUR CODE HERE` lub 'YOUR ANSWER HERE'.\n",
    "\n",
    "Warto zresetowac 'kernel' i sprawdzic czy caly notatnik uruchamiany od poczatku nie daje bledow."
   ]
  },
  {
   "cell_type": "code",
   "execution_count": null,
   "metadata": {},
   "outputs": [],
   "source": []
  },
  {
   "cell_type": "markdown",
   "metadata": {},
   "source": [
    "---"
   ]
  },
  {
   "cell_type": "code",
   "execution_count": null,
   "metadata": {
    "deletable": false,
    "editable": false,
    "nbgrader": {
     "checksum": "2f8f8b1b4c493d1c0d2f643a5066863e",
     "grade": false,
     "grade_id": "cell-fbf5b2acf094e844",
     "locked": true,
     "schema_version": 1,
     "solution": false
    }
   },
   "outputs": [],
   "source": [
    "%matplotlib notebook \n",
    "import numpy as np\n",
    "import matplotlib.pyplot as plt"
   ]
  },
  {
   "cell_type": "markdown",
   "metadata": {
    "deletable": false,
    "editable": false,
    "nbgrader": {
     "checksum": "3db4ee90a8c50119e70a92799b4e24b6",
     "grade": false,
     "grade_id": "cell-0f4b9ea8240fbdab",
     "locked": true,
     "schema_version": 1,
     "solution": false
    }
   },
   "source": [
    "## Macierz kowariancji\n",
    "\n",
    "  $$ C_{ij} = \\frac{1}{N-1}\\sum_{k=1}^N{ X_{ki} X_{kj}}$$"
   ]
  },
  {
   "cell_type": "markdown",
   "metadata": {
    "deletable": false,
    "editable": false,
    "nbgrader": {
     "checksum": "6e742dad174253121b7a0eae3cd851be",
     "grade": false,
     "grade_id": "cell-629ae932ee37074c",
     "locked": true,
     "schema_version": 1,
     "solution": false
    }
   },
   "source": [
    "Mamy zestaw danych będący 40 punktami na płaszczyźnie $(x_i,y_i).$"
   ]
  },
  {
   "cell_type": "code",
   "execution_count": null,
   "metadata": {
    "deletable": false,
    "editable": false,
    "nbgrader": {
     "checksum": "a63c82bafdca88afe49ddf685999b98f",
     "grade": false,
     "grade_id": "cell-6835d8a06ea52b92",
     "locked": true,
     "schema_version": 1,
     "solution": false
    }
   },
   "outputs": [],
   "source": [
    "X = np.empty((40,2))\n",
    "X[:,0] = np.linspace(-1,1,40)+ np.random.randn(40)*0.1\n",
    "X[:,1] = 1.1*X[:,0] + np.random.randn(40)*0.2\n",
    "print(X)"
   ]
  },
  {
   "cell_type": "markdown",
   "metadata": {
    "deletable": false,
    "editable": false,
    "nbgrader": {
     "checksum": "06c951ad870b20a599e6425bc895ac43",
     "grade": false,
     "grade_id": "cell-2e9ee249502cbdf6",
     "locked": true,
     "schema_version": 1,
     "solution": false
    }
   },
   "source": [
    "###  Oblicz macierz kowariancji z danych zawartych w  `X` korzystając z funkcji `np.cov`."
   ]
  },
  {
   "cell_type": "code",
   "execution_count": null,
   "metadata": {
    "deletable": false,
    "nbgrader": {
     "checksum": "60a5fbe33aa2097b017989cdcbf2f8c4",
     "grade": false,
     "grade_id": "cell-add35ffd7ec859cc",
     "locked": false,
     "schema_version": 1,
     "solution": true
    }
   },
   "outputs": [],
   "source": [
    "# YOUR CODE HERE\n",
    "raise NotImplementedError()\n",
    "C"
   ]
  },
  {
   "cell_type": "code",
   "execution_count": null,
   "metadata": {
    "deletable": false,
    "editable": false,
    "nbgrader": {
     "checksum": "1d03bd38461d5add83dc1bb120b01848",
     "grade": true,
     "grade_id": "cell-63d94d686cd4a6e9",
     "locked": true,
     "points": 1,
     "schema_version": 1,
     "solution": false
    }
   },
   "outputs": [],
   "source": [
    "assert C.shape == (2,2)"
   ]
  },
  {
   "cell_type": "markdown",
   "metadata": {
    "deletable": false,
    "editable": false,
    "nbgrader": {
     "checksum": "34a7d4fca8252b432923c5052fbe3d68",
     "grade": false,
     "grade_id": "cell-2c7cc935dbe5805f",
     "locked": true,
     "schema_version": 1,
     "solution": false
    }
   },
   "source": [
    "###  Oblicz macierz kowariancji z danych zawartych w  `X` korzystając z funkcji `np.mean` `np.sum`"
   ]
  },
  {
   "cell_type": "code",
   "execution_count": null,
   "metadata": {
    "deletable": false,
    "nbgrader": {
     "checksum": "197ba7cc077efcdc3ab2d77f47f66069",
     "grade": false,
     "grade_id": "cell-5572e79c5905082c",
     "locked": false,
     "schema_version": 1,
     "solution": true
    }
   },
   "outputs": [],
   "source": [
    "def my_cov(X):\n",
    "# YOUR CODE HERE\n",
    "raise NotImplementedError()"
   ]
  },
  {
   "cell_type": "code",
   "execution_count": null,
   "metadata": {
    "deletable": false,
    "editable": false,
    "nbgrader": {
     "checksum": "45a9f528fdc67acb45f136161e815b1f",
     "grade": true,
     "grade_id": "cell-eed226ef2ec8cc51",
     "locked": true,
     "points": 2,
     "schema_version": 1,
     "solution": false
    }
   },
   "outputs": [],
   "source": [
    "np.testing.assert_almost_equal(my_cov(X),np.cov(X.T))"
   ]
  },
  {
   "cell_type": "code",
   "execution_count": null,
   "metadata": {},
   "outputs": [],
   "source": []
  },
  {
   "cell_type": "markdown",
   "metadata": {
    "deletable": false,
    "editable": false,
    "nbgrader": {
     "checksum": "67f471be078f3da1cc70fdc0d216cd94",
     "grade": false,
     "grade_id": "cell-0fd687b0881e8201",
     "locked": true,
     "schema_version": 1,
     "solution": false
    }
   },
   "source": [
    "### Wartości i wektory własne\n",
    "\n",
    "Narysujmy dane\n"
   ]
  },
  {
   "cell_type": "code",
   "execution_count": null,
   "metadata": {},
   "outputs": [],
   "source": [
    "plt.figure()\n",
    "plt.axes().set_aspect('equal', 'datalim')\n",
    "plt.scatter(X[:,0],X[:,1])"
   ]
  },
  {
   "cell_type": "markdown",
   "metadata": {
    "deletable": false,
    "editable": false,
    "nbgrader": {
     "checksum": "a72ae8cb6c6e2c72203c0df271a4ed46",
     "grade": false,
     "grade_id": "cell-114affa9a91b5409",
     "locked": true,
     "schema_version": 1,
     "solution": false
    }
   },
   "source": [
    "### Zagadnienie własne\n",
    "\n",
    "Szukamy takich liczb $\\lambda_i$ i wektorów $x_i$ by zachodziło:\n",
    "$$ C x_i = \\lambda_i x_i $$\n",
    "\n",
    "\n",
    "W numpy mamy gotową funkcję obliczającą liczby $\\lambda_i$ i wektory $x_i$:"
   ]
  },
  {
   "cell_type": "code",
   "execution_count": null,
   "metadata": {
    "deletable": false,
    "editable": false,
    "nbgrader": {
     "checksum": "3476ee7df370fd5019af216f742547ac",
     "grade": false,
     "grade_id": "cell-547f58594c7c6174",
     "locked": true,
     "schema_version": 1,
     "solution": false
    }
   },
   "outputs": [],
   "source": [
    "val , ev =  np.linalg.eig(C)\n"
   ]
  },
  {
   "cell_type": "markdown",
   "metadata": {
    "deletable": false,
    "editable": false,
    "nbgrader": {
     "checksum": "cd263f65580b37f6d0f9da8c8b585c59",
     "grade": false,
     "grade_id": "cell-eefdbf4462a10001",
     "locked": true,
     "schema_version": 1,
     "solution": false
    }
   },
   "source": [
    "\n",
    "### Sprawdźmy rachunkiem równanie własne:\n",
    "\n",
    "Niech `lam` będzie wartością własną a `vec` wektorem:"
   ]
  },
  {
   "cell_type": "code",
   "execution_count": null,
   "metadata": {
    "deletable": false,
    "nbgrader": {
     "checksum": "ef90b1e655f0395fe4cb2f2bdcee09bb",
     "grade": false,
     "grade_id": "cell-bbf5d951c0e331ef",
     "locked": false,
     "schema_version": 1,
     "solution": true
    }
   },
   "outputs": [],
   "source": [
    "lam = None\n",
    "vec = None\n",
    "\n",
    "# YOUR CODE HERE\n",
    "raise NotImplementedError()"
   ]
  },
  {
   "cell_type": "markdown",
   "metadata": {
    "deletable": false,
    "editable": false,
    "nbgrader": {
     "checksum": "b55c099e62f48fe691159493f1e80efa",
     "grade": false,
     "grade_id": "cell-ac3dadf288acae1e",
     "locked": true,
     "schema_version": 1,
     "solution": false
    }
   },
   "source": [
    "To zachodzi:\n",
    "    \n",
    "`np.dot(C,vec) == lam*vec`"
   ]
  },
  {
   "cell_type": "code",
   "execution_count": null,
   "metadata": {
    "deletable": false,
    "editable": false,
    "nbgrader": {
     "checksum": "e08cfda6b2f3187fbe1f575c4854168d",
     "grade": true,
     "grade_id": "cell-081658f3d63fef34",
     "locked": true,
     "points": 1,
     "schema_version": 1,
     "solution": false
    }
   },
   "outputs": [],
   "source": [
    "np.testing.assert_allclose(np.dot(C,vec), lam*vec)\n",
    "assert abs(lam)>1e-6"
   ]
  },
  {
   "cell_type": "markdown",
   "metadata": {
    "deletable": false,
    "editable": false,
    "nbgrader": {
     "checksum": "7ddb4fd680701a78784da07e7d1dbefb",
     "grade": false,
     "grade_id": "cell-eaa57c6ef6ea94c0",
     "locked": true,
     "schema_version": 1,
     "solution": false
    }
   },
   "source": [
    "Dodajmy na rysunku wektory własne:"
   ]
  },
  {
   "cell_type": "code",
   "execution_count": null,
   "metadata": {
    "deletable": false,
    "editable": false,
    "nbgrader": {
     "checksum": "2f520091fa4884ef9fce316a679301f5",
     "grade": false,
     "grade_id": "cell-a338212765615b63",
     "locked": true,
     "schema_version": 1,
     "solution": false
    }
   },
   "outputs": [],
   "source": [
    "plt.arrow(0,0,ev[0,0],ev[1,0],color='r')\n",
    "plt.arrow(0,0,ev[0,1],ev[1,1],color='b')"
   ]
  },
  {
   "cell_type": "markdown",
   "metadata": {
    "deletable": false,
    "editable": false,
    "nbgrader": {
     "checksum": "f58380463fa451e9ed5bd80addcbb34c",
     "grade": false,
     "grade_id": "cell-91c194fb81fe34aa",
     "locked": true,
     "schema_version": 1,
     "solution": false
    }
   },
   "source": [
    "Sprawdźmy jeszcze,  że wektory własne odpowiadające różnym wartościom własnym są orgotonalne.\n",
    "    \n",
    "    "
   ]
  },
  {
   "cell_type": "code",
   "execution_count": null,
   "metadata": {
    "deletable": false,
    "editable": false,
    "nbgrader": {
     "checksum": "974e3a6bca351ba437c150d067c3f1d1",
     "grade": false,
     "grade_id": "cell-2f54b31f1c0932e4",
     "locked": true,
     "schema_version": 1,
     "solution": false
    }
   },
   "outputs": [],
   "source": [
    "np.testing.assert_approx_equal( np.dot(ev[:,0],ev[:,0]), 1)\n",
    "np.testing.assert_approx_equal( np.dot(ev[:,0],ev[:,1]), 0)"
   ]
  },
  {
   "cell_type": "markdown",
   "metadata": {
    "deletable": false,
    "editable": false,
    "nbgrader": {
     "checksum": "def013a03c17bbbdfec5623826da2b20",
     "grade": false,
     "grade_id": "cell-c38cc5c54b3b68f0",
     "locked": true,
     "schema_version": 1,
     "solution": false
    }
   },
   "source": [
    "## PCA\n",
    "\n",
    "\n",
    "Ładujemy 13 wymiarowy zestaw danych i wykonujemy na nim redukcję PCA do przestrzeni 3d, wykorzystując `sklearn.decomposition.PCA`\n",
    "\n",
    "  - `Xorig`  - dane orginalne (przed PCA)\n",
    "  - `X` - dane w zredukowanej przestrzeni"
   ]
  },
  {
   "cell_type": "code",
   "execution_count": null,
   "metadata": {
    "deletable": false,
    "editable": false,
    "nbgrader": {
     "checksum": "56d81b8f37c5bc55575907779d8904f3",
     "grade": false,
     "grade_id": "cell-a843a816f66e18fa",
     "locked": true,
     "schema_version": 1,
     "solution": false
    }
   },
   "outputs": [],
   "source": [
    "from sklearn import decomposition\n",
    "from sklearn import datasets\n",
    "from sklearn.preprocessing import StandardScaler\n",
    "\n",
    "X,y  = datasets.load_wine(return_X_y=True)\n",
    "scaler = StandardScaler()\n",
    "scaler.fit(X)\n",
    "X = scaler.transform(X)\n",
    "\n",
    "pca = decomposition.PCA(n_components=3)\n",
    "pca.fit(X)\n",
    "\n",
    "Xorig = X.copy()\n",
    "X = pca.transform(X)"
   ]
  },
  {
   "cell_type": "markdown",
   "metadata": {
    "deletable": false,
    "editable": false,
    "nbgrader": {
     "checksum": "26c4dd97ce01b5c8de8f014eaeac3373",
     "grade": false,
     "grade_id": "cell-4c018530abfe79f3",
     "locked": true,
     "schema_version": 1,
     "solution": false
    }
   },
   "source": [
    "### Krok 1: oblicz macierz kowariancji"
   ]
  },
  {
   "cell_type": "code",
   "execution_count": null,
   "metadata": {
    "deletable": false,
    "nbgrader": {
     "checksum": "f73eb8674b6bcb8c9f4e1bea165aa63f",
     "grade": false,
     "grade_id": "cell-723f1c3f1b126c56",
     "locked": false,
     "schema_version": 1,
     "solution": true
    }
   },
   "outputs": [],
   "source": [
    "C = None\n",
    "# YOUR CODE HERE\n",
    "raise NotImplementedError()"
   ]
  },
  {
   "cell_type": "code",
   "execution_count": null,
   "metadata": {
    "deletable": false,
    "editable": false,
    "nbgrader": {
     "checksum": "372aa4ed17faa96269bd34c72574cbee",
     "grade": true,
     "grade_id": "cell-75b1778047492040",
     "locked": true,
     "points": 1,
     "schema_version": 1,
     "solution": false
    }
   },
   "outputs": [],
   "source": [
    "np.testing.assert_approx_equal(C[11,2],0.0039333279)\n",
    "np.testing.assert_almost_equal(C,np.cov(Xorig.T))"
   ]
  },
  {
   "cell_type": "markdown",
   "metadata": {
    "deletable": false,
    "editable": false,
    "nbgrader": {
     "checksum": "d1797422cf3c04c43e153e4b102e4da5",
     "grade": false,
     "grade_id": "cell-e113423af3a1f1dd",
     "locked": true,
     "schema_version": 1,
     "solution": false
    }
   },
   "source": [
    "### Krok 2:  Wektory i wartości własne macierzy kowariancji. \n"
   ]
  },
  {
   "cell_type": "code",
   "execution_count": null,
   "metadata": {
    "deletable": false,
    "editable": false,
    "nbgrader": {
     "checksum": "32f1fe7cc66799400a29473ce71d1212",
     "grade": false,
     "grade_id": "cell-75f533b0fe2a0c44",
     "locked": true,
     "schema_version": 1,
     "solution": false
    }
   },
   "outputs": [],
   "source": [
    "val, ev =  np.linalg.eig(C)"
   ]
  },
  {
   "cell_type": "markdown",
   "metadata": {
    "deletable": false,
    "editable": false,
    "nbgrader": {
     "checksum": "08f8d779b75587d80e102a10a2544a94",
     "grade": false,
     "grade_id": "cell-487618b654281922",
     "locked": true,
     "schema_version": 1,
     "solution": false
    }
   },
   "source": [
    "*Posortuj* wartości i odpowiadające im wektory własne od największej do najmniejszej wartości własnej.\n",
    "\n",
    "Zastosuj `np.argsort`."
   ]
  },
  {
   "cell_type": "code",
   "execution_count": null,
   "metadata": {
    "deletable": false,
    "nbgrader": {
     "checksum": "4f7c37cec77228907460e28b8a33a869",
     "grade": false,
     "grade_id": "cell-ea0789ef1b113d84",
     "locked": false,
     "schema_version": 1,
     "solution": true
    }
   },
   "outputs": [],
   "source": [
    "# YOUR CODE HERE\n",
    "raise NotImplementedError()"
   ]
  },
  {
   "cell_type": "markdown",
   "metadata": {
    "deletable": false,
    "editable": false,
    "nbgrader": {
     "checksum": "df4f91dbaf89aa3a60107b800dd4dd53",
     "grade": false,
     "grade_id": "cell-1341079979987ed2",
     "locked": true,
     "schema_version": 1,
     "solution": false
    }
   },
   "source": [
    "Pierwsze trzy wartości własne powinny być takie same jak liczby w atrybucie `pca.explained_variance_`"
   ]
  },
  {
   "cell_type": "code",
   "execution_count": null,
   "metadata": {
    "deletable": false,
    "editable": false,
    "nbgrader": {
     "checksum": "739b5aecad05e4090b65e9c4c584ef62",
     "grade": true,
     "grade_id": "cell-5db6db8003368745",
     "locked": true,
     "points": 1,
     "schema_version": 1,
     "solution": false
    }
   },
   "outputs": [],
   "source": [
    "np.testing.assert_approx_equal(val[-1],0.1039619918207)\n",
    "np.testing.assert_almost_equal(pca.explained_variance_, val[:3])"
   ]
  },
  {
   "cell_type": "markdown",
   "metadata": {
    "deletable": false,
    "editable": false,
    "nbgrader": {
     "checksum": "6429b3a05c6a930c450ded5cd77708d1",
     "grade": false,
     "grade_id": "cell-6159cdea4defeed4",
     "locked": true,
     "schema_version": 1,
     "solution": false
    }
   },
   "source": [
    "### Krok 3: Stwórz macierz operatora rzutowania z przestrzeni 13d w  3d\n",
    "\n",
    "Mając jeden znormalizowany wektor własny (13 liczb) iloczyn skalarny tego wektora przez dowolny inny wektor tej samej przestrzeni można zinterpretować jako rzutowanie. Chceby rzutować na pierwsze trzy wektory własne - można więc przedstawić to jako operację liniową z macierzą $(13,3)$\n",
    "\n",
    "\n",
    "Macierz taka składa się z trzech 13 elementowych kolumn, będących wartościami własnymi macierzy kowariancji."
   ]
  },
  {
   "cell_type": "code",
   "execution_count": null,
   "metadata": {
    "deletable": false,
    "nbgrader": {
     "checksum": "3cf898139abd6f58af1ed42a27a210d2",
     "grade": false,
     "grade_id": "cell-8c31bc7da5ea62f0",
     "locked": false,
     "schema_version": 1,
     "solution": true
    }
   },
   "outputs": [],
   "source": [
    "P = None \n",
    "# YOUR CODE HERE\n",
    "raise NotImplementedError()"
   ]
  },
  {
   "cell_type": "code",
   "execution_count": null,
   "metadata": {},
   "outputs": [],
   "source": [
    "P.shape"
   ]
  },
  {
   "cell_type": "markdown",
   "metadata": {
    "deletable": false,
    "editable": false,
    "nbgrader": {
     "checksum": "388ccefbaa86647c3439e4dee2c56a74",
     "grade": false,
     "grade_id": "cell-66cfb3f3d5dbeaac",
     "locked": true,
     "schema_version": 1,
     "solution": false
    }
   },
   "source": [
    "W sklearn mamy taką macierz w atrybucie `pca.components_`:"
   ]
  },
  {
   "cell_type": "code",
   "execution_count": null,
   "metadata": {},
   "outputs": [],
   "source": [
    "pca.components_.shape"
   ]
  },
  {
   "cell_type": "markdown",
   "metadata": {
    "deletable": false,
    "editable": false,
    "nbgrader": {
     "checksum": "d9abb6b6ad33f94fbb79ce76e9b4665d",
     "grade": false,
     "grade_id": "cell-60072e2505cd8a72",
     "locked": true,
     "schema_version": 1,
     "solution": false
    }
   },
   "source": [
    "Sprawdźmy to:"
   ]
  },
  {
   "cell_type": "code",
   "execution_count": null,
   "metadata": {
    "deletable": false,
    "editable": false,
    "nbgrader": {
     "checksum": "ea26def37f236d26080e6b8443ab7c70",
     "grade": true,
     "grade_id": "cell-d752cd81fb2aa292",
     "locked": true,
     "points": 1,
     "schema_version": 1,
     "solution": false
    }
   },
   "outputs": [],
   "source": [
    "np.testing.assert_almost_equal(np.abs(P.T),np.abs(pca.components_))"
   ]
  },
  {
   "cell_type": "markdown",
   "metadata": {
    "deletable": false,
    "editable": false,
    "nbgrader": {
     "checksum": "09d534f55af999ba45ffcb637def5bc8",
     "grade": false,
     "grade_id": "cell-3db805b5ebdcd2b1",
     "locked": true,
     "schema_version": 1,
     "solution": false
    }
   },
   "source": [
    "### Krok 4: Wykonaj rzutowanie dla danych z 13d do 3d.\n",
    "\n",
    " - rzutuj jeden punkt z 13d do 3d (np. z indeksem  12)"
   ]
  },
  {
   "cell_type": "code",
   "execution_count": null,
   "metadata": {},
   "outputs": [],
   "source": [
    "Xorig[12]"
   ]
  },
  {
   "cell_type": "code",
   "execution_count": null,
   "metadata": {
    "deletable": false,
    "nbgrader": {
     "checksum": "e22e62456012f6dba326a381d3829fb2",
     "grade": false,
     "grade_id": "cell-e8f95478dfb4213c",
     "locked": false,
     "schema_version": 1,
     "solution": true
    }
   },
   "outputs": [],
   "source": [
    "x12 = None \n",
    "\n",
    "# YOUR CODE HERE\n",
    "raise NotImplementedError()"
   ]
  },
  {
   "cell_type": "code",
   "execution_count": null,
   "metadata": {
    "deletable": false,
    "editable": false,
    "nbgrader": {
     "checksum": "093d983ec6909b46965fd6eb9fdad86e",
     "grade": true,
     "grade_id": "cell-43724c753f69bb6e",
     "locked": true,
     "points": 1,
     "schema_version": 1,
     "solution": false
    }
   },
   "outputs": [],
   "source": [
    "np.testing.assert_almost_equal(x12, [-2.11346234,  0.67570634, -0.86508643])"
   ]
  },
  {
   "cell_type": "code",
   "execution_count": null,
   "metadata": {
    "deletable": false,
    "nbgrader": {
     "checksum": "3aa37d0af60abfb0a156eb736ab34ce0",
     "grade": false,
     "grade_id": "cell-590459a28a67266d",
     "locked": false,
     "schema_version": 1,
     "solution": true
    }
   },
   "outputs": [],
   "source": [
    "# YOUR CODE HERE\n",
    "raise NotImplementedError()"
   ]
  },
  {
   "cell_type": "code",
   "execution_count": null,
   "metadata": {
    "deletable": false,
    "editable": false,
    "nbgrader": {
     "checksum": "91e6077cb41a65139f465c892e1d716e",
     "grade": true,
     "grade_id": "cell-189b1b2314f3c4a3",
     "locked": true,
     "points": 1,
     "schema_version": 1,
     "solution": false
    }
   },
   "outputs": [],
   "source": [
    "np.testing.assert_almost_equal(X_3d[:4],np.array([[-3.31675081e+00,  1.44346263e+00, -1.65739045e-01],\n",
    "       [-2.20946492e+00, -3.33392887e-01, -2.02645737e+00],\n",
    "       [-2.51674015e+00,  1.03115130e+00,  9.82818670e-01],\n",
    "       [-3.75706561e+00,  2.75637191e+00, -1.76191842e-01]]) )"
   ]
  },
  {
   "cell_type": "markdown",
   "metadata": {
    "deletable": false,
    "editable": false,
    "nbgrader": {
     "checksum": "374eaeaa771e026fa3cdb1fb94b3ec5c",
     "grade": false,
     "grade_id": "cell-609040f986ce8cf8",
     "locked": true,
     "schema_version": 1,
     "solution": false
    }
   },
   "source": [
    "Ostatecznie wektor w zredukowanej przestrzeni obliczony przez nas i wektor obliczony przez sklear są takie same."
   ]
  },
  {
   "cell_type": "code",
   "execution_count": null,
   "metadata": {
    "deletable": false,
    "editable": false,
    "nbgrader": {
     "checksum": "a7f7044613635ba0a1f56750e6a1548b",
     "grade": true,
     "grade_id": "cell-b01db129a7569b33",
     "locked": true,
     "points": 1,
     "schema_version": 1,
     "solution": false
    }
   },
   "outputs": [],
   "source": [
    "np.testing.assert_almost_equal(np.abs(X_3d),np.abs(X))"
   ]
  },
  {
   "cell_type": "code",
   "execution_count": null,
   "metadata": {},
   "outputs": [],
   "source": []
  }
 ],
 "metadata": {
  "kernelspec": {
   "display_name": "Python 3",
   "language": "python",
   "name": "python3"
  },
  "language_info": {
   "codemirror_mode": {
    "name": "ipython",
    "version": 3
   },
   "file_extension": ".py",
   "mimetype": "text/x-python",
   "name": "python",
   "nbconvert_exporter": "python",
   "pygments_lexer": "ipython3",
   "version": "3.5.5"
  }
 },
 "nbformat": 4,
 "nbformat_minor": 2
}
