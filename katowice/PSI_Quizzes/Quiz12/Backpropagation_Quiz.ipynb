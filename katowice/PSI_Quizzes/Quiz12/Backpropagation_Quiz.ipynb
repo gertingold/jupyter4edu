{
 "cells": [
  {
   "cell_type": "markdown",
   "metadata": {
    "lang": "pl",
    "nbgrader": {
     "grade": false,
     "grade_id": "cell-aa0086f63af5cff5",
     "locked": true,
     "schema_version": 3,
     "solution": false
    }
   },
   "source": [
    "## Backpropagation w zapisie tensorowym\n",
    "\n",
    "Mam sieć jak składającą się z trzech  warstw: \n",
    " - 3,4,2,3, \n",
    " - aktywacja - sigmoid, \n",
    " - funkcją straty jest błąd średniokwadratowy.\n",
    "\n",
    "Obliczymy pochodne po dowolnej wadze lub bias-ie w dwóch przypadkach:\n",
    "\n",
    " - pojedyńczego przykładu\n",
    " - wielu przykłdów (batch)"
   ]
  },
  {
   "cell_type": "markdown",
   "metadata": {
    "lang": "en"
   },
   "source": [
    "## Backpropagation in tensor notation\n",
    "\n",
    "I have a network like three layers:\n",
    " - 3,4,2,3,\n",
    " - activation - sigmoid,\n",
    " - the function of the loss is the mean square error.\n",
    "\n",
    "We will calculate derivatives after any weight or bias in two cases:\n",
    "\n",
    " - a single example\n",
    " - many examples (batch)"
   ]
  },
  {
   "cell_type": "code",
   "execution_count": null,
   "metadata": {
    "nbgrader": {
     "grade": false,
     "grade_id": "cell-d054a7d6cb01a5b9",
     "locked": true,
     "schema_version": 3,
     "solution": false
    }
   },
   "outputs": [],
   "source": [
    "import numpy as np \n",
    "\n",
    "W1,b1,W2,b2,W3,b3 = [np.array([[0.1, 0.1, 0.1, 0.1],\n",
    "        [-0.1, 0.1, 0.2, 0.1],\n",
    "        [0.1, 0.2, 0.1, 0.1]]),\n",
    " np.array([0.2, -0.2, 0.2, 0.2]),\n",
    " np.array([[-0.2, 0.2],\n",
    "        [0.2, 0.2],\n",
    "        [0.2, -0.2],\n",
    "        [0.12, 0.2]]),\n",
    " np.array([0.4, 0.4]),\n",
    " np.array([[-0.3, 0.3, 0.13],\n",
    "        [0.3, 0.3, 0.3]]),\n",
    " np.array([0.16, -0.6, 0.6] )]\n",
    "\n",
    "s = lambda x:1/(1+np.exp(-x))"
   ]
  },
  {
   "cell_type": "markdown",
   "metadata": {
    "lang": "pl",
    "nbgrader": {
     "grade": false,
     "grade_id": "cell-48d27bf49393073b",
     "locked": true,
     "schema_version": 3,
     "solution": false
    }
   },
   "source": [
    "## 1. Przetwarzanie pojedyńczego przykładu"
   ]
  },
  {
   "cell_type": "markdown",
   "metadata": {
    "lang": "en"
   },
   "source": [
    "## 1. Processing of a single example"
   ]
  },
  {
   "cell_type": "code",
   "execution_count": null,
   "metadata": {
    "nbgrader": {
     "grade": false,
     "grade_id": "cell-60db762ac5baecb4",
     "locked": true,
     "schema_version": 3,
     "solution": false
    }
   },
   "outputs": [],
   "source": [
    "X = np.array([1,.3,.2])\n",
    "y_ = np.array([.1,.2,.1])"
   ]
  },
  {
   "cell_type": "code",
   "execution_count": null,
   "metadata": {},
   "outputs": [],
   "source": []
  },
  {
   "cell_type": "markdown",
   "metadata": {
    "lang": "pl",
    "nbgrader": {
     "grade": false,
     "grade_id": "cell-ac3b3cfcdca63b89",
     "locked": true,
     "schema_version": 3,
     "solution": false
    }
   },
   "source": [
    "### Forward pass\n",
    "\n",
    "$$\n",
    "z^1 = X^1 \\cdot W^1 + b^1\\\\\n",
    "y^1 = \\sigma(z^1)\n",
    "$$\n",
    "\n",
    "$$\n",
    "z^2 = y^1\\cdot W^2 + b^2\\\\\n",
    "y^2 = \\sigma(z^2)\n",
    "$$\n",
    "\n",
    "$$\n",
    "z^3 = y^2\\cdot W^3 + b^3\\\\\n",
    "y^3 = \\sigma(z^3)\n",
    "$$\n"
   ]
  },
  {
   "cell_type": "markdown",
   "metadata": {
    "lang": "en"
   },
   "source": [
    "### Forward pass\n",
    "\n",
    "$$\n",
    "z^1 = X^1 \\cdot W^1 + b^1\\\\\n",
    "y^1 = \\sigma(z^1)\n",
    "$$\n",
    "\n",
    "$$\n",
    "z^2 = y^1\\cdot W^2 + b^2\\\\\n",
    "y^2 = \\sigma(z^2)\n",
    "$$\n",
    "\n",
    "$$\n",
    "z^3 = y^2\\cdot W^3 + b^3\\\\\n",
    "y^3 = \\sigma(z^3)\n",
    "$$"
   ]
  },
  {
   "cell_type": "code",
   "execution_count": null,
   "metadata": {
    "nbgrader": {
     "grade": false,
     "grade_id": "cell-f1fb99134caee143",
     "locked": true,
     "schema_version": 3,
     "solution": false
    }
   },
   "outputs": [],
   "source": [
    "z1 = X.dot(W1) + b1\n",
    "y1 = s(z1)\n",
    "\n",
    "z2 = y1.dot(W2) + b2\n",
    "y2 = s(z2)\n",
    "\n",
    "z3 = y2.dot(W3) + b3\n",
    "y3 = s(z3)\n",
    "\n",
    "y3"
   ]
  },
  {
   "cell_type": "markdown",
   "metadata": {
    "lang": "pl",
    "nbgrader": {
     "grade": false,
     "grade_id": "cell-3fa9e0ec7421cdf6",
     "locked": true,
     "schema_version": 3,
     "solution": false
    }
   },
   "source": [
    "### Backward pass\n",
    "\n",
    "Propagujemy błąd (czułość) od ostatniej warstwy do pierwszej.\n",
    "\n",
    "Przypuśćmy, że chcemy obliczyć:\n",
    "\n",
    "$$\\frac{\\partial L}{\\partial \\mathbf{w^1}}$$\n",
    "\n",
    "\n",
    "\n",
    "$$\\frac{\\partial L}{\\partial w^1_{\\alpha\\beta}}=\n",
    "\\underbrace{\\frac{2}{N^3}(y^3_i-\\hat y_i) \n",
    "\\frac{\\partial y^3_i}{\\partial z^3_i}  \\frac{\\partial z^3_i}{\\partial y^2_j}\\cdot\n",
    "\\frac{\\partial y^2_j}{\\partial z^2_j}  \\frac{\\partial z^2_j}{\\partial y^1_k}\\cdot\n",
    "  }_{\\Delta^1_k}\\frac{\\partial y^1_k}{\\partial z^1_k} x^1_{\\alpha} \\delta_{k\\beta}  \n",
    "$$\n",
    "\n",
    "$$\\frac{\\partial L}{\\partial w^1_{\\alpha\\beta}}=\n",
    " \\sum_k \\Delta^1_k \\frac{\\partial y^1_k}{\\partial z^1_k}  x^1_{\\alpha} \\delta_{k\\beta}   = x^1_{\\alpha} \\frac{\\partial y^1_\\beta}{\\partial z^1_\\beta}  \\Delta^1_\\beta \n",
    "$$\n",
    "\n",
    "$$\\frac{\\partial L}{\\partial \\mathbf{w^1}}= \\underbrace{\\mathbf{x^1}}_{n^1}\\otimes \\underbrace{\\mathbf{\\Delta^1  \\mathbf{\\sigma'}}}_{n^1}\n",
    "$$\n",
    "\n",
    "\n",
    "\n",
    "1.  Obliczamy czułość wyniku na aktywację ostatniej warstwy:\n",
    "$$\n",
    "\\mathrm{error_i} =\\frac{2}{N^3}(y^3_i-\\hat y_i)  \n",
    "$$\n",
    "\n",
    "\n",
    "\n"
   ]
  },
  {
   "cell_type": "markdown",
   "metadata": {
    "lang": "en"
   },
   "source": [
    "### Backward pass\n",
    "\n",
    "We propagate the error (sensitivity) from the last layer to the first.\n",
    "\n",
    "Suppose we want to calculate:\n",
    "\n",
    "$$\\frac{\\partial L}{\\partial \\mathbf{w^1}}$$\n",
    "\n",
    "\n",
    "\n",
    "$$\\frac{\\partial L}{\\partial w^1_{\\alpha\\beta}}=\n",
    "\\underbrace{\\frac{2}{N^3}(y^3_i-\\hat y_i) \n",
    "\\frac{\\partial y^3_i}{\\partial z^3_i}  \\frac{\\partial z^3_i}{\\partial y^2_j}\\cdot\n",
    "\\frac{\\partial y^2_j}{\\partial z^2_j}  \\frac{\\partial z^2_j}{\\partial y^1_k}\\cdot\n",
    "  }_{\\Delta^1_k}\\frac{\\partial y^1_k}{\\partial z^1_k} x^1_{\\alpha} \\delta_{k\\beta}  \n",
    "$$\n",
    "\n",
    "$$\\frac{\\partial L}{\\partial w^1_{\\alpha\\beta}}=\n",
    " \\sum_k \\Delta^1_k \\frac{\\partial y^1_k}{\\partial z^1_k}  x^1_{\\alpha} \\delta_{k\\beta}   = x^1_{\\alpha} \\frac{\\partial y^1_\\beta}{\\partial z^1_\\beta}  \\Delta^1_\\beta \n",
    "$$\n",
    "\n",
    "$$\\frac{\\partial L}{\\partial \\mathbf{w^1}}= \\underbrace{\\mathbf{x^1}}_{n^1}\\otimes \\underbrace{\\mathbf{\\Delta^1  \\mathbf{\\sigma'}}}_{n^1}\n",
    "$$\n",
    "\n",
    "\n",
    "\n",
    "1. We calculate the sensitivity of the result to the activation of the last layer:\n",
    "$$\n",
    "\\mathrm{error_i} =\\frac{2}{N^3}(y^3_i-\\hat y_i)  \n",
    "$$"
   ]
  },
  {
   "cell_type": "code",
   "execution_count": null,
   "metadata": {},
   "outputs": [],
   "source": []
  },
  {
   "cell_type": "code",
   "execution_count": null,
   "metadata": {
    "nbgrader": {
     "grade": false,
     "grade_id": "cell-41e55da2829a1cc1",
     "locked": false,
     "schema_version": 3,
     "solution": true
    }
   },
   "outputs": [],
   "source": [
    "error = None\n",
    "\n",
    "### BEGIN SOLUTION\n",
    "error = 2/(y3.shape[-1])*(y3-y_)\n",
    "### END SOLUTION\n",
    "error"
   ]
  },
  {
   "cell_type": "markdown",
   "metadata": {},
   "source": [
    "$$\n",
    "\\mathrm{error_j} \\to \\underbrace{\\frac{2}{N^3}(y^3_i-\\hat y_i)}_{\\mathrm{error_i}}  \n",
    "\\underbrace{\\frac{\\partial y^3_i}{\\partial z^3_i}  \\frac{\\partial z^3_i}{\\partial y^2_j}}_{M(n_3\\times n_2)}= \\mathrm{error_i}\\frac{\\partial y^3_i}{\\partial z^3_i} \\cdot\n",
    "(w^{3\\,T})_{ij}$$\n",
    "$$\n",
    "\\frac{\\partial z^3_i}{\\partial y^2_j} =  w^3_{ji} = (w^{3\\,T})_{ij}\n",
    "$$"
   ]
  },
  {
   "cell_type": "code",
   "execution_count": null,
   "metadata": {
    "nbgrader": {
     "grade": false,
     "grade_id": "cell-03f50c315b29215a",
     "locked": false,
     "schema_version": 3,
     "solution": true
    }
   },
   "outputs": [],
   "source": [
    "# error z wyjscia warstwy 3 propagujemy wejscia warstwy 3\n",
    "\n",
    "### BEGIN SOLUTION\n",
    "error = (y3*(1-y3)*error).dot(W3.T)\n",
    "### END SOLUTION\n",
    "\n",
    "error"
   ]
  },
  {
   "cell_type": "markdown",
   "metadata": {
    "lang": "pl"
   },
   "source": [
    "\n",
    "$$\n",
    "\\mathrm{error_j} \\to   \n",
    "= \\mathrm{error_i}\\frac{\\partial y^2_i}{\\partial z^2_i} \\cdot\n",
    "(w^{2\\,T})_{ij}$$\n",
    "\n",
    "błąd z wyjscia warstwy 2 propagujemy wejscia warsty 1\n"
   ]
  },
  {
   "cell_type": "markdown",
   "metadata": {
    "lang": "en"
   },
   "source": [
    "$$\n",
    "\\mathrm{error_j} \\to   \n",
    "= \\mathrm{error_i}\\frac{\\partial y^2_i}{\\partial z^2_i} \\cdot\n",
    "(w^{2\\,T})_{ij}$$\n",
    "\n",
    "error from layer 2 output we propagate layer 1 inputs"
   ]
  },
  {
   "cell_type": "code",
   "execution_count": null,
   "metadata": {
    "nbgrader": {
     "grade": false,
     "grade_id": "cell-1deb0fa662398a70",
     "locked": false,
     "schema_version": 3,
     "solution": true
    }
   },
   "outputs": [],
   "source": [
    "### BEGIN SOLUTION\n",
    "error = (y2*(1-y2)*error).dot(W2.T)\n",
    "### END SOLUTION\n",
    "\n",
    "error"
   ]
  },
  {
   "cell_type": "markdown",
   "metadata": {
    "lang": "pl"
   },
   "source": [
    "Obliczamy pochodną po wagach  warstwy 3 jako iloczyn zewnętrzny wektora \n",
    "$$x^1_j$$\n",
    " oraz $$\\mathrm{error_i} \\frac{\\partial y^1_i}{\\partial z^1_i}$$\n",
    "\n"
   ]
  },
  {
   "cell_type": "markdown",
   "metadata": {
    "lang": "en"
   },
   "source": [
    "We calculate the derivative over layer 3 weights as the external product of the vector\n",
    "$$x^1_j$$\n",
    " and $$\\mathrm{error_i} \\frac{\\partial y^1_i}{\\partial z^1_i}$$"
   ]
  },
  {
   "cell_type": "code",
   "execution_count": null,
   "metadata": {
    "nbgrader": {
     "grade": false,
     "grade_id": "cell-9aa0371019b00098",
     "locked": false,
     "schema_version": 3,
     "solution": true
    }
   },
   "outputs": [],
   "source": [
    "dw1 = None\n",
    "\n",
    "### BEGIN SOLUTION\n",
    "dw1 = X[:,None]*( error*(y1*(1-y1)) )[None,:]\n",
    "dw1 = np.outer(X, error*(y1*(1-y1)) )\n",
    "### END SOLUTION\n",
    "\n",
    "dw1"
   ]
  },
  {
   "cell_type": "code",
   "execution_count": null,
   "metadata": {
    "nbgrader": {
     "grade": true,
     "grade_id": "cell-149c7afa1b3bf02f",
     "locked": true,
     "points": 2,
     "schema_version": 3,
     "solution": false
    }
   },
   "outputs": [],
   "source": [
    "np.testing.assert_allclose(dw1,[[0.0006476156413555145,\n",
    "  0.0006892113015055656,\n",
    "  -0.0006380165577866137,\n",
    "  0.0006632386357523501],\n",
    " [0.0001942847011378035,\n",
    "  0.00020676340500358492,\n",
    "  -0.0001914049789775163,\n",
    "  0.00019897159654647112],\n",
    " [0.000129523134091869,\n",
    "  0.00013784226030111313,\n",
    "  -0.00012760331446770579,\n",
    "  0.00013264773588161916]] ,rtol=1e-3)"
   ]
  },
  {
   "cell_type": "markdown",
   "metadata": {
    "lang": "pl",
    "nbgrader": {
     "grade": false,
     "grade_id": "cell-f9d239e8115759e6",
     "locked": true,
     "schema_version": 3,
     "solution": false
    }
   },
   "source": [
    "Pochodna po bias-ie wynosi:\n",
    "\n",
    "$$\\mathrm{error_i} \\frac{\\partial y^1_i}{\\partial z^1_i}$$"
   ]
  },
  {
   "cell_type": "markdown",
   "metadata": {
    "lang": "en"
   },
   "source": [
    "The derivative over bias is:\n",
    "\n",
    "$$\\mathrm{error_i} \\frac{\\partial y^1_i}{\\partial z^1_i}$$"
   ]
  },
  {
   "cell_type": "code",
   "execution_count": null,
   "metadata": {
    "nbgrader": {
     "grade": false,
     "grade_id": "cell-440ca04b0181a05f",
     "locked": false,
     "schema_version": 3,
     "solution": true
    }
   },
   "outputs": [],
   "source": [
    "db = None\n",
    "\n",
    "### BEGIN SOLUTION\n",
    "db1 = error*(y1*(1-y1)) \n",
    "### END SOLUTION\n",
    "\n",
    "db1"
   ]
  },
  {
   "cell_type": "code",
   "execution_count": null,
   "metadata": {
    "nbgrader": {
     "grade": true,
     "grade_id": "cell-a78eb2054a41633f",
     "locked": true,
     "points": 1,
     "schema_version": 3,
     "solution": false
    }
   },
   "outputs": [],
   "source": [
    "np.testing.assert_allclose(db1,[0.0006476156413555145,\n",
    " 0.0006892113015055656,\n",
    " -0.0006380165577866137,\n",
    " 0.0006632386357523501], rtol=1e-3)"
   ]
  },
  {
   "cell_type": "code",
   "execution_count": null,
   "metadata": {},
   "outputs": [],
   "source": []
  },
  {
   "cell_type": "code",
   "execution_count": null,
   "metadata": {},
   "outputs": [],
   "source": []
  },
  {
   "cell_type": "markdown",
   "metadata": {
    "lang": "pl",
    "nbgrader": {
     "grade": false,
     "grade_id": "cell-4e2547d87d7e7b2d",
     "locked": true,
     "schema_version": 3,
     "solution": false
    }
   },
   "source": [
    "## 2. Batch processing\n",
    "\n",
    "Co jeśli mamy wiele przykładów?"
   ]
  },
  {
   "cell_type": "markdown",
   "metadata": {
    "lang": "en"
   },
   "source": [
    "## 2. Batch processing\n",
    "\n",
    "What if we have many examples?"
   ]
  },
  {
   "cell_type": "code",
   "execution_count": null,
   "metadata": {
    "nbgrader": {
     "grade": false,
     "grade_id": "cell-52bcd6345a5164d5",
     "locked": true,
     "schema_version": 3,
     "solution": false
    }
   },
   "outputs": [],
   "source": [
    "X = np.array([[1,.3,.2],\n",
    "              [.1,.2,.1]])\n",
    "y_ = np.array([[.1,.2,.1],\n",
    "               [.2,.1,.2]])\n",
    "\n"
   ]
  },
  {
   "cell_type": "markdown",
   "metadata": {
    "lang": "pl",
    "nbgrader": {
     "grade": false,
     "grade_id": "cell-5696417ac918d419",
     "locked": true,
     "schema_version": 3,
     "solution": false
    }
   },
   "source": [
    "### Forward pass\n",
    "\n",
    "Zastosujmy te same wzory:"
   ]
  },
  {
   "cell_type": "markdown",
   "metadata": {
    "lang": "en"
   },
   "source": [
    "### Forward pass\n",
    "\n",
    "Let's apply the same formulas:"
   ]
  },
  {
   "cell_type": "code",
   "execution_count": null,
   "metadata": {
    "nbgrader": {
     "grade": false,
     "grade_id": "cell-0b9e37e48fcffe6c",
     "locked": true,
     "schema_version": 3,
     "solution": false
    }
   },
   "outputs": [],
   "source": [
    "z1 = X.dot(W1) + b1\n",
    "y1 = s(z1)\n",
    "\n",
    "z2 = y1.dot(W2) + b2\n",
    "y2 = s(z2)\n",
    "\n",
    "z3 = y2.dot(W3) + b3\n",
    "y3 = s(z3)\n",
    "\n",
    "y3"
   ]
  },
  {
   "cell_type": "markdown",
   "metadata": {
    "lang": "pl",
    "nbgrader": {
     "grade": false,
     "grade_id": "cell-36e8ed9dc7195239",
     "locked": true,
     "schema_version": 3,
     "solution": false
    }
   },
   "source": [
    "### Backward pass"
   ]
  },
  {
   "cell_type": "markdown",
   "metadata": {
    "lang": "en"
   },
   "source": [
    "### Backward pass"
   ]
  },
  {
   "cell_type": "code",
   "execution_count": null,
   "metadata": {
    "nbgrader": {
     "grade": false,
     "grade_id": "cell-43a583e078637c39",
     "locked": false,
     "schema_version": 3,
     "solution": true
    }
   },
   "outputs": [],
   "source": [
    "error = None\n",
    "\n",
    "### BEGIN SOLUTION\n",
    "error = 2/(y3.shape[-1])*(y3-y_)\n",
    "### END SOLUTION\n",
    "error"
   ]
  },
  {
   "cell_type": "markdown",
   "metadata": {
    "nbgrader": {
     "grade": false,
     "grade_id": "cell-1029ee11694a3aad",
     "locked": true,
     "schema_version": 3,
     "solution": false
    }
   },
   "source": [
    "$$\n",
    "\\mathrm{error_j} \\to \\underbrace{\\frac{2}{N^3}(y^3_i-\\hat y_i)}_{\\mathrm{error_i}}  \n",
    "\\underbrace{\\frac{\\partial y^3_i}{\\partial z^3_i}  \\frac{\\partial z^3_i}{\\partial y^2_j}}_{M(n_3\\times n_2)}= \\mathrm{error_i}\\frac{\\partial y^3_i}{\\partial z^3_i} \\cdot\n",
    "(w^{3\\,T})_{ij}$$\n",
    "$$\n",
    "\\frac{\\partial z^3_i}{\\partial y^2_j} =  w^3_{ji} = (w^{3\\,T})_{ij}\n",
    "$$"
   ]
  },
  {
   "cell_type": "markdown",
   "metadata": {
    "lang": "pl"
   },
   "source": [
    "błąd z wyjscia warstwy 3 propagujemy wejscia warstwy 3\n"
   ]
  },
  {
   "cell_type": "markdown",
   "metadata": {
    "lang": "en"
   },
   "source": [
    "error from layer 3 output we propagate layer 3 inputs"
   ]
  },
  {
   "cell_type": "code",
   "execution_count": null,
   "metadata": {
    "nbgrader": {
     "grade": false,
     "grade_id": "cell-ef355b32c1fe083a",
     "locked": false,
     "schema_version": 3,
     "solution": true
    }
   },
   "outputs": [],
   "source": [
    "\n",
    "### BEGIN SOLUTION\n",
    "error = (y3*(1-y3)*error).dot(W3.T)\n",
    "### END SOLUTION\n",
    "\n",
    "error"
   ]
  },
  {
   "cell_type": "markdown",
   "metadata": {
    "lang": "pl",
    "nbgrader": {
     "grade": false,
     "grade_id": "cell-775cfabda4d086b5",
     "locked": true,
     "schema_version": 3,
     "solution": false
    }
   },
   "source": [
    "\n",
    "$$\n",
    "\\mathrm{error_j} \\to   \n",
    "= \\mathrm{error_i}\\frac{\\partial y^2_i}{\\partial z^2_i} \\cdot\n",
    "(w^{2\\,T})_{ij}$$\n",
    "\n",
    " error z wyjscia warstwy 2 propagujemy wejscia warsty 1"
   ]
  },
  {
   "cell_type": "markdown",
   "metadata": {
    "lang": "en"
   },
   "source": [
    "$$\n",
    "\\mathrm{error_j} \\to   \n",
    "= \\mathrm{error_i}\\frac{\\partial y^2_i}{\\partial z^2_i} \\cdot\n",
    "(w^{2\\,T})_{ij}$$\n",
    "\n",
    " error from layer 2 output we propagate layer 1 inputs"
   ]
  },
  {
   "cell_type": "code",
   "execution_count": null,
   "metadata": {
    "nbgrader": {
     "grade": false,
     "grade_id": "cell-0bf7d97c0f2394ea",
     "locked": false,
     "schema_version": 3,
     "solution": true
    }
   },
   "outputs": [],
   "source": [
    "### BEGIN SOLUTION\n",
    "error = (y2*(1-y2)*error).dot(W2.T)\n",
    "### END SOLUTION\n",
    "\n",
    "error"
   ]
  },
  {
   "cell_type": "markdown",
   "metadata": {
    "lang": "pl"
   },
   "source": [
    "Obliczamy pochodną po wagach  warstwy 3 jako iloczyn zewnętrzny wektora \n",
    "$$x^1_j$$\n",
    " oraz $$\\mathrm{error_i} \\frac{\\partial y^1_i}{\\partial z^1_i}$$\n",
    "\n",
    "Jeśli zastosujemy reguły boadcastingu do obliczania iloczynu zewnętrzego, to otrzymamy wartości dla każdego przykładu z osobna:\n"
   ]
  },
  {
   "cell_type": "markdown",
   "metadata": {
    "lang": "en"
   },
   "source": [
    "We calculate the derivative over layer 3 weights as the external product of the vector\n",
    "$$x^1_j$$\n",
    " and $$\\mathrm{error_i} \\frac{\\partial y^1_i}{\\partial z^1_i}$$\n",
    "\n",
    "If we use boadcasting rules to calculate the external product, we get the values ​​for each example separately:"
   ]
  },
  {
   "cell_type": "code",
   "execution_count": null,
   "metadata": {},
   "outputs": [],
   "source": [
    "dw1 = X[:,:,None]*( error*(y1*(1-y1)) )[:,None,:]\n",
    "dw1.shape"
   ]
  },
  {
   "cell_type": "markdown",
   "metadata": {
    "lang": "pl"
   },
   "source": [
    "Aby uzystać pochodną po wszytkich wartościach wag w tej warstwie należy uśrednić wynik po przykładach (czyli osi zerowej)."
   ]
  },
  {
   "cell_type": "markdown",
   "metadata": {
    "lang": "en"
   },
   "source": [
    "To obtain a derivative over all weight values in this layer, average the result after the examples (i.e. the zero axis)."
   ]
  },
  {
   "cell_type": "code",
   "execution_count": null,
   "metadata": {
    "nbgrader": {
     "grade": false,
     "grade_id": "cell-1a528652a2db56be",
     "locked": false,
     "schema_version": 3,
     "solution": true
    }
   },
   "outputs": [],
   "source": [
    "### BEGIN SOLUTION\n",
    "dw1 = np.mean(X[:,:,None]*( error*(y1*(1-y1)) )[:,None,:],axis=0)\n",
    "### END SOLUTION\n",
    "\n",
    "dw1"
   ]
  },
  {
   "cell_type": "code",
   "execution_count": null,
   "metadata": {
    "nbgrader": {
     "grade": true,
     "grade_id": "cell-a0e86e4df78950f0",
     "locked": true,
     "points": 1,
     "schema_version": 3,
     "solution": false
    }
   },
   "outputs": [],
   "source": [
    "np.testing.assert_allclose(dw1,[[0.0003496380231808871,\n",
    "   0.00038124978891573846,\n",
    "   -0.0003446616174187511,\n",
    "   0.00036582283792085946],\n",
    "  [0.0001488027919549495,\n",
    "   0.00017666998610366136,\n",
    "   -0.00014700925385113806,\n",
    "   0.00016789280925877392],\n",
    "  [9.059178410097957e-05,\n",
    "   0.0001055652683135122,\n",
    "   -8.945503941504285e-05,\n",
    "   0.00010052736615762115]] ,rtol=1e-3)"
   ]
  },
  {
   "cell_type": "markdown",
   "metadata": {
    "lang": "pl"
   },
   "source": [
    "Pochodna po bias-ie wynosi:\n",
    "\n",
    "$$\\mathrm{error_i} \\frac{\\partial y^1_i}{\\partial z^1_i}$$"
   ]
  },
  {
   "cell_type": "markdown",
   "metadata": {
    "lang": "en"
   },
   "source": [
    "The derivative after bias is:\n",
    "\n",
    "$$\\mathrm{error_i} \\frac{\\partial y^1_i}{\\partial z^1_i}$$"
   ]
  },
  {
   "cell_type": "code",
   "execution_count": null,
   "metadata": {
    "nbgrader": {
     "grade": false,
     "grade_id": "cell-bed2259cbbb7a657",
     "locked": false,
     "schema_version": 3,
     "solution": true
    }
   },
   "outputs": [],
   "source": [
    "db1 = None\n",
    "### BEGIN SOLUTION\n",
    "db1 = np.mean(( error*(y1*(1-y1)) )[:,:],axis=0)\n",
    "### END SOLUTION\n",
    "\n",
    "db1"
   ]
  },
  {
   "cell_type": "code",
   "execution_count": null,
   "metadata": {
    "nbgrader": {
     "grade": true,
     "grade_id": "cell-c865e27049eb0132",
     "locked": true,
     "points": 1,
     "schema_version": 3,
     "solution": false
    }
   },
   "outputs": [],
   "source": [
    "np.testing.assert_allclose(db1,[0.0005821100203320384,\n",
    "  0.0007110470905900002,\n",
    "  -0.0005755421589128673,\n",
    "  0.0006736543728038669], rtol=1e-3)"
   ]
  },
  {
   "cell_type": "markdown",
   "metadata": {
    "lang": "pl"
   },
   "source": [
    "## Dodatek iloczyn zewnętrzny\n",
    "\n",
    "$$P_{ij} =  a_i b_j$$"
   ]
  },
  {
   "cell_type": "markdown",
   "metadata": {
    "lang": "en"
   },
   "source": [
    "## Addendum outer product\n",
    "\n",
    "$$P_{ij} =  a_i b_j$$"
   ]
  },
  {
   "cell_type": "code",
   "execution_count": null,
   "metadata": {},
   "outputs": [],
   "source": [
    "a = np.array([1,2,3])\n",
    "b = np.array([5,4])"
   ]
  },
  {
   "cell_type": "code",
   "execution_count": null,
   "metadata": {},
   "outputs": [],
   "source": [
    "np.outer(a,b)"
   ]
  },
  {
   "cell_type": "code",
   "execution_count": null,
   "metadata": {},
   "outputs": [],
   "source": [
    "a[:,None]*b[None,:]"
   ]
  },
  {
   "cell_type": "code",
   "execution_count": null,
   "metadata": {},
   "outputs": [],
   "source": [
    "[[a[i]*b[j] for j in range(b.shape[0])] for i in range(a.shape[0])] "
   ]
  },
  {
   "cell_type": "code",
   "execution_count": null,
   "metadata": {},
   "outputs": [],
   "source": []
  },
  {
   "cell_type": "code",
   "execution_count": null,
   "metadata": {},
   "outputs": [],
   "source": []
  },
  {
   "cell_type": "code",
   "execution_count": null,
   "metadata": {},
   "outputs": [],
   "source": []
  },
  {
   "cell_type": "code",
   "execution_count": null,
   "metadata": {},
   "outputs": [],
   "source": []
  }
 ],
 "metadata": {
  "celltoolbar": "Create Assignment",
  "kernelspec": {
   "display_name": "Python 3",
   "language": "python",
   "name": "python3"
  },
  "language_info": {
   "codemirror_mode": {
    "name": "ipython",
    "version": 3
   },
   "file_extension": ".py",
   "mimetype": "text/x-python",
   "name": "python",
   "nbconvert_exporter": "python",
   "pygments_lexer": "ipython3",
   "version": "3.7.3"
  },
  "nbTranslate": {
   "displayLangs": [
    "en",
    "pl"
   ],
   "hotkey": "alt-t",
   "langInMainMenu": true,
   "sourceLang": "pl",
   "targetLang": "en",
   "useGoogleTranslate": true
  }
 },
 "nbformat": 4,
 "nbformat_minor": 2
}
