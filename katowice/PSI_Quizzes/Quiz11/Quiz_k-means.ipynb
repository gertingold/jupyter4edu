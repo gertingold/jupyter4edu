{
 "cells": [
  {
   "cell_type": "markdown",
   "metadata": {
    "lang": "pl",
    "nbgrader": {
     "grade": false,
     "grade_id": "cell-f5dec389a3da43d7",
     "locked": true,
     "schema_version": 3,
     "solution": false
    }
   },
   "source": [
    "# k-means"
   ]
  },
  {
   "cell_type": "markdown",
   "metadata": {
    "lang": "en"
   },
   "source": [
    "# k-means"
   ]
  },
  {
   "cell_type": "code",
   "execution_count": null,
   "metadata": {
    "nbgrader": {
     "grade": false,
     "grade_id": "cell-6ba4c01cf4df60bf",
     "locked": true,
     "schema_version": 3,
     "solution": false
    }
   },
   "outputs": [],
   "source": [
    "from sklearn.datasets import make_blobs\n",
    "import matplotlib.pyplot as plt\n",
    "import numpy as np"
   ]
  },
  {
   "cell_type": "code",
   "execution_count": null,
   "metadata": {
    "nbgrader": {
     "grade": false,
     "grade_id": "cell-f223adb03e5f3aed",
     "locked": true,
     "schema_version": 3,
     "solution": false
    }
   },
   "outputs": [],
   "source": [
    "X, y = make_blobs(n_samples=150,\n",
    "         n_features=2,\n",
    "         centers=3,\n",
    "         cluster_std=.5,\n",
    "         shuffle=True,\n",
    "         random_state=345)"
   ]
  },
  {
   "cell_type": "code",
   "execution_count": null,
   "metadata": {},
   "outputs": [],
   "source": [
    "plt.scatter(X[:,0],X[:,1],c=y)"
   ]
  },
  {
   "cell_type": "code",
   "execution_count": null,
   "metadata": {
    "nbgrader": {
     "grade": false,
     "grade_id": "cell-8e3caa0126430fdb",
     "locked": true,
     "schema_version": 3,
     "solution": false
    }
   },
   "outputs": [],
   "source": [
    "n_clusters = 3"
   ]
  },
  {
   "cell_type": "markdown",
   "metadata": {
    "lang": "pl",
    "nbgrader": {
     "grade": false,
     "grade_id": "cell-a8bbe0d145d80ac6",
     "locked": true,
     "schema_version": 3,
     "solution": false
    }
   },
   "source": [
    "Niech centra będą reprezentowane przez macierz $C$, gdzie pierwszy indeks numeruje centrum a drugi współrzędne. Wybierzmy jako centra kilka punktów z danych np.:"
   ]
  },
  {
   "cell_type": "markdown",
   "metadata": {
    "lang": "en"
   },
   "source": [
    "Let the centers be represented by the $C$ matrix, where the first index numbers the center and the second coordinates. Let's choose several points from the data as centers, e.g .:"
   ]
  },
  {
   "cell_type": "code",
   "execution_count": null,
   "metadata": {
    "nbgrader": {
     "grade": false,
     "grade_id": "cell-278eb55df96dac0b",
     "locked": true,
     "schema_version": 3,
     "solution": false
    }
   },
   "outputs": [],
   "source": [
    "c = X[[1,2,3],:]\n"
   ]
  },
  {
   "cell_type": "markdown",
   "metadata": {
    "lang": "pl",
    "nbgrader": {
     "grade": false,
     "grade_id": "cell-c07cc7805cb5ce89",
     "locked": true,
     "schema_version": 3,
     "solution": false
    }
   },
   "source": [
    "### Pogrupuj wg. centrów\n",
    "\n",
    "\n",
    "Mając centra możemy przypisac każdy punkt ze zbioru danych do klasy o numerze  najbliższego mu centrum\n",
    "\n"
   ]
  },
  {
   "cell_type": "markdown",
   "metadata": {
    "lang": "en"
   },
   "source": [
    "### Group by centres\n",
    "\n",
    "\n",
    "With centers, we can assign each point in the data set to the class with the center number closest to it"
   ]
  },
  {
   "cell_type": "code",
   "execution_count": null,
   "metadata": {
    "nbgrader": {
     "grade": false,
     "grade_id": "cell-84f9f12f74781940",
     "locked": false,
     "schema_version": 3,
     "solution": true
    }
   },
   "outputs": [],
   "source": [
    "km = None\n",
    "### BEGIN SOLUTION\n",
    "km = np.argmin(np.sum( (c[np.newaxis,:,:]-X[:,np.newaxis,:])**2,axis=-1),axis=-1)\n",
    "### END SOLUTION\n",
    "\n"
   ]
  },
  {
   "cell_type": "code",
   "execution_count": null,
   "metadata": {
    "nbgrader": {
     "grade": true,
     "grade_id": "cell-5fe942012839bcbf",
     "locked": true,
     "points": 2,
     "schema_version": 3,
     "solution": false
    }
   },
   "outputs": [],
   "source": [
    "np.testing.assert_allclose(km[:17],[2, 0, 1, 2, 2, 2, 1, 2, 1, 2, 2, 1, 2, 2, 1, 2, 2])"
   ]
  },
  {
   "cell_type": "markdown",
   "metadata": {
    "lang": "pl"
   },
   "source": [
    "Zobaczmy jaki otrzymalismy wynik:"
   ]
  },
  {
   "cell_type": "markdown",
   "metadata": {
    "lang": "en"
   },
   "source": [
    "Let's see how we got the result:"
   ]
  },
  {
   "cell_type": "code",
   "execution_count": null,
   "metadata": {},
   "outputs": [],
   "source": [
    "plt.scatter(X[:,0],X[:,1],c=km)"
   ]
  },
  {
   "cell_type": "markdown",
   "metadata": {
    "lang": "pl"
   },
   "source": [
    "### Aktualiza centrów\n",
    "\n",
    "Mając poklasyfikowane (wstępnie) dane można policzych ich centra po klasach "
   ]
  },
  {
   "cell_type": "markdown",
   "metadata": {
    "lang": "en"
   },
   "source": [
    "### Updating centers\n",
    "\n",
    "Having (pre) classified data, you can count their centers by class"
   ]
  },
  {
   "cell_type": "code",
   "execution_count": null,
   "metadata": {
    "nbgrader": {
     "grade": false,
     "grade_id": "cell-c1695e90f0a05ac3",
     "locked": false,
     "schema_version": 3,
     "solution": true
    }
   },
   "outputs": [],
   "source": [
    "### BEGIN SOLUTION\n",
    "c  = np.stack([np.mean(X[km==c_],axis=0) for c_ in range(n_clusters)])\n",
    "### END SOLUTION\n"
   ]
  },
  {
   "cell_type": "code",
   "execution_count": null,
   "metadata": {
    "nbgrader": {
     "grade": true,
     "grade_id": "cell-114980e0a21b3bd6",
     "locked": true,
     "points": 1,
     "schema_version": 3,
     "solution": false
    }
   },
   "outputs": [],
   "source": [
    "assert c.shape == (n_clusters, 2)\n",
    "np.testing.assert_allclose(c,[[-4.22834853,  1.44810254],\n",
    "       [-5.1174013 , -0.34387858],\n",
    "       [-1.27885324,  2.68624462]], rtol=1e-3)"
   ]
  },
  {
   "cell_type": "markdown",
   "metadata": {
    "lang": "pl"
   },
   "source": [
    "### Oblicz SSE \n",
    "\n",
    "Suma kwadratów odchyleń od średniej wewnątrz klastra:\n",
    "\n",
    "$$\n",
    "   SSE = \\sum_c  \\sigma^2_c\n",
    "$$\n",
    "\n",
    " - $\\sigma^2_c$ - wariancja  klastra $c$\n",
    "\n",
    " \n"
   ]
  },
  {
   "cell_type": "markdown",
   "metadata": {
    "lang": "en"
   },
   "source": [
    "### Calculate the SSE\n",
    "\n",
    "Sum of squares of deviations from the average within the cluster:\n",
    "\n",
    "$$\n",
    "   SSE = \\sum_c  \\sigma^2_c\n",
    "$$\n",
    "\n",
    " - $\\sigma^2_c$ - variance of the $c$ cluster"
   ]
  },
  {
   "cell_type": "code",
   "execution_count": null,
   "metadata": {
    "lang": "pl",
    "nbgrader": {
     "grade": false,
     "grade_id": "cell-cc114b17fffe00c3",
     "locked": false,
     "schema_version": 3,
     "solution": true
    }
   },
   "outputs": [],
   "source": [
    "SSE = None\n",
    "### BEGIN SOLUTION\n",
    "SSE   = np.sum(np.var(X[km==c_,:]) for c_ in range(n_clusters))\n",
    "### END SOLUTION\n"
   ]
  },
  {
   "cell_type": "code",
   "execution_count": null,
   "metadata": {
    "nbgrader": {
     "grade": true,
     "grade_id": "cell-4283cb84b65ad565",
     "locked": true,
     "points": 1,
     "schema_version": 3,
     "solution": false
    }
   },
   "outputs": [],
   "source": [
    "np.testing.assert_allclose(SSE, 20.1794,rtol=1e-3)"
   ]
  },
  {
   "cell_type": "markdown",
   "metadata": {
    "lang": "pl"
   },
   "source": [
    "### Zaimplementuj algorytm k-means\n",
    "\n",
    "Startując z począktowego przypisania średnich (centrów):\n",
    "\n",
    " 1. Dla każdej klasy obliczamy średnią.\n",
    " 2. Przypisujemy danym nowe klasy kierując się minimalną odległością od średniej\n",
    " 3. Powtarzamy 1 i 2 aż podział nie będzie się zmieniał.\n",
    " \n",
    "Algorytm można monitorować za pomocą wartości SSE.\n",
    "\n",
    "**Note:** wystarczy kilka iteracji. \n"
   ]
  },
  {
   "cell_type": "markdown",
   "metadata": {
    "lang": "en"
   },
   "source": [
    "### Implement the k-means algorithm\n",
    "\n",
    "Starting from the initial assignment of means (centers):\n",
    "\n",
    " 1. We calculate the average for each class.\n",
    " 2. We assign new classes to the data based on the minimum distance from the average\n",
    " 3. Repeat 1 and 2 until the division does not change.\n",
    " \n",
    "The algorithm can be monitored using SSE values.\n",
    "\n",
    "**Note:** several iterations are enough."
   ]
  },
  {
   "cell_type": "code",
   "execution_count": null,
   "metadata": {
    "nbgrader": {
     "grade": false,
     "grade_id": "cell-20c3459a13dc1dac",
     "locked": false,
     "schema_version": 3,
     "solution": true
    }
   },
   "outputs": [],
   "source": [
    "### BEGIN SOLUTION\n",
    "\n",
    "\n",
    "for i in range(10):\n",
    "    km = np.argmin(np.sum( (c[np.newaxis,:,:]-X[:,np.newaxis,:])**2,axis=-1),axis=-1)\n",
    "\n",
    "    c  = np.stack([np.mean(X[km==c_],axis=0) for c_ in range(n_clusters)])\n",
    "    \n",
    "    SSE = np.sum(np.var(X[km==c_,:]) for c_ in range(n_clusters))\n",
    "    \n",
    "    print( SSE )\n",
    "    \n",
    "### END SOLUTION\n"
   ]
  },
  {
   "cell_type": "code",
   "execution_count": null,
   "metadata": {
    "nbgrader": {
     "grade": true,
     "grade_id": "cell-e64c01bc5acc647e",
     "locked": true,
     "points": 1,
     "schema_version": 3,
     "solution": false
    }
   },
   "outputs": [],
   "source": [
    "np.testing.assert_allclose(np.sort(np.bincount(km)), [49, 50, 51])"
   ]
  },
  {
   "cell_type": "code",
   "execution_count": null,
   "metadata": {},
   "outputs": [],
   "source": [
    "plt.scatter(X[:,0],X[:,1],c=km)"
   ]
  },
  {
   "cell_type": "markdown",
   "metadata": {
    "lang": "pl"
   },
   "source": [
    "## implementacja w sklearn"
   ]
  },
  {
   "cell_type": "markdown",
   "metadata": {
    "lang": "en"
   },
   "source": [
    "## implementation in sklearn"
   ]
  },
  {
   "cell_type": "code",
   "execution_count": null,
   "metadata": {},
   "outputs": [],
   "source": [
    "from sklearn.cluster import KMeans\n",
    "km = KMeans(n_clusters=3,\n",
    "            init='random',\n",
    "            n_init=10,\n",
    "            max_iter=300,\n",
    "            tol=1e-04,\n",
    "            )\n",
    "y_km = km.fit_predict(X)\n"
   ]
  },
  {
   "cell_type": "code",
   "execution_count": null,
   "metadata": {},
   "outputs": [],
   "source": [
    "plt.scatter(X[:,0],X[:,1],c=y_km)"
   ]
  },
  {
   "cell_type": "code",
   "execution_count": null,
   "metadata": {},
   "outputs": [],
   "source": [
    "np.bincount(y_km)"
   ]
  },
  {
   "cell_type": "code",
   "execution_count": null,
   "metadata": {},
   "outputs": [],
   "source": []
  },
  {
   "cell_type": "code",
   "execution_count": null,
   "metadata": {},
   "outputs": [],
   "source": []
  }
 ],
 "metadata": {
  "celltoolbar": "Create Assignment",
  "kernelspec": {
   "display_name": "Python 3",
   "language": "python",
   "name": "python3"
  },
  "language_info": {
   "codemirror_mode": {
    "name": "ipython",
    "version": 3
   },
   "file_extension": ".py",
   "mimetype": "text/x-python",
   "name": "python",
   "nbconvert_exporter": "python",
   "pygments_lexer": "ipython3",
   "version": "3.7.3"
  },
  "nbTranslate": {
   "displayLangs": [
    "en",
    "pl"
   ],
   "hotkey": "alt-t",
   "langInMainMenu": true,
   "sourceLang": "pl",
   "targetLang": "en",
   "useGoogleTranslate": true
  }
 },
 "nbformat": 4,
 "nbformat_minor": 2
}
