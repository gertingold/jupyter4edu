{
 "cells": [
  {
   "cell_type": "markdown",
   "metadata": {
    "lang": "pl",
    "nbgrader": {
     "grade": false,
     "grade_id": "cell-c55e6385a470571b",
     "locked": true,
     "schema_version": 3,
     "solution": false
    }
   },
   "source": [
    "## Rozkład Gaussa "
   ]
  },
  {
   "cell_type": "markdown",
   "metadata": {
    "lang": "en"
   },
   "source": [
    "## Gaussian distribution"
   ]
  },
  {
   "cell_type": "code",
   "execution_count": null,
   "metadata": {
    "nbgrader": {
     "grade": false,
     "grade_id": "cell-3cd817de117b22a2",
     "locked": true,
     "schema_version": 3,
     "solution": false
    }
   },
   "outputs": [],
   "source": [
    "import numpy as np\n",
    "import matplotlib.pyplot as plt\n",
    "data = np.load('banana.npz')\n",
    "print(data.keys())\n",
    "print(data['data'].shape,data['labels'].shape)"
   ]
  },
  {
   "cell_type": "markdown",
   "metadata": {
    "lang": "pl",
    "nbgrader": {
     "grade": false,
     "grade_id": "cell-49346418ca6bdcbc",
     "locked": true,
     "schema_version": 3,
     "solution": false
    }
   },
   "source": [
    "## Zadanie\n",
    "\n",
    "1. Wybierz dane odpowiadające klasie z etykietą $1$ i zapisz do tablicy `X`\n",
    "2. Oblicz średnie: $m_1,m_2$ i odchylenia standardowe $\\sigma_1,\\sigma_2$ w klasie    $1$, dla każdego komponentu osobno.\n"
   ]
  },
  {
   "cell_type": "markdown",
   "metadata": {
    "lang": "en"
   },
   "source": [
    "## Problem\n",
    "\n",
    "1. Select the data corresponding to the class with the $1$ label and write to the table `X`\n",
    "2. Calculate the averages: $m_1,m_2$ and $\\sigma_1,\\sigma_2$ standard deviations in the $1$ class, for each component separately."
   ]
  },
  {
   "cell_type": "code",
   "execution_count": null,
   "metadata": {
    "nbgrader": {
     "grade": false,
     "grade_id": "cell-401aa56828a6954c",
     "locked": false,
     "schema_version": 3,
     "solution": true
    }
   },
   "outputs": [],
   "source": [
    "X = None\n",
    "### BEGIN SOLUTION\n",
    "X = data['data'][data['labels']==1]\n",
    "### END SOLUTION"
   ]
  },
  {
   "cell_type": "code",
   "execution_count": null,
   "metadata": {
    "nbgrader": {
     "grade": true,
     "grade_id": "cell-89b96843b90cb14c",
     "locked": true,
     "points": 1,
     "schema_version": 3,
     "solution": false
    }
   },
   "outputs": [],
   "source": [
    "np.testing.assert_allclose( X.shape, (815, 2) )\n",
    "np.testing.assert_allclose( X[123],[-0.11709165,1.4678306 ] )"
   ]
  },
  {
   "cell_type": "code",
   "execution_count": null,
   "metadata": {
    "nbgrader": {
     "grade": false,
     "grade_id": "cell-5b23b939c6284b55",
     "locked": false,
     "schema_version": 3,
     "solution": true
    }
   },
   "outputs": [],
   "source": [
    "m1,m2 = None,None\n",
    "s1,s2 = None,None\n",
    "\n",
    "### BEGIN SOLUTION\n",
    "m1,m2 = np.mean(X,axis=0)\n",
    "s1,s2 = np.std(X,axis=0)\n",
    "### END SOLUTION"
   ]
  },
  {
   "cell_type": "code",
   "execution_count": null,
   "metadata": {
    "nbgrader": {
     "grade": true,
     "grade_id": "cell-6d6663ef51ac3ccf",
     "locked": true,
     "points": 1,
     "schema_version": 3,
     "solution": false
    }
   },
   "outputs": [],
   "source": [
    "np.testing.assert_allclose([m1,m2,s1,s2],\n",
    "                           [0.076560178,0.048988096, 0.9176412, 1.08681302],rtol=1e-3)"
   ]
  },
  {
   "cell_type": "markdown",
   "metadata": {
    "lang": "pl",
    "nbgrader": {
     "grade": false,
     "grade_id": "cell-3a41bae2ddf9a5b0",
     "locked": true,
     "schema_version": 3,
     "solution": false
    }
   },
   "source": [
    "## Narysuj \n",
    "\n",
    "Jeśli przybliżamy nasz zbiór rozkładem Gaussa, będącym iloczynem:\n",
    "\n",
    "$$P(x,y)  = P(x) P(y)$$\n",
    "\n",
    "to możemy wylosować łatwo próbkę (sample) używając generatora gausowskich liczb  losowych o średniej zero i wariancji jeden. Zauważmy, że należy przeskalować takie liczby samodzielnie, mnożąć je przed odchylenie standardowe i dodając wartość średnią.\n",
    "\n",
    "Porównajmy 1000 tak wygenerowanych danych z prawdziwymi danymi z pierwszej klasy."
   ]
  },
  {
   "cell_type": "markdown",
   "metadata": {
    "lang": "en"
   },
   "source": [
    "## Draw\n",
    "\n",
    "If we approximate our set with a Gaussian distribution, which is a product of:\n",
    "\n",
    "$$P(x,y)  = P(x) P(y)$$\n",
    "\n",
    "then we can easily draw a sample using the Gaussian random number generator with an average of zero and variance one. Note that you should scale these numbers yourself, multiply them before the standard deviation and add the average value.\n",
    "\n",
    "Let's compare 1000 data generated in this way with real data from the first class."
   ]
  },
  {
   "cell_type": "code",
   "execution_count": null,
   "metadata": {
    "nbgrader": {
     "grade": false,
     "grade_id": "cell-09d953b024f09002",
     "locked": true,
     "schema_version": 3,
     "solution": false
    }
   },
   "outputs": [],
   "source": [
    "plt.plot(X[:,0],X[:,1],'.')\n",
    "plt.plot(m1+s1*np.random.randn(1000),m2+s2*np.random.randn(1000),'.')"
   ]
  },
  {
   "cell_type": "code",
   "execution_count": null,
   "metadata": {},
   "outputs": [],
   "source": []
  }
 ],
 "metadata": {
  "celltoolbar": "Create Assignment",
  "kernelspec": {
   "display_name": "Python 3",
   "language": "python",
   "name": "python3"
  },
  "language_info": {
   "codemirror_mode": {
    "name": "ipython",
    "version": 3
   },
   "file_extension": ".py",
   "mimetype": "text/x-python",
   "name": "python",
   "nbconvert_exporter": "python",
   "pygments_lexer": "ipython3",
   "version": "3.7.3"
  },
  "nbTranslate": {
   "displayLangs": [
    "pl",
    "en"
   ],
   "hotkey": "alt-t",
   "langInMainMenu": true,
   "sourceLang": "pl",
   "targetLang": "en",
   "useGoogleTranslate": true
  }
 },
 "nbformat": 4,
 "nbformat_minor": 2
}
