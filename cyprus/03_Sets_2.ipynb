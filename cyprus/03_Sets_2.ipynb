{
 "cells": [
  {
   "cell_type": "markdown",
   "metadata": {},
   "source": [
    "# <font color = #3893E4>**SETS PART 2**</font>"
   ]
  },
  {
   "cell_type": "markdown",
   "metadata": {},
   "source": [
    "## <font color = #3893E4>**Summary**</font>"
   ]
  },
  {
   "cell_type": "markdown",
   "metadata": {},
   "source": [
    "<ol>\n",
    "    <b><li>Set Operations</li></b>\n",
    "        <ul>\n",
    "            <li>Union</li>\n",
    "            <li>Intersection</li>\n",
    "            <li>Disjoint</li>\n",
    "            <li>Complement</li>\n",
    "            <li>Difference</li>\n",
    "        </ul>\n",
    "    <b><li>Set Identities</li></b>\n",
    "</ol>"
   ]
  },
  {
   "cell_type": "markdown",
   "metadata": {},
   "source": [
    "**Import specific libraries/functions to use for Sets:**<br>\n",
    "* [SymPy](https://www.sympy.org/en/index.html): is a Python library for symbolic mathematics.\n",
    "* [Matplotlib_venn](https://pypi.org/project/matplotlib-venn/): Functions for plotting area-proportional two- and three-way Venn diagrams in matplotlib"
   ]
  },
  {
   "cell_type": "code",
   "execution_count": 1,
   "metadata": {},
   "outputs": [],
   "source": [
    "# import libraries\n",
    "import matplotlib.pyplot as plt\n",
    "import sympy as sym\n",
    "from matplotlib_venn import venn2, venn2_circles, venn3, venn3_circles"
   ]
  },
  {
   "cell_type": "code",
   "execution_count": 2,
   "metadata": {},
   "outputs": [],
   "source": [
    "#creating symbols (mathematical constants that act as elements)\n",
    "a, b, c, d, e, f, i, o, u = sym.symbols(\"a, b, c, d, e, f, i, o, u\")"
   ]
  },
  {
   "cell_type": "markdown",
   "metadata": {},
   "source": [
    "<hr>"
   ]
  },
  {
   "cell_type": "markdown",
   "metadata": {},
   "source": [
    "## <font color = #3893E4>**Set Operations**</font>"
   ]
  },
  {
   "cell_type": "markdown",
   "metadata": {},
   "source": [
    "### <font color = #3893E4>**Union**</font>"
   ]
  },
  {
   "cell_type": "markdown",
   "metadata": {},
   "source": [
    "* $A \\cup B = \\{x | x \\in A \\land x \\in B\\}$\n",
    "\n",
    "* Contains elements in <font color = #C70039><b>either</b></font> $A$ <font color = #C70039><b>or</b></font> $B$ <font color = #C70039><b>or both</b></font>.\n",
    "\n",
    "    ### <font color = #3893E4>**Example**</font>\n",
    "    \n",
    "    <font color = #C70039><b>$\\bullet$</b></font> $A = \\{a, b\\}$<br>\n",
    "    \n",
    "    <font color = #C70039><b>$\\bullet$</b></font> $B = \\{b, c, d\\}$<br>\n",
    "    \n",
    "    <font color = #C70039><b>$\\bullet$</b></font> $A \\cup B = \\{a, b, c, d\\}$"
   ]
  },
  {
   "cell_type": "code",
   "execution_count": 3,
   "metadata": {},
   "outputs": [
    {
     "data": {
      "text/latex": [
       "$\\displaystyle \\left\\{a, b, c, d\\right\\}$"
      ],
      "text/plain": [
       "{a, b, c, d}"
      ]
     },
     "execution_count": 3,
     "metadata": {},
     "output_type": "execute_result"
    }
   ],
   "source": [
    "#declare A and B\n",
    "A = sym.FiniteSet(a, b)\n",
    "B = sym.FiniteSet(b, c, d)\n",
    "\n",
    "#1st way to find the union\n",
    "sym.Union(A, B)"
   ]
  },
  {
   "cell_type": "code",
   "execution_count": 4,
   "metadata": {},
   "outputs": [
    {
     "data": {
      "text/latex": [
       "$\\displaystyle \\left\\{a, b, c, d\\right\\}$"
      ],
      "text/plain": [
       "{a, b, c, d}"
      ]
     },
     "execution_count": 4,
     "metadata": {},
     "output_type": "execute_result"
    }
   ],
   "source": [
    "#2nd way to find the union\n",
    "A.union(B)"
   ]
  },
  {
   "cell_type": "code",
   "execution_count": 5,
   "metadata": {},
   "outputs": [
    {
     "data": {
      "text/plain": [
       "4"
      ]
     },
     "execution_count": 5,
     "metadata": {},
     "output_type": "execute_result"
    }
   ],
   "source": [
    "#len() function is for the length of a list\n",
    "len(set(A) | set(B))\n",
    "# | = OR operator"
   ]
  },
  {
   "cell_type": "code",
   "execution_count": 6,
   "metadata": {},
   "outputs": [
    {
     "data": {
      "image/png": "[encoded data removed]",
      "text/plain": [
       "<Figure size 432x288 with 1 Axes>"
      ]
     },
     "metadata": {},
     "output_type": "display_data"
    }
   ],
   "source": [
    "A = set([a, b])\n",
    "B = set([b, c, d])\n",
    "\n",
    "#declare venn diagram\n",
    "v = venn2([A, B], ('A', 'B'))\n",
    "\n",
    "plt_c = venn2_circles(subsets = [A, B], linestyle=\"-\", linewidth=1, color=\"black\")\n",
    "\n",
    "#change backgroud\n",
    "plt.gca().set_facecolor('white')\n",
    "plt.gca().set_axis_on()\n",
    "\n",
    "#show the plot\n",
    "plt.show()"
   ]
  },
  {
   "cell_type": "markdown",
   "metadata": {},
   "source": [
    "* <span style=\"background-color: #C70039\">Note</span> that above figure called a <font color = #C70039><b>Venn Diagram</b></font> and it can be use for any number of sets.\n",
    "\n",
    "* <span style=\"background-color: #C70039\">Note</span> also that <font color = #C70039><b>Venn Diagram</b></font> can be use to represent union and intersection (and complement) of sets.\n",
    "\n",
    "* <span style=\"background-color: #C70039\">BUT</span> be careful, the numbers writen within the specific areas represent the number of elements thay include.\n",
    "\n",
    "<img src=\"union.png\">\n",
    "<center>This is the Venn Diagram we will be working with</center>"
   ]
  },
  {
   "cell_type": "markdown",
   "metadata": {},
   "source": [
    "<hr>"
   ]
  },
  {
   "cell_type": "markdown",
   "metadata": {},
   "source": [
    "### <font color = #3893E4>**Intersection**</font>"
   ]
  },
  {
   "cell_type": "markdown",
   "metadata": {},
   "source": [
    "* $A \\cap B = \\{x | x \\in A \\land x \\in B\\}$\n",
    "\n",
    "* Contains elements in <font color = #C70039><b>both</b></font> $A$ <font color = #C70039><b>and</b></font> $B$.\n",
    "\n",
    "    ### <font color = #3893E4>**Example**</font>\n",
    "    \n",
    "    <font color = #C70039><b>$\\bullet$</b></font> $A = \\{a, b\\}$<br>\n",
    "    \n",
    "    <font color = #C70039><b>$\\bullet$</b></font> $B = \\{a, b, c, d, e\\}$<br>\n",
    "    \n",
    "    <font color = #C70039><b>$\\bullet$</b></font> $A \\cap B = \\{b\\}$"
   ]
  },
  {
   "cell_type": "code",
   "execution_count": 7,
   "metadata": {},
   "outputs": [
    {
     "data": {
      "text/latex": [
       "$\\displaystyle \\left\\{a, b\\right\\}$"
      ],
      "text/plain": [
       "{a, b}"
      ]
     },
     "execution_count": 7,
     "metadata": {},
     "output_type": "execute_result"
    }
   ],
   "source": [
    "#declare A and B\n",
    "A = sym.FiniteSet(a, b)\n",
    "B = sym.FiniteSet(a, b, c, d, e)\n",
    "\n",
    "#1st way to find the intersection\n",
    "sym.Intersection(A, B)"
   ]
  },
  {
   "cell_type": "code",
   "execution_count": 8,
   "metadata": {},
   "outputs": [
    {
     "data": {
      "text/latex": [
       "$\\displaystyle \\left\\{a, b\\right\\}$"
      ],
      "text/plain": [
       "{a, b}"
      ]
     },
     "execution_count": 8,
     "metadata": {},
     "output_type": "execute_result"
    }
   ],
   "source": [
    "#2nd way to find the intersection\n",
    "A.intersection(B)"
   ]
  },
  {
   "cell_type": "code",
   "execution_count": 9,
   "metadata": {},
   "outputs": [
    {
     "data": {
      "image/png": "[encoded data removed]",
      "text/plain": [
       "<Figure size 432x288 with 1 Axes>"
      ]
     },
     "metadata": {},
     "output_type": "display_data"
    }
   ],
   "source": [
    "A = set([a, b])\n",
    "B = set([a, b, c, d, e])\n",
    "\n",
    "#declare venn diagram\n",
    "v = venn2([A, B], ('A', 'B'))\n",
    "\n",
    "plt_c = venn2_circles(subsets = [A, B], linestyle=\"-\", linewidth=1, color=\"black\")\n",
    "\n",
    "#change backgroud\n",
    "plt.gca().set_facecolor('white')\n",
    "plt.gca().set_axis_on()\n",
    "\n",
    "#show the plot\n",
    "plt.show()"
   ]
  },
  {
   "cell_type": "markdown",
   "metadata": {},
   "source": [
    "<img src=\"intersection.png\">\n",
    "<center>This is the Venn Diagram we need</center>"
   ]
  },
  {
   "cell_type": "code",
   "execution_count": 10,
   "metadata": {},
   "outputs": [
    {
     "data": {
      "text/latex": [
       "$\\displaystyle \\left\\{1, 3, 5\\right\\}$"
      ],
      "text/plain": [
       "{1, 3, 5}"
      ]
     },
     "execution_count": 10,
     "metadata": {},
     "output_type": "execute_result"
    }
   ],
   "source": [
    "W=sym.FiniteSet(1, 2, 3, 4, 5)\n",
    "V=sym.FiniteSet(1, 3, 5, 7, 9)\n",
    "\n",
    "sym.Intersection(W, V)"
   ]
  },
  {
   "cell_type": "code",
   "execution_count": 11,
   "metadata": {},
   "outputs": [
    {
     "data": {
      "text/latex": [
       "$\\displaystyle \\left\\{1, 3, 5\\right\\}$"
      ],
      "text/plain": [
       "{1, 3, 5}"
      ]
     },
     "execution_count": 11,
     "metadata": {},
     "output_type": "execute_result"
    }
   ],
   "source": [
    "W.intersection(V)"
   ]
  },
  {
   "cell_type": "code",
   "execution_count": 12,
   "metadata": {},
   "outputs": [
    {
     "data": {
      "text/latex": [
       "$\\displaystyle \\left\\{1, 2, 3, 4, 5, 7, 9\\right\\}$"
      ],
      "text/plain": [
       "{1, 2, 3, 4, 5, 7, 9}"
      ]
     },
     "execution_count": 12,
     "metadata": {},
     "output_type": "execute_result"
    }
   ],
   "source": [
    "sym.Union(W, V)"
   ]
  },
  {
   "cell_type": "code",
   "execution_count": 13,
   "metadata": {},
   "outputs": [
    {
     "data": {
      "text/plain": [
       "False"
      ]
     },
     "execution_count": 13,
     "metadata": {},
     "output_type": "execute_result"
    }
   ],
   "source": [
    "W.is_subset(V)"
   ]
  },
  {
   "cell_type": "markdown",
   "metadata": {},
   "source": [
    ">### <font color = #3893E4>**Arbitrary Unions and Intersections**</font>\n",
    "\n",
    "Union and intersection of sets can be generalizesd as follows.\n",
    "\n",
    "* If $S$ is some index set, finite or infinite, we define<br><br><center>$\\cup_(i \\in S)$ $A_i = \\{x | x \\in$ $A_j$ $for$ $some$ $j \\in S\\}$<br><br>and<br><br>$\\cap_(i \\in S)$ $A_i = \\{x | x \\in$ $A_j$ $for$ $all$ $j \\in S\\}$</center><br>$\\cup_i = i^\\infty$ $A_i = A_1 \\cup A_2 \\cup A_3 \\cup A_4 \\cup ...$<br>$\\cap_i = i^\\infty$ $A_i = A_1 \\cap A_2 \\cap A_3 \\cap A_4 \\cap ...$<br><font color = #C70039><b>are special cases</b></font>."
   ]
  },
  {
   "cell_type": "markdown",
   "metadata": {},
   "source": [
    "<hr>"
   ]
  },
  {
   "cell_type": "markdown",
   "metadata": {},
   "source": [
    "### <font color = #3893E4>**Disjoint Sets**</font>"
   ]
  },
  {
   "cell_type": "markdown",
   "metadata": {},
   "source": [
    "* Two sets are called <font color = #C70039><b>disjoint</b></font> if their intersection is empty, that means they have <font color = #C70039><b>no</b></font> elements in common.\n",
    "* $A \\cap B = \\emptyset$\n",
    "\n",
    "    ### <font color = #3893E4>**Example**</font>\n",
    "    \n",
    "    <font color = #C70039><b>$\\bullet$</b></font> $A = \\{a, b, f\\}$<br>\n",
    "    \n",
    "    <font color = #C70039><b>$\\bullet$</b></font> $B = \\{c, d, e\\}$<br>\n",
    "    \n",
    "    <font color = #C70039><b>$\\bullet$</b></font> $A \\cap B = \\{\\emptyset\\}$"
   ]
  },
  {
   "cell_type": "code",
   "execution_count": 14,
   "metadata": {},
   "outputs": [
    {
     "data": {
      "text/latex": [
       "$\\displaystyle \\left\\{a, b, f\\right\\} \\cap \\left\\{c, d, e\\right\\}$"
      ],
      "text/plain": [
       "Intersection({a, b, f}, {c, d, e})"
      ]
     },
     "execution_count": 14,
     "metadata": {},
     "output_type": "execute_result"
    }
   ],
   "source": [
    "#declare A and B\n",
    "A = sym.FiniteSet(a, b, f)\n",
    "B = sym.FiniteSet(c, d, e)\n",
    "\n",
    "#1st way to find the intersection\n",
    "sym.Intersection(A, B)"
   ]
  },
  {
   "cell_type": "code",
   "execution_count": 15,
   "metadata": {},
   "outputs": [
    {
     "data": {
      "text/latex": [
       "$\\displaystyle \\left\\{a, b, f\\right\\} \\cap \\left\\{c, d, e\\right\\}$"
      ],
      "text/plain": [
       "Intersection({a, b, f}, {c, d, e})"
      ]
     },
     "execution_count": 15,
     "metadata": {},
     "output_type": "execute_result"
    }
   ],
   "source": [
    "#2nd way to find the intersection\n",
    "A.intersection(B)"
   ]
  },
  {
   "cell_type": "code",
   "execution_count": 16,
   "metadata": {},
   "outputs": [
    {
     "data": {
      "text/latex": [
       "$\\displaystyle \\emptyset$"
      ],
      "text/plain": [
       "EmptySet()"
      ]
     },
     "execution_count": 16,
     "metadata": {},
     "output_type": "execute_result"
    }
   ],
   "source": [
    "#Using the singleton we can define the empty set within Sympy\n",
    "sym.S.EmptySet"
   ]
  },
  {
   "cell_type": "code",
   "execution_count": 18,
   "metadata": {},
   "outputs": [
    {
     "data": {
      "image/png": "[encoded data removed]",
      "text/plain": [
       "<Figure size 432x288 with 1 Axes>"
      ]
     },
     "metadata": {},
     "output_type": "display_data"
    }
   ],
   "source": [
    "A = set([a, b, f])\n",
    "B = set([c, d, e])\n",
    "\n",
    "#declare venn diagram\n",
    "v = venn2([A, B], ('A', 'B'))\n",
    "\n",
    "plt_c = venn2_circles(subsets = [A, B], linestyle=\"-\", linewidth=1, color=\"black\")\n",
    "\n",
    "#change first circle color\n",
    "plt_c[0].set_facecolor('#C70039')\n",
    "#change second circle color\n",
    "plt_c[1].set_facecolor('#3893E4')\n",
    "\n",
    "#change backgroud\n",
    "plt.gca().set_facecolor('white')\n",
    "plt.gca().set_axis_on()\n",
    "\n",
    "#show the plot\n",
    "plt.show()"
   ]
  },
  {
   "cell_type": "markdown",
   "metadata": {},
   "source": [
    "<img src=\"disjoint.png\">\n",
    "<center>This is the Venn Diagram we need</center>"
   ]
  },
  {
   "cell_type": "markdown",
   "metadata": {},
   "source": [
    "<hr>"
   ]
  },
  {
   "cell_type": "markdown",
   "metadata": {},
   "source": [
    "### <font color = #3893E4>**Complement**</font>"
   ]
  },
  {
   "cell_type": "markdown",
   "metadata": {},
   "source": [
    "* $\\overline{A} = U - A$ and it is the set\n",
    "<center>$\\overline{A} = \\{x$ $|$ $x \\in U,$ $x \\notin A\\}$</center><br>\n",
    "\n",
    "* The complement of a set $A$ contains exactly those elements in the universal set that are <font color = #C70039><b>not</b></font> in $A$.<br><br>\n",
    "\n",
    "* It is also written as $A'$ or $A^c$.<br><br>\n",
    "\n",
    "* <span style=\"background-color: #C70039\">Note</span> that:<br><br>\n",
    "<font color = #C70039><b>1.</b></font> $x \\in \\overline{A} \\iff x \\notin A$<br><br>\n",
    "<font color = #C70039><b>2.</b></font> $\\overline{A} \\cup A = U$<br><br>\n",
    "<font color = #C70039><b>3.</b></font> $\\overline{A} \\cap A = \\emptyset$<br><br>\n",
    "<font color = #C70039><b>4.</b></font> $\\overline{\\overline{A}} = A$<br><br>\n",
    "\n",
    "    ### <font color = #3893E4>**Example**</font>\n",
    "    \n",
    "    <font color = #C70039><b>$\\bullet$</b></font> $U = \\{1, 2, 3, 4, 5, 7, 8, 9\\}$<br>\n",
    "    \n",
    "    <font color = #C70039><b>$\\bullet$</b></font> $A = \\{3, 5, 7\\}$"
   ]
  },
  {
   "cell_type": "code",
   "execution_count": 19,
   "metadata": {},
   "outputs": [
    {
     "data": {
      "text/plain": [
       "({1, 2, 3, 4, 5, 6, 7, 8, 9}, {3, 5, 7})"
      ]
     },
     "execution_count": 19,
     "metadata": {},
     "output_type": "execute_result"
    }
   ],
   "source": [
    "# Creating two sets\n",
    "U = sym.FiniteSet(1, 2, 3, 4, 5, 6, 7, 8, 9)\n",
    "A = sym.FiniteSet(3, 5, 7)\n",
    "\n",
    "# Print sets to the screen\n",
    "U, A"
   ]
  },
  {
   "cell_type": "code",
   "execution_count": 20,
   "metadata": {},
   "outputs": [],
   "source": [
    "# Setting U as a universal set\n",
    "U.is_UniversalSet"
   ]
  },
  {
   "cell_type": "code",
   "execution_count": 21,
   "metadata": {},
   "outputs": [
    {
     "data": {
      "text/latex": [
       "$\\displaystyle \\left\\{1, 2, 4, 6, 8, 9\\right\\}$"
      ],
      "text/plain": [
       "{1, 2, 4, 6, 8, 9}"
      ]
     },
     "execution_count": 21,
     "metadata": {},
     "output_type": "execute_result"
    }
   ],
   "source": [
    "# Calculating the complement of A (with respect to U)\n",
    "A.complement(U)"
   ]
  },
  {
   "cell_type": "code",
   "execution_count": 22,
   "metadata": {},
   "outputs": [
    {
     "data": {
      "text/plain": [
       "(Naturals, {3, 5, 7})"
      ]
     },
     "execution_count": 22,
     "metadata": {},
     "output_type": "execute_result"
    }
   ],
   "source": [
    "# Creating two  sets\n",
    "U = sym.S.Naturals\n",
    "A = sym.FiniteSet(3, 5, 7)\n",
    "\n",
    "# Print sets to the screen\n",
    "U, A"
   ]
  },
  {
   "cell_type": "code",
   "execution_count": 23,
   "metadata": {},
   "outputs": [
    {
     "data": {
      "text/latex": [
       "$\\displaystyle \\mathbb{N} \\setminus \\left\\{3, 5, 7\\right\\}$"
      ],
      "text/plain": [
       "Naturals \\ {3, 5, 7}"
      ]
     },
     "execution_count": 23,
     "metadata": {},
     "output_type": "execute_result"
    }
   ],
   "source": [
    "A.complement(U)"
   ]
  },
  {
   "cell_type": "markdown",
   "metadata": {},
   "source": [
    "<hr>"
   ]
  },
  {
   "cell_type": "markdown",
   "metadata": {},
   "source": [
    "### <font color = #3893E4>**Difference**</font>"
   ]
  },
  {
   "cell_type": "markdown",
   "metadata": {},
   "source": [
    "* $A - B = \\{x \\in U$ $|$ $x \\in A$ $\\land$ $x \\notin B\\}$<br><br>\n",
    "\n",
    "* The <font color = #C70039><b>difference</b></font> between sets $A$ and $B$ contains exactly those elements of $A$ that are not in $B$.<br><br>\n",
    "\n",
    "* <span style=\"background-color: #C70039\">Note</span> that we acctually <font color = #C70039><b>substract</b></font> the elements of the second set from those in the first.<br><br>\n",
    "\n",
    "    ### <font color = #3893E4>**Example**</font>\n",
    "    \n",
    "    <font color = #C70039><b>$\\bullet$</b></font> $A = \\{a, b\\}$<br>\n",
    "    \n",
    "    <font color = #C70039><b>$\\bullet$</b></font> $B = \\{b, c, d\\}$<br>\n",
    "    \n",
    "    <font color = #C70039><b>$\\bullet$</b></font> $A - B = ?$"
   ]
  },
  {
   "cell_type": "code",
   "execution_count": 24,
   "metadata": {},
   "outputs": [
    {
     "data": {
      "text/plain": [
       "({a, b}, {b, c, d})"
      ]
     },
     "execution_count": 24,
     "metadata": {},
     "output_type": "execute_result"
    }
   ],
   "source": [
    "#declare A and B\n",
    "A = set([a, b])\n",
    "B = set([b, c, d])\n",
    "\n",
    "#print sets to the screen\n",
    "A, B"
   ]
  },
  {
   "cell_type": "code",
   "execution_count": 25,
   "metadata": {},
   "outputs": [
    {
     "data": {
      "text/plain": [
       "{a}"
      ]
     },
     "execution_count": 25,
     "metadata": {},
     "output_type": "execute_result"
    }
   ],
   "source": [
    "#substract A from B\n",
    "A - B"
   ]
  },
  {
   "cell_type": "code",
   "execution_count": 26,
   "metadata": {},
   "outputs": [
    {
     "data": {
      "image/png": "[encoded data removed]",
      "text/plain": [
       "<Figure size 432x288 with 1 Axes>"
      ]
     },
     "metadata": {},
     "output_type": "display_data"
    }
   ],
   "source": [
    "#declare venn diagram\n",
    "v = venn2([A, B], ('A', 'B'))\n",
    "\n",
    "plt_c = venn2_circles(subsets = [A, B], linestyle=\"-\", linewidth=1, color=\"black\")\n",
    "\n",
    "#change backgroud\n",
    "plt.gca().set_facecolor('white')\n",
    "plt.gca().set_axis_on()\n",
    "\n",
    "#show the plot\n",
    "plt.show()"
   ]
  },
  {
   "cell_type": "markdown",
   "metadata": {},
   "source": [
    "<img src=\"difference.png\">\n",
    "<center>This is the Venn Diagram we need</center>"
   ]
  },
  {
   "cell_type": "markdown",
   "metadata": {},
   "source": [
    "<b>Let's do some exercises from the [website](http://webspace.ship.edu/deensley/DiscreteMath/flash/index.html)</b><br><br>\n",
    "[Exercises on Two Set Venn Diagram](http://webspace.ship.edu/deensley/DiscreteMath/flash/ch3/sec3_1/venntwoset.html)<br>\n",
    "[Exercises on Three Set Venn Diagram](http://webspace.ship.edu/deensley/DiscreteMath/flash/ch3/sec3_1/vennthreeset.html)"
   ]
  },
  {
   "cell_type": "markdown",
   "metadata": {},
   "source": [
    "<hr>"
   ]
  },
  {
   "cell_type": "markdown",
   "metadata": {},
   "source": [
    "## <font color = #3893E4>**Set Identities**</font>"
   ]
  },
  {
   "cell_type": "markdown",
   "metadata": {},
   "source": [
    "### <font color = #C70039>**$\\bullet$ Commutative laws**</font>\n",
    "<center> <font color = #C70039><b>1.</b></font> $A \\cup B = B \\cup A$</center><br>\n",
    "<center> <font color = #C70039><b>2.</b></font> $A \\cap B = B \\cap A$</center>\n",
    "\n",
    "### <font color = #C70039>**$\\bullet$ Associative laws**</font>\n",
    "<center> <font color = #C70039><b>1.</b></font> $A \\cup (B \\cup C) = (A \\cup B) \\cup C$</center><br>\n",
    "<center> <font color = #C70039><b>2.</b></font> $A \\cap (B \\cap C) = (A \\cap B) \\cap C$</center>\n",
    "\n",
    "### <font color = #C70039>**$\\bullet$ Distributive laws**</font>\n",
    "<center> <font color = #C70039><b>1.</b></font> $A \\cap (B \\cup C) = (A \\cap B) \\cup (A \\cap C)$</center><br>\n",
    "<center> <font color = #C70039><b>2.</b></font> $A \\cup (B \\cap C) = (A \\cup B) \\cap (A \\cup C)$</center>\n",
    "\n",
    "### <font color = #C70039>**$\\bullet$ De Morgan's laws**</font>\n",
    "<center> <font color = #C70039><b>1.</b></font> $\\overline{A \\cup B} = \\overline{A} \\cap \\overline{B}$</center><br>\n",
    "<center> <font color = #C70039><b>2.</b></font> $\\overline{A \\cap B} = \\overline{A} \\cup \\overline{B}$</center>\n",
    "\n",
    "### <font color = #C70039>**$\\bullet$ Absorption laws**</font>\n",
    "<center> <font color = #C70039><b>1.</b></font> $A \\cup (A \\cap B) = A$</center><br>\n",
    "<center> <font color = #C70039><b>2.</b></font> $A \\cap (A \\cup B) = A$</center>\n",
    "\n",
    "### <font color = #C70039>**$\\bullet$ Complement laws**</font>\n",
    "<center> <font color = #C70039><b>1.</b></font> $A \\cup \\overline{A} = U$</center><br>\n",
    "<center> <font color = #C70039><b>2.</b></font> $A \\cap \\overline{A} = \\emptyset$</center>"
   ]
  },
  {
   "cell_type": "markdown",
   "metadata": {},
   "source": [
    "<hr>"
   ]
  },
  {
   "cell_type": "markdown",
   "metadata": {},
   "source": [
    "<b>Let's do some exercises from the [website](http://webspace.ship.edu/deensley/DiscreteMath/flash/index.html)</b><br><br>\n",
    "[Exercises on Counterexamples](http://webspace.ship.edu/deensley/DiscreteMath/flash/ch3/sec3_1/counterexamples/controlb.html)"
   ]
  },
  {
   "cell_type": "markdown",
   "metadata": {},
   "source": [
    "<hr>"
   ]
  }
 ],
 "metadata": {
  "kernelspec": {
   "display_name": "Python 3",
   "language": "python",
   "name": "python3"
  },
  "language_info": {
   "codemirror_mode": {
    "name": "ipython",
    "version": 3
   },
   "file_extension": ".py",
   "mimetype": "text/x-python",
   "name": "python",
   "nbconvert_exporter": "python",
   "pygments_lexer": "ipython3",
   "version": "3.7.3"
  },
  "nbTranslate": {
   "displayLangs": [
    "en",
    "pl"
   ],
   "hotkey": "alt-t",
   "langInMainMenu": true,
   "sourceLang": "pl",
   "targetLang": "en",
   "useGoogleTranslate": true
  }
 },
 "nbformat": 4,
 "nbformat_minor": 2
}
