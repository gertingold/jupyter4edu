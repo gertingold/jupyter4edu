{
 "cells": [
  {
   "cell_type": "markdown",
   "metadata": {},
   "source": [
    "# Introduction to Electromagnetism"
   ]
  },
  {
   "cell_type": "code",
   "execution_count": null,
   "metadata": {},
   "outputs": [],
   "source": [
    "# Import libraries first\n",
    "%matplotlib inline\n",
    "import numpy as np\n",
    "import scipy.interpolate as interpol\n",
    "import matplotlib.pyplot as plt\n",
    "import matplotlib.colors as colors\n",
    "import matplotlib.cm as cmx\n",
    "\n",
    "import sys, logging, os, re\n",
    "import time\n",
    "\n",
    "# import seaborn as sns\n",
    "import scipy\n",
    "import scipy.io as sio\n",
    "from math import pi"
   ]
  },
  {
   "cell_type": "markdown",
   "metadata": {},
   "source": [
    "***\n",
    "## Contents\n",
    "- [Introduction](#Introduction)\n",
    "- [Coulomb's law](#Coulomb's law)\n",
    "    - [Exercise 1](#Exercise 1)\n",
    "- [The Electic field](#Electric field)\n",
    "- [Electric field \"Picture\"](#Electric field \"Picture\")\n",
    "    - [Exercise 2](#Exercise 2)"
   ]
  },
  {
   "cell_type": "markdown",
   "metadata": {},
   "source": [
    "***\n",
    "### Coulomb's law\n",
    "\n",
    "The force exerted by one point charge ($q_1$) on another ($q_2$) is alogn the line joining ($\\hat r$)the charges. It is repulsive if the charges have the same sign and attractive if the charges have opposite signs. The force varies inversely as the square of the distance seperating the cherges and is proportional to the produict of the charges:\n",
    "\n",
    "$$\\vec F = k_e \\cdot \\frac{q_1 \\cdot q_2}{r^2}\\cdot \\hat r,$$\n",
    "\n",
    "where: \n",
    "- $k_e \\approx 8.988\\cdot 10^9 $ Nm$^2$/C$^2$, is Coulomb's constant, \n",
    "- $q_1$ and $q_2$ are the magnitudes of the point charges\n",
    "- $r$ is the distance between the charges.\n",
    "\n",
    "SI Units:\n",
    "- $[q]=[Coulomb]=[C]$\n",
    "\n",
    "<img src=\"https://upload.wikimedia.org/wikipedia/commons/thumb/0/07/CoulombsLaw.svg/500px-CoulombsLaw.svg.png\">\n",
    "\n",
    "#### Fundamental unit of charge -Electron\n",
    "\n",
    "Any charge can be written as: $$q = N \\cdot e$$\n",
    "\n",
    "where $N$ is an integer and $e=1.6 \\cdot 10^{-19} C$ is the magnitude of the fundamental charge unit (electron)"
   ]
  },
  {
   "cell_type": "markdown",
   "metadata": {},
   "source": [
    "#### Exercise 1\n",
    "\n",
    "Two point charges of $0.05 \\mu C$ are separated by 10cm. Find the force exerted by one charge on the other and the number of fundamental units of charge in each."
   ]
  },
  {
   "cell_type": "code",
   "execution_count": null,
   "metadata": {},
   "outputs": [],
   "source": [
    "ke = 8.988*10**9\n",
    "e = 1.6*10**(-19)\n",
    "\n",
    "### BEGIN SOLUTION\n",
    "q1 = 0.05*10**(-6)\n",
    "q2 = q1\n",
    "r = 0.1\n",
    "F = ke*q1*q2/r**2\n",
    "### END SOLUTION"
   ]
  },
  {
   "cell_type": "code",
   "execution_count": null,
   "metadata": {},
   "outputs": [],
   "source": [
    "F"
   ]
  },
  {
   "cell_type": "code",
   "execution_count": null,
   "metadata": {},
   "outputs": [],
   "source": [
    "### BEGIN SOLUTION\n",
    "N = q1/e\n",
    "### END SOLUTION"
   ]
  },
  {
   "cell_type": "code",
   "execution_count": null,
   "metadata": {},
   "outputs": [],
   "source": [
    "print('{:.2e}'.format(N))"
   ]
  },
  {
   "cell_type": "markdown",
   "metadata": {},
   "source": [
    "***\n",
    "### Electric field - $\\vec E$ \n",
    "\n",
    "If we place a small \"test\" charge $q_0$ at some point near a system of charges $q_1-q_2-q_3$ there will be a force exerted on this charge due to the other charges.\n",
    "\n",
    "Define $\\vec E$ as the resultant force on the test charge, divided by the charge:\n",
    "\n",
    "$$\\vec E = \\frac{\\vec F}{q_0}$$\n",
    "\n",
    "For a point charge we get\n",
    "\n",
    "$$\\vec E= k_e \\cdot \\frac{q_1}{r^2} \\cdot \\hat r$$"
   ]
  },
  {
   "cell_type": "markdown",
   "metadata": {},
   "source": [
    "***\n",
    "### Electric field \"Picture\"\n",
    "\n",
    "#### Rules:\n",
    "-The number of lines leaving a (+) charge or entering a (-) charge is proportional to the charge\n",
    "- The lines are drawn symmetrically leaving/entering a point charge\n",
    "- The lines begin on (+) charges and end on (-) charges\n",
    "- The density of lines is proportional to the magnitude of the field\n",
    "- No two field lines can cross"
   ]
  },
  {
   "cell_type": "code",
   "execution_count": null,
   "metadata": {},
   "outputs": [],
   "source": [
    "plt.style.use('bmh')"
   ]
  },
  {
   "cell_type": "code",
   "execution_count": null,
   "metadata": {},
   "outputs": [],
   "source": [
    "plt.figure(figsize=(5, 5))\n",
    "\n",
    "# Define one positive charge\n",
    "# charges (x [m], y [m], q [C])\n",
    "C = [(0,0,1)]\n",
    "\n",
    "[xmin, xmax, ymin, ymax] = [-5, 5, -5, 5]\n",
    "k = 8.99*10**9  # [Nm^2/C^2], in Coulomb's law\n",
    "\n",
    "# Plot the point charges\n",
    "for i in range(0, len(C)):\n",
    "    if C[i][2] > 0:\n",
    "        color = 'bo'\n",
    "    elif C[i][2] < 0:\n",
    "        color = 'ro'\n",
    "    else:\n",
    "        color = 'wo'\n",
    "    plt.plot(C[i][0], C[i][1], color)\n",
    "plt.axis([xmin, xmax, ymin, ymax])\n",
    "\n",
    "# Calculate the field lines\n",
    "n = 1000j  # Mesh grid resolution\n",
    "Y, X = np.mgrid[xmin:xmax:n, ymin:ymax:n]  # Meshgrid\n",
    "Ex, Ey = np.array(X*0), np.array(Y*0)\n",
    "for i in range(0, len(C)):\n",
    "    R = np.sqrt((X-C[i][0])**2 + (Y-C[i][1])**2)\n",
    "    Ex = Ex + k*C[i][2]/R**2*(X-C[i][0])/R\n",
    "    Ey = Ey + k*C[i][2]/R**2*(Y-C[i][1])/R\n",
    "    \n",
    "# Plot the result\n",
    "plt.streamplot(X, Y, Ex, Ey, color='k', density=1., \n",
    "               arrowstyle='simple')\n",
    "plt.xlabel('x, [m]')\n",
    "plt.ylabel('y, [m]')"
   ]
  },
  {
   "cell_type": "code",
   "execution_count": null,
   "metadata": {},
   "outputs": [],
   "source": [
    "plt.figure(figsize=(5, 5))\n",
    "\n",
    "# Define one negative charge\n",
    "# charges (x [m], y [m], q [C])\n",
    "C = [(0,0,-1)]\n",
    "\n",
    "[xmin, xmax, ymin, ymax] = [-5, 5, -5, 5]\n",
    "k = 8.99*10**9  # [Nm^2/C^2], in Coulomb's law\n",
    "\n",
    "# Plot the point charges\n",
    "for i in range(0, len(C)):\n",
    "    if C[i][2] > 0:\n",
    "        color = 'bo'\n",
    "    elif C[i][2] < 0:\n",
    "        color = 'ro'\n",
    "    else:\n",
    "        color = 'wo'\n",
    "    plt.plot(C[i][0], C[i][1], color)\n",
    "plt.axis([xmin, xmax, ymin, ymax])\n",
    "\n",
    "# Calculate the field lines\n",
    "n = 1000j  # Mesh grid resolution\n",
    "Y, X = np.mgrid[xmin:xmax:n, ymin:ymax:n]  # Meshgrid\n",
    "Ex, Ey = np.array(X*0), np.array(Y*0)\n",
    "for i in range(0, len(C)):\n",
    "    R = np.sqrt((X-C[i][0])**2 + (Y-C[i][1])**2)\n",
    "    Ex = Ex + k*C[i][2]/R**2*(X-C[i][0])/R\n",
    "    Ey = Ey + k*C[i][2]/R**2*(Y-C[i][1])/R\n",
    "    \n",
    "# Plot the result\n",
    "plt.streamplot(X, Y, Ex, Ey, color='k', density=1., \n",
    "               arrowstyle='simple')\n",
    "plt.xlabel('x, [m]')\n",
    "plt.ylabel('y, [m]')"
   ]
  },
  {
   "cell_type": "code",
   "execution_count": null,
   "metadata": {},
   "outputs": [],
   "source": [
    "plt.figure(figsize=(10, 10))\n",
    "\n",
    "# Define one positive and one negative\n",
    "# charges (x [m], y [m], q [C])\n",
    "C = [(3,0,-1), (-3,0,1)]\n",
    "\n",
    "[xmin, xmax, ymin, ymax] = [-5, 5, -5, 5]\n",
    "k = 8.99*10**9  # [Nm^2/C^2], in Coulomb's law\n",
    "\n",
    "# Plot the point charges\n",
    "for i in range(0, len(C)):\n",
    "    if C[i][2] > 0:\n",
    "        color = 'bo'\n",
    "    elif C[i][2] < 0:\n",
    "        color = 'ro'\n",
    "    else:\n",
    "        color = 'wo'\n",
    "    plt.plot(C[i][0], C[i][1], color)\n",
    "plt.axis([xmin, xmax, ymin, ymax])\n",
    "\n",
    "# Calculate the field lines\n",
    "n = 200j  # Mesh grid resolution\n",
    "Y, X = np.mgrid[xmin:xmax:n, ymin:ymax:n]  # Meshgrid\n",
    "Ex, Ey = np.array(X*0), np.array(Y*0)\n",
    "for i in range(0, len(C)):\n",
    "    R = np.sqrt((X-C[i][0])**2 + (Y-C[i][1])**2)\n",
    "    Ex = Ex + k*C[i][2]/R**2*(X-C[i][0])/R\n",
    "    Ey = Ey + k*C[i][2]/R**2*(Y-C[i][1])/R\n",
    "    \n",
    "plt.axhline(y=0, color='g')\n",
    "plt.axvline(x=0, color='g')\n",
    "\n",
    "# Plot the result\n",
    "plt.streamplot(X, Y, Ex, Ey, color='k', density=2., \n",
    "               arrowstyle='simple')\n",
    "\n",
    "plt.xlabel('x, [m]')\n",
    "plt.ylabel('y, [m]')"
   ]
  },
  {
   "cell_type": "markdown",
   "metadata": {},
   "source": [
    "#### Exercise 2\n",
    "\n",
    "Use the ploting code provided above to map the electric field created by a set of charges defined by you (min number of charges is four-4)."
   ]
  },
  {
   "cell_type": "code",
   "execution_count": null,
   "metadata": {},
   "outputs": [],
   "source": [
    "plt.figure(figsize=(10, 10))\n",
    "\n",
    "# Define two positive and three negative\n",
    "# charges (x [m], y [m], q [C])\n",
    "# C = [(-3,0,1), (3,0,-1), (0,3,-1), (0,-3,-1), (0,-1,-5), (1,-1,-10)] \n",
    "C = [(-3,-3,-1), (3,3,-1), (-3,3,1), (3,-3,10)]\n",
    "\n",
    "[xmin, xmax, ymin, ymax] = [-5, 5, -5, 5]\n",
    "k = 8.99*10**9  # [Nm^2/C^2], in Coulomb's law\n",
    "\n",
    "# Plot the point charges\n",
    "for i in range(0, len(C)):\n",
    "    if C[i][2] > 0:\n",
    "        color = 'bo'\n",
    "    elif C[i][2] < 0:\n",
    "        color = 'ro'\n",
    "    else:\n",
    "        color = 'wo'\n",
    "    plt.plot(C[i][0], C[i][1], color)\n",
    "plt.axis([xmin, xmax, ymin, ymax])\n",
    "\n",
    "# Calculate the field lines\n",
    "n = 200j  # Mesh grid resolution\n",
    "Y, X = np.mgrid[xmin:xmax:n, ymin:ymax:n]  # Meshgrid\n",
    "Ex, Ey = np.array(X*0), np.array(Y*0)\n",
    "for i in range(0, len(C)):\n",
    "    R = np.sqrt((X-C[i][0])**2 + (Y-C[i][1])**2)\n",
    "    Ex = Ex + k*C[i][2]/R**2*(X-C[i][0])/R\n",
    "    Ey = Ey + k*C[i][2]/R**2*(Y-C[i][1])/R\n",
    "    \n",
    "plt.axhline(y=0, color='g')\n",
    "plt.axvline(x=0, color='g')\n",
    "\n",
    "# Plot the result\n",
    "plt.streamplot(X, Y, Ex, Ey, color='k', density=2., \n",
    "               arrowstyle='simple')\n",
    "\n",
    "plt.xlabel('x, [m]')\n",
    "plt.ylabel('y, [m]')\n",
    "plt.show()"
   ]
  },
  {
   "cell_type": "code",
   "execution_count": null,
   "metadata": {},
   "outputs": [],
   "source": []
  }
 ],
 "metadata": {
  "kernelspec": {
   "display_name": "Python 3",
   "language": "python",
   "name": "python3"
  },
  "language_info": {
   "codemirror_mode": {
    "name": "ipython",
    "version": 3
   },
   "file_extension": ".py",
   "mimetype": "text/x-python",
   "name": "python",
   "nbconvert_exporter": "python",
   "pygments_lexer": "ipython3",
   "version": "3.7.3"
  },
  "nbTranslate": {
   "displayLangs": [
    "en",
    "pl"
   ],
   "hotkey": "alt-t",
   "langInMainMenu": true,
   "sourceLang": "pl",
   "targetLang": "en",
   "useGoogleTranslate": true
  }
 },
 "nbformat": 4,
 "nbformat_minor": 2
}
