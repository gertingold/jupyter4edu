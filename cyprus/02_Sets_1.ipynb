{
 "cells": [
  {
   "cell_type": "markdown",
   "metadata": {},
   "source": [
    "# <font color = #3893E4>**SETS PART 1**</font>"
   ]
  },
  {
   "cell_type": "markdown",
   "metadata": {},
   "source": [
    "## <font color = #3893E4>**INTRODUCTION**</font>"
   ]
  },
  {
   "cell_type": "markdown",
   "metadata": {},
   "source": [
    "Sets are one of the basic building blocks for the types of objects considered in discrete mathematics.\n",
    "* Important for counting.\n",
    "* Programming languages have set operations.\n",
    "\n",
    "Set theory is an important branch of mathematics.\n",
    "* Many different systems of axioms have been used to develop set theory.\n",
    "* Here we are not concerned with a formal set of axioms for set theory. Instead, we will use what is called naïve set theory."
   ]
  },
  {
   "cell_type": "markdown",
   "metadata": {},
   "source": [
    "## <font color = #3893E4>**Summary**</font>"
   ]
  },
  {
   "cell_type": "markdown",
   "metadata": {},
   "source": [
    "<ol>\n",
    "    <b><li>Definitions</li></b>\n",
    "        <ul>\n",
    "            <li>Examples</li>\n",
    "            <li>Cardinality of Sets</li>\n",
    "            <li>Cartesian Products</li>\n",
    "        </ul>\n",
    "    <b><li>Subsets</li></b>\n",
    "        <ul>\n",
    "            <li>Examples</li>\n",
    "            <li>Real Life Examples</li>\n",
    "            <li>Subsets Facts</li>\n",
    "        </ul>\n",
    "    <b><li>Power Set</li></b>\n",
    "    <b><li>Set Equality</li></b>\n",
    "</ol>"
   ]
  },
  {
   "cell_type": "markdown",
   "metadata": {},
   "source": [
    "<hr>"
   ]
  },
  {
   "cell_type": "markdown",
   "metadata": {},
   "source": [
    "**Import Usable Library**"
   ]
  },
  {
   "cell_type": "code",
   "execution_count": null,
   "metadata": {},
   "outputs": [],
   "source": [
    "#Import library\n",
    "import sympy as sym"
   ]
  },
  {
   "cell_type": "markdown",
   "metadata": {},
   "source": [
    "<hr>"
   ]
  },
  {
   "cell_type": "markdown",
   "metadata": {},
   "source": [
    "## <font color = #3893E4>**Definitions**</font>"
   ]
  },
  {
   "cell_type": "markdown",
   "metadata": {},
   "source": [
    "* A <font color = #C70039><b>set $A$</b></font> is a collection of objects, called members or elements and we express this as $A = \\{a_1, a_2, ... , a_n\\}$.<br><br>\n",
    "\n",
    "* If an element $a$ <font color = #C70039><b>belongs</b></font> to the set $A$ we write <font color = #C70039><b>$a \\in A$</b></font>.<br><br>\n",
    "\n",
    "* If an element $a$ does <font color = #C70039><b>NOT belongs</b></font> to the set $A$ we write <font color = #C70039><b>$a \\notin A$</b></font>.<br><br>\n",
    "\n",
    "* A set that does <font color = #C70039><b>NOT contain</b></font> elements is called an <font color = #C70039><b> empty set</b></font>, and it is denoted by <font color = #C70039><b>$\\{\\}$</b></font> or <font color = #C70039><b>$\\emptyset$</b></font>.<br><br>\n",
    "\n",
    "* Order of elements does not matter.<br><br>\n",
    "\n",
    "* Listing the elements more than once <font color = #C70039><b>NOT change</b></font> the set, i.e. repeated elements do not count.<br><br>\n",
    "\n",
    "    ### <font color = #3893E4>**Examples**</font>\n",
    "    \n",
    "    <font color = #C70039><b>1.</b></font> Set of all vowels in the English alphabet: $V = \\{a, e, i, o, u\\}$.\n",
    "    \n",
    "    <font color = #C70039><b>2.</b></font> Set of all positive ODD integers less than 10: $P = \\{1, 3, 5, 7, 9\\}$ or $\\{x$ $\\in$ $\\mathbb{Z}$ $x$ $odd, 0 < x < 10\\}$.\n",
    "    \n",
    "    <font color = #C70039><b>3.</b></font> Set of all integers less than 0: $N = \\{... , -3, -2, -1\\}$ or $\\{x$ $\\in$ $\\mathbb{Z}, x < 0\\}$.\n",
    "    \n",
    "> ### <font color = #3893E4>**Comments**</font>\n",
    "<font color = #C70039><b>1.</b></font> The expression we see on the right hand-side of examples 2 and 3, is called <font color = #C70039><b>set builder notation</b></font>, meaning that we have a shared property between the elements of the set.<br><br>\n",
    "<font color = #C70039><b>2.</b></font> Sets like $V$ and $P$ are called <font color = #C70039><b>finite sets</b></font> as we can count the number of elements in these sets. Otherwise, sets like $N$ are called <font color = #C70039><b>infinite</b></font>.<br><br>\n",
    "<font color = #C70039><b>3.</b></font> Finite sets are said to have [cardinality](#cardinality_ID) $n$. The $n$ is the number of distinct elements of the finite set."
   ]
  },
  {
   "cell_type": "markdown",
   "metadata": {},
   "source": [
    "Let's see some examples in python on sets."
   ]
  },
  {
   "cell_type": "code",
   "execution_count": null,
   "metadata": {},
   "outputs": [],
   "source": [
    "#creating symbols (mathematical constants that act as elements)\n",
    "a, b, c, d, e, i, o, u = sym.symbols(\"a, b, c, d, e, i, o, u\")\n",
    "\n",
    "#the sets V, P, and N are the sets defined in the above examples.\n",
    "V=set([a,e,i,o,u])\n",
    "P=set([1,3,15,7,9])\n",
    "N=set([-5,-4,-3,-2,-1])\n",
    "\n",
    "#Print the sets\n",
    "print('1. V=',V)\n",
    "print('2. P=',P)\n",
    "print('3. N=',N)"
   ]
  },
  {
   "cell_type": "code",
   "execution_count": null,
   "metadata": {},
   "outputs": [],
   "source": [
    "#also we can print them on the screen all together\n",
    "V, P, N"
   ]
  },
  {
   "cell_type": "code",
   "execution_count": null,
   "metadata": {},
   "outputs": [],
   "source": [
    "#or one at a time\n",
    "N"
   ]
  },
  {
   "cell_type": "markdown",
   "metadata": {},
   "source": [
    "Now we are going to test what happens when we have a repeated elements."
   ]
  },
  {
   "cell_type": "code",
   "execution_count": null,
   "metadata": {},
   "outputs": [],
   "source": [
    "#create a finite set with repeated elements\n",
    "A = sym.FiniteSet(a, a, a, b, b, c, e, e, e)\n",
    "\n",
    "#print it to the screen\n",
    "A "
   ]
  },
  {
   "cell_type": "markdown",
   "metadata": {},
   "source": [
    "Here we can see that the repeted elements does <font color = #C70039><b>not count</b></font>."
   ]
  },
  {
   "cell_type": "code",
   "execution_count": null,
   "metadata": {},
   "outputs": [],
   "source": [
    "#defining the three finite sets (again) using sympy this time\n",
    "#This is just a different way of expressing the same thing.\n",
    "V=sym.FiniteSet(a, e, i, o, u)\n",
    "P=sym.FiniteSet(1,3,5,7,9)\n",
    "N=sym.FiniteSet(-5,-4,-3,-2,-1)\n",
    "\n",
    "#Checking if V is finite\n",
    "V.is_FiniteSet"
   ]
  },
  {
   "cell_type": "code",
   "execution_count": null,
   "metadata": {},
   "outputs": [],
   "source": [
    "#check if element 2 is in the set P\n",
    "2 in P"
   ]
  },
  {
   "cell_type": "code",
   "execution_count": null,
   "metadata": {},
   "outputs": [],
   "source": [
    "#check if element -6 is in the set N\n",
    "-6 in N"
   ]
  },
  {
   "cell_type": "markdown",
   "metadata": {},
   "source": [
    "It is worth mentioning here that Sympy contains the singleton called <span style=\"background-color: #C70039\"> S </span>.<br>\n",
    "The singleton is a set with only one element."
   ]
  },
  {
   "cell_type": "code",
   "execution_count": null,
   "metadata": {},
   "outputs": [],
   "source": [
    "type(sym.S)"
   ]
  },
  {
   "cell_type": "markdown",
   "metadata": {},
   "source": [
    "<font color = #C70039><b>Here are some common sets we will be using:</b></font>\n",
    "\n",
    "* $\\mathbb{N}$ is the set of natural numbers, i.e. $\\mathbb{N} = \\{1, 2, 3, ...\\}$.<br>\n",
    "\n",
    "* $\\mathbb{Z}$ is the set of integers, i.e. $\\mathbb{Z} = \\{ ... , -3, -2, -1, 0, 1, 2, 3, ... \\}$.<br>\n",
    "\n",
    "* $\\mathbb{R}$ is the set of real numbers.<br>\n",
    "\n",
    "* $\\mathbb{Q}$ is the set of rational numbers, i.e. fractions.\n",
    "\n",
    "These sets are mainly going to be used as our domain --- the <font color = #C70039><b>universal</b></font> set $U$.<br><br>\n",
    "\n",
    "<span style=\"background-color: #C70039\"> Note </span> that we ALSO have the counting numbers, $\\{0, 1, 2, 3, 4, 5, ...\\}$. The counting numbers are represented in <span style=\"background-color: #C70039\">sympy</span> as <span style=\"background-color: #C70039\">sympy.S.Naturals0</span>.<br><br>\n",
    "\n",
    "The integers $\\mathbb{Z}$, are represented by <span style=\"background-color: #C70039\">sympy.S.Integers</span>."
   ]
  },
  {
   "cell_type": "code",
   "execution_count": null,
   "metadata": {},
   "outputs": [],
   "source": [
    "#is one-half an integer?\n",
    "1 / 2 in sym.S.Integers"
   ]
  },
  {
   "cell_type": "markdown",
   "metadata": {},
   "source": [
    "And of course, we have the real numbers $\\mathbb{R}$. The corresponding set is called <span style=\"background-color: #C70039\">sym.S.Reals</span>."
   ]
  },
  {
   "cell_type": "markdown",
   "metadata": {},
   "source": [
    "<hr>"
   ]
  },
  {
   "cell_type": "markdown",
   "metadata": {},
   "source": [
    "### <a id = \"cardinality_ID\"><font color = #3893E4><b>Cardinality of Sets</b></font></a>\n",
    "\n",
    "* If a set $S$ contains $n$ <font color = #C70039><b>distinct</b></font> elements, we call $S$ a <font color = #C70039><b>finite set</b></font> with <font color = #C70039><b>cardinality $n$</b></font> and we write $|S| = n$.\n",
    "\n",
    "    ### <font color = #3893E4>**Examples**</font><br><br>\n",
    "    \n",
    "    <center>\n",
    "<table style=\"width:90%\">\n",
    "    <tr>\n",
    "        <th>Sets</th>\n",
    "        <th>Cardinality</th>\n",
    "    </tr>\n",
    "    <tr>\n",
    "        <td>$A = \\{Mercedes, BMW, Porsche\\}$</td>\n",
    "        <td>$|A| = 3$</td>\n",
    "    </tr>\n",
    "    <tr>\n",
    "        <td>$B = \\{1, \\{2, 3\\}, \\{4, 5\\}, 6\\}$</td>\n",
    "        <td>$|B| = 4$</td>\n",
    "    </tr>\n",
    "    <tr>\n",
    "        <td>$C = \\emptyset$</td>\n",
    "        <td>$|C| = 0$</td>\n",
    "    </tr>\n",
    "    <tr>\n",
    "        <td>$D = \\{x \\in N | x \\leq 7000\\}$</td>\n",
    "        <td>$|D| = 7000$</td>\n",
    "    </tr>\n",
    "    <tr>\n",
    "        <td>$E = \\{x \\in N | x \\geq 7000\\}$</td>\n",
    "        <td><span style=\"background-color: #C70039\">$E$ is infinite</span></td>\n",
    "    </tr>\n",
    "</table>\n",
    "</center>\n",
    "\n",
    "    ### <font color = #3893E4>**Counting**</font><br>\n",
    "    \n",
    "    * If $A$ and $B$ are two finite sets, then how we can find the number of elements their union has?<br><br>\n",
    "    \n",
    "    $| A \\cup B | = |A| + |B| - |A \\cap B|$<br><br>\n",
    "    \n",
    "    What if the two sets are disjoint?"
   ]
  },
  {
   "cell_type": "markdown",
   "metadata": {},
   "source": [
    "<hr>"
   ]
  },
  {
   "cell_type": "markdown",
   "metadata": {},
   "source": [
    "### <font color = #3893E4><b>Cartesian Products</b></font>\n",
    "\n",
    "* Let $A_1, A_2, ... , A_n$ be sets.<br><br>\n",
    "\n",
    "* The <font color = #C70039><b>cartesian product</b></font> of $A_1, A_2, ... , A_n$ is denoted as $A_1 \\times A_2 \\times ... \\times A_n $ and it is expressed as \\\n",
    "    $A_1 \\times A_2 \\times ... \\times A_n= \\{(x_1, x_2, ... , x_n) | x_1 \\in A_1\\ and\\ x_2 \\in A_2\\ and\\ ... and\\ x_n \\in A_n\\}$\n",
    "    \n",
    "    <font color = #C70039><b>$(x_1, x_2, ... , x_n)$ is called an n-typle</b></font>\n",
    "\n",
    "    ### <font color = #3893E4>**Examples**</font> \n",
    "    Let $A = \\{x, y\\}, B = \\{1, 2, 3\\}, C = \\{a, b\\}$\n",
    "    \n",
    "    <font color = #C70039><b>1.</b></font> $A \\times B = \\{(x, 1), (x, 2), (x, 3), (y, 1), (y, 2), (y, 3)\\}$\n",
    "    \n",
    "    <font color = #C70039><b>2.</b></font> $A \\times B \\times C = \\{(x, 1, a), (x, 1, b), ... , (y, 3, a), (y, 3, b)\\}$\n",
    "    \n",
    "    <font color = #C70039><b>3.</b></font> $A \\times (B \\times C) = \\{(x, (1, a)), (x, (1, b)), ... , (y, (3, a)), (y, (3, b))\\}$\n",
    "    \n",
    "\n",
    "<span style=\"background-color: #C70039\">Note</span><br>\n",
    "<font color = #C70039><b>1.</b></font> We usually concentrate on the 2-dimensional case, i.e. $A \\times B$ or $X \\times Y$<br>\n",
    "<font color = #C70039><b>2.</b></font> $A \\times B \\neq B \\times A$<br>\n",
    "<font color = #C70039><b>3.</b></font> $A \\times \\emptyset = \\emptyset \\times A = \\emptyset$<br>\n",
    "<font color = #C70039><b>4.</b></font> If $A$ and $B$ are finite, then $|A \\times B| = |A| \\times |B|$"
   ]
  },
  {
   "cell_type": "markdown",
   "metadata": {},
   "source": [
    "<hr>"
   ]
  },
  {
   "cell_type": "markdown",
   "metadata": {},
   "source": [
    "<b>Let's do some exercises from the [website](http://webspace.ship.edu/deensley/DiscreteMath/flash/index.html)</b><br><br>\n",
    "[Exercises on Set Notation](http://webspace.ship.edu/deensley/DiscreteMath/flash/ch3/sec3_1/setnotation.html)<br>\n",
    "[Exercises on Set Operations](http://webspace.ship.edu/deensley/DiscreteMath/flash/ch3/sec3_1/setoperations.html)"
   ]
  },
  {
   "cell_type": "markdown",
   "metadata": {},
   "source": [
    "<hr>"
   ]
  },
  {
   "cell_type": "markdown",
   "metadata": {},
   "source": [
    "## <font color = #3893E4>**Subsets**</font>"
   ]
  },
  {
   "cell_type": "markdown",
   "metadata": {},
   "source": [
    "$A \\subseteq B$: it means that\n",
    "<center>$A$ is a subset of $B$ &nbsp;&nbsp;&nbsp;&nbsp;&nbsp; or &nbsp;&nbsp;&nbsp;&nbsp;&nbsp; $A$ is contained in B</center><br>\n",
    "\n",
    "* $A$ is a subset of $B$ if and only if <font color = #C70039><b>every</b></font> element of $A$ is also an element of $B$.\n",
    "\n",
    "* We can completely formalize this: $A \\subseteq B \\iff \\forall x (x \\in A \\to x \\in B)$\n",
    "\n",
    "    ### <font color = #3893E4>**Examples**</font>\n",
    "    \n",
    "    <font color = #C70039><b>1.</b></font> $A = \\{3, 9\\}, B = \\{5, 9, 1, 3\\}, A \\subseteq B?$\n",
    "    \n",
    "    <font color = #C70039><b>2.</b></font> $C = \\{3, 3, 3, 9\\}, D = \\{5, 9, 1, 3\\}, C \\subseteq D?$\n",
    "    \n",
    "    <font color = #C70039><b>3.</b></font> $E = \\{1, 2, 3\\}, F = \\{2, 3, 4\\}, E \\subseteq F?$\n",
    "    \n",
    "<span style=\"background-color: #C70039\">Let's use SymPy for answering these examples:</span>"
   ]
  },
  {
   "cell_type": "code",
   "execution_count": null,
   "metadata": {},
   "outputs": [],
   "source": [
    "#example 1\n",
    "\n",
    "#declare A and B\n",
    "A = sym.FiniteSet(3, 9)\n",
    "B = sym.FiniteSet(5, 9, 1, 3)\n",
    "\n",
    "#check for subset\n",
    "A.is_subset(B)"
   ]
  },
  {
   "cell_type": "code",
   "execution_count": null,
   "metadata": {},
   "outputs": [],
   "source": [
    "#example 2\n",
    "\n",
    "#declare C and D\n",
    "C = sym.FiniteSet(3, 3, 3, 9)\n",
    "D = sym.FiniteSet(5, 9, 1, 3)\n",
    "\n",
    "#check for subset\n",
    "C.is_subset(D)"
   ]
  },
  {
   "cell_type": "code",
   "execution_count": null,
   "metadata": {},
   "outputs": [],
   "source": [
    "#example 3\n",
    "\n",
    "#declare E and F\n",
    "E = sym.FiniteSet(1, 2, 3)\n",
    "F = sym.FiniteSet(2, 3, 4)\n",
    "\n",
    "#check for subset\n",
    "E.is_subset(F)"
   ]
  },
  {
   "cell_type": "markdown",
   "metadata": {},
   "source": [
    "### <font color = #3893E4>**Real Life Examples**</font>\n",
    "1. The set of all Computer Science majors at your school is a subset of all students at your school.\n",
    "\n",
    "2. The set of integers with squares less than $100$ is <font color = #C70039><b>not</b></font> a subset of the set of nonnegative integers.\n",
    "\n",
    "3. The set of a <font color = #C70039><b>red fruits</b></font> is a subset of a plate full with fruits. The same happens with <font color = #C70039><b>yellow fruits</b></font> as we can see at the picture below\n",
    "<img src=\"subsets.png\">\n",
    "\n",
    "4. We have a set of living life. A subset of living life is the <font color = #C70039><b>plants</b></font> and <font color = #C70039><b>animals</b></font>. A subset of animals are <font color = #C70039><b>human beings</b></font>. This represend at the picture below.\n",
    "<img src=\"living_life.png\">\n",
    "\n",
    "### <font color = #3893E4>**Subsets Facts**</font>\n",
    "\n",
    "<font color = #C70039><b>Useful rules:</b></font><br>\n",
    "1. $\\emptyset \\subseteq A$ for any set $A$<br>\n",
    "2. $A \\subseteq A$ for any set $A$\n",
    "\n",
    "<font color = #C70039><b>Proper subset:</b></font><br>\n",
    "There is also a proper subset, $A \\subset B$, which is defined if there are elements in $B$ that are not in $A$.\n",
    "1. $A \\subset B:$ \"$A$ is a proper subset of $B$\"\n",
    "2. $A \\subset B: \\iff \\forall x (x \\in A \\to x \\in B) \\land \\exists x (x \\in B \\land x \\notin A)$\n",
    "\n",
    "    \n",
    "<span style=\"background-color: #C70039\">Note:</span> $A$ is never a proper subset of itself"
   ]
  },
  {
   "cell_type": "code",
   "execution_count": null,
   "metadata": {},
   "outputs": [],
   "source": [
    "#are the integers a proper subset of the real numbers\n",
    "sym.S.Integers.is_proper_subset(sym.S.Reals)"
   ]
  },
  {
   "cell_type": "markdown",
   "metadata": {},
   "source": [
    "Now, this discussion easily leads to the equality of sets. If we have two sets, $A$ and $B$ taken from a universal set $U$, when are they equal?"
   ]
  },
  {
   "cell_type": "markdown",
   "metadata": {},
   "source": [
    "<hr>"
   ]
  },
  {
   "cell_type": "markdown",
   "metadata": {},
   "source": [
    "## <font color = #3893E4>**Power Set**</font>"
   ]
  },
  {
   "cell_type": "markdown",
   "metadata": {},
   "source": [
    "* $\\mathcal P(A)$ is called the <font color = #C70039><b>power set of $A$</b></font><br><br>\n",
    "\n",
    "* $\\mathcal P(A) = \\{B | B \\subseteq A\\}$ Power set <font color = #C70039><b>contains all subsets of $A$</b></font><br><br>\n",
    "\n",
    "* <span style=\"background-color: #C70039\">Note:</span> $P(A)$ is a set of itself.\n",
    "\n",
    "    ### <font color = #3893E4>**Examples**</font>\n",
    "    <font color = #C70039><b>$\\bullet$</b></font> $A = \\{x, y, z\\}$<br>\n",
    "    $\\mathcal P(A) = \\{\\emptyset, \\{x\\}, \\{y\\}, \\{z\\}, \\{x, y\\}, \\{x, z\\}, \\{y, z\\}, \\{x, y, z\\}\\}$<br><br>\n",
    "    <font color = #C70039><b>$\\bullet$</b></font> $A = \\emptyset$<br>\n",
    "    $\\mathcal P(A) = \\{\\emptyset\\}$<br><br>\n",
    "    <span style=\"background-color: #C70039\">Note:</span> $|A| = 0, |2^A| = 1$<br>\n",
    "    ### <font color = #3893E4>**Cardinality of power set**</font>\n",
    "    If $|A| = n$, then $|\\mathcal P(A)| = 2^n$\n",
    "    \n",
    "    <font color = #C70039><b><u>Question:</u><b></font> How many proper subsets are there in the power set?\n",
    "    \n",
    "    <font color = #C70039><b>Universal Set:<b></font> This is the set consisting of all elements under consideration denoted as $U$."
   ]
  },
  {
   "cell_type": "markdown",
   "metadata": {},
   "source": [
    "<hr>"
   ]
  },
  {
   "cell_type": "markdown",
   "metadata": {},
   "source": [
    "## <font color = #3893E4>**Set Equality**</font>"
   ]
  },
  {
   "cell_type": "markdown",
   "metadata": {},
   "source": [
    "* Two sets $A$ and $B$ are equal if they have exactly the same elements. In that case we write $A = B$.\n",
    "\n",
    "* Mathematically speaking, two sets $A$ and $B$ are equal if and only if $A \\subseteq B$ and $B \\subseteq A$.\n",
    "\n",
    "* Otherwise $A \\neq B$.\n",
    "\n",
    "    ### <font color = #3893E4>**Examples**</font>\n",
    "    \n",
    "    <font color = #C70039><b>1.</b></font> $A = \\{9, 2, 7, -3\\}, B = \\{7, 9, -3, 2\\}, A = B?$\n",
    "    \n",
    "    <font color = #C70039><b>2.</b></font> $C = \\{dog, cat, horse\\}, D = \\{cat, horse, squirrel, dog\\}, C = D?$\n",
    "    \n",
    "    <font color = #C70039><b>3.</b></font> $E = \\{1, 3, 2\\}, F = \\{1, 2, 1, 3\\}, E = F?$\n",
    "\n"
   ]
  },
  {
   "cell_type": "code",
   "execution_count": null,
   "metadata": {},
   "outputs": [],
   "source": [
    "#example 1\n",
    "\n",
    "#declare A and B\n",
    "A = sym.FiniteSet(9, 2, 7, -3)\n",
    "B = sym.FiniteSet(7, 9, -3, 2)\n",
    "\n",
    "#check for set equality\n",
    "A == B"
   ]
  },
  {
   "cell_type": "code",
   "execution_count": null,
   "metadata": {},
   "outputs": [],
   "source": [
    "#example 2\n",
    "\n",
    "#declare C and D\n",
    "C = sym.FiniteSet('dog', 'cat', 'horse')\n",
    "D = sym.FiniteSet('cat', 'horse', 'squireel', 'dog')\n",
    "\n",
    "#check for set equality\n",
    "C == D"
   ]
  },
  {
   "cell_type": "code",
   "execution_count": null,
   "metadata": {},
   "outputs": [],
   "source": [
    "#example 3\n",
    "\n",
    "#declare E and F\n",
    "E = sym.FiniteSet(1, 3, 2)\n",
    "F = sym.FiniteSet(1, 2, 1, 3)\n",
    "\n",
    "# check for set equality\n",
    "E == F"
   ]
  },
  {
   "cell_type": "markdown",
   "metadata": {},
   "source": [
    "<hr>"
   ]
  }
 ],
 "metadata": {
  "kernelspec": {
   "display_name": "Python 3",
   "language": "python",
   "name": "python3"
  },
  "language_info": {
   "codemirror_mode": {
    "name": "ipython",
    "version": 3
   },
   "file_extension": ".py",
   "mimetype": "text/x-python",
   "name": "python",
   "nbconvert_exporter": "python",
   "pygments_lexer": "ipython3",
   "version": "3.7.3"
  },
  "nbTranslate": {
   "displayLangs": [
    "en",
    "pl"
   ],
   "hotkey": "alt-t",
   "langInMainMenu": true,
   "sourceLang": "pl",
   "targetLang": "en",
   "useGoogleTranslate": true
  }
 },
 "nbformat": 4,
 "nbformat_minor": 2
}
