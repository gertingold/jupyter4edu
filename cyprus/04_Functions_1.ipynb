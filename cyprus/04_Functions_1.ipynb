{
 "cells": [
  {
   "cell_type": "markdown",
   "metadata": {},
   "source": [
    "# <font color = purple>**FUNCTIONS PART 1**</font>"
   ]
  },
  {
   "cell_type": "markdown",
   "metadata": {},
   "source": [
    "## <font color = purple>**INTRODUCTION**</font>"
   ]
  },
  {
   "cell_type": "markdown",
   "metadata": {},
   "source": [
    "The concept of a function is extremely important in mathematics and computer science. For example, in discrete mathematics functions are used in the deﬁnition of such discrete structures as sequences and strings. Functions are also used to represent how long it takes a computer to solve problems of a given size. Many computer programs and subroutines are designed to calculate values of functions."
   ]
  },
  {
   "cell_type": "markdown",
   "metadata": {},
   "source": [
    "## <font color = purple>**Summary**</font>"
   ]
  },
  {
   "cell_type": "markdown",
   "metadata": {},
   "source": [
    "<ol>\n",
    "    <b><li>Definitions</li></b>\n",
    "        <ul>\n",
    "            <li>Function</li>\n",
    "            <li>Domain, Codomain</li>\n",
    "            <li>Image, Preimage</li>\n",
    "        </ul>\n",
    "    <b><li>Examples</li></b>\n",
    "        <ul>\n",
    "            <li>Floor & Ceiling Functions</li>\n",
    "        </ul>\n",
    "    <b><li>Representing Functions</li></b>\n",
    "    <b><li>Injection, Subjection, Bijection and Inverse</li></b>\n",
    "</ol>"
   ]
  },
  {
   "cell_type": "markdown",
   "metadata": {},
   "source": [
    "<hr>"
   ]
  },
  {
   "cell_type": "markdown",
   "metadata": {},
   "source": [
    "**Import usable libraries**"
   ]
  },
  {
   "cell_type": "code",
   "execution_count": null,
   "metadata": {},
   "outputs": [],
   "source": [
    "# Import libraries first\n",
    "%matplotlib inline\n",
    "import numpy as np\n",
    "import scipy.interpolate as interpol\n",
    "import matplotlib.pyplot as plt\n",
    "import matplotlib.colors as colors\n",
    "import matplotlib.cm as cmx\n",
    "\n",
    "import sys, logging, os, re\n",
    "import time\n",
    "\n",
    "# import seaborn as sns\n",
    "import scipy\n",
    "import scipy.io as sio"
   ]
  },
  {
   "cell_type": "markdown",
   "metadata": {},
   "source": [
    "<hr>"
   ]
  },
  {
   "cell_type": "markdown",
   "metadata": {},
   "source": [
    "## <font color = purple>**Definitions**</font>"
   ]
  },
  {
   "cell_type": "markdown",
   "metadata": {},
   "source": [
    "### <font color = purple>**Function**</font>"
   ]
  },
  {
   "cell_type": "markdown",
   "metadata": {},
   "source": [
    "<ul>\n",
    "    <li>A <font color = #F02B6B><b>function</b></font> $f$ from a set $X$ to a set $Y$ is a subset of the Cartesian product $X x Y$ which to <span style=\"background-color: #F02B6B\">each</span> element of $x \\in X$ we assign <span style=\"background-color: #F02B6B\">exactly one</span> element of $y \\in Y$ with $(x,y) \\in f$.<br><br></li>\n",
    "    <li>We sometimes write $f (x) = y$.<br>\n",
    "        Note that $(x,y)$ is an ordered pair in the function.<br><br></li>\n",
    "    <li>If $f$ is a function from $X$ to $Y$, we write<br>\n",
    "        <center>$f : X \\to Y$</center><br></li>\n",
    "    <li>Functions are sometimes called <font color = #F02B6B><b>mappings</b></font> or <font color = #F02B6B><b>transformations</b></font>.<br><br></li>\n",
    "    <li>We say that $f : A \\to B$ <font color = #F02B6B><b>maps</b></font> $A$ to $B$.</li>\n",
    "</ul>"
   ]
  },
  {
   "cell_type": "markdown",
   "metadata": {},
   "source": [
    "### <font color = purple>**Domain, Codomain**</font>"
   ]
  },
  {
   "cell_type": "markdown",
   "metadata": {},
   "source": [
    "<ul>\n",
    "    <li>If $f : X \\to Y$, we say that $X$ is the <font color = #F02B6B><b>domain</b></font> of $f$ and $Y$ is the <font color = #F02B6B><b>codomain</b></font> of $f$.<br><br></li>\n",
    "    <li>The <font color = #F02B6B><b>range</b></font> of $f : X \\to Y$ is the set of all images of elements of $X$.<br>This is a <font color = #F02B6B><b>subset of the codomain</b></font>.</li>\n",
    "</ul>"
   ]
  },
  {
   "cell_type": "markdown",
   "metadata": {},
   "source": [
    "### <font color = purple>**Image, Preimage**</font>"
   ]
  },
  {
   "cell_type": "markdown",
   "metadata": {},
   "source": [
    "<ul>\n",
    "    <li>If $f(x) = y$, we say that $y$ is the <font color = #F02B6B><b>image</b></font> of $x$ and $x$ is the <font color = #F02B6B><b>pre-image</b></font> of $y$.</li>\n",
    "</ul>\n",
    "<hr>"
   ]
  },
  {
   "cell_type": "markdown",
   "metadata": {},
   "source": [
    "## <font color = purple>**Examples**</font>"
   ]
  },
  {
   "cell_type": "markdown",
   "metadata": {},
   "source": [
    "### <font color = purple>**Example 1:**</font>"
   ]
  },
  {
   "cell_type": "markdown",
   "metadata": {},
   "source": [
    "* Consider the function $f : X \\to Y$ with:"
   ]
  },
  {
   "cell_type": "markdown",
   "metadata": {},
   "source": [
    "<table>\n",
    "    <tr>\n",
    "        <td>$X = \\{1, 2, 3\\}$</td>\n",
    "        <td>$f(1) = a$</td>\n",
    "    </tr>\n",
    "    <tr>\n",
    "        <td>$Y = \\{a, b, c, d\\}$</td>\n",
    "        <td>$f(2) = b$</td>\n",
    "    </tr>\n",
    "    <tr>\n",
    "        <td></td>\n",
    "        <td>$f(3) = c$</td>\n",
    "    </tr>\n",
    "</table>"
   ]
  },
  {
   "cell_type": "markdown",
   "metadata": {},
   "source": [
    "Here the <span style=\"background-color: #F02B6B\">range</span> of $f$ is $\\{a, b, c\\} \\subset Y.$\n",
    "<hr>"
   ]
  },
  {
   "cell_type": "markdown",
   "metadata": {},
   "source": [
    "### <font color = purple>**Example 2:**</font>"
   ]
  },
  {
   "cell_type": "markdown",
   "metadata": {},
   "source": [
    "* Consider the function $f : X \\to Y$ with:"
   ]
  },
  {
   "cell_type": "markdown",
   "metadata": {},
   "source": [
    "<table>\n",
    "    <tr>\n",
    "        <td>$X = \\{1, 2, 3\\}$</td>\n",
    "        <td>$f(1) = a$</td>\n",
    "    </tr>\n",
    "    <tr>\n",
    "        <td>$Y = \\{a, b, c, d\\}$</td>\n",
    "        <td>$f(2) = a$</td>\n",
    "    </tr>\n",
    "    <tr>\n",
    "        <td></td>\n",
    "        <td>$f(3) = d$</td>\n",
    "    </tr>\n",
    "</table>"
   ]
  },
  {
   "cell_type": "markdown",
   "metadata": {},
   "source": [
    "1. Is $f$ still a <font color = #F02B6B><b>function</b></font>?\n",
    "2. What is its <font color = #F02B6B><b>range</b></font>?\n",
    "<hr>"
   ]
  },
  {
   "cell_type": "markdown",
   "metadata": {},
   "source": [
    "### <font color = purple>**Example 3:**</font>"
   ]
  },
  {
   "cell_type": "markdown",
   "metadata": {},
   "source": [
    "* Consider the function $f : X \\to Y$ with:"
   ]
  },
  {
   "cell_type": "markdown",
   "metadata": {},
   "source": [
    "<table>\n",
    "    <tr>\n",
    "        <td>$X = \\{1, 2, 3\\}$</td>\n",
    "        <td>$f(1) = a$</td>\n",
    "    </tr>\n",
    "    <tr>\n",
    "        <td>$Y = \\{a, b, c, d\\}$</td>\n",
    "        <td>$f(2) = a$</td>\n",
    "    </tr>\n",
    "    <tr>\n",
    "        <td></td>\n",
    "        <td>$f(3) = c$</td>\n",
    "    </tr>\n",
    "    <tr>\n",
    "        <td></td>\n",
    "        <td>$f(3) = d$</td>\n",
    "    </tr>\n",
    "</table>"
   ]
  },
  {
   "cell_type": "markdown",
   "metadata": {},
   "source": [
    "1. Is $f$ still a <font color = #F02B6B><b>function</b></font>?\n",
    "2. What is its <font color = #F02B6B><b>range</b></font>?\n",
    "<hr>"
   ]
  },
  {
   "cell_type": "markdown",
   "metadata": {},
   "source": [
    "### <font color = purple>**Example 4:**</font>"
   ]
  },
  {
   "cell_type": "markdown",
   "metadata": {},
   "source": [
    "* Let x be an integer from the given list $\\left[15, 4, 6, 6, 371281\\right]$.\n",
    "* Let y be a positive integer $\\left[3, 9, 1, 2, 2\\right]$.\n",
    "* Define $x$ <span style=\"background-color: #F02B6B\">mod</span> $y$ to be the remainder when $x$ is divided by $y$."
   ]
  },
  {
   "cell_type": "markdown",
   "metadata": {},
   "source": [
    "<table>\n",
    "    <tr>\n",
    "        <td>$15$ <span style=\"background-color: #F02B6B\">mod</span> $3 = $ ?</td>\n",
    "    </tr>\n",
    "    <tr>\n",
    "        <td>$4$ <span style=\"background-color: #F02B6B\">mod</span> $9 = $ ?</td>\n",
    "    </tr>\n",
    "    <tr>\n",
    "        <td>$6$ <span style=\"background-color: #F02B6B\">mod</span> $1 = $ ?</td>\n",
    "    </tr>\n",
    "    <tr>\n",
    "        <td>$6$ <span style=\"background-color: #F02B6B\">mod</span> $2 = $ ?</td>\n",
    "    </tr>\n",
    "    <tr>\n",
    "        <td>$371281$ <span style=\"background-color: #F02B6B\">mod</span> $2 = $ ?</td>\n",
    "    </tr>\n",
    "</table>"
   ]
  },
  {
   "cell_type": "markdown",
   "metadata": {},
   "source": [
    "To answer the above question, let us use the mod function to the below code to find out the answer."
   ]
  },
  {
   "cell_type": "code",
   "execution_count": null,
   "metadata": {},
   "outputs": [],
   "source": [
    "print(np.mod(15,3))"
   ]
  },
  {
   "cell_type": "markdown",
   "metadata": {},
   "source": [
    "To make this a bit faster we can use the following code:"
   ]
  },
  {
   "cell_type": "code",
   "execution_count": null,
   "metadata": {},
   "outputs": [],
   "source": [
    "x = np.array([15,4,6,6,371281])\n",
    "y = np.array([3,9,1,2,2])\n",
    "\n",
    "result=np.mod(x,y)\n",
    "print(result)"
   ]
  },
  {
   "cell_type": "markdown",
   "metadata": {},
   "source": [
    "The modular function is used for the well known [Hash Functions](http://en.wikipedia.org/wiki/Hash_function) – for storing and retrieving nonnegative numbers into a specific number of available cells.\n",
    "<hr>"
   ]
  },
  {
   "cell_type": "markdown",
   "metadata": {},
   "source": [
    "### <font color = purple>**Example 5: Floor and ceiling functions**</font>"
   ]
  },
  {
   "cell_type": "markdown",
   "metadata": {},
   "source": [
    "Both of these functions are for rounding purposes."
   ]
  },
  {
   "cell_type": "markdown",
   "metadata": {},
   "source": [
    "* The <font color = #F02B6B><b>Floor</b></font> function is denoted as $\\lfloor x \\rfloor$ and it i defined as the greatest integer $\\leq x$ (rounds <font color = #F02B6B><b>down</b></font>)."
   ]
  },
  {
   "cell_type": "code",
   "execution_count": null,
   "metadata": {},
   "outputs": [],
   "source": [
    "# Let's try this function for few numbers\n",
    "np.floor(5.2)"
   ]
  },
  {
   "cell_type": "code",
   "execution_count": null,
   "metadata": {},
   "outputs": [],
   "source": [
    "# Note the difference between a positive and a negative number --- like -1.7 and 1.7\n",
    "a = np.array([-1.7, -1.5, -0.2, 0.2, 1.5, 1.7, 2.1])\n",
    "np.floor(a)"
   ]
  },
  {
   "cell_type": "code",
   "execution_count": null,
   "metadata": {},
   "outputs": [],
   "source": [
    "# Below you can see the graph of the Floor function - this looks like a step function\n",
    "\n",
    "# To create n+1 uniformly distributed coordinates in an interval [a,b], stored in an array, \n",
    "# one can use linspace: t = numpy.linspace(a, b, n+1)\n",
    "y=np.linspace(-3,3,7)\n",
    "\n",
    "fig = plt.figure(figsize=(8,8))\n",
    "ax = fig.add_subplot(1, 1, 1)\n",
    "\n",
    "# Move left y-axis and bottom x-axis to center, passing through (0,0)\n",
    "ax.spines['left'].set_position('center')\n",
    "ax.spines['bottom'].set_position('center')\n",
    "\n",
    "ax.spines['right'].set_color('none')\n",
    "ax.spines['top'].set_color('none')\n",
    "\n",
    "plt.plot(a,y,'bo',mfc=\"None\",label='real data')\n",
    "plt.plot(np.floor(a),y,'bo',label='floor data')\n",
    "for i in range(0,y.size):\n",
    "    plt.plot([np.floor(a)[i],a[i]],[y[i],y[i]],'b-')\n",
    "\n",
    "plt.grid(color='lightgray',linestyle='--')    \n",
    "plt.legend()\n",
    "plt.title('Floor Function')"
   ]
  },
  {
   "cell_type": "markdown",
   "metadata": {},
   "source": [
    "We continue with:"
   ]
  },
  {
   "cell_type": "markdown",
   "metadata": {},
   "source": [
    "The <font color = #F02B6B><b>Ceiling</b></font> function is denoted as $\\lceil x \\rceil$ and it is defined to be the smallest integer $ \\geq x$ (rounds <font color = #F02B6B><b>up</b></font>)."
   ]
  },
  {
   "cell_type": "code",
   "execution_count": null,
   "metadata": {},
   "outputs": [],
   "source": [
    "# Let's try the ceiling function for few numbers\n",
    "np.ceil(5.2)"
   ]
  },
  {
   "cell_type": "code",
   "execution_count": null,
   "metadata": {},
   "outputs": [],
   "source": [
    "# Note the difference between a positive and a negative number --- like -1.7 and 1.7\n",
    "b = np.array([-1.7, -1.5, -0.2, 0.2, 1.5, 1.7, 2.0])\n",
    "np.ceil(b)"
   ]
  },
  {
   "cell_type": "code",
   "execution_count": null,
   "metadata": {},
   "outputs": [],
   "source": [
    "# Also note the difference between between Floor and Ceiling functions for numbers like -1.7 and 1.7\n",
    "print(np.floor(1.7),np.ceil(1.7))"
   ]
  },
  {
   "cell_type": "code",
   "execution_count": null,
   "metadata": {},
   "outputs": [],
   "source": [
    "#The graph of Ceiling function looks again like a step function\n",
    "y=np.linspace(-3,3,7)\n",
    "\n",
    "fig = plt.figure(figsize=(8,8))\n",
    "ax = fig.add_subplot(1, 1, 1)\n",
    "\n",
    "# Move left y-axis and bottom x-axis to center, passing through (0,0)\n",
    "ax.spines['left'].set_position('center')\n",
    "ax.spines['bottom'].set_position('center')\n",
    "\n",
    "ax.spines['right'].set_color('none')\n",
    "ax.spines['top'].set_color('none')\n",
    "\n",
    "plt.plot(b, y, 'bo', mfc=\"None\", label='real data')\n",
    "plt.plot(np.ceil(b),y,'bo',label='ceiling data')\n",
    "for i in range(0,y.size):\n",
    "    plt.plot([np.ceil(b)[i],b[i]],[y[i],y[i]],'b-')\n",
    "\n",
    "plt.grid(color='lightgray',linestyle='--')\n",
    "plt.legend()\n",
    "plt.title('Ceiling Function')\n",
    "plt.show()"
   ]
  },
  {
   "cell_type": "markdown",
   "metadata": {},
   "source": [
    "## <font color = purple>**Representing Functions**</font>"
   ]
  },
  {
   "cell_type": "markdown",
   "metadata": {},
   "source": [
    "Functions can be represented in different ways depending on their use. The most common ways of representing functions is:\n",
    "\n",
    "* <font color = #F02B6B><b>Tables</b></font>\n",
    "* <font color = #F02B6B><b>Arrow Diagrams</b></font>\n",
    "* <font color = #F02B6B><b>Formula</b></font>\n",
    "* <font color = #F02B6B><b>Graphs</b></font>\n",
    "\n",
    "Lets take a look at each one of these representations.\n",
    "<hr>"
   ]
  },
  {
   "cell_type": "markdown",
   "metadata": {},
   "source": [
    "### <font color = purple>**Table**</font>"
   ]
  },
  {
   "cell_type": "markdown",
   "metadata": {},
   "source": [
    "Recall the function in Example 2 which is defined by $f = \\{(1, a), (2, a), (3, d)\\}$."
   ]
  },
  {
   "cell_type": "markdown",
   "metadata": {},
   "source": [
    "<table>\n",
    "    <tr>\n",
    "        <th>$x$</th>\n",
    "        <th>$f(x)$</th>\n",
    "    </tr>\n",
    "    <tr>\n",
    "        <td>$1$</td>\n",
    "        <td>$a$</td>\n",
    "    </tr>\n",
    "    <tr>\n",
    "        <td>$2$</td>\n",
    "        <td>$a$</td>\n",
    "    </tr>\n",
    "    <tr>\n",
    "        <td>$3$</td>\n",
    "        <td>$d$</td>\n",
    "    </tr>\n",
    "</table>\n",
    "<hr>"
   ]
  },
  {
   "cell_type": "markdown",
   "metadata": {},
   "source": [
    "### <font color = purple>**Arrow Diagrams**</font>"
   ]
  },
  {
   "cell_type": "markdown",
   "metadata": {},
   "source": [
    "Recall the function in Example 2 which is defined by $f = \\{(1, a), (2, a), (3, d)\\}$."
   ]
  },
  {
   "cell_type": "markdown",
   "metadata": {},
   "source": [
    "<img src=\"arrow-diagram.png\"><br>\n",
    "[Exercises](http://webspace.ship.edu/deensley/DiscreteMath/flash/ch4/sec4_1/arrowdiagrams.html)\n",
    "<hr>"
   ]
  },
  {
   "cell_type": "markdown",
   "metadata": {},
   "source": [
    "### <font color = purple>**Formula**</font>"
   ]
  },
  {
   "cell_type": "markdown",
   "metadata": {},
   "source": [
    "* If the domain of our function $f$ is large, it is convenient to specify $f$ with a <font color = #F02B6B><b>formula</b></font>, e.g.:\n",
    "<br><br>\n",
    "<center>$f: \\mathbb{R} \\to \\mathbb{R}$ where $f(x) = x^3 + 1$</center>\n",
    "<br><br>\n",
    "We get the following results for specific values of $x$ from the given domain $\\mathbb{R}$ of the above function $f$."
   ]
  },
  {
   "cell_type": "code",
   "execution_count": null,
   "metadata": {},
   "outputs": [],
   "source": [
    "# Results for the given function for specific values of the domain\n",
    "def f(x):\n",
    "    return x ** 3 + 1\n",
    "    \n",
    "print(f(1))\n",
    "print(f(3))\n",
    "print(f(-3))"
   ]
  },
  {
   "cell_type": "markdown",
   "metadata": {},
   "source": [
    "<hr>"
   ]
  },
  {
   "cell_type": "markdown",
   "metadata": {},
   "source": [
    "### <font color = purple>**Graphs**</font>"
   ]
  },
  {
   "cell_type": "markdown",
   "metadata": {},
   "source": [
    "* Let $f$ be a function from set $X$ to set $Y$.\n",
    "The <font color = #F02B6B><b>graph</b></font> of the function $f$ is the <font color = #F02B6B><b>set of ordered pairs</b></font>:\n",
    "<center>$\\{(x, y) | x \\in X and f(x) = y\\}$</center>\n",
    "\n",
    "What follows are the graphs of two different functions.\n",
    "\n",
    "Note that it matters what is the <font color = #F02B6B><b>domain</b></font> of each function."
   ]
  },
  {
   "cell_type": "code",
   "execution_count": null,
   "metadata": {},
   "outputs": [],
   "source": [
    "# This is the graph of f(x)=2x+1 on the set of integers\n",
    "def f(x):\n",
    "    return 2*x+1\n",
    "\n",
    "x=np.linspace(1,5,5)\n",
    "fig = plt.figure(figsize=(8,5))\n",
    "ax = fig.add_subplot(1, 1, 1)\n",
    "\n",
    "ax.spines['right'].set_color('none')\n",
    "ax.spines['top'].set_color('none')\n",
    "plt.plot(x,f(x),'bo')\n",
    "plt.grid(color='lightgray',linestyle='--')"
   ]
  },
  {
   "cell_type": "code",
   "execution_count": null,
   "metadata": {},
   "outputs": [],
   "source": [
    "# This is the graph of f(x)=x^2 on the set of integers\n",
    "def f(x):\n",
    "    return x**2\n",
    "\n",
    "x=np.linspace(-3,3,7)\n",
    "fig = plt.figure(figsize=(8,5))\n",
    "ax = fig.add_subplot(1, 1, 1)\n",
    "\n",
    "# Move left y-axis and bottom x-axis to center, passing through (0,0)\n",
    "ax.spines['left'].set_position('center')\n",
    "\n",
    "ax.spines['right'].set_color('none')\n",
    "ax.spines['top'].set_color('none')\n",
    "\n",
    "plt.plot(x,f(x),'bo')\n",
    "plt.grid(color='lightgray',linestyle='--')"
   ]
  },
  {
   "cell_type": "markdown",
   "metadata": {},
   "source": [
    "<hr>"
   ]
  },
  {
   "cell_type": "markdown",
   "metadata": {},
   "source": [
    "### <font color = purple>**Identity**</font>"
   ]
  },
  {
   "cell_type": "markdown",
   "metadata": {},
   "source": [
    "* The function $f : X \\to X$ such that:\n",
    "\n",
    "<center>$f = \\{(x, x) | x \\in X\\}$</center><br>\n",
    "\n",
    "is called the <font color = #F02B6B><b>identity function</b></font> on $X$, and is denoted by $1x$ or $id x$.\n",
    "\n",
    "<span style=\"background-color: #F02B6B\">Note:</span> The identity function is a one-to-one correspondence."
   ]
  },
  {
   "cell_type": "code",
   "execution_count": null,
   "metadata": {},
   "outputs": [],
   "source": [
    "# This is the graph of f(x, x) on the set of integers\n",
    "x = [1, 2, 3, 4, 5, 6, 7, 8, 9, 10]\n",
    "\n",
    "ax = plt.subplot(1, 1, 1)\n",
    "\n",
    "plt.grid(color='lightgray',linestyle='--')\n",
    "\n",
    "ax.spines['right'].set_color('none')\n",
    "ax.spines['top'].set_color('none')\n",
    "\n",
    "plt.plot(x, x, '#F02B6B', marker='o')\n",
    "plt.show()"
   ]
  },
  {
   "cell_type": "markdown",
   "metadata": {},
   "source": [
    "<hr>"
   ]
  },
  {
   "cell_type": "markdown",
   "metadata": {},
   "source": [
    "## <font color = purple>**Properties of Functions**</font>"
   ]
  },
  {
   "cell_type": "markdown",
   "metadata": {},
   "source": [
    "Functions have many properties. Some properties of functions are:\n",
    "\n",
    "* <font color = #F02B6B><b>One-to-one or Injective Function</b></font>\n",
    "* <font color = #F02B6B><b>Onto or Surjective Function</b></font>\n",
    "* <font color = #F02B6B><b>Bijection Function: One-to-one & Onto\n",
    "</b></font>\n",
    "* <font color = #F02B6B><b>Inverse Function</b></font>\n",
    "\n",
    "Lets take a look at each one of these properties.\n",
    "<hr>"
   ]
  },
  {
   "cell_type": "markdown",
   "metadata": {},
   "source": [
    "### <font color = purple>**One-to-one or Injective Function**</font>"
   ]
  },
  {
   "cell_type": "markdown",
   "metadata": {},
   "source": [
    "* A function $f : X \\to Y$ is called <font color = #F02B6B><b>one-to-one function (or injective)</b></font> if no member of $Y$ is assigned to more than one member of $X$:\n",
    "<br><br>\n",
    "<center>$\\forall x_1 \\forall x_2 (f(x_1) = f(x_2)) \\to (x_1 = x_2)$</center>\n",
    "<br>\n",
    "* <span style=\"background-color: #F02B6B\">Note:</span> if $f : X \\to Y$ is one-to-one and $X, Y$ are <font color = #F02B6B><b>finite</b></font>, then $|X| \\leq |Y|$.\n",
    "<br><br>\n",
    "* How to prove?\n",
    "    1. Algebrically: iff $x \\neq y$ then $f(x) \\neq f(y)$ (contrapositive)\n",
    "    2. Graphically: Horizontal line test\n",
    "    3. Not 1-1: if $\\exists x_1 \\neq x_2$ so that $f(x_1) = f(x_2)$"
   ]
  },
  {
   "cell_type": "markdown",
   "metadata": {},
   "source": [
    "<hr>"
   ]
  },
  {
   "cell_type": "markdown",
   "metadata": {},
   "source": [
    "### <font color = purple>**Onto or Surjective Function**</font>"
   ]
  },
  {
   "cell_type": "markdown",
   "metadata": {},
   "source": [
    "* A function $f : X \\to Y$ is called <font color = #F02B6B><b>onto function (or subjective)</b></font> if the range of the function equals $Y$, i.e. every element of $Y$ appears as the image of some element from $X$.<br><br>\n",
    "<center>$\\forall y \\in Y$  $\\exists x \\in X$  $(f(x) = y)$</center><br>\n",
    "* <span style=\"background-color: #F02B6B\">Note:</span> If $X, Y$ are finite sets, then for an onto function $f : X \\to Y$ to exist we must have $|X| \\geq |Y|$.\n",
    "<br><br>\n",
    "* How to prove?\n",
    "    1. Use the above definition (a direct proof)\n",
    "    2. Not onto? $\\exists y \\in Y$  $\\forall x \\in X$  $(f(x) \\neq y)$"
   ]
  },
  {
   "cell_type": "markdown",
   "metadata": {},
   "source": [
    "<hr>"
   ]
  },
  {
   "cell_type": "markdown",
   "metadata": {},
   "source": [
    "### <font color = purple>**Bijection Function: One-to-one & Onto**</font>"
   ]
  },
  {
   "cell_type": "markdown",
   "metadata": {},
   "source": [
    "* A function which is <font color = #F02B6B><b>both</b></font> one-to-one and onto is called a <font color = #F02B6B><b>bijection</b></font> (or one-to-one correspondence).\n",
    "<br><br>\n",
    "* <span style=\"background-color: #F02B6B\">Example:</span> Which of the following functions (if any) defined below are bijections? Note that for both of them $f : \\mathbb{Z} \\to \\mathbb{Z}$.\n",
    "\n",
    "    1. $f(x) = x + 1$\n",
    "    2. $f(x) = x^2$"
   ]
  },
  {
   "cell_type": "markdown",
   "metadata": {},
   "source": [
    "<hr>"
   ]
  },
  {
   "cell_type": "markdown",
   "metadata": {},
   "source": [
    "### <font color = purple>**Inverse Function**</font>"
   ]
  },
  {
   "cell_type": "markdown",
   "metadata": {},
   "source": [
    "* Let $f$ be a bijection from $X$ to $Y$. The <font color = #F02B6B><b>inverse</b></font> function of $f$, denoted by $f^{-1}$, is te function that assigns to an element of $y \\in Y$ the unique element $x \\in X$ such that $f(x) = y$.<br><br>\n",
    "* In other words, $f^{-1}(y) = x$<br><br>\n",
    "* Note that $f^{-1} : Y \\to X$<br><br>\n",
    "* <span style=\"background-color: #F02B6B\">Be careful</span> $f^{-1}$ has <font color = #F02B6B><b>nothing</b></font> to do with $\\frac {1} {f}$."
   ]
  },
  {
   "cell_type": "markdown",
   "metadata": {},
   "source": [
    "### <font color = purple>**How to find the inverse function**</font>"
   ]
  },
  {
   "cell_type": "markdown",
   "metadata": {},
   "source": [
    "* Given a <font color = #F02B6B><b>bijection</b></font> $f(x)$. To find $f^{-1}(x)$ follow these three steps:<br><br>\n",
    "    <font color = #F02B6B><b>1.</b></font> Change $f(x)$ with $y$.<br>\n",
    "    <font color = #F02B6B><b>2.</b></font> Switch the $x$ and the $y$.<br>\n",
    "    <font color = #F02B6B><b>3.</b></font> Solve for $y$. This new $y$ is $f^{-1}$."
   ]
  },
  {
   "cell_type": "markdown",
   "metadata": {},
   "source": [
    "* Find $f^{-1}$, if possible, of the following functions:<br><br>\n",
    "    <font color = #F02B6B><b>1.</b></font> Let $f : a, b, c \\to 1, 2, 3$ with $f = (a, 2), (b, 3), (c, 1)$.<br>\n",
    "    <font color = #F02B6B><b>2.</b></font> Let $f : \\mathbb{Z} \\to \\mathbb{Z}$, with $f(x) = x + 1$<br>\n",
    "    <font color = #F02B6B><b>3.</b></font> Let $f : \\mathbb{Z} \\to \\mathbb{Z}$, with $f(x) = x^2$"
   ]
  },
  {
   "cell_type": "markdown",
   "metadata": {},
   "source": [
    "<hr>"
   ]
  },
  {
   "cell_type": "markdown",
   "metadata": {},
   "source": [
    "[More Exercises](http://webspace.ship.edu/deensley/DiscreteMath/flash/ch4/sec4_3/control_43.html)"
   ]
  },
  {
   "cell_type": "markdown",
   "metadata": {},
   "source": [
    "<hr>"
   ]
  }
 ],
 "metadata": {
  "kernelspec": {
   "display_name": "Python 3",
   "language": "python",
   "name": "python3"
  },
  "language_info": {
   "codemirror_mode": {
    "name": "ipython",
    "version": 3
   },
   "file_extension": ".py",
   "mimetype": "text/x-python",
   "name": "python",
   "nbconvert_exporter": "python",
   "pygments_lexer": "ipython3",
   "version": "3.7.3"
  },
  "nbTranslate": {
   "displayLangs": [
    "en",
    "pl"
   ],
   "hotkey": "alt-t",
   "langInMainMenu": true,
   "sourceLang": "pl",
   "targetLang": "en",
   "useGoogleTranslate": true
  }
 },
 "nbformat": 4,
 "nbformat_minor": 2
}
