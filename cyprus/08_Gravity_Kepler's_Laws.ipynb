{
 "cells": [
  {
   "cell_type": "markdown",
   "metadata": {},
   "source": [
    "# Gravity & Kepler's Laws"
   ]
  },
  {
   "cell_type": "markdown",
   "metadata": {},
   "source": [
    "### Import \"standard\" libraries"
   ]
  },
  {
   "cell_type": "code",
   "execution_count": null,
   "metadata": {},
   "outputs": [],
   "source": [
    "# Import libraries first\n",
    "%matplotlib inline\n",
    "import numpy as np\n",
    "import scipy.interpolate as interpol\n",
    "import matplotlib.pyplot as plt\n",
    "import matplotlib.colors as colors\n",
    "import matplotlib.cm as cmx\n",
    "\n",
    "import sys, logging, os, re\n",
    "import time\n",
    "\n",
    "# import seaborn as sns\n",
    "import scipy\n",
    "import scipy.io as sio\n",
    "from math import pi"
   ]
  },
  {
   "cell_type": "markdown",
   "metadata": {},
   "source": [
    "***\n",
    "## Contents\n",
    "\n",
    "- [Introduction](#Introduction)\n",
    "- [Kepler's laws of planetary motion](#Kepler's-laws-of-planetary-motion)\n",
    "    - [1st Law](#1st-Law)\n",
    "    - [2nd Law](#2nd-Law)\n",
    "    - [3rd Law](#3rd-Law)\n",
    "- [Toy Model of the Solar System](#Toy-Model-of-the-Solar-System)\n",
    "    "
   ]
  },
  {
   "cell_type": "markdown",
   "metadata": {
    "collapsed": true
   },
   "source": [
    "***\n",
    "## Introduction\n",
    "\n",
    "* 3rd Cen B.C. - Heliocentric model \n",
    "    * First  explicit argument for a Heliocentric model of the Solar System by Greek astronomer and mathematician Aristarchus of Samos.\n",
    "* 140 A.D. - Epicycles\n",
    "    * Presentation of  a physical realization of the universe as a set of nested spheres, in which he used the epicycles of his planetary model - by a Greco-Roman mathematician, astronomer Ptolemy of Alexandria. \n",
    "* 1543 - Copernicus\n",
    "    * Sun in the center, planets in circles around the sun\n",
    "    \n",
    "* 1600s\n",
    "    * Tycho Brahe: accurate observations\n",
    "    * Johannes Kepler: path of planets = ellipsis \n",
    "***"
   ]
  },
  {
   "cell_type": "markdown",
   "metadata": {},
   "source": [
    "## Kepler's laws of planetary motion\n",
    "\n",
    "In astronomy, Kepler's laws of planetary motion are three scientific laws describing the motion of planets around the Sun:\n",
    "\n",
    "1. The orbit of a planet is an ellipse with the Sun at one of the two foci.\n",
    "2. A line segment joining a planet and the Sun sweeps out equal areas during equal intervals of time.\n",
    "3. The square of the orbital period of a planet is proportional to the cube of the semi-major axis of its orbit.\n",
    "\n",
    "source: [Wikipedia](https://en.wikipedia.org/wiki/Kepler%27s_laws_of_planetary_motion)\n",
    "\n",
    "***\n"
   ]
  },
  {
   "cell_type": "markdown",
   "metadata": {},
   "source": [
    "### 1st Law\n",
    "### The orbit of a planet is an ellipse with the Sun at one of the two foci."
   ]
  },
  {
   "cell_type": "markdown",
   "metadata": {},
   "source": [
    "1.2. Cartesian equation\n",
    "$$\\frac {x^{2}}{a^{2}}+{\\frac {y^{2}}{b^{2}}}=1 $$ \n",
    "$$ y=\\pm {\\frac {b}{a}}{\\sqrt {a^{2}-x^{2}}}$$\n",
    "$$ \\text{focus:} \\quad c=\\pm \\sqrt{a^2-b^2} $$"
   ]
  },
  {
   "cell_type": "code",
   "execution_count": null,
   "metadata": {},
   "outputs": [],
   "source": [
    "# Cartesian equation\n",
    "\n",
    "a=1.       #semi-major axis \n",
    "b=0.75    #semi-minor axis\n",
    "\n",
    "c=np.sqrt(a**2-b**2)   # Focus of the ellipsis\n",
    "\n",
    "x = np.linspace(-1, 1, 100)   \n",
    "\n",
    "plt.plot( x, b/a*np.sqrt(a**2-x**2),'b')\n",
    "plt.plot( x, -b/a*np.sqrt(a**2-x**2),'g')\n",
    "plt.plot([c,-c],[0,0],'o')\n",
    "\n",
    "plt.axis('equal')\n",
    "plt.grid(color='lightgray',linestyle='--')\n",
    "plt.show()"
   ]
  },
  {
   "cell_type": "markdown",
   "metadata": {},
   "source": [
    "1.1. Parametric equation:\n",
    "$$ x = a \\cos{t} $$\n",
    "$$ y = b \\sin{t} $$\n",
    "$$ 0 \\ge t \\le 2\\pi $$\n",
    "$$ \\text{focus:} \\quad c=\\pm \\sqrt{a^2-b^2} $$\n"
   ]
  },
  {
   "cell_type": "code",
   "execution_count": null,
   "metadata": {},
   "outputs": [],
   "source": [
    "# Parametric equation\n",
    "a=1.     #radius on the x-axis\n",
    "b=0.75   #radius on the y-axis\n",
    "\n",
    "c=np.sqrt(a**2-b**2)\n",
    "\n",
    "t = np.linspace(0, 2*pi, 100)\n",
    "\n",
    "plt.plot( a*np.cos(t) , b*np.sin(t) )\n",
    "plt.plot([c,-c],[0,0],'o')\n",
    "\n",
    "plt.axis('equal')\n",
    "plt.grid(color='lightgray',linestyle='--')\n",
    "plt.show()"
   ]
  },
  {
   "cell_type": "markdown",
   "metadata": {},
   "source": [
    "### Interactive plot"
   ]
  },
  {
   "cell_type": "code",
   "execution_count": null,
   "metadata": {},
   "outputs": [],
   "source": [
    "from ipywidgets import interact, interactive\n",
    "from IPython.display import clear_output, display, HTML"
   ]
  },
  {
   "cell_type": "code",
   "execution_count": null,
   "metadata": {},
   "outputs": [],
   "source": [
    "def f(a, b):\n",
    "    plt.figure(figsize=(15,6))\n",
    "    \n",
    "    c=np.sqrt(a**2-b**2)\n",
    "\n",
    "    t = np.linspace(0, 2*pi, 100)\n",
    "\n",
    "    plt.plot( a*np.cos(t) , b*np.sin(t) )\n",
    "    plt.plot([c,-c],[0,0],'o')\n",
    "\n",
    "    plt.axis('equal')\n",
    "    plt.grid(color='lightgray',linestyle='--')"
   ]
  },
  {
   "cell_type": "code",
   "execution_count": null,
   "metadata": {},
   "outputs": [],
   "source": [
    "interactive_plot = interactive(f, a=(0.0,1.0,0.1), b=(0.0,1.0,0.1))\n",
    "output = interactive_plot.children[-1]\n",
    "# output.layout.height = '350px'\n",
    "interactive_plot"
   ]
  },
  {
   "cell_type": "markdown",
   "metadata": {},
   "source": [
    "***\n",
    "### 2nd Law\n",
    "### A line segment joining a planet and the Sun sweeps out equal areas during equal intervals of time.\n",
    "\n",
    "* [Flash Simulator](http://astro.unl.edu/classaction/animations/renaissance/kepler.html)\n",
    "\n",
    "<object classid=\"clsid:D27CDB6E-AE6D-11cf-96B8-444553540000\" width=\"900\" height=\"710\"><param name=\"movie\" value=\"kepler.swf\" /><!--[if !IE]>--><object type=\"application/x-shockwave-flash\" data=\"kepler.swf\" width=\"900\" height=\"710\"><!--<![endif]--><p>flash animation</p><!--[if !IE]>--></object><!--<![endif]--></object>"
   ]
  },
  {
   "cell_type": "markdown",
   "metadata": {},
   "source": [
    "\n",
    "<a href=\"http://astro.unl.edu/classaction/animations/renaissance/kepler.html\"><img src=\"http://astro.unl.edu/classaction/animations/renaissance/kepler.jpg\" alt=\"Planetary Orbit Simulator (NAAP)\" title=\"Planetary Orbit Simulator (NAAP)\" style=\"border-style: none\"/></a>"
   ]
  },
  {
   "cell_type": "markdown",
   "metadata": {},
   "source": [
    "<img src=\"Kepler-second-law.gif\" width=50%>"
   ]
  },
  {
   "cell_type": "code",
   "execution_count": null,
   "metadata": {},
   "outputs": [],
   "source": [
    "# Parametric equation\n",
    "a=1.     #radius on the x-axis\n",
    "b=0.85   #radius on the y-axis\n",
    "\n",
    "c=np.sqrt(a**2-b**2)\n",
    "\n",
    "t = np.linspace(0, 2*pi, 100)\n",
    "x = a*np.cos(t)\n",
    "y = b*np.sin(t)\n",
    "plt.plot( x, y ,label='Mercury')\n",
    "plt.plot([-c],[0],'o',label='Sun')\n",
    "plt.legend()\n",
    "plt.axis('equal')\n",
    "\n",
    "plt.grid(color='lightgray',linestyle='--')\n",
    "plt.plot([-c,x[2]],[0,y[2]],'g')\n",
    "plt.plot([-c,x[-2]],[0,y[-2]],'g')\n",
    "\n",
    "plt.plot([-c,x[55]],[0,y[55]],'r')\n",
    "plt.plot([-c,x[45]],[0,y[45]],'r')\n",
    "plt.show()"
   ]
  },
  {
   "cell_type": "markdown",
   "metadata": {},
   "source": [
    "***\n",
    "### 3rd Law\n",
    "### The square of the orbital period of a planet is proportional to the cube of the semi-major axis of its orbit.\n",
    "\n",
    "$$ T^2 \\propto r^3 $$\n",
    "\n",
    "<center>$T$: period of revolution</center>\n",
    "<center>$r$: mean distance between planet and the Sun</center>\n",
    "\n",
    "$$ T^2 = C r^3 $$\n",
    "\n",
    "<center>$C$: constant (same for all planets of the solar system)</center>"
   ]
  },
  {
   "cell_type": "markdown",
   "metadata": {},
   "source": [
    "<center>Data used by Kepler: </center>\n",
    "\n",
    "\n",
    "|Planet|Mean distance to sun [AU]|Period [days]|C|\n",
    "|------|-------------------------|-------------|\n",
    "|Mercury|\t0.389|\t87.77|\t7.64|\n",
    "|Venus|\t0.724|\t224.70|\t7.52|\n",
    "|Earth|\t1|\t365.25|\t7.50|\n",
    "|Mars|\t1.524|\t686.95|\t7.50|\n",
    "|Jupiter|\t5.2|\t4332.62|\t7.49|\n",
    "|Saturn|\t9.510|\t10759.2|\t7.43|\n"
   ]
  },
  {
   "cell_type": "code",
   "execution_count": null,
   "metadata": {},
   "outputs": [],
   "source": [
    "T=np.array([87.77,224.7,365.25,686.95,4332.62,10759.2])\n",
    "r=np.array([0.389,0.724,1,1.524,5.2,9.51])\n",
    "Planets=['Mercury','Venus','Earth','Mars','Jupiter','Saturn']"
   ]
  },
  {
   "cell_type": "code",
   "execution_count": null,
   "metadata": {},
   "outputs": [],
   "source": [
    "fig, (ax1,ax2) = plt.subplots(1,2,figsize=(15, 8),sharey=True)\n",
    "\n",
    "ax1.plot(T,r)\n",
    "ax1.plot(T,r,'bo')\n",
    "\n",
    "ax1.set_xscale('log')\n",
    "ax1.set_xlabel('Period-T (days)')\n",
    "ax1.set_ylabel('Log[Mean distance to Sun (AU)]')\n",
    "\n",
    "for i in range(0,T.size):\n",
    "    ax1.annotate(Planets[i],\n",
    "            xy=(T[i], r[i]), xycoords='data',\n",
    "            xytext=(0,25), textcoords='offset points',\n",
    "            arrowprops=dict(facecolor='red'),\n",
    "            horizontalalignment='center', verticalalignment='bottom')\n",
    "\n",
    "\n",
    "ax2.plot(T,r)\n",
    "ax2.plot(T,r,'bo')\n",
    "ax2.set_xlabel('Period-T (days)')\n",
    "ax2.set_ylabel('Mean distance to Sun (AU)')\n",
    "\n",
    "for i in range(0,T.size):\n",
    "    ax2.annotate(Planets[i],\n",
    "            xy=(T[i], r[i]), xycoords='data',\n",
    "            xytext=(0,25), textcoords='offset points',\n",
    "            arrowprops=dict(facecolor='red'),\n",
    "            horizontalalignment='center', verticalalignment='bottom')\n"
   ]
  },
  {
   "cell_type": "markdown",
   "metadata": {},
   "source": [
    "<center>Modern data <center>\n",
    "\n",
    "|Planet|Mean distance to sun [AU]|Period [days]|C|\n",
    "|------|-------------------------|-------------|\n",
    "|Mercury|0.38710|87.9693|7.496|\n",
    "|Venus  |\t0.72333|224.7008|\t7.496|\n",
    "|Earth  |\t1|\t365.2564|\t7.496|\n",
    "|Mars   |1.52366|\t686.9796|\t7.495|\n",
    "|Jupiter|5.20336|\t4332.8201|\t7.504|\n",
    "|Saturn |9.53707|\t10775.599|\t7.498|\n",
    "|Uranus |19.1913|\t30687.153|\t7.506|\n",
    "|Neptune|30.0690|\t60190.03|\t7.504|"
   ]
  },
  {
   "cell_type": "code",
   "execution_count": null,
   "metadata": {},
   "outputs": [],
   "source": [
    "T_new=np.array([87.9993,224.7008,365.2564,686.9796,4332.8201,10775.599,30687.153,60190.03])\n",
    "r_new=np.array([0.38710,0.72333,1,1.52366,5.20336,9.53707,19.1913,30.0690])\n",
    "Planets_new=['Mercury','Venus','Earth','Mars','Jupiter','Saturn','Uranus','Neptune']"
   ]
  },
  {
   "cell_type": "code",
   "execution_count": null,
   "metadata": {},
   "outputs": [],
   "source": [
    "fig, (ax1,ax2) = plt.subplots(1,2,figsize=(15, 8),sharey=True)\n",
    "\n",
    "ax1.plot(T_new,r_new)\n",
    "ax1.plot(T_new,r_new,'bo')\n",
    "\n",
    "ax1.set_xscale('log')\n",
    "ax1.set_xlabel('Period-T (days)')\n",
    "ax1.set_ylabel('Log[Mean distance to Sun (AU)]')\n",
    "\n",
    "for i in range(0,T_new.size):\n",
    "    ax1.annotate(Planets_new[i],\n",
    "            xy=(T_new[i], r_new[i]), xycoords='data',\n",
    "            xytext=(0,25), textcoords='offset points',\n",
    "            arrowprops=dict(facecolor='red'),\n",
    "            horizontalalignment='center', verticalalignment='bottom')\n",
    "\n",
    "\n",
    "ax2.plot(T_new,r_new)\n",
    "ax2.plot(T_new,r_new,'bo')\n",
    "ax2.set_xlabel('Period-T (days)')\n",
    "ax2.set_ylabel('Mean distance to Sun (AU)')\n",
    "\n",
    "for i in range(0,T_new.size):\n",
    "    ax2.annotate(Planets_new[i],\n",
    "            xy=(T_new[i], r_new[i]), xycoords='data',\n",
    "            xytext=(0,25), textcoords='offset points',\n",
    "            arrowprops=dict(facecolor='red'),\n",
    "\n",
    "                 horizontalalignment='center', verticalalignment='bottom')"
   ]
  },
  {
   "cell_type": "code",
   "execution_count": null,
   "metadata": {},
   "outputs": [],
   "source": []
  }
 ],
 "metadata": {
  "kernelspec": {
   "display_name": "Python 3",
   "language": "python",
   "name": "python3"
  },
  "language_info": {
   "codemirror_mode": {
    "name": "ipython",
    "version": 3
   },
   "file_extension": ".py",
   "mimetype": "text/x-python",
   "name": "python",
   "nbconvert_exporter": "python",
   "pygments_lexer": "ipython3",
   "version": "3.7.3"
  },
  "nbTranslate": {
   "displayLangs": [
    "en",
    "pl"
   ],
   "hotkey": "alt-t",
   "langInMainMenu": true,
   "sourceLang": "pl",
   "targetLang": "en",
   "useGoogleTranslate": true
  }
 },
 "nbformat": 4,
 "nbformat_minor": 2
}
