{
 "cells": [
  {
   "cell_type": "markdown",
   "metadata": {},
   "source": [
    "# Newton's Law of Gravity"
   ]
  },
  {
   "cell_type": "markdown",
   "metadata": {},
   "source": [
    "### Import \"standard\" libraries"
   ]
  },
  {
   "cell_type": "code",
   "execution_count": null,
   "metadata": {},
   "outputs": [],
   "source": [
    "# Import libraries first\n",
    "%matplotlib inline\n",
    "import numpy as np\n",
    "import scipy.interpolate as interpol\n",
    "import matplotlib.pyplot as plt\n",
    "import matplotlib.colors as colors\n",
    "import matplotlib.cm as cmx\n",
    "\n",
    "import sys, logging, os, re\n",
    "import time\n",
    "\n",
    "# import seaborn as sns\n",
    "import scipy\n",
    "import scipy.io as sio\n",
    "from math import pi"
   ]
  },
  {
   "cell_type": "markdown",
   "metadata": {},
   "source": [
    "***\n",
    "## Contents\n",
    "\n",
    "- [Introduction](#Introduction)\n",
    "- [Newton's law of universal gravitation](#Newton's-law-of-universal-gravitation)\n",
    "    - [Part 1](#Part-1)\n",
    "    - [Part 2](#Part-2)\n",
    "    - [Part 3](#Part-3)\n",
    "- [Exercise 1](#Exercise-1)\n",
    "- [Exercise 2](#Exercise-2)\n",
    "- [Exercise 3](#Exercise-3)\n",
    "- [Escaping Earth](#Escaping-Earth)"
   ]
  },
  {
   "cell_type": "markdown",
   "metadata": {
    "collapsed": true
   },
   "source": [
    "***\n",
    "## Introduction\n",
    "\n",
    "* 3rd Cen B.C. - Heliocentric model \n",
    "    * First  explicit argument for a Heliocentric model of the Solar System by Greek astronomer and mathematician Aristarchus of Samos.\n",
    "* 140 A.D. - Epicycles\n",
    "    * Presentation of  a physical realization of the universe as a set of nested spheres, in which he used the epicycles of his planetary model - by a Greco-Roman mathematician, astronomer Ptolemy of Alexandria. \n",
    "* 1543 - Copernicus\n",
    "    * Sun in the center, planets in circles around the sun\n",
    "    \n",
    "* 1600s\n",
    "    * Tycho Brahe: accurate observations\n",
    "    * Johannes Kepler: path of planets = ellipsis \n",
    "    \n",
    "* **1686** \n",
    "    * ** Sir Isaac Newton on 5 July 1686 published Philosophiæ Naturalis Principia Mathematica (\"the Principia\"). **\n",
    "    \n",
    "<img src=\"https://upload.wikimedia.org/wikipedia/commons/thumb/1/17/Prinicipia-title.png/800px-Prinicipia-title.png\" width=20%>    \n",
    "    \n",
    "***"
   ]
  },
  {
   "cell_type": "markdown",
   "metadata": {},
   "source": [
    "## Newton's law of universal gravitation\n",
    "\n",
    "* Every body exerts an attractive force to every other body that is proportional to the mass of the two bodies, and inversively proportional to the square ot the separation distance between the bodies.\n",
    "\n",
    "* **Modern form:** Every point mass attracts every single other point mass by a force pointing along the line intersecting both points. The force is proportional to the product of the two masses and inversely proportional to the square of the distance between them\n",
    "\n",
    "<img src=\"https://upload.wikimedia.org/wikipedia/commons/thumb/0/0e/NewtonsLawOfUniversalGravitation.svg/400px-NewtonsLawOfUniversalGravitation.svg.png\">\n",
    "\n",
    "Equation:\n",
    "$$ F=G \\cdot \\frac{m_1 \\cdot m_2}{r^2}$$\n",
    "\n",
    "where $ G=6.67 \\cdot 10^{-11} \\frac{N \\cdot m^2}{kg^2}$ is the Universal Graviational Constant.\n",
    "\n",
    "\n",
    "source: [Wikipedia](https://en.wikipedia.org/wiki/Newton%27s_law_of_universal_gravitation)\n",
    "\n",
    "***\n"
   ]
  },
  {
   "cell_type": "markdown",
   "metadata": {},
   "source": [
    "### Part 1\n",
    "\n",
    "When an object (eg. planet) moves about a force center (eg. Sun) to which it is attracted by a force $F \\propto \\frac{1}{r^2}$, then the path will be:\n",
    "* Parabola $\\rightarrow$ open orbit (one pass, never again)\n",
    "* Hyberbola $\\rightarrow$ open orbit (one pass, never again)\n",
    "* Ellipsis $\\rightarrow$ close orbit\n",
    "\n",
    "<center>** $\\Rightarrow$ 1st Law of Keper **</center>"
   ]
  },
  {
   "cell_type": "code",
   "execution_count": null,
   "metadata": {},
   "outputs": [],
   "source": [
    "x = np.linspace(-9, 9, 400)\n",
    "y = np.linspace(-5, 5, 400)\n",
    "x, y = np.meshgrid(x, y)\n",
    "def axes():\n",
    "    plt.figure(figsize=(16,8))\n",
    "    plt.axhline(0, alpha=.5,color='k')\n",
    "    plt.axvline(0, alpha=.5,color='k')\n",
    "    plt.axis('equal')\n",
    "    plt.grid(color='lightgray',linestyle='--')\n",
    "    plt.xlim([-5,5])\n",
    "    plt.ylim([-2.5,2.5])\n"
   ]
  },
  {
   "cell_type": "code",
   "execution_count": null,
   "metadata": {},
   "outputs": [],
   "source": [
    "a = .5\n",
    "axes()\n",
    "plt.contour(x, y, (y**2 - 4*a*x), [0], alpha=1., colors='#ff7f0e')\n",
    "\n",
    "# Focus.\n",
    "plt.plot(a, 0, '.',label='Focus')\n",
    "# Directrix.\n",
    "plt.axvline(-a,linestyle='--',label='Directrix')\n",
    "\n",
    "plt.title(\"Parabola\")\n",
    "plt.legend()\n",
    "plt.show()\n"
   ]
  },
  {
   "cell_type": "code",
   "execution_count": null,
   "metadata": {},
   "outputs": [],
   "source": [
    "a = 2.\n",
    "b = 1.\n",
    "axes()\n",
    "plt.contour(x, y,(x**2/a**2 - y**2/b**2), [1], colors='#ff7f0e', alpha=1.)\n",
    "# Eccentricity.\n",
    "e = np.sqrt(1 + b**2/a**2)\n",
    "# Foci.\n",
    "plt.plot(-a*e, 0, '.',color='#1f77b4',label='Focus')\n",
    "plt.plot(a*e, 0, '.',color='#1f77b4')\n",
    "\n",
    "# Directrices.\n",
    "plt.axvline(a/e,linestyle='--',label='Directrix',color='#1f77b4')\n",
    "plt.axvline(-a/e,linestyle='--',color='#1f77b4')\n",
    "# Asymptotes.\n",
    "plt.plot(x[0,:], b/a*x[0,:], ':',label='Asymptotes',color='#2ca02c')\n",
    "plt.plot(x[0,:], -b/a*x[0,:], ':',color='#2ca02c')\n",
    "\n",
    "\n",
    "plt.title(\"Hyperbola\")\n",
    "plt.legend()\n",
    "plt.show()"
   ]
  },
  {
   "cell_type": "code",
   "execution_count": null,
   "metadata": {},
   "outputs": [],
   "source": [
    "a = 3.\n",
    "b = 2.\n",
    "c=np.sqrt(a**2-b**2)\n",
    "axes()\n",
    "plt.contour(x, y,(x**2/a**2 + y**2/b**2), [1], colors='#ff7f0e')\n",
    "plt.plot(-c, 0, '.',color='#1f77b4',label='Focus')\n",
    "plt.plot(c, 0, '.',color='#1f77b4')\n",
    "\n",
    "plt.title(\"Ellipsis\")\n",
    "plt.legend()\n",
    "plt.show()"
   ]
  },
  {
   "cell_type": "markdown",
   "metadata": {},
   "source": [
    "***\n",
    "### Part 2\n",
    "\n",
    "* **Modern form:** Every point mass attracts every single other point mass by a force **pointing along the line intersecting both points (=central force)**. The force is proportional to the product of the two masses and inversely proportional to the square of the distance between them\n",
    "\n",
    "\n",
    "* The Force of Gravity - $F_g$ is a central force, hence the net torque -$\\tau_{net}$ is zero and the Angular Momentum -$L$ is covserved:\n",
    "\n",
    "$$\\tau_{net}=0 \\quad \\Rightarrow  L=\\text{constant}$$\n",
    "\n",
    "\n",
    "* Angular Momentum, Inertia, Angular Velocity: $\\qquad L= I\\cdot \\omega = m \\cdot r^2 \\cdot \\omega$\n",
    "* Perpendicular (Linear) Velocity: $\\qquad \\qquad \\qquad \\quad v_p= r \\cdot \\omega = \\frac{\\Delta x}{\\Delta t}$\n",
    "* Angular Momentum, Linear Velocity: $\\qquad \\qquad \\quad L= m \\cdot r \\cdot v_p$\n",
    "\n",
    "* Angular Momentum, Linear Velocity: $\\qquad \\qquad \\quad \\frac{L}{m} =  r \\cdot v_p$"
   ]
  },
  {
   "cell_type": "code",
   "execution_count": null,
   "metadata": {},
   "outputs": [],
   "source": [
    "a=1.     #radius on the x-axis\n",
    "b=0.75   #radius on the y-axis\n",
    "c=np.sqrt(a**2-b**2)\n",
    "t = np.linspace(0, 2*pi, 100)\n",
    "x = a*np.cos(t)\n",
    "y = b*np.sin(t)\n",
    "\n",
    "plt.figure(figsize=(15,6))\n",
    "plt.annotate('$v_p$',xy=(1.,.15), xycoords='data',xytext=(0,-45), textcoords='offset points',\n",
    "             arrowprops=dict(facecolor='green',alpha=0.75),horizontalalignment='left', verticalalignment='bottom')\n",
    "\n",
    "plt.plot( x, y ,label='planet m2 orbit')\n",
    "plt.plot( x[0], y[0] ,'bo',label='planet m2')\n",
    "plt.plot([-c],[0],'o',label='Star M1')\n",
    "plt.fill([-c,x[0],x[2],-c],[0,y[0],y[2],0], zorder=10,facecolor='red',alpha=0.6,label='$\\Delta A=$ Sweeped area in $\\Delta t$',edgecolor='blue')\n",
    "plt.fill([-c,x[0],x[2],-c],[0,0,y[2],y[2]], zorder=10,facecolor='grey',alpha=0.5,label='Rectangular Area',edgecolor='blue')\n",
    "\n",
    "plt.grid(color='lightgray',linestyle='--')\n",
    "plt.legend()\n",
    "plt.axis('equal')\n",
    "plt.show()"
   ]
  },
  {
   "cell_type": "markdown",
   "metadata": {},
   "source": [
    "* $\\text{Rectangular Area} = 2 \\cdot \\text{Sweeped area in } \\Delta t$\n",
    "\n",
    "\n",
    "* $ \\qquad \\quad r \\cdot v_p \\cdot \\Delta t = 2 \\cdot \\Delta A $\n",
    "\n",
    "\n",
    "* $ \\qquad \\qquad  \\quad \\Delta A = \\frac{1}{2} \\cdot  r \\cdot v_p \\cdot \\Delta t  $\n",
    "\n",
    "\n",
    "* $ \\qquad \\qquad  \\quad  \\frac{\\Delta A}{\\Delta t}=\\frac{1}{2} \\cdot r \\cdot v_p = \\frac{1}{2} \\cdot \\frac{L}{m}=\\frac{L}{2m}$ \n",
    "\n",
    "$$ \\Rightarrow \\frac{\\Delta A}{\\Delta t}=\\frac{L}{2m} $$\n",
    "\n",
    "* If the Angular Momentum -$L$ is constant, then $\\frac{\\Delta A}{\\Delta t}$ is constant as well.\n",
    "\n",
    "* The planet $m_1$ sweeps equal areas in equal times! <center>** $\\Rightarrow$ 2nd Law of Keper **</center>\n"
   ]
  },
  {
   "cell_type": "markdown",
   "metadata": {},
   "source": [
    "*** \n",
    "### Part 3\n",
    "\n",
    "* Asssuming motion of a planet of mass - $m_p$ in circular orbit or radius - $r$ around the Sun - $M_{\\odot} or M_s$:\n",
    "\n",
    "\n",
    "* We estimate the centripetal force - $F_{c}$:\n",
    "$$ F_{c} = \\frac{m_p \\cdot v^2}{r} $$\n",
    "\n",
    "\n",
    "* We estimate Newton's gravitational force $F_{g}$\n",
    "$$ F_{g} = G \\cdot \\frac{M_{\\odot} \\cdot m_p}{r^2}$$\n",
    "\n",
    "\n",
    "* And we equalize them:\n",
    "$$ F_{g} = F_{c}$$\n",
    "$$ G \\cdot \\frac{M_{\\odot} \\cdot m_p}{r^2}= \\frac{m_p \\cdot v^2}{r}$$\n",
    "\n",
    "\n",
    "* We end up with an equation for the velocity:\n",
    "$$ v^2= \\frac{G \\cdot M_{\\odot}}{r}$$\n",
    "\n",
    "\n",
    "* From the assumption of circular motion we have another equation for the velocity (as a function of the period -$T$):\n",
    "$$ v= \\frac{2 \\cdot \\pi \\cdot r}{T}$$\n",
    "\n",
    "\n",
    "* By combining the velocity equations from above:\n",
    "$$ [ \\frac{2 \\cdot \\pi \\cdot r}{T} ]^2=\\frac{G \\cdot M_{\\odot}}{r}$$\n",
    "\n",
    "\n",
    "* We re-arrange the parameters:\n",
    "$$ \\Rightarrow \\frac{4 \\cdot \\pi^2 \\cdot r^2}{T^2} =\\frac{G \\cdot M_{\\odot}}{r}$$\n",
    "\n",
    "\n",
    "* Finally, we arrived at the final equation:\n",
    "$$ \\Rightarrow T^2 = \\frac{4 \\cdot \\pi^2}{G \\cdot M_{\\odot}} \\cdot r^3$$ \n",
    "\n",
    "\n",
    "<center>** $\\Rightarrow$ 3rd Law of Kepler **</center>"
   ]
  },
  {
   "cell_type": "markdown",
   "metadata": {
    "collapsed": true
   },
   "source": [
    "### Exercise 1\n",
    "\n",
    "Mars has a satellite with a period $T=460$ minutes and a mean orbit of radius $r_s=9.4$ Million meters. What is the mass of Mars - $M_{mars}=?$  "
   ]
  },
  {
   "cell_type": "code",
   "execution_count": null,
   "metadata": {},
   "outputs": [],
   "source": [
    "\n",
    "def M_mars(T,r):\n",
    "    pass\n",
    "### BEGIN SOLUTION\n",
    "def M_mars(T,r):\n",
    "    M = None\n",
    "    G = 6.67*10**(-11)    \n",
    "    M = 4*np.pi**2*r**3/G/T**2 #kg\n",
    "    return M\n",
    "### END SOLUTION\n",
    "\n"
   ]
  },
  {
   "cell_type": "code",
   "execution_count": null,
   "metadata": {},
   "outputs": [],
   "source": [
    "T = 460*60 #seconds\n",
    "r = 9.4*10**6 #meters"
   ]
  },
  {
   "cell_type": "code",
   "execution_count": null,
   "metadata": {},
   "outputs": [],
   "source": [
    "print(M_mars(T,r)) #kg"
   ]
  },
  {
   "cell_type": "code",
   "execution_count": null,
   "metadata": {},
   "outputs": [],
   "source": [
    "np.testing.assert_allclose( M_mars(T,r), 6.453559e+23, rtol=1e-3) "
   ]
  },
  {
   "cell_type": "code",
   "execution_count": null,
   "metadata": {},
   "outputs": [],
   "source": [
    "np.testing.assert_allclose( M_mars(1e6,1.191),1, rtol=1e-3) "
   ]
  },
  {
   "cell_type": "markdown",
   "metadata": {
    "collapsed": true
   },
   "source": [
    "### Exercise 2\n",
    "\n",
    "What is the free-fall acceleration - $g$ of a body -$m$, which is 200 km above Earth's surface? "
   ]
  },
  {
   "cell_type": "markdown",
   "metadata": {},
   "source": [
    "Answer tip: Provide in Latex format the equations, and show how you derive the final equation used for the solution"
   ]
  },
  {
   "cell_type": "code",
   "execution_count": null,
   "metadata": {},
   "outputs": [],
   "source": [
    "### BEGIN SOLUTION\n",
    "r=9.4*10**6 #meters\n",
    "G=6.67*10**(-11)\n",
    "Me=5.98*10**24 #kg\n",
    "re=6370*10**3 #m\n",
    "rextra=1 #m\n",
    "\n",
    "def g(rextra):\n",
    "    return G*Me/(re+rextra)**2\n",
    "### END SOLUTION"
   ]
  },
  {
   "cell_type": "code",
   "execution_count": null,
   "metadata": {},
   "outputs": [],
   "source": [
    "print(g(200*10**3)) #m/s^2"
   ]
  },
  {
   "cell_type": "markdown",
   "metadata": {
    "collapsed": true
   },
   "source": [
    "### Exercise 3\n",
    "\n",
    "A satelliste orbits Earth in a circular orbit. Find its period:\n",
    "1. if the satellite is just above the surface of the Earth (neglect air resistance)\n",
    "2. the satellite is at an altitude of 300km (eg. [ISS](https://en.wikipedia.org/wiki/International_Space_Station))"
   ]
  },
  {
   "cell_type": "markdown",
   "metadata": {
    "collapsed": true
   },
   "source": [
    "***\n",
    "## Escaping Earth\n",
    "\n",
    "* Conservation of Energy:\n",
    "$$ \\frac{1}{2} \\cdot m \\cdot v^2 = m \\cdot g \\cdot h $$\n",
    "$$ v^2 = 2 \\cdot g \\cdot h $$\n",
    "\n",
    "* g: gravitational field, assumed to be uniform when close to Earth's surface.\n",
    "\n",
    "\n",
    "* Newton's Law of Gravity:\n",
    "$$ F_{g} = G \\cdot \\frac{M \\cdot m}{r^2}$$\n",
    "$$ g \\propto \\frac{1}{r^2} $$"
   ]
  },
  {
   "cell_type": "code",
   "execution_count": null,
   "metadata": {},
   "outputs": [],
   "source": [
    "plt.figure(figsize=(15,6))\n",
    "r=np.linspace(0.1,10,100)\n",
    "plt.plot(1+r,1/r,label='$F=f(r)$')\n",
    "plt.plot([1,1],[0,4],'--',label='$R_e$')\n",
    "plt.plot([2.0,2.0],[0,1.5],'r:')\n",
    "plt.plot([0,2.5],[1,1],'r:')\n",
    "\n",
    "plt.xlabel('Distance (r)')\n",
    "plt.ylabel('F(r)')\n",
    "plt.xlim(0,5)\n",
    "plt.ylim(0,4)\n",
    "plt.tick_params(axis='y',which='both',bottom='off',top='off',right='off',left='off',labelleft='off')\n",
    "\n",
    "x = [0,1,2]\n",
    "labels = ['0','$R_E$', 'r']\n",
    "plt.xticks(x, labels, rotation='horizontal')\n",
    "\n",
    "plt.legend()\n",
    "plt.show()"
   ]
  }
 ],
 "metadata": {
  "kernelspec": {
   "display_name": "Python 3",
   "language": "python",
   "name": "python3"
  },
  "language_info": {
   "codemirror_mode": {
    "name": "ipython",
    "version": 3
   },
   "file_extension": ".py",
   "mimetype": "text/x-python",
   "name": "python",
   "nbconvert_exporter": "python",
   "pygments_lexer": "ipython3",
   "version": "3.7.3"
  },
  "nbTranslate": {
   "displayLangs": [
    "en",
    "pl"
   ],
   "hotkey": "alt-t",
   "langInMainMenu": true,
   "sourceLang": "pl",
   "targetLang": "en",
   "useGoogleTranslate": true
  },
  "toc": {
   "base_numbering": 1,
   "nav_menu": {},
   "number_sections": true,
   "sideBar": true,
   "skip_h1_title": false,
   "title_cell": "Table of Contents",
   "title_sidebar": "Contents",
   "toc_cell": false,
   "toc_position": {},
   "toc_section_display": true,
   "toc_window_display": false
  }
 },
 "nbformat": 4,
 "nbformat_minor": 2
}
