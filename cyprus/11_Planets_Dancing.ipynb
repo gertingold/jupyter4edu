{
 "cells": [
  {
   "cell_type": "markdown",
   "metadata": {},
   "source": [
    "# Planets Dancing"
   ]
  },
  {
   "cell_type": "markdown",
   "metadata": {},
   "source": [
    "> Inspired by the following video which went viral a couple of years ago on social media, in this notebook we aim to expore the artistic character of our solar system."
   ]
  },
  {
   "cell_type": "code",
   "execution_count": null,
   "metadata": {},
   "outputs": [],
   "source": [
    "from IPython.lib.display import YouTubeVideo\n",
    "YouTubeVideo('aS95M39zjLE')\n",
    "# https://www.youtube.com/watch?v=aS95M39zjLE"
   ]
  },
  {
   "cell_type": "markdown",
   "metadata": {},
   "source": [
    "> The idea is to map the orbits of any two planets of our solar system and trace the connecting line in each step of the orbits, hence revealing an patern diagram unique for each pair of planets."
   ]
  },
  {
   "cell_type": "code",
   "execution_count": null,
   "metadata": {},
   "outputs": [],
   "source": [
    "# Import the necessary libraries \n",
    "import numpy as np\n",
    "import matplotlib.pyplot as plt\n",
    "%matplotlib inline\n",
    "from astropy.visualization import make_lupton_rgb\n",
    "from astropy.io import fits\n",
    "from astropy.utils.data import get_pkg_data_filename\n",
    "\n",
    "import astropy\n",
    "import os\n",
    "import time\n",
    "\n",
    "import pandas as pd\n",
    "\n",
    "import ipywidgets as widgets\n",
    "from IPython.display import display"
   ]
  },
  {
   "cell_type": "markdown",
   "metadata": {},
   "source": [
    "> We got the planet's data/facts from NASA's following webpage:\n",
    "\n",
    "> https://nssdc.gsfc.nasa.gov/planetary/factsheet/planet_table_ratio.html"
   ]
  },
  {
   "cell_type": "code",
   "execution_count": null,
   "metadata": {},
   "outputs": [],
   "source": [
    "# Create DataFrame \n",
    "Planets=['MERCURY','VENUS','EARTH','MARS','JUPITER','SATURN','URANUS','NEPTUNE','PLUTO']\n",
    "R=[0.387,0.723,1.,1.52,5.20,9.58,19.20,30.05,39.48]\n",
    "P=[0.241,0.615,1.,1.88,11.9,29.4,83.7,163.7,247.9]\n",
    "\n",
    "data = {'Name':Planets, 'Radius':R, 'Period':P} \n",
    "\n",
    "df = pd.DataFrame(data) "
   ]
  },
  {
   "cell_type": "code",
   "execution_count": null,
   "metadata": {},
   "outputs": [],
   "source": [
    "df"
   ]
  },
  {
   "cell_type": "markdown",
   "metadata": {},
   "source": [
    "## Select the two planets:"
   ]
  },
  {
   "cell_type": "code",
   "execution_count": null,
   "metadata": {},
   "outputs": [],
   "source": [
    "pi1=widgets.Dropdown(\n",
    "    options=[('MERCURY', 1), ('VENUS', 2), ('EARTH', 3), ('MARS', 4), ('JUPITER', 5), ('SATURN', 6), ('URANUS', 7), ('NEPTUNE', 8), ('PLUTO', 9)],\n",
    "    value=2,\n",
    "    description='Planet 1:',)\n",
    "\n",
    "pi2=widgets.Dropdown(\n",
    "    options=[('MERCURY', 1), ('VENUS', 2), ('EARTH', 3), ('MARS', 4), ('JUPITER', 5), ('SATURN', 6), ('URANUS', 7), ('NEPTUNE', 8), ('PLUTO', 9)],\n",
    "    value=3,\n",
    "    description='Planet 2:',)\n",
    "display(pi1,pi2)"
   ]
  },
  {
   "cell_type": "markdown",
   "metadata": {},
   "source": [
    "## Select the time intervals:"
   ]
  },
  {
   "cell_type": "code",
   "execution_count": null,
   "metadata": {},
   "outputs": [],
   "source": [
    "dtt=widgets.IntSlider(\n",
    "    value=750,\n",
    "    min=500,\n",
    "    max=1000,\n",
    "    step=50,\n",
    "    description='Time Intervals:',\n",
    "    disabled=False,\n",
    "    continuous_update=False,\n",
    "    orientation='horizontal',\n",
    "    readout=True,\n",
    "    readout_format='d')\n",
    "display(dtt)"
   ]
  },
  {
   "cell_type": "markdown",
   "metadata": {},
   "source": [
    "## Plot the resulted dance:"
   ]
  },
  {
   "cell_type": "code",
   "execution_count": null,
   "metadata": {},
   "outputs": [],
   "source": [
    "tmax=100.\n",
    "dt=dtt.value\n",
    "t=np.linspace(0.,tmax,dt)\n",
    "\n",
    "i1=pi1.value-1\n",
    "i2=pi2.value-1\n",
    "\n",
    "R1=df.loc[i1, 'Radius']\n",
    "P1=df.loc[i1, 'Period']\n",
    "\n",
    "x1=R1*np.sin(2*np.pi*t*P1)\n",
    "y1=R1*np.cos(2*np.pi*t*P1)\n",
    "\n",
    "R2=df.loc[i2]['Radius']\n",
    "P2=df.loc[i2]['Period']\n",
    "\n",
    "x2=R2*np.sin(2*np.pi*t*P2)\n",
    "y2=R2*np.cos(2*np.pi*t*P2)\n",
    "\n",
    "plt.figure(figsize=(10,10))\n",
    "plt.plot(x1,y1,'bo')\n",
    "plt.plot(x2,y2,'ro')\n",
    "plt.axis('equal')\n",
    "\n",
    "for i in range(dt):\n",
    "    plt.plot([x1[i],x2[i]],[y1[i],y2[i]],'k-',alpha=0.5)\n",
    "\n",
    "plt.plot(x1,y1,'bo',label=df.loc[i1]['Name'])\n",
    "plt.plot(x2,y2,'ro',label=df.loc[i2]['Name'])\n",
    "plt.plot([0],[0],'yo',markersize=20,label='Sun')\n",
    "plt.legend()\n",
    "plt.axis('off');"
   ]
  },
  {
   "cell_type": "code",
   "execution_count": null,
   "metadata": {},
   "outputs": [],
   "source": []
  }
 ],
 "metadata": {
  "kernelspec": {
   "display_name": "Python 3",
   "language": "python",
   "name": "python3"
  },
  "language_info": {
   "codemirror_mode": {
    "name": "ipython",
    "version": 3
   },
   "file_extension": ".py",
   "mimetype": "text/x-python",
   "name": "python",
   "nbconvert_exporter": "python",
   "pygments_lexer": "ipython3",
   "version": "3.7.3"
  },
  "nbTranslate": {
   "displayLangs": [
    "en",
    "pl"
   ],
   "hotkey": "alt-t",
   "langInMainMenu": true,
   "sourceLang": "pl",
   "targetLang": "en",
   "useGoogleTranslate": true
  }
 },
 "nbformat": 4,
 "nbformat_minor": 2
}
