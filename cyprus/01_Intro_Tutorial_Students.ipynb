{
 "cells": [
  {
   "cell_type": "markdown",
   "metadata": {},
   "source": [
    "# Introduction to Python + Jupyter Notebook\n",
    "## Part of Jupyter@edu project (Erasmus+)"
   ]
  },
  {
   "cell_type": "code",
   "execution_count": null,
   "metadata": {},
   "outputs": [],
   "source": [
    "# lksfmgvksf\n",
    "print('Hello')"
   ]
  },
  {
   "cell_type": "markdown",
   "metadata": {},
   "source": [
    "## Python \n",
    "\n",
    "<img src=\"https://upload.wikimedia.org/wikipedia/commons/thumb/f/f8/Python_logo_and_wordmark.svg/200px-Python_logo_and_wordmark.svg.png\" align=right>\n",
    "\n",
    "* https://www.python.org/\n",
    "* Interpreted \n",
    "* High-level programming language \n",
    "* Object-oriented\n",
    "* Python's large standard library (one of its greatest strengths).\n",
    "    * Libraries such as [NumPy](http://www.numpy.org/), [SciPy](https://www.scipy.org/) and [Matplotlib](https://matplotlib.org/) allow the effective use of Python in scientific computing.\n",
    "* User friendly online tutorial/courses: [DataCamp](https://www.datacamp.com/home)"
   ]
  },
  {
   "cell_type": "markdown",
   "metadata": {},
   "source": [
    "## Jupyter Notebook\n",
    "<img src=\"http://jupyter.org/assets/nav_logo.svg\" align=right>\n",
    "\n",
    "* http://jupyter.org/\n",
    "* Interactive computing environment that enables users to make notebooks that include:\n",
    " * Live code\n",
    " * Interactive widgets\n",
    " * Plots\n",
    " * Narrative text\n",
    " * Equations\n",
    " * Images\n",
    " * Video\n",
    "* My personal favorite feature: coding within the web-browser -> [Googling](http://www.google.com)"
   ]
  },
  {
   "cell_type": "markdown",
   "metadata": {},
   "source": [
    "> ### Narrative Text:\n",
    "> \n",
    "> Simple text like this...\n",
    "> \n",
    "> Or enriched text, like url links:\n",
    ">   * [Jupyter Notebook Docs](http://jupyter-notebook.readthedocs.io/en/stable/index.html)\n",
    ">   * [matplotlib's website](https://matplotlib.org/gallery.html)\n",
    "> \n",
    "> More details go to [Markdown Cells dcos](http://jupyter-> notebook.readthedocs.io/en/stable/examples/Notebook/Working%20With%20Markdown%20Cells.html)\n"
   ]
  },
  {
   "cell_type": "markdown",
   "metadata": {},
   "source": [
    ">### Equations like $\\LaTeX$:\n",
    ">\n",
    ">For inline equations use this example:         $e^{i\\pi} + 1 = 0$\n",
    "> \n",
    ">Or this example:  $$e^x=\\sum_{i=0}^\\infty \\frac{1}{i!}x^i$$"
   ]
  },
  {
   "cell_type": "markdown",
   "metadata": {},
   "source": [
    ">### Images:\n",
    "> <img src=\"https://mariscribbles.files.wordpress.com/2010/04/phd042800s.gif?w=634\">"
   ]
  },
  {
   "cell_type": "markdown",
   "metadata": {},
   "source": [
    ">### Videos:"
   ]
  },
  {
   "cell_type": "code",
   "execution_count": null,
   "metadata": {},
   "outputs": [],
   "source": [
    "from IPython.lib.display import YouTubeVideo\n",
    "YouTubeVideo('k7WXVWej-NY')"
   ]
  },
  {
   "cell_type": "markdown",
   "metadata": {},
   "source": [
    ">### Live Code:"
   ]
  },
  {
   "cell_type": "markdown",
   "metadata": {},
   "source": [
    "* ### Import Python Libraries"
   ]
  },
  {
   "cell_type": "code",
   "execution_count": null,
   "metadata": {},
   "outputs": [],
   "source": [
    "import numpy as np\n",
    "import scipy.interpolate as interpol\n",
    "import matplotlib.pyplot as plt\n",
    "\n",
    "import sys, logging, os, re\n",
    "import time\n",
    "\n",
    "# import seaborn as sns\n",
    "import scipy.io as sio"
   ]
  },
  {
   "cell_type": "code",
   "execution_count": null,
   "metadata": {},
   "outputs": [],
   "source": [
    "import numpy as np"
   ]
  },
  {
   "cell_type": "markdown",
   "metadata": {},
   "source": [
    " * ### Help, reference, Tab"
   ]
  },
  {
   "cell_type": "code",
   "execution_count": null,
   "metadata": {},
   "outputs": [],
   "source": [
    "help(np.linspace)"
   ]
  },
  {
   "cell_type": "code",
   "execution_count": null,
   "metadata": {},
   "outputs": [],
   "source": [
    "np?"
   ]
  },
  {
   "cell_type": "code",
   "execution_count": null,
   "metadata": {},
   "outputs": [],
   "source": [
    "%quickref"
   ]
  },
  {
   "cell_type": "code",
   "execution_count": null,
   "metadata": {},
   "outputs": [],
   "source": [
    "np.absolute(-50)"
   ]
  },
  {
   "cell_type": "markdown",
   "metadata": {},
   "source": [
    "> ## Simple plots\n",
    "> For help see here: [matplotlib's website](https://matplotlib.org/gallery.html)"
   ]
  },
  {
   "cell_type": "code",
   "execution_count": null,
   "metadata": {},
   "outputs": [],
   "source": [
    "# Inline plots\n",
    "%matplotlib inline"
   ]
  },
  {
   "cell_type": "code",
   "execution_count": null,
   "metadata": {},
   "outputs": [],
   "source": [
    "plt.figure(figsize=(15,8))\n",
    "\n",
    "x = np.linspace(-100, 100, num=100)\n",
    "y = np.sin(2*np.pi*x)\n",
    "\n",
    "# plt.plot(x,np.sin(2*np.pi*x),'b-',label='line')\n",
    "plt.plot(x,y,'g-.',label='dash-dots')\n",
    "plt.plot(x,2*y,'b.',label='dots')\n",
    "\n",
    "\n",
    "plt.ylabel('amplitude')\n",
    "plt.xlabel('time')\n",
    "plt.legend()\n",
    "# plt.savefig('plot_example_1.png')"
   ]
  },
  {
   "cell_type": "code",
   "execution_count": null,
   "metadata": {},
   "outputs": [],
   "source": [
    "plt.figure(figsize=(15,6))\n",
    "\n",
    "x = np.linspace(0, 100, num=50)\n",
    "a=10.\n",
    "b=5.\n",
    "\n",
    "plt.plot(x,a*x+b,'b-',label='line')\n",
    "plt.plot(x,a*x+b,'ro',label='dots')\n",
    "\n",
    "plt.ylabel('y')\n",
    "plt.xlabel('x')\n",
    "plt.legend()"
   ]
  },
  {
   "cell_type": "markdown",
   "metadata": {},
   "source": [
    "> ## Simple plots + Interaction Buttons\n",
    "> For help see here: [iPywidgets help/docs](http://ipywidgets.readthedocs.io/en/latest/examples/Using%20Interact.html)"
   ]
  },
  {
   "cell_type": "code",
   "execution_count": null,
   "metadata": {},
   "outputs": [],
   "source": [
    "from ipywidgets import interact, interactive\n",
    "from IPython.display import clear_output, display, HTML"
   ]
  },
  {
   "cell_type": "markdown",
   "metadata": {},
   "source": [
    ">> ### Example 1:"
   ]
  },
  {
   "cell_type": "code",
   "execution_count": null,
   "metadata": {},
   "outputs": [],
   "source": [
    "def f(a, b):\n",
    "    plt.figure(figsize=(15,6))\n",
    "    \n",
    "    x = np.linspace(-100, 100, num=100)\n",
    "    \n",
    "    plt.plot(x, a * x + b,'b-',label='line')\n",
    "    \n",
    "    plt.ylim(-100, 100)\n",
    "    \n",
    "    plt.ylabel('y')\n",
    "    plt.xlabel('x')"
   ]
  },
  {
   "cell_type": "code",
   "execution_count": null,
   "metadata": {},
   "outputs": [],
   "source": [
    "interactive_plot = interactive(f, a=(-10.0, 10.0,1.), b=(-50, 50, 5))\n",
    "output = interactive_plot.children[-1]\n",
    "# output.layout.height = '350px'\n",
    "interactive_plot"
   ]
  },
  {
   "cell_type": "markdown",
   "metadata": {},
   "source": [
    ">> ### Example 2:"
   ]
  },
  {
   "cell_type": "code",
   "execution_count": null,
   "metadata": {},
   "outputs": [],
   "source": [
    "def solve_sin(a0=5.,f0=3.,max_time=4.0):\n",
    "    plt.figure(figsize=(15,5))\n",
    "    t = np.linspace(0, max_time, int(250*max_time))\n",
    "    s_t=a0*np.sin(2*np.pi*f0*t)\n",
    "    plt.plot(t,s_t,'r')\n",
    "    plt.ylim(-10.,10.)\n",
    "    plt.show()"
   ]
  },
  {
   "cell_type": "code",
   "execution_count": null,
   "metadata": {},
   "outputs": [],
   "source": [
    "interactive_plot2 = interactive(solve_sin, a0=(0.0,10.0,0.5), f0=(0.0,10.0,0.5),max_time=(0.0,10.0,2.0))\n",
    "output = interactive_plot2.children[-2]\n",
    "interactive_plot2"
   ]
  },
  {
   "cell_type": "markdown",
   "metadata": {},
   "source": [
    "> ## Pandas\n",
    "> For help/docs/tutorials see here: [Pandas](https://pandas.pydata.org/)\n",
    "* A fast and efficient DataFrame object for data manipulation with integrated indexing\n",
    "* Tools for reading and writing data between in-memory data structures and different formats: CSV and text files, Microsoft Excel, SQL databases, and the fast HDF5 format\n",
    "* Flexible reshaping and pivoting of data sets;\n",
    "* Intelligent label-based slicing, fancy indexing, and subsetting of large data sets;\n",
    "* High performance merging and joining of data sets;"
   ]
  },
  {
   "cell_type": "code",
   "execution_count": null,
   "metadata": {},
   "outputs": [],
   "source": [
    "import pandas as pd"
   ]
  },
  {
   "cell_type": "code",
   "execution_count": null,
   "metadata": {},
   "outputs": [],
   "source": [
    "# The inital set of baby names and bith rates\n",
    "names = ['Bob','Jessica','Mary','John','Mel']\n",
    "births = [968, 155, 77, 578, 973]"
   ]
  },
  {
   "cell_type": "code",
   "execution_count": null,
   "metadata": {},
   "outputs": [],
   "source": [
    "BabyDataSet = list(zip(names,births))\n",
    "BabyDataSet"
   ]
  },
  {
   "cell_type": "code",
   "execution_count": null,
   "metadata": {},
   "outputs": [],
   "source": [
    "df = pd.DataFrame(data = BabyDataSet, columns=['Names', 'Births'])\n",
    "df"
   ]
  },
  {
   "cell_type": "code",
   "execution_count": null,
   "metadata": {},
   "outputs": [],
   "source": [
    "df.dtypes"
   ]
  },
  {
   "cell_type": "markdown",
   "metadata": {},
   "source": [
    "> ## Seaborn\n",
    ">For help see here: [Seaborn](https://seaborn.pydata.org/index.html) "
   ]
  },
  {
   "cell_type": "code",
   "execution_count": null,
   "metadata": {},
   "outputs": [],
   "source": [
    "import seaborn as sns\n",
    "sns.set(style=\"darkgrid\", color_codes=True)"
   ]
  },
  {
   "cell_type": "code",
   "execution_count": null,
   "metadata": {},
   "outputs": [],
   "source": [
    "tips = sns.load_dataset(\"tips\")\n",
    "tips[0:10]"
   ]
  },
  {
   "cell_type": "code",
   "execution_count": null,
   "metadata": {},
   "outputs": [],
   "source": [
    "g = sns.jointplot(\"total_bill\", \"tip\", data=tips, kind=\"reg\",\n",
    "                  xlim=(0, 60), ylim=(0, 12), color=\"r\", size=7)"
   ]
  },
  {
   "cell_type": "code",
   "execution_count": null,
   "metadata": {},
   "outputs": [],
   "source": [
    "iris = sns.load_dataset(\"tips\")\n",
    "g = sns.lmplot(x=\"total_bill\", y=\"tip\", hue=\"smoker\",\n",
    "               truncate=True, size=5, data=tips)\n",
    "\n",
    "# Use more informative axis labels than are provided by default\n",
    "g.set_axis_labels(\"total_bill($)\", \"tips ($)\")"
   ]
  },
  {
   "cell_type": "markdown",
   "metadata": {},
   "source": [
    "### It's time for you to code (trial and error) ...\n",
    "<img src=\"https://www.advanpix.com/wp-content/uploads/2016/10/debugging_comic.gif\">"
   ]
  }
 ],
 "metadata": {
  "kernelspec": {
   "display_name": "Python 3",
   "language": "python",
   "name": "python3"
  },
  "language_info": {
   "codemirror_mode": {
    "name": "ipython",
    "version": 3
   },
   "file_extension": ".py",
   "mimetype": "text/x-python",
   "name": "python",
   "nbconvert_exporter": "python",
   "pygments_lexer": "ipython3",
   "version": "3.7.3"
  },
  "nbTranslate": {
   "displayLangs": [
    "en",
    "pl"
   ],
   "hotkey": "alt-t",
   "langInMainMenu": true,
   "sourceLang": "pl",
   "targetLang": "en",
   "useGoogleTranslate": true
  },
  "widgets": {
   "state": {
    "228c6cafb97847d2b8168b34ab85f2b9": {
     "views": [
      {
       "cell_index": 26
      }
     ]
    },
    "3451f16fe77c48b282cd9c0b91dd08f4": {
     "views": [
      {
       "cell_index": 29
      }
     ]
    }
   },
   "version": "1.2.0"
  }
 },
 "nbformat": 4,
 "nbformat_minor": 2
}
