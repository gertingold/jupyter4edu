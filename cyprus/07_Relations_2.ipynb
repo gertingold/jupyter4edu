{
 "cells": [
  {
   "cell_type": "markdown",
   "metadata": {},
   "source": [
    "# <font color = E31616>**RELATIONS PART 2**</font>"
   ]
  },
  {
   "cell_type": "markdown",
   "metadata": {},
   "source": [
    "In this part we will discuss some of the most important properties of the relations! This is also the most challenginf part of properties."
   ]
  },
  {
   "cell_type": "markdown",
   "metadata": {},
   "source": [
    "## <font color = E31616>**Summary**</font>"
   ]
  },
  {
   "cell_type": "markdown",
   "metadata": {},
   "source": [
    "<ol>\n",
    "    <b><li>Properties of Relations</li></b>\n",
    "        <ul>\n",
    "            <li>Inverse</li>\n",
    "            <li>Reflexive Relations</li>\n",
    "            <li>Symmetric Relations</li>\n",
    "            <li>Anti-Symmetric Relations</li>\n",
    "            <li>Transitive Relations</li>\n",
    "            <li>Equivalence Relations</li>\n",
    "            <li>Partial Order</li>\n",
    "        </ul>\n",
    "</ol>"
   ]
  },
  {
   "cell_type": "markdown",
   "metadata": {},
   "source": [
    "<hr>"
   ]
  },
  {
   "cell_type": "markdown",
   "metadata": {},
   "source": [
    "## <font color = E31616>**Properties of Relations**</font>"
   ]
  },
  {
   "cell_type": "markdown",
   "metadata": {},
   "source": [
    "### <font color = E31616>**Inverse**</font>"
   ]
  },
  {
   "cell_type": "markdown",
   "metadata": {},
   "source": [
    "* Let $R$ be a relation from $A$ to $B$. The <font color = 11BE30><b>inverse $R^{-1}$</b></font>, is the relation from $B$ to $A$ defined by<br><br>\n",
    "<center>$R^{-1} = \\{(b, a) | (a, b) \\in R\\}$</center><br>\n",
    "\n",
    "As you can see, all we do is to reverse the order in each pair, i.e. if in $R$ the element $a$ is related to $b$ then in $R^{-1}$ we have $b$ is related to $a$.\n"
   ]
  },
  {
   "cell_type": "markdown",
   "metadata": {},
   "source": [
    "### <font color = E31616>**Example**</font>\n",
    "<font color = 11BE30><b>1.</b></font> Let $A = \\{2, 4, a, b\\}$<br><br>\n",
    "<center>$R = \\{(2, b), (2, 2), (4, 4), (a, a), (2, a), (b, b)\\}$</center><br>\n",
    "<center><span style=\"background-color: ##F3FF03\">Then</span></center><br>\n",
    "<center>$R^{-1} = \\{(b, 2), (2, 2), (4, 4), (a, a), (a, 2), (b, b)\\}$</center>"
   ]
  },
  {
   "cell_type": "markdown",
   "metadata": {},
   "source": [
    "<hr>"
   ]
  },
  {
   "cell_type": "markdown",
   "metadata": {},
   "source": [
    "### <font color = E31616>**Reflexive Relations**</font>"
   ]
  },
  {
   "cell_type": "markdown",
   "metadata": {},
   "source": [
    "* A relation $R$ on a set $A$ is <font color = 11BE30><b>reflexive</b></font> if for <span style=\"background-color: #11BE30\">all</span> $x \\in A,$ <span style=\"background-color: #11BE30\">$(x, x)$</span> $\\in R$.\n",
    "\n",
    "* Reflexive means that every member is related to itself.\n",
    "\n",
    "    ### <font color = E31616>**Examples**</font>\n",
    "    \n",
    "    <font color = 11BE30><b>1.</b></font> Let $A = \\{2, 4, a, b\\}$<br><br>\n",
    "<center>$R = \\{(2, 2), (4, 4), (a, a), (b, b)\\}$</center><br>\n",
    "<center>$S = \\{(2, b), (2, 2), (4, 4), (a, a), (2, a), (b, b)\\}$</center><br>\n",
    "<center><span style=\"background-color: ##F3FF03\">$R, S$ are reflexive relations on $A$.</span></center><br>\n",
    "\n",
    "    <font color = 11BE30><b>2.</b></font> The relation $\\leq$ is reflexive on the set $\\mathbb{Z}^+$."
   ]
  },
  {
   "cell_type": "markdown",
   "metadata": {},
   "source": [
    "<hr>"
   ]
  },
  {
   "cell_type": "markdown",
   "metadata": {},
   "source": [
    "### <font color = E31616>**Symmetric Relations**</font>"
   ]
  },
  {
   "cell_type": "markdown",
   "metadata": {},
   "source": [
    "* A relation $R$ on a set $A$ is <font color = 11BE30><b>symmetric</b></font> if for <span style=\"background-color: #11BE30\">all</span> $x, y \\in A, if $ <span style=\"background-color: #11BE30\">$(x, y)$</span> $\\in R$ $then$ <span style=\"background-color: #11BE30\">$(y, x)$</span> $\\in R$.\n",
    "\n",
    "    ### <font color = E31616>**Examples**</font>\n",
    "\n",
    "    <font color = 11BE30><b>1.</b></font> $A = \\{1, 2, b\\}$<br><br>\n",
    "<center>$R_1 = \\{(1, 1), (b, b)\\}$</center><br>\n",
    "<center>$R_2= \\{(1, 2)\\}$</center><br>\n",
    "<center>$R_3 = \\{(2, b), (b, 2), (1, 1)\\}$</center><br>\n",
    "<center><span style=\"background-color: ##F3FF03\">$R_1, R_3$ are symmetric relations on $A$, but $R_2$ is not.</span></center><br>\n",
    "\n",
    "    <font color = 11BE30><b>2.</b></font> The relation $\\leq$ is reflexive on the set $\\mathbb{Z}^+$ but <span style=\"background-color: #F3FF03\">not</span> symmetric.<br>\n",
    "&nbsp; &nbsp; &nbsp;e.g., $3 \\leq 4$ is in, but not $4 \\leq 3$"
   ]
  },
  {
   "cell_type": "markdown",
   "metadata": {},
   "source": [
    "<hr>"
   ]
  },
  {
   "cell_type": "markdown",
   "metadata": {},
   "source": [
    "### <font color = E31616>**Anti-Symmetric Relations**</font>"
   ]
  },
  {
   "cell_type": "markdown",
   "metadata": {},
   "source": [
    "* A relation $R$ on a set $A$ is <font color = 11BE30><b>anti-symmetric</b></font> if for <span style=\"background-color: #11BE30\">all</span> $x, y \\in A, if $ <span style=\"background-color: #11BE30\">$(x, y)$</span> $\\in R$ <b>$and$</b> <span style=\"background-color: #11BE30\">$(y, x)$</span> $\\in R$ $then$ <span style=\"background-color: #11BE30\">$x = y$</span>.\n",
    "\n",
    "    ### <font color = E31616>**Examples**</font>\n",
    "\n",
    "    <font color = 11BE30><b>1.</b></font> $A = \\{1, 2, b\\}$<br><br>\n",
    "<center>$R = \\{(1, 1), (b, b)\\}$</center><br>\n",
    "<center>$S= \\{(1, 2)\\}$</center><br>\n",
    "<center>$R = \\{(2, b), (b, 2), (1, 1)\\}$</center><br>\n",
    "<center><span style=\"background-color: ##F3FF03\">$R, S$ are anti-symmetric relations on $A$, but $T$ is not.</span></center><br>\n",
    "\n",
    "    <font color = 11BE30><b>2.</b></font> The relation $\\leq$ is reflexive on the set $\\mathbb{Z}^+$ but <span style=\"background-color: #F3FF03\">not</span> symmetric. <span style=\"background-color: #F3FF03\">It is anti-symmetric</span>."
   ]
  },
  {
   "cell_type": "markdown",
   "metadata": {},
   "source": [
    "<hr>"
   ]
  },
  {
   "cell_type": "markdown",
   "metadata": {},
   "source": [
    "### <font color = E31616>**Transitive Relations**</font>"
   ]
  },
  {
   "cell_type": "markdown",
   "metadata": {},
   "source": [
    "* A relation $R$ on a set $A$ is <font color = 11BE30><b>transitive</b></font> if for <span style=\"background-color: #11BE30\">all</span> $x, y, z \\in A, if $ <span style=\"background-color: #11BE30\">$(x, y)$</span> $\\in R$ $and$ <span style=\"background-color: #11BE30\">$(y, z)$</span> $\\in R$ $then$ <span style=\"background-color: #11BE30\">$(x, z)$</span> $\\in R$.\n",
    "\n",
    "    ### <font color = E31616>**Examples**</font>\n",
    "    \n",
    "    <font color = 11BE30><b>1.</b></font> $A = \\{1, 2, b\\}$<br><br>\n",
    "<center>$R = \\{(1, 1), (b, b)\\}$</center><br>\n",
    "<center>$S= \\{(1, 2), (2, b), (1, b)\\}$</center><br>\n",
    "<center>$R = \\{(2, b), (b, 2), (1, 1)\\}$</center><br>\n",
    "<center><span style=\"background-color: #F3FF03\">$R, S$ are transitive relations on $A$, but $T$ is not.</span></center><br>\n",
    "\n",
    "    <font color = 11BE30><b>2.</b></font> The relation $\\leq$ is reflexive on the set $\\mathbb{Z}^+$ but <span style=\"background-color: #F3FF03\">not</span> symmetric. <span style=\"background-color: #F3FF03\">It is also anti-symmetric, and transitive</span>. Why?"
   ]
  },
  {
   "cell_type": "markdown",
   "metadata": {},
   "source": [
    "<hr>"
   ]
  },
  {
   "cell_type": "markdown",
   "metadata": {},
   "source": [
    "### <font color = E31616>**Equivalence Relations**</font>"
   ]
  },
  {
   "cell_type": "markdown",
   "metadata": {},
   "source": [
    "* A relation $R$ on a set $A$ is an <font color = 11BE30><b>equivalence relation</b></font> if it is<br><br>\n",
    "<center><font color = 11BE30><b>Reflexive&nbsp; &nbsp; &nbsp; &nbsp; &nbsp; &nbsp; &nbsp; &nbsp; &nbsp; &nbsp;Symmetric&nbsp; &nbsp; &nbsp; &nbsp; &nbsp; &nbsp; &nbsp; &nbsp; &nbsp; &nbsp;Transitive</b></font></center>\n",
    "\n",
    "    ### <font color = E31616>**Examples**</font>\n",
    "    \n",
    "    <font color = 11BE30><b>1.</b></font> On any set $A, x R y \\leftrightarrow x = y$<br><br>\n",
    "    \n",
    "    <font color = 11BE30><b>2.</b></font> On integers $\\geq 0, x R y \\leftrightarrow x + y$ is even.<br><br>\n",
    "    \n",
    "    <font color = 11BE30><b>3.</b></font> On the set lines in the plane, $x R y \\leftrightarrow x$ is parallel to $y$.<br><br>\n",
    "    \n",
    "    <font color = 11BE30><b>4.</b></font> On $\\{0, 1\\}, x R y \\leftrightarrow x = y^2$<br><br>\n",
    "    \n",
    "    <font color = 11BE30><b>5.</b></font> On $\\{1, 2, 3\\}, R = \\{(1, 1), (2, 2), (3, 3), (1, 2), (2, 1)\\}$"
   ]
  },
  {
   "cell_type": "markdown",
   "metadata": {},
   "source": [
    "<hr>"
   ]
  },
  {
   "cell_type": "markdown",
   "metadata": {},
   "source": [
    "### <font color = E31616>**Partial Order**</font>"
   ]
  },
  {
   "cell_type": "markdown",
   "metadata": {},
   "source": [
    "* A binary relation $R$ on a set $A$ is a <font color = 11BE30><b>partial order</b></font> on $A$ iff $R$ is<br><br>\n",
    "<center><font color = 11BE30><b>Reflexive&nbsp; &nbsp; &nbsp; &nbsp; &nbsp; &nbsp; &nbsp; &nbsp; &nbsp; &nbsp;Anti-Symmetric&nbsp; &nbsp; &nbsp; &nbsp; &nbsp; &nbsp; &nbsp; &nbsp; &nbsp; &nbsp;Transitive</b></font></center><br><br>\n",
    "\n",
    "\n",
    "* We usually use $\\prec$ to indicate a partial order.\n",
    "\n",
    "\n",
    "* If $R$ is a partial order on $A$, then the ordered pair $(A, R)$ is called a <font color = 11BE30><b>partially ordered set</b></font> (also known as <font color = 11BE30><b>poset</b></font>).\n",
    "\n",
    "\n",
    "* We denote an arbitrary partially ordered set by $(A, \\prec)$.\n",
    "\n",
    "    ### <font color = E31616>**Examples**</font>\n",
    "    <font color = 11BE30><b>1.</b></font> On a set of integers, $x R y \\leftrightarrow x \\leq y$ is a partial order ($\\leq$ is a partial order).<br>\n",
    "    For integers a, b, c\n",
    "    <ul>\n",
    "        <li>$a \\leq a$ (reflexive)</li>\n",
    "        <li>$a \\leq b$ and $b \\leq a$ implies $a = b$ (anti-symmetric)</li>\n",
    "        <li>$a \\leq b$ and $b \\leq c$ implies $a \\leq c$ (transitive)</li>\n",
    "    </ul><br>\n",
    "    \n",
    "    <font color = 11BE30><b>2.</b></font> Other partial order\n",
    "    <ul>\n",
    "        <li>On the power set $\\mathcal{P}$ of a set, $A R B \\leftrightarrow A \\subseteq B$</li>\n",
    "        <li>On $\\mathbb{Z}^+$, $x R y \\leftrightarrow x$ divides $y$</li>\n",
    "        <li>On $\\{0, 1\\}$, $x R y \\leftrightarrow x = y^2$</li>\n",
    "    </ul>"
   ]
  },
  {
   "cell_type": "markdown",
   "metadata": {},
   "source": [
    "<hr>"
   ]
  },
  {
   "cell_type": "markdown",
   "metadata": {},
   "source": [
    "[More Exercises 1](http://webspace.ship.edu/deensley/DiscreteMath/flash/ch4/sec4_4/control_44.html)<br>\n",
    "[More Exercises 2](http://webspace.ship.edu/deensley/DiscreteMath/flash/ch4/sec4_4/controlb.html)"
   ]
  },
  {
   "cell_type": "markdown",
   "metadata": {},
   "source": [
    "<hr>"
   ]
  }
 ],
 "metadata": {
  "kernelspec": {
   "display_name": "Python 3",
   "language": "python",
   "name": "python3"
  },
  "language_info": {
   "codemirror_mode": {
    "name": "ipython",
    "version": 3
   },
   "file_extension": ".py",
   "mimetype": "text/x-python",
   "name": "python",
   "nbconvert_exporter": "python",
   "pygments_lexer": "ipython3",
   "version": "3.7.3"
  },
  "nbTranslate": {
   "displayLangs": [
    "en",
    "pl"
   ],
   "hotkey": "alt-t",
   "langInMainMenu": true,
   "sourceLang": "pl",
   "targetLang": "en",
   "useGoogleTranslate": true
  }
 },
 "nbformat": 4,
 "nbformat_minor": 2
}
