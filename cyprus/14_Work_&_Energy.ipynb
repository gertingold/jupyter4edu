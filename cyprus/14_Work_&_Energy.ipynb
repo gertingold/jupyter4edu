{
 "cells": [
  {
   "cell_type": "markdown",
   "metadata": {},
   "source": [
    "# Work & Energy"
   ]
  },
  {
   "cell_type": "markdown",
   "metadata": {},
   "source": [
    "***\n",
    "## Contents (Draft)\n",
    "\n",
    "- [Introduction](#Introduction)\n",
    "- [Parameter's Set-up:](#Parameter's Set-up:)\n",
    "- [Ploting the projectile trajectory](#Ploting the projectile trajectory)\n",
    "- [Range & Time of flight](#Range & Time of flight)\n",
    "- [Exercise 1](#Exercise 1)\n",
    "- [Exercise 2](#Exercise 2)"
   ]
  },
  {
   "cell_type": "markdown",
   "metadata": {},
   "source": [
    "## 1. Introduction\n",
    "\n",
    "- Work is done only when a force moves through a distance & there is an $F$-component along the line of motion.\n",
    "    - Work is done when you pick up a rock from the ground.\n",
    "    - No work is done if you hold an object at rest.\n",
    "\n",
    "- Energy: the capacity to do work.\n",
    "\n",
    "- Whenever work is done, energy is transferred between systems.\n",
    "    - When you pick the rock, your chemical energy of your body is transferred to kinetic + potential energy \n",
    "\n",
    "### Law of Conservation of Energy:\n",
    "\n",
    "- The total energy of a system and its surroundings __DOES NOT__ change.\n",
    "\n",
    "- __NO Energy is LOST!__\n",
    "\n",
    "\n",
    "<figure>\n",
    "  <img src=\"https://www.showmethephysics.com/home/animations3/weightlifter_two_hand_snatch_hg_wht.gif\" alt=\"Work & Energy\" style=\"width:40%\">\n",
    "  <figcaption>Source: https://www.showmethephysics.com/</figcaption>\n",
    "</figure>"
   ]
  },
  {
   "cell_type": "markdown",
   "metadata": {},
   "source": [
    "## 2. Work & Kinetic Energy:\n",
    "\n",
    "- When a force moves through a distance $\\Delta r$ and there is a component of the force parallel to the displacement, __the force does work.__\n",
    "- __Definition:__ the __WORK__ done by such a force - $F$ is defined as the product of the component of the force along the line of motion and the displacement - $\\Delta r$.\n",
    "\n",
    "\n",
    "- Special case:\n",
    "    - Constant $𝐹$\n",
    "    - 1D motion\n",
    "    - $\\theta$: the angle between __$𝐹$__ and $\\Delta r$"
   ]
  },
  {
   "cell_type": "markdown",
   "metadata": {},
   "source": [
    "<figure>\n",
    "  <img src=\"https://cdn.thinglink.me/api/image/458998705366761473/1240/10/scaletowidth\" alt=\"Work & Energy\" style=\"width:40%\">\n",
    "</figure>"
   ]
  },
  {
   "cell_type": "markdown",
   "metadata": {},
   "source": [
    "## 3 . Net Work:\n",
    "\n",
    "- The work done by the resultant force:\n",
    "$$W_{net}=F_r \\cdot \\Delta r$$\n",
    "- Newton's Second Law:\n",
    "$$F_r = m \\cdot a_r$$\n",
    "\n",
    "$$W_{net}= m \\cdot a_r \\cdot \\Delta r$$\n",
    "\n",
    "$$u_2^2=u_1^2+2\\cdot a \\cdot \\Delta r \t\\Rightarrow a \\cdot \\Delta r=\\frac{1}{2} \\cdot (u_2^2-u_1^2)$$\n",
    "\n",
    "$$W_{net}= m \\cdot \\frac{1}{2} \\cdot (u_2^2-u_1^2)$$\n",
    "$$W_{net}= \\frac{1}{2} \\cdot m \\cdot u_2^2-\\frac{1}{2} \\cdot m \\cdot u_1^2$$\n",
    "\n",
    "- Kinetic Energy:\n",
    "$$E_k=\\frac{1}{2} \\cdot m \\cdot u^2$$\n",
    "\n",
    "-Change in the kinetic Energy of the body - $\\Delta E_k$:\n",
    "$$W_{net}= \\Delta E_k = \\frac{1}{2} \\cdot m \\cdot u_2^2-\\frac{1}{2} \\cdot m \\cdot u_1^2$$\n",
    "\n",
    "### Theorem (Work-Energy):\n",
    "- The net work done by the resultant force acting on a body equals the change in the kinetic energy of the body."
   ]
  },
  {
   "cell_type": "markdown",
   "metadata": {},
   "source": [
    "### Import \"standard\" libraries"
   ]
  },
  {
   "cell_type": "code",
   "execution_count": null,
   "metadata": {},
   "outputs": [],
   "source": [
    "# Import libraries first\n",
    "%matplotlib inline\n",
    "import numpy as np\n",
    "import scipy.interpolate as interpol\n",
    "import matplotlib.pyplot as plt\n",
    "import matplotlib.colors as colors\n",
    "import matplotlib.cm as cmx\n",
    "\n",
    "import sys, logging, os, re\n",
    "import time\n",
    "\n",
    "# import seaborn as sns\n",
    "import scipy\n",
    "import scipy.io as sio\n",
    "from math import pi"
   ]
  },
  {
   "cell_type": "markdown",
   "metadata": {},
   "source": [
    "## Exercise 1\n",
    "\n",
    "If the mass of the box in the following diagram is __5kg__ and the man exerts a force of $8N$ at $\\theta=30^o$, find the work done by the man and the final speed of the box after it moves __3m__ assuming that is starts from rest:\n",
    "\n",
    "<figure>\n",
    "  <img src=\"https://encrypted-tbn0.gstatic.com/images?q=tbn:ANd9GcRzMLqlAAPDVHCa_yZLJcQMJyZObaUl0M3PjEpOgiL-sEaGiVXL&s\" alt=\"Work & Energy\" style=\"width:40%\">\n",
    "</figure>"
   ]
  },
  {
   "cell_type": "markdown",
   "metadata": {},
   "source": [
    "$$W_{net}= F \\cdot cos(\\theta) \\cdot d$$"
   ]
  },
  {
   "cell_type": "code",
   "execution_count": null,
   "metadata": {},
   "outputs": [],
   "source": [
    "def W(theta,F,dx):\n",
    "    pass\n",
    "### BEGIN SOLUTION\n",
    "def W(theta,F,dx):\n",
    "    W = None    \n",
    "    W = F*np.cos(np.deg2rad(theta))*dx\n",
    "    return W\n",
    "### END SOLUTION"
   ]
  },
  {
   "cell_type": "code",
   "execution_count": null,
   "metadata": {},
   "outputs": [],
   "source": [
    "theta = 30 # degrees\n",
    "F = 8  #Newtons\n",
    "dx = 3 #meters"
   ]
  },
  {
   "cell_type": "code",
   "execution_count": null,
   "metadata": {},
   "outputs": [],
   "source": [
    "W(theta,F,dx) #Joules"
   ]
  },
  {
   "cell_type": "markdown",
   "metadata": {},
   "source": [
    "- $W_{net}= \\Delta E_k = \\frac{1}{2} \\cdot m \\cdot u_2^2-\\frac{1}{2} \\cdot m \\cdot u_1^2$\n",
    "- As the box was initialy at rest $\\Rightarrow u_1=0$\n",
    "- $W_{net}= \\Delta E_k =\\frac{1}{2} \\cdot m \\cdot u_2^2-0$"
   ]
  },
  {
   "cell_type": "code",
   "execution_count": null,
   "metadata": {},
   "outputs": [],
   "source": [
    "def u(dEk,m):\n",
    "    pass\n",
    "### BEGIN SOLUTION\n",
    "def u(dEk,m):\n",
    "    u = None    \n",
    "    u = np.sqrt(2*dEk/m)\n",
    "    return u\n",
    "### END SOLUTION"
   ]
  },
  {
   "cell_type": "code",
   "execution_count": null,
   "metadata": {},
   "outputs": [],
   "source": [
    "dEk=20.8 #Work-Energy Theorem\n",
    "m=5 #Kg"
   ]
  },
  {
   "cell_type": "code",
   "execution_count": null,
   "metadata": {},
   "outputs": [],
   "source": [
    "u(dEk,m) #m/s"
   ]
  },
  {
   "cell_type": "markdown",
   "metadata": {},
   "source": [
    "## Exercise 2\n",
    "\n",
    "A car of mass $1200kg$ moving at $25m/s$ brakes and locks its wheels, skidding to a stop. If the coefficient of the kinetic friction os 0.3, find the work done by friction-$F_F$ and the stopping distance.\n",
    "\n",
    "<figure>\n",
    "  <img src=\"http://jeffwalso.com/physics30/curr_content/physics30/opt_kindyn/images/car_friction2.gif\" alt=\"Work & Energy\" style=\"width:40%\">\n",
    "</figure>"
   ]
  },
  {
   "cell_type": "markdown",
   "metadata": {},
   "source": [
    "- $E_{initial}= \\frac{1}{2} \\cdot m \\cdot u_i^2$\n",
    "- $E_{final}= \\frac{1}{2} \\cdot m \\cdot u_f^2=0$ as it comes to a stop\n",
    "- $W_{net}= \\Delta E_k = \\frac{1}{2} \\cdot m \\cdot u_f^2-\\frac{1}{2} \\cdot m \\cdot u_i^2$\n",
    "- $W_{net}= \\Delta E_k =0 - \\frac{1}{2} \\cdot m \\cdot u_i^2$"
   ]
  },
  {
   "cell_type": "code",
   "execution_count": null,
   "metadata": {},
   "outputs": [],
   "source": [
    "def dEk(m,u1,u2):\n",
    "    pass\n",
    "### BEGIN SOLUTION\n",
    "def dEk(m,u1,u2):\n",
    "    dEk = None    \n",
    "    dEk = 1/2*m*u2**2-1/2*m*u1**2\n",
    "    return dEk\n",
    "### END SOLUTION"
   ]
  },
  {
   "cell_type": "code",
   "execution_count": null,
   "metadata": {},
   "outputs": [],
   "source": [
    "u1=25 #m/s Initial velocity \n",
    "u2=0  #m/s Final velocity\n",
    "m=1200 #Kg"
   ]
  },
  {
   "cell_type": "code",
   "execution_count": null,
   "metadata": {},
   "outputs": [],
   "source": [
    "dEk(m,u1,u2) #Joules"
   ]
  },
  {
   "cell_type": "markdown",
   "metadata": {},
   "source": [
    "- The work done by friction is: $W_{net}= \\Delta E_k =F_x \\cdot \\Delta x = -\\mu _k \\cdot m \\cdot g \\cdot \\Delta x$\n",
    "- The stoping distance: $\\Delta x = \\frac{W_{net}}{-\\mu _k \\cdot m \\cdot g}$"
   ]
  },
  {
   "cell_type": "code",
   "execution_count": null,
   "metadata": {},
   "outputs": [],
   "source": [
    "def dx(dEk,f_k,m):\n",
    "    pass\n",
    "### BEGIN SOLUTION\n",
    "def dx(dEk,f_k,m):\n",
    "    dx = None\n",
    "    g=9.81 # m/s^2\n",
    "    dx = dEk/(-f_k)/m/g\n",
    "    return dx\n",
    "### END SOLUTION"
   ]
  },
  {
   "cell_type": "code",
   "execution_count": null,
   "metadata": {},
   "outputs": [],
   "source": [
    "dx(-375000,0.3,1200) #m"
   ]
  }
 ],
 "metadata": {
  "kernelspec": {
   "display_name": "Python 3",
   "language": "python",
   "name": "python3"
  },
  "language_info": {
   "codemirror_mode": {
    "name": "ipython",
    "version": 3
   },
   "file_extension": ".py",
   "mimetype": "text/x-python",
   "name": "python",
   "nbconvert_exporter": "python",
   "pygments_lexer": "ipython3",
   "version": "3.7.3"
  },
  "nbTranslate": {
   "displayLangs": [
    "en",
    "pl"
   ],
   "hotkey": "alt-t",
   "langInMainMenu": true,
   "sourceLang": "pl",
   "targetLang": "en",
   "useGoogleTranslate": true
  }
 },
 "nbformat": 4,
 "nbformat_minor": 2
}
