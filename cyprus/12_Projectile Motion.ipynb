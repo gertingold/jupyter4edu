{
 "cells": [
  {
   "cell_type": "markdown",
   "metadata": {},
   "source": [
    "# Projectile Motion"
   ]
  },
  {
   "cell_type": "markdown",
   "metadata": {},
   "source": [
    "## Import \"standard\" libraries"
   ]
  },
  {
   "cell_type": "code",
   "execution_count": null,
   "metadata": {},
   "outputs": [],
   "source": [
    "# Import libraries first\n",
    "%matplotlib inline\n",
    "import numpy as np\n",
    "import scipy.interpolate as interpol\n",
    "import matplotlib.pyplot as plt\n",
    "import matplotlib.colors as colors\n",
    "import matplotlib.cm as cmx\n",
    "\n",
    "import sys, logging, os, re\n",
    "import time\n",
    "\n",
    "# import seaborn as sns\n",
    "import scipy\n",
    "import scipy.io as sio\n",
    "from math import pi"
   ]
  },
  {
   "cell_type": "markdown",
   "metadata": {},
   "source": [
    "***\n",
    "## Contents (Draft)\n",
    "\n",
    "- [Introduction](#Introduction)\n",
    "- [Parameter's Set-up:](#Parameter's Set-up:)\n",
    "- [Ploting the projectile trajectory](#Ploting the projectile trajectory)\n",
    "- [Range & Time of flight](#Range & Time of flight)\n",
    "- [Exercise 1](#Exercise 1)\n",
    "- [Exercise 2](#Exercise 2)"
   ]
  },
  {
   "cell_type": "markdown",
   "metadata": {},
   "source": [
    "## Introduction\n",
    "\n",
    "- An application of motion in two dimensions\n",
    "- Projectile: a body that is launched into the air and is allowed to move freely\n",
    "- General motion of a projectile is complicated and depends on (those factors are neglected for simplicity):\n",
    ":\n",
    "    - the air resistance\n",
    "    - the rotation of the earth\n",
    "    - the variation in the acceleration of gravity\n",
    "    \n",
    "\n",
    "<figure>\n",
    "  <img src=\"https://physicslight.files.wordpress.com/2014/04/projectile_animation.gif\" alt=\"Projectile Animation\" style=\"width:70%\">\n",
    "  <figcaption>Source: https://physicslight.wordpress.com/</figcaption>\n",
    "</figure>"
   ]
  },
  {
   "cell_type": "markdown",
   "metadata": {},
   "source": [
    "## Parameter's Set-up:\n",
    "* The projectile has a constant acceleration directed vertically downward with magnitude $g=9.81 m/s^2$. \n",
    "* The y axis is vertical with the positive direction upward \n",
    "* The x axis is horizontal with the positive direction in the direction of the original horizontal component of the projectile's velocity $u$"
   ]
  },
  {
   "cell_type": "markdown",
   "metadata": {},
   "source": [
    "***\n",
    "* The acceleration is split into the following two components:\n",
    "    * $a_y = -g$ (vertical motion with constant acceleration) -(blue arrow)\n",
    "    * $a_x = 0$ (horizontal motion with constant speed)"
   ]
  },
  {
   "cell_type": "code",
   "execution_count": null,
   "metadata": {},
   "outputs": [],
   "source": [
    "# Acceleration\n",
    "plt.plot(0,0,'or')\n",
    "plt.quiver([0, 0], [0, 0], [0, 0], [0, -1], angles='xy', scale_units='xy', color=['r','k'],scale=1)\n",
    "plt.xlim(-2, 2)\n",
    "plt.ylim(-2, 2)\n",
    "plt.axes().set_aspect('equal')"
   ]
  },
  {
   "cell_type": "markdown",
   "metadata": {},
   "source": [
    "***\n",
    "* The projectile is launched from the origin with an initial speed _$u_0$_ (green arrow) at angle $\\theta$ with the horizontal\n",
    "* The initial velocity can be split into two compontents:\n",
    "    * $u_{0x} = u_0 \\cdot cos \\theta$ (red arrow)\n",
    "    * $u_{0y} = u_0 \\cdot sin \\theta$ (blue arrow)"
   ]
  },
  {
   "cell_type": "code",
   "execution_count": null,
   "metadata": {},
   "outputs": [],
   "source": [
    "# Velocity\n",
    "plt.plot(0,0,'or')\n",
    "plt.quiver([0, 0,0], [0, 0,0], [1, 0,1], [0, 1.5,1.5], angles='xy', scale_units='xy', color=['r','b','g'],scale=1)\n",
    "plt.xlim(-2, 2)\n",
    "plt.ylim(-2, 2)\n",
    "plt.axes().set_aspect('equal')\n",
    "plt.annotate(r'$\\theta$',\n",
    "            xy=(0.2, 0.1), xycoords='data',\n",
    "            xytext=(30, 30), textcoords='offset points',\n",
    "            size=12,\n",
    "            # bbox=dict(boxstyle=\"round\", fc=\"0.8\"),\n",
    "            arrowprops=dict(arrowstyle=\"simple\",\n",
    "                            fc=\"0.6\", ec=\"none\",\n",
    "                            connectionstyle=\"arc3,rad=-0.3\"))"
   ]
  },
  {
   "cell_type": "markdown",
   "metadata": {},
   "source": [
    "***\n",
    "* The two components of the velocity will then be:\n",
    "    * $u_x = u_{0x}$, as there is no horizontal acceleration\n",
    "    * $u_y= u_{0y} -g \\cdot t$, motion with constant acceleration\n",
    "    \n",
    "***\n",
    "* The two components of the displacement will have the following expresions:\n",
    "    * $\\Delta x = u_{0x}\\cdot t$\n",
    "    * $\\Delta y = u_{0y}\\cdot t - \\frac{1}{2}\\cdot g \\cdot t^2$\n",
    "        "
   ]
  },
  {
   "cell_type": "markdown",
   "metadata": {},
   "source": [
    "## Ploting the projectile trajectory"
   ]
  },
  {
   "cell_type": "code",
   "execution_count": null,
   "metadata": {},
   "outputs": [],
   "source": [
    "theta=np.pi/4 #angle theta with respect to horizontal (45degrees)\n",
    "v0=10 # intial velocity\n",
    "\n",
    "x0=0; # initial position\n",
    "y0=0;\n",
    "\n",
    "t0=0 #initial time\n",
    "tf=2 #final time\n",
    "dt=1e-1 #time step size\n"
   ]
  },
  {
   "cell_type": "code",
   "execution_count": null,
   "metadata": {},
   "outputs": [],
   "source": [
    "g=9.8 #m/s^2\n",
    "\n",
    "vx0=v0*np.cos(theta) # x component of velocity at initial time step\n",
    "vy0=v0*np.sin(theta) # y component of velocity at initial time step\n",
    "\n",
    "t=np.arange(t0,tf,dt) # creates an array that holds each time point\n",
    "nt=len(t) #the number of time steps we willl have\n",
    "nt"
   ]
  },
  {
   "cell_type": "code",
   "execution_count": null,
   "metadata": {},
   "outputs": [],
   "source": [
    "x=np.zeros(nt)\n",
    "y=np.zeros(nt)\n",
    "vx=np.zeros(nt)\n",
    "vy=np.zeros(nt)\n",
    "\n",
    "x[0]=x0\n",
    "y[0]=y0\n",
    "vx[0]=vx0\n",
    "vy[0]=vy0"
   ]
  },
  {
   "cell_type": "code",
   "execution_count": null,
   "metadata": {},
   "outputs": [],
   "source": [
    "for i in range(1,nt):\n",
    "    x[i]=x[i-1]+vx[i-1]*dt\n",
    "    y[i]=y[i-1]+vy[i-1]*dt\n",
    "\n",
    "    vx[i]=vx[i-1]\n",
    "    vy[i]=vy[i-1]-g*dt"
   ]
  },
  {
   "cell_type": "code",
   "execution_count": null,
   "metadata": {},
   "outputs": [],
   "source": [
    "plt.plot(x,y)\n",
    "plt.plot(x,y,'ro')\n",
    "plt.quiver([0, 0,0], [0, 0,0], [vx[1], 0,vy[1]], [0,vy[1],vx[1]], angles='xy', scale_units='xy', color=['r','b','g'],scale=3)"
   ]
  },
  {
   "cell_type": "markdown",
   "metadata": {},
   "source": [
    "## Range & Time of flight\n",
    "\n",
    "* The time of flight $t_f$ is twice the time $t_h$ the projectile takes to reach its maximum height and it can be found by setting the vertical component of its velocity equal to zero.\n",
    "$$ u_y = u_{0y} - g\\cdot t_h = 0$$\n",
    "$$ t_h = \\frac{u_{0y}}{g}$$\n",
    "$$ t_f = 2 \\cdot t_h$$\n",
    "\n",
    "* The range $R$ is the distance traveled within $t_f$ along the x direction:\n",
    "$$ R = u_{0x} \\cdot t_f = u_{0x} \\cdot \\frac{2u_{0y}}{g}$$\n",
    "$$ R = \\frac{2 \\cdot u_0 \\cdot cos \\theta \\cdot u_0 \\cdot sin \\theta}{g}$$\n",
    "$$ R = \\frac{2 \\cdot u_0^2 \\cdot cos \\theta \\cdot sin \\theta}{g}$$\n",
    "$$ sin 2\\theta = 2 sin \\theta \\cdot cos \\theta $$\n",
    "\n",
    "* The equation of the range is given by:\n",
    "$$ R = \\frac{2 \\cdot u_0^2 \\cdot sin 2\\theta}{g}$$\n",
    "\n",
    "* The maximum value of $R$ occurs when $\\theta=45^{o}$"
   ]
  },
  {
   "cell_type": "markdown",
   "metadata": {},
   "source": [
    "## Exercise 1\n",
    "\n",
    "Find the maximum Range of a projectile when the angle theta is equal to 45 degrees and its launched with 100m/s."
   ]
  },
  {
   "cell_type": "code",
   "execution_count": null,
   "metadata": {},
   "outputs": [],
   "source": [
    "def R(theta,u0):\n",
    "    pass\n",
    "### BEGIN SOLUTION\n",
    "def R(theta,u0):\n",
    "    R = None\n",
    "    g = 9.81    \n",
    "    R = 2*u0**2*np.sin(2*np.deg2rad(theta))/g\n",
    "    return R\n",
    "### END SOLUTION"
   ]
  },
  {
   "cell_type": "code",
   "execution_count": null,
   "metadata": {},
   "outputs": [],
   "source": [
    "theta = 45 # degrees\n",
    "u0 = 10  #m/s"
   ]
  },
  {
   "cell_type": "code",
   "execution_count": null,
   "metadata": {},
   "outputs": [],
   "source": [
    "print(R(theta,u0)) #meters"
   ]
  },
  {
   "cell_type": "markdown",
   "metadata": {
    "collapsed": true
   },
   "source": [
    "## Exercise 2\n",
    "\n",
    "Plot the trajectories for theta equal to 10,20,30,45,55,60 and 89 degrees with initial velocity 20 m/s. At which angle do we achive maximum Range? Calculate the intividual ranges."
   ]
  },
  {
   "cell_type": "code",
   "execution_count": null,
   "metadata": {},
   "outputs": [],
   "source": [
    "plt.figure(figsize=(10, 10))\n",
    "size=4000\n",
    "t=np.linspace(0,40,size)\n",
    "\n",
    "theta=[10,20,30,45,55,60,89]\n",
    "y0=0\n",
    "u0=20\n",
    "g=9.81\n",
    "\n",
    "x=np.zeros(size)\n",
    "y=np.zeros(size)\n",
    "for j in range(0,len(theta)):\n",
    "    for i in range(0,t.size):\n",
    "        x[i]=u0*t[i]*np.cos(np.deg2rad(theta[j]))\n",
    "        y[i]=y0+u0*t[i]*np.sin(np.deg2rad(theta[j]))-1/2*g*t[i]**2\n",
    "    plt.plot(x[y>=0],y[y>=0],label=theta[j])\n",
    "    print('theta=',theta[j],', Range=',R(theta[j],u0))\n",
    "\n",
    "plt.legend()\n",
    "plt.ylim(0,20)"
   ]
  }
 ],
 "metadata": {
  "kernelspec": {
   "display_name": "Python 3",
   "language": "python",
   "name": "python3"
  },
  "language_info": {
   "codemirror_mode": {
    "name": "ipython",
    "version": 3
   },
   "file_extension": ".py",
   "mimetype": "text/x-python",
   "name": "python",
   "nbconvert_exporter": "python",
   "pygments_lexer": "ipython3",
   "version": "3.7.3"
  },
  "nbTranslate": {
   "displayLangs": [
    "en",
    "pl"
   ],
   "hotkey": "alt-t",
   "langInMainMenu": true,
   "sourceLang": "pl",
   "targetLang": "en",
   "useGoogleTranslate": true
  }
 },
 "nbformat": 4,
 "nbformat_minor": 2
}
