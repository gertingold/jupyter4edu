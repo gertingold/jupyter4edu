{
 "cells": [
  {
   "cell_type": "markdown",
   "metadata": {},
   "source": [
    "# <font color = E31616>**RELATIONS PART 1**</font>"
   ]
  },
  {
   "cell_type": "markdown",
   "metadata": {},
   "source": [
    "## <font color = E31616>**INTRODUCTION**</font>"
   ]
  },
  {
   "cell_type": "markdown",
   "metadata": {},
   "source": [
    "Relationships between elements of sets occur in many contexts. Every day we deal with relationships such as those between a business and its telephone number, an employee and his or her salary, a person and a relative, and so on. Also, relationships such as that between a program and a variable it uses, or between a computer language and a valid statement in this language, often arise in computer science. Relations can be used to solve problems such as determining which pairs of cities are linked by airline ﬂights in a network, or ﬁnding a viable order for the diﬀerent phases of a complicated project."
   ]
  },
  {
   "cell_type": "markdown",
   "metadata": {},
   "source": [
    "## <font color = E31616>**Summary**</font>"
   ]
  },
  {
   "cell_type": "markdown",
   "metadata": {},
   "source": [
    "<ol>\n",
    "        <b><li>Definition of Relation</li></b>\n",
    "        <ul>\n",
    "            <li>Comments</li>\n",
    "            <li>Examples</li>\n",
    "        </ul>\n",
    "    <b><li>Binary Relations</li></b>\n",
    "        <ul>\n",
    "            <li>Example</li>\n",
    "            <li>Types of Binary Relations</li>\n",
    "        </ul>\n",
    "    <b><li>Representing Relations</li></b>\n",
    "        <ul>\n",
    "            <li>Directed Graphs or Digraphs on a set</li>\n",
    "            <li>Matrices</li>\n",
    "            <li>Arrow Diagram</li>\n",
    "        </ul>\n",
    "    <b><li>Composition of Relations</li></b>\n",
    "        <ul>\n",
    "            <li>Example</li>\n",
    "        </ul>\n",
    "</ol>"
   ]
  },
  {
   "cell_type": "markdown",
   "metadata": {},
   "source": [
    "<hr>"
   ]
  },
  {
   "cell_type": "markdown",
   "metadata": {},
   "source": [
    "**Import usable libraries**"
   ]
  },
  {
   "cell_type": "code",
   "execution_count": null,
   "metadata": {},
   "outputs": [],
   "source": [
    "# Import libraries first\n",
    "%matplotlib inline\n",
    "import numpy as np\n",
    "import scipy.interpolate as interpol\n",
    "import matplotlib.pyplot as plt\n",
    "import matplotlib.colors as colors\n",
    "import matplotlib.cm as cmx\n",
    "\n",
    "import sys, logging, os, re\n",
    "import time\n",
    "\n",
    "# import seaborn as sns\n",
    "import scipy\n",
    "import scipy.io as sio"
   ]
  },
  {
   "cell_type": "markdown",
   "metadata": {},
   "source": [
    "<hr>"
   ]
  },
  {
   "cell_type": "markdown",
   "metadata": {},
   "source": [
    "## <font color = E31616>Definitions</font>"
   ]
  },
  {
   "cell_type": "markdown",
   "metadata": {},
   "source": [
    "* Any subset of $A \\times B$ is called a <font color = 11BE30>**relation**</font>, which is denoted by $R$. In other words, we have that a relation $R \\subseteq A \\times B$ and we sometimes write this as <font color = 11BE30>$a R b$</font> and is read as <font color = 11BE30><b>$a$ is related to $b$</b></font>.<br>\n",
    "* A relation $R$ can be treated as a set of ordered pairs:\n",
    "<center>$R = \\{(a, b) \\in A \\times B | a R b\\}$</center><br>\n",
    "* Have in mind that $a R b$ actually means that the pair $(a, b) \\in R$.<br>\n",
    "* <span style=\"background-color: #11BE30\">Note</span> that if $A = B$, then $R$ is called a <font color = 11BE30><b>binary</b></font> relation."
   ]
  },
  {
   "cell_type": "markdown",
   "metadata": {},
   "source": [
    "<hr>"
   ]
  },
  {
   "cell_type": "markdown",
   "metadata": {},
   "source": [
    "### <font color = E31616>**Comments**</font>"
   ]
  },
  {
   "cell_type": "markdown",
   "metadata": {},
   "source": [
    "* Given the sets $A$ and $B$, a relation on $A \\times B$ is some property that is <span style=\"background-color: #11BE30\">either true or false</span> for any ordered pair $(a, b) \\in A \\times B$.\n",
    "* The concept of a relation is as general as the concept of a set, and is not limited to strictly mathematical settings.\n",
    "* Relations are more general than functions. Recall that a function is a relation where exactly one element of $B$ is related to each element of $A$.\n",
    "<hr>"
   ]
  },
  {
   "cell_type": "markdown",
   "metadata": {},
   "source": [
    "### <font color = E31616>**Examples**</font>"
   ]
  },
  {
   "cell_type": "markdown",
   "metadata": {},
   "source": [
    "Let's see some simple examples on relations."
   ]
  },
  {
   "cell_type": "markdown",
   "metadata": {},
   "source": [
    "### <font color = E31616>**Example 1:**</font>"
   ]
  },
  {
   "cell_type": "markdown",
   "metadata": {},
   "source": [
    "* Relations are used to model sets of record - vital for holding information of all types.\n",
    "    * e.g. course grades as sets of guardurple (StudentReg, Course, Semester, Grade)"
   ]
  },
  {
   "cell_type": "markdown",
   "metadata": {},
   "source": [
    "<hr>"
   ]
  },
  {
   "cell_type": "markdown",
   "metadata": {},
   "source": [
    "### <font color = E31616>**Example 2:**</font>"
   ]
  },
  {
   "cell_type": "markdown",
   "metadata": {},
   "source": [
    "* Any function: $f: X \\to Y$ is a relation defined as:<br>\n",
    "<center>$f = \\{(a,b) | f(x) = y\\}$</center><br>\n",
    "<span style=\"background-color: #11BE30\">Note</span> that here we usually use $X$ and $Y$ insted of $A$ and $B$. We also use $f$ instead of $R$."
   ]
  },
  {
   "cell_type": "markdown",
   "metadata": {},
   "source": [
    "<hr>"
   ]
  },
  {
   "cell_type": "markdown",
   "metadata": {},
   "source": [
    "### <font color = E31616>**Example 3:**</font>"
   ]
  },
  {
   "cell_type": "markdown",
   "metadata": {},
   "source": [
    "* Consider the relation $R \\Longrightarrow$ on the set $A = B = \\{1, 2, 3\\}$.<br><br>\n",
    "Then $R = ?$<br><br>\n",
    "$R = \\{(2, 1), (3, 1), (3, 2)\\}$"
   ]
  },
  {
   "cell_type": "markdown",
   "metadata": {},
   "source": [
    "<hr>"
   ]
  },
  {
   "cell_type": "markdown",
   "metadata": {},
   "source": [
    "### <font color = E31616>**Example 4:**</font>"
   ]
  },
  {
   "cell_type": "markdown",
   "metadata": {},
   "source": [
    "* The relation \" is-capital-of \" between cities and countries:<br><br>\n",
    "is-capital-of = $\\{(London, UK), (Rome, IT), (Paris, FR), ...\\}$<br><br>\n",
    "<span style=\"background-color: #11BE30\">Note</span> here that $A =$ city and $B =$ country."
   ]
  },
  {
   "cell_type": "markdown",
   "metadata": {},
   "source": [
    "<hr>"
   ]
  },
  {
   "cell_type": "markdown",
   "metadata": {},
   "source": [
    "### <font color = E31616>**Example 5: (Let's work this together)**</font>"
   ]
  },
  {
   "cell_type": "markdown",
   "metadata": {},
   "source": [
    "Given $A = \\{2, 3, 4\\}$ and $B = \\{3, 4, 5, 6, 7\\}$ define the relation $R$ if $a \\in A$ divides $b \\in B$.<br><br>\n",
    "Then $R$ is ..."
   ]
  },
  {
   "cell_type": "markdown",
   "metadata": {},
   "source": [
    "<hr>"
   ]
  },
  {
   "cell_type": "markdown",
   "metadata": {},
   "source": [
    "## <font color = E31616>**Binary Relations**</font>"
   ]
  },
  {
   "cell_type": "markdown",
   "metadata": {},
   "source": [
    "Given a set $A$, a <font color = 11BE30><b>binary relation</b></font> $R$ on $A$ is a subset of $A \\times A$ (i.e. $R \\subset A \\times A$)"
   ]
  },
  {
   "cell_type": "markdown",
   "metadata": {},
   "source": [
    "### <font color = E31616><b>Example:</b></font>"
   ]
  },
  {
   "cell_type": "markdown",
   "metadata": {},
   "source": [
    "If $A = \\{1, 2, 3\\}$. Then $A \\times A = ?$<br><br>\n",
    "Now, define the relation $R$ on $A = \\{1, 2, 3\\}$ to be given by<br><br>\n",
    "<center>$a R b \\leftrightarrow a + b$ is odd.</center><br>\n",
    "Then $R = ?$"
   ]
  },
  {
   "cell_type": "markdown",
   "metadata": {},
   "source": [
    "<font color = 11BE30><b>Question:</b></font> How many relations are there on a set $A$ with $n$ elements?<br><br>\n",
    "<font color = 11BE30><b>Answer:</b></font> Because a relation on $A$ is the same thing as a subset of $A \\times A$, we count the subsets of $A \\times A$. Since $A \\times A$ has $n \\times n = n^2$ elements, and a set with $m$ elements has $2^m$ subsets, there are $2^{n^2}$ subsets of $A \\times A$. Therefore, there are $2^{n^2}$ relations on a set $A$."
   ]
  },
  {
   "cell_type": "markdown",
   "metadata": {},
   "source": [
    "<hr>"
   ]
  },
  {
   "cell_type": "markdown",
   "metadata": {},
   "source": [
    "### <font color = E31616><b>Types of Binary Relations</b></font>"
   ]
  },
  {
   "cell_type": "markdown",
   "metadata": {},
   "source": [
    "<font color = 11BE30><b>One-to-one Relation: </b></font> each first component and each second component appear only once in the relation.<br>\n",
    "<img src=\"one-to-one.png\" width=\"300\"><br>\n",
    "<font color = 11BE30><b>One-to-many Relation: </b></font> if some first component appears more than once.<br>\n",
    "<img src=\"one-to-many.png\" width=\"300\"><br>\n",
    "<font color = 11BE30><b>Many-to-one Relation: </b></font> if some second component is paired with more than one first component.<br>\n",
    "<img src=\"many-to-one.png\" width=\"300\"><br>\n",
    "<font color = 11BE30><b>Many-to-many Relation: </b></font> if at least one first component is paired with than one second component and at least one second is paired with more than one first component.<br>\n",
    "<img src=\"many-to-many.png\" width=\"300\">"
   ]
  },
  {
   "cell_type": "markdown",
   "metadata": {},
   "source": [
    "<hr>"
   ]
  },
  {
   "cell_type": "markdown",
   "metadata": {},
   "source": [
    "## <font color = E31616>**Representing Relations**</font>"
   ]
  },
  {
   "cell_type": "markdown",
   "metadata": {},
   "source": [
    "* There are various ways to represent relations graphically:<br><br>\n",
    "    <font color = 11BE30><b>1. </b></font> Directed Graphs or Digraphs on a set<br>\n",
    "    <font color = 11BE30><b>2. </b></font> Matrices<br>\n",
    "    <font color = 11BE30><b>3. </b></font> Arrow Diagram<br><br>\n",
    "So let us take a look at each one of these representations."
   ]
  },
  {
   "cell_type": "markdown",
   "metadata": {},
   "source": [
    "### <font color = E31616>**1. Directed Graphs or Digraphs on a set**</font>"
   ]
  },
  {
   "cell_type": "markdown",
   "metadata": {},
   "source": [
    "Let $A = \\{a, b, c, d\\}$ and $R$ on $A \\times A$ is<br><br>\n",
    "<center>$R = \\{(a, b), (a, d), (b, b), (b, d), (c, a), (c, b), (d, b)\\}$</center>\n",
    "<img src=\"directed-graph.png\">"
   ]
  },
  {
   "cell_type": "markdown",
   "metadata": {},
   "source": [
    "<hr>"
   ]
  },
  {
   "cell_type": "markdown",
   "metadata": {},
   "source": [
    "### <font color = E31616>**2. Matrices**</font>"
   ]
  },
  {
   "cell_type": "markdown",
   "metadata": {},
   "source": [
    "### <font color = E31616>**Example 1**</font>"
   ]
  },
  {
   "cell_type": "markdown",
   "metadata": {},
   "source": [
    "For the same relation $R$ on $A \\times A$ as above we have:<br>\n",
    "<img src=\"matrices_1.png\">"
   ]
  },
  {
   "cell_type": "markdown",
   "metadata": {},
   "source": [
    "* <span style=\"background-color: #11BE30\">Important Note</span><br>\n",
    "    The elements of set <font color = 11BE30><b>$A$</b></font> appear as <font color = 11BE30><b>rows</b></font>.<br>\n",
    "    The elements of set <font color = 11BE30><b>$B$</b></font> appear as <font color = 11BE30><b>columns</b></font>."
   ]
  },
  {
   "cell_type": "markdown",
   "metadata": {},
   "source": [
    "<hr>"
   ]
  },
  {
   "cell_type": "markdown",
   "metadata": {},
   "source": [
    "### <font color = E31616>**Example 2**</font>"
   ]
  },
  {
   "cell_type": "markdown",
   "metadata": {},
   "source": [
    "$R_1 = \\{(1, x), (1, y), (2, x), (3, x)\\}$<br><br>\n",
    "$R_2 = \\{(x, b), (y, b), (y, a), (y, c)\\}$<br>\n",
    "<img src=\"matrices_2.png\">"
   ]
  },
  {
   "cell_type": "markdown",
   "metadata": {},
   "source": [
    "<hr>"
   ]
  },
  {
   "cell_type": "markdown",
   "metadata": {},
   "source": [
    "### <font color = E31616>**3. Arrow Diagram**</font>"
   ]
  },
  {
   "cell_type": "markdown",
   "metadata": {},
   "source": [
    "For the relation $R$ on $A \\times B$, where $A = \\{1, 2, 3\\}$ and $B = \\{x, y, z\\}$, define $R = \\{(1, y), (1, z), (3, y)\\}$.<br>"
   ]
  },
  {
   "cell_type": "markdown",
   "metadata": {},
   "source": [
    "<img src=\"arrow-diagram-r.png\" width = \"300\"><br>\n",
    "[Exercises 1](http://webspace.ship.edu/deensley/DiscreteMath/flash/ch4/sec4_1/arrowdiagramsrelations.html)<br>\n",
    "[Exercises 2](http://webspace.ship.edu/deensley/DiscreteMath/flash/ch4/sec4_1/onesetarrows.html)"
   ]
  },
  {
   "cell_type": "markdown",
   "metadata": {},
   "source": [
    "<hr>"
   ]
  },
  {
   "cell_type": "markdown",
   "metadata": {},
   "source": [
    "## <font color = E31616>**Composition of Relations**</font>"
   ]
  },
  {
   "cell_type": "markdown",
   "metadata": {},
   "source": [
    "* Consider the following\n",
    "    * Arbitary, finite sets $A, B, C$\n",
    "    * A relation from $A$ to $B$, being $R_1$\n",
    "    * A relation from $B$ to $C$, being $R_2$\n",
    "* This means that $R_1$ is a subset of $A \\times B$ and $R_2$ is a subset of $B \\times C$\n",
    "* Now there is a relation for $A$ to $C$, namely $R_2 \\circ R_1$\n",
    "    * $a (R_2 \\circ R_1) c$ if for some $b \\in B$ we have $a R_1 b$ and $b R_2 c$\n",
    "* This relation is called the <font color = 11BE30><b>composition</b></font> of relations $R_1$ and $R_2$"
   ]
  },
  {
   "cell_type": "markdown",
   "metadata": {},
   "source": [
    "<hr>"
   ]
  },
  {
   "cell_type": "markdown",
   "metadata": {},
   "source": [
    "### <font color = E31616>**Example**</font>"
   ]
  },
  {
   "cell_type": "markdown",
   "metadata": {},
   "source": [
    "* Consider the sets\n",
    "    * $A = \\{ 1, 2, 3\\}$\n",
    "    * $B = \\{x, y, z\\}$\n",
    "    * $C = \\{a, b, c\\}$<br>\n",
    "\n",
    "Calculate the composite relations $R_2 \\circ R_1$ where these are given in the arrow diagram below.<br><br>\n",
    "$R_1 = \\{(1, y), (1, z), (3, y)\\}$<br><br>\n",
    "$R_2 = \\{(x, a), (x, b), (x, c), (y, a), (y, c), (z, b)\\}$<br><br>\n",
    "<img src=\"composition-example.png\" width = \"500\">\n",
    "$R_2 \\circ R_1 = \\{(1, a), (1, b), (1, c), (3, a), (3, c)\\}$<br><br>\n",
    "The problem can also be solved by multiplying the matrices of the relations."
   ]
  },
  {
   "cell_type": "code",
   "execution_count": null,
   "metadata": {},
   "outputs": [],
   "source": [
    "from sympy import init_printing, Matrix\n",
    "R_1 = Matrix([[0, 1, 1], [0, 0, 0], [0, 1, 0]])\n",
    "R_2 = Matrix([[1, 1, 1], [1, 0, 1], [0, 1, 0]])\n",
    "R_1\n"
   ]
  },
  {
   "cell_type": "code",
   "execution_count": null,
   "metadata": {},
   "outputs": [],
   "source": [
    "from sympy import init_printing, Matrix\n",
    "R_1 = Matrix([[0, 1, 1], [0, 0, 0], [0, 1, 0]])\n",
    "R_2 = Matrix([[1, 1, 1], [1, 0, 1], [0, 1, 0]])\n",
    "R_1 * R_2"
   ]
  },
  {
   "cell_type": "markdown",
   "metadata": {},
   "source": [
    "<hr>"
   ]
  }
 ],
 "metadata": {
  "kernelspec": {
   "display_name": "Python 3",
   "language": "python",
   "name": "python3"
  },
  "language_info": {
   "codemirror_mode": {
    "name": "ipython",
    "version": 3
   },
   "file_extension": ".py",
   "mimetype": "text/x-python",
   "name": "python",
   "nbconvert_exporter": "python",
   "pygments_lexer": "ipython3",
   "version": "3.7.3"
  },
  "nbTranslate": {
   "displayLangs": [
    "en",
    "pl"
   ],
   "hotkey": "alt-t",
   "langInMainMenu": true,
   "sourceLang": "pl",
   "targetLang": "en",
   "useGoogleTranslate": true
  }
 },
 "nbformat": 4,
 "nbformat_minor": 2
}
