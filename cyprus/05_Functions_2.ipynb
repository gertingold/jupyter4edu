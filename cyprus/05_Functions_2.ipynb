{
 "cells": [
  {
   "cell_type": "markdown",
   "metadata": {},
   "source": [
    "# <font color = purple>**FUNCTIONS PART 2**</font>"
   ]
  },
  {
   "cell_type": "markdown",
   "metadata": {},
   "source": [
    "## <font color = purple>**Summary**</font>"
   ]
  },
  {
   "cell_type": "markdown",
   "metadata": {},
   "source": [
    "<ol>\n",
    "    <b><li>Composition of Functions</li></b>\n",
    "        <ul>\n",
    "            <li>Examples</li>\n",
    "            <li>Facts about Composition of Functions</li>\n",
    "        </ul>\n",
    "</ol>"
   ]
  },
  {
   "cell_type": "markdown",
   "metadata": {},
   "source": [
    "<hr>"
   ]
  },
  {
   "cell_type": "markdown",
   "metadata": {},
   "source": [
    "## <font color = purple>**Composition of Functions**</font>"
   ]
  },
  {
   "cell_type": "markdown",
   "metadata": {},
   "source": [
    "* Given two functions $f : X \\to Y$ and $g : Y \\to Z$, we may from a new function fromn $X$ to $Z$, called the <font color = #F02B6B><b>composition of $f$ and $g$</b></font> by:\n",
    "<br><br>\n",
    "<center>$(g \\circ f)(x) = g(f(x))$ for all $x \\in X$</center>\n",
    "<br>\n",
    "* <font color = #F02B6B><b>Remark 1:</b></font> The <span style=\"background-color: #F02B6B\">range</span> of $f$ must be a <span style=\"background-color: #F02B6B\">subset of the domain</span> of $g$.\n",
    "* <font color = #F02B6B><b>Remark 2:</b></font> We can <span style=\"background-color: #F02B6B\">not</span> always find <span style=\"background-color: #F02B6B\">both</span> $g \\circ f$ and $f \\circ g$.\n",
    "* <font color = #F02B6B><b>Remark 3:</b></font> If we <span style=\"background-color: #F02B6B\">CAN</span> find both, it does <span style=\"background-color: #F02B6B\">NOT</span> mean that $g \\circ f = f \\circ g$."
   ]
  },
  {
   "cell_type": "markdown",
   "metadata": {},
   "source": [
    "<hr>"
   ]
  },
  {
   "cell_type": "markdown",
   "metadata": {},
   "source": [
    "### <font color = purple>**Composition Example 1:**</font>"
   ]
  },
  {
   "cell_type": "markdown",
   "metadata": {},
   "source": [
    "With this example we will examine the three remarks previously stated.<br><br>\n",
    "Let us define two functions $f$ and $g$ as follows:<br><br>\n",
    "$f = (a, 3), (b, 2), (c, 1)$ <font color = #F02B6B><b> and </b></font> $g = (a, b), (b, c), (c, a)$.<br>\n",
    "* $g \\circ f =$ is not defined ... Why?\n",
    "* $f \\circ g = \\{(a, 2), (b, 1), (c, 3)\\}$"
   ]
  },
  {
   "cell_type": "markdown",
   "metadata": {},
   "source": [
    "<hr>"
   ]
  },
  {
   "cell_type": "markdown",
   "metadata": {},
   "source": [
    "### <font color = purple>**Composition Example 2:**</font>"
   ]
  },
  {
   "cell_type": "markdown",
   "metadata": {},
   "source": [
    "Find the composition $f \\circ g$ and $g \\circ f$ when given the real valued functions<br><br>\n",
    "<center>$f(x) = x^2$ <font color = #F02B6B><b> and </b></font> $g(x) = x + 1$</center>"
   ]
  },
  {
   "cell_type": "code",
   "execution_count": null,
   "metadata": {},
   "outputs": [],
   "source": [
    "# their composition:\n",
    "def comp(f, g):\n",
    "    return lambda x: f(g(x))\n",
    "\n",
    "# Define f(x)\n",
    "def f(x):\n",
    "    return 2*x\n",
    "#print(f(5))\n",
    "\n",
    "#Define g(x)\n",
    "def g(x):\n",
    "    return x + 1\n",
    "#print(g(5))\n",
    "\n",
    "c1 = comp(f, g) # Composing fog for x=5; fog(x)=2(x+1)\n",
    "c2 = comp(g,f)  # Composing gof for x=5; gof(x)=2x+1\n",
    "print('f o g =', c1(5),'but', 'g o f =', c2(5))\n",
    "#Can you verify this??"
   ]
  },
  {
   "cell_type": "markdown",
   "metadata": {},
   "source": [
    "<hr>"
   ]
  },
  {
   "cell_type": "markdown",
   "metadata": {},
   "source": [
    "### <font color = purple>**Composition Example 3:**</font>"
   ]
  },
  {
   "cell_type": "markdown",
   "metadata": {},
   "source": [
    "Find the composition of the three functions $f \\circ g \\circ h$ when given the real valued functions $f(x) = x^2$ <font color = #F02B6B><b>,</b></font> $g(x) = x + 1 $ <font color = #F02B6B><b> and </b></font> $h(x) = 2x$."
   ]
  },
  {
   "cell_type": "code",
   "execution_count": null,
   "metadata": {},
   "outputs": [],
   "source": [
    "# Define h(x)=x^2 (The other two functions a same as in Example 2 so we do not need to define them again)\n",
    "def h(x):\n",
    "    return x*x \n",
    "#print(h(4))\n",
    "\n",
    "# Call the function for x=5; fogoh(x)=2(x^2+1)\n",
    "c3 = comp(comp(f, g), h)\n",
    "print(c3(5))"
   ]
  },
  {
   "cell_type": "markdown",
   "metadata": {},
   "source": [
    "<hr>"
   ]
  },
  {
   "cell_type": "markdown",
   "metadata": {},
   "source": [
    "### <font color = purple>**Facts about Composition of Functions**</font>"
   ]
  },
  {
   "cell_type": "markdown",
   "metadata": {},
   "source": [
    "* For any $f : X \\to Y$, we have that:<br><br>\n",
    "<center>$f \\circ 1_X = f$ <font color = #F02B6B><b> and </b></font> $1_Y \\circ f = f$</center>\n",
    "* Also<br><br>\n",
    "<center>$f^{-1} \\circ f = 1_X$ <font color = #F02B6B><b> and </b></font> $f \\circ f^{-1} = 1_Y$</center><br>\n",
    "This is a way to check the validity of an inverse function.<br><br>\n",
    "* For any $f: X \\to X$, we define $f^1 = f$ and for $n \\in \\mathbb{Z}$, $f^{n+1} = f \\circ (f^n)$.<br><br>\n",
    "* Example:\n",
    "    * Let $f: \\mathbb{Z} \\to \\mathbb{Z} $, $f(x) = 2x + 3$. Find $f^2$, $f^3$.\n",
    "    * Let $f = \\{(1, 2), (2, 3), (3, 1)\\}$. Find $f^4$."
   ]
  },
  {
   "cell_type": "markdown",
   "metadata": {},
   "source": [
    "<hr>"
   ]
  },
  {
   "cell_type": "markdown",
   "metadata": {},
   "source": [
    "[More Exercises](http://webspace.ship.edu/deensley/DiscreteMath/flash/ch4/sec4_2/functions.html)"
   ]
  },
  {
   "cell_type": "markdown",
   "metadata": {},
   "source": [
    "<hr>"
   ]
  }
 ],
 "metadata": {
  "kernelspec": {
   "display_name": "Python 3",
   "language": "python",
   "name": "python3"
  },
  "language_info": {
   "codemirror_mode": {
    "name": "ipython",
    "version": 3
   },
   "file_extension": ".py",
   "mimetype": "text/x-python",
   "name": "python",
   "nbconvert_exporter": "python",
   "pygments_lexer": "ipython3",
   "version": "3.7.3"
  },
  "nbTranslate": {
   "displayLangs": [
    "en",
    "pl"
   ],
   "hotkey": "alt-t",
   "langInMainMenu": true,
   "sourceLang": "pl",
   "targetLang": "en",
   "useGoogleTranslate": true
  }
 },
 "nbformat": 4,
 "nbformat_minor": 2
}
