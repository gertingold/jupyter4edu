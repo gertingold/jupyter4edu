{
 "cells": [
  {
   "cell_type": "markdown",
   "metadata": {},
   "source": [
    "# General relativity using symbolic computer algebra"
   ]
  },
  {
   "cell_type": "code",
   "execution_count": null,
   "metadata": {
    "scrolled": true
   },
   "outputs": [],
   "source": [
    "import numpy as np\n",
    "from scipy import integrate\n",
    "import k3d"
   ]
  },
  {
   "cell_type": "markdown",
   "metadata": {},
   "source": [
    "## Embedding of the Schwarzschild solution"
   ]
  },
  {
   "cell_type": "markdown",
   "metadata": {},
   "source": [
    "Due to its high symmetry, the Schwarzschild lends itself to a graphical representation by embedding into a three-dimensional space. We will consider two different embeddings:\n",
    "\n",
    "* The Schwarzschild space-time is static so that we can keep the time fixed. Then, we can visualize the spatial curvature properties.\n",
    "* The second embedding makes use of the rotational symmetry and focusses on the radial coordinate and time. \n",
    "\n",
    "In the second point, we follow D. Marolf, *Spacetime Embedding Diagrams for Black Holes*, Gen. Rel. Grav. **31**, 919 (1999).\n",
    "\n",
    "As derived in the previous noteboook [Schwarzschild solution](SchwarzschildMetric.ipynb), the Schwarzschild line element is given by\n",
    "$$\\mathrm{d}s^2 = -\\left(1-\\frac{r_\\text{S}}{r}\\right)c^2\\mathrm{d}t^2+\\frac{1}{1-\\frac{r_\\text{S}}{r}}\\mathrm{d}r^2+r^2\\mathrm{d}\\theta^2+r^2\\sin(\\theta)^2\\mathrm{d}\\phi^2$$\n",
    "where $r_\\text{S}=2GM/c^2$ is the Schwarzschild radius."
   ]
  },
  {
   "cell_type": "markdown",
   "metadata": {},
   "source": [
    "## Spatial properties"
   ]
  },
  {
   "cell_type": "markdown",
   "metadata": {},
   "source": [
    "The stationarity of the Schwarzschild solution allows us to fix the time coordinate $t$. Furthermore, due to the rotational symmetry, we can restrict ourselves to the equatorial plane $\\theta=\\pi/2$. We thus are left with the two coordinates $r$ and $\\phi$ and the line element\n",
    "$$\\mathrm{d}s^2 = \\frac{1}{1-\\frac{r_\\text{S}}{r}}\\mathrm{d}r^2+r^2\\mathrm{d}\\phi^2.$$\n",
    "\n",
    "Our goal is to determine an embedding in a three-dimensional space. To account for the axial symmetry, we choose cylindrical coordinates $(r,\\phi,z$ with the line element\n",
    "$$\\mathrm{d}s^2 = \\mathrm{d}r^2+r^2\\mathrm{d}\\phi^2+\\mathrm{d}z^2$$\n",
    "representing a three-dimensional flat space. We will embed the Schwarzschild metric by choosing an appropriate function $z(r)$ defining a two-dimensional surface. On this surface,\n",
    "the line element is given by\n",
    "$$\\mathrm{d}s^2 = \\left[1+\\left(\\frac{\\mathrm{d}z}{\\mathrm{d}r}\\right)^2\\right]\\mathrm{d}r^2+r^2\\mathrm{d}\\phi^2.$$\n",
    "\n",
    "Comparing with the Schwarzschild metric, we obtain the differential equation\n",
    "$$\\frac{\\mathrm{d}z}{\\mathrm{d}r} = \\pm\\sqrt{\\frac{1}{1-\\frac{r_\\text{S}}{r}}-1}\n",
    "=\\pm\\sqrt{\\frac{r_\\text{S}}{r-r_\\text{S}}}.$$\n",
    "In the following, we choose the positive branch of the square root.\n",
    "\n",
    "The integration is straightforward and we obtain\n",
    "$$z(r) = 2\\sqrt{(r-r_\\text{S})r_\\text{S}}.$$\n",
    "In the following, all lengths will be taken in units of the Schwarzschild radius."
   ]
  },
  {
   "cell_type": "code",
   "execution_count": null,
   "metadata": {},
   "outputs": [],
   "source": [
    "def line_r(r):\n",
    "    phi = np.linspace(0, 2*np.pi, 100, dtype=np.float32)\n",
    "    x = r*np.cos(phi)\n",
    "    y = r*np.sin(phi)\n",
    "    z = 2*np.sqrt(r-1)*np.ones_like(phi)\n",
    "    return k3d.line(np.vstack([x, y, z]).T)\n",
    "\n",
    "def line_phi(phi, rmax):\n",
    "    r = np.linspace(1, rmax, 100, dtype=np.float32)\n",
    "    x = r*np.cos(phi)\n",
    "    y = r*np.sin(phi)\n",
    "    z = 2*np.sqrt(r-1)\n",
    "    return k3d.line(np.vstack([x, y, z]).T)\n",
    "\n",
    "plot = k3d.plot()\n",
    "rmax = 5\n",
    "for r in np.linspace(1, rmax, 20):\n",
    "    plot += line_r(r)\n",
    "for phi in np.linspace(0, 2*np.pi, 40):\n",
    "    plot += line_phi(phi, rmax)\n",
    "plot.display()"
   ]
  },
  {
   "cell_type": "markdown",
   "metadata": {},
   "source": [
    "The lines in this figure have been drawn for equidistant values of the radial coordinate $r$ starting at $r=r_\\text{S}$. For a given value of $r$, the circumference of the corresponding circle equals $2\\pi r$. On the other hand, as the figure clearly shows, the radial distance does not correspond to the difference of the corresponding values of $r$. Close to the Schwarzschild radius at the bottom of the figure, the radial distance between successive values of $r$ is bigger than further out. Rotate and zoom the figure to explore in more detail this property."
   ]
  },
  {
   "cell_type": "markdown",
   "metadata": {},
   "source": [
    "## Space-time properties"
   ]
  },
  {
   "cell_type": "markdown",
   "metadata": {},
   "source": [
    "We now consider the Schwarzschild metric at a fixed value of the angles $\\theta$ and $\\phi$, keeping the time $t$ and the radial coordinate $r$ as variables. "
   ]
  },
  {
   "cell_type": "code",
   "execution_count": null,
   "metadata": {},
   "outputs": [],
   "source": [
    "def f1(u):\n",
    "    return np.sqrt(1 + 1/u + 1/u**2 + 1/u**3)\n",
    "\n",
    "def line_s(s, tmax):\n",
    "    t = np.linspace(-tmax, tmax, 100, dtype=np.float32)\n",
    "    x = np.tanh(2.5*s)*np.sqrt(s**2+t**2)\n",
    "    r = 1/(1-0.25*(x**2-t**2))\n",
    "    y = np.array([integrate.quad(f1, 1, r[n])[0] for n in range(r.shape[0])])\n",
    "    return k3d.line(np.vstack([x, y, t]).T)\n",
    "\n",
    "def line_t(t, smax):\n",
    "    s = np.linspace(-smax, smax, 100, dtype=np.float32)\n",
    "    x = np.tanh(2.5*s)*np.sqrt(s**2+t**2)\n",
    "    r = 1/(1-0.25*(x**2-t**2))\n",
    "    y = np.array([integrate.quad(f1, 1, r[n])[0] for n in range(r.shape[0])])\n",
    "    z = t*np.ones_like(r)\n",
    "    return k3d.line(np.vstack([x, y, z]).T)\n",
    "\n",
    "plot = k3d.plot()\n",
    "smax = 1.9\n",
    "tmax = 10\n",
    "for s in np.linspace(-smax, smax, 40):\n",
    "    plot += line_s(s, tmax)\n",
    "for t in np.linspace(-tmax, tmax, 40):\n",
    "    plot += line_t(t, smax)\n",
    "plot.display()"
   ]
  }
 ],
 "metadata": {
  "kernelspec": {
   "display_name": "Python 3",
   "language": "python",
   "name": "python3"
  },
  "language_info": {
   "codemirror_mode": {
    "name": "ipython",
    "version": 3
   },
   "file_extension": ".py",
   "mimetype": "text/x-python",
   "name": "python",
   "nbconvert_exporter": "python",
   "pygments_lexer": "ipython3",
   "version": "3.5.6"
  }
 },
 "nbformat": 4,
 "nbformat_minor": 2
}
