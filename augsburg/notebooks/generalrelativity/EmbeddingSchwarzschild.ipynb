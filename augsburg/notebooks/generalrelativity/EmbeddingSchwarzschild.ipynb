{
 "cells": [
  {
   "cell_type": "markdown",
   "metadata": {},
   "source": [
    "# General relativity using symbolic computer algebra"
   ]
  },
  {
   "cell_type": "markdown",
   "metadata": {},
   "source": [
    "The purpose of this notebook is not to demonstrate capabilities of symbolic computer algebra. We rather would like to explore possibilities to visualize the Schwarzschild solution previously obtained by symbolic computation. The use of the `k3d` package allows us to rotate the figure and zoom in and out."
   ]
  },
  {
   "cell_type": "code",
   "execution_count": null,
   "metadata": {
    "scrolled": true
   },
   "outputs": [],
   "source": [
    "import numpy as np\n",
    "from scipy import integrate\n",
    "import k3d"
   ]
  },
  {
   "cell_type": "markdown",
   "metadata": {},
   "source": [
    "## Embedding of the Schwarzschild solution"
   ]
  },
  {
   "cell_type": "markdown",
   "metadata": {},
   "source": [
    "Due to its high symmetry, the Schwarzschild lends itself to a graphical representation by embedding into a three-dimensional space. We will consider two different embeddings:\n",
    "\n",
    "* The Schwarzschild space-time is static so that we can keep the time fixed. Then, we can visualize the spatial curvature properties.\n",
    "* The second embedding makes use of the rotational symmetry and focusses on the radial coordinate and time. \n",
    "\n",
    "In the second point, we follow D. Marolf, *Spacetime Embedding Diagrams for Black Holes*, Gen. Rel. Grav. **31**, 919 (1999).\n",
    "\n",
    "As derived in the previous noteboook [Schwarzschild solution](SchwarzschildMetric.ipynb), the Schwarzschild line element is given by\n",
    "$$\\mathrm{d}s^2 = -\\left(1-\\frac{r_\\text{S}}{r}\\right)c^2\\mathrm{d}t^2+\\frac{1}{1-\\frac{r_\\text{S}}{r}}\\mathrm{d}r^2+r^2\\mathrm{d}\\theta^2+r^2\\sin(\\theta)^2\\mathrm{d}\\phi^2$$\n",
    "where $r_\\text{S}=2GM/c^2$ is the Schwarzschild radius."
   ]
  },
  {
   "cell_type": "markdown",
   "metadata": {},
   "source": [
    "## Spatial properties"
   ]
  },
  {
   "cell_type": "markdown",
   "metadata": {},
   "source": [
    "The stationarity of the Schwarzschild solution allows us to fix the time coordinate $t$. Furthermore, due to the rotational symmetry, we can restrict ourselves to the equatorial plane $\\theta=\\pi/2$. We thus are left with the two coordinates $r$ and $\\phi$ and the line element\n",
    "$$\\mathrm{d}s^2 = \\frac{1}{1-\\frac{r_\\text{S}}{r}}\\mathrm{d}r^2+r^2\\mathrm{d}\\phi^2.$$\n",
    "\n",
    "Our goal is to determine an embedding in a three-dimensional space. To account for the axial symmetry, we choose cylindrical coordinates $(r,\\phi,z$ with the line element\n",
    "$$\\mathrm{d}s^2 = \\mathrm{d}r^2+r^2\\mathrm{d}\\phi^2+\\mathrm{d}z^2$$\n",
    "representing a three-dimensional flat space. We will embed the Schwarzschild metric by choosing an appropriate function $z(r)$ defining a two-dimensional surface. On this surface,\n",
    "the line element is given by\n",
    "$$\\mathrm{d}s^2 = \\left[1+\\left(\\frac{\\mathrm{d}z}{\\mathrm{d}r}\\right)^2\\right]\\mathrm{d}r^2+r^2\\mathrm{d}\\phi^2.$$\n",
    "\n",
    "Comparing with the Schwarzschild metric, we obtain the differential equation\n",
    "$$\\frac{\\mathrm{d}z}{\\mathrm{d}r} = \\pm\\sqrt{\\frac{1}{1-\\frac{r_\\text{S}}{r}}-1}\n",
    "=\\pm\\sqrt{\\frac{r_\\text{S}}{r-r_\\text{S}}}.$$\n",
    "In the following, we choose the positive branch of the square root.\n",
    "\n",
    "The integration is straightforward and we obtain\n",
    "$$z(r) = 2\\sqrt{(r-r_\\text{S})r_\\text{S}}.$$\n",
    "In the following, all lengths will be taken in units of the Schwarzschild radius."
   ]
  },
  {
   "cell_type": "code",
   "execution_count": null,
   "metadata": {},
   "outputs": [],
   "source": [
    "def line_r(r):\n",
    "    \"\"\"generate line for constant r\"\"\"\n",
    "    phi = np.linspace(0, 2*np.pi, 100, dtype=np.float32)\n",
    "    x = r*np.cos(phi)\n",
    "    y = r*np.sin(phi)\n",
    "    z = 2*np.sqrt(r-1)*np.ones_like(phi)\n",
    "    return k3d.line(np.vstack([x, y, z]).T)\n",
    "\n",
    "def line_phi(phi, rmax):\n",
    "    \"\"\"generate line for constant phi\"\"\"\n",
    "    r = np.linspace(1, rmax, 100, dtype=np.float32)\n",
    "    x = r*np.cos(phi)\n",
    "    y = r*np.sin(phi)\n",
    "    z = 2*np.sqrt(r-1)\n",
    "    return k3d.line(np.vstack([x, y, z]).T)\n",
    "\n",
    "plot = k3d.plot()\n",
    "rmax = 5\n",
    "for r in np.linspace(1, rmax, 20):\n",
    "    plot += line_r(r)\n",
    "for phi in np.linspace(0, 2*np.pi, 40):\n",
    "    plot += line_phi(phi, rmax)\n",
    "plot.display()"
   ]
  },
  {
   "cell_type": "markdown",
   "metadata": {},
   "source": [
    "The lines in this figure have been drawn for equidistant values of the radial coordinate $r$ starting at $r=r_\\text{S}$. For a given value of $r$, the circumference of the corresponding circle equals $2\\pi r$. On the other hand, as the figure clearly shows, the radial distance does not correspond to the difference of the corresponding values of $r$. Close to the Schwarzschild radius at the bottom of the figure, the radial distance between successive values of $r$ is bigger than further out. Rotate and zoom the figure to explore in more detail this property."
   ]
  },
  {
   "cell_type": "markdown",
   "metadata": {},
   "source": [
    "## Space-time properties"
   ]
  },
  {
   "cell_type": "markdown",
   "metadata": {},
   "source": [
    "We now consider the Schwarzschild metric at a fixed value of the angles $\\theta$ and $\\phi$, keeping the time $t$ and the radial coordinate $r$ as variables. The Schwarzschild solution will be embedded into a (1+2)-dimensional Minkowski space with line element\n",
    "$$\\mathrm{d}s^2 = -c^2\\mathrm{d}T^2+\\mathrm{d}X^2+\\mathrm{d}Y^2.$$\n",
    "The embedding is achieved by setting\n",
    "\\begin{align}\n",
    " cT &= 2r_\\text{S}\\sqrt{1-\\dfrac{r_\\text{S}}{r}}\\sinh\\left(\\dfrac{ct}{2r_\\text{S}}\\right)\\\\\n",
    " X &= 2r_\\text{S}\\sqrt{1-\\dfrac{r_\\text{S}}{r}}\\cosh\\left(\\dfrac{ct}{2r_\\text{S}}\\right)\\\\\n",
    "\\end{align}\n",
    "and\n",
    "$$Y(r)=-\\int_{r_\\text{S}}^r\\sqrt{1+\\dfrac{r_\\text{S}}{r}+\\dfrac{r_\\text{S}^2}{r^2}\n",
    "                                +\\dfrac{r_\\text{S}^3}{r^3}}.$$\n",
    "The latter choice ensures that the line element on the embedded surface is given by the Schwarzschild line element at fixed angles $\\theta$ and $\\phi$\n",
    "$$\\mathrm{d}s^2 = -\\left(1-\\dfrac{r_\\text{S}}{r}\\right)c^2\\mathrm{d}t^2\n",
    "                  +\\frac{1}{1-\\dfrac{r_\\text{S}}{r}}\\mathrm{d}r^2.$$\n",
    "                  \n",
    "The following code produces a visual representation of this embedding. In interpreting the result, it should be kept in mind that we embedded into a (2+1)-dimensional Minkowski space, not a 3-dimensional Euclidean space."
   ]
  },
  {
   "cell_type": "markdown",
   "metadata": {},
   "source": [
    "A technical remark on the creation of the figure: There is some flexibility in choosing the values $(X, cT)$ for which $Y$ is calculated and which will be shown as point $(X, Y, cT)$ in the figure and denoted by `x, y, t` in the code. It turns out that instead of using $X$ directly, it is better to use a parameter `v` and define\n",
    "$$x = \\tanh\\left(\\frac{5}{2}v\\right)\\sqrt{v^2+t^2}.$$\n",
    "The factor $5/2$ can be modified, but we follow here the choice made in the paper by Marolf cited above. Feel free to experiment with a parametrization based directly on $X$ and $cT$. Alternatively, take a look at the discussion in the paper by Marolf."
   ]
  },
  {
   "cell_type": "code",
   "execution_count": null,
   "metadata": {},
   "outputs": [],
   "source": [
    "def integrand(u):\n",
    "    return -np.sqrt(1 + 1/u + 1/u**2 + 1/u**3)\n",
    "\n",
    "def y_integral(r):\n",
    "    \"\"\"determine function Y(r) for embedding\"\"\"\n",
    "    return integrate.quad(integrand, 1, r)[0]\n",
    "\n",
    "def line_v(v, tmax):\n",
    "    \"\"\"generate line for constant v\"\"\"\n",
    "    t = np.linspace(-tmax, tmax, 100, dtype=np.float32)\n",
    "    x = np.tanh(2.5*v)*np.sqrt(v**2+t**2)\n",
    "    r = 1/(1-0.25*(x**2-t**2))\n",
    "    y = np.array([y_integral(r[n]) for n in range(r.shape[0])], dtype=np.float32)\n",
    "    return k3d.line(np.vstack([x, y, t]).T)\n",
    "\n",
    "def line_t(t, vmax):\n",
    "    \"\"\"generate line for constant t\"\"\"\n",
    "    v = np.linspace(-vmax, vmax, 100, dtype=np.float32)\n",
    "    x = np.tanh(2.5*v)*np.sqrt(v**2+t**2)\n",
    "    r = 1/(1-0.25*(x**2-t**2))\n",
    "    y = np.array([y_integral(r[n]) for n in range(r.shape[0])], dtype=np.float32)\n",
    "    z = t*np.ones_like(r)\n",
    "    return k3d.line(np.vstack([x, y, z]).T)\n",
    "\n",
    "def line_r(r, tmax):\n",
    "    \"\"\"generate line for constant r\n",
    "    \n",
    "       r is taken in units of the Schwarzschild radius.\n",
    "       \n",
    "       We need to distinguish the regions larger than the Schwarzschild radius (r>1)\n",
    "       and smaller than the Schwarzschild radius (r<1).\n",
    "       \n",
    "    \"\"\"\n",
    "    if r >= 1:\n",
    "        t = np.linspace(-tmax, tmax, 100, dtype=np.float32)\n",
    "        x = np.sqrt(t*t+4*(1-1/r))\n",
    "        y = y_integral(r)*np.ones_like(t)\n",
    "        return np.vstack([x, y, t]).T, np.vstack([-x, y, t]).T\n",
    "    else:\n",
    "        tmin = 2*np.sqrt(1/r-1)+1e-7\n",
    "        t = np.linspace(tmin, tmax, 100, dtype=np.float32)\n",
    "        x = np.sqrt(t*t+4*(1-1/r))\n",
    "        y = y_integral(r)*np.ones_like(t)\n",
    "        return (np.vstack([x, y, t]).T, np.vstack([-x, y, t]).T,\n",
    "                np.vstack([x, y, -t]).T, np.vstack([-x, y, -t]).T)\n",
    "\n",
    "plot = k3d.plot(axes=['X', 'Y', 'cT'])\n",
    "vmax = 1.9\n",
    "tmax = 10\n",
    "\n",
    "# draw grid parametrized by v and t\n",
    "for v in np.linspace(-vmax, vmax, 30):\n",
    "    plot += line_v(v, tmax)\n",
    "for t in np.linspace(-tmax, tmax, 30):\n",
    "    plot += line_t(t, vmax)\n",
    "    \n",
    "# draw pair of lines indicating the Schwarzschild radius\n",
    "kwargs = {'color': 0xc00000, 'width': 0.04}\n",
    "plot += k3d.line([[-tmax, 0, -tmax], [tmax, 0, tmax]], **kwargs)\n",
    "plot += k3d.line([[tmax, 0, -tmax], [-tmax, 0, tmax]], **kwargs)\n",
    "\n",
    "# draw lines of constant r\n",
    "kwargs = {'color': 0x008000, 'width': 0.04}\n",
    "for r in (0.125, 0.25, 0.5, 2, 4, 8):\n",
    "    for l in line_r(r, tmax):\n",
    "        plot += k3d.line(l, **kwargs)\n",
    "        \n",
    "plot.display()"
   ]
  },
  {
   "cell_type": "markdown",
   "metadata": {},
   "source": [
    "The red lines indicate the Schwarzschild radius corresponding to $Y=0$, separating the surface into four distinct regions. Positive values of $Y$ correspond to distances $r$ from the central mass larger than the Schwarzschild radius. The green lines represent curves of constant distance from the central mass with $r$ different from the Schwarzschild radius."
   ]
  }
 ],
 "metadata": {
  "kernelspec": {
   "display_name": "Python 3",
   "language": "python",
   "name": "python3"
  },
  "language_info": {
   "codemirror_mode": {
    "name": "ipython",
    "version": 3
   },
   "file_extension": ".py",
   "mimetype": "text/x-python",
   "name": "python",
   "nbconvert_exporter": "python",
   "pygments_lexer": "ipython3",
   "version": "3.5.6"
  }
 },
 "nbformat": 4,
 "nbformat_minor": 2
}
