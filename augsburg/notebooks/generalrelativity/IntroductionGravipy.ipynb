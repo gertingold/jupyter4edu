{
 "cells": [
  {
   "cell_type": "markdown",
   "metadata": {},
   "source": [
    "# General relativity using symbolic computer algebra\n",
    "## Introduction to GraviPy"
   ]
  },
  {
   "cell_type": "markdown",
   "metadata": {},
   "source": [
    "The popular programming language [Python](https://www.python.org) provides a package for symbolic computations called [SymPy](https://www.sympy.org). In 2014, Wojciech Czaja started writing the package GraviPy which extends SymPy with functionality useful in doing symbolic calculations in general relativity. The package is available from the [Python Package Index](https://pypi.python.org) (PyPI) as [GraviPy 0.2.0](https://pypi.org/project/gravipy/). In this notebook, we will give an introduction to these packages to the extent needed in the following notebooks."
   ]
  },
  {
   "cell_type": "markdown",
   "metadata": {},
   "source": [
    "#### Installation"
   ]
  },
  {
   "cell_type": "markdown",
   "metadata": {},
   "source": [
    "Probably the easiest way to set up a Python environment for the use with GraviPy is to start with the [Anaconda distribution](https://www.anaconda.org) which is a popular distribution in scientific environments. It provides conda, a package and environment management system allowing us to easily setup a Python environment with all the packages needed to run the notebooks in this collection.\n",
    "\n",
    "Assuming that you have the Anaconda distribution installed and its binaries in your path, follow these steps to install an environment for use with these notebooks.\n",
    "\n",
    "1. Create a new environment. Instead of `gravipy` you can use also another name for the environment as long as it does not conflict with already existing environments.\n",
    "```\n",
    "conda create --name gravipy\n",
    "```\n",
    "**Important note**: For Python 3.6+, GraviPy 0.2.0+ should be used.\n",
    "\n",
    "1. Activate the new environment. If you have chosen a different name for the environment, you should use it here as well.\n",
    "```\n",
    "conda activate gravipy\n",
    "```\n",
    "1. Install the SymPy package.\n",
    "```\n",
    "conda install sympy\n",
    "```\n",
    "1. Install the GraviPy Package from PyPI. At the time of writing, no `conda` package for GraviPy was available, so that we are obliged to install it with `pip`. Note that in the following command the package name is required, not the name of the environment chosen above.\n",
    "```\n",
    "pip install gravipy\n",
    "```\n",
    "1. In order to run the notebooks in this environment, the Jupyter package needs to be installed as well.\n",
    "```\n",
    "conda install jupyter\n",
    "```\n",
    "1. After finishing work with the notebooks, you may deactivate the environment.\n",
    "```\n",
    "conda deactivate\n",
    "```\n",
    "\n",
    "Alternatively, the `requirements.txt` file specifies the requirements to set up a Python virtual environment with GraviPy 0.2.0."
   ]
  },
  {
   "cell_type": "markdown",
   "metadata": {},
   "source": [
    "#### Getting started"
   ]
  },
  {
   "cell_type": "markdown",
   "metadata": {},
   "source": [
    "Before GraviPy can be used, it needs to be imported. GraviPy 0.2.0 itself will import some functionality of `sympy` but not the full namespace as was the case for GraviPy 0.1.0. In the third line, we call SymPy's `init_printing` function which will make sure that the visual representation of results will be optimized."
   ]
  },
  {
   "cell_type": "code",
   "execution_count": null,
   "metadata": {},
   "outputs": [],
   "source": [
    "from gravipy.tensorial import *\n",
    "import sympy\n",
    "sympy.init_printing()"
   ]
  },
  {
   "cell_type": "markdown",
   "metadata": {},
   "source": [
    "#### Metric tensor\n",
    "For our first steps, we start by considering a two-dimensional sphere embedded in three-dimensional space. Only later will we move to four-dimensional space-time. We begin by introducing symbols and define two of the symbols as coordinates."
   ]
  },
  {
   "cell_type": "code",
   "execution_count": null,
   "metadata": {},
   "outputs": [],
   "source": [
    "r, theta, phi = symbols(r'r theta phi')\n",
    "x = Coordinates('x', [theta, phi])"
   ]
  },
  {
   "cell_type": "markdown",
   "metadata": {},
   "source": [
    "On the left-hand side of the first line, we define three variables `r`, `theta` and `phi`. There visual representation is given in the argument of `symbols`, where the backslash refers to the TeX syntax of greek letters. Note the 'r' in front of the string, defining it as a raw string. Otherwise, `\\t` would be interpreted as tab character.\n",
    "\n",
    "In the second line, we define a `Coordinates` object which possesses an attribute `c` containing the coordinates:"
   ]
  },
  {
   "cell_type": "code",
   "execution_count": null,
   "metadata": {},
   "outputs": [],
   "source": [
    "x.c"
   ]
  },
  {
   "cell_type": "markdown",
   "metadata": {},
   "source": [
    "At this point, the contravariant components are defined, which in GraviPy are indexed by negative indices:"
   ]
  },
  {
   "cell_type": "code",
   "execution_count": null,
   "metadata": {},
   "outputs": [],
   "source": [
    "x.components"
   ]
  },
  {
   "cell_type": "code",
   "execution_count": null,
   "metadata": {},
   "outputs": [],
   "source": [
    "x(-1), x(-2)"
   ]
  },
  {
   "cell_type": "markdown",
   "metadata": {},
   "source": [
    "The covariant components indexed by a positive index are defined only after the associated metric tensor has been defined.\n",
    "\n",
    "**Note**: With a background in general relativity and/or Python, it may seem odd that numbering in GraviPy starts at 1 and not at 0. However, since the sign is used to distinguish between contravariant and covariant components, the index 0 is not useful."
   ]
  },
  {
   "cell_type": "markdown",
   "metadata": {},
   "source": [
    "In order to define the metric tensor `g`, we first introduce a diagonal matrix with the entries appropriate for a sphere of radius `r`."
   ]
  },
  {
   "cell_type": "code",
   "execution_count": null,
   "metadata": {},
   "outputs": [],
   "source": [
    "metric = diag(r**2, r**2*sin(theta)**2)\n",
    "metric"
   ]
  },
  {
   "cell_type": "markdown",
   "metadata": {},
   "source": [
    "At this point, we just have a SymPy matrix which now needs to be converted into a metric tensor. The first argument gives the symbol used to represent the metric tensor, the second  argument gives the coordinates, and the last argument is the matrix just introduced which defines the components of the metric tensor.  "
   ]
  },
  {
   "cell_type": "code",
   "execution_count": null,
   "metadata": {},
   "outputs": [],
   "source": [
    "g = MetricTensor('g', x, metric)"
   ]
  },
  {
   "cell_type": "markdown",
   "metadata": {},
   "source": [
    "We cn obtain all components of the metric tensor $g_{ij}$ as follows:"
   ]
  },
  {
   "cell_type": "code",
   "execution_count": null,
   "metadata": {},
   "outputs": [],
   "source": [
    "g(All, All)"
   ]
  },
  {
   "cell_type": "markdown",
   "metadata": {},
   "source": [
    "Correspondingly, its inverse $g^{ij}$ is obtained by using negative indices."
   ]
  },
  {
   "cell_type": "code",
   "execution_count": null,
   "metadata": {},
   "outputs": [],
   "source": [
    "g(-All, -All)"
   ]
  },
  {
   "cell_type": "markdown",
   "metadata": {},
   "source": [
    "The relation\n",
    "$$g_{ij}g^{jk} = g_i^k = \\delta_i^k$$\n",
    "signifies that $g^{ij}$ is the inverse of $g_{ij}$ which can now easily be verified by a matrix multiplication."
   ]
  },
  {
   "cell_type": "code",
   "execution_count": null,
   "metadata": {},
   "outputs": [],
   "source": [
    "g(All, All)*g(-All, -All)"
   ]
  },
  {
   "cell_type": "markdown",
   "metadata": {},
   "source": [
    "The mixed representation $g_i^j$ can be obtained by using a negative sign for only one of the components."
   ]
  },
  {
   "cell_type": "code",
   "execution_count": null,
   "metadata": {},
   "outputs": [],
   "source": [
    "g(-All, All)"
   ]
  },
  {
   "cell_type": "markdown",
   "metadata": {},
   "source": [
    "or"
   ]
  },
  {
   "cell_type": "code",
   "execution_count": null,
   "metadata": {},
   "outputs": [],
   "source": [
    "g(All, -All)"
   ]
  },
  {
   "cell_type": "markdown",
   "metadata": {},
   "source": [
    "Once the metric has been defined, also covariant coordinates are defined."
   ]
  },
  {
   "cell_type": "code",
   "execution_count": null,
   "metadata": {},
   "outputs": [],
   "source": [
    "x.components"
   ]
  },
  {
   "cell_type": "markdown",
   "metadata": {},
   "source": [
    "#### Christoffel symbol\n",
    "\n",
    "From the metric tensor, we can define the Christoffel symbol of the first kind\n",
    "$$\\Gamma_{ijk} = \\frac{1}{2}\\left(\\partial_j g_{ik}+\\partial_k g_{ji}-\\partial_i g_{jk}\\right)$$"
   ]
  },
  {
   "cell_type": "code",
   "execution_count": null,
   "metadata": {},
   "outputs": [],
   "source": [
    "Gamma = Christoffel(r'\\Gamma', g)"
   ]
  },
  {
   "cell_type": "code",
   "execution_count": null,
   "metadata": {},
   "outputs": [],
   "source": [
    "Gamma(All, All, All)"
   ]
  },
  {
   "cell_type": "markdown",
   "metadata": {},
   "source": [
    "We thus find two different nonvanishing components of the Christoffel symbol\n",
    "$$\\Gamma_{122} = -\\frac{r^2}{2}\\sin(2\\theta)$$\n",
    "and\n",
    "$$\\Gamma_{212} = \\Gamma_{221} = \\frac{r^2}{2}\\sin(\\theta).$$"
   ]
  },
  {
   "cell_type": "markdown",
   "metadata": {},
   "source": [
    "The Christoffel symbol of the second kind\n",
    "$$\\Gamma^i_{jk} = \\frac{1}{2}g^{im}\\left(\\partial_j g_{mk}+\\partial_k g_{jm}-\\partial_m g_{jk}\\right)$$\n",
    "is obtained as"
   ]
  },
  {
   "cell_type": "code",
   "execution_count": null,
   "metadata": {},
   "outputs": [],
   "source": [
    "Gamma(-All, All, All)"
   ]
  },
  {
   "cell_type": "markdown",
   "metadata": {},
   "source": [
    "with the two different components\n",
    "$$\\Gamma^1_{22} = -\\frac{1}{2}\\sin(2\\theta)$$\n",
    "and\n",
    "$$\\Gamma^2_{12} = \\Gamma^2_{21} = \\cot(\\theta)$$\n",
    "where the last expression can be verified with the help of SymPy's `simplify` method."
   ]
  },
  {
   "cell_type": "code",
   "execution_count": null,
   "metadata": {},
   "outputs": [],
   "source": [
    "Gamma(-2, 1, 2).simplify()"
   ]
  },
  {
   "cell_type": "markdown",
   "metadata": {},
   "source": [
    "#### Riemann curvature tensor\n",
    "\n",
    "The Riemann curvature tensor is obtained from the metric and the Christoffels symbols of the second kind as\n",
    "$$R_{ijkm} = \\frac{1}{2}\\left(\n",
    "    \\frac{\\partial^2g_{im}}{\\partial x^j\\partial x^k}\n",
    "    +\\frac{\\partial^2g_{jk}}{\\partial x^i\\partial x^m}\n",
    "    -\\frac{\\partial^2g_{ik}}{\\partial x^j\\partial x^m}\n",
    "    -\\frac{\\partial^2g_{jm}}{\\partial x^i\\partial x^k}\n",
    "\\right)\n",
    "+g_{np}(\\Gamma^n_{jk}\\Gamma^p_{im}-\\Gamma^n_{jm}\\Gamma^p_{ik})\n",
    "$$"
   ]
  },
  {
   "cell_type": "code",
   "execution_count": null,
   "metadata": {},
   "outputs": [],
   "source": [
    "Rm = Riemann('Rm', g)"
   ]
  },
  {
   "cell_type": "code",
   "execution_count": null,
   "metadata": {},
   "outputs": [],
   "source": [
    "Rm(All, All, All, All)"
   ]
  },
  {
   "cell_type": "markdown",
   "metadata": {},
   "source": [
    "This Riemann curvature tensor contains only one non-trivial entry as all others can be obtained by means of the symmetry properties\n",
    "$$R_{1212} = -R_{2112} = -R_{1221} = R_{2121} = r^2\\sin(2\\theta).$$"
   ]
  },
  {
   "cell_type": "code",
   "execution_count": null,
   "metadata": {},
   "outputs": [],
   "source": [
    "Rm(1, 2, 1, 2), -Rm(2, 1, 1, 2), -Rm(1, 2, 2, 1), Rm(2, 1, 2, 1)"
   ]
  },
  {
   "cell_type": "markdown",
   "metadata": {},
   "source": [
    "All other components of the Riemann curvature tensor in two dimensions vanish because of symmetry reasons."
   ]
  },
  {
   "cell_type": "markdown",
   "metadata": {},
   "source": [
    "#### Ricci tensor, Ricci scalar, and Einstein tensor\n",
    "\n",
    "The Ricci tensor appearing in Einstein's field equation of general relativity is defined as contraction of the Riemann curvature tensor\n",
    "$$R_{ij} = R^k_{ikj}.$$\n",
    "A further contraction yields the Ricci scalar\n",
    "$$R = R^i_i.$$\n",
    "The Einstein tensor is then defined as\n",
    "$$G^{ij} = R^{ij}-\\frac{1}{2}g^{ij}R.$$\n",
    "All these quantities are available with GraviPy."
   ]
  },
  {
   "cell_type": "code",
   "execution_count": null,
   "metadata": {},
   "outputs": [],
   "source": [
    "Ri = Ricci('Ri', g)"
   ]
  },
  {
   "cell_type": "code",
   "execution_count": null,
   "metadata": {},
   "outputs": [],
   "source": [
    "Ri(All, All)"
   ]
  },
  {
   "cell_type": "code",
   "execution_count": null,
   "metadata": {},
   "outputs": [],
   "source": [
    "Ri.scalar()"
   ]
  },
  {
   "cell_type": "code",
   "execution_count": null,
   "metadata": {},
   "outputs": [],
   "source": [
    "G = Einstein('G', Ri)"
   ]
  },
  {
   "cell_type": "code",
   "execution_count": null,
   "metadata": {},
   "outputs": [],
   "source": [
    "G(-All, -All)"
   ]
  }
 ],
 "metadata": {
  "kernelspec": {
   "display_name": "Python 3",
   "language": "python",
   "name": "python3"
  },
  "language_info": {
   "codemirror_mode": {
    "name": "ipython",
    "version": 3
   },
   "file_extension": ".py",
   "mimetype": "text/x-python",
   "name": "python",
   "nbconvert_exporter": "python",
   "pygments_lexer": "ipython3",
   "version": "3.6.9"
  }
 },
 "nbformat": 4,
 "nbformat_minor": 2
}
