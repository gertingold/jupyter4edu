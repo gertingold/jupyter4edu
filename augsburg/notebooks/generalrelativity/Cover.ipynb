{
 "cells": [
  {
   "cell_type": "markdown",
   "metadata": {},
   "source": [
    "# General relativity using symbolic computer algebra\n",
    "\n",
    "This collection of notebooks illustrates the application of symbolic computer algebra in Python to problems of general relativity. It is based on [SymPy](https://www.sympy.org) and [GraviPy](https://pypi.org/project/GraviPy/).\n",
    "\n",
    "### Table of contents\n",
    "\n",
    "1. [Introduction to GraviPy](IntroductionGravipy.ipynb)\n",
    "1. [Schwarzschild solution](SchwarzschildMetric.ipynb)\n",
    "1. [Embedding of the Schwarzschild solution](EmbeddingSchwarzschild.ipynb)\n",
    "1. [Eddington-Finkelstein coordinates](EddingtonFinkelstein.ipynb)\n",
    "1. [Tolman-Oppenheimer-Volkoff equation](TOVEquation.ipynb)\n",
    "\n",
    "#### Sign and index convention\n",
    "\n",
    "Following the convention adopted in the modern literature, in four-dimensional space-time, the index 0 will refer to time while the indices 1 to 3 will refer to spatial coordinates. Unfortunately, in GraviPy, the indices are shifted by 1 because the sign of the coordinate index is used to differentiate between covariant and contravariant coordinates. Therefore, in GraviPy objects, the index 1 will refer to time while the indices 2 to 4 will refer to spatial coordinates.\n",
    "\n",
    "Furthermore, for the Minkowski metric of flat space-time, we adopt the sign convention\n",
    "$$\\eta_{\\mu\\nu} = \\begin{pmatrix} -1 & 0 & 0 & 0\\\\\n",
    "                                   0 & 1 & 0 & 0\\\\\n",
    "                                   0 & 0 & 1 & 0\\\\\n",
    "                                   0 & 0 & 0 & 1\n",
    "                   \\end{pmatrix}.$$"
   ]
  }
 ],
 "metadata": {
  "kernelspec": {
   "display_name": "Python 3",
   "language": "python",
   "name": "python3"
  },
  "language_info": {
   "codemirror_mode": {
    "name": "ipython",
    "version": 3
   },
   "file_extension": ".py",
   "mimetype": "text/x-python",
   "name": "python",
   "nbconvert_exporter": "python",
   "pygments_lexer": "ipython3",
   "version": "3.5.6"
  }
 },
 "nbformat": 4,
 "nbformat_minor": 2
}
