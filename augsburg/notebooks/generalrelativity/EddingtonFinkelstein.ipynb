{
 "cells": [
  {
   "cell_type": "markdown",
   "metadata": {},
   "source": [
    "# General relativity using symbolic computer algebra"
   ]
  },
  {
   "cell_type": "code",
   "execution_count": null,
   "metadata": {},
   "outputs": [],
   "source": [
    "from gravipy.tensorial import *\n",
    "from sympy import simplify"
   ]
  },
  {
   "cell_type": "markdown",
   "metadata": {},
   "source": [
    "## Eddington-Finkelstein coordinates"
   ]
  },
  {
   "cell_type": "markdown",
   "metadata": {},
   "source": [
    "The Schwarzschild solution derived as vacuum solution for an object of mass $M$ in [another notebook](SchwarzschildMetric.ipynb) is parametrized in coordinates which lead to a coordinate singularity at the Schwarzschild radius $r_\\text{S} = 2GM/c^2$. As we have seen by computing the Kretschmann invariant, there is actually only a true singularity at $r=0$.\n",
    "\n",
    "In order to describe motion across the Schwarzschild radius, alternative parametrizations of the Schwarzschild solution are frequently used. The respective metric tensors are usually obtained from the standard Schwarzschild metric by specifying the coordinate transformation explicitly. In the following, we will take a different point of view. We will start from a given metric and verify that this metric indeed solves the vacuum Einstein field equation. With the help of GraviPy, this can be done quite easily.\n",
    "\n",
    "At the end of each calculation, we will check the value of the Kretschmann invariant\n",
    "\n",
    "$$R_{\\mu\\nu\\rho\\sigma}R^{\\mu\\nu\\rho\\sigma}$$\n",
    "\n",
    "which can be calculated by the function defined in the following cell."
   ]
  },
  {
   "cell_type": "code",
   "execution_count": null,
   "metadata": {},
   "outputs": [],
   "source": [
    "from itertools import product\n",
    "\n",
    "def Kretschmann(Riemann):\n",
    "    Kretschmann = symbols('Kretschmann')\n",
    "    Kretschmann = 0\n",
    "    for mu, nu, rho, sigma in product(range(1, 5), repeat=4):\n",
    "        Kretschmann = Kretschmann+Riemann(mu, nu, rho, sigma)*Riemann(-mu, -nu, -rho, -sigma)\n",
    "    return simplify(Kretschmann)"
   ]
  },
  {
   "cell_type": "markdown",
   "metadata": {},
   "source": [
    "#### Ingoing Eddington-Finkelstein coordinates"
   ]
  },
  {
   "cell_type": "markdown",
   "metadata": {},
   "source": [
    "Ingoing Eddington-Finkelstein coordinates are introduced by defining a new time coordinate $t'$ in terms of the time $t$ appropriate at very large distances from the object through\n",
    "\n",
    "$$ct' = ct+r_\\text{S}\\log\\left(\\left\\vert\\frac{r}{r_\\text{S}}-1\\right\\vert\\right)$$\n",
    "\n",
    "This choice avoids the singularity at $r=r_\\text{S}$ for ingoing null geodesics. The spatial coordinates $r$, $\\theta$ and $\\phi$ remain unchanged. Since the new time coordinate $t'$ depends both on $t$ and $r$, the new metric tensor is non-diagonal. The new line element reads\n",
    "\n",
    "$$\\text{d}s^2 = -\\left(1-\\frac{r_\\text{S}}{r}\\right)c^2\\text{d}t'^2\n",
    "                +2\\frac{r_\\text{S}}{r}c\\text{d}t'\\text{d}r\n",
    "                +\\left(1+\\frac{r_\\text{S}}{r}\\right)\\text{d}r^2\n",
    "                +r^2\\text{d}\\theta^2+r^2\\sin^2(\\theta)\\text{d}\\phi^2\n",
    "$$\n",
    "\n",
    "For the sake of simplicity, the object `t` will in the following represent the new time $ct'$."
   ]
  },
  {
   "cell_type": "markdown",
   "metadata": {},
   "source": [
    "We first introduce the needed symbols and define the metric tensor."
   ]
  },
  {
   "cell_type": "code",
   "execution_count": null,
   "metadata": {},
   "outputs": [],
   "source": [
    "t, r, theta, phi, rs = symbols(r't, r, \\theta, \\phi, r_S')\n",
    "x = Coordinates('x', [t, r, theta, phi])\n",
    "Metric = Matrix([[-(1-rs/r), rs/r, 0, 0],\n",
    "                 [rs/r, 1+rs/r, 0, 0],\n",
    "                 [0, 0, r**2, 0],\n",
    "                 [0, 0, 0, r**2*sin(theta)**2]])\n",
    "g = MetricTensor('g', x, Metric)\n",
    "g(All, All)"
   ]
  },
  {
   "cell_type": "markdown",
   "metadata": {},
   "source": [
    "Now, the Ricci tensor, the Einstein tensor, and the Riemann tensor can be determined."
   ]
  },
  {
   "cell_type": "code",
   "execution_count": null,
   "metadata": {},
   "outputs": [],
   "source": [
    "Gamma = Christoffel(r'\\Gamma', g)\n",
    "Ri = Ricci('Ri', g)\n",
    "G = Einstein('G', Ri)\n",
    "G(All, All)"
   ]
  },
  {
   "cell_type": "code",
   "execution_count": null,
   "metadata": {},
   "outputs": [],
   "source": [
    "Rm_in = Riemann('Rm', g)\n",
    "Rm_in(All, All, All, All)"
   ]
  },
  {
   "cell_type": "markdown",
   "metadata": {},
   "source": [
    "Indeed, the Einstein tensor (and also the Ricci tensor) vanishes, while the Riemann tensor contains nonvanishing elements. We recall that is only possible in space-times of dimension 4 and higher that the vacuum solution of the Einstein field equation has a nonvanishing curvature.\n",
    "\n",
    "We finally determine the Kretschmann invariant. [Earlier](SchwarzschildMetric.ipynb) we had found for the Schwarzschild solution the value $48G^2M^2/r^6c^4$. Now we find"
   ]
  },
  {
   "cell_type": "code",
   "execution_count": null,
   "metadata": {},
   "outputs": [],
   "source": [
    "Kretschmann(Rm_in)"
   ]
  },
  {
   "cell_type": "markdown",
   "metadata": {},
   "source": [
    "which agrees with our earlier result in view of $r_\\text{S}=2GM/c^2$."
   ]
  },
  {
   "cell_type": "markdown",
   "metadata": {},
   "source": [
    "#### Outgoing Eddington-Finkelstein coordinates"
   ]
  },
  {
   "cell_type": "markdown",
   "metadata": {},
   "source": [
    "Outgoing Eddington-Finkelstein coordinates differ from their ingoing counterpart by a different sign in front of the second term of the definition of $t'$. Specifically, one has\n",
    "\n",
    "$$ct' = ct-r_\\text{S}\\log\\left(\\left\\vert\\frac{r}{r_\\text{S}}-1\\right\\vert\\right)$$\n",
    "\n",
    "This choice avoids the singularity at $r=r_\\text{S}$ for outgoing null geodesics. The new line element then simply changes sign in the off-diagonal element and reads\n",
    "\n",
    "$$\\text{d}s^2 = -\\left(1-\\frac{r_\\text{S}}{r}\\right)c^2\\text{d}t'^2\n",
    "                -2\\frac{r_\\text{S}}{r}c\\text{d}t'\\text{d}r\n",
    "                +\\left(1+\\frac{r_\\text{S}}{r}\\right)\\text{d}r^2\n",
    "                +r^2\\text{d}\\theta^2+r^2\\sin^2(\\theta)\\text{d}\\phi^2\n",
    "$$\n",
    "\n",
    "We proceed as before for the ingoing Eddington-Finkelstein coordinates without need of much comments."
   ]
  },
  {
   "cell_type": "code",
   "execution_count": null,
   "metadata": {},
   "outputs": [],
   "source": [
    "t, r, theta, phi, rs = symbols(r't, r, \\theta, \\phi, r_S')\n",
    "x = Coordinates('x', [t, r, theta, phi])\n",
    "Metric = Matrix([[-(1-rs/r), -rs/r, 0, 0],\n",
    "                 [-rs/r, 1+rs/r, 0, 0],\n",
    "                 [0, 0, r**2, 0],\n",
    "                 [0, 0, 0, r**2*sin(theta)**2]])\n",
    "g = MetricTensor('g', x, Metric)\n",
    "g(All, All)"
   ]
  },
  {
   "cell_type": "code",
   "execution_count": null,
   "metadata": {},
   "outputs": [],
   "source": [
    "Gamma = Christoffel(r'\\Gamma', g)\n",
    "Ri = Ricci('Ri', g)\n",
    "G = Einstein('G', Ri)\n",
    "G(All, All)"
   ]
  },
  {
   "cell_type": "code",
   "execution_count": null,
   "metadata": {},
   "outputs": [],
   "source": [
    "Rm_out = Riemann('Rm', g)\n",
    "Rm_out(All, All, All, All)"
   ]
  },
  {
   "cell_type": "code",
   "execution_count": null,
   "metadata": {},
   "outputs": [],
   "source": [
    "Kretschmann(Rm_out)"
   ]
  },
  {
   "cell_type": "markdown",
   "metadata": {},
   "source": [
    "Comparison of the Riemann curvature tensors for ingoing and outgoing Eddington-Finkelstein coordinates reveals that some components agree while some differ in sign. An example for the first case is $R_{1212}$ while an example for the second case is given by $R_{1323}$."
   ]
  },
  {
   "cell_type": "code",
   "execution_count": null,
   "metadata": {},
   "outputs": [],
   "source": [
    "Rm_in(1, 2, 1, 2), Rm_out(1, 2, 1, 2)"
   ]
  },
  {
   "cell_type": "code",
   "execution_count": null,
   "metadata": {},
   "outputs": [],
   "source": [
    "Rm_in(1, 3, 2, 3), Rm_out(1, 3, 2, 3)"
   ]
  }
 ],
 "metadata": {
  "kernelspec": {
   "display_name": "Python 3",
   "language": "python",
   "name": "python3"
  },
  "language_info": {
   "codemirror_mode": {
    "name": "ipython",
    "version": 3
   },
   "file_extension": ".py",
   "mimetype": "text/x-python",
   "name": "python",
   "nbconvert_exporter": "python",
   "pygments_lexer": "ipython3",
   "version": "3.7.5"
  }
 },
 "nbformat": 4,
 "nbformat_minor": 2
}
