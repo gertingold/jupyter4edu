{
 "cells": [
  {
   "cell_type": "markdown",
   "metadata": {},
   "source": [
    "# General relativity using symbolic computer algebra"
   ]
  },
  {
   "cell_type": "markdown",
   "metadata": {},
   "source": [
    "## Christoffel symbols and geodesics\n",
    "\n",
    "In this notebook, we will consider several examples of two-dimensional surfaces. We will symbolically determine the corresponding Christoffel symbols and obtain the differential equations for the geodesic. These differential equations will be solved numerically and the geodesic will be represented graphically. Initial conditions can be modified to observe how the geodesic changes."
   ]
  },
  {
   "cell_type": "markdown",
   "metadata": {},
   "source": [
    "## Contents\n",
    "1. [Cylinder](#cylinder) \n",
    "1. [Torus](#torus)\n",
    "1. [Surface of revolution](#sor)\n",
    "1. [Sphere](#sphere)"
   ]
  },
  {
   "cell_type": "code",
   "execution_count": null,
   "metadata": {},
   "outputs": [],
   "source": [
    "from gravipy.tensorial import *\n",
    "from sympy import cos, diag, diff, limit, Matrix, pprint, simplify, sin\n",
    "import numpy as np\n",
    "from scipy import integrate, spatial\n",
    "import k3d \n",
    "from ipywidgets import widgets, interact_manual, interact"
   ]
  },
  {
   "cell_type": "markdown",
   "metadata": {},
   "source": [
    "Later, we will need to display surfaces and provide here a small class. We will subclass `Surface2D` for specific surfaces and, in particular, provide a corresponding method `get_points`."
   ]
  },
  {
   "cell_type": "code",
   "execution_count": null,
   "metadata": {},
   "outputs": [],
   "source": [
    "class Surface2D:\n",
    "    def __init__(self, p1min, p1max, dim1, p2min, p2max, dim2, constants=None):\n",
    "        self.parameters = np.mgrid[p1min:p1max:1j*dim1, p2min:p2max:1j*dim2].T.reshape(-1, 2)\n",
    "        if constants is not None:\n",
    "            self.constants = constants\n",
    "        self.get_points() \n",
    "        \n",
    "    def get_points(self):\n",
    "        '''set array self.points containing collection of points on the surface\n",
    "\n",
    "        '''\n",
    "        raise NotImplementedError\n",
    "        \n",
    "    def display(self, wframe=False, opac=1):\n",
    "        triangulation = spatial.Delaunay(self.parameters)\n",
    "        plot = k3d.plot()\n",
    "        points = k3d.mesh(self.points, triangulation.simplices.astype(np.uint32), wireframe=wframe, \n",
    "                          opacity=opac, color=0xffc000)\n",
    "        plot += points\n",
    "        \n",
    "        return points"
   ]
  },
  {
   "cell_type": "markdown",
   "metadata": {},
   "source": [
    "<a id='cylinder'></a>\n",
    "## Cylinder"
   ]
  },
  {
   "cell_type": "markdown",
   "metadata": {},
   "source": [
    "We illustrate the strategy used in later examples by considering first a cylinder of unit radius. A point on the cylinder is then specified by the coordinates $(\\phi, z)$ with\n",
    "\\begin{align}\n",
    " x &= \\cos(\\phi)\\\\\n",
    " y &= \\sin(\\phi)\\\\\n",
    " z &= z\n",
    "\\end{align}"
   ]
  },
  {
   "cell_type": "code",
   "execution_count": null,
   "metadata": {},
   "outputs": [],
   "source": [
    "phi, z = symbols('phi z')\n",
    "x = Coordinates('x', [phi, z])"
   ]
  },
  {
   "cell_type": "markdown",
   "metadata": {},
   "source": [
    "The parametrization of the surface is used in the method `get_points` to determine the position of the grid points. For illustration, we display the surface right away and invite you to manipulate the figure by rotating or zooming in and out. In this way, we will later be able to take a detailed look at the geodesics."
   ]
  },
  {
   "cell_type": "code",
   "execution_count": null,
   "metadata": {},
   "outputs": [],
   "source": [
    "class UnitCylinder(Surface2D):\n",
    "    def __init__(self, dim1, dim2, constants=5):\n",
    "        super().__init__(0, 2*np.pi, dim1, 0, constants, dim2)\n",
    "        \n",
    "    def get_points(self):\n",
    "        phi, z = self.parameters.T\n",
    "        self.points = np.array([np.cos(phi),\n",
    "                                np.sin(phi),\n",
    "                                z], dtype=np.float32).T\n",
    "\n",
    "height = 5\n",
    "cylinder = UnitCylinder(60, 60, height)"
   ]
  },
  {
   "cell_type": "code",
   "execution_count": null,
   "metadata": {},
   "outputs": [],
   "source": [
    "plot_cylinder = k3d.plot()\n",
    "cylinder.display()"
   ]
  },
  {
   "cell_type": "markdown",
   "metadata": {},
   "source": [
    "The line element for the cylinder is given by\n",
    "$$\\mathrm{d}s^2 = \\mathrm{d}\\phi^2+\\mathrm{d}z^2.$$\n",
    "As a consequence, all Christoffel symbols vanish and the equations for the geodesic read\n",
    "$$\\ddot\\phi = 0\\qquad \\ddot z = 0.$$\n",
    "It is straightforward to solve these two differential equations and we find\n",
    "\\begin{aligned}\n",
    "\\phi(t) &= v_\\phi t + \\phi_0\\\\\n",
    "z(t) &= v_z + z_0.\n",
    "\\end{aligned}\n",
    "The simplicity of solution is a consequence of the fact that the cylinder, if cut along the $z$-axis, can be flattened to a plane on which the geodesics are given by straight lines."
   ]
  },
  {
   "cell_type": "markdown",
   "metadata": {},
   "source": [
    "The following code allows to plot the geodesic obtained for a given value of $\\alpha=\\mathrm{arctan}(v_z/v_\\phi)$. Change the value at the slider to observe how the geodesic changes with $\\alpha$."
   ]
  },
  {
   "cell_type": "code",
   "execution_count": null,
   "metadata": {},
   "outputs": [],
   "source": [
    "def geodesic_cylinder(alpha, height):\n",
    "    dim_t = 2000\n",
    "    if alpha == 0:\n",
    "        t = np.linspace(0, 2*np.pi, dim_t)\n",
    "        points = np.array([np.cos(t), np.sin(t), np.zeros_like(t)], dtype=np.float32).T\n",
    "    else:\n",
    "        t = np.linspace(0, height/np.sin(alpha), dim_t)\n",
    "        v_phi = np.cos(alpha)\n",
    "        v_z = np.sin(alpha)\n",
    "        phi = v_phi*t\n",
    "        points = np.array([np.cos(phi), np.sin(phi), v_z*t], dtype=np.float32).T\n",
    "    return points\n",
    "\n",
    "geodesic = k3d.line(geodesic_cylinder(0, height), color=0x80, width=0.03, shader='mesh')\n",
    "\n",
    "@interact(alpha=widgets.FloatSlider(value=0, min=0, max=np.pi/2, step=0.01, continuous_update=False))\n",
    "def updateplot(alpha):\n",
    "    geodesic.vertices = geodesic_cylinder(alpha, height)\n",
    "    \n",
    "plot_cylinder = k3d.plot()\n",
    "plot_cylinder += cylinder.display()\n",
    "plot_cylinder += geodesic\n",
    "plot_cylinder.display()"
   ]
  },
  {
   "cell_type": "markdown",
   "metadata": {},
   "source": [
    "<a id='torus'></a>\n",
    "### Torus"
   ]
  },
  {
   "cell_type": "markdown",
   "metadata": {},
   "source": [
    "Identifying the top and bottom of the cylinder, we arrive at a torus which can be parametrized as\n",
    "\\begin{align}\n",
    " x &= (a+b\\cos(\\theta))\\cos(\\phi)\\\\\n",
    " y &= (a+b\\cos(\\theta))\\sin(\\phi)\\\\\n",
    " z &= b\\sin(\\theta)\n",
    "\\end{align}\n",
    "where $a$ and $b$ are the two radii and the angles $\\theta$ and $\\phi$ run from $0$ to $2\\pi$. "
   ]
  },
  {
   "cell_type": "code",
   "execution_count": null,
   "metadata": {},
   "outputs": [],
   "source": [
    "theta, phi, a, b = symbols('theta phi a b')\n",
    "x = Coordinates('x', [theta, phi])"
   ]
  },
  {
   "cell_type": "markdown",
   "metadata": {},
   "source": [
    "We use the parametrization given above to subclass the `Surface2D` class to represent a torus."
   ]
  },
  {
   "cell_type": "code",
   "execution_count": null,
   "metadata": {},
   "outputs": [],
   "source": [
    "class Torus(Surface2D):\n",
    "    def __init__(self, dim1, dim2, radii=(1, 1)):\n",
    "        self.a, self.b = radii\n",
    "        super().__init__(0, 2*np.pi, dim1, 0, 2*np.pi, dim2)\n",
    "        \n",
    "    def get_points(self):\n",
    "        theta, phi = self.parameters.T\n",
    "        self.points = np.array([(self.a+self.b*np.cos(theta))*np.cos(phi),\n",
    "                                (self.a+self.b*np.cos(theta))*np.sin(phi),\n",
    "                                self.b*np.sin(theta)], dtype=np.float32).T"
   ]
  },
  {
   "cell_type": "markdown",
   "metadata": {},
   "source": [
    "In order to obtain the differential equations solved by geodesic, we first need to determine the metric tensor."
   ]
  },
  {
   "cell_type": "code",
   "execution_count": null,
   "metadata": {},
   "outputs": [],
   "source": [
    "r_torus = Matrix([(a + b*cos(theta))*cos(phi),\n",
    "                 (a + b*cos(theta))*sin(phi),\n",
    "                 b*sin(theta)])\n",
    "    \n",
    "dr_torus = Matrix([diff(r_torus, theta).T, diff(r_torus, phi).T])\n",
    "g = MetricTensor('g', x, simplify(dr_torus*dr_torus.T))\n",
    "g(All, All)"
   ]
  },
  {
   "cell_type": "markdown",
   "metadata": {},
   "source": [
    "There are two non-trivial Christoffel symbols, namely $\\Gamma^\\theta_{\\phi\\phi}$ and $\\Gamma^\\phi_{\\theta\\phi} = \\Gamma^\\phi_{\\phi\\theta}$."
   ]
  },
  {
   "cell_type": "code",
   "execution_count": null,
   "metadata": {},
   "outputs": [],
   "source": [
    "Ga = Christoffel('Ga', g)\n",
    "Ga(-All, All, All)"
   ]
  },
  {
   "cell_type": "markdown",
   "metadata": {},
   "source": [
    "The differential equations solved by the geodesic then read\n",
    "\\begin{align}\n",
    "\\ddot\\theta + \\frac{(a+b\\cos(\\theta))\\sin(\\theta)}{b}\\dot\\phi^2 &= 0\\\\\n",
    "\\ddot\\phi - 2\\frac{b\\sin(\\theta)}{a+b\\cos(\\theta)}\\dot\\theta\\dot\\phi &= 0\n",
    "\\end{align}"
   ]
  },
  {
   "cell_type": "markdown",
   "metadata": {},
   "source": [
    "Below, two parameters can be specified to experiment with different initial conditions. `theta0` specifices the initial value of $\\theta$ while `alpha` specifies the angle between the components $v_\\theta$ and $v_\\phi$ of the velocity. The absolute value of the velocity is chosen to one. Note that the two parameters are taken in units of $\\pi$."
   ]
  },
  {
   "cell_type": "code",
   "execution_count": null,
   "metadata": {},
   "outputs": [],
   "source": [
    "def deriv(u, y):\n",
    "    theta = y[0, :]\n",
    "    phi = y[1, :]\n",
    "    v_theta = y[2, :]\n",
    "    v_phi = y[3, :]\n",
    "    return [v_theta,\n",
    "            v_phi,\n",
    "            -(a+b*np.cos(theta))*np.sin(theta)/b*v_phi**2,\n",
    "            2*b*np.sin(theta)/(a+b*np.cos(theta))*v_theta*v_phi]\n",
    "\n",
    "def geodesic_torus(theta0, alpha):\n",
    "    v_theta0 = np.sin(alpha)/b\n",
    "    v_phi0 = np.cos(alpha)/(a+b*np.cos(theta0))\n",
    "    tmin = 0\n",
    "    tmax = 50\n",
    "    solution = integrate.solve_ivp(deriv, (tmin, tmax), (theta0, 0, v_theta0, v_phi0),\n",
    "                                   vectorized=True,\n",
    "                                   t_eval=np.linspace(tmin, tmax, 1000))\n",
    "    theta = solution.y[0]\n",
    "    phi = solution.y[1]\n",
    "    x = (a+b*np.cos(theta))*np.cos(phi)\n",
    "    y = (a+b*np.cos(theta))*np.sin(phi)\n",
    "    z = b*np.sin(theta)\n",
    "    return np.array([x, y, z], dtype=np.float32).T\n",
    "\n",
    "a, b = 4, 1\n",
    "torus = Torus(60, 60, (a, b))\n",
    "geodesic = k3d.line(geodesic_torus(0, 0), color=0x80, width=0.03, shader='mesh')\n",
    "\n",
    "@interact(theta0=widgets.FloatSlider(value=0, min=0, max=1, step=0.01),\n",
    "          alpha=widgets.FloatSlider(value=0, min=0, max=0.5, step=0.01))\n",
    "def updateplot(theta0, alpha):\n",
    "    geodesic.vertices = geodesic_torus(theta0*np.pi, alpha*np.pi)\n",
    "\n",
    "plot_torus = k3d.plot()\n",
    "plot_torus += torus.display()\n",
    "plot_torus += geodesic\n",
    "plot_torus.display()"
   ]
  },
  {
   "cell_type": "markdown",
   "metadata": {},
   "source": [
    "<a id='sor'></a>\n",
    "### Surface of revolution"
   ]
  },
  {
   "cell_type": "markdown",
   "metadata": {},
   "source": [
    "The torus is an example of a surface of revolution, in this case around the $z$ axis. It is instructive to consider another surface of revolution where the distance of the surface from the $z$ axis is modulated. We thus choose the following parametrization\n",
    "\\begin{align}\n",
    " x &= (2+\\cos(z))\\cos(\\phi)\\\\\n",
    " y &= (2+\\cos(z))\\sin(\\phi)\\\\\n",
    " z &= z.\n",
    "\\end{align}"
   ]
  },
  {
   "cell_type": "code",
   "execution_count": null,
   "metadata": {},
   "outputs": [],
   "source": [
    "phi, z = symbols('phi z')\n",
    "x = Coordinates('x', [phi, z])"
   ]
  },
  {
   "cell_type": "markdown",
   "metadata": {},
   "source": [
    "Let us take a look at this surface:"
   ]
  },
  {
   "cell_type": "code",
   "execution_count": null,
   "metadata": {
    "scrolled": true
   },
   "outputs": [],
   "source": [
    "class SurfaceOfRevolution(Surface2D):\n",
    "    def __init__(self, dim1, dim2):\n",
    "        super().__init__(0, 2*np.pi, dim1, 0, 6*np.pi, dim2)\n",
    "        \n",
    "    def get_points(self):\n",
    "        phi, z = self.parameters.T\n",
    "        f = 2+np.cos(z)\n",
    "        self.points = np.array([f*np.cos(phi),\n",
    "                                f*np.sin(phi), \n",
    "                                z], dtype=np.float32).T\n",
    "        \n",
    "surfaceOfRevolution = SurfaceOfRevolution(60, 60)\n",
    "surfaceOfRevolution.display()"
   ]
  },
  {
   "cell_type": "markdown",
   "metadata": {},
   "source": [
    "Now we proceed very much like in the case of the torus and first determine the metric tensor."
   ]
  },
  {
   "cell_type": "markdown",
   "metadata": {},
   "source": [
    "------------------------"
   ]
  },
  {
   "cell_type": "code",
   "execution_count": null,
   "metadata": {},
   "outputs": [],
   "source": [
    "r_sor = Matrix([(2+cos(z))*cos(phi),\n",
    "                (2+cos(z))*sin(phi),\n",
    "                z])\n",
    "    \n",
    "dr_sor = Matrix([diff(r_sor, phi).T, diff(r_sor, z).T])\n",
    "g = MetricTensor('g', x, simplify(dr_sor*dr_sor.T))\n",
    "g(All, All)"
   ]
  },
  {
   "cell_type": "markdown",
   "metadata": {},
   "source": [
    "There are three different nontrivial Christoffel symbols $\\Gamma^\\phi_{\\phi z}=\\Gamma^\\phi_{z\\phi}$, $\\Gamma^z_{\\phi\\phi}$, and $\\Gamma^z_{zz}$."
   ]
  },
  {
   "cell_type": "code",
   "execution_count": null,
   "metadata": {},
   "outputs": [],
   "source": [
    "Ga = Christoffel('Ga', g)\n",
    "Ga(-All, All, All)"
   ]
  },
  {
   "cell_type": "markdown",
   "metadata": {},
   "source": [
    "The differential equations for the geodesic then read\n",
    "\\begin{align}\n",
    " \\ddot\\phi - \\frac{2\\sin(z)}{2+\\cos(z)}\\dot\\phi\\dot z &= 0\\\\\n",
    " \\ddot z + \\frac{(2+\\cos(z))\\sin(z)}{\\sin^2(z)+1}\\dot\\phi^2 + \\frac{\\sin(2z)}{2(\\sin^2(z)+1)}\\dot z^2 &= 0.\n",
    "\\end{align}"
   ]
  },
  {
   "cell_type": "markdown",
   "metadata": {},
   "source": [
    "The following code allows to specify the initial height `z0` and the initial angle `alpha` which specifies the components $v_\\phi$ and $v_z$ of the initial velocity very much in the same way as was the case for the torus with $v_\\theta$ replaced by $v_z$. Again, the parameters are taken in units of $\\pi$.\n",
    "\n",
    "Before playing around with the parameters, take a look at the geodesic obtained for the initially specified values of `z0` and `alpha`. How does the angle of the geodesic with respect to the plane perpendicular to the $z$ axis vary as the geodesic moves through region with different distance from the $z$ axis?"
   ]
  },
  {
   "cell_type": "code",
   "execution_count": null,
   "metadata": {},
   "outputs": [],
   "source": [
    "def deriv(u, y):\n",
    "    phi = y[0, :]\n",
    "    z = y[1, :]\n",
    "    v_phi = y[2, :]\n",
    "    v_z = y[3, :]\n",
    "    return [v_phi,\n",
    "            v_z,\n",
    "            2*np.sin(z)/(2+np.cos(z))*v_phi*v_z,\n",
    "            -(2+np.cos(z))*np.sin(z)/(np.sin(z)**2+1)*v_phi**2+0.5*np.sin(2*z)/(np.sin(z)**2+1)*v_z**2]\n",
    "\n",
    "def geodesic_sor(z0, alpha):\n",
    "    v_phi0 = np.cos(alpha)/(2+np.cos(z0))\n",
    "    v_z0 = np.sin(alpha)/np.sqrt(1+np.sin(z0)**2)\n",
    "    tmin = 0\n",
    "    tmax = 40\n",
    "    solution = integrate.solve_ivp(deriv, (tmin, tmax), (0, z0, v_phi0, v_z0),\n",
    "                                   vectorized=True,\n",
    "                                   t_eval=np.linspace(tmin, tmax, 4000))\n",
    "    phi = solution.y[0]\n",
    "    z = solution.y[1]\n",
    "    x = (2+np.cos(z))*np.cos(phi)\n",
    "    y = (2+np.cos(z))*np.sin(phi)\n",
    "    return np.array([x, y, z], dtype=np.float32).T\n",
    "\n",
    "sor = SurfaceOfRevolution(60, 60)\n",
    "geodesic = k3d.line(geodesic_sor(0, 0), color=0x80, width=0.03, shader='mesh')\n",
    "\n",
    "@interact(z0=widgets.FloatSlider(value=1.05, min=1, max=2, step=0.01),\n",
    "          alpha=widgets.FloatSlider(value=0, min=0, max=0.5, step=0.01))\n",
    "def updateplot(z0, alpha):\n",
    "    geodesic.vertices = geodesic_sor(z0*np.pi, alpha*np.pi)\n",
    "\n",
    "plot_sor = k3d.plot()\n",
    "plot_sor += sor.display()\n",
    "plot_sor += geodesic\n",
    "plot_sor.display()"
   ]
  },
  {
   "cell_type": "markdown",
   "metadata": {},
   "source": [
    "The rotational symmetry implies the conservation of the $z$-component of the angular momentum. As a consequence, one finds [Clairaut's relation](https://en.wikipedia.org/wiki/Clairaut%27s_relation) which states that the cosine of the\n",
    "angle between the geodesic and the plane perpendicular to the $z$ axis scales like $1/r$ for a fixed angular momentum where $r$ is the distance between $z$ axis and surface at the point under consideration.\n",
    "\n",
    "Try to realize different scenarios:\n",
    "\n",
    "1. The geodesic runs along a meridian.\n",
    "1. The geodesic runs along the length of the surface of rotation.\n",
    "1. The geodesic connects two constrictions.\n",
    "1. The geodesic is restricted to one waist."
   ]
  },
  {
   "cell_type": "markdown",
   "metadata": {},
   "source": [
    "<a id='sphere'></a>\n",
    "### Sphere"
   ]
  },
  {
   "cell_type": "markdown",
   "metadata": {},
   "source": [
    "Our last example is the unit sphere with the well-known parametrization\n",
    "\\begin{align}\n",
    " x &= \\sin(\\theta)\\cos(\\phi)\\\\\n",
    " y &= \\sin(\\theta)\\cos(\\phi)\\\\\n",
    " z &= \\cos(\\theta)\n",
    "\\end{align}\n",
    "Since by now the strategy to obtain the geodesic should be pretty well known, we keep comments at a minimum."
   ]
  },
  {
   "cell_type": "code",
   "execution_count": null,
   "metadata": {},
   "outputs": [],
   "source": [
    "theta, phi = symbols('theta phi')\n",
    "x = Coordinates('x', [theta, phi])"
   ]
  },
  {
   "cell_type": "code",
   "execution_count": null,
   "metadata": {},
   "outputs": [],
   "source": [
    "class UnitSphere(Surface2D):\n",
    "    def __init__(self, dim1, dim2, constants=[1]):\n",
    "        super().__init__(0, np.pi, dim1, 0, 2*np.pi, dim2, constants)\n",
    "        \n",
    "    def get_points(self):\n",
    "        theta, phi = self.parameters.T\n",
    "        self.points = np.array([np.sin(theta)*np.cos(phi),\n",
    "                                np.sin(theta)*np.sin(phi),\n",
    "                                np.cos(theta)], dtype=np.float32).T"
   ]
  },
  {
   "cell_type": "code",
   "execution_count": null,
   "metadata": {},
   "outputs": [],
   "source": [
    "r_sphere = Matrix([sin(theta)*cos(phi),\n",
    "                   sin(theta)*sin(phi),\n",
    "                   cos(theta)])\n",
    "    \n",
    "dr_sphere = Matrix([diff(r_sphere, theta).T, diff(r_sphere, phi).T])\n",
    "g = MetricTensor('g', x, simplify(dr_sphere*dr_sphere.T))\n",
    "g(All, All)"
   ]
  },
  {
   "cell_type": "code",
   "execution_count": null,
   "metadata": {},
   "outputs": [],
   "source": [
    "Ga = Christoffel('Ga', g)\n",
    "Ga(-All, All, All)"
   ]
  },
  {
   "cell_type": "markdown",
   "metadata": {},
   "source": [
    "The differential equations for the geodesic on a unit sphere thus read\n",
    "\\begin{align}\n",
    " \\ddot\\theta -\\frac{1}{2}\\sin(2\\theta)\\dot\\phi^2 &= 0\\\\\n",
    " \\ddot\\phi+\\frac{\\sin(2\\theta)}{\\sin^2(\\theta)}\\dot\\theta\\dot\\phi &= 0.\n",
    "\\end{align}"
   ]
  },
  {
   "cell_type": "markdown",
   "metadata": {},
   "source": [
    "Due to the rotational symmetry, it is in principle sufficient to prove that the equator of the sphere is defining a geodesic. Here, we allow to change the initial value of $\\theta$ by means of the parameter `theta0` taken in terms of $\\pi$ in order to demonstrate that a great circle is obtained more generally from the differential equations given above. The equator is shown in red for reference."
   ]
  },
  {
   "cell_type": "code",
   "execution_count": null,
   "metadata": {
    "scrolled": true
   },
   "outputs": [],
   "source": [
    "def deriv(u, y):\n",
    "    theta = y[0, :]\n",
    "    phi = y[1, :]\n",
    "    v_theta = y[2, :]\n",
    "    v_phi = y[3, :]\n",
    "    return [v_theta,\n",
    "            v_phi,\n",
    "            0.5*np.sin(2*theta)*v_phi**2,\n",
    "            -np.sin(2*theta)/np.sin(theta)**2*v_theta*v_phi]\n",
    "\n",
    "def geodesic_sphere(theta0):\n",
    "    v_phi0 = 1/np.sin(theta0)\n",
    "    tmin = 0\n",
    "    tmax = 10\n",
    "    solution = integrate.solve_ivp(deriv, (tmin, tmax), (theta0, 0, 0, v_phi0),\n",
    "                                   vectorized=True,\n",
    "                                   t_eval=np.linspace(tmin, tmax, 4000))\n",
    "    theta = solution.y[0]\n",
    "    phi = solution.y[1]\n",
    "    x = np.sin(theta)*np.cos(phi)\n",
    "    y = np.sin(theta)*np.sin(phi)\n",
    "    z = np.cos(theta)\n",
    "    return np.array([x, y, z], dtype=np.float32).T\n",
    "\n",
    "sphere = UnitSphere(60, 60)\n",
    "geodesic = k3d.line(geodesic_sphere(0.5), color=0x80, width=0.03, shader='mesh')\n",
    "\n",
    "@interact(theta0=widgets.FloatSlider(value=0.5, min=0.01, max=0.99, step=0.01))\n",
    "def updateplot(theta0):\n",
    "    geodesic.vertices = geodesic_sphere(theta0*np.pi)\n",
    "\n",
    "plot_sphere = k3d.plot()\n",
    "plot_sphere += sphere.display()\n",
    "plot_sphere += k3d.line(geodesic_sphere(0.5*np.pi), color=0x800000, width=0.03, shader='mesh')\n",
    "plot_sphere += geodesic\n",
    "plot_sphere.display()"
   ]
  }
 ],
 "metadata": {
  "kernelspec": {
   "display_name": "Python 3",
   "language": "python",
   "name": "python3"
  },
  "language_info": {
   "codemirror_mode": {
    "name": "ipython",
    "version": 3
   },
   "file_extension": ".py",
   "mimetype": "text/x-python",
   "name": "python",
   "nbconvert_exporter": "python",
   "pygments_lexer": "ipython3",
   "version": "3.6.9"
  }
 },
 "nbformat": 4,
 "nbformat_minor": 2
}
