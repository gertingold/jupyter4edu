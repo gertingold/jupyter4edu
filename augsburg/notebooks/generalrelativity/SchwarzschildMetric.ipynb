{
 "cells": [
  {
   "cell_type": "markdown",
   "metadata": {},
   "source": [
    "# General relativity using symbolic computer algebra"
   ]
  },
  {
   "cell_type": "code",
   "execution_count": null,
   "metadata": {
    "scrolled": true
   },
   "outputs": [],
   "source": [
    "from gravipy.tensorial import *\n",
    "from sympy import dsolve, init_printing, limit, oo, series, simplify, solve, sqrt\n",
    "init_printing()"
   ]
  },
  {
   "cell_type": "markdown",
   "metadata": {},
   "source": [
    "## Schwarzschild solution"
   ]
  },
  {
   "cell_type": "markdown",
   "metadata": {},
   "source": [
    "In this notebook, we will derive the outer Schwarzschild solution describing space-time outside a spherically symmetric mass $M$. We will assume that the solution is spherically symmetric so that the components $g_{00}$ and $g_{11}$ only depend on the radial coordinate $r$. For simplicity, we further assume the metric tensor to be independent of time even though this assumption does not need to be imposed."
   ]
  },
  {
   "cell_type": "markdown",
   "metadata": {},
   "source": [
    "## Derivation of the Schwarzschild solution"
   ]
  },
  {
   "cell_type": "markdown",
   "metadata": {},
   "source": [
    "We choose as our coordinates $t, r, \\theta,$ and $\\phi$:"
   ]
  },
  {
   "cell_type": "code",
   "execution_count": null,
   "metadata": {},
   "outputs": [],
   "source": [
    "t, r, theta, phi = symbols(r't r theta phi')\n",
    "x = Coordinates('x', [t, r, theta, phi])\n",
    "x.c"
   ]
  },
  {
   "cell_type": "markdown",
   "metadata": {},
   "source": [
    "Assuming a time-independent, spherically symmetric solution, the line element is chosen to be of the general form\n",
    "\n",
    "$$\\mathrm{d}s^2 = -A(r)c^2\\mathrm{d}t^2+B(r)\\mathrm{d}r^2+r^2\\mathrm{d}\\theta^2+r^2\\sin(\\theta)^2\\mathrm{d}\\phi^2$$\n",
    "\n",
    "where we need to determine the form of $A$ and $B$ as a function of the radial coordinate $r$."
   ]
  },
  {
   "cell_type": "code",
   "execution_count": null,
   "metadata": {},
   "outputs": [],
   "source": [
    "A = Function('A')(r)\n",
    "B = Function('B')(r)\n",
    "Metric = diag(-A, B, r**2, r**2*sin(theta)**2)\n",
    "g = MetricTensor('g', x, Metric)\n",
    "g(All, All)"
   ]
  },
  {
   "cell_type": "markdown",
   "metadata": {},
   "source": [
    "We are searching for the outer solution, i.e. a solution outside of the mass generating a curved space-time. In the Einstein field equations\n",
    "\n",
    "$$G^{\\mu\\nu} = \\frac{8\\pi G}{c^4}T^{\\mu\\nu}$$\n",
    "\n",
    "the energy-momentum tensor on the right-hand side thus vanishes and we are searching for a solution of\n",
    "\n",
    "$$G^{\\mu\\nu}=0.$$\n",
    "\n",
    "In other words, we need to determine functions $A(r)$ and $B(r)$ for which the Einstein tensor obtained from the metric tensor vanishes.\n",
    "\n",
    "Before the Einstein tensor can be determined with `GraviPy`, it is first necessary to evaluate the Christoffel symbols and the Ricci tensor."
   ]
  },
  {
   "cell_type": "code",
   "execution_count": null,
   "metadata": {},
   "outputs": [],
   "source": [
    "Gamma = Christoffel(r'\\Gamma', g)\n",
    "Ri = Ricci('Ri', g)\n",
    "G = Einstein('G', Ri)"
   ]
  },
  {
   "cell_type": "markdown",
   "metadata": {},
   "source": [
    "The Einstein tensor is obtained as"
   ]
  },
  {
   "cell_type": "code",
   "execution_count": null,
   "metadata": {
    "scrolled": false
   },
   "outputs": [],
   "source": [
    "G(All, All)"
   ]
  },
  {
   "cell_type": "markdown",
   "metadata": {},
   "source": [
    "It turns out that $G_{22}$ and $G_{33}$ ar trivially related by a factor $\\sin^2(\\theta)$"
   ]
  },
  {
   "cell_type": "code",
   "execution_count": null,
   "metadata": {},
   "outputs": [],
   "source": [
    "G(4, 4)/G(3, 3)"
   ]
  },
  {
   "cell_type": "markdown",
   "metadata": {},
   "source": [
    "so that it is sufficient to solve the set of equations\n",
    "\n",
    "$$G_{00}=0,\\quad G_{11}=0,\\quad G_{22}=0.$$\n",
    "\n",
    "We note that the first equation essentially depends only on $B(r)$. We recall that the indices in GraviPy objects are shifted by 1 with respect to our sign convention, so that $G_{00}$ corresponds to `G(1, 1)`. The differential equation $G_{00}=0$ can be solved by means of SymPy's `dsolve` method:"
   ]
  },
  {
   "cell_type": "code",
   "execution_count": null,
   "metadata": {},
   "outputs": [],
   "source": [
    "C1 = Symbol('C1')\n",
    "rs = Symbol('r_S')\n",
    "B_solution = dsolve(G(1, 1), B).rhs.subs(C1, -rs)\n",
    "B_solution"
   ]
  },
  {
   "cell_type": "markdown",
   "metadata": {},
   "source": [
    "Since $C_1$ is considered by SymPy as a free parameter whose name can be changed, we need to give a different name to have consistent free parameters in the solutions for $A(r)$ and $B(r)$. Since the dimension of $C_1$ is a length, we call the free constant $r_S$ in view of its later interpretation. Our choice of the minus sign will turned out to be appropriate as well."
   ]
  },
  {
   "cell_type": "markdown",
   "metadata": {},
   "source": [
    "In order to solve the second equation $G_{11}=0$, we need to substitute $B(r)$ by the solution we just found. This is done by means of SymPy's `subs` method. We can now solve the differential equation for $A(r)$."
   ]
  },
  {
   "cell_type": "code",
   "execution_count": null,
   "metadata": {},
   "outputs": [],
   "source": [
    "A_solution = dsolve(G(2, 2).subs(B, B_solution), A).rhs\n",
    "A_solution"
   ]
  },
  {
   "cell_type": "markdown",
   "metadata": {},
   "source": [
    "In order to ensure that for large values of $r$ the Minkowski metric is obtained, we divide this result by the $r\\to\\infty$ limit:"
   ]
  },
  {
   "cell_type": "code",
   "execution_count": null,
   "metadata": {},
   "outputs": [],
   "source": [
    "A_solution = A_solution/limit(A_solution, r, oo)\n",
    "A_solution"
   ]
  },
  {
   "cell_type": "markdown",
   "metadata": {},
   "source": [
    "It turns out that the remaining equation $G_{22} = 0$ is trivially fulfilled by the solutions obtained for $A(r)$ and $B(r)$:"
   ]
  },
  {
   "cell_type": "code",
   "execution_count": null,
   "metadata": {},
   "outputs": [],
   "source": [
    "G(3, 3).subs(A, A_solution).subs(B, B_solution).doit().simplify()"
   ]
  },
  {
   "cell_type": "markdown",
   "metadata": {},
   "source": [
    "The same is obviously true for $G_{33}$.\n",
    "\n",
    "We are thus left with one free parameter which was to be expected because the mass $M$ of the central object should remain as a parameter. The parameter can be determined by comparing the spectral shift obtained from our solution with the spectral shift obtained from the Newtonian gravitational field as demanded by the equivalence principle. Assuming that the frequency $\\nu(r)$ of a photon at radial coordinate $r$ is measured when its frequency at infinity was $\\nu(\\infty)$, we have\n",
    "$$\\frac{\\nu(r)}{\\nu(\\infty)} = \\frac{1}{\\sqrt{-g_{00}}} \\overset{!}{=} 1+\\frac{GM}{c^2r}.$$"
   ]
  },
  {
   "cell_type": "code",
   "execution_count": null,
   "metadata": {},
   "outputs": [],
   "source": [
    "g00 = g(1, 1).subs(A, A_solution)\n",
    "coeff_one_over_r = series(1/sqrt(-g00), 1/r, 0, 2).coeff(r, -1)\n",
    "grav_const, M, c = symbols('G, M, c')\n",
    "c2_solution = solve(coeff_one_over_r-grav_const*M/c**2, rs, dict=True)[0]\n",
    "c2_solution"
   ]
  },
  {
   "cell_type": "markdown",
   "metadata": {},
   "source": [
    "Here, we have found the Schwarzschild radius as a function of the mass $M$ of the central object, the gravitational constant $G$ and the vacuum speed of light $c$.\n",
    "\n",
    "We thus obtain the functions $A(r)$ and $B(r)$ as"
   ]
  },
  {
   "cell_type": "code",
   "execution_count": null,
   "metadata": {},
   "outputs": [],
   "source": [
    "A_solution = A_solution.subs(c2_solution)\n",
    "B_solution = B_solution.subs(c2_solution)\n",
    "A_solution, B_solution"
   ]
  },
  {
   "cell_type": "markdown",
   "metadata": {},
   "source": [
    "Inserting the functions $A(r)$ and $B(r)$ into the ansatz for the metric, we arrive at the Schwarzschild metric:"
   ]
  },
  {
   "cell_type": "code",
   "execution_count": null,
   "metadata": {},
   "outputs": [],
   "source": [
    "Metric = diag(-A_solution, B_solution, r**2, r**2*sin(theta)**2)\n",
    "g = MetricTensor('g', x, Metric)\n",
    "g(All, All)"
   ]
  },
  {
   "cell_type": "markdown",
   "metadata": {},
   "source": [
    "With the Schwarzschild radius\n",
    "$$r_\\mathrm{S} = \\frac{2GM}{c^2},$$\n",
    "our final result for the Schwarzschild line element thus reads\n",
    "$$\\mathrm{d}s^2 = -\\left(1-\\frac{r_\\text{S}}{r}\\right)c^2\\mathrm{d}t^2+\\frac{1}{1-\\frac{r_\\text{S}}{r}}\\mathrm{d}r^2+r^2\\mathrm{d}\\theta^2+r^2\\sin(\\theta)^2\\mathrm{d}\\phi^2.$$\n",
    "The Einstein tensor indeed vanishes as it should:"
   ]
  },
  {
   "cell_type": "code",
   "execution_count": null,
   "metadata": {},
   "outputs": [],
   "source": [
    "Ga = Christoffel('Ga', g)\n",
    "Ric = Ricci('Ric', g)\n",
    "Einst = Einstein('Einst', Ric)\n",
    "Einst(All, All)"
   ]
  },
  {
   "cell_type": "markdown",
   "metadata": {},
   "source": [
    "The Riemann tensor, on the other hand, contains non-vanishing elements. The space-time in the source-free region described by the Schwarzschild metric is thus curved."
   ]
  },
  {
   "cell_type": "code",
   "execution_count": null,
   "metadata": {},
   "outputs": [],
   "source": [
    "Rm = Riemann('Rm', g)\n",
    "Rm(All, All, All, All)"
   ]
  },
  {
   "cell_type": "markdown",
   "metadata": {},
   "source": [
    "The metric in the coordinates chosen here contains two singularities, namely at $r=0$ and $r=r_\\mathrm{S}$. In order to decide which one of those is a real singularity, we determine the Kretschmann invariant\n",
    "$$R_{\\mu\\nu\\rho\\sigma}R^{\\mu\\nu\\rho\\sigma}.$$\n",
    "This quantity is independent of the chose coordinates"
   ]
  },
  {
   "cell_type": "code",
   "execution_count": null,
   "metadata": {},
   "outputs": [],
   "source": [
    "from itertools import product\n",
    "Kretschmann = symbols('Kretschmann')\n",
    "Kretschmann = 0\n",
    "for mu, nu, rho, sigma in product(range(1, 5), repeat=4):\n",
    "    Kretschmann = Kretschmann+Rm(mu, nu, rho, sigma)*Rm(-mu, -nu, -rho, -sigma)\n",
    "simplify(Kretschmann)"
   ]
  },
  {
   "cell_type": "markdown",
   "metadata": {},
   "source": [
    "Indeed, the only singularity of the Schwarzschild metric is found at $r=0$. The singularity at $r_\\mathrm{S}$ can be removed by an appropriate choice of coordinates."
   ]
  }
 ],
 "metadata": {
  "kernelspec": {
   "display_name": "Python 3",
   "language": "python",
   "name": "python3"
  },
  "language_info": {
   "codemirror_mode": {
    "name": "ipython",
    "version": 3
   },
   "file_extension": ".py",
   "mimetype": "text/x-python",
   "name": "python",
   "nbconvert_exporter": "python",
   "pygments_lexer": "ipython3",
   "version": "3.6.9"
  }
 },
 "nbformat": 4,
 "nbformat_minor": 2
}
