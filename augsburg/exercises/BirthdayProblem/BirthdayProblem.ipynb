{
 "cells": [
  {
   "cell_type": "markdown",
   "metadata": {},
   "source": [
    "# Birthday problem"
   ]
  },
  {
   "cell_type": "markdown",
   "metadata": {},
   "source": [
    "The [birthday problem](https://en.wikipedia.org/wiki/Birthday_problem) considers a number of randomly selected persons and asks for the probability that at least two of these persons have their birthday on the same day of the year. For simplicity, we will neglect leap years and therefore assume that each year has 365 days. \n",
    "\n",
    "While there exists an analytical solution to the probability as a function of the number of persons, we want to analyze the problem by means of a simulation drawing birthdays at random."
   ]
  },
  {
   "cell_type": "markdown",
   "metadata": {},
   "source": [
    "In a first step, we consider a random realization of birthdays for a given number of persons. The function ``equal_birthdays`` should create this realization and determine whether among these birthdays at least two of them are equal.\n",
    "\n",
    "Hints:\n",
    "* Find a function provided by the ``random`` module suited for this problem. Remember the ``help`` function which allows to obtain information about modules and functions provided by these modules.\n",
    "* If you need help about how to determine coincidences, you might want to take a look at this [notebook](~ListsAndSets.ipynb)."
   ]
  },
  {
   "cell_type": "code",
   "execution_count": null,
   "metadata": {
    "nbgrader": {
     "grade": false,
     "grade_id": "birthday-single-realization",
     "locked": false,
     "schema_version": 3,
     "solution": true
    }
   },
   "outputs": [],
   "source": [
    "# put import statements here, if needed\n",
    "### BEGIN SOLUTION\n",
    "import random\n",
    "### END SOLUTION\n",
    "\n",
    "def equal_birthdays(npersons):\n",
    "    \"\"\"determine occurrence of equal birthdays\n",
    "\n",
    "       For a given number of persons a random realization\n",
    "       of birthdays is created. The function determines whether\n",
    "       at least two persons have the same birthday.\n",
    "\n",
    "       npersons: number of persons\n",
    "\n",
    "    \"\"\"\n",
    "    ### BEGIN SOLUTION\n",
    "    birthdays = set()\n",
    "    for nperson in range(npersons):\n",
    "        birthdays.add(random.randint(1, 365))\n",
    "        if len(birthdays) != nperson+1:\n",
    "            return True\n",
    "    return False\n",
    "    ### END SOLUTION"
   ]
  },
  {
   "cell_type": "markdown",
   "metadata": {},
   "source": [
    "Executing the following two cells will give you an idea of whether your function works correctly."
   ]
  },
  {
   "cell_type": "code",
   "execution_count": null,
   "metadata": {
    "nbgrader": {
     "grade": true,
     "grade_id": "test-existence-birthday-single-realization",
     "locked": true,
     "points": 1,
     "schema_version": 3,
     "solution": false
    }
   },
   "outputs": [],
   "source": [
    "result = equal_birthdays(2)\n",
    "assert result is not None, 'Does your function return a result?'\n",
    "assert type(result) == type(True), 'The function does not return a boolean value.'"
   ]
  },
  {
   "cell_type": "code",
   "execution_count": null,
   "metadata": {
    "nbgrader": {
     "grade": true,
     "grade_id": "test-correctness-birthday-single-realization",
     "locked": true,
     "points": 2,
     "schema_version": 3,
     "solution": false
    }
   },
   "outputs": [],
   "source": [
    "random.seed(42)\n",
    "equal_birthdays(10)\n",
    "random_number = random.randint(1, 100000)\n",
    "assert random_number != 3479, ('It looks like you are generating twice as many random numbers as needed. '\n",
    "                               'Try to avoid this.')\n",
    "assert random_number == 11396, 'The number of dates generated does not seem to fit the number of persons.'\n",
    "for seed, result in ((42, False), (192347, True)):\n",
    "    random.seed(seed)\n",
    "    assert equal_birthdays(20) == result, 'Your function appears to return an incorrect result.'"
   ]
  },
  {
   "cell_type": "markdown",
   "metadata": {},
   "source": [
    "With the help of the function ``equal_birthdays``, you can now develop a function ``probability_equal_birthdays`` which determines for a given number of realizations the probability that among a given number of persons at least two of them have their birthday on the same day of the year."
   ]
  },
  {
   "cell_type": "code",
   "execution_count": null,
   "metadata": {
    "nbgrader": {
     "grade": false,
     "grade_id": "birthday-multiple-realizations",
     "locked": false,
     "schema_version": 3,
     "solution": true
    }
   },
   "outputs": [],
   "source": [
    "def probability_equal_birthdays(npersons, realizations=10000):\n",
    "    \"\"\"determine probability for equal birthdays\n",
    "\n",
    "       Given a number of persons and of random realizations,\n",
    "       the probability is determined that at least two persons\n",
    "       have the same birthday.\n",
    "\n",
    "       npersons: number of persons\n",
    "       realizations: number of realizations of random ensembles,\n",
    "                 default is 10000\n",
    "\n",
    "    \"\"\"\n",
    "    ### BEGIN SOLUTION\n",
    "    coincidence = 0\n",
    "    for _ in range(realizations):\n",
    "        if equal_birthdays(npersons):\n",
    "            coincidence = coincidence+1\n",
    "    return coincidence/realizations\n",
    "    ### END SOLUTION"
   ]
  },
  {
   "cell_type": "markdown",
   "metadata": {},
   "source": [
    "Execute the following two cells to check the correctness of your function. Note though, that you should not only rely on these tests. One possibility for additional checks is to compare the results obtained from your function with the probabilities listed on this [Wikipedia page](https://en.wikipedia.org/wiki/Birthday_problem). Such a comparison can also be done using the optional argument of the function ``plot`` in the next task. In addition, you might want to take a look at how the results depend on the number of realizations."
   ]
  },
  {
   "cell_type": "code",
   "execution_count": null,
   "metadata": {
    "nbgrader": {
     "grade": true,
     "grade_id": "test-existence-birthday-multiple-realizations",
     "locked": true,
     "points": 1,
     "schema_version": 3,
     "solution": false
    }
   },
   "outputs": [],
   "source": [
    "result = probability_equal_birthdays(2, 20)\n",
    "assert result is not None, 'Does your function return a result?'\n",
    "assert type(result) == type(1.), 'The function does not return a float.'"
   ]
  },
  {
   "cell_type": "code",
   "execution_count": null,
   "metadata": {
    "nbgrader": {
     "grade": true,
     "grade_id": "test-correctness-birthday-multiple-realizations",
     "locked": true,
     "points": 2,
     "schema_version": 3,
     "solution": false
    }
   },
   "outputs": [],
   "source": [
    "for npersons, result in ((10, 0.116948), (20, 0.411438), (30, 0.706316)):\n",
    "    assert abs(probability_equal_birthdays(npersons, 100000)-result) < 0.01, (\n",
    "        'Your function appears to return an incorrect result.')"
   ]
  },
  {
   "cell_type": "markdown",
   "metadata": {},
   "source": [
    "Finally, you should determine the probability for the occurrence of birthday coincidences as a function of the number of persons considered. Choose a reasonable upper limit for the number of persons to avoid unnecessarily long compute times.\n",
    "\n",
    "Your code should produce a list of tuples where each tuple contains two values, namely the number of persons and the corresponding probability. Giving this list of tuples as first argument to the provided function ``plot`` will generate a graphical representation.\n",
    "\n",
    "The function ``plot`` accepts as an optional second argument a list of numbers of persons. For these numbers, the analytically obtained probability will be displayed as a red point, allowing you to compare the result of your simulation with the exact result."
   ]
  },
  {
   "cell_type": "code",
   "execution_count": null,
   "metadata": {
    "nbgrader": {
     "grade": true,
     "grade_id": "birthday-problem",
     "locked": false,
     "points": 2,
     "schema_version": 3,
     "solution": true
    }
   },
   "outputs": [],
   "source": [
    "%matplotlib inline\n",
    "from math import factorial\n",
    "import matplotlib.pyplot as plt\n",
    "\n",
    "def analytical_probability(n):\n",
    "    return factorial(365)/(365**n*factorial(365-n))\n",
    "\n",
    "def plot(data, nlist=None):\n",
    "    \"\"\"plot a curve from a list of tuples\n",
    "\n",
    "       data:  list of tuples (x, y)\n",
    "       nlist: list of numbers of persons for which the\n",
    "              analytical solution will be displayed\n",
    "\n",
    "    \"\"\"\n",
    "    if nlist is not None:\n",
    "        plt.plot(nlist, [1-analytical_probability(n) for n in nlist], 'ro')\n",
    "    plt.plot(*list(zip(*data)))\n",
    "    plt.show()\n",
    "\n",
    "### BEGIN SOLUTION\n",
    "coincidencelist = []\n",
    "for npersons in range(2, 60,4):\n",
    "    coincidencelist.append((npersons, probability_equal_birthdays(npersons)))\n",
    "### END SOLUTION\n",
    "plot(coincidencelist,[10,20,30,40,50])"
   ]
  },
  {
   "cell_type": "markdown",
   "metadata": {},
   "source": [
    "If you would like to zoom into the figure to determine where a threshold of 50% is reached, try replacing in the above code cell ``%matplotlib inline`` by ``%matplotlib notebook``. If the figure does not display properly, try restarting the kernel in the dashboard and run all code cells. In the icons below the figure, click on the fifth icon from the left. You can then choose an area of the figure which will be magnified."
   ]
  },
  {
   "cell_type": "markdown",
   "metadata": {},
   "source": [
    "And do not forget to save your work..."
   ]
  }
 ],
 "metadata": {
  "kernelspec": {
   "display_name": "Python 3",
   "language": "python",
   "name": "python3"
  },
  "language_info": {
   "codemirror_mode": {
    "name": "ipython",
    "version": 3
   },
   "file_extension": ".py",
   "mimetype": "text/x-python",
   "name": "python",
   "nbconvert_exporter": "python",
   "pygments_lexer": "ipython3",
   "version": "3.7.3"
  },
  "nbTranslate": {
   "displayLangs": [
    "en",
    "pl"
   ],
   "hotkey": "alt-t",
   "langInMainMenu": true,
   "sourceLang": "pl",
   "targetLang": "en",
   "useGoogleTranslate": true
  }
 },
 "nbformat": 4,
 "nbformat_minor": 2
}
