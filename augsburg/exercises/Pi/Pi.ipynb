{
 "cells": [
  {
   "cell_type": "markdown",
   "metadata": {},
   "source": [
    "# $\\pi$ by means of the arithmetic-geometric mean"
   ]
  },
  {
   "cell_type": "markdown",
   "metadata": {},
   "source": [
    "The mathematical constant $\\pi$ can be determined by means of the arithmetic-geometric mean as demonstrated in [E. Salamin, Math. Comp. **30**, 565 (1976)](https://doi.org/10.2307%2F2005327). Theorem 1b in that paper states that\n",
    "$$\\pi = \\frac{4[\\mathrm{agm}(1, 2^{-1/2})]^2}{ 1-\\sum_{n=1}^\\infty 2^{n+1}c_n^2}\\,.$$\n",
    "To introduce the arithmetic-geometric mean $\\mathrm{agm}(a, b)$ of $a$ and $b$ and the numbers $c_n$ appearing in this relation, we consider the recursion\n",
    "$$a_{n+1} = \\frac{a_n+b_n}{2}\\,,\\quad b_{n+1} = \\sqrt{a_{n}b_{n}}$$\n",
    "with the initial values $a_0=a, b_0=b$. For $n\\rightarrow\\infty$, $a_n$ and $b_n$ converge to the same number, the arithmetic-geometric mean of $a$ and $b$. Furthermore, we define\n",
    "$$c_n^2=a_n^2-b_n^2\\,.$$\n",
    "\n",
    "In a first step, an implementation of this prescription using floats shall be developed. In this way, we will familiarize ourselves with the computation of $\\pi$ by means of the arithmetic-geometric mean. Ideally, the iteration is carried out until $c_n$ becomes zero. However, rounding errors might prevent the series $(a_n, b_n)$ reach a point where $a_n=b_n$ within floating point precision.\n",
    "\n",
    "In a second step, the calculation should be done by means of integers thus taking advantage of the fact that in Python integers can become sufficiently large. This approach will allow us to determine $\\pi$ to a large number of digits."
   ]
  },
  {
   "cell_type": "markdown",
   "metadata": {},
   "source": [
    "## Part 1: Implementation with floats"
   ]
  },
  {
   "cell_type": "markdown",
   "metadata": {},
   "source": [
    "Let us start by getting acquainted with the arithmetic-geometric mean. Implement a function which takes $a_n$ and $b_n$ as arguments and returns $a_{n+1}$, $b_{n+1}$, as well as $a_{n+1}^2-b_{n+1}^2$."
   ]
  },
  {
   "cell_type": "code",
   "execution_count": null,
   "metadata": {
    "nbgrader": {
     "grade": false,
     "grade_id": "agm-iteration",
     "locked": false,
     "schema_version": 3,
     "solution": true
    }
   },
   "outputs": [],
   "source": [
    "# if needed, modules should be imported before functions are defined\n",
    "# BEGIN SOLUTION\n",
    "from math import sqrt\n",
    "# END SOLUTION\n",
    "\n",
    "def agm_iteration(a, b):\n",
    "    \"\"\"perform one arithmetic-geometric iteration\n",
    "    \n",
    "       This function takes two floats a and b as\n",
    "       a_n and b_n and returns a_{n+1}, b_{n+1},\n",
    "       and the difference of their squares.\n",
    "    \"\"\"\n",
    "    # BEGIN SOLUTION\n",
    "    a, b = (a+b)/2, sqrt(a*b)\n",
    "    c2 = a*a-b*b\n",
    "    return a, b, c2\n",
    "    # END SOLUTION\n",
    "    "
   ]
  },
  {
   "cell_type": "markdown",
   "metadata": {},
   "source": [
    "Execute the following two cells to test your code."
   ]
  },
  {
   "cell_type": "code",
   "execution_count": null,
   "metadata": {
    "nbgrader": {
     "grade": true,
     "grade_id": "test-existence-agm-iteration",
     "locked": true,
     "points": 1,
     "schema_version": 3,
     "solution": false
    }
   },
   "outputs": [],
   "source": [
    "try:\n",
    "    agm_iteration(1, 1)\n",
    "except NameError as e:\n",
    "    if 'sqrt' in repr(e):\n",
    "        raise AssertionError('Did you forget to import a required module?')\n",
    "assert agm_iteration(1, 1) is not None, 'Did you return a result?'\n",
    "assert len(agm_iteration(1, 1)) == 3, 'It seems that you are not returning three values.'"
   ]
  },
  {
   "cell_type": "code",
   "execution_count": null,
   "metadata": {
    "nbgrader": {
     "grade": true,
     "grade_id": "test-correctness-agm-iteration",
     "locked": true,
     "points": 2,
     "schema_version": 3,
     "solution": false
    }
   },
   "outputs": [],
   "source": [
    "import random\n",
    "from math import sqrt\n",
    "x = random.random()\n",
    "assert agm_iteration(x, x) == (x, x, 0), 'There is a problem even for the trivial case of equal arguments.'\n",
    "assert agm_iteration(x, 0) == (0.5*x, 0, 0.25*x**2), 'There is a problem if one of the arguments is zero.'\n",
    "y = random.random()\n",
    "assert agm_iteration(x, y)[1] != sqrt(0.5*(x+y)*y), ('Make sure that you do not accidentally change the '\n",
    "                                                     'variable a before you evaluate the square root.')\n",
    "assert agm_iteration(x, y)[:-1] == (0.5*(x+y), sqrt(x*y)), 'There is an error in the new values of a and b.'\n",
    "assert abs(agm_iteration(x, y)[2]-0.25*(x-y)**2) < 1e-14, 'The difference of the squares is not correct.'"
   ]
  },
  {
   "cell_type": "markdown",
   "metadata": {},
   "source": [
    "Now, you can determine $\\pi$ by means of the arithmetic-geometric mean. Since at this point floats are used, rounding errors will prevent you from obtaining the optimal result. You should aim for an relative error with respect to the correct result smaller than $2\\cdot10^{-14}$."
   ]
  },
  {
   "cell_type": "code",
   "execution_count": null,
   "metadata": {
    "nbgrader": {
     "grade": false,
     "grade_id": "pi-agm-float",
     "locked": false,
     "schema_version": 3,
     "solution": true
    }
   },
   "outputs": [],
   "source": [
    "# if needed, modules should be imported before functions are defined\n",
    "# BEGIN SOLUTION\n",
    "from math import sqrt\n",
    "# END SOLUTION\n",
    "\n",
    "def pi_agm_float():\n",
    "    \"\"\"determine pi by means of the arithmetic-geometric mean\n",
    "    \n",
    "    \"\"\"\n",
    "    # BEGIN SOLUTION\n",
    "    a = 1\n",
    "    b = 1/sqrt(2)\n",
    "    c_sum = 0\n",
    "    faktor_two = 2\n",
    "    c2 = 1\n",
    "\n",
    "    while c2 > 1e-15:\n",
    "        a, b = (a+b)/2, sqrt(a*b)\n",
    "        c2 = a*a-b*b\n",
    "        faktor_two = faktor_two*2\n",
    "        c_sum = c_sum+faktor_two*c2\n",
    "\n",
    "    return 4*a**2/(1-c_sum)\n",
    "    # END SOLUTION"
   ]
  },
  {
   "cell_type": "markdown",
   "metadata": {},
   "source": [
    "By executing the following two cells, you can verify that your code runs correctly."
   ]
  },
  {
   "cell_type": "code",
   "execution_count": null,
   "metadata": {
    "nbgrader": {
     "grade": true,
     "grade_id": "test-existence-pi-float",
     "locked": true,
     "points": 1,
     "schema_version": 3,
     "solution": false
    }
   },
   "outputs": [],
   "source": [
    "try:\n",
    "    result = pi_agm_float()\n",
    "except NameError as e:\n",
    "    if 'sqrt' in repr(e):\n",
    "        raise AssertionError('Did you forget to import a required module?')\n",
    "assert result is not None, 'Did you return a result?'\n",
    "assert type(result) == type(1.), 'The result should be a float.'"
   ]
  },
  {
   "cell_type": "code",
   "execution_count": null,
   "metadata": {
    "nbgrader": {
     "grade": true,
     "grade_id": "test-correctness-pi-float",
     "locked": true,
     "points": 2,
     "schema_version": 3,
     "solution": false
    }
   },
   "outputs": [],
   "source": [
    "from math import pi\n",
    "result = pi_agm_float()\n",
    "relerror = abs(result-pi)/pi\n",
    "assert relerror <= 2e-14, 'The relative error {:.3g} is larger than allowed.'.format(relerror)\n",
    "assert relerror != 0., 'Did you simply return the value of π from the math module?'"
   ]
  },
  {
   "cell_type": "markdown",
   "metadata": {},
   "source": [
    "## Part 2: Implementation with integers"
   ]
  },
  {
   "cell_type": "markdown",
   "metadata": {},
   "source": [
    "A much higher precision can be achieved by doing the complete calculation in integer arithmetic after expanding the fraction by a more or less large power of ten.\n",
    "\n",
    "As a first step, we need to be able to determine the square root of a large integer. Explain why the `sqrt`-function of the `math`-module cannot be used to take the square root of a large integer. Enter your answer in the cell below. *Hint*: If you do not know what could be going wrong, try to apply the `sqrt`-function to a really large integer."
   ]
  },
  {
   "cell_type": "markdown",
   "metadata": {
    "nbgrader": {
     "grade": true,
     "grade_id": "sqrt-float-int",
     "locked": false,
     "points": 1,
     "schema_version": 3,
     "solution": true
    }
   },
   "source": [
    "`sqrt` will first try to convert the integer argument into a float. This attempt will fail if the integer is larger than the largest possible float."
   ]
  },
  {
   "cell_type": "markdown",
   "metadata": {},
   "source": [
    "A straightforward way to take the square root of an arbitrary integer is by means of [Newton's method](https://en.wikipedia.org/wiki/Newton%27s_method). Implement the corresponding algorithm."
   ]
  },
  {
   "cell_type": "code",
   "execution_count": null,
   "metadata": {
    "nbgrader": {
     "grade": false,
     "grade_id": "int-sqrt",
     "locked": false,
     "schema_version": 3,
     "solution": true
    }
   },
   "outputs": [],
   "source": [
    "def int_sqrt(n2, n0):\n",
    "    \"\"\"determine square root of the integer n2\n",
    "    \n",
    "       Newton's method is used to determine the square root\n",
    "       of n2 starting from the initial integer n0. An initial\n",
    "       value n0 smaller than 1 will be replaced by 1 in order\n",
    "       to avoid a possible division by zero.\n",
    "    \"\"\"\n",
    "    ### BEGIN SOLUTION\n",
    "    n = max(n0, 1)\n",
    "    n_old = 0\n",
    "    while n != n_old:\n",
    "        n_old = n\n",
    "        n = (n*n+n2)//(2*n)\n",
    "    return n\n",
    "    ### END SOLUTION"
   ]
  },
  {
   "cell_type": "markdown",
   "metadata": {},
   "source": [
    "Check the correctness of your implementation by integers of your own choice and by executing the following two cells."
   ]
  },
  {
   "cell_type": "code",
   "execution_count": null,
   "metadata": {
    "nbgrader": {
     "grade": true,
     "grade_id": "test-existence-int-sqrt",
     "locked": true,
     "points": 1,
     "schema_version": 3,
     "solution": false
    }
   },
   "outputs": [],
   "source": [
    "result = int_sqrt(4, 1)\n",
    "assert result is not None, 'Did you return a result?'\n",
    "assert type(result) == type(1), 'The result should be an integer.'"
   ]
  },
  {
   "cell_type": "code",
   "execution_count": null,
   "metadata": {
    "nbgrader": {
     "grade": true,
     "grade_id": "test-correctness-int-sqrt",
     "locked": true,
     "points": 2,
     "schema_version": 3,
     "solution": false
    }
   },
   "outputs": [],
   "source": [
    "from random import randrange\n",
    "n = randrange(10**800, 10**801)\n",
    "assert int_sqrt(n*n, 1) == n, 'The square root of\\n{}\\nis\\n{}\\nbut a different result was found.'.format(n*n, n)\n",
    "n = 2*10**800\n",
    "result = int_sqrt(n, 1)\n",
    "assert abs(result**2-n) <= 2*result+1, 'The integer square root of 2*10**200 is not found correctly.'"
   ]
  },
  {
   "cell_type": "markdown",
   "metadata": {},
   "source": [
    "In order to reduce the compute time, the choice of a good initial value `n0` is important. For this purpose, the `sqrt`-function from the `math`-module can be useful. In order to be able to handle even very large integers, approximate the integer by an integer containing the first 12 or 13 digits multiplied with an even power of 10. The square root of the first factor can then be determined by means of the `sqrt`-function while the square root of the second factor is obtained trivially.\n",
    "\n",
    "Implementing this idea requires to determine the number of digits of an integer and to determine its first 12 or 13 digits. To this end, it is useful to first convert the integer into a string. If you need help, take a look at [Integer as String](~IntegerAsString.ipynb)."
   ]
  },
  {
   "cell_type": "code",
   "execution_count": null,
   "metadata": {
    "nbgrader": {
     "grade": false,
     "grade_id": "sqrt-initial",
     "locked": false,
     "schema_version": 3,
     "solution": true
    }
   },
   "outputs": [],
   "source": [
    "# imports should come before the function definitions\n",
    "### BEGIN SOLUTION\n",
    "from math import sqrt\n",
    "### END SOLUTION\n",
    "\n",
    "def sqrt_initial(n2):\n",
    "    \"\"\"determine an approximate value for the square root of n2\n",
    "    \n",
    "       This function uses math.sqrt on the first 12 or 13 digits\n",
    "       of n2 for an even or odd number of digits of n2, respectively,\n",
    "       to obtain an integer approximation for the square root of n2.\n",
    "       The result can serve as an input for determining the square root\n",
    "       of an integer by means of Newton's method.\n",
    "    \n",
    "    \"\"\"\n",
    "    ### BEGIN SOLUTION\n",
    "    n2_str = str(n2)\n",
    "    nrdigits = len(n2_str)\n",
    "    keepdigits = 12 + (nrdigits % 2)\n",
    "    if keepdigits > nrdigits:\n",
    "        return int(sqrt(n2))\n",
    "    leadingdigits = n2_str[:keepdigits]\n",
    "    lead_sqrt_estimate = sqrt(float(leadingdigits))\n",
    "    return int(lead_sqrt_estimate)*10**((nrdigits-keepdigits)//2)\n",
    "    ### END SOLUTION"
   ]
  },
  {
   "cell_type": "code",
   "execution_count": null,
   "metadata": {
    "nbgrader": {
     "grade": true,
     "grade_id": "test-existence-sqrt-initial",
     "locked": true,
     "points": 1,
     "schema_version": 3,
     "solution": false
    }
   },
   "outputs": [],
   "source": [
    "n2 = 12345678901234567890\n",
    "result = sqrt_initial(n2)\n",
    "assert result is not None, 'Did you return a result?'\n",
    "assert isinstance(result, int), 'The result should be an integer.'"
   ]
  },
  {
   "cell_type": "code",
   "execution_count": null,
   "metadata": {
    "nbgrader": {
     "grade": true,
     "grade_id": "test-correctness-sqrt-initial",
     "locked": true,
     "points": 2,
     "schema_version": 3,
     "solution": false
    }
   },
   "outputs": [],
   "source": [
    "from random import randrange\n",
    "for exponent in range(20, 801):\n",
    "    for _ in range(10):\n",
    "        n = randrange(10**exponent, 10**(exponent+1))\n",
    "        result = sqrt_initial(n*n)\n",
    "        assert abs(n-result) < max(1, result//10**5), ('The estimate is too bad.\\n'\n",
    "            'expected value: {}\\nestimate: {}'.format(n, result))"
   ]
  },
  {
   "cell_type": "code",
   "execution_count": null,
   "metadata": {
    "nbgrader": {
     "grade": true,
     "grade_id": "test-correctness-sqrt-initial-small-values",
     "locked": true,
     "points": 1,
     "schema_version": 3,
     "solution": false
    }
   },
   "outputs": [],
   "source": [
    "assert sqrt_initial(200) == 14, 'There seems to be a problem for small arguments like n2=200.'"
   ]
  },
  {
   "cell_type": "markdown",
   "metadata": {},
   "source": [
    "Now, we are in a position to replace the implementation of the arithmetic-geometric mean for floats by a corresponding version for integers."
   ]
  },
  {
   "cell_type": "code",
   "execution_count": null,
   "metadata": {
    "nbgrader": {
     "grade": false,
     "grade_id": "int-agm-iteration",
     "locked": false,
     "schema_version": 3,
     "solution": true
    }
   },
   "outputs": [],
   "source": [
    "def int_agm_iteration(a, b):\n",
    "    \"\"\"perform one arithmetic-geometric iteration for\n",
    "       a pair of integers\n",
    "    \n",
    "       This function takes two integers a and b as\n",
    "       a_n and b_n and returns a_{n+1}, b_{n+1},\n",
    "       and the difference of their squares.\n",
    "    \"\"\"\n",
    "    # BEGIN SOLUTION\n",
    "    a, b = (a+b)//2, int_sqrt(a*b, sqrt_initial(a*b))\n",
    "    c2 = a*a-b*b\n",
    "    return a, b, c2\n",
    "    # END SOLUTION"
   ]
  },
  {
   "cell_type": "code",
   "execution_count": null,
   "metadata": {
    "nbgrader": {
     "grade": true,
     "grade_id": "test-existence-int-agm-iteration",
     "locked": true,
     "points": 1,
     "schema_version": 3,
     "solution": false
    }
   },
   "outputs": [],
   "source": [
    "result = int_agm_iteration(1, 1)\n",
    "assert result is not None, 'Did you return a result?'\n",
    "assert len(result) == 3, 'It seems that you are not returning three values.'\n",
    "assert all(type(x) == type(1) for x in result), 'It seems that not all of your return values are integers.'"
   ]
  },
  {
   "cell_type": "code",
   "execution_count": null,
   "metadata": {
    "nbgrader": {
     "grade": true,
     "grade_id": "test-correctness-int-agm-iteration",
     "locked": true,
     "points": 2,
     "schema_version": 3,
     "solution": false
    }
   },
   "outputs": [],
   "source": [
    "import random\n",
    "x = random.randrange(10**50, 10**52)\n",
    "assert int_agm_iteration(x, x) == (x, x, 0), 'There is a problem even for the trivial case of equal arguments.'\n",
    "y = random.randrange(10**50, 10**52)\n",
    "result = int_agm_iteration(x, y)\n",
    "assert result[0] == (x+y)//2, 'The arithmetic mean of a and b is not correct.'\n",
    "assert abs(result[1]**2-x*y) < 2*x*y+1, 'The geometric mean of a and b is not correct.'\n",
    "assert result[0]**2-result[1]**2 == result[2], 'The difference of the squares of a and b is not correct.'"
   ]
  },
  {
   "cell_type": "markdown",
   "metadata": {},
   "source": [
    "With the functions developed so far, write a function which determines $\\pi$ to a large number of digits, for example 1000 or even more digits. It is sufficient, if you produce an integer starting with `314...`. There is no need to generate an output with a decimal comma simulating a float result."
   ]
  },
  {
   "cell_type": "code",
   "execution_count": null,
   "metadata": {
    "nbgrader": {
     "grade": false,
     "grade_id": "pi-agm-int",
     "locked": false,
     "schema_version": 3,
     "solution": true
    }
   },
   "outputs": [],
   "source": [
    "def pi_agm_int(scale):\n",
    "    \"\"\"determine pi by means of the arithmetic-geometric mean\n",
    "       using integer arithmetic after expanding the fraction by\n",
    "       scale**2\n",
    "       \n",
    "       scale: numerator and denominator are expanded by the\n",
    "              square of this parameter, typically a power of ten\n",
    "    \"\"\"\n",
    "    ### BEGIN SOLUTION\n",
    "    a = scale\n",
    "    halfscaled = scale**2//2\n",
    "    b = int_sqrt(halfscaled, sqrt_initial(halfscaled))\n",
    "    denominator = scale**2\n",
    "    factor_two = 2\n",
    "    while a != b:\n",
    "        a, b, c2 = int_agm_iteration(a, b)\n",
    "        factor_two = 2*factor_two\n",
    "        denominator = denominator-factor_two*c2\n",
    "    numerator = 4*a**2\n",
    "    return numerator*scale//denominator\n",
    "    ### END SOLUTION   "
   ]
  },
  {
   "cell_type": "code",
   "execution_count": null,
   "metadata": {
    "nbgrader": {
     "grade": true,
     "grade_id": "test-existence-pi-agm-int",
     "locked": true,
     "points": 0,
     "schema_version": 3,
     "solution": false
    }
   },
   "outputs": [],
   "source": [
    "result = pi_agm_int(10**10)\n",
    "assert result is not None, 'Did you return a result'\n",
    "assert type(result) == type(1), 'The result should be an integer'"
   ]
  },
  {
   "cell_type": "code",
   "execution_count": null,
   "metadata": {
    "nbgrader": {
     "grade": true,
     "grade_id": "test-correctness-pi-agm-int",
     "locked": true,
     "points": 0,
     "schema_version": 3,
     "solution": false
    }
   },
   "outputs": [],
   "source": [
    "result = str(pi_agm_int(10**1000))\n",
    "assert result.startswith('3'), 'The result does not start with 3.'\n",
    "assert result[92:94] == '42', 'The digits at positions 92 and 93 after the comma are incorrect.'\n",
    "assert result[854:858] == '1000', 'The digits at positions 854 to 857 after the comma are incorrect.'"
   ]
  },
  {
   "cell_type": "markdown",
   "metadata": {},
   "source": [
    "Suggestion for further work:\n",
    "* Use the result returned by `pi_agm_int` to produce a nice output of the form   \n",
    "  π=3.141... (continuing with the digits which you have obtained)\n",
    "* As an alternative, write a function which divides two large integers and produces $\\pi$ as a float number digit by digit.\n",
    "* Write a function to search for digit patterns in $\\pi$."
   ]
  }
 ],
 "metadata": {
  "celltoolbar": "Create Assignment",
  "kernelspec": {
   "display_name": "Python 3",
   "language": "python",
   "name": "python3"
  },
  "language_info": {
   "codemirror_mode": {
    "name": "ipython",
    "version": 3
   },
   "file_extension": ".py",
   "mimetype": "text/x-python",
   "name": "python",
   "nbconvert_exporter": "python",
   "pygments_lexer": "ipython3",
   "version": "3.7.3"
  }
 },
 "nbformat": 4,
 "nbformat_minor": 2
}
