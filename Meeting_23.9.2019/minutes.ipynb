{
 "cells": [
  {
   "cell_type": "markdown",
   "metadata": {},
   "source": [
    "# Minutes during last meeting \n",
    "\n",
    "## Paper\n",
    "\n",
    "**Jupyter notebook - experience in teaching,  experiences and practice**\n",
    "\n",
    "Abstract - \n",
    "\n",
    "\n",
    "\n",
    "Novelity:\n",
    "\n",
    " - an experiment was set - use Jupyter in 3 different institutions to collect experiences in 2 years\n",
    " - collaboration across borders -> how different countries/envs accept/like novelity novel tools etc.\n",
    " - obser of Jupyter adoption in different phases at the same time \n",
    " - different ways of teaching - Gert was  sitting next to students \n",
    " - TDD in edu\n",
    "\n",
    "### what is interesting in this paper?\n",
    "\n",
    " - teachers can learn what to think on beforehand\n",
    " - \n",
    "\n",
    "### Intro \n",
    "\n",
    "general remarks on bringing modern tech into education\n",
    "\n",
    "Teachers of old era meet studetns of new era \n",
    "\n",
    "Jupyter \n",
    "\n",
    "- use case scanario:\n",
    "\n",
    "  - intro to AI (US), \n",
    "  - problems are as autograded notebooks  - nbgrader \n",
    "\n",
    "\n",
    "\n",
    "### use of nbgrader \n",
    "\n",
    " - details on tests and problems \n",
    " - all  tricks we used \n",
    " - experience of users \n",
    " - lessons learned\n",
    " \n",
    "### conclusions\n",
    "\n",
    "one step at a time \n",
    " \n",
    "### references\n",
    "\n",
    "- nbgrader paper [10.21105/jose.00032] JOSET"
   ]
  },
  {
   "cell_type": "code",
   "execution_count": null,
   "metadata": {},
   "outputs": [],
   "source": []
  }
 ],
 "metadata": {
  "kernelspec": {
   "display_name": "Python 3",
   "language": "python",
   "name": "python3"
  },
  "language_info": {
   "codemirror_mode": {
    "name": "ipython",
    "version": 3
   },
   "file_extension": ".py",
   "mimetype": "text/x-python",
   "name": "python",
   "nbconvert_exporter": "python",
   "pygments_lexer": "ipython3",
   "version": "3.7.3"
  },
  "nbTranslate": {
   "displayLangs": [
    "en",
    "pl"
   ],
   "hotkey": "alt-t",
   "langInMainMenu": true,
   "sourceLang": "pl",
   "targetLang": "en",
   "useGoogleTranslate": true
  }
 },
 "nbformat": 4,
 "nbformat_minor": 2
}
